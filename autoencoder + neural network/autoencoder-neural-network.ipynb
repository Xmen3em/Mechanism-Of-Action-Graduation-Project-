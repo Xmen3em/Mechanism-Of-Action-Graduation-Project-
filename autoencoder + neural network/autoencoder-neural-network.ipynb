{
 "cells": [
  {
   "cell_type": "code",
   "execution_count": 1,
   "id": "fefe7b3c",
   "metadata": {
    "execution": {
     "iopub.execute_input": "2024-05-20T19:32:49.107936Z",
     "iopub.status.busy": "2024-05-20T19:32:49.106978Z",
     "iopub.status.idle": "2024-05-20T19:33:03.519066Z",
     "shell.execute_reply": "2024-05-20T19:33:03.517537Z"
    },
    "papermill": {
     "duration": 14.42432,
     "end_time": "2024-05-20T19:33:03.522899",
     "exception": false,
     "start_time": "2024-05-20T19:32:49.098579",
     "status": "completed"
    },
    "tags": []
   },
   "outputs": [
    {
     "name": "stderr",
     "output_type": "stream",
     "text": [
      "2024-05-20 19:32:52.848925: E external/local_xla/xla/stream_executor/cuda/cuda_dnn.cc:9261] Unable to register cuDNN factory: Attempting to register factory for plugin cuDNN when one has already been registered\n",
      "2024-05-20 19:32:52.849030: E external/local_xla/xla/stream_executor/cuda/cuda_fft.cc:607] Unable to register cuFFT factory: Attempting to register factory for plugin cuFFT when one has already been registered\n",
      "2024-05-20 19:32:52.976969: E external/local_xla/xla/stream_executor/cuda/cuda_blas.cc:1515] Unable to register cuBLAS factory: Attempting to register factory for plugin cuBLAS when one has already been registered\n"
     ]
    }
   ],
   "source": [
    "# import important libraries\n",
    "import matplotlib.pyplot as plt\n",
    "import pandas as pd\n",
    "import numpy as np\n",
    "from sklearn.model_selection import train_test_split\n",
    "from sklearn.model_selection import StratifiedKFold, KFold\n",
    "from sklearn import preprocessing\n",
    "from sklearn.metrics import confusion_matrix, mean_squared_error\n",
    "import tensorflow as tf\n",
    "from tensorflow.keras import layers, regularizers, Sequential,backend, callbacks, optimizers ,metrics, Model, losses\n",
    "from tensorflow.keras.layers import Dense, Activation, Input, BatchNormalization\n",
    "from sklearn.decomposition import PCA\n",
    "from sklearn.metrics import log_loss\n",
    "from skmultilearn.model_selection import IterativeStratification"
   ]
  },
  {
   "cell_type": "code",
   "execution_count": 2,
   "id": "fd713da8",
   "metadata": {
    "execution": {
     "iopub.execute_input": "2024-05-20T19:33:03.545458Z",
     "iopub.status.busy": "2024-05-20T19:33:03.544381Z",
     "iopub.status.idle": "2024-05-20T19:33:10.920694Z",
     "shell.execute_reply": "2024-05-20T19:33:10.919509Z"
    },
    "papermill": {
     "duration": 7.38979,
     "end_time": "2024-05-20T19:33:10.923519",
     "exception": false,
     "start_time": "2024-05-20T19:33:03.533729",
     "status": "completed"
    },
    "tags": []
   },
   "outputs": [],
   "source": [
    "# importing data\n",
    "train_features = pd.read_csv('/kaggle/input/lish-moa/train_features.csv')\n",
    "train_target_scored = pd.read_csv('/kaggle/input/lish-moa/train_targets_scored.csv')\n",
    "test_features = pd.read_csv('/kaggle/input/lish-moa/test_features.csv')"
   ]
  },
  {
   "cell_type": "code",
   "execution_count": 3,
   "id": "00f4bbbe",
   "metadata": {
    "execution": {
     "iopub.execute_input": "2024-05-20T19:33:10.938902Z",
     "iopub.status.busy": "2024-05-20T19:33:10.938536Z",
     "iopub.status.idle": "2024-05-20T19:33:10.982688Z",
     "shell.execute_reply": "2024-05-20T19:33:10.981747Z"
    },
    "papermill": {
     "duration": 0.053959,
     "end_time": "2024-05-20T19:33:10.985051",
     "exception": false,
     "start_time": "2024-05-20T19:33:10.931092",
     "status": "completed"
    },
    "tags": []
   },
   "outputs": [
    {
     "data": {
      "text/html": [
       "<div>\n",
       "<style scoped>\n",
       "    .dataframe tbody tr th:only-of-type {\n",
       "        vertical-align: middle;\n",
       "    }\n",
       "\n",
       "    .dataframe tbody tr th {\n",
       "        vertical-align: top;\n",
       "    }\n",
       "\n",
       "    .dataframe thead th {\n",
       "        text-align: right;\n",
       "    }\n",
       "</style>\n",
       "<table border=\"1\" class=\"dataframe\">\n",
       "  <thead>\n",
       "    <tr style=\"text-align: right;\">\n",
       "      <th></th>\n",
       "      <th>sig_id</th>\n",
       "      <th>cp_type</th>\n",
       "      <th>cp_time</th>\n",
       "      <th>cp_dose</th>\n",
       "      <th>g-0</th>\n",
       "      <th>g-1</th>\n",
       "      <th>g-2</th>\n",
       "      <th>g-3</th>\n",
       "      <th>g-4</th>\n",
       "      <th>g-5</th>\n",
       "      <th>...</th>\n",
       "      <th>c-90</th>\n",
       "      <th>c-91</th>\n",
       "      <th>c-92</th>\n",
       "      <th>c-93</th>\n",
       "      <th>c-94</th>\n",
       "      <th>c-95</th>\n",
       "      <th>c-96</th>\n",
       "      <th>c-97</th>\n",
       "      <th>c-98</th>\n",
       "      <th>c-99</th>\n",
       "    </tr>\n",
       "  </thead>\n",
       "  <tbody>\n",
       "    <tr>\n",
       "      <th>18029</th>\n",
       "      <td>id_c19435749</td>\n",
       "      <td>trt_cp</td>\n",
       "      <td>24</td>\n",
       "      <td>D2</td>\n",
       "      <td>0.5947</td>\n",
       "      <td>-0.5885</td>\n",
       "      <td>-0.4679</td>\n",
       "      <td>-0.1869</td>\n",
       "      <td>0.2049</td>\n",
       "      <td>0.8321</td>\n",
       "      <td>...</td>\n",
       "      <td>0.5759</td>\n",
       "      <td>0.1261</td>\n",
       "      <td>0.5654</td>\n",
       "      <td>0.4161</td>\n",
       "      <td>-1.5890</td>\n",
       "      <td>-0.1461</td>\n",
       "      <td>0.7328</td>\n",
       "      <td>0.0347</td>\n",
       "      <td>0.3470</td>\n",
       "      <td>-0.7548</td>\n",
       "    </tr>\n",
       "    <tr>\n",
       "      <th>18759</th>\n",
       "      <td>id_c97cbb590</td>\n",
       "      <td>trt_cp</td>\n",
       "      <td>48</td>\n",
       "      <td>D2</td>\n",
       "      <td>1.0200</td>\n",
       "      <td>0.0414</td>\n",
       "      <td>-0.0010</td>\n",
       "      <td>-0.0634</td>\n",
       "      <td>-0.2308</td>\n",
       "      <td>1.6140</td>\n",
       "      <td>...</td>\n",
       "      <td>0.0769</td>\n",
       "      <td>-0.8892</td>\n",
       "      <td>-0.1525</td>\n",
       "      <td>-1.1070</td>\n",
       "      <td>-0.0811</td>\n",
       "      <td>-1.1410</td>\n",
       "      <td>0.4018</td>\n",
       "      <td>-0.3446</td>\n",
       "      <td>-2.4990</td>\n",
       "      <td>0.3081</td>\n",
       "    </tr>\n",
       "    <tr>\n",
       "      <th>19135</th>\n",
       "      <td>id_cd7494101</td>\n",
       "      <td>trt_cp</td>\n",
       "      <td>24</td>\n",
       "      <td>D1</td>\n",
       "      <td>1.9250</td>\n",
       "      <td>1.6250</td>\n",
       "      <td>1.1120</td>\n",
       "      <td>0.0432</td>\n",
       "      <td>-0.7434</td>\n",
       "      <td>1.9320</td>\n",
       "      <td>...</td>\n",
       "      <td>-0.3906</td>\n",
       "      <td>0.4949</td>\n",
       "      <td>0.3981</td>\n",
       "      <td>-0.0375</td>\n",
       "      <td>1.3920</td>\n",
       "      <td>-0.2101</td>\n",
       "      <td>0.6233</td>\n",
       "      <td>1.0080</td>\n",
       "      <td>-0.3919</td>\n",
       "      <td>0.7456</td>\n",
       "    </tr>\n",
       "    <tr>\n",
       "      <th>18488</th>\n",
       "      <td>id_c67759922</td>\n",
       "      <td>trt_cp</td>\n",
       "      <td>48</td>\n",
       "      <td>D1</td>\n",
       "      <td>-0.4664</td>\n",
       "      <td>0.2670</td>\n",
       "      <td>-0.2750</td>\n",
       "      <td>0.2155</td>\n",
       "      <td>-0.2680</td>\n",
       "      <td>-0.2538</td>\n",
       "      <td>...</td>\n",
       "      <td>1.0280</td>\n",
       "      <td>0.6812</td>\n",
       "      <td>1.0680</td>\n",
       "      <td>-0.5873</td>\n",
       "      <td>0.1980</td>\n",
       "      <td>0.2783</td>\n",
       "      <td>0.1109</td>\n",
       "      <td>0.5205</td>\n",
       "      <td>-0.1297</td>\n",
       "      <td>-0.6580</td>\n",
       "    </tr>\n",
       "    <tr>\n",
       "      <th>10347</th>\n",
       "      <td>id_6f8181ead</td>\n",
       "      <td>ctl_vehicle</td>\n",
       "      <td>72</td>\n",
       "      <td>D2</td>\n",
       "      <td>0.4791</td>\n",
       "      <td>2.0980</td>\n",
       "      <td>-0.1237</td>\n",
       "      <td>-0.7642</td>\n",
       "      <td>1.2360</td>\n",
       "      <td>-1.4580</td>\n",
       "      <td>...</td>\n",
       "      <td>-0.0746</td>\n",
       "      <td>0.1371</td>\n",
       "      <td>-0.0715</td>\n",
       "      <td>1.2020</td>\n",
       "      <td>-0.0224</td>\n",
       "      <td>0.0835</td>\n",
       "      <td>0.1032</td>\n",
       "      <td>0.9418</td>\n",
       "      <td>-0.3477</td>\n",
       "      <td>1.0600</td>\n",
       "    </tr>\n",
       "  </tbody>\n",
       "</table>\n",
       "<p>5 rows × 876 columns</p>\n",
       "</div>"
      ],
      "text/plain": [
       "             sig_id      cp_type  cp_time cp_dose     g-0     g-1     g-2  \\\n",
       "18029  id_c19435749       trt_cp       24      D2  0.5947 -0.5885 -0.4679   \n",
       "18759  id_c97cbb590       trt_cp       48      D2  1.0200  0.0414 -0.0010   \n",
       "19135  id_cd7494101       trt_cp       24      D1  1.9250  1.6250  1.1120   \n",
       "18488  id_c67759922       trt_cp       48      D1 -0.4664  0.2670 -0.2750   \n",
       "10347  id_6f8181ead  ctl_vehicle       72      D2  0.4791  2.0980 -0.1237   \n",
       "\n",
       "          g-3     g-4     g-5  ...    c-90    c-91    c-92    c-93    c-94  \\\n",
       "18029 -0.1869  0.2049  0.8321  ...  0.5759  0.1261  0.5654  0.4161 -1.5890   \n",
       "18759 -0.0634 -0.2308  1.6140  ...  0.0769 -0.8892 -0.1525 -1.1070 -0.0811   \n",
       "19135  0.0432 -0.7434  1.9320  ... -0.3906  0.4949  0.3981 -0.0375  1.3920   \n",
       "18488  0.2155 -0.2680 -0.2538  ...  1.0280  0.6812  1.0680 -0.5873  0.1980   \n",
       "10347 -0.7642  1.2360 -1.4580  ... -0.0746  0.1371 -0.0715  1.2020 -0.0224   \n",
       "\n",
       "         c-95    c-96    c-97    c-98    c-99  \n",
       "18029 -0.1461  0.7328  0.0347  0.3470 -0.7548  \n",
       "18759 -1.1410  0.4018 -0.3446 -2.4990  0.3081  \n",
       "19135 -0.2101  0.6233  1.0080 -0.3919  0.7456  \n",
       "18488  0.2783  0.1109  0.5205 -0.1297 -0.6580  \n",
       "10347  0.0835  0.1032  0.9418 -0.3477  1.0600  \n",
       "\n",
       "[5 rows x 876 columns]"
      ]
     },
     "execution_count": 3,
     "metadata": {},
     "output_type": "execute_result"
    }
   ],
   "source": [
    "train_features.sample(5)"
   ]
  },
  {
   "cell_type": "code",
   "execution_count": 4,
   "id": "024645cc",
   "metadata": {
    "execution": {
     "iopub.execute_input": "2024-05-20T19:33:10.999215Z",
     "iopub.status.busy": "2024-05-20T19:33:10.998948Z",
     "iopub.status.idle": "2024-05-20T19:33:11.109677Z",
     "shell.execute_reply": "2024-05-20T19:33:11.108667Z"
    },
    "papermill": {
     "duration": 0.120562,
     "end_time": "2024-05-20T19:33:11.112209",
     "exception": false,
     "start_time": "2024-05-20T19:33:10.991647",
     "status": "completed"
    },
    "tags": []
   },
   "outputs": [
    {
     "name": "stdout",
     "output_type": "stream",
     "text": [
      "the length of gene features 772\n",
      "the lenght of cell features 100\n",
      "the length of all inputs and target dataset (23814, 1082)\n"
     ]
    }
   ],
   "source": [
    "# separating cell features and gene features\n",
    "gene_features = []\n",
    "cell_features = []\n",
    "for i in train_features.columns:\n",
    "    if i.startswith('g-'):\n",
    "        gene_features.append(i)\n",
    "    if i.startswith('c-'):\n",
    "        cell_features.append(i)\n",
    "\n",
    "print('the length of gene features', len(gene_features))\n",
    "print('the lenght of cell features', len(cell_features))\n",
    "\n",
    "train_merge = pd.merge(train_features, train_target_scored, on = 'sig_id', how = 'left')\n",
    "print('the length of all inputs and target dataset', train_merge.shape)"
   ]
  },
  {
   "cell_type": "code",
   "execution_count": 5,
   "id": "c3edbb40",
   "metadata": {
    "execution": {
     "iopub.execute_input": "2024-05-20T19:33:11.127347Z",
     "iopub.status.busy": "2024-05-20T19:33:11.127034Z",
     "iopub.status.idle": "2024-05-20T19:33:11.262931Z",
     "shell.execute_reply": "2024-05-20T19:33:11.261904Z"
    },
    "papermill": {
     "duration": 0.1462,
     "end_time": "2024-05-20T19:33:11.265537",
     "exception": false,
     "start_time": "2024-05-20T19:33:11.119337",
     "status": "completed"
    },
    "tags": []
   },
   "outputs": [],
   "source": [
    "from sklearn.preprocessing import LabelEncoder\n",
    "x = train_merge.copy()\n",
    "le = LabelEncoder()\n",
    "x['cp_type'] = le.fit_transform(x['cp_type'])\n",
    "x['cp_time'] = le.fit_transform(x['cp_time'])\n",
    "x['cp_dose'] = le.fit_transform(x['cp_dose'])\n",
    "\n",
    "test_features['cp_type'] = le.fit_transform(test_features['cp_type'])\n",
    "test_features['cp_time'] = le.fit_transform(test_features['cp_time'])\n",
    "test_features['cp_dose'] = le.fit_transform(test_features['cp_dose'])"
   ]
  },
  {
   "cell_type": "code",
   "execution_count": 6,
   "id": "2ef45dad",
   "metadata": {
    "execution": {
     "iopub.execute_input": "2024-05-20T19:33:11.280784Z",
     "iopub.status.busy": "2024-05-20T19:33:11.280462Z",
     "iopub.status.idle": "2024-05-20T19:33:11.299542Z",
     "shell.execute_reply": "2024-05-20T19:33:11.298384Z"
    },
    "papermill": {
     "duration": 0.029206,
     "end_time": "2024-05-20T19:33:11.301944",
     "exception": false,
     "start_time": "2024-05-20T19:33:11.272738",
     "status": "completed"
    },
    "tags": []
   },
   "outputs": [],
   "source": [
    "target_cols = [col for col in train_target_scored.columns if col not in ['sig_id']]\n",
    "y = x[target_cols]"
   ]
  },
  {
   "cell_type": "code",
   "execution_count": 7,
   "id": "4ce0fb1d",
   "metadata": {
    "execution": {
     "iopub.execute_input": "2024-05-20T19:33:11.317657Z",
     "iopub.status.busy": "2024-05-20T19:33:11.316802Z",
     "iopub.status.idle": "2024-05-20T19:33:11.323678Z",
     "shell.execute_reply": "2024-05-20T19:33:11.322666Z"
    },
    "papermill": {
     "duration": 0.016826,
     "end_time": "2024-05-20T19:33:11.325794",
     "exception": false,
     "start_time": "2024-05-20T19:33:11.308968",
     "status": "completed"
    },
    "tags": []
   },
   "outputs": [
    {
     "data": {
      "text/plain": [
       "((23814, 1082), (3982, 876), (23814, 206))"
      ]
     },
     "execution_count": 7,
     "metadata": {},
     "output_type": "execute_result"
    }
   ],
   "source": [
    "x.shape, test_features.shape, y.shape"
   ]
  },
  {
   "cell_type": "code",
   "execution_count": 8,
   "id": "068d8e15",
   "metadata": {
    "execution": {
     "iopub.execute_input": "2024-05-20T19:33:11.340522Z",
     "iopub.status.busy": "2024-05-20T19:33:11.340233Z",
     "iopub.status.idle": "2024-05-20T19:34:12.572584Z",
     "shell.execute_reply": "2024-05-20T19:34:12.571575Z"
    },
    "papermill": {
     "duration": 61.242319,
     "end_time": "2024-05-20T19:34:12.574894",
     "exception": false,
     "start_time": "2024-05-20T19:33:11.332575",
     "status": "completed"
    },
    "tags": []
   },
   "outputs": [
    {
     "name": "stdout",
     "output_type": "stream",
     "text": [
      "Epoch 1/300\n",
      "\u001b[1m34/47\u001b[0m \u001b[32m━━━━━━━━━━━━━━\u001b[0m\u001b[37m━━━━━━\u001b[0m \u001b[1m0s\u001b[0m 3ms/step - loss: 1.2755"
     ]
    },
    {
     "name": "stderr",
     "output_type": "stream",
     "text": [
      "WARNING: All log messages before absl::InitializeLog() is called are written to STDERR\n",
      "I0000 00:00:1716233596.061201      72 device_compiler.h:186] Compiled cluster using XLA!  This line is logged at most once for the lifetime of the process.\n",
      "W0000 00:00:1716233596.078925      72 graph_launch.cc:671] Fallback to op-by-op mode because memset node breaks graph update\n"
     ]
    },
    {
     "name": "stdout",
     "output_type": "stream",
     "text": [
      "\u001b[1m47/47\u001b[0m \u001b[32m━━━━━━━━━━━━━━━━━━━━\u001b[0m\u001b[37m\u001b[0m \u001b[1m4s\u001b[0m 25ms/step - loss: 1.1866\n",
      "Epoch 2/300\n",
      "\u001b[1m47/47\u001b[0m \u001b[32m━━━━━━━━━━━━━━━━━━━━\u001b[0m\u001b[37m\u001b[0m \u001b[1m0s\u001b[0m 3ms/step - loss: 0.6834\n",
      "Epoch 3/300\n"
     ]
    },
    {
     "name": "stderr",
     "output_type": "stream",
     "text": [
      "W0000 00:00:1716233597.236429      73 graph_launch.cc:671] Fallback to op-by-op mode because memset node breaks graph update\n"
     ]
    },
    {
     "name": "stdout",
     "output_type": "stream",
     "text": [
      "\u001b[1m47/47\u001b[0m \u001b[32m━━━━━━━━━━━━━━━━━━━━\u001b[0m\u001b[37m\u001b[0m \u001b[1m0s\u001b[0m 3ms/step - loss: 0.5957\n",
      "Epoch 4/300\n",
      "\u001b[1m47/47\u001b[0m \u001b[32m━━━━━━━━━━━━━━━━━━━━\u001b[0m\u001b[37m\u001b[0m \u001b[1m0s\u001b[0m 3ms/step - loss: 0.5346\n",
      "Epoch 5/300\n",
      "\u001b[1m47/47\u001b[0m \u001b[32m━━━━━━━━━━━━━━━━━━━━\u001b[0m\u001b[37m\u001b[0m \u001b[1m0s\u001b[0m 3ms/step - loss: 0.4834\n",
      "Epoch 6/300\n",
      "\u001b[1m47/47\u001b[0m \u001b[32m━━━━━━━━━━━━━━━━━━━━\u001b[0m\u001b[37m\u001b[0m \u001b[1m0s\u001b[0m 3ms/step - loss: 0.4372\n",
      "Epoch 7/300\n",
      "\u001b[1m47/47\u001b[0m \u001b[32m━━━━━━━━━━━━━━━━━━━━\u001b[0m\u001b[37m\u001b[0m \u001b[1m0s\u001b[0m 3ms/step - loss: 0.3939\n",
      "Epoch 8/300\n",
      "\u001b[1m47/47\u001b[0m \u001b[32m━━━━━━━━━━━━━━━━━━━━\u001b[0m\u001b[37m\u001b[0m \u001b[1m0s\u001b[0m 3ms/step - loss: 0.3542\n",
      "Epoch 9/300\n",
      "\u001b[1m47/47\u001b[0m \u001b[32m━━━━━━━━━━━━━━━━━━━━\u001b[0m\u001b[37m\u001b[0m \u001b[1m0s\u001b[0m 3ms/step - loss: 0.3204\n",
      "Epoch 10/300\n",
      "\u001b[1m47/47\u001b[0m \u001b[32m━━━━━━━━━━━━━━━━━━━━\u001b[0m\u001b[37m\u001b[0m \u001b[1m0s\u001b[0m 3ms/step - loss: 0.2928\n",
      "Epoch 11/300\n",
      "\u001b[1m47/47\u001b[0m \u001b[32m━━━━━━━━━━━━━━━━━━━━\u001b[0m\u001b[37m\u001b[0m \u001b[1m0s\u001b[0m 3ms/step - loss: 0.2716\n",
      "Epoch 12/300\n",
      "\u001b[1m47/47\u001b[0m \u001b[32m━━━━━━━━━━━━━━━━━━━━\u001b[0m\u001b[37m\u001b[0m \u001b[1m0s\u001b[0m 3ms/step - loss: 0.2552\n",
      "Epoch 13/300\n",
      "\u001b[1m47/47\u001b[0m \u001b[32m━━━━━━━━━━━━━━━━━━━━\u001b[0m\u001b[37m\u001b[0m \u001b[1m0s\u001b[0m 3ms/step - loss: 0.2421\n",
      "Epoch 14/300\n",
      "\u001b[1m47/47\u001b[0m \u001b[32m━━━━━━━━━━━━━━━━━━━━\u001b[0m\u001b[37m\u001b[0m \u001b[1m0s\u001b[0m 3ms/step - loss: 0.2321\n",
      "Epoch 15/300\n",
      "\u001b[1m47/47\u001b[0m \u001b[32m━━━━━━━━━━━━━━━━━━━━\u001b[0m\u001b[37m\u001b[0m \u001b[1m0s\u001b[0m 3ms/step - loss: 0.2246\n",
      "Epoch 16/300\n",
      "\u001b[1m47/47\u001b[0m \u001b[32m━━━━━━━━━━━━━━━━━━━━\u001b[0m\u001b[37m\u001b[0m \u001b[1m0s\u001b[0m 3ms/step - loss: 0.2186\n",
      "Epoch 17/300\n",
      "\u001b[1m47/47\u001b[0m \u001b[32m━━━━━━━━━━━━━━━━━━━━\u001b[0m\u001b[37m\u001b[0m \u001b[1m0s\u001b[0m 3ms/step - loss: 0.2155\n",
      "Epoch 18/300\n",
      "\u001b[1m47/47\u001b[0m \u001b[32m━━━━━━━━━━━━━━━━━━━━\u001b[0m\u001b[37m\u001b[0m \u001b[1m0s\u001b[0m 3ms/step - loss: 0.2128\n",
      "Epoch 19/300\n",
      "\u001b[1m47/47\u001b[0m \u001b[32m━━━━━━━━━━━━━━━━━━━━\u001b[0m\u001b[37m\u001b[0m \u001b[1m0s\u001b[0m 3ms/step - loss: 0.2097\n",
      "Epoch 20/300\n",
      "\u001b[1m47/47\u001b[0m \u001b[32m━━━━━━━━━━━━━━━━━━━━\u001b[0m\u001b[37m\u001b[0m \u001b[1m0s\u001b[0m 3ms/step - loss: 0.2084\n",
      "Epoch 21/300\n",
      "\u001b[1m47/47\u001b[0m \u001b[32m━━━━━━━━━━━━━━━━━━━━\u001b[0m\u001b[37m\u001b[0m \u001b[1m0s\u001b[0m 3ms/step - loss: 0.2060\n",
      "Epoch 22/300\n",
      "\u001b[1m47/47\u001b[0m \u001b[32m━━━━━━━━━━━━━━━━━━━━\u001b[0m\u001b[37m\u001b[0m \u001b[1m0s\u001b[0m 3ms/step - loss: 0.2020\n",
      "Epoch 23/300\n",
      "\u001b[1m47/47\u001b[0m \u001b[32m━━━━━━━━━━━━━━━━━━━━\u001b[0m\u001b[37m\u001b[0m \u001b[1m0s\u001b[0m 3ms/step - loss: 0.1996\n",
      "Epoch 24/300\n",
      "\u001b[1m47/47\u001b[0m \u001b[32m━━━━━━━━━━━━━━━━━━━━\u001b[0m\u001b[37m\u001b[0m \u001b[1m0s\u001b[0m 3ms/step - loss: 0.1978\n",
      "Epoch 25/300\n",
      "\u001b[1m47/47\u001b[0m \u001b[32m━━━━━━━━━━━━━━━━━━━━\u001b[0m\u001b[37m\u001b[0m \u001b[1m0s\u001b[0m 3ms/step - loss: 0.1957\n",
      "Epoch 26/300\n",
      "\u001b[1m47/47\u001b[0m \u001b[32m━━━━━━━━━━━━━━━━━━━━\u001b[0m\u001b[37m\u001b[0m \u001b[1m0s\u001b[0m 3ms/step - loss: 0.1930\n",
      "Epoch 27/300\n",
      "\u001b[1m47/47\u001b[0m \u001b[32m━━━━━━━━━━━━━━━━━━━━\u001b[0m\u001b[37m\u001b[0m \u001b[1m0s\u001b[0m 3ms/step - loss: 0.1894\n",
      "Epoch 28/300\n",
      "\u001b[1m47/47\u001b[0m \u001b[32m━━━━━━━━━━━━━━━━━━━━\u001b[0m\u001b[37m\u001b[0m \u001b[1m0s\u001b[0m 3ms/step - loss: 0.1867\n",
      "Epoch 29/300\n",
      "\u001b[1m47/47\u001b[0m \u001b[32m━━━━━━━━━━━━━━━━━━━━\u001b[0m\u001b[37m\u001b[0m \u001b[1m0s\u001b[0m 3ms/step - loss: 0.1834\n",
      "Epoch 30/300\n",
      "\u001b[1m47/47\u001b[0m \u001b[32m━━━━━━━━━━━━━━━━━━━━\u001b[0m\u001b[37m\u001b[0m \u001b[1m0s\u001b[0m 3ms/step - loss: 0.1804\n",
      "Epoch 31/300\n",
      "\u001b[1m47/47\u001b[0m \u001b[32m━━━━━━━━━━━━━━━━━━━━\u001b[0m\u001b[37m\u001b[0m \u001b[1m0s\u001b[0m 3ms/step - loss: 0.1772\n",
      "Epoch 32/300\n",
      "\u001b[1m47/47\u001b[0m \u001b[32m━━━━━━━━━━━━━━━━━━━━\u001b[0m\u001b[37m\u001b[0m \u001b[1m0s\u001b[0m 3ms/step - loss: 0.1747\n",
      "Epoch 33/300\n",
      "\u001b[1m47/47\u001b[0m \u001b[32m━━━━━━━━━━━━━━━━━━━━\u001b[0m\u001b[37m\u001b[0m \u001b[1m0s\u001b[0m 3ms/step - loss: 0.1732\n",
      "Epoch 34/300\n",
      "\u001b[1m47/47\u001b[0m \u001b[32m━━━━━━━━━━━━━━━━━━━━\u001b[0m\u001b[37m\u001b[0m \u001b[1m0s\u001b[0m 3ms/step - loss: 0.1722\n",
      "Epoch 35/300\n",
      "\u001b[1m47/47\u001b[0m \u001b[32m━━━━━━━━━━━━━━━━━━━━\u001b[0m\u001b[37m\u001b[0m \u001b[1m0s\u001b[0m 3ms/step - loss: 0.1711\n",
      "Epoch 36/300\n",
      "\u001b[1m47/47\u001b[0m \u001b[32m━━━━━━━━━━━━━━━━━━━━\u001b[0m\u001b[37m\u001b[0m \u001b[1m0s\u001b[0m 3ms/step - loss: 0.1689\n",
      "Epoch 37/300\n",
      "\u001b[1m47/47\u001b[0m \u001b[32m━━━━━━━━━━━━━━━━━━━━\u001b[0m\u001b[37m\u001b[0m \u001b[1m0s\u001b[0m 3ms/step - loss: 0.1676\n",
      "Epoch 38/300\n",
      "\u001b[1m47/47\u001b[0m \u001b[32m━━━━━━━━━━━━━━━━━━━━\u001b[0m\u001b[37m\u001b[0m \u001b[1m0s\u001b[0m 3ms/step - loss: 0.1648\n",
      "Epoch 39/300\n",
      "\u001b[1m47/47\u001b[0m \u001b[32m━━━━━━━━━━━━━━━━━━━━\u001b[0m\u001b[37m\u001b[0m \u001b[1m0s\u001b[0m 3ms/step - loss: 0.1630\n",
      "Epoch 40/300\n",
      "\u001b[1m47/47\u001b[0m \u001b[32m━━━━━━━━━━━━━━━━━━━━\u001b[0m\u001b[37m\u001b[0m \u001b[1m0s\u001b[0m 3ms/step - loss: 0.1617\n",
      "Epoch 41/300\n",
      "\u001b[1m47/47\u001b[0m \u001b[32m━━━━━━━━━━━━━━━━━━━━\u001b[0m\u001b[37m\u001b[0m \u001b[1m0s\u001b[0m 3ms/step - loss: 0.1608\n",
      "Epoch 42/300\n",
      "\u001b[1m47/47\u001b[0m \u001b[32m━━━━━━━━━━━━━━━━━━━━\u001b[0m\u001b[37m\u001b[0m \u001b[1m0s\u001b[0m 3ms/step - loss: 0.1595\n",
      "Epoch 43/300\n",
      "\u001b[1m47/47\u001b[0m \u001b[32m━━━━━━━━━━━━━━━━━━━━\u001b[0m\u001b[37m\u001b[0m \u001b[1m0s\u001b[0m 3ms/step - loss: 0.1582\n",
      "Epoch 44/300\n",
      "\u001b[1m47/47\u001b[0m \u001b[32m━━━━━━━━━━━━━━━━━━━━\u001b[0m\u001b[37m\u001b[0m \u001b[1m0s\u001b[0m 3ms/step - loss: 0.1570\n",
      "Epoch 45/300\n",
      "\u001b[1m47/47\u001b[0m \u001b[32m━━━━━━━━━━━━━━━━━━━━\u001b[0m\u001b[37m\u001b[0m \u001b[1m0s\u001b[0m 3ms/step - loss: 0.1563\n",
      "Epoch 46/300\n",
      "\u001b[1m47/47\u001b[0m \u001b[32m━━━━━━━━━━━━━━━━━━━━\u001b[0m\u001b[37m\u001b[0m \u001b[1m0s\u001b[0m 3ms/step - loss: 0.1553\n",
      "Epoch 47/300\n",
      "\u001b[1m47/47\u001b[0m \u001b[32m━━━━━━━━━━━━━━━━━━━━\u001b[0m\u001b[37m\u001b[0m \u001b[1m0s\u001b[0m 3ms/step - loss: 0.1548\n",
      "Epoch 48/300\n",
      "\u001b[1m47/47\u001b[0m \u001b[32m━━━━━━━━━━━━━━━━━━━━\u001b[0m\u001b[37m\u001b[0m \u001b[1m0s\u001b[0m 3ms/step - loss: 0.1540\n",
      "Epoch 49/300\n",
      "\u001b[1m47/47\u001b[0m \u001b[32m━━━━━━━━━━━━━━━━━━━━\u001b[0m\u001b[37m\u001b[0m \u001b[1m0s\u001b[0m 3ms/step - loss: 0.1534\n",
      "Epoch 50/300\n",
      "\u001b[1m47/47\u001b[0m \u001b[32m━━━━━━━━━━━━━━━━━━━━\u001b[0m\u001b[37m\u001b[0m \u001b[1m0s\u001b[0m 3ms/step - loss: 0.1528\n",
      "Epoch 51/300\n",
      "\u001b[1m47/47\u001b[0m \u001b[32m━━━━━━━━━━━━━━━━━━━━\u001b[0m\u001b[37m\u001b[0m \u001b[1m0s\u001b[0m 3ms/step - loss: 0.1522\n",
      "Epoch 52/300\n",
      "\u001b[1m47/47\u001b[0m \u001b[32m━━━━━━━━━━━━━━━━━━━━\u001b[0m\u001b[37m\u001b[0m \u001b[1m0s\u001b[0m 3ms/step - loss: 0.1514\n",
      "Epoch 53/300\n",
      "\u001b[1m47/47\u001b[0m \u001b[32m━━━━━━━━━━━━━━━━━━━━\u001b[0m\u001b[37m\u001b[0m \u001b[1m0s\u001b[0m 3ms/step - loss: 0.1509\n",
      "Epoch 54/300\n",
      "\u001b[1m47/47\u001b[0m \u001b[32m━━━━━━━━━━━━━━━━━━━━\u001b[0m\u001b[37m\u001b[0m \u001b[1m0s\u001b[0m 3ms/step - loss: 0.1503\n",
      "Epoch 55/300\n",
      "\u001b[1m47/47\u001b[0m \u001b[32m━━━━━━━━━━━━━━━━━━━━\u001b[0m\u001b[37m\u001b[0m \u001b[1m0s\u001b[0m 3ms/step - loss: 0.1497\n",
      "Epoch 56/300\n",
      "\u001b[1m47/47\u001b[0m \u001b[32m━━━━━━━━━━━━━━━━━━━━\u001b[0m\u001b[37m\u001b[0m \u001b[1m0s\u001b[0m 3ms/step - loss: 0.1488\n",
      "Epoch 57/300\n",
      "\u001b[1m47/47\u001b[0m \u001b[32m━━━━━━━━━━━━━━━━━━━━\u001b[0m\u001b[37m\u001b[0m \u001b[1m0s\u001b[0m 3ms/step - loss: 0.1481\n",
      "Epoch 58/300\n",
      "\u001b[1m47/47\u001b[0m \u001b[32m━━━━━━━━━━━━━━━━━━━━\u001b[0m\u001b[37m\u001b[0m \u001b[1m0s\u001b[0m 3ms/step - loss: 0.1477\n",
      "Epoch 59/300\n",
      "\u001b[1m47/47\u001b[0m \u001b[32m━━━━━━━━━━━━━━━━━━━━\u001b[0m\u001b[37m\u001b[0m \u001b[1m0s\u001b[0m 3ms/step - loss: 0.1474\n",
      "Epoch 60/300\n",
      "\u001b[1m47/47\u001b[0m \u001b[32m━━━━━━━━━━━━━━━━━━━━\u001b[0m\u001b[37m\u001b[0m \u001b[1m0s\u001b[0m 3ms/step - loss: 0.1473\n",
      "Epoch 61/300\n",
      "\u001b[1m47/47\u001b[0m \u001b[32m━━━━━━━━━━━━━━━━━━━━\u001b[0m\u001b[37m\u001b[0m \u001b[1m0s\u001b[0m 3ms/step - loss: 0.1469\n",
      "Epoch 62/300\n",
      "\u001b[1m47/47\u001b[0m \u001b[32m━━━━━━━━━━━━━━━━━━━━\u001b[0m\u001b[37m\u001b[0m \u001b[1m0s\u001b[0m 3ms/step - loss: 0.1464\n",
      "Epoch 63/300\n",
      "\u001b[1m47/47\u001b[0m \u001b[32m━━━━━━━━━━━━━━━━━━━━\u001b[0m\u001b[37m\u001b[0m \u001b[1m0s\u001b[0m 3ms/step - loss: 0.1459\n",
      "Epoch 64/300\n",
      "\u001b[1m47/47\u001b[0m \u001b[32m━━━━━━━━━━━━━━━━━━━━\u001b[0m\u001b[37m\u001b[0m \u001b[1m0s\u001b[0m 3ms/step - loss: 0.1454\n",
      "Epoch 65/300\n",
      "\u001b[1m47/47\u001b[0m \u001b[32m━━━━━━━━━━━━━━━━━━━━\u001b[0m\u001b[37m\u001b[0m \u001b[1m0s\u001b[0m 3ms/step - loss: 0.1450\n",
      "Epoch 66/300\n",
      "\u001b[1m47/47\u001b[0m \u001b[32m━━━━━━━━━━━━━━━━━━━━\u001b[0m\u001b[37m\u001b[0m \u001b[1m0s\u001b[0m 3ms/step - loss: 0.1447\n",
      "Epoch 67/300\n",
      "\u001b[1m47/47\u001b[0m \u001b[32m━━━━━━━━━━━━━━━━━━━━\u001b[0m\u001b[37m\u001b[0m \u001b[1m0s\u001b[0m 3ms/step - loss: 0.1442\n",
      "Epoch 68/300\n",
      "\u001b[1m47/47\u001b[0m \u001b[32m━━━━━━━━━━━━━━━━━━━━\u001b[0m\u001b[37m\u001b[0m \u001b[1m0s\u001b[0m 3ms/step - loss: 0.1438\n",
      "Epoch 69/300\n",
      "\u001b[1m47/47\u001b[0m \u001b[32m━━━━━━━━━━━━━━━━━━━━\u001b[0m\u001b[37m\u001b[0m \u001b[1m0s\u001b[0m 3ms/step - loss: 0.1433\n",
      "Epoch 70/300\n",
      "\u001b[1m47/47\u001b[0m \u001b[32m━━━━━━━━━━━━━━━━━━━━\u001b[0m\u001b[37m\u001b[0m \u001b[1m0s\u001b[0m 3ms/step - loss: 0.1430\n",
      "Epoch 71/300\n",
      "\u001b[1m47/47\u001b[0m \u001b[32m━━━━━━━━━━━━━━━━━━━━\u001b[0m\u001b[37m\u001b[0m \u001b[1m0s\u001b[0m 3ms/step - loss: 0.1426\n",
      "Epoch 72/300\n",
      "\u001b[1m47/47\u001b[0m \u001b[32m━━━━━━━━━━━━━━━━━━━━\u001b[0m\u001b[37m\u001b[0m \u001b[1m0s\u001b[0m 3ms/step - loss: 0.1424\n",
      "Epoch 73/300\n",
      "\u001b[1m47/47\u001b[0m \u001b[32m━━━━━━━━━━━━━━━━━━━━\u001b[0m\u001b[37m\u001b[0m \u001b[1m0s\u001b[0m 3ms/step - loss: 0.1421\n",
      "Epoch 74/300\n",
      "\u001b[1m47/47\u001b[0m \u001b[32m━━━━━━━━━━━━━━━━━━━━\u001b[0m\u001b[37m\u001b[0m \u001b[1m0s\u001b[0m 3ms/step - loss: 0.1419\n",
      "Epoch 75/300\n",
      "\u001b[1m47/47\u001b[0m \u001b[32m━━━━━━━━━━━━━━━━━━━━\u001b[0m\u001b[37m\u001b[0m \u001b[1m0s\u001b[0m 3ms/step - loss: 0.1415\n",
      "Epoch 76/300\n",
      "\u001b[1m47/47\u001b[0m \u001b[32m━━━━━━━━━━━━━━━━━━━━\u001b[0m\u001b[37m\u001b[0m \u001b[1m0s\u001b[0m 3ms/step - loss: 0.1411\n",
      "Epoch 77/300\n",
      "\u001b[1m47/47\u001b[0m \u001b[32m━━━━━━━━━━━━━━━━━━━━\u001b[0m\u001b[37m\u001b[0m \u001b[1m0s\u001b[0m 3ms/step - loss: 0.1407\n",
      "Epoch 78/300\n",
      "\u001b[1m47/47\u001b[0m \u001b[32m━━━━━━━━━━━━━━━━━━━━\u001b[0m\u001b[37m\u001b[0m \u001b[1m0s\u001b[0m 3ms/step - loss: 0.1404\n",
      "Epoch 79/300\n",
      "\u001b[1m47/47\u001b[0m \u001b[32m━━━━━━━━━━━━━━━━━━━━\u001b[0m\u001b[37m\u001b[0m \u001b[1m0s\u001b[0m 3ms/step - loss: 0.1401\n",
      "Epoch 80/300\n",
      "\u001b[1m47/47\u001b[0m \u001b[32m━━━━━━━━━━━━━━━━━━━━\u001b[0m\u001b[37m\u001b[0m \u001b[1m0s\u001b[0m 3ms/step - loss: 0.1398\n",
      "Epoch 81/300\n",
      "\u001b[1m47/47\u001b[0m \u001b[32m━━━━━━━━━━━━━━━━━━━━\u001b[0m\u001b[37m\u001b[0m \u001b[1m0s\u001b[0m 3ms/step - loss: 0.1395\n",
      "Epoch 82/300\n",
      "\u001b[1m47/47\u001b[0m \u001b[32m━━━━━━━━━━━━━━━━━━━━\u001b[0m\u001b[37m\u001b[0m \u001b[1m0s\u001b[0m 3ms/step - loss: 0.1394\n",
      "Epoch 83/300\n",
      "\u001b[1m47/47\u001b[0m \u001b[32m━━━━━━━━━━━━━━━━━━━━\u001b[0m\u001b[37m\u001b[0m \u001b[1m0s\u001b[0m 3ms/step - loss: 0.1393\n",
      "Epoch 84/300\n",
      "\u001b[1m47/47\u001b[0m \u001b[32m━━━━━━━━━━━━━━━━━━━━\u001b[0m\u001b[37m\u001b[0m \u001b[1m0s\u001b[0m 3ms/step - loss: 0.1392\n",
      "Epoch 85/300\n",
      "\u001b[1m47/47\u001b[0m \u001b[32m━━━━━━━━━━━━━━━━━━━━\u001b[0m\u001b[37m\u001b[0m \u001b[1m0s\u001b[0m 3ms/step - loss: 0.1392\n",
      "Epoch 86/300\n",
      "\u001b[1m47/47\u001b[0m \u001b[32m━━━━━━━━━━━━━━━━━━━━\u001b[0m\u001b[37m\u001b[0m \u001b[1m0s\u001b[0m 3ms/step - loss: 0.1390\n",
      "Epoch 87/300\n",
      "\u001b[1m47/47\u001b[0m \u001b[32m━━━━━━━━━━━━━━━━━━━━\u001b[0m\u001b[37m\u001b[0m \u001b[1m0s\u001b[0m 3ms/step - loss: 0.1388\n",
      "Epoch 88/300\n",
      "\u001b[1m47/47\u001b[0m \u001b[32m━━━━━━━━━━━━━━━━━━━━\u001b[0m\u001b[37m\u001b[0m \u001b[1m0s\u001b[0m 3ms/step - loss: 0.1386\n",
      "Epoch 89/300\n",
      "\u001b[1m47/47\u001b[0m \u001b[32m━━━━━━━━━━━━━━━━━━━━\u001b[0m\u001b[37m\u001b[0m \u001b[1m0s\u001b[0m 3ms/step - loss: 0.1383\n",
      "Epoch 90/300\n",
      "\u001b[1m47/47\u001b[0m \u001b[32m━━━━━━━━━━━━━━━━━━━━\u001b[0m\u001b[37m\u001b[0m \u001b[1m0s\u001b[0m 3ms/step - loss: 0.1380\n",
      "Epoch 91/300\n",
      "\u001b[1m47/47\u001b[0m \u001b[32m━━━━━━━━━━━━━━━━━━━━\u001b[0m\u001b[37m\u001b[0m \u001b[1m0s\u001b[0m 3ms/step - loss: 0.1380\n",
      "Epoch 92/300\n",
      "\u001b[1m47/47\u001b[0m \u001b[32m━━━━━━━━━━━━━━━━━━━━\u001b[0m\u001b[37m\u001b[0m \u001b[1m0s\u001b[0m 4ms/step - loss: 0.1380\n",
      "Epoch 93/300\n",
      "\u001b[1m47/47\u001b[0m \u001b[32m━━━━━━━━━━━━━━━━━━━━\u001b[0m\u001b[37m\u001b[0m \u001b[1m0s\u001b[0m 3ms/step - loss: 0.1379\n",
      "Epoch 94/300\n",
      "\u001b[1m47/47\u001b[0m \u001b[32m━━━━━━━━━━━━━━━━━━━━\u001b[0m\u001b[37m\u001b[0m \u001b[1m0s\u001b[0m 3ms/step - loss: 0.1375\n",
      "Epoch 95/300\n",
      "\u001b[1m47/47\u001b[0m \u001b[32m━━━━━━━━━━━━━━━━━━━━\u001b[0m\u001b[37m\u001b[0m \u001b[1m0s\u001b[0m 3ms/step - loss: 0.1371\n",
      "Epoch 96/300\n",
      "\u001b[1m47/47\u001b[0m \u001b[32m━━━━━━━━━━━━━━━━━━━━\u001b[0m\u001b[37m\u001b[0m \u001b[1m0s\u001b[0m 3ms/step - loss: 0.1369\n",
      "Epoch 97/300\n",
      "\u001b[1m47/47\u001b[0m \u001b[32m━━━━━━━━━━━━━━━━━━━━\u001b[0m\u001b[37m\u001b[0m \u001b[1m0s\u001b[0m 3ms/step - loss: 0.1367\n",
      "Epoch 98/300\n",
      "\u001b[1m47/47\u001b[0m \u001b[32m━━━━━━━━━━━━━━━━━━━━\u001b[0m\u001b[37m\u001b[0m \u001b[1m0s\u001b[0m 3ms/step - loss: 0.1366\n",
      "Epoch 99/300\n",
      "\u001b[1m47/47\u001b[0m \u001b[32m━━━━━━━━━━━━━━━━━━━━\u001b[0m\u001b[37m\u001b[0m \u001b[1m0s\u001b[0m 3ms/step - loss: 0.1363\n",
      "Epoch 100/300\n",
      "\u001b[1m47/47\u001b[0m \u001b[32m━━━━━━━━━━━━━━━━━━━━\u001b[0m\u001b[37m\u001b[0m \u001b[1m0s\u001b[0m 3ms/step - loss: 0.1362\n",
      "Epoch 101/300\n",
      "\u001b[1m47/47\u001b[0m \u001b[32m━━━━━━━━━━━━━━━━━━━━\u001b[0m\u001b[37m\u001b[0m \u001b[1m0s\u001b[0m 3ms/step - loss: 0.1361\n",
      "Epoch 102/300\n",
      "\u001b[1m47/47\u001b[0m \u001b[32m━━━━━━━━━━━━━━━━━━━━\u001b[0m\u001b[37m\u001b[0m \u001b[1m0s\u001b[0m 3ms/step - loss: 0.1360\n",
      "Epoch 103/300\n",
      "\u001b[1m47/47\u001b[0m \u001b[32m━━━━━━━━━━━━━━━━━━━━\u001b[0m\u001b[37m\u001b[0m \u001b[1m0s\u001b[0m 3ms/step - loss: 0.1360\n",
      "Epoch 104/300\n",
      "\u001b[1m47/47\u001b[0m \u001b[32m━━━━━━━━━━━━━━━━━━━━\u001b[0m\u001b[37m\u001b[0m \u001b[1m0s\u001b[0m 4ms/step - loss: 0.1358\n",
      "Epoch 105/300\n",
      "\u001b[1m47/47\u001b[0m \u001b[32m━━━━━━━━━━━━━━━━━━━━\u001b[0m\u001b[37m\u001b[0m \u001b[1m0s\u001b[0m 4ms/step - loss: 0.1357\n",
      "Epoch 106/300\n",
      "\u001b[1m47/47\u001b[0m \u001b[32m━━━━━━━━━━━━━━━━━━━━\u001b[0m\u001b[37m\u001b[0m \u001b[1m0s\u001b[0m 3ms/step - loss: 0.1354\n",
      "Epoch 107/300\n",
      "\u001b[1m47/47\u001b[0m \u001b[32m━━━━━━━━━━━━━━━━━━━━\u001b[0m\u001b[37m\u001b[0m \u001b[1m0s\u001b[0m 3ms/step - loss: 0.1354\n",
      "Epoch 108/300\n",
      "\u001b[1m47/47\u001b[0m \u001b[32m━━━━━━━━━━━━━━━━━━━━\u001b[0m\u001b[37m\u001b[0m \u001b[1m0s\u001b[0m 3ms/step - loss: 0.1359\n",
      "Epoch 109/300\n",
      "\u001b[1m47/47\u001b[0m \u001b[32m━━━━━━━━━━━━━━━━━━━━\u001b[0m\u001b[37m\u001b[0m \u001b[1m0s\u001b[0m 3ms/step - loss: 0.1362\n",
      "Epoch 110/300\n",
      "\u001b[1m47/47\u001b[0m \u001b[32m━━━━━━━━━━━━━━━━━━━━\u001b[0m\u001b[37m\u001b[0m \u001b[1m0s\u001b[0m 3ms/step - loss: 0.1365\n",
      "Epoch 111/300\n",
      "\u001b[1m47/47\u001b[0m \u001b[32m━━━━━━━━━━━━━━━━━━━━\u001b[0m\u001b[37m\u001b[0m \u001b[1m0s\u001b[0m 3ms/step - loss: 0.1363\n",
      "Epoch 112/300\n",
      "\u001b[1m47/47\u001b[0m \u001b[32m━━━━━━━━━━━━━━━━━━━━\u001b[0m\u001b[37m\u001b[0m \u001b[1m0s\u001b[0m 3ms/step - loss: 0.1358\n",
      "Epoch 113/300\n",
      "\u001b[1m47/47\u001b[0m \u001b[32m━━━━━━━━━━━━━━━━━━━━\u001b[0m\u001b[37m\u001b[0m \u001b[1m0s\u001b[0m 3ms/step - loss: 0.1358\n",
      "Epoch 114/300\n",
      "\u001b[1m47/47\u001b[0m \u001b[32m━━━━━━━━━━━━━━━━━━━━\u001b[0m\u001b[37m\u001b[0m \u001b[1m0s\u001b[0m 3ms/step - loss: 0.1358\n",
      "Epoch 115/300\n",
      "\u001b[1m47/47\u001b[0m \u001b[32m━━━━━━━━━━━━━━━━━━━━\u001b[0m\u001b[37m\u001b[0m \u001b[1m0s\u001b[0m 3ms/step - loss: 0.1360\n",
      "Epoch 116/300\n",
      "\u001b[1m47/47\u001b[0m \u001b[32m━━━━━━━━━━━━━━━━━━━━\u001b[0m\u001b[37m\u001b[0m \u001b[1m0s\u001b[0m 3ms/step - loss: 0.1361\n",
      "Epoch 117/300\n",
      "\u001b[1m47/47\u001b[0m \u001b[32m━━━━━━━━━━━━━━━━━━━━\u001b[0m\u001b[37m\u001b[0m \u001b[1m0s\u001b[0m 3ms/step - loss: 0.1359\n",
      "Epoch 118/300\n",
      "\u001b[1m47/47\u001b[0m \u001b[32m━━━━━━━━━━━━━━━━━━━━\u001b[0m\u001b[37m\u001b[0m \u001b[1m0s\u001b[0m 3ms/step - loss: 0.1357\n",
      "Epoch 119/300\n",
      "\u001b[1m47/47\u001b[0m \u001b[32m━━━━━━━━━━━━━━━━━━━━\u001b[0m\u001b[37m\u001b[0m \u001b[1m0s\u001b[0m 3ms/step - loss: 0.1355\n",
      "Epoch 120/300\n",
      "\u001b[1m47/47\u001b[0m \u001b[32m━━━━━━━━━━━━━━━━━━━━\u001b[0m\u001b[37m\u001b[0m \u001b[1m0s\u001b[0m 3ms/step - loss: 0.1353\n",
      "Epoch 121/300\n",
      "\u001b[1m47/47\u001b[0m \u001b[32m━━━━━━━━━━━━━━━━━━━━\u001b[0m\u001b[37m\u001b[0m \u001b[1m0s\u001b[0m 3ms/step - loss: 0.1352\n",
      "Epoch 122/300\n",
      "\u001b[1m47/47\u001b[0m \u001b[32m━━━━━━━━━━━━━━━━━━━━\u001b[0m\u001b[37m\u001b[0m \u001b[1m0s\u001b[0m 3ms/step - loss: 0.1353\n",
      "Epoch 123/300\n",
      "\u001b[1m47/47\u001b[0m \u001b[32m━━━━━━━━━━━━━━━━━━━━\u001b[0m\u001b[37m\u001b[0m \u001b[1m0s\u001b[0m 3ms/step - loss: 0.1350\n",
      "Epoch 124/300\n",
      "\u001b[1m47/47\u001b[0m \u001b[32m━━━━━━━━━━━━━━━━━━━━\u001b[0m\u001b[37m\u001b[0m \u001b[1m0s\u001b[0m 3ms/step - loss: 0.1353\n",
      "Epoch 125/300\n",
      "\u001b[1m47/47\u001b[0m \u001b[32m━━━━━━━━━━━━━━━━━━━━\u001b[0m\u001b[37m\u001b[0m \u001b[1m0s\u001b[0m 3ms/step - loss: 0.1350\n",
      "Epoch 126/300\n",
      "\u001b[1m47/47\u001b[0m \u001b[32m━━━━━━━━━━━━━━━━━━━━\u001b[0m\u001b[37m\u001b[0m \u001b[1m0s\u001b[0m 3ms/step - loss: 0.1352\n",
      "Epoch 127/300\n",
      "\u001b[1m47/47\u001b[0m \u001b[32m━━━━━━━━━━━━━━━━━━━━\u001b[0m\u001b[37m\u001b[0m \u001b[1m0s\u001b[0m 3ms/step - loss: 0.1353\n",
      "Epoch 128/300\n",
      "\u001b[1m47/47\u001b[0m \u001b[32m━━━━━━━━━━━━━━━━━━━━\u001b[0m\u001b[37m\u001b[0m \u001b[1m0s\u001b[0m 3ms/step - loss: 0.1354\n",
      "Epoch 129/300\n",
      "\u001b[1m47/47\u001b[0m \u001b[32m━━━━━━━━━━━━━━━━━━━━\u001b[0m\u001b[37m\u001b[0m \u001b[1m0s\u001b[0m 4ms/step - loss: 0.1354\n",
      "Epoch 130/300\n",
      "\u001b[1m47/47\u001b[0m \u001b[32m━━━━━━━━━━━━━━━━━━━━\u001b[0m\u001b[37m\u001b[0m \u001b[1m0s\u001b[0m 3ms/step - loss: 0.1358\n",
      "Epoch 131/300\n",
      "\u001b[1m47/47\u001b[0m \u001b[32m━━━━━━━━━━━━━━━━━━━━\u001b[0m\u001b[37m\u001b[0m \u001b[1m0s\u001b[0m 3ms/step - loss: 0.1355\n",
      "Epoch 132/300\n",
      "\u001b[1m47/47\u001b[0m \u001b[32m━━━━━━━━━━━━━━━━━━━━\u001b[0m\u001b[37m\u001b[0m \u001b[1m0s\u001b[0m 3ms/step - loss: 0.1355\n",
      "Epoch 133/300\n",
      "\u001b[1m47/47\u001b[0m \u001b[32m━━━━━━━━━━━━━━━━━━━━\u001b[0m\u001b[37m\u001b[0m \u001b[1m0s\u001b[0m 3ms/step - loss: 0.1355\n",
      "Epoch 134/300\n",
      "\u001b[1m47/47\u001b[0m \u001b[32m━━━━━━━━━━━━━━━━━━━━\u001b[0m\u001b[37m\u001b[0m \u001b[1m0s\u001b[0m 3ms/step - loss: 0.1358\n",
      "Epoch 135/300\n",
      "\u001b[1m47/47\u001b[0m \u001b[32m━━━━━━━━━━━━━━━━━━━━\u001b[0m\u001b[37m\u001b[0m \u001b[1m0s\u001b[0m 3ms/step - loss: 0.1357\n",
      "Epoch 136/300\n",
      "\u001b[1m47/47\u001b[0m \u001b[32m━━━━━━━━━━━━━━━━━━━━\u001b[0m\u001b[37m\u001b[0m \u001b[1m0s\u001b[0m 3ms/step - loss: 0.1358\n",
      "Epoch 137/300\n",
      "\u001b[1m47/47\u001b[0m \u001b[32m━━━━━━━━━━━━━━━━━━━━\u001b[0m\u001b[37m\u001b[0m \u001b[1m0s\u001b[0m 3ms/step - loss: 0.1352\n",
      "Epoch 138/300\n",
      "\u001b[1m47/47\u001b[0m \u001b[32m━━━━━━━━━━━━━━━━━━━━\u001b[0m\u001b[37m\u001b[0m \u001b[1m0s\u001b[0m 3ms/step - loss: 0.1350\n",
      "Epoch 139/300\n",
      "\u001b[1m47/47\u001b[0m \u001b[32m━━━━━━━━━━━━━━━━━━━━\u001b[0m\u001b[37m\u001b[0m \u001b[1m0s\u001b[0m 3ms/step - loss: 0.1347\n",
      "Epoch 140/300\n",
      "\u001b[1m47/47\u001b[0m \u001b[32m━━━━━━━━━━━━━━━━━━━━\u001b[0m\u001b[37m\u001b[0m \u001b[1m0s\u001b[0m 3ms/step - loss: 0.1346\n",
      "Epoch 141/300\n",
      "\u001b[1m47/47\u001b[0m \u001b[32m━━━━━━━━━━━━━━━━━━━━\u001b[0m\u001b[37m\u001b[0m \u001b[1m0s\u001b[0m 3ms/step - loss: 0.1345\n",
      "Epoch 142/300\n",
      "\u001b[1m47/47\u001b[0m \u001b[32m━━━━━━━━━━━━━━━━━━━━\u001b[0m\u001b[37m\u001b[0m \u001b[1m0s\u001b[0m 4ms/step - loss: 0.1343\n",
      "Epoch 143/300\n",
      "\u001b[1m47/47\u001b[0m \u001b[32m━━━━━━━━━━━━━━━━━━━━\u001b[0m\u001b[37m\u001b[0m \u001b[1m0s\u001b[0m 4ms/step - loss: 0.1342\n",
      "Epoch 144/300\n",
      "\u001b[1m47/47\u001b[0m \u001b[32m━━━━━━━━━━━━━━━━━━━━\u001b[0m\u001b[37m\u001b[0m \u001b[1m0s\u001b[0m 3ms/step - loss: 0.1341\n",
      "Epoch 145/300\n",
      "\u001b[1m47/47\u001b[0m \u001b[32m━━━━━━━━━━━━━━━━━━━━\u001b[0m\u001b[37m\u001b[0m \u001b[1m0s\u001b[0m 3ms/step - loss: 0.1339\n",
      "Epoch 146/300\n",
      "\u001b[1m47/47\u001b[0m \u001b[32m━━━━━━━━━━━━━━━━━━━━\u001b[0m\u001b[37m\u001b[0m \u001b[1m0s\u001b[0m 3ms/step - loss: 0.1336\n",
      "Epoch 147/300\n",
      "\u001b[1m47/47\u001b[0m \u001b[32m━━━━━━━━━━━━━━━━━━━━\u001b[0m\u001b[37m\u001b[0m \u001b[1m0s\u001b[0m 3ms/step - loss: 0.1334\n",
      "Epoch 148/300\n",
      "\u001b[1m47/47\u001b[0m \u001b[32m━━━━━━━━━━━━━━━━━━━━\u001b[0m\u001b[37m\u001b[0m \u001b[1m0s\u001b[0m 3ms/step - loss: 0.1334\n",
      "Epoch 149/300\n",
      "\u001b[1m47/47\u001b[0m \u001b[32m━━━━━━━━━━━━━━━━━━━━\u001b[0m\u001b[37m\u001b[0m \u001b[1m0s\u001b[0m 3ms/step - loss: 0.1334\n",
      "Epoch 150/300\n",
      "\u001b[1m47/47\u001b[0m \u001b[32m━━━━━━━━━━━━━━━━━━━━\u001b[0m\u001b[37m\u001b[0m \u001b[1m0s\u001b[0m 3ms/step - loss: 0.1333\n",
      "Epoch 151/300\n",
      "\u001b[1m47/47\u001b[0m \u001b[32m━━━━━━━━━━━━━━━━━━━━\u001b[0m\u001b[37m\u001b[0m \u001b[1m0s\u001b[0m 3ms/step - loss: 0.1333\n",
      "Epoch 152/300\n",
      "\u001b[1m47/47\u001b[0m \u001b[32m━━━━━━━━━━━━━━━━━━━━\u001b[0m\u001b[37m\u001b[0m \u001b[1m0s\u001b[0m 3ms/step - loss: 0.1332\n",
      "Epoch 153/300\n",
      "\u001b[1m47/47\u001b[0m \u001b[32m━━━━━━━━━━━━━━━━━━━━\u001b[0m\u001b[37m\u001b[0m \u001b[1m0s\u001b[0m 3ms/step - loss: 0.1332\n",
      "Epoch 154/300\n",
      "\u001b[1m47/47\u001b[0m \u001b[32m━━━━━━━━━━━━━━━━━━━━\u001b[0m\u001b[37m\u001b[0m \u001b[1m0s\u001b[0m 3ms/step - loss: 0.1333\n",
      "Epoch 155/300\n",
      "\u001b[1m47/47\u001b[0m \u001b[32m━━━━━━━━━━━━━━━━━━━━\u001b[0m\u001b[37m\u001b[0m \u001b[1m0s\u001b[0m 3ms/step - loss: 0.1332\n",
      "Epoch 156/300\n",
      "\u001b[1m47/47\u001b[0m \u001b[32m━━━━━━━━━━━━━━━━━━━━\u001b[0m\u001b[37m\u001b[0m \u001b[1m0s\u001b[0m 3ms/step - loss: 0.1333\n",
      "Epoch 157/300\n",
      "\u001b[1m47/47\u001b[0m \u001b[32m━━━━━━━━━━━━━━━━━━━━\u001b[0m\u001b[37m\u001b[0m \u001b[1m0s\u001b[0m 3ms/step - loss: 0.1332\n",
      "Epoch 158/300\n",
      "\u001b[1m47/47\u001b[0m \u001b[32m━━━━━━━━━━━━━━━━━━━━\u001b[0m\u001b[37m\u001b[0m \u001b[1m0s\u001b[0m 3ms/step - loss: 0.1330\n",
      "Epoch 159/300\n",
      "\u001b[1m47/47\u001b[0m \u001b[32m━━━━━━━━━━━━━━━━━━━━\u001b[0m\u001b[37m\u001b[0m \u001b[1m0s\u001b[0m 4ms/step - loss: 0.1329\n",
      "Epoch 160/300\n",
      "\u001b[1m47/47\u001b[0m \u001b[32m━━━━━━━━━━━━━━━━━━━━\u001b[0m\u001b[37m\u001b[0m \u001b[1m0s\u001b[0m 3ms/step - loss: 0.1329\n",
      "Epoch 161/300\n",
      "\u001b[1m47/47\u001b[0m \u001b[32m━━━━━━━━━━━━━━━━━━━━\u001b[0m\u001b[37m\u001b[0m \u001b[1m0s\u001b[0m 3ms/step - loss: 0.1329\n",
      "Epoch 162/300\n",
      "\u001b[1m47/47\u001b[0m \u001b[32m━━━━━━━━━━━━━━━━━━━━\u001b[0m\u001b[37m\u001b[0m \u001b[1m0s\u001b[0m 3ms/step - loss: 0.1329\n",
      "Epoch 163/300\n",
      "\u001b[1m47/47\u001b[0m \u001b[32m━━━━━━━━━━━━━━━━━━━━\u001b[0m\u001b[37m\u001b[0m \u001b[1m0s\u001b[0m 3ms/step - loss: 0.1327\n",
      "Epoch 164/300\n",
      "\u001b[1m47/47\u001b[0m \u001b[32m━━━━━━━━━━━━━━━━━━━━\u001b[0m\u001b[37m\u001b[0m \u001b[1m0s\u001b[0m 3ms/step - loss: 0.1327\n",
      "Epoch 165/300\n",
      "\u001b[1m47/47\u001b[0m \u001b[32m━━━━━━━━━━━━━━━━━━━━\u001b[0m\u001b[37m\u001b[0m \u001b[1m0s\u001b[0m 3ms/step - loss: 0.1327\n",
      "Epoch 166/300\n",
      "\u001b[1m47/47\u001b[0m \u001b[32m━━━━━━━━━━━━━━━━━━━━\u001b[0m\u001b[37m\u001b[0m \u001b[1m0s\u001b[0m 3ms/step - loss: 0.1326\n",
      "Epoch 167/300\n",
      "\u001b[1m47/47\u001b[0m \u001b[32m━━━━━━━━━━━━━━━━━━━━\u001b[0m\u001b[37m\u001b[0m \u001b[1m0s\u001b[0m 3ms/step - loss: 0.1325\n",
      "Epoch 168/300\n",
      "\u001b[1m47/47\u001b[0m \u001b[32m━━━━━━━━━━━━━━━━━━━━\u001b[0m\u001b[37m\u001b[0m \u001b[1m0s\u001b[0m 3ms/step - loss: 0.1325\n",
      "Epoch 169/300\n",
      "\u001b[1m47/47\u001b[0m \u001b[32m━━━━━━━━━━━━━━━━━━━━\u001b[0m\u001b[37m\u001b[0m \u001b[1m0s\u001b[0m 3ms/step - loss: 0.1324\n",
      "Epoch 170/300\n",
      "\u001b[1m47/47\u001b[0m \u001b[32m━━━━━━━━━━━━━━━━━━━━\u001b[0m\u001b[37m\u001b[0m \u001b[1m0s\u001b[0m 3ms/step - loss: 0.1323\n",
      "Epoch 171/300\n",
      "\u001b[1m47/47\u001b[0m \u001b[32m━━━━━━━━━━━━━━━━━━━━\u001b[0m\u001b[37m\u001b[0m \u001b[1m0s\u001b[0m 3ms/step - loss: 0.1320\n",
      "Epoch 172/300\n",
      "\u001b[1m47/47\u001b[0m \u001b[32m━━━━━━━━━━━━━━━━━━━━\u001b[0m\u001b[37m\u001b[0m \u001b[1m0s\u001b[0m 3ms/step - loss: 0.1318\n",
      "Epoch 173/300\n",
      "\u001b[1m47/47\u001b[0m \u001b[32m━━━━━━━━━━━━━━━━━━━━\u001b[0m\u001b[37m\u001b[0m \u001b[1m0s\u001b[0m 3ms/step - loss: 0.1315\n",
      "Epoch 174/300\n",
      "\u001b[1m47/47\u001b[0m \u001b[32m━━━━━━━━━━━━━━━━━━━━\u001b[0m\u001b[37m\u001b[0m \u001b[1m0s\u001b[0m 3ms/step - loss: 0.1313\n",
      "Epoch 175/300\n",
      "\u001b[1m47/47\u001b[0m \u001b[32m━━━━━━━━━━━━━━━━━━━━\u001b[0m\u001b[37m\u001b[0m \u001b[1m0s\u001b[0m 3ms/step - loss: 0.1313\n",
      "Epoch 176/300\n",
      "\u001b[1m47/47\u001b[0m \u001b[32m━━━━━━━━━━━━━━━━━━━━\u001b[0m\u001b[37m\u001b[0m \u001b[1m0s\u001b[0m 3ms/step - loss: 0.1312\n",
      "Epoch 177/300\n",
      "\u001b[1m47/47\u001b[0m \u001b[32m━━━━━━━━━━━━━━━━━━━━\u001b[0m\u001b[37m\u001b[0m \u001b[1m0s\u001b[0m 3ms/step - loss: 0.1309\n",
      "Epoch 178/300\n",
      "\u001b[1m47/47\u001b[0m \u001b[32m━━━━━━━━━━━━━━━━━━━━\u001b[0m\u001b[37m\u001b[0m \u001b[1m0s\u001b[0m 3ms/step - loss: 0.1309\n",
      "Epoch 179/300\n",
      "\u001b[1m47/47\u001b[0m \u001b[32m━━━━━━━━━━━━━━━━━━━━\u001b[0m\u001b[37m\u001b[0m \u001b[1m0s\u001b[0m 3ms/step - loss: 0.1307\n",
      "Epoch 180/300\n",
      "\u001b[1m47/47\u001b[0m \u001b[32m━━━━━━━━━━━━━━━━━━━━\u001b[0m\u001b[37m\u001b[0m \u001b[1m0s\u001b[0m 3ms/step - loss: 0.1304\n",
      "Epoch 181/300\n",
      "\u001b[1m47/47\u001b[0m \u001b[32m━━━━━━━━━━━━━━━━━━━━\u001b[0m\u001b[37m\u001b[0m \u001b[1m0s\u001b[0m 3ms/step - loss: 0.1302\n",
      "Epoch 182/300\n",
      "\u001b[1m47/47\u001b[0m \u001b[32m━━━━━━━━━━━━━━━━━━━━\u001b[0m\u001b[37m\u001b[0m \u001b[1m0s\u001b[0m 3ms/step - loss: 0.1300\n",
      "Epoch 183/300\n",
      "\u001b[1m47/47\u001b[0m \u001b[32m━━━━━━━━━━━━━━━━━━━━\u001b[0m\u001b[37m\u001b[0m \u001b[1m0s\u001b[0m 3ms/step - loss: 0.1298\n",
      "Epoch 184/300\n",
      "\u001b[1m47/47\u001b[0m \u001b[32m━━━━━━━━━━━━━━━━━━━━\u001b[0m\u001b[37m\u001b[0m \u001b[1m0s\u001b[0m 3ms/step - loss: 0.1296\n",
      "Epoch 185/300\n",
      "\u001b[1m47/47\u001b[0m \u001b[32m━━━━━━━━━━━━━━━━━━━━\u001b[0m\u001b[37m\u001b[0m \u001b[1m0s\u001b[0m 3ms/step - loss: 0.1296\n",
      "Epoch 186/300\n",
      "\u001b[1m47/47\u001b[0m \u001b[32m━━━━━━━━━━━━━━━━━━━━\u001b[0m\u001b[37m\u001b[0m \u001b[1m0s\u001b[0m 3ms/step - loss: 0.1294\n",
      "Epoch 187/300\n",
      "\u001b[1m47/47\u001b[0m \u001b[32m━━━━━━━━━━━━━━━━━━━━\u001b[0m\u001b[37m\u001b[0m \u001b[1m0s\u001b[0m 3ms/step - loss: 0.1294\n",
      "Epoch 188/300\n",
      "\u001b[1m47/47\u001b[0m \u001b[32m━━━━━━━━━━━━━━━━━━━━\u001b[0m\u001b[37m\u001b[0m \u001b[1m0s\u001b[0m 3ms/step - loss: 0.1293\n",
      "Epoch 189/300\n",
      "\u001b[1m47/47\u001b[0m \u001b[32m━━━━━━━━━━━━━━━━━━━━\u001b[0m\u001b[37m\u001b[0m \u001b[1m0s\u001b[0m 3ms/step - loss: 0.1292\n",
      "Epoch 190/300\n",
      "\u001b[1m47/47\u001b[0m \u001b[32m━━━━━━━━━━━━━━━━━━━━\u001b[0m\u001b[37m\u001b[0m \u001b[1m0s\u001b[0m 3ms/step - loss: 0.1291\n",
      "Epoch 191/300\n",
      "\u001b[1m47/47\u001b[0m \u001b[32m━━━━━━━━━━━━━━━━━━━━\u001b[0m\u001b[37m\u001b[0m \u001b[1m0s\u001b[0m 3ms/step - loss: 0.1290\n",
      "Epoch 192/300\n",
      "\u001b[1m47/47\u001b[0m \u001b[32m━━━━━━━━━━━━━━━━━━━━\u001b[0m\u001b[37m\u001b[0m \u001b[1m0s\u001b[0m 3ms/step - loss: 0.1289\n",
      "Epoch 193/300\n",
      "\u001b[1m47/47\u001b[0m \u001b[32m━━━━━━━━━━━━━━━━━━━━\u001b[0m\u001b[37m\u001b[0m \u001b[1m0s\u001b[0m 3ms/step - loss: 0.1288\n",
      "Epoch 194/300\n",
      "\u001b[1m47/47\u001b[0m \u001b[32m━━━━━━━━━━━━━━━━━━━━\u001b[0m\u001b[37m\u001b[0m \u001b[1m0s\u001b[0m 3ms/step - loss: 0.1287\n",
      "Epoch 195/300\n",
      "\u001b[1m47/47\u001b[0m \u001b[32m━━━━━━━━━━━━━━━━━━━━\u001b[0m\u001b[37m\u001b[0m \u001b[1m0s\u001b[0m 3ms/step - loss: 0.1286\n",
      "Epoch 196/300\n",
      "\u001b[1m47/47\u001b[0m \u001b[32m━━━━━━━━━━━━━━━━━━━━\u001b[0m\u001b[37m\u001b[0m \u001b[1m0s\u001b[0m 3ms/step - loss: 0.1286\n",
      "Epoch 197/300\n",
      "\u001b[1m47/47\u001b[0m \u001b[32m━━━━━━━━━━━━━━━━━━━━\u001b[0m\u001b[37m\u001b[0m \u001b[1m0s\u001b[0m 4ms/step - loss: 0.1285\n",
      "Epoch 198/300\n",
      "\u001b[1m47/47\u001b[0m \u001b[32m━━━━━━━━━━━━━━━━━━━━\u001b[0m\u001b[37m\u001b[0m \u001b[1m0s\u001b[0m 3ms/step - loss: 0.1285\n",
      "Epoch 199/300\n",
      "\u001b[1m47/47\u001b[0m \u001b[32m━━━━━━━━━━━━━━━━━━━━\u001b[0m\u001b[37m\u001b[0m \u001b[1m0s\u001b[0m 3ms/step - loss: 0.1284\n",
      "Epoch 200/300\n",
      "\u001b[1m47/47\u001b[0m \u001b[32m━━━━━━━━━━━━━━━━━━━━\u001b[0m\u001b[37m\u001b[0m \u001b[1m0s\u001b[0m 3ms/step - loss: 0.1284\n",
      "Epoch 201/300\n",
      "\u001b[1m47/47\u001b[0m \u001b[32m━━━━━━━━━━━━━━━━━━━━\u001b[0m\u001b[37m\u001b[0m \u001b[1m0s\u001b[0m 3ms/step - loss: 0.1283\n",
      "Epoch 202/300\n",
      "\u001b[1m47/47\u001b[0m \u001b[32m━━━━━━━━━━━━━━━━━━━━\u001b[0m\u001b[37m\u001b[0m \u001b[1m0s\u001b[0m 3ms/step - loss: 0.1282\n",
      "Epoch 203/300\n",
      "\u001b[1m47/47\u001b[0m \u001b[32m━━━━━━━━━━━━━━━━━━━━\u001b[0m\u001b[37m\u001b[0m \u001b[1m0s\u001b[0m 3ms/step - loss: 0.1283\n",
      "Epoch 204/300\n",
      "\u001b[1m47/47\u001b[0m \u001b[32m━━━━━━━━━━━━━━━━━━━━\u001b[0m\u001b[37m\u001b[0m \u001b[1m0s\u001b[0m 3ms/step - loss: 0.1285\n",
      "Epoch 205/300\n",
      "\u001b[1m47/47\u001b[0m \u001b[32m━━━━━━━━━━━━━━━━━━━━\u001b[0m\u001b[37m\u001b[0m \u001b[1m0s\u001b[0m 3ms/step - loss: 0.1288\n",
      "Epoch 206/300\n",
      "\u001b[1m47/47\u001b[0m \u001b[32m━━━━━━━━━━━━━━━━━━━━\u001b[0m\u001b[37m\u001b[0m \u001b[1m0s\u001b[0m 3ms/step - loss: 0.1287\n",
      "Epoch 207/300\n",
      "\u001b[1m47/47\u001b[0m \u001b[32m━━━━━━━━━━━━━━━━━━━━\u001b[0m\u001b[37m\u001b[0m \u001b[1m0s\u001b[0m 3ms/step - loss: 0.1284\n",
      "Epoch 208/300\n",
      "\u001b[1m47/47\u001b[0m \u001b[32m━━━━━━━━━━━━━━━━━━━━\u001b[0m\u001b[37m\u001b[0m \u001b[1m0s\u001b[0m 3ms/step - loss: 0.1283\n",
      "Epoch 209/300\n",
      "\u001b[1m47/47\u001b[0m \u001b[32m━━━━━━━━━━━━━━━━━━━━\u001b[0m\u001b[37m\u001b[0m \u001b[1m0s\u001b[0m 3ms/step - loss: 0.1283\n",
      "Epoch 210/300\n",
      "\u001b[1m47/47\u001b[0m \u001b[32m━━━━━━━━━━━━━━━━━━━━\u001b[0m\u001b[37m\u001b[0m \u001b[1m0s\u001b[0m 3ms/step - loss: 0.1283\n",
      "Epoch 211/300\n",
      "\u001b[1m47/47\u001b[0m \u001b[32m━━━━━━━━━━━━━━━━━━━━\u001b[0m\u001b[37m\u001b[0m \u001b[1m0s\u001b[0m 3ms/step - loss: 0.1283\n",
      "Epoch 212/300\n",
      "\u001b[1m47/47\u001b[0m \u001b[32m━━━━━━━━━━━━━━━━━━━━\u001b[0m\u001b[37m\u001b[0m \u001b[1m0s\u001b[0m 3ms/step - loss: 0.1284\n",
      "Epoch 213/300\n",
      "\u001b[1m47/47\u001b[0m \u001b[32m━━━━━━━━━━━━━━━━━━━━\u001b[0m\u001b[37m\u001b[0m \u001b[1m0s\u001b[0m 3ms/step - loss: 0.1282\n",
      "Epoch 214/300\n",
      "\u001b[1m47/47\u001b[0m \u001b[32m━━━━━━━━━━━━━━━━━━━━\u001b[0m\u001b[37m\u001b[0m \u001b[1m0s\u001b[0m 3ms/step - loss: 0.1282\n",
      "Epoch 215/300\n",
      "\u001b[1m47/47\u001b[0m \u001b[32m━━━━━━━━━━━━━━━━━━━━\u001b[0m\u001b[37m\u001b[0m \u001b[1m0s\u001b[0m 3ms/step - loss: 0.1283\n",
      "Epoch 216/300\n",
      "\u001b[1m47/47\u001b[0m \u001b[32m━━━━━━━━━━━━━━━━━━━━\u001b[0m\u001b[37m\u001b[0m \u001b[1m0s\u001b[0m 3ms/step - loss: 0.1284\n",
      "Epoch 217/300\n",
      "\u001b[1m47/47\u001b[0m \u001b[32m━━━━━━━━━━━━━━━━━━━━\u001b[0m\u001b[37m\u001b[0m \u001b[1m0s\u001b[0m 3ms/step - loss: 0.1283\n",
      "Epoch 218/300\n",
      "\u001b[1m47/47\u001b[0m \u001b[32m━━━━━━━━━━━━━━━━━━━━\u001b[0m\u001b[37m\u001b[0m \u001b[1m0s\u001b[0m 3ms/step - loss: 0.1286\n",
      "Epoch 219/300\n",
      "\u001b[1m47/47\u001b[0m \u001b[32m━━━━━━━━━━━━━━━━━━━━\u001b[0m\u001b[37m\u001b[0m \u001b[1m0s\u001b[0m 3ms/step - loss: 0.1286\n",
      "Epoch 220/300\n",
      "\u001b[1m47/47\u001b[0m \u001b[32m━━━━━━━━━━━━━━━━━━━━\u001b[0m\u001b[37m\u001b[0m \u001b[1m0s\u001b[0m 3ms/step - loss: 0.1285\n",
      "Epoch 221/300\n",
      "\u001b[1m47/47\u001b[0m \u001b[32m━━━━━━━━━━━━━━━━━━━━\u001b[0m\u001b[37m\u001b[0m \u001b[1m0s\u001b[0m 3ms/step - loss: 0.1285\n",
      "Epoch 222/300\n",
      "\u001b[1m47/47\u001b[0m \u001b[32m━━━━━━━━━━━━━━━━━━━━\u001b[0m\u001b[37m\u001b[0m \u001b[1m0s\u001b[0m 3ms/step - loss: 0.1286\n",
      "Epoch 223/300\n",
      "\u001b[1m47/47\u001b[0m \u001b[32m━━━━━━━━━━━━━━━━━━━━\u001b[0m\u001b[37m\u001b[0m \u001b[1m0s\u001b[0m 3ms/step - loss: 0.1287\n",
      "Epoch 224/300\n",
      "\u001b[1m47/47\u001b[0m \u001b[32m━━━━━━━━━━━━━━━━━━━━\u001b[0m\u001b[37m\u001b[0m \u001b[1m0s\u001b[0m 3ms/step - loss: 0.1288\n",
      "Epoch 225/300\n",
      "\u001b[1m47/47\u001b[0m \u001b[32m━━━━━━━━━━━━━━━━━━━━\u001b[0m\u001b[37m\u001b[0m \u001b[1m0s\u001b[0m 3ms/step - loss: 0.1289\n",
      "Epoch 226/300\n",
      "\u001b[1m47/47\u001b[0m \u001b[32m━━━━━━━━━━━━━━━━━━━━\u001b[0m\u001b[37m\u001b[0m \u001b[1m0s\u001b[0m 3ms/step - loss: 0.1289\n",
      "Epoch 227/300\n",
      "\u001b[1m47/47\u001b[0m \u001b[32m━━━━━━━━━━━━━━━━━━━━\u001b[0m\u001b[37m\u001b[0m \u001b[1m0s\u001b[0m 3ms/step - loss: 0.1290\n",
      "Epoch 228/300\n",
      "\u001b[1m47/47\u001b[0m \u001b[32m━━━━━━━━━━━━━━━━━━━━\u001b[0m\u001b[37m\u001b[0m \u001b[1m0s\u001b[0m 3ms/step - loss: 0.1292\n",
      "Epoch 229/300\n",
      "\u001b[1m47/47\u001b[0m \u001b[32m━━━━━━━━━━━━━━━━━━━━\u001b[0m\u001b[37m\u001b[0m \u001b[1m0s\u001b[0m 3ms/step - loss: 0.1292\n",
      "Epoch 230/300\n",
      "\u001b[1m47/47\u001b[0m \u001b[32m━━━━━━━━━━━━━━━━━━━━\u001b[0m\u001b[37m\u001b[0m \u001b[1m0s\u001b[0m 3ms/step - loss: 0.1293\n",
      "Epoch 231/300\n",
      "\u001b[1m47/47\u001b[0m \u001b[32m━━━━━━━━━━━━━━━━━━━━\u001b[0m\u001b[37m\u001b[0m \u001b[1m0s\u001b[0m 3ms/step - loss: 0.1292\n",
      "Epoch 232/300\n",
      "\u001b[1m47/47\u001b[0m \u001b[32m━━━━━━━━━━━━━━━━━━━━\u001b[0m\u001b[37m\u001b[0m \u001b[1m0s\u001b[0m 3ms/step - loss: 0.1292\n",
      "Epoch 233/300\n",
      "\u001b[1m47/47\u001b[0m \u001b[32m━━━━━━━━━━━━━━━━━━━━\u001b[0m\u001b[37m\u001b[0m \u001b[1m0s\u001b[0m 3ms/step - loss: 0.1293\n",
      "Epoch 234/300\n",
      "\u001b[1m47/47\u001b[0m \u001b[32m━━━━━━━━━━━━━━━━━━━━\u001b[0m\u001b[37m\u001b[0m \u001b[1m0s\u001b[0m 3ms/step - loss: 0.1293\n",
      "Epoch 235/300\n",
      "\u001b[1m47/47\u001b[0m \u001b[32m━━━━━━━━━━━━━━━━━━━━\u001b[0m\u001b[37m\u001b[0m \u001b[1m0s\u001b[0m 3ms/step - loss: 0.1292\n",
      "Epoch 236/300\n",
      "\u001b[1m47/47\u001b[0m \u001b[32m━━━━━━━━━━━━━━━━━━━━\u001b[0m\u001b[37m\u001b[0m \u001b[1m0s\u001b[0m 3ms/step - loss: 0.1291\n",
      "Epoch 237/300\n",
      "\u001b[1m47/47\u001b[0m \u001b[32m━━━━━━━━━━━━━━━━━━━━\u001b[0m\u001b[37m\u001b[0m \u001b[1m0s\u001b[0m 3ms/step - loss: 0.1290\n",
      "Epoch 238/300\n",
      "\u001b[1m47/47\u001b[0m \u001b[32m━━━━━━━━━━━━━━━━━━━━\u001b[0m\u001b[37m\u001b[0m \u001b[1m0s\u001b[0m 3ms/step - loss: 0.1291\n",
      "Epoch 239/300\n",
      "\u001b[1m47/47\u001b[0m \u001b[32m━━━━━━━━━━━━━━━━━━━━\u001b[0m\u001b[37m\u001b[0m \u001b[1m0s\u001b[0m 3ms/step - loss: 0.1290\n",
      "Epoch 240/300\n",
      "\u001b[1m47/47\u001b[0m \u001b[32m━━━━━━━━━━━━━━━━━━━━\u001b[0m\u001b[37m\u001b[0m \u001b[1m0s\u001b[0m 3ms/step - loss: 0.1289\n",
      "Epoch 241/300\n",
      "\u001b[1m47/47\u001b[0m \u001b[32m━━━━━━━━━━━━━━━━━━━━\u001b[0m\u001b[37m\u001b[0m \u001b[1m0s\u001b[0m 3ms/step - loss: 0.1287\n",
      "Epoch 242/300\n",
      "\u001b[1m47/47\u001b[0m \u001b[32m━━━━━━━━━━━━━━━━━━━━\u001b[0m\u001b[37m\u001b[0m \u001b[1m0s\u001b[0m 3ms/step - loss: 0.1288\n",
      "Epoch 243/300\n",
      "\u001b[1m47/47\u001b[0m \u001b[32m━━━━━━━━━━━━━━━━━━━━\u001b[0m\u001b[37m\u001b[0m \u001b[1m0s\u001b[0m 3ms/step - loss: 0.1288\n",
      "Epoch 244/300\n",
      "\u001b[1m47/47\u001b[0m \u001b[32m━━━━━━━━━━━━━━━━━━━━\u001b[0m\u001b[37m\u001b[0m \u001b[1m0s\u001b[0m 3ms/step - loss: 0.1286\n",
      "Epoch 245/300\n",
      "\u001b[1m47/47\u001b[0m \u001b[32m━━━━━━━━━━━━━━━━━━━━\u001b[0m\u001b[37m\u001b[0m \u001b[1m0s\u001b[0m 3ms/step - loss: 0.1285\n",
      "Epoch 246/300\n",
      "\u001b[1m47/47\u001b[0m \u001b[32m━━━━━━━━━━━━━━━━━━━━\u001b[0m\u001b[37m\u001b[0m \u001b[1m0s\u001b[0m 3ms/step - loss: 0.1284\n",
      "Epoch 247/300\n",
      "\u001b[1m47/47\u001b[0m \u001b[32m━━━━━━━━━━━━━━━━━━━━\u001b[0m\u001b[37m\u001b[0m \u001b[1m0s\u001b[0m 3ms/step - loss: 0.1283\n",
      "Epoch 248/300\n",
      "\u001b[1m47/47\u001b[0m \u001b[32m━━━━━━━━━━━━━━━━━━━━\u001b[0m\u001b[37m\u001b[0m \u001b[1m0s\u001b[0m 3ms/step - loss: 0.1282\n",
      "Epoch 249/300\n",
      "\u001b[1m47/47\u001b[0m \u001b[32m━━━━━━━━━━━━━━━━━━━━\u001b[0m\u001b[37m\u001b[0m \u001b[1m0s\u001b[0m 3ms/step - loss: 0.1281\n",
      "Epoch 250/300\n",
      "\u001b[1m47/47\u001b[0m \u001b[32m━━━━━━━━━━━━━━━━━━━━\u001b[0m\u001b[37m\u001b[0m \u001b[1m0s\u001b[0m 3ms/step - loss: 0.1280\n",
      "Epoch 251/300\n",
      "\u001b[1m47/47\u001b[0m \u001b[32m━━━━━━━━━━━━━━━━━━━━\u001b[0m\u001b[37m\u001b[0m \u001b[1m0s\u001b[0m 3ms/step - loss: 0.1279\n",
      "Epoch 252/300\n",
      "\u001b[1m47/47\u001b[0m \u001b[32m━━━━━━━━━━━━━━━━━━━━\u001b[0m\u001b[37m\u001b[0m \u001b[1m0s\u001b[0m 4ms/step - loss: 0.1279\n",
      "Epoch 253/300\n",
      "\u001b[1m47/47\u001b[0m \u001b[32m━━━━━━━━━━━━━━━━━━━━\u001b[0m\u001b[37m\u001b[0m \u001b[1m0s\u001b[0m 3ms/step - loss: 0.1278\n",
      "Epoch 254/300\n",
      "\u001b[1m47/47\u001b[0m \u001b[32m━━━━━━━━━━━━━━━━━━━━\u001b[0m\u001b[37m\u001b[0m \u001b[1m0s\u001b[0m 3ms/step - loss: 0.1278\n",
      "Epoch 255/300\n",
      "\u001b[1m47/47\u001b[0m \u001b[32m━━━━━━━━━━━━━━━━━━━━\u001b[0m\u001b[37m\u001b[0m \u001b[1m0s\u001b[0m 3ms/step - loss: 0.1277\n",
      "Epoch 256/300\n",
      "\u001b[1m47/47\u001b[0m \u001b[32m━━━━━━━━━━━━━━━━━━━━\u001b[0m\u001b[37m\u001b[0m \u001b[1m0s\u001b[0m 3ms/step - loss: 0.1277\n",
      "Epoch 257/300\n",
      "\u001b[1m47/47\u001b[0m \u001b[32m━━━━━━━━━━━━━━━━━━━━\u001b[0m\u001b[37m\u001b[0m \u001b[1m0s\u001b[0m 3ms/step - loss: 0.1276\n",
      "Epoch 258/300\n",
      "\u001b[1m47/47\u001b[0m \u001b[32m━━━━━━━━━━━━━━━━━━━━\u001b[0m\u001b[37m\u001b[0m \u001b[1m0s\u001b[0m 3ms/step - loss: 0.1276\n",
      "Epoch 259/300\n",
      "\u001b[1m47/47\u001b[0m \u001b[32m━━━━━━━━━━━━━━━━━━━━\u001b[0m\u001b[37m\u001b[0m \u001b[1m0s\u001b[0m 3ms/step - loss: 0.1275\n",
      "Epoch 260/300\n",
      "\u001b[1m47/47\u001b[0m \u001b[32m━━━━━━━━━━━━━━━━━━━━\u001b[0m\u001b[37m\u001b[0m \u001b[1m0s\u001b[0m 3ms/step - loss: 0.1275\n",
      "Epoch 261/300\n",
      "\u001b[1m47/47\u001b[0m \u001b[32m━━━━━━━━━━━━━━━━━━━━\u001b[0m\u001b[37m\u001b[0m \u001b[1m0s\u001b[0m 3ms/step - loss: 0.1275\n",
      "Epoch 262/300\n",
      "\u001b[1m47/47\u001b[0m \u001b[32m━━━━━━━━━━━━━━━━━━━━\u001b[0m\u001b[37m\u001b[0m \u001b[1m0s\u001b[0m 3ms/step - loss: 0.1274\n",
      "Epoch 263/300\n",
      "\u001b[1m47/47\u001b[0m \u001b[32m━━━━━━━━━━━━━━━━━━━━\u001b[0m\u001b[37m\u001b[0m \u001b[1m0s\u001b[0m 3ms/step - loss: 0.1274\n",
      "Epoch 264/300\n",
      "\u001b[1m47/47\u001b[0m \u001b[32m━━━━━━━━━━━━━━━━━━━━\u001b[0m\u001b[37m\u001b[0m \u001b[1m0s\u001b[0m 3ms/step - loss: 0.1275\n",
      "Epoch 265/300\n",
      "\u001b[1m47/47\u001b[0m \u001b[32m━━━━━━━━━━━━━━━━━━━━\u001b[0m\u001b[37m\u001b[0m \u001b[1m0s\u001b[0m 3ms/step - loss: 0.1276\n",
      "Epoch 266/300\n",
      "\u001b[1m47/47\u001b[0m \u001b[32m━━━━━━━━━━━━━━━━━━━━\u001b[0m\u001b[37m\u001b[0m \u001b[1m0s\u001b[0m 3ms/step - loss: 0.1274\n",
      "Epoch 267/300\n",
      "\u001b[1m47/47\u001b[0m \u001b[32m━━━━━━━━━━━━━━━━━━━━\u001b[0m\u001b[37m\u001b[0m \u001b[1m0s\u001b[0m 3ms/step - loss: 0.1274\n",
      "Epoch 268/300\n",
      "\u001b[1m47/47\u001b[0m \u001b[32m━━━━━━━━━━━━━━━━━━━━\u001b[0m\u001b[37m\u001b[0m \u001b[1m0s\u001b[0m 3ms/step - loss: 0.1272\n",
      "Epoch 269/300\n",
      "\u001b[1m47/47\u001b[0m \u001b[32m━━━━━━━━━━━━━━━━━━━━\u001b[0m\u001b[37m\u001b[0m \u001b[1m0s\u001b[0m 3ms/step - loss: 0.1271\n",
      "Epoch 270/300\n",
      "\u001b[1m47/47\u001b[0m \u001b[32m━━━━━━━━━━━━━━━━━━━━\u001b[0m\u001b[37m\u001b[0m \u001b[1m0s\u001b[0m 3ms/step - loss: 0.1270\n",
      "Epoch 271/300\n",
      "\u001b[1m47/47\u001b[0m \u001b[32m━━━━━━━━━━━━━━━━━━━━\u001b[0m\u001b[37m\u001b[0m \u001b[1m0s\u001b[0m 4ms/step - loss: 0.1269\n",
      "Epoch 272/300\n",
      "\u001b[1m47/47\u001b[0m \u001b[32m━━━━━━━━━━━━━━━━━━━━\u001b[0m\u001b[37m\u001b[0m \u001b[1m0s\u001b[0m 4ms/step - loss: 0.1268\n",
      "Epoch 273/300\n",
      "\u001b[1m47/47\u001b[0m \u001b[32m━━━━━━━━━━━━━━━━━━━━\u001b[0m\u001b[37m\u001b[0m \u001b[1m0s\u001b[0m 4ms/step - loss: 0.1268\n",
      "Epoch 274/300\n",
      "\u001b[1m47/47\u001b[0m \u001b[32m━━━━━━━━━━━━━━━━━━━━\u001b[0m\u001b[37m\u001b[0m \u001b[1m0s\u001b[0m 3ms/step - loss: 0.1267\n",
      "Epoch 275/300\n",
      "\u001b[1m47/47\u001b[0m \u001b[32m━━━━━━━━━━━━━━━━━━━━\u001b[0m\u001b[37m\u001b[0m \u001b[1m0s\u001b[0m 4ms/step - loss: 0.1267\n",
      "Epoch 276/300\n",
      "\u001b[1m47/47\u001b[0m \u001b[32m━━━━━━━━━━━━━━━━━━━━\u001b[0m\u001b[37m\u001b[0m \u001b[1m0s\u001b[0m 4ms/step - loss: 0.1267\n",
      "Epoch 277/300\n",
      "\u001b[1m47/47\u001b[0m \u001b[32m━━━━━━━━━━━━━━━━━━━━\u001b[0m\u001b[37m\u001b[0m \u001b[1m0s\u001b[0m 4ms/step - loss: 0.1267\n",
      "Epoch 278/300\n",
      "\u001b[1m47/47\u001b[0m \u001b[32m━━━━━━━━━━━━━━━━━━━━\u001b[0m\u001b[37m\u001b[0m \u001b[1m0s\u001b[0m 4ms/step - loss: 0.1267\n",
      "Epoch 279/300\n",
      "\u001b[1m47/47\u001b[0m \u001b[32m━━━━━━━━━━━━━━━━━━━━\u001b[0m\u001b[37m\u001b[0m \u001b[1m0s\u001b[0m 3ms/step - loss: 0.1267\n",
      "Epoch 280/300\n",
      "\u001b[1m47/47\u001b[0m \u001b[32m━━━━━━━━━━━━━━━━━━━━\u001b[0m\u001b[37m\u001b[0m \u001b[1m0s\u001b[0m 3ms/step - loss: 0.1266\n",
      "Epoch 281/300\n",
      "\u001b[1m47/47\u001b[0m \u001b[32m━━━━━━━━━━━━━━━━━━━━\u001b[0m\u001b[37m\u001b[0m \u001b[1m0s\u001b[0m 3ms/step - loss: 0.1266\n",
      "Epoch 282/300\n",
      "\u001b[1m47/47\u001b[0m \u001b[32m━━━━━━━━━━━━━━━━━━━━\u001b[0m\u001b[37m\u001b[0m \u001b[1m0s\u001b[0m 3ms/step - loss: 0.1265\n",
      "Epoch 283/300\n",
      "\u001b[1m47/47\u001b[0m \u001b[32m━━━━━━━━━━━━━━━━━━━━\u001b[0m\u001b[37m\u001b[0m \u001b[1m0s\u001b[0m 3ms/step - loss: 0.1266\n",
      "Epoch 284/300\n",
      "\u001b[1m47/47\u001b[0m \u001b[32m━━━━━━━━━━━━━━━━━━━━\u001b[0m\u001b[37m\u001b[0m \u001b[1m0s\u001b[0m 3ms/step - loss: 0.1268\n",
      "Epoch 285/300\n",
      "\u001b[1m47/47\u001b[0m \u001b[32m━━━━━━━━━━━━━━━━━━━━\u001b[0m\u001b[37m\u001b[0m \u001b[1m0s\u001b[0m 3ms/step - loss: 0.1267\n",
      "Epoch 286/300\n",
      "\u001b[1m47/47\u001b[0m \u001b[32m━━━━━━━━━━━━━━━━━━━━\u001b[0m\u001b[37m\u001b[0m \u001b[1m0s\u001b[0m 3ms/step - loss: 0.1267\n",
      "Epoch 287/300\n",
      "\u001b[1m47/47\u001b[0m \u001b[32m━━━━━━━━━━━━━━━━━━━━\u001b[0m\u001b[37m\u001b[0m \u001b[1m0s\u001b[0m 3ms/step - loss: 0.1268\n",
      "Epoch 288/300\n",
      "\u001b[1m47/47\u001b[0m \u001b[32m━━━━━━━━━━━━━━━━━━━━\u001b[0m\u001b[37m\u001b[0m \u001b[1m0s\u001b[0m 3ms/step - loss: 0.1268\n",
      "Epoch 289/300\n",
      "\u001b[1m47/47\u001b[0m \u001b[32m━━━━━━━━━━━━━━━━━━━━\u001b[0m\u001b[37m\u001b[0m \u001b[1m0s\u001b[0m 3ms/step - loss: 0.1267\n",
      "Epoch 290/300\n",
      "\u001b[1m47/47\u001b[0m \u001b[32m━━━━━━━━━━━━━━━━━━━━\u001b[0m\u001b[37m\u001b[0m \u001b[1m0s\u001b[0m 3ms/step - loss: 0.1268\n",
      "Epoch 291/300\n",
      "\u001b[1m47/47\u001b[0m \u001b[32m━━━━━━━━━━━━━━━━━━━━\u001b[0m\u001b[37m\u001b[0m \u001b[1m0s\u001b[0m 3ms/step - loss: 0.1267\n",
      "Epoch 292/300\n",
      "\u001b[1m47/47\u001b[0m \u001b[32m━━━━━━━━━━━━━━━━━━━━\u001b[0m\u001b[37m\u001b[0m \u001b[1m0s\u001b[0m 3ms/step - loss: 0.1267\n",
      "Epoch 293/300\n",
      "\u001b[1m47/47\u001b[0m \u001b[32m━━━━━━━━━━━━━━━━━━━━\u001b[0m\u001b[37m\u001b[0m \u001b[1m0s\u001b[0m 3ms/step - loss: 0.1267\n",
      "Epoch 294/300\n",
      "\u001b[1m47/47\u001b[0m \u001b[32m━━━━━━━━━━━━━━━━━━━━\u001b[0m\u001b[37m\u001b[0m \u001b[1m0s\u001b[0m 3ms/step - loss: 0.1267\n",
      "Epoch 295/300\n",
      "\u001b[1m47/47\u001b[0m \u001b[32m━━━━━━━━━━━━━━━━━━━━\u001b[0m\u001b[37m\u001b[0m \u001b[1m0s\u001b[0m 4ms/step - loss: 0.1266\n",
      "Epoch 296/300\n",
      "\u001b[1m47/47\u001b[0m \u001b[32m━━━━━━━━━━━━━━━━━━━━\u001b[0m\u001b[37m\u001b[0m \u001b[1m0s\u001b[0m 3ms/step - loss: 0.1265\n",
      "Epoch 297/300\n",
      "\u001b[1m47/47\u001b[0m \u001b[32m━━━━━━━━━━━━━━━━━━━━\u001b[0m\u001b[37m\u001b[0m \u001b[1m0s\u001b[0m 3ms/step - loss: 0.1264\n",
      "Epoch 298/300\n",
      "\u001b[1m47/47\u001b[0m \u001b[32m━━━━━━━━━━━━━━━━━━━━\u001b[0m\u001b[37m\u001b[0m \u001b[1m0s\u001b[0m 3ms/step - loss: 0.1264\n",
      "Epoch 299/300\n",
      "\u001b[1m47/47\u001b[0m \u001b[32m━━━━━━━━━━━━━━━━━━━━\u001b[0m\u001b[37m\u001b[0m \u001b[1m0s\u001b[0m 4ms/step - loss: 0.1264\n",
      "Epoch 300/300\n",
      "\u001b[1m47/47\u001b[0m \u001b[32m━━━━━━━━━━━━━━━━━━━━\u001b[0m\u001b[37m\u001b[0m \u001b[1m0s\u001b[0m 3ms/step - loss: 0.1263\n"
     ]
    },
    {
     "data": {
      "text/plain": [
       "<keras.src.callbacks.history.History at 0x7ab4ec3922f0>"
      ]
     },
     "execution_count": 8,
     "metadata": {},
     "output_type": "execute_result"
    }
   ],
   "source": [
    "# Autoencoder gene features\n",
    "# encoder part\n",
    "tf.random.set_seed(42)\n",
    "inputs = Input(shape = (772,))\n",
    "encoder_1 = Dense(512, activation = 'relu')(inputs)\n",
    "batch_norm = BatchNormalization()(encoder_1)\n",
    "encoder_2 = Dense(420, activation = 'relu')(batch_norm)\n",
    "\n",
    "# decoder part\n",
    "decoder_1 = Dense(420, activation = 'relu')(encoder_2)\n",
    "batch_norm = BatchNormalization()(decoder_1)\n",
    "decoder_2 = Dense(512, activation = 'relu')(batch_norm)\n",
    "batch_norm = BatchNormalization()(decoder_2)\n",
    "decoder_3 = Dense(772)(encoder_2)\n",
    "\n",
    "model = tf.keras.Model(inputs = inputs, outputs = decoder_3)\n",
    "\n",
    "model.compile(optimizer = optimizers.Adam(), loss = 'mse')\n",
    "\n",
    "model.fit(x[gene_features], x[gene_features], batch_size = 512, epochs = 300, verbose = 1)"
   ]
  },
  {
   "cell_type": "code",
   "execution_count": 9,
   "id": "ea4b96fe",
   "metadata": {
    "execution": {
     "iopub.execute_input": "2024-05-20T19:34:12.876648Z",
     "iopub.status.busy": "2024-05-20T19:34:12.874479Z",
     "iopub.status.idle": "2024-05-20T19:34:12.907502Z",
     "shell.execute_reply": "2024-05-20T19:34:12.906459Z"
    },
    "papermill": {
     "duration": 0.185861,
     "end_time": "2024-05-20T19:34:12.909926",
     "exception": false,
     "start_time": "2024-05-20T19:34:12.724065",
     "status": "completed"
    },
    "tags": []
   },
   "outputs": [],
   "source": [
    "encoder = tf.keras.Model(inputs = inputs, outputs = encoder_2)\n",
    "encoder.save('encoders_gene_features.h5')"
   ]
  },
  {
   "cell_type": "code",
   "execution_count": 10,
   "id": "695ec953",
   "metadata": {
    "execution": {
     "iopub.execute_input": "2024-05-20T19:34:13.276540Z",
     "iopub.status.busy": "2024-05-20T19:34:13.276004Z",
     "iopub.status.idle": "2024-05-20T19:34:51.022989Z",
     "shell.execute_reply": "2024-05-20T19:34:51.022085Z"
    },
    "papermill": {
     "duration": 37.908244,
     "end_time": "2024-05-20T19:34:51.025415",
     "exception": false,
     "start_time": "2024-05-20T19:34:13.117171",
     "status": "completed"
    },
    "tags": []
   },
   "outputs": [
    {
     "name": "stdout",
     "output_type": "stream",
     "text": [
      "Epoch 1/300\n",
      "\u001b[1m27/47\u001b[0m \u001b[32m━━━━━━━━━━━\u001b[0m\u001b[37m━━━━━━━━━\u001b[0m \u001b[1m0s\u001b[0m 2ms/step - loss: 3.1276 "
     ]
    },
    {
     "name": "stderr",
     "output_type": "stream",
     "text": [
      "W0000 00:00:1716233655.919700      72 graph_launch.cc:671] Fallback to op-by-op mode because memset node breaks graph update\n"
     ]
    },
    {
     "name": "stdout",
     "output_type": "stream",
     "text": [
      "\u001b[1m47/47\u001b[0m \u001b[32m━━━━━━━━━━━━━━━━━━━━\u001b[0m\u001b[37m\u001b[0m \u001b[1m4s\u001b[0m 25ms/step - loss: 2.5610\n",
      "Epoch 2/300\n",
      "\u001b[1m47/47\u001b[0m \u001b[32m━━━━━━━━━━━━━━━━━━━━\u001b[0m\u001b[37m\u001b[0m \u001b[1m0s\u001b[0m 2ms/step - loss: 0.6120\n",
      "Epoch 3/300\n",
      "\u001b[1m47/47\u001b[0m \u001b[32m━━━━━━━━━━━━━━━━━━━━\u001b[0m\u001b[37m\u001b[0m \u001b[1m0s\u001b[0m 2ms/step - loss: 0.5559\n",
      "Epoch 4/300\n",
      "\u001b[1m47/47\u001b[0m \u001b[32m━━━━━━━━━━━━━━━━━━━━\u001b[0m\u001b[37m\u001b[0m \u001b[1m0s\u001b[0m 2ms/step - loss: 0.5227\n",
      "Epoch 5/300\n",
      "\u001b[1m47/47\u001b[0m \u001b[32m━━━━━━━━━━━━━━━━━━━━\u001b[0m\u001b[37m\u001b[0m \u001b[1m0s\u001b[0m 2ms/step - loss: 0.4980\n",
      "Epoch 6/300\n",
      "\u001b[1m47/47\u001b[0m \u001b[32m━━━━━━━━━━━━━━━━━━━━\u001b[0m\u001b[37m\u001b[0m \u001b[1m0s\u001b[0m 2ms/step - loss: 0.4769\n",
      "Epoch 7/300\n",
      "\u001b[1m47/47\u001b[0m \u001b[32m━━━━━━━━━━━━━━━━━━━━\u001b[0m\u001b[37m\u001b[0m \u001b[1m0s\u001b[0m 2ms/step - loss: 0.4597\n",
      "Epoch 8/300\n",
      "\u001b[1m47/47\u001b[0m \u001b[32m━━━━━━━━━━━━━━━━━━━━\u001b[0m\u001b[37m\u001b[0m \u001b[1m0s\u001b[0m 2ms/step - loss: 0.4443\n",
      "Epoch 9/300\n",
      "\u001b[1m47/47\u001b[0m \u001b[32m━━━━━━━━━━━━━━━━━━━━\u001b[0m\u001b[37m\u001b[0m \u001b[1m0s\u001b[0m 2ms/step - loss: 0.4310\n",
      "Epoch 10/300\n",
      "\u001b[1m47/47\u001b[0m \u001b[32m━━━━━━━━━━━━━━━━━━━━\u001b[0m\u001b[37m\u001b[0m \u001b[1m0s\u001b[0m 2ms/step - loss: 0.4189\n",
      "Epoch 11/300\n",
      "\u001b[1m47/47\u001b[0m \u001b[32m━━━━━━━━━━━━━━━━━━━━\u001b[0m\u001b[37m\u001b[0m \u001b[1m0s\u001b[0m 2ms/step - loss: 0.4080\n",
      "Epoch 12/300\n",
      "\u001b[1m47/47\u001b[0m \u001b[32m━━━━━━━━━━━━━━━━━━━━\u001b[0m\u001b[37m\u001b[0m \u001b[1m0s\u001b[0m 2ms/step - loss: 0.3982\n",
      "Epoch 13/300\n",
      "\u001b[1m47/47\u001b[0m \u001b[32m━━━━━━━━━━━━━━━━━━━━\u001b[0m\u001b[37m\u001b[0m \u001b[1m0s\u001b[0m 2ms/step - loss: 0.3888\n",
      "Epoch 14/300\n",
      "\u001b[1m47/47\u001b[0m \u001b[32m━━━━━━━━━━━━━━━━━━━━\u001b[0m\u001b[37m\u001b[0m \u001b[1m0s\u001b[0m 2ms/step - loss: 0.3794\n",
      "Epoch 15/300\n",
      "\u001b[1m47/47\u001b[0m \u001b[32m━━━━━━━━━━━━━━━━━━━━\u001b[0m\u001b[37m\u001b[0m \u001b[1m0s\u001b[0m 2ms/step - loss: 0.3707\n",
      "Epoch 16/300\n",
      "\u001b[1m47/47\u001b[0m \u001b[32m━━━━━━━━━━━━━━━━━━━━\u001b[0m\u001b[37m\u001b[0m \u001b[1m0s\u001b[0m 2ms/step - loss: 0.3624\n",
      "Epoch 17/300\n",
      "\u001b[1m47/47\u001b[0m \u001b[32m━━━━━━━━━━━━━━━━━━━━\u001b[0m\u001b[37m\u001b[0m \u001b[1m0s\u001b[0m 2ms/step - loss: 0.3541\n",
      "Epoch 18/300\n",
      "\u001b[1m47/47\u001b[0m \u001b[32m━━━━━━━━━━━━━━━━━━━━\u001b[0m\u001b[37m\u001b[0m \u001b[1m0s\u001b[0m 2ms/step - loss: 0.3460\n",
      "Epoch 19/300\n",
      "\u001b[1m47/47\u001b[0m \u001b[32m━━━━━━━━━━━━━━━━━━━━\u001b[0m\u001b[37m\u001b[0m \u001b[1m0s\u001b[0m 2ms/step - loss: 0.3383\n",
      "Epoch 20/300\n",
      "\u001b[1m47/47\u001b[0m \u001b[32m━━━━━━━━━━━━━━━━━━━━\u001b[0m\u001b[37m\u001b[0m \u001b[1m0s\u001b[0m 2ms/step - loss: 0.3315\n",
      "Epoch 21/300\n",
      "\u001b[1m47/47\u001b[0m \u001b[32m━━━━━━━━━━━━━━━━━━━━\u001b[0m\u001b[37m\u001b[0m \u001b[1m0s\u001b[0m 2ms/step - loss: 0.3244\n",
      "Epoch 22/300\n",
      "\u001b[1m47/47\u001b[0m \u001b[32m━━━━━━━━━━━━━━━━━━━━\u001b[0m\u001b[37m\u001b[0m \u001b[1m0s\u001b[0m 2ms/step - loss: 0.3190\n",
      "Epoch 23/300\n",
      "\u001b[1m47/47\u001b[0m \u001b[32m━━━━━━━━━━━━━━━━━━━━\u001b[0m\u001b[37m\u001b[0m \u001b[1m0s\u001b[0m 2ms/step - loss: 0.3103\n",
      "Epoch 24/300\n",
      "\u001b[1m47/47\u001b[0m \u001b[32m━━━━━━━━━━━━━━━━━━━━\u001b[0m\u001b[37m\u001b[0m \u001b[1m0s\u001b[0m 2ms/step - loss: 0.3037\n",
      "Epoch 25/300\n",
      "\u001b[1m47/47\u001b[0m \u001b[32m━━━━━━━━━━━━━━━━━━━━\u001b[0m\u001b[37m\u001b[0m \u001b[1m0s\u001b[0m 2ms/step - loss: 0.2972\n",
      "Epoch 26/300\n",
      "\u001b[1m47/47\u001b[0m \u001b[32m━━━━━━━━━━━━━━━━━━━━\u001b[0m\u001b[37m\u001b[0m \u001b[1m0s\u001b[0m 2ms/step - loss: 0.2910\n",
      "Epoch 27/300\n",
      "\u001b[1m47/47\u001b[0m \u001b[32m━━━━━━━━━━━━━━━━━━━━\u001b[0m\u001b[37m\u001b[0m \u001b[1m0s\u001b[0m 2ms/step - loss: 0.2853\n",
      "Epoch 28/300\n",
      "\u001b[1m47/47\u001b[0m \u001b[32m━━━━━━━━━━━━━━━━━━━━\u001b[0m\u001b[37m\u001b[0m \u001b[1m0s\u001b[0m 2ms/step - loss: 0.2792\n",
      "Epoch 29/300\n",
      "\u001b[1m47/47\u001b[0m \u001b[32m━━━━━━━━━━━━━━━━━━━━\u001b[0m\u001b[37m\u001b[0m \u001b[1m0s\u001b[0m 2ms/step - loss: 0.2743\n",
      "Epoch 30/300\n",
      "\u001b[1m47/47\u001b[0m \u001b[32m━━━━━━━━━━━━━━━━━━━━\u001b[0m\u001b[37m\u001b[0m \u001b[1m0s\u001b[0m 2ms/step - loss: 0.2689\n",
      "Epoch 31/300\n",
      "\u001b[1m47/47\u001b[0m \u001b[32m━━━━━━━━━━━━━━━━━━━━\u001b[0m\u001b[37m\u001b[0m \u001b[1m0s\u001b[0m 2ms/step - loss: 0.2647\n",
      "Epoch 32/300\n",
      "\u001b[1m47/47\u001b[0m \u001b[32m━━━━━━━━━━━━━━━━━━━━\u001b[0m\u001b[37m\u001b[0m \u001b[1m0s\u001b[0m 2ms/step - loss: 0.2606\n",
      "Epoch 33/300\n",
      "\u001b[1m47/47\u001b[0m \u001b[32m━━━━━━━━━━━━━━━━━━━━\u001b[0m\u001b[37m\u001b[0m \u001b[1m0s\u001b[0m 2ms/step - loss: 0.2563\n",
      "Epoch 34/300\n",
      "\u001b[1m47/47\u001b[0m \u001b[32m━━━━━━━━━━━━━━━━━━━━\u001b[0m\u001b[37m\u001b[0m \u001b[1m0s\u001b[0m 2ms/step - loss: 0.2524\n",
      "Epoch 35/300\n",
      "\u001b[1m47/47\u001b[0m \u001b[32m━━━━━━━━━━━━━━━━━━━━\u001b[0m\u001b[37m\u001b[0m \u001b[1m0s\u001b[0m 2ms/step - loss: 0.2483\n",
      "Epoch 36/300\n",
      "\u001b[1m47/47\u001b[0m \u001b[32m━━━━━━━━━━━━━━━━━━━━\u001b[0m\u001b[37m\u001b[0m \u001b[1m0s\u001b[0m 2ms/step - loss: 0.2431\n",
      "Epoch 37/300\n",
      "\u001b[1m47/47\u001b[0m \u001b[32m━━━━━━━━━━━━━━━━━━━━\u001b[0m\u001b[37m\u001b[0m \u001b[1m0s\u001b[0m 2ms/step - loss: 0.2401\n",
      "Epoch 38/300\n",
      "\u001b[1m47/47\u001b[0m \u001b[32m━━━━━━━━━━━━━━━━━━━━\u001b[0m\u001b[37m\u001b[0m \u001b[1m0s\u001b[0m 2ms/step - loss: 0.2352\n",
      "Epoch 39/300\n",
      "\u001b[1m47/47\u001b[0m \u001b[32m━━━━━━━━━━━━━━━━━━━━\u001b[0m\u001b[37m\u001b[0m \u001b[1m0s\u001b[0m 2ms/step - loss: 0.2328\n",
      "Epoch 40/300\n",
      "\u001b[1m47/47\u001b[0m \u001b[32m━━━━━━━━━━━━━━━━━━━━\u001b[0m\u001b[37m\u001b[0m \u001b[1m0s\u001b[0m 2ms/step - loss: 0.2289\n",
      "Epoch 41/300\n",
      "\u001b[1m47/47\u001b[0m \u001b[32m━━━━━━━━━━━━━━━━━━━━\u001b[0m\u001b[37m\u001b[0m \u001b[1m0s\u001b[0m 2ms/step - loss: 0.2256\n",
      "Epoch 42/300\n",
      "\u001b[1m47/47\u001b[0m \u001b[32m━━━━━━━━━━━━━━━━━━━━\u001b[0m\u001b[37m\u001b[0m \u001b[1m0s\u001b[0m 2ms/step - loss: 0.2217\n",
      "Epoch 43/300\n",
      "\u001b[1m47/47\u001b[0m \u001b[32m━━━━━━━━━━━━━━━━━━━━\u001b[0m\u001b[37m\u001b[0m \u001b[1m0s\u001b[0m 2ms/step - loss: 0.2185\n",
      "Epoch 44/300\n",
      "\u001b[1m47/47\u001b[0m \u001b[32m━━━━━━━━━━━━━━━━━━━━\u001b[0m\u001b[37m\u001b[0m \u001b[1m0s\u001b[0m 2ms/step - loss: 0.2157\n",
      "Epoch 45/300\n",
      "\u001b[1m47/47\u001b[0m \u001b[32m━━━━━━━━━━━━━━━━━━━━\u001b[0m\u001b[37m\u001b[0m \u001b[1m0s\u001b[0m 2ms/step - loss: 0.2130\n",
      "Epoch 46/300\n",
      "\u001b[1m47/47\u001b[0m \u001b[32m━━━━━━━━━━━━━━━━━━━━\u001b[0m\u001b[37m\u001b[0m \u001b[1m0s\u001b[0m 2ms/step - loss: 0.2096\n",
      "Epoch 47/300\n",
      "\u001b[1m47/47\u001b[0m \u001b[32m━━━━━━━━━━━━━━━━━━━━\u001b[0m\u001b[37m\u001b[0m \u001b[1m0s\u001b[0m 2ms/step - loss: 0.2069\n",
      "Epoch 48/300\n",
      "\u001b[1m47/47\u001b[0m \u001b[32m━━━━━━━━━━━━━━━━━━━━\u001b[0m\u001b[37m\u001b[0m \u001b[1m0s\u001b[0m 2ms/step - loss: 0.2038\n",
      "Epoch 49/300\n",
      "\u001b[1m47/47\u001b[0m \u001b[32m━━━━━━━━━━━━━━━━━━━━\u001b[0m\u001b[37m\u001b[0m \u001b[1m0s\u001b[0m 2ms/step - loss: 0.2015\n",
      "Epoch 50/300\n",
      "\u001b[1m47/47\u001b[0m \u001b[32m━━━━━━━━━━━━━━━━━━━━\u001b[0m\u001b[37m\u001b[0m \u001b[1m0s\u001b[0m 2ms/step - loss: 0.1995\n",
      "Epoch 51/300\n",
      "\u001b[1m47/47\u001b[0m \u001b[32m━━━━━━━━━━━━━━━━━━━━\u001b[0m\u001b[37m\u001b[0m \u001b[1m0s\u001b[0m 2ms/step - loss: 0.1965\n",
      "Epoch 52/300\n",
      "\u001b[1m47/47\u001b[0m \u001b[32m━━━━━━━━━━━━━━━━━━━━\u001b[0m\u001b[37m\u001b[0m \u001b[1m0s\u001b[0m 2ms/step - loss: 0.1947\n",
      "Epoch 53/300\n",
      "\u001b[1m47/47\u001b[0m \u001b[32m━━━━━━━━━━━━━━━━━━━━\u001b[0m\u001b[37m\u001b[0m \u001b[1m0s\u001b[0m 2ms/step - loss: 0.1914\n",
      "Epoch 54/300\n",
      "\u001b[1m47/47\u001b[0m \u001b[32m━━━━━━━━━━━━━━━━━━━━\u001b[0m\u001b[37m\u001b[0m \u001b[1m0s\u001b[0m 2ms/step - loss: 0.1887\n",
      "Epoch 55/300\n",
      "\u001b[1m47/47\u001b[0m \u001b[32m━━━━━━━━━━━━━━━━━━━━\u001b[0m\u001b[37m\u001b[0m \u001b[1m0s\u001b[0m 2ms/step - loss: 0.1866\n",
      "Epoch 56/300\n",
      "\u001b[1m47/47\u001b[0m \u001b[32m━━━━━━━━━━━━━━━━━━━━\u001b[0m\u001b[37m\u001b[0m \u001b[1m0s\u001b[0m 2ms/step - loss: 0.1841\n",
      "Epoch 57/300\n",
      "\u001b[1m47/47\u001b[0m \u001b[32m━━━━━━━━━━━━━━━━━━━━\u001b[0m\u001b[37m\u001b[0m \u001b[1m0s\u001b[0m 2ms/step - loss: 0.1826\n",
      "Epoch 58/300\n",
      "\u001b[1m47/47\u001b[0m \u001b[32m━━━━━━━━━━━━━━━━━━━━\u001b[0m\u001b[37m\u001b[0m \u001b[1m0s\u001b[0m 2ms/step - loss: 0.1804\n",
      "Epoch 59/300\n",
      "\u001b[1m47/47\u001b[0m \u001b[32m━━━━━━━━━━━━━━━━━━━━\u001b[0m\u001b[37m\u001b[0m \u001b[1m0s\u001b[0m 2ms/step - loss: 0.1807\n",
      "Epoch 60/300\n",
      "\u001b[1m47/47\u001b[0m \u001b[32m━━━━━━━━━━━━━━━━━━━━\u001b[0m\u001b[37m\u001b[0m \u001b[1m0s\u001b[0m 2ms/step - loss: 0.1797\n",
      "Epoch 61/300\n",
      "\u001b[1m47/47\u001b[0m \u001b[32m━━━━━━━━━━━━━━━━━━━━\u001b[0m\u001b[37m\u001b[0m \u001b[1m0s\u001b[0m 2ms/step - loss: 0.1755\n",
      "Epoch 62/300\n",
      "\u001b[1m47/47\u001b[0m \u001b[32m━━━━━━━━━━━━━━━━━━━━\u001b[0m\u001b[37m\u001b[0m \u001b[1m0s\u001b[0m 2ms/step - loss: 0.1737\n",
      "Epoch 63/300\n",
      "\u001b[1m47/47\u001b[0m \u001b[32m━━━━━━━━━━━━━━━━━━━━\u001b[0m\u001b[37m\u001b[0m \u001b[1m0s\u001b[0m 2ms/step - loss: 0.1714\n",
      "Epoch 64/300\n",
      "\u001b[1m47/47\u001b[0m \u001b[32m━━━━━━━━━━━━━━━━━━━━\u001b[0m\u001b[37m\u001b[0m \u001b[1m0s\u001b[0m 2ms/step - loss: 0.1710\n",
      "Epoch 65/300\n",
      "\u001b[1m47/47\u001b[0m \u001b[32m━━━━━━━━━━━━━━━━━━━━\u001b[0m\u001b[37m\u001b[0m \u001b[1m0s\u001b[0m 2ms/step - loss: 0.1695\n",
      "Epoch 66/300\n",
      "\u001b[1m47/47\u001b[0m \u001b[32m━━━━━━━━━━━━━━━━━━━━\u001b[0m\u001b[37m\u001b[0m \u001b[1m0s\u001b[0m 2ms/step - loss: 0.1695\n",
      "Epoch 67/300\n",
      "\u001b[1m47/47\u001b[0m \u001b[32m━━━━━━━━━━━━━━━━━━━━\u001b[0m\u001b[37m\u001b[0m \u001b[1m0s\u001b[0m 2ms/step - loss: 0.1679\n",
      "Epoch 68/300\n",
      "\u001b[1m47/47\u001b[0m \u001b[32m━━━━━━━━━━━━━━━━━━━━\u001b[0m\u001b[37m\u001b[0m \u001b[1m0s\u001b[0m 2ms/step - loss: 0.1660\n",
      "Epoch 69/300\n",
      "\u001b[1m47/47\u001b[0m \u001b[32m━━━━━━━━━━━━━━━━━━━━\u001b[0m\u001b[37m\u001b[0m \u001b[1m0s\u001b[0m 2ms/step - loss: 0.1655\n",
      "Epoch 70/300\n",
      "\u001b[1m47/47\u001b[0m \u001b[32m━━━━━━━━━━━━━━━━━━━━\u001b[0m\u001b[37m\u001b[0m \u001b[1m0s\u001b[0m 2ms/step - loss: 0.1631\n",
      "Epoch 71/300\n",
      "\u001b[1m47/47\u001b[0m \u001b[32m━━━━━━━━━━━━━━━━━━━━\u001b[0m\u001b[37m\u001b[0m \u001b[1m0s\u001b[0m 2ms/step - loss: 0.1621\n",
      "Epoch 72/300\n",
      "\u001b[1m47/47\u001b[0m \u001b[32m━━━━━━━━━━━━━━━━━━━━\u001b[0m\u001b[37m\u001b[0m \u001b[1m0s\u001b[0m 2ms/step - loss: 0.1610\n",
      "Epoch 73/300\n",
      "\u001b[1m47/47\u001b[0m \u001b[32m━━━━━━━━━━━━━━━━━━━━\u001b[0m\u001b[37m\u001b[0m \u001b[1m0s\u001b[0m 2ms/step - loss: 0.1598\n",
      "Epoch 74/300\n",
      "\u001b[1m47/47\u001b[0m \u001b[32m━━━━━━━━━━━━━━━━━━━━\u001b[0m\u001b[37m\u001b[0m \u001b[1m0s\u001b[0m 2ms/step - loss: 0.1587\n",
      "Epoch 75/300\n",
      "\u001b[1m47/47\u001b[0m \u001b[32m━━━━━━━━━━━━━━━━━━━━\u001b[0m\u001b[37m\u001b[0m \u001b[1m0s\u001b[0m 2ms/step - loss: 0.1580\n",
      "Epoch 76/300\n",
      "\u001b[1m47/47\u001b[0m \u001b[32m━━━━━━━━━━━━━━━━━━━━\u001b[0m\u001b[37m\u001b[0m \u001b[1m0s\u001b[0m 2ms/step - loss: 0.1572\n",
      "Epoch 77/300\n",
      "\u001b[1m47/47\u001b[0m \u001b[32m━━━━━━━━━━━━━━━━━━━━\u001b[0m\u001b[37m\u001b[0m \u001b[1m0s\u001b[0m 2ms/step - loss: 0.1567\n",
      "Epoch 78/300\n",
      "\u001b[1m47/47\u001b[0m \u001b[32m━━━━━━━━━━━━━━━━━━━━\u001b[0m\u001b[37m\u001b[0m \u001b[1m0s\u001b[0m 2ms/step - loss: 0.1545\n",
      "Epoch 79/300\n",
      "\u001b[1m47/47\u001b[0m \u001b[32m━━━━━━━━━━━━━━━━━━━━\u001b[0m\u001b[37m\u001b[0m \u001b[1m0s\u001b[0m 2ms/step - loss: 0.1548\n",
      "Epoch 80/300\n",
      "\u001b[1m47/47\u001b[0m \u001b[32m━━━━━━━━━━━━━━━━━━━━\u001b[0m\u001b[37m\u001b[0m \u001b[1m0s\u001b[0m 2ms/step - loss: 0.1526\n",
      "Epoch 81/300\n",
      "\u001b[1m47/47\u001b[0m \u001b[32m━━━━━━━━━━━━━━━━━━━━\u001b[0m\u001b[37m\u001b[0m \u001b[1m0s\u001b[0m 2ms/step - loss: 0.1522\n",
      "Epoch 82/300\n",
      "\u001b[1m47/47\u001b[0m \u001b[32m━━━━━━━━━━━━━━━━━━━━\u001b[0m\u001b[37m\u001b[0m \u001b[1m0s\u001b[0m 2ms/step - loss: 0.1506\n",
      "Epoch 83/300\n",
      "\u001b[1m47/47\u001b[0m \u001b[32m━━━━━━━━━━━━━━━━━━━━\u001b[0m\u001b[37m\u001b[0m \u001b[1m0s\u001b[0m 2ms/step - loss: 0.1497\n",
      "Epoch 84/300\n",
      "\u001b[1m47/47\u001b[0m \u001b[32m━━━━━━━━━━━━━━━━━━━━\u001b[0m\u001b[37m\u001b[0m \u001b[1m0s\u001b[0m 2ms/step - loss: 0.1481\n",
      "Epoch 85/300\n",
      "\u001b[1m47/47\u001b[0m \u001b[32m━━━━━━━━━━━━━━━━━━━━\u001b[0m\u001b[37m\u001b[0m \u001b[1m0s\u001b[0m 2ms/step - loss: 0.1477\n",
      "Epoch 86/300\n",
      "\u001b[1m47/47\u001b[0m \u001b[32m━━━━━━━━━━━━━━━━━━━━\u001b[0m\u001b[37m\u001b[0m \u001b[1m0s\u001b[0m 2ms/step - loss: 0.1451\n",
      "Epoch 87/300\n",
      "\u001b[1m47/47\u001b[0m \u001b[32m━━━━━━━━━━━━━━━━━━━━\u001b[0m\u001b[37m\u001b[0m \u001b[1m0s\u001b[0m 2ms/step - loss: 0.1451\n",
      "Epoch 88/300\n",
      "\u001b[1m47/47\u001b[0m \u001b[32m━━━━━━━━━━━━━━━━━━━━\u001b[0m\u001b[37m\u001b[0m \u001b[1m0s\u001b[0m 2ms/step - loss: 0.1432\n",
      "Epoch 89/300\n",
      "\u001b[1m47/47\u001b[0m \u001b[32m━━━━━━━━━━━━━━━━━━━━\u001b[0m\u001b[37m\u001b[0m \u001b[1m0s\u001b[0m 2ms/step - loss: 0.1426\n",
      "Epoch 90/300\n",
      "\u001b[1m47/47\u001b[0m \u001b[32m━━━━━━━━━━━━━━━━━━━━\u001b[0m\u001b[37m\u001b[0m \u001b[1m0s\u001b[0m 2ms/step - loss: 0.1408\n",
      "Epoch 91/300\n",
      "\u001b[1m47/47\u001b[0m \u001b[32m━━━━━━━━━━━━━━━━━━━━\u001b[0m\u001b[37m\u001b[0m \u001b[1m0s\u001b[0m 2ms/step - loss: 0.1411\n",
      "Epoch 92/300\n",
      "\u001b[1m47/47\u001b[0m \u001b[32m━━━━━━━━━━━━━━━━━━━━\u001b[0m\u001b[37m\u001b[0m \u001b[1m0s\u001b[0m 2ms/step - loss: 0.1395\n",
      "Epoch 93/300\n",
      "\u001b[1m47/47\u001b[0m \u001b[32m━━━━━━━━━━━━━━━━━━━━\u001b[0m\u001b[37m\u001b[0m \u001b[1m0s\u001b[0m 2ms/step - loss: 0.1384\n",
      "Epoch 94/300\n",
      "\u001b[1m47/47\u001b[0m \u001b[32m━━━━━━━━━━━━━━━━━━━━\u001b[0m\u001b[37m\u001b[0m \u001b[1m0s\u001b[0m 2ms/step - loss: 0.1371\n",
      "Epoch 95/300\n",
      "\u001b[1m47/47\u001b[0m \u001b[32m━━━━━━━━━━━━━━━━━━━━\u001b[0m\u001b[37m\u001b[0m \u001b[1m0s\u001b[0m 2ms/step - loss: 0.1364\n",
      "Epoch 96/300\n",
      "\u001b[1m47/47\u001b[0m \u001b[32m━━━━━━━━━━━━━━━━━━━━\u001b[0m\u001b[37m\u001b[0m \u001b[1m0s\u001b[0m 2ms/step - loss: 0.1356\n",
      "Epoch 97/300\n",
      "\u001b[1m47/47\u001b[0m \u001b[32m━━━━━━━━━━━━━━━━━━━━\u001b[0m\u001b[37m\u001b[0m \u001b[1m0s\u001b[0m 2ms/step - loss: 0.1353\n",
      "Epoch 98/300\n",
      "\u001b[1m47/47\u001b[0m \u001b[32m━━━━━━━━━━━━━━━━━━━━\u001b[0m\u001b[37m\u001b[0m \u001b[1m0s\u001b[0m 2ms/step - loss: 0.1344\n",
      "Epoch 99/300\n",
      "\u001b[1m47/47\u001b[0m \u001b[32m━━━━━━━━━━━━━━━━━━━━\u001b[0m\u001b[37m\u001b[0m \u001b[1m0s\u001b[0m 2ms/step - loss: 0.1342\n",
      "Epoch 100/300\n",
      "\u001b[1m47/47\u001b[0m \u001b[32m━━━━━━━━━━━━━━━━━━━━\u001b[0m\u001b[37m\u001b[0m \u001b[1m0s\u001b[0m 2ms/step - loss: 0.1331\n",
      "Epoch 101/300\n",
      "\u001b[1m47/47\u001b[0m \u001b[32m━━━━━━━━━━━━━━━━━━━━\u001b[0m\u001b[37m\u001b[0m \u001b[1m0s\u001b[0m 2ms/step - loss: 0.1325\n",
      "Epoch 102/300\n",
      "\u001b[1m47/47\u001b[0m \u001b[32m━━━━━━━━━━━━━━━━━━━━\u001b[0m\u001b[37m\u001b[0m \u001b[1m0s\u001b[0m 2ms/step - loss: 0.1316\n",
      "Epoch 103/300\n",
      "\u001b[1m47/47\u001b[0m \u001b[32m━━━━━━━━━━━━━━━━━━━━\u001b[0m\u001b[37m\u001b[0m \u001b[1m0s\u001b[0m 2ms/step - loss: 0.1321\n",
      "Epoch 104/300\n",
      "\u001b[1m47/47\u001b[0m \u001b[32m━━━━━━━━━━━━━━━━━━━━\u001b[0m\u001b[37m\u001b[0m \u001b[1m0s\u001b[0m 2ms/step - loss: 0.1314\n",
      "Epoch 105/300\n",
      "\u001b[1m47/47\u001b[0m \u001b[32m━━━━━━━━━━━━━━━━━━━━\u001b[0m\u001b[37m\u001b[0m \u001b[1m0s\u001b[0m 2ms/step - loss: 0.1307\n",
      "Epoch 106/300\n",
      "\u001b[1m47/47\u001b[0m \u001b[32m━━━━━━━━━━━━━━━━━━━━\u001b[0m\u001b[37m\u001b[0m \u001b[1m0s\u001b[0m 2ms/step - loss: 0.1297\n",
      "Epoch 107/300\n",
      "\u001b[1m47/47\u001b[0m \u001b[32m━━━━━━━━━━━━━━━━━━━━\u001b[0m\u001b[37m\u001b[0m \u001b[1m0s\u001b[0m 2ms/step - loss: 0.1298\n",
      "Epoch 108/300\n",
      "\u001b[1m47/47\u001b[0m \u001b[32m━━━━━━━━━━━━━━━━━━━━\u001b[0m\u001b[37m\u001b[0m \u001b[1m0s\u001b[0m 2ms/step - loss: 0.1290\n",
      "Epoch 109/300\n",
      "\u001b[1m47/47\u001b[0m \u001b[32m━━━━━━━━━━━━━━━━━━━━\u001b[0m\u001b[37m\u001b[0m \u001b[1m0s\u001b[0m 2ms/step - loss: 0.1290\n",
      "Epoch 110/300\n",
      "\u001b[1m47/47\u001b[0m \u001b[32m━━━━━━━━━━━━━━━━━━━━\u001b[0m\u001b[37m\u001b[0m \u001b[1m0s\u001b[0m 2ms/step - loss: 0.1285\n",
      "Epoch 111/300\n",
      "\u001b[1m47/47\u001b[0m \u001b[32m━━━━━━━━━━━━━━━━━━━━\u001b[0m\u001b[37m\u001b[0m \u001b[1m0s\u001b[0m 2ms/step - loss: 0.1288\n",
      "Epoch 112/300\n",
      "\u001b[1m47/47\u001b[0m \u001b[32m━━━━━━━━━━━━━━━━━━━━\u001b[0m\u001b[37m\u001b[0m \u001b[1m0s\u001b[0m 2ms/step - loss: 0.1278\n",
      "Epoch 113/300\n",
      "\u001b[1m47/47\u001b[0m \u001b[32m━━━━━━━━━━━━━━━━━━━━\u001b[0m\u001b[37m\u001b[0m \u001b[1m0s\u001b[0m 2ms/step - loss: 0.1272\n",
      "Epoch 114/300\n",
      "\u001b[1m47/47\u001b[0m \u001b[32m━━━━━━━━━━━━━━━━━━━━\u001b[0m\u001b[37m\u001b[0m \u001b[1m0s\u001b[0m 2ms/step - loss: 0.1265\n",
      "Epoch 115/300\n",
      "\u001b[1m47/47\u001b[0m \u001b[32m━━━━━━━━━━━━━━━━━━━━\u001b[0m\u001b[37m\u001b[0m \u001b[1m0s\u001b[0m 2ms/step - loss: 0.1264\n",
      "Epoch 116/300\n",
      "\u001b[1m47/47\u001b[0m \u001b[32m━━━━━━━━━━━━━━━━━━━━\u001b[0m\u001b[37m\u001b[0m \u001b[1m0s\u001b[0m 2ms/step - loss: 0.1260\n",
      "Epoch 117/300\n",
      "\u001b[1m47/47\u001b[0m \u001b[32m━━━━━━━━━━━━━━━━━━━━\u001b[0m\u001b[37m\u001b[0m \u001b[1m0s\u001b[0m 2ms/step - loss: 0.1259\n",
      "Epoch 118/300\n",
      "\u001b[1m47/47\u001b[0m \u001b[32m━━━━━━━━━━━━━━━━━━━━\u001b[0m\u001b[37m\u001b[0m \u001b[1m0s\u001b[0m 2ms/step - loss: 0.1247\n",
      "Epoch 119/300\n",
      "\u001b[1m47/47\u001b[0m \u001b[32m━━━━━━━━━━━━━━━━━━━━\u001b[0m\u001b[37m\u001b[0m \u001b[1m0s\u001b[0m 2ms/step - loss: 0.1244\n",
      "Epoch 120/300\n",
      "\u001b[1m47/47\u001b[0m \u001b[32m━━━━━━━━━━━━━━━━━━━━\u001b[0m\u001b[37m\u001b[0m \u001b[1m0s\u001b[0m 2ms/step - loss: 0.1240\n",
      "Epoch 121/300\n",
      "\u001b[1m47/47\u001b[0m \u001b[32m━━━━━━━━━━━━━━━━━━━━\u001b[0m\u001b[37m\u001b[0m \u001b[1m0s\u001b[0m 2ms/step - loss: 0.1238\n",
      "Epoch 122/300\n",
      "\u001b[1m47/47\u001b[0m \u001b[32m━━━━━━━━━━━━━━━━━━━━\u001b[0m\u001b[37m\u001b[0m \u001b[1m0s\u001b[0m 2ms/step - loss: 0.1233\n",
      "Epoch 123/300\n",
      "\u001b[1m47/47\u001b[0m \u001b[32m━━━━━━━━━━━━━━━━━━━━\u001b[0m\u001b[37m\u001b[0m \u001b[1m0s\u001b[0m 2ms/step - loss: 0.1231\n",
      "Epoch 124/300\n",
      "\u001b[1m47/47\u001b[0m \u001b[32m━━━━━━━━━━━━━━━━━━━━\u001b[0m\u001b[37m\u001b[0m \u001b[1m0s\u001b[0m 2ms/step - loss: 0.1226\n",
      "Epoch 125/300\n",
      "\u001b[1m47/47\u001b[0m \u001b[32m━━━━━━━━━━━━━━━━━━━━\u001b[0m\u001b[37m\u001b[0m \u001b[1m0s\u001b[0m 2ms/step - loss: 0.1223\n",
      "Epoch 126/300\n",
      "\u001b[1m47/47\u001b[0m \u001b[32m━━━━━━━━━━━━━━━━━━━━\u001b[0m\u001b[37m\u001b[0m \u001b[1m0s\u001b[0m 2ms/step - loss: 0.1223\n",
      "Epoch 127/300\n",
      "\u001b[1m47/47\u001b[0m \u001b[32m━━━━━━━━━━━━━━━━━━━━\u001b[0m\u001b[37m\u001b[0m \u001b[1m0s\u001b[0m 2ms/step - loss: 0.1221\n",
      "Epoch 128/300\n",
      "\u001b[1m47/47\u001b[0m \u001b[32m━━━━━━━━━━━━━━━━━━━━\u001b[0m\u001b[37m\u001b[0m \u001b[1m0s\u001b[0m 2ms/step - loss: 0.1213\n",
      "Epoch 129/300\n",
      "\u001b[1m47/47\u001b[0m \u001b[32m━━━━━━━━━━━━━━━━━━━━\u001b[0m\u001b[37m\u001b[0m \u001b[1m0s\u001b[0m 2ms/step - loss: 0.1211\n",
      "Epoch 130/300\n",
      "\u001b[1m47/47\u001b[0m \u001b[32m━━━━━━━━━━━━━━━━━━━━\u001b[0m\u001b[37m\u001b[0m \u001b[1m0s\u001b[0m 2ms/step - loss: 0.1207\n",
      "Epoch 131/300\n",
      "\u001b[1m47/47\u001b[0m \u001b[32m━━━━━━━━━━━━━━━━━━━━\u001b[0m\u001b[37m\u001b[0m \u001b[1m0s\u001b[0m 2ms/step - loss: 0.1207\n",
      "Epoch 132/300\n",
      "\u001b[1m47/47\u001b[0m \u001b[32m━━━━━━━━━━━━━━━━━━━━\u001b[0m\u001b[37m\u001b[0m \u001b[1m0s\u001b[0m 2ms/step - loss: 0.1201\n",
      "Epoch 133/300\n",
      "\u001b[1m47/47\u001b[0m \u001b[32m━━━━━━━━━━━━━━━━━━━━\u001b[0m\u001b[37m\u001b[0m \u001b[1m0s\u001b[0m 2ms/step - loss: 0.1204\n",
      "Epoch 134/300\n",
      "\u001b[1m47/47\u001b[0m \u001b[32m━━━━━━━━━━━━━━━━━━━━\u001b[0m\u001b[37m\u001b[0m \u001b[1m0s\u001b[0m 2ms/step - loss: 0.1199\n",
      "Epoch 135/300\n",
      "\u001b[1m47/47\u001b[0m \u001b[32m━━━━━━━━━━━━━━━━━━━━\u001b[0m\u001b[37m\u001b[0m \u001b[1m0s\u001b[0m 2ms/step - loss: 0.1195\n",
      "Epoch 136/300\n",
      "\u001b[1m47/47\u001b[0m \u001b[32m━━━━━━━━━━━━━━━━━━━━\u001b[0m\u001b[37m\u001b[0m \u001b[1m0s\u001b[0m 2ms/step - loss: 0.1189\n",
      "Epoch 137/300\n",
      "\u001b[1m47/47\u001b[0m \u001b[32m━━━━━━━━━━━━━━━━━━━━\u001b[0m\u001b[37m\u001b[0m \u001b[1m0s\u001b[0m 2ms/step - loss: 0.1187\n",
      "Epoch 138/300\n",
      "\u001b[1m47/47\u001b[0m \u001b[32m━━━━━━━━━━━━━━━━━━━━\u001b[0m\u001b[37m\u001b[0m \u001b[1m0s\u001b[0m 2ms/step - loss: 0.1186\n",
      "Epoch 139/300\n",
      "\u001b[1m47/47\u001b[0m \u001b[32m━━━━━━━━━━━━━━━━━━━━\u001b[0m\u001b[37m\u001b[0m \u001b[1m0s\u001b[0m 2ms/step - loss: 0.1187\n",
      "Epoch 140/300\n",
      "\u001b[1m47/47\u001b[0m \u001b[32m━━━━━━━━━━━━━━━━━━━━\u001b[0m\u001b[37m\u001b[0m \u001b[1m0s\u001b[0m 2ms/step - loss: 0.1180\n",
      "Epoch 141/300\n",
      "\u001b[1m47/47\u001b[0m \u001b[32m━━━━━━━━━━━━━━━━━━━━\u001b[0m\u001b[37m\u001b[0m \u001b[1m0s\u001b[0m 2ms/step - loss: 0.1180\n",
      "Epoch 142/300\n",
      "\u001b[1m47/47\u001b[0m \u001b[32m━━━━━━━━━━━━━━━━━━━━\u001b[0m\u001b[37m\u001b[0m \u001b[1m0s\u001b[0m 2ms/step - loss: 0.1175\n",
      "Epoch 143/300\n",
      "\u001b[1m47/47\u001b[0m \u001b[32m━━━━━━━━━━━━━━━━━━━━\u001b[0m\u001b[37m\u001b[0m \u001b[1m0s\u001b[0m 2ms/step - loss: 0.1173\n",
      "Epoch 144/300\n",
      "\u001b[1m47/47\u001b[0m \u001b[32m━━━━━━━━━━━━━━━━━━━━\u001b[0m\u001b[37m\u001b[0m \u001b[1m0s\u001b[0m 2ms/step - loss: 0.1166\n",
      "Epoch 145/300\n",
      "\u001b[1m47/47\u001b[0m \u001b[32m━━━━━━━━━━━━━━━━━━━━\u001b[0m\u001b[37m\u001b[0m \u001b[1m0s\u001b[0m 2ms/step - loss: 0.1168\n",
      "Epoch 146/300\n",
      "\u001b[1m47/47\u001b[0m \u001b[32m━━━━━━━━━━━━━━━━━━━━\u001b[0m\u001b[37m\u001b[0m \u001b[1m0s\u001b[0m 2ms/step - loss: 0.1162\n",
      "Epoch 147/300\n",
      "\u001b[1m47/47\u001b[0m \u001b[32m━━━━━━━━━━━━━━━━━━━━\u001b[0m\u001b[37m\u001b[0m \u001b[1m0s\u001b[0m 2ms/step - loss: 0.1158\n",
      "Epoch 148/300\n",
      "\u001b[1m47/47\u001b[0m \u001b[32m━━━━━━━━━━━━━━━━━━━━\u001b[0m\u001b[37m\u001b[0m \u001b[1m0s\u001b[0m 2ms/step - loss: 0.1157\n",
      "Epoch 149/300\n",
      "\u001b[1m47/47\u001b[0m \u001b[32m━━━━━━━━━━━━━━━━━━━━\u001b[0m\u001b[37m\u001b[0m \u001b[1m0s\u001b[0m 2ms/step - loss: 0.1152\n",
      "Epoch 150/300\n",
      "\u001b[1m47/47\u001b[0m \u001b[32m━━━━━━━━━━━━━━━━━━━━\u001b[0m\u001b[37m\u001b[0m \u001b[1m0s\u001b[0m 2ms/step - loss: 0.1148\n",
      "Epoch 151/300\n",
      "\u001b[1m47/47\u001b[0m \u001b[32m━━━━━━━━━━━━━━━━━━━━\u001b[0m\u001b[37m\u001b[0m \u001b[1m0s\u001b[0m 2ms/step - loss: 0.1147\n",
      "Epoch 152/300\n",
      "\u001b[1m47/47\u001b[0m \u001b[32m━━━━━━━━━━━━━━━━━━━━\u001b[0m\u001b[37m\u001b[0m \u001b[1m0s\u001b[0m 2ms/step - loss: 0.1144\n",
      "Epoch 153/300\n",
      "\u001b[1m47/47\u001b[0m \u001b[32m━━━━━━━━━━━━━━━━━━━━\u001b[0m\u001b[37m\u001b[0m \u001b[1m0s\u001b[0m 2ms/step - loss: 0.1140\n",
      "Epoch 154/300\n",
      "\u001b[1m47/47\u001b[0m \u001b[32m━━━━━━━━━━━━━━━━━━━━\u001b[0m\u001b[37m\u001b[0m \u001b[1m0s\u001b[0m 2ms/step - loss: 0.1136\n",
      "Epoch 155/300\n",
      "\u001b[1m47/47\u001b[0m \u001b[32m━━━━━━━━━━━━━━━━━━━━\u001b[0m\u001b[37m\u001b[0m \u001b[1m0s\u001b[0m 2ms/step - loss: 0.1133\n",
      "Epoch 156/300\n",
      "\u001b[1m47/47\u001b[0m \u001b[32m━━━━━━━━━━━━━━━━━━━━\u001b[0m\u001b[37m\u001b[0m \u001b[1m0s\u001b[0m 2ms/step - loss: 0.1131\n",
      "Epoch 157/300\n",
      "\u001b[1m47/47\u001b[0m \u001b[32m━━━━━━━━━━━━━━━━━━━━\u001b[0m\u001b[37m\u001b[0m \u001b[1m0s\u001b[0m 2ms/step - loss: 0.1132\n",
      "Epoch 158/300\n",
      "\u001b[1m47/47\u001b[0m \u001b[32m━━━━━━━━━━━━━━━━━━━━\u001b[0m\u001b[37m\u001b[0m \u001b[1m0s\u001b[0m 2ms/step - loss: 0.1126\n",
      "Epoch 159/300\n",
      "\u001b[1m47/47\u001b[0m \u001b[32m━━━━━━━━━━━━━━━━━━━━\u001b[0m\u001b[37m\u001b[0m \u001b[1m0s\u001b[0m 2ms/step - loss: 0.1125\n",
      "Epoch 160/300\n",
      "\u001b[1m47/47\u001b[0m \u001b[32m━━━━━━━━━━━━━━━━━━━━\u001b[0m\u001b[37m\u001b[0m \u001b[1m0s\u001b[0m 2ms/step - loss: 0.1124\n",
      "Epoch 161/300\n",
      "\u001b[1m47/47\u001b[0m \u001b[32m━━━━━━━━━━━━━━━━━━━━\u001b[0m\u001b[37m\u001b[0m \u001b[1m0s\u001b[0m 2ms/step - loss: 0.1120\n",
      "Epoch 162/300\n",
      "\u001b[1m47/47\u001b[0m \u001b[32m━━━━━━━━━━━━━━━━━━━━\u001b[0m\u001b[37m\u001b[0m \u001b[1m0s\u001b[0m 2ms/step - loss: 0.1119\n",
      "Epoch 163/300\n",
      "\u001b[1m47/47\u001b[0m \u001b[32m━━━━━━━━━━━━━━━━━━━━\u001b[0m\u001b[37m\u001b[0m \u001b[1m0s\u001b[0m 2ms/step - loss: 0.1119\n",
      "Epoch 164/300\n",
      "\u001b[1m47/47\u001b[0m \u001b[32m━━━━━━━━━━━━━━━━━━━━\u001b[0m\u001b[37m\u001b[0m \u001b[1m0s\u001b[0m 2ms/step - loss: 0.1118\n",
      "Epoch 165/300\n",
      "\u001b[1m47/47\u001b[0m \u001b[32m━━━━━━━━━━━━━━━━━━━━\u001b[0m\u001b[37m\u001b[0m \u001b[1m0s\u001b[0m 2ms/step - loss: 0.1117\n",
      "Epoch 166/300\n",
      "\u001b[1m47/47\u001b[0m \u001b[32m━━━━━━━━━━━━━━━━━━━━\u001b[0m\u001b[37m\u001b[0m \u001b[1m0s\u001b[0m 2ms/step - loss: 0.1111\n",
      "Epoch 167/300\n",
      "\u001b[1m47/47\u001b[0m \u001b[32m━━━━━━━━━━━━━━━━━━━━\u001b[0m\u001b[37m\u001b[0m \u001b[1m0s\u001b[0m 2ms/step - loss: 0.1112\n",
      "Epoch 168/300\n",
      "\u001b[1m47/47\u001b[0m \u001b[32m━━━━━━━━━━━━━━━━━━━━\u001b[0m\u001b[37m\u001b[0m \u001b[1m0s\u001b[0m 2ms/step - loss: 0.1109\n",
      "Epoch 169/300\n",
      "\u001b[1m47/47\u001b[0m \u001b[32m━━━━━━━━━━━━━━━━━━━━\u001b[0m\u001b[37m\u001b[0m \u001b[1m0s\u001b[0m 2ms/step - loss: 0.1102\n",
      "Epoch 170/300\n",
      "\u001b[1m47/47\u001b[0m \u001b[32m━━━━━━━━━━━━━━━━━━━━\u001b[0m\u001b[37m\u001b[0m \u001b[1m0s\u001b[0m 2ms/step - loss: 0.1103\n",
      "Epoch 171/300\n",
      "\u001b[1m47/47\u001b[0m \u001b[32m━━━━━━━━━━━━━━━━━━━━\u001b[0m\u001b[37m\u001b[0m \u001b[1m0s\u001b[0m 2ms/step - loss: 0.1098\n",
      "Epoch 172/300\n",
      "\u001b[1m47/47\u001b[0m \u001b[32m━━━━━━━━━━━━━━━━━━━━\u001b[0m\u001b[37m\u001b[0m \u001b[1m0s\u001b[0m 2ms/step - loss: 0.1100\n",
      "Epoch 173/300\n",
      "\u001b[1m47/47\u001b[0m \u001b[32m━━━━━━━━━━━━━━━━━━━━\u001b[0m\u001b[37m\u001b[0m \u001b[1m0s\u001b[0m 2ms/step - loss: 0.1099\n",
      "Epoch 174/300\n",
      "\u001b[1m47/47\u001b[0m \u001b[32m━━━━━━━━━━━━━━━━━━━━\u001b[0m\u001b[37m\u001b[0m \u001b[1m0s\u001b[0m 2ms/step - loss: 0.1094\n",
      "Epoch 175/300\n",
      "\u001b[1m47/47\u001b[0m \u001b[32m━━━━━━━━━━━━━━━━━━━━\u001b[0m\u001b[37m\u001b[0m \u001b[1m0s\u001b[0m 2ms/step - loss: 0.1097\n",
      "Epoch 176/300\n",
      "\u001b[1m47/47\u001b[0m \u001b[32m━━━━━━━━━━━━━━━━━━━━\u001b[0m\u001b[37m\u001b[0m \u001b[1m0s\u001b[0m 2ms/step - loss: 0.1091\n",
      "Epoch 177/300\n",
      "\u001b[1m47/47\u001b[0m \u001b[32m━━━━━━━━━━━━━━━━━━━━\u001b[0m\u001b[37m\u001b[0m \u001b[1m0s\u001b[0m 2ms/step - loss: 0.1092\n",
      "Epoch 178/300\n",
      "\u001b[1m47/47\u001b[0m \u001b[32m━━━━━━━━━━━━━━━━━━━━\u001b[0m\u001b[37m\u001b[0m \u001b[1m0s\u001b[0m 2ms/step - loss: 0.1092\n",
      "Epoch 179/300\n",
      "\u001b[1m47/47\u001b[0m \u001b[32m━━━━━━━━━━━━━━━━━━━━\u001b[0m\u001b[37m\u001b[0m \u001b[1m0s\u001b[0m 2ms/step - loss: 0.1087\n",
      "Epoch 180/300\n",
      "\u001b[1m47/47\u001b[0m \u001b[32m━━━━━━━━━━━━━━━━━━━━\u001b[0m\u001b[37m\u001b[0m \u001b[1m0s\u001b[0m 2ms/step - loss: 0.1086\n",
      "Epoch 181/300\n",
      "\u001b[1m47/47\u001b[0m \u001b[32m━━━━━━━━━━━━━━━━━━━━\u001b[0m\u001b[37m\u001b[0m \u001b[1m0s\u001b[0m 2ms/step - loss: 0.1083\n",
      "Epoch 182/300\n",
      "\u001b[1m47/47\u001b[0m \u001b[32m━━━━━━━━━━━━━━━━━━━━\u001b[0m\u001b[37m\u001b[0m \u001b[1m0s\u001b[0m 2ms/step - loss: 0.1081\n",
      "Epoch 183/300\n",
      "\u001b[1m47/47\u001b[0m \u001b[32m━━━━━━━━━━━━━━━━━━━━\u001b[0m\u001b[37m\u001b[0m \u001b[1m0s\u001b[0m 2ms/step - loss: 0.1083\n",
      "Epoch 184/300\n",
      "\u001b[1m47/47\u001b[0m \u001b[32m━━━━━━━━━━━━━━━━━━━━\u001b[0m\u001b[37m\u001b[0m \u001b[1m0s\u001b[0m 2ms/step - loss: 0.1084\n",
      "Epoch 185/300\n",
      "\u001b[1m47/47\u001b[0m \u001b[32m━━━━━━━━━━━━━━━━━━━━\u001b[0m\u001b[37m\u001b[0m \u001b[1m0s\u001b[0m 2ms/step - loss: 0.1083\n",
      "Epoch 186/300\n",
      "\u001b[1m47/47\u001b[0m \u001b[32m━━━━━━━━━━━━━━━━━━━━\u001b[0m\u001b[37m\u001b[0m \u001b[1m0s\u001b[0m 2ms/step - loss: 0.1075\n",
      "Epoch 187/300\n",
      "\u001b[1m47/47\u001b[0m \u001b[32m━━━━━━━━━━━━━━━━━━━━\u001b[0m\u001b[37m\u001b[0m \u001b[1m0s\u001b[0m 2ms/step - loss: 0.1071\n",
      "Epoch 188/300\n",
      "\u001b[1m47/47\u001b[0m \u001b[32m━━━━━━━━━━━━━━━━━━━━\u001b[0m\u001b[37m\u001b[0m \u001b[1m0s\u001b[0m 2ms/step - loss: 0.1076\n",
      "Epoch 189/300\n",
      "\u001b[1m47/47\u001b[0m \u001b[32m━━━━━━━━━━━━━━━━━━━━\u001b[0m\u001b[37m\u001b[0m \u001b[1m0s\u001b[0m 2ms/step - loss: 0.1075\n",
      "Epoch 190/300\n",
      "\u001b[1m47/47\u001b[0m \u001b[32m━━━━━━━━━━━━━━━━━━━━\u001b[0m\u001b[37m\u001b[0m \u001b[1m0s\u001b[0m 3ms/step - loss: 0.1075\n",
      "Epoch 191/300\n",
      "\u001b[1m47/47\u001b[0m \u001b[32m━━━━━━━━━━━━━━━━━━━━\u001b[0m\u001b[37m\u001b[0m \u001b[1m0s\u001b[0m 2ms/step - loss: 0.1070\n",
      "Epoch 192/300\n",
      "\u001b[1m47/47\u001b[0m \u001b[32m━━━━━━━━━━━━━━━━━━━━\u001b[0m\u001b[37m\u001b[0m \u001b[1m0s\u001b[0m 2ms/step - loss: 0.1069\n",
      "Epoch 193/300\n",
      "\u001b[1m47/47\u001b[0m \u001b[32m━━━━━━━━━━━━━━━━━━━━\u001b[0m\u001b[37m\u001b[0m \u001b[1m0s\u001b[0m 2ms/step - loss: 0.1064\n",
      "Epoch 194/300\n",
      "\u001b[1m47/47\u001b[0m \u001b[32m━━━━━━━━━━━━━━━━━━━━\u001b[0m\u001b[37m\u001b[0m \u001b[1m0s\u001b[0m 2ms/step - loss: 0.1066\n",
      "Epoch 195/300\n",
      "\u001b[1m47/47\u001b[0m \u001b[32m━━━━━━━━━━━━━━━━━━━━\u001b[0m\u001b[37m\u001b[0m \u001b[1m0s\u001b[0m 2ms/step - loss: 0.1069\n",
      "Epoch 196/300\n",
      "\u001b[1m47/47\u001b[0m \u001b[32m━━━━━━━━━━━━━━━━━━━━\u001b[0m\u001b[37m\u001b[0m \u001b[1m0s\u001b[0m 2ms/step - loss: 0.1075\n",
      "Epoch 197/300\n",
      "\u001b[1m47/47\u001b[0m \u001b[32m━━━━━━━━━━━━━━━━━━━━\u001b[0m\u001b[37m\u001b[0m \u001b[1m0s\u001b[0m 2ms/step - loss: 0.1071\n",
      "Epoch 198/300\n",
      "\u001b[1m47/47\u001b[0m \u001b[32m━━━━━━━━━━━━━━━━━━━━\u001b[0m\u001b[37m\u001b[0m \u001b[1m0s\u001b[0m 2ms/step - loss: 0.1070\n",
      "Epoch 199/300\n",
      "\u001b[1m47/47\u001b[0m \u001b[32m━━━━━━━━━━━━━━━━━━━━\u001b[0m\u001b[37m\u001b[0m \u001b[1m0s\u001b[0m 2ms/step - loss: 0.1070\n",
      "Epoch 200/300\n",
      "\u001b[1m47/47\u001b[0m \u001b[32m━━━━━━━━━━━━━━━━━━━━\u001b[0m\u001b[37m\u001b[0m \u001b[1m0s\u001b[0m 2ms/step - loss: 0.1074\n",
      "Epoch 201/300\n",
      "\u001b[1m47/47\u001b[0m \u001b[32m━━━━━━━━━━━━━━━━━━━━\u001b[0m\u001b[37m\u001b[0m \u001b[1m0s\u001b[0m 2ms/step - loss: 0.1067\n",
      "Epoch 202/300\n",
      "\u001b[1m47/47\u001b[0m \u001b[32m━━━━━━━━━━━━━━━━━━━━\u001b[0m\u001b[37m\u001b[0m \u001b[1m0s\u001b[0m 2ms/step - loss: 0.1067\n",
      "Epoch 203/300\n",
      "\u001b[1m47/47\u001b[0m \u001b[32m━━━━━━━━━━━━━━━━━━━━\u001b[0m\u001b[37m\u001b[0m \u001b[1m0s\u001b[0m 2ms/step - loss: 0.1063\n",
      "Epoch 204/300\n",
      "\u001b[1m47/47\u001b[0m \u001b[32m━━━━━━━━━━━━━━━━━━━━\u001b[0m\u001b[37m\u001b[0m \u001b[1m0s\u001b[0m 2ms/step - loss: 0.1065\n",
      "Epoch 205/300\n",
      "\u001b[1m47/47\u001b[0m \u001b[32m━━━━━━━━━━━━━━━━━━━━\u001b[0m\u001b[37m\u001b[0m \u001b[1m0s\u001b[0m 2ms/step - loss: 0.1060\n",
      "Epoch 206/300\n",
      "\u001b[1m47/47\u001b[0m \u001b[32m━━━━━━━━━━━━━━━━━━━━\u001b[0m\u001b[37m\u001b[0m \u001b[1m0s\u001b[0m 2ms/step - loss: 0.1060\n",
      "Epoch 207/300\n",
      "\u001b[1m47/47\u001b[0m \u001b[32m━━━━━━━━━━━━━━━━━━━━\u001b[0m\u001b[37m\u001b[0m \u001b[1m0s\u001b[0m 2ms/step - loss: 0.1053\n",
      "Epoch 208/300\n",
      "\u001b[1m47/47\u001b[0m \u001b[32m━━━━━━━━━━━━━━━━━━━━\u001b[0m\u001b[37m\u001b[0m \u001b[1m0s\u001b[0m 2ms/step - loss: 0.1056\n",
      "Epoch 209/300\n",
      "\u001b[1m47/47\u001b[0m \u001b[32m━━━━━━━━━━━━━━━━━━━━\u001b[0m\u001b[37m\u001b[0m \u001b[1m0s\u001b[0m 2ms/step - loss: 0.1050\n",
      "Epoch 210/300\n",
      "\u001b[1m47/47\u001b[0m \u001b[32m━━━━━━━━━━━━━━━━━━━━\u001b[0m\u001b[37m\u001b[0m \u001b[1m0s\u001b[0m 2ms/step - loss: 0.1051\n",
      "Epoch 211/300\n",
      "\u001b[1m47/47\u001b[0m \u001b[32m━━━━━━━━━━━━━━━━━━━━\u001b[0m\u001b[37m\u001b[0m \u001b[1m0s\u001b[0m 2ms/step - loss: 0.1048\n",
      "Epoch 212/300\n",
      "\u001b[1m47/47\u001b[0m \u001b[32m━━━━━━━━━━━━━━━━━━━━\u001b[0m\u001b[37m\u001b[0m \u001b[1m0s\u001b[0m 2ms/step - loss: 0.1052\n",
      "Epoch 213/300\n",
      "\u001b[1m47/47\u001b[0m \u001b[32m━━━━━━━━━━━━━━━━━━━━\u001b[0m\u001b[37m\u001b[0m \u001b[1m0s\u001b[0m 2ms/step - loss: 0.1043\n",
      "Epoch 214/300\n",
      "\u001b[1m47/47\u001b[0m \u001b[32m━━━━━━━━━━━━━━━━━━━━\u001b[0m\u001b[37m\u001b[0m \u001b[1m0s\u001b[0m 2ms/step - loss: 0.1037\n",
      "Epoch 215/300\n",
      "\u001b[1m47/47\u001b[0m \u001b[32m━━━━━━━━━━━━━━━━━━━━\u001b[0m\u001b[37m\u001b[0m \u001b[1m0s\u001b[0m 2ms/step - loss: 0.1039\n",
      "Epoch 216/300\n",
      "\u001b[1m47/47\u001b[0m \u001b[32m━━━━━━━━━━━━━━━━━━━━\u001b[0m\u001b[37m\u001b[0m \u001b[1m0s\u001b[0m 2ms/step - loss: 0.1036\n",
      "Epoch 217/300\n",
      "\u001b[1m47/47\u001b[0m \u001b[32m━━━━━━━━━━━━━━━━━━━━\u001b[0m\u001b[37m\u001b[0m \u001b[1m0s\u001b[0m 2ms/step - loss: 0.1035\n",
      "Epoch 218/300\n",
      "\u001b[1m47/47\u001b[0m \u001b[32m━━━━━━━━━━━━━━━━━━━━\u001b[0m\u001b[37m\u001b[0m \u001b[1m0s\u001b[0m 2ms/step - loss: 0.1032\n",
      "Epoch 219/300\n",
      "\u001b[1m47/47\u001b[0m \u001b[32m━━━━━━━━━━━━━━━━━━━━\u001b[0m\u001b[37m\u001b[0m \u001b[1m0s\u001b[0m 2ms/step - loss: 0.1033\n",
      "Epoch 220/300\n",
      "\u001b[1m47/47\u001b[0m \u001b[32m━━━━━━━━━━━━━━━━━━━━\u001b[0m\u001b[37m\u001b[0m \u001b[1m0s\u001b[0m 2ms/step - loss: 0.1030\n",
      "Epoch 221/300\n",
      "\u001b[1m47/47\u001b[0m \u001b[32m━━━━━━━━━━━━━━━━━━━━\u001b[0m\u001b[37m\u001b[0m \u001b[1m0s\u001b[0m 2ms/step - loss: 0.1031\n",
      "Epoch 222/300\n",
      "\u001b[1m47/47\u001b[0m \u001b[32m━━━━━━━━━━━━━━━━━━━━\u001b[0m\u001b[37m\u001b[0m \u001b[1m0s\u001b[0m 2ms/step - loss: 0.1030\n",
      "Epoch 223/300\n",
      "\u001b[1m47/47\u001b[0m \u001b[32m━━━━━━━━━━━━━━━━━━━━\u001b[0m\u001b[37m\u001b[0m \u001b[1m0s\u001b[0m 2ms/step - loss: 0.1028\n",
      "Epoch 224/300\n",
      "\u001b[1m47/47\u001b[0m \u001b[32m━━━━━━━━━━━━━━━━━━━━\u001b[0m\u001b[37m\u001b[0m \u001b[1m0s\u001b[0m 2ms/step - loss: 0.1030\n",
      "Epoch 225/300\n",
      "\u001b[1m47/47\u001b[0m \u001b[32m━━━━━━━━━━━━━━━━━━━━\u001b[0m\u001b[37m\u001b[0m \u001b[1m0s\u001b[0m 2ms/step - loss: 0.1028\n",
      "Epoch 226/300\n",
      "\u001b[1m47/47\u001b[0m \u001b[32m━━━━━━━━━━━━━━━━━━━━\u001b[0m\u001b[37m\u001b[0m \u001b[1m0s\u001b[0m 2ms/step - loss: 0.1025\n",
      "Epoch 227/300\n",
      "\u001b[1m47/47\u001b[0m \u001b[32m━━━━━━━━━━━━━━━━━━━━\u001b[0m\u001b[37m\u001b[0m \u001b[1m0s\u001b[0m 2ms/step - loss: 0.1024\n",
      "Epoch 228/300\n",
      "\u001b[1m47/47\u001b[0m \u001b[32m━━━━━━━━━━━━━━━━━━━━\u001b[0m\u001b[37m\u001b[0m \u001b[1m0s\u001b[0m 2ms/step - loss: 0.1022\n",
      "Epoch 229/300\n",
      "\u001b[1m47/47\u001b[0m \u001b[32m━━━━━━━━━━━━━━━━━━━━\u001b[0m\u001b[37m\u001b[0m \u001b[1m0s\u001b[0m 2ms/step - loss: 0.1024\n",
      "Epoch 230/300\n",
      "\u001b[1m47/47\u001b[0m \u001b[32m━━━━━━━━━━━━━━━━━━━━\u001b[0m\u001b[37m\u001b[0m \u001b[1m0s\u001b[0m 2ms/step - loss: 0.1022\n",
      "Epoch 231/300\n",
      "\u001b[1m47/47\u001b[0m \u001b[32m━━━━━━━━━━━━━━━━━━━━\u001b[0m\u001b[37m\u001b[0m \u001b[1m0s\u001b[0m 2ms/step - loss: 0.1019\n",
      "Epoch 232/300\n",
      "\u001b[1m47/47\u001b[0m \u001b[32m━━━━━━━━━━━━━━━━━━━━\u001b[0m\u001b[37m\u001b[0m \u001b[1m0s\u001b[0m 2ms/step - loss: 0.1021\n",
      "Epoch 233/300\n",
      "\u001b[1m47/47\u001b[0m \u001b[32m━━━━━━━━━━━━━━━━━━━━\u001b[0m\u001b[37m\u001b[0m \u001b[1m0s\u001b[0m 2ms/step - loss: 0.1020\n",
      "Epoch 234/300\n",
      "\u001b[1m47/47\u001b[0m \u001b[32m━━━━━━━━━━━━━━━━━━━━\u001b[0m\u001b[37m\u001b[0m \u001b[1m0s\u001b[0m 2ms/step - loss: 0.1015\n",
      "Epoch 235/300\n",
      "\u001b[1m47/47\u001b[0m \u001b[32m━━━━━━━━━━━━━━━━━━━━\u001b[0m\u001b[37m\u001b[0m \u001b[1m0s\u001b[0m 2ms/step - loss: 0.1017\n",
      "Epoch 236/300\n",
      "\u001b[1m47/47\u001b[0m \u001b[32m━━━━━━━━━━━━━━━━━━━━\u001b[0m\u001b[37m\u001b[0m \u001b[1m0s\u001b[0m 2ms/step - loss: 0.1016\n",
      "Epoch 237/300\n",
      "\u001b[1m47/47\u001b[0m \u001b[32m━━━━━━━━━━━━━━━━━━━━\u001b[0m\u001b[37m\u001b[0m \u001b[1m0s\u001b[0m 2ms/step - loss: 0.1015\n",
      "Epoch 238/300\n",
      "\u001b[1m47/47\u001b[0m \u001b[32m━━━━━━━━━━━━━━━━━━━━\u001b[0m\u001b[37m\u001b[0m \u001b[1m0s\u001b[0m 2ms/step - loss: 0.1013\n",
      "Epoch 239/300\n",
      "\u001b[1m47/47\u001b[0m \u001b[32m━━━━━━━━━━━━━━━━━━━━\u001b[0m\u001b[37m\u001b[0m \u001b[1m0s\u001b[0m 2ms/step - loss: 0.1012\n",
      "Epoch 240/300\n",
      "\u001b[1m47/47\u001b[0m \u001b[32m━━━━━━━━━━━━━━━━━━━━\u001b[0m\u001b[37m\u001b[0m \u001b[1m0s\u001b[0m 2ms/step - loss: 0.1010\n",
      "Epoch 241/300\n",
      "\u001b[1m47/47\u001b[0m \u001b[32m━━━━━━━━━━━━━━━━━━━━\u001b[0m\u001b[37m\u001b[0m \u001b[1m0s\u001b[0m 2ms/step - loss: 0.1011\n",
      "Epoch 242/300\n",
      "\u001b[1m47/47\u001b[0m \u001b[32m━━━━━━━━━━━━━━━━━━━━\u001b[0m\u001b[37m\u001b[0m \u001b[1m0s\u001b[0m 2ms/step - loss: 0.1010\n",
      "Epoch 243/300\n",
      "\u001b[1m47/47\u001b[0m \u001b[32m━━━━━━━━━━━━━━━━━━━━\u001b[0m\u001b[37m\u001b[0m \u001b[1m0s\u001b[0m 2ms/step - loss: 0.1010\n",
      "Epoch 244/300\n",
      "\u001b[1m47/47\u001b[0m \u001b[32m━━━━━━━━━━━━━━━━━━━━\u001b[0m\u001b[37m\u001b[0m \u001b[1m0s\u001b[0m 2ms/step - loss: 0.1007\n",
      "Epoch 245/300\n",
      "\u001b[1m47/47\u001b[0m \u001b[32m━━━━━━━━━━━━━━━━━━━━\u001b[0m\u001b[37m\u001b[0m \u001b[1m0s\u001b[0m 2ms/step - loss: 0.1006\n",
      "Epoch 246/300\n",
      "\u001b[1m47/47\u001b[0m \u001b[32m━━━━━━━━━━━━━━━━━━━━\u001b[0m\u001b[37m\u001b[0m \u001b[1m0s\u001b[0m 2ms/step - loss: 0.1007\n",
      "Epoch 247/300\n",
      "\u001b[1m47/47\u001b[0m \u001b[32m━━━━━━━━━━━━━━━━━━━━\u001b[0m\u001b[37m\u001b[0m \u001b[1m0s\u001b[0m 2ms/step - loss: 0.1003\n",
      "Epoch 248/300\n",
      "\u001b[1m47/47\u001b[0m \u001b[32m━━━━━━━━━━━━━━━━━━━━\u001b[0m\u001b[37m\u001b[0m \u001b[1m0s\u001b[0m 2ms/step - loss: 0.0999\n",
      "Epoch 249/300\n",
      "\u001b[1m47/47\u001b[0m \u001b[32m━━━━━━━━━━━━━━━━━━━━\u001b[0m\u001b[37m\u001b[0m \u001b[1m0s\u001b[0m 2ms/step - loss: 0.1000\n",
      "Epoch 250/300\n",
      "\u001b[1m47/47\u001b[0m \u001b[32m━━━━━━━━━━━━━━━━━━━━\u001b[0m\u001b[37m\u001b[0m \u001b[1m0s\u001b[0m 2ms/step - loss: 0.1001\n",
      "Epoch 251/300\n",
      "\u001b[1m47/47\u001b[0m \u001b[32m━━━━━━━━━━━━━━━━━━━━\u001b[0m\u001b[37m\u001b[0m \u001b[1m0s\u001b[0m 2ms/step - loss: 0.1000\n",
      "Epoch 252/300\n",
      "\u001b[1m47/47\u001b[0m \u001b[32m━━━━━━━━━━━━━━━━━━━━\u001b[0m\u001b[37m\u001b[0m \u001b[1m0s\u001b[0m 2ms/step - loss: 0.0999\n",
      "Epoch 253/300\n",
      "\u001b[1m47/47\u001b[0m \u001b[32m━━━━━━━━━━━━━━━━━━━━\u001b[0m\u001b[37m\u001b[0m \u001b[1m0s\u001b[0m 2ms/step - loss: 0.0996\n",
      "Epoch 254/300\n",
      "\u001b[1m47/47\u001b[0m \u001b[32m━━━━━━━━━━━━━━━━━━━━\u001b[0m\u001b[37m\u001b[0m \u001b[1m0s\u001b[0m 2ms/step - loss: 0.0999\n",
      "Epoch 255/300\n",
      "\u001b[1m47/47\u001b[0m \u001b[32m━━━━━━━━━━━━━━━━━━━━\u001b[0m\u001b[37m\u001b[0m \u001b[1m0s\u001b[0m 2ms/step - loss: 0.0993\n",
      "Epoch 256/300\n",
      "\u001b[1m47/47\u001b[0m \u001b[32m━━━━━━━━━━━━━━━━━━━━\u001b[0m\u001b[37m\u001b[0m \u001b[1m0s\u001b[0m 2ms/step - loss: 0.0997\n",
      "Epoch 257/300\n",
      "\u001b[1m47/47\u001b[0m \u001b[32m━━━━━━━━━━━━━━━━━━━━\u001b[0m\u001b[37m\u001b[0m \u001b[1m0s\u001b[0m 2ms/step - loss: 0.0992\n",
      "Epoch 258/300\n",
      "\u001b[1m47/47\u001b[0m \u001b[32m━━━━━━━━━━━━━━━━━━━━\u001b[0m\u001b[37m\u001b[0m \u001b[1m0s\u001b[0m 2ms/step - loss: 0.0991\n",
      "Epoch 259/300\n",
      "\u001b[1m47/47\u001b[0m \u001b[32m━━━━━━━━━━━━━━━━━━━━\u001b[0m\u001b[37m\u001b[0m \u001b[1m0s\u001b[0m 2ms/step - loss: 0.0994\n",
      "Epoch 260/300\n",
      "\u001b[1m47/47\u001b[0m \u001b[32m━━━━━━━━━━━━━━━━━━━━\u001b[0m\u001b[37m\u001b[0m \u001b[1m0s\u001b[0m 2ms/step - loss: 0.0991\n",
      "Epoch 261/300\n",
      "\u001b[1m47/47\u001b[0m \u001b[32m━━━━━━━━━━━━━━━━━━━━\u001b[0m\u001b[37m\u001b[0m \u001b[1m0s\u001b[0m 2ms/step - loss: 0.0993\n",
      "Epoch 262/300\n",
      "\u001b[1m47/47\u001b[0m \u001b[32m━━━━━━━━━━━━━━━━━━━━\u001b[0m\u001b[37m\u001b[0m \u001b[1m0s\u001b[0m 2ms/step - loss: 0.0993\n",
      "Epoch 263/300\n",
      "\u001b[1m47/47\u001b[0m \u001b[32m━━━━━━━━━━━━━━━━━━━━\u001b[0m\u001b[37m\u001b[0m \u001b[1m0s\u001b[0m 2ms/step - loss: 0.0990\n",
      "Epoch 264/300\n",
      "\u001b[1m47/47\u001b[0m \u001b[32m━━━━━━━━━━━━━━━━━━━━\u001b[0m\u001b[37m\u001b[0m \u001b[1m0s\u001b[0m 2ms/step - loss: 0.0993\n",
      "Epoch 265/300\n",
      "\u001b[1m47/47\u001b[0m \u001b[32m━━━━━━━━━━━━━━━━━━━━\u001b[0m\u001b[37m\u001b[0m \u001b[1m0s\u001b[0m 2ms/step - loss: 0.0992\n",
      "Epoch 266/300\n",
      "\u001b[1m47/47\u001b[0m \u001b[32m━━━━━━━━━━━━━━━━━━━━\u001b[0m\u001b[37m\u001b[0m \u001b[1m0s\u001b[0m 2ms/step - loss: 0.0988\n",
      "Epoch 267/300\n",
      "\u001b[1m47/47\u001b[0m \u001b[32m━━━━━━━━━━━━━━━━━━━━\u001b[0m\u001b[37m\u001b[0m \u001b[1m0s\u001b[0m 2ms/step - loss: 0.0994\n",
      "Epoch 268/300\n",
      "\u001b[1m47/47\u001b[0m \u001b[32m━━━━━━━━━━━━━━━━━━━━\u001b[0m\u001b[37m\u001b[0m \u001b[1m0s\u001b[0m 2ms/step - loss: 0.0989\n",
      "Epoch 269/300\n",
      "\u001b[1m47/47\u001b[0m \u001b[32m━━━━━━━━━━━━━━━━━━━━\u001b[0m\u001b[37m\u001b[0m \u001b[1m0s\u001b[0m 2ms/step - loss: 0.0987\n",
      "Epoch 270/300\n",
      "\u001b[1m47/47\u001b[0m \u001b[32m━━━━━━━━━━━━━━━━━━━━\u001b[0m\u001b[37m\u001b[0m \u001b[1m0s\u001b[0m 2ms/step - loss: 0.0988\n",
      "Epoch 271/300\n",
      "\u001b[1m47/47\u001b[0m \u001b[32m━━━━━━━━━━━━━━━━━━━━\u001b[0m\u001b[37m\u001b[0m \u001b[1m0s\u001b[0m 2ms/step - loss: 0.0985\n",
      "Epoch 272/300\n",
      "\u001b[1m47/47\u001b[0m \u001b[32m━━━━━━━━━━━━━━━━━━━━\u001b[0m\u001b[37m\u001b[0m \u001b[1m0s\u001b[0m 2ms/step - loss: 0.0982\n",
      "Epoch 273/300\n",
      "\u001b[1m47/47\u001b[0m \u001b[32m━━━━━━━━━━━━━━━━━━━━\u001b[0m\u001b[37m\u001b[0m \u001b[1m0s\u001b[0m 2ms/step - loss: 0.0981\n",
      "Epoch 274/300\n",
      "\u001b[1m47/47\u001b[0m \u001b[32m━━━━━━━━━━━━━━━━━━━━\u001b[0m\u001b[37m\u001b[0m \u001b[1m0s\u001b[0m 2ms/step - loss: 0.0985\n",
      "Epoch 275/300\n",
      "\u001b[1m47/47\u001b[0m \u001b[32m━━━━━━━━━━━━━━━━━━━━\u001b[0m\u001b[37m\u001b[0m \u001b[1m0s\u001b[0m 2ms/step - loss: 0.0979\n",
      "Epoch 276/300\n",
      "\u001b[1m47/47\u001b[0m \u001b[32m━━━━━━━━━━━━━━━━━━━━\u001b[0m\u001b[37m\u001b[0m \u001b[1m0s\u001b[0m 2ms/step - loss: 0.0982\n",
      "Epoch 277/300\n",
      "\u001b[1m47/47\u001b[0m \u001b[32m━━━━━━━━━━━━━━━━━━━━\u001b[0m\u001b[37m\u001b[0m \u001b[1m0s\u001b[0m 2ms/step - loss: 0.0978\n",
      "Epoch 278/300\n",
      "\u001b[1m47/47\u001b[0m \u001b[32m━━━━━━━━━━━━━━━━━━━━\u001b[0m\u001b[37m\u001b[0m \u001b[1m0s\u001b[0m 2ms/step - loss: 0.0976\n",
      "Epoch 279/300\n",
      "\u001b[1m47/47\u001b[0m \u001b[32m━━━━━━━━━━━━━━━━━━━━\u001b[0m\u001b[37m\u001b[0m \u001b[1m0s\u001b[0m 2ms/step - loss: 0.0976\n",
      "Epoch 280/300\n",
      "\u001b[1m47/47\u001b[0m \u001b[32m━━━━━━━━━━━━━━━━━━━━\u001b[0m\u001b[37m\u001b[0m \u001b[1m0s\u001b[0m 2ms/step - loss: 0.0975\n",
      "Epoch 281/300\n",
      "\u001b[1m47/47\u001b[0m \u001b[32m━━━━━━━━━━━━━━━━━━━━\u001b[0m\u001b[37m\u001b[0m \u001b[1m0s\u001b[0m 2ms/step - loss: 0.0978\n",
      "Epoch 282/300\n",
      "\u001b[1m47/47\u001b[0m \u001b[32m━━━━━━━━━━━━━━━━━━━━\u001b[0m\u001b[37m\u001b[0m \u001b[1m0s\u001b[0m 2ms/step - loss: 0.0975\n",
      "Epoch 283/300\n",
      "\u001b[1m47/47\u001b[0m \u001b[32m━━━━━━━━━━━━━━━━━━━━\u001b[0m\u001b[37m\u001b[0m \u001b[1m0s\u001b[0m 2ms/step - loss: 0.0975\n",
      "Epoch 284/300\n",
      "\u001b[1m47/47\u001b[0m \u001b[32m━━━━━━━━━━━━━━━━━━━━\u001b[0m\u001b[37m\u001b[0m \u001b[1m0s\u001b[0m 2ms/step - loss: 0.0976\n",
      "Epoch 285/300\n",
      "\u001b[1m47/47\u001b[0m \u001b[32m━━━━━━━━━━━━━━━━━━━━\u001b[0m\u001b[37m\u001b[0m \u001b[1m0s\u001b[0m 2ms/step - loss: 0.0972\n",
      "Epoch 286/300\n",
      "\u001b[1m47/47\u001b[0m \u001b[32m━━━━━━━━━━━━━━━━━━━━\u001b[0m\u001b[37m\u001b[0m \u001b[1m0s\u001b[0m 2ms/step - loss: 0.0972\n",
      "Epoch 287/300\n",
      "\u001b[1m47/47\u001b[0m \u001b[32m━━━━━━━━━━━━━━━━━━━━\u001b[0m\u001b[37m\u001b[0m \u001b[1m0s\u001b[0m 2ms/step - loss: 0.0969\n",
      "Epoch 288/300\n",
      "\u001b[1m47/47\u001b[0m \u001b[32m━━━━━━━━━━━━━━━━━━━━\u001b[0m\u001b[37m\u001b[0m \u001b[1m0s\u001b[0m 2ms/step - loss: 0.0967\n",
      "Epoch 289/300\n",
      "\u001b[1m47/47\u001b[0m \u001b[32m━━━━━━━━━━━━━━━━━━━━\u001b[0m\u001b[37m\u001b[0m \u001b[1m0s\u001b[0m 2ms/step - loss: 0.0971\n",
      "Epoch 290/300\n",
      "\u001b[1m47/47\u001b[0m \u001b[32m━━━━━━━━━━━━━━━━━━━━\u001b[0m\u001b[37m\u001b[0m \u001b[1m0s\u001b[0m 2ms/step - loss: 0.0971\n",
      "Epoch 291/300\n",
      "\u001b[1m47/47\u001b[0m \u001b[32m━━━━━━━━━━━━━━━━━━━━\u001b[0m\u001b[37m\u001b[0m \u001b[1m0s\u001b[0m 2ms/step - loss: 0.0971\n",
      "Epoch 292/300\n",
      "\u001b[1m47/47\u001b[0m \u001b[32m━━━━━━━━━━━━━━━━━━━━\u001b[0m\u001b[37m\u001b[0m \u001b[1m0s\u001b[0m 2ms/step - loss: 0.0969\n",
      "Epoch 293/300\n",
      "\u001b[1m47/47\u001b[0m \u001b[32m━━━━━━━━━━━━━━━━━━━━\u001b[0m\u001b[37m\u001b[0m \u001b[1m0s\u001b[0m 2ms/step - loss: 0.0966\n",
      "Epoch 294/300\n",
      "\u001b[1m47/47\u001b[0m \u001b[32m━━━━━━━━━━━━━━━━━━━━\u001b[0m\u001b[37m\u001b[0m \u001b[1m0s\u001b[0m 2ms/step - loss: 0.0967\n",
      "Epoch 295/300\n",
      "\u001b[1m47/47\u001b[0m \u001b[32m━━━━━━━━━━━━━━━━━━━━\u001b[0m\u001b[37m\u001b[0m \u001b[1m0s\u001b[0m 2ms/step - loss: 0.0963\n",
      "Epoch 296/300\n",
      "\u001b[1m47/47\u001b[0m \u001b[32m━━━━━━━━━━━━━━━━━━━━\u001b[0m\u001b[37m\u001b[0m \u001b[1m0s\u001b[0m 2ms/step - loss: 0.0965\n",
      "Epoch 297/300\n",
      "\u001b[1m47/47\u001b[0m \u001b[32m━━━━━━━━━━━━━━━━━━━━\u001b[0m\u001b[37m\u001b[0m \u001b[1m0s\u001b[0m 2ms/step - loss: 0.0964\n",
      "Epoch 298/300\n",
      "\u001b[1m47/47\u001b[0m \u001b[32m━━━━━━━━━━━━━━━━━━━━\u001b[0m\u001b[37m\u001b[0m \u001b[1m0s\u001b[0m 2ms/step - loss: 0.0967\n",
      "Epoch 299/300\n",
      "\u001b[1m47/47\u001b[0m \u001b[32m━━━━━━━━━━━━━━━━━━━━\u001b[0m\u001b[37m\u001b[0m \u001b[1m0s\u001b[0m 2ms/step - loss: 0.0966\n",
      "Epoch 300/300\n",
      "\u001b[1m47/47\u001b[0m \u001b[32m━━━━━━━━━━━━━━━━━━━━\u001b[0m\u001b[37m\u001b[0m \u001b[1m0s\u001b[0m 2ms/step - loss: 0.0965\n"
     ]
    }
   ],
   "source": [
    "# Autoencoder cell features\n",
    "# encoder part\n",
    "tf.random.set_seed(42)\n",
    "inputs = Input(shape = (100,))\n",
    "encoder_1 = Dense(90, activation = 'relu')(inputs)\n",
    "batch_norm = BatchNormalization()(encoder_1)\n",
    "encoder_2 = Dense(75, activation = 'relu')(batch_norm)\n",
    "\n",
    "# decoder part\n",
    "decoder_1 = Dense(75, activation = 'relu')(encoder_2)\n",
    "batch_norm = BatchNormalization()(decoder_1)\n",
    "decoder_2 = Dense(90, activation = 'relu')(batch_norm)\n",
    "batch_norm = BatchNormalization()(decoder_2)\n",
    "decoder_3 = Dense(100)(encoder_2)\n",
    "\n",
    "model = tf.keras.Model(inputs = inputs, outputs = decoder_3)\n",
    "\n",
    "model.compile(optimizer = 'adam', loss = 'mse')\n",
    "\n",
    "with tf.device('/GPU:0'):\n",
    "    model.fit(x[cell_features], x[cell_features],batch_size = 512, epochs = 300, verbose = 1)"
   ]
  },
  {
   "cell_type": "code",
   "execution_count": 11,
   "id": "e9accaf4",
   "metadata": {
    "execution": {
     "iopub.execute_input": "2024-05-20T19:34:51.543365Z",
     "iopub.status.busy": "2024-05-20T19:34:51.542983Z",
     "iopub.status.idle": "2024-05-20T19:34:51.567963Z",
     "shell.execute_reply": "2024-05-20T19:34:51.567114Z"
    },
    "papermill": {
     "duration": 0.285474,
     "end_time": "2024-05-20T19:34:51.570334",
     "exception": false,
     "start_time": "2024-05-20T19:34:51.284860",
     "status": "completed"
    },
    "tags": []
   },
   "outputs": [],
   "source": [
    "encoder = tf.keras.Model(inputs = inputs, outputs = encoder_2)\n",
    "encoder.save('encoders_cell_features.h5')"
   ]
  },
  {
   "cell_type": "code",
   "execution_count": 12,
   "id": "06c9af16",
   "metadata": {
    "execution": {
     "iopub.execute_input": "2024-05-20T19:34:52.087406Z",
     "iopub.status.busy": "2024-05-20T19:34:52.086996Z",
     "iopub.status.idle": "2024-05-20T19:34:54.857795Z",
     "shell.execute_reply": "2024-05-20T19:34:54.856686Z"
    },
    "papermill": {
     "duration": 3.031057,
     "end_time": "2024-05-20T19:34:54.860142",
     "exception": false,
     "start_time": "2024-05-20T19:34:51.829085",
     "status": "completed"
    },
    "tags": []
   },
   "outputs": [
    {
     "name": "stdout",
     "output_type": "stream",
     "text": [
      "\u001b[1m745/745\u001b[0m \u001b[32m━━━━━━━━━━━━━━━━━━━━\u001b[0m\u001b[37m\u001b[0m \u001b[1m2s\u001b[0m 2ms/step - loss: 0.1998\n"
     ]
    },
    {
     "data": {
      "text/plain": [
       "0.2036578506231308"
      ]
     },
     "execution_count": 12,
     "metadata": {},
     "output_type": "execute_result"
    }
   ],
   "source": [
    "model.evaluate(x[cell_features], x[cell_features])"
   ]
  },
  {
   "cell_type": "code",
   "execution_count": 13,
   "id": "09bfbfb9",
   "metadata": {
    "execution": {
     "iopub.execute_input": "2024-05-20T19:34:55.385864Z",
     "iopub.status.busy": "2024-05-20T19:34:55.385348Z",
     "iopub.status.idle": "2024-05-20T19:35:00.360037Z",
     "shell.execute_reply": "2024-05-20T19:35:00.358557Z"
    },
    "papermill": {
     "duration": 5.239171,
     "end_time": "2024-05-20T19:35:00.362720",
     "exception": false,
     "start_time": "2024-05-20T19:34:55.123549",
     "status": "completed"
    },
    "tags": []
   },
   "outputs": [
    {
     "name": "stdout",
     "output_type": "stream",
     "text": [
      "\u001b[1m745/745\u001b[0m \u001b[32m━━━━━━━━━━━━━━━━━━━━\u001b[0m\u001b[37m\u001b[0m \u001b[1m1s\u001b[0m 2ms/step\n",
      "\u001b[1m125/125\u001b[0m \u001b[32m━━━━━━━━━━━━━━━━━━━━\u001b[0m\u001b[37m\u001b[0m \u001b[1m0s\u001b[0m 3ms/step\n",
      "\u001b[1m745/745\u001b[0m \u001b[32m━━━━━━━━━━━━━━━━━━━━\u001b[0m\u001b[37m\u001b[0m \u001b[1m1s\u001b[0m 1ms/step\n",
      "\u001b[1m125/125\u001b[0m \u001b[32m━━━━━━━━━━━━━━━━━━━━\u001b[0m\u001b[37m\u001b[0m \u001b[1m0s\u001b[0m 2ms/step\n"
     ]
    }
   ],
   "source": [
    "from tensorflow.keras.models import load_model\n",
    "\n",
    "encoder = load_model('/kaggle/working/encoders_gene_features.h5')\n",
    "train_gene_features = encoder.predict(x[gene_features])\n",
    "test_gene_features = encoder.predict(test_features[gene_features])\n",
    "\n",
    "encoder = load_model('/kaggle/working/encoders_cell_features.h5')\n",
    "train_cell_features = encoder.predict(x[cell_features])\n",
    "test_cell_features = encoder.predict(test_features[cell_features])"
   ]
  },
  {
   "cell_type": "code",
   "execution_count": 14,
   "id": "6b1e0d5e",
   "metadata": {
    "execution": {
     "iopub.execute_input": "2024-05-20T19:35:00.907248Z",
     "iopub.status.busy": "2024-05-20T19:35:00.906365Z",
     "iopub.status.idle": "2024-05-20T19:35:00.952557Z",
     "shell.execute_reply": "2024-05-20T19:35:00.951481Z"
    },
    "papermill": {
     "duration": 0.321324,
     "end_time": "2024-05-20T19:35:00.955187",
     "exception": false,
     "start_time": "2024-05-20T19:35:00.633863",
     "status": "completed"
    },
    "tags": []
   },
   "outputs": [
    {
     "data": {
      "text/plain": [
       "((23814, 498), (3982, 498))"
      ]
     },
     "execution_count": 14,
     "metadata": {},
     "output_type": "execute_result"
    }
   ],
   "source": [
    "x_1_train = np.hstack((x['cp_type'].values.reshape(-1,1), x['cp_time'].values.reshape(-1, 1),\n",
    "                       x['cp_dose'].values.reshape(-1, 1),\n",
    "                       train_gene_features, train_cell_features))\n",
    "x_1_test = np.hstack((test_features['cp_type'].values.reshape(-1,1),\n",
    "                      test_features['cp_time'].values.reshape(-1, 1),\n",
    "                      test_features['cp_dose'].values.reshape(-1, 1),\n",
    "                      test_gene_features, test_cell_features))\n",
    "x_1_train.shape, x_1_test.shape"
   ]
  },
  {
   "cell_type": "code",
   "execution_count": 15,
   "id": "e2be735c",
   "metadata": {
    "execution": {
     "iopub.execute_input": "2024-05-20T19:35:01.502212Z",
     "iopub.status.busy": "2024-05-20T19:35:01.501407Z",
     "iopub.status.idle": "2024-05-20T20:03:36.998648Z",
     "shell.execute_reply": "2024-05-20T20:03:36.997664Z"
    },
    "papermill": {
     "duration": 1715.774203,
     "end_time": "2024-05-20T20:03:37.001177",
     "exception": false,
     "start_time": "2024-05-20T19:35:01.226974",
     "status": "completed"
    },
    "tags": []
   },
   "outputs": [
    {
     "name": "stdout",
     "output_type": "stream",
     "text": [
      "Epoch 1/192\n",
      "\u001b[1m 34/160\u001b[0m \u001b[32m━━━━\u001b[0m\u001b[37m━━━━━━━━━━━━━━━━\u001b[0m \u001b[1m0s\u001b[0m 5ms/step - binary_crossentropy: 0.0264 - logloss: 0.0263 - loss: 0.0296"
     ]
    },
    {
     "name": "stderr",
     "output_type": "stream",
     "text": [
      "W0000 00:00:1716233714.757237      73 graph_launch.cc:671] Fallback to op-by-op mode because memset node breaks graph update\n"
     ]
    },
    {
     "name": "stdout",
     "output_type": "stream",
     "text": [
      "\u001b[1m160/160\u001b[0m \u001b[32m━━━━━━━━━━━━━━━━━━━━\u001b[0m\u001b[37m\u001b[0m \u001b[1m0s\u001b[0m 50ms/step - binary_crossentropy: 0.0239 - logloss: 0.0238 - loss: 0.0271"
     ]
    },
    {
     "name": "stderr",
     "output_type": "stream",
     "text": [
      "W0000 00:00:1716233722.651438      72 graph_launch.cc:671] Fallback to op-by-op mode because memset node breaks graph update\n",
      "W0000 00:00:1716233723.449374      70 graph_launch.cc:671] Fallback to op-by-op mode because memset node breaks graph update\n"
     ]
    },
    {
     "name": "stdout",
     "output_type": "stream",
     "text": [
      "\u001b[1m160/160\u001b[0m \u001b[32m━━━━━━━━━━━━━━━━━━━━\u001b[0m\u001b[37m\u001b[0m \u001b[1m20s\u001b[0m 59ms/step - binary_crossentropy: 0.0239 - logloss: 0.0238 - loss: 0.0271 - val_binary_crossentropy: 0.0183 - val_logloss: 0.0182 - val_loss: 0.0215 - learning_rate: 3.2250e-04\n",
      "Epoch 2/192\n",
      "\u001b[1m 28/160\u001b[0m \u001b[32m━━━\u001b[0m\u001b[37m━━━━━━━━━━━━━━━━━\u001b[0m \u001b[1m0s\u001b[0m 4ms/step - binary_crossentropy: 0.0200 - logloss: 0.0200 - loss: 0.0232"
     ]
    },
    {
     "name": "stderr",
     "output_type": "stream",
     "text": [
      "W0000 00:00:1716233724.130442      73 graph_launch.cc:671] Fallback to op-by-op mode because memset node breaks graph update\n"
     ]
    },
    {
     "name": "stdout",
     "output_type": "stream",
     "text": [
      "\u001b[1m160/160\u001b[0m \u001b[32m━━━━━━━━━━━━━━━━━━━━\u001b[0m\u001b[37m\u001b[0m \u001b[1m1s\u001b[0m 4ms/step - binary_crossentropy: 0.0195 - logloss: 0.0195 - loss: 0.0227 - val_binary_crossentropy: 0.0177 - val_logloss: 0.0177 - val_loss: 0.0208 - learning_rate: 6.3500e-04\n",
      "Epoch 3/192\n",
      "\u001b[1m160/160\u001b[0m \u001b[32m━━━━━━━━━━━━━━━━━━━━\u001b[0m\u001b[37m\u001b[0m \u001b[1m1s\u001b[0m 4ms/step - binary_crossentropy: 0.0182 - logloss: 0.0182 - loss: 0.0215 - val_binary_crossentropy: 0.0175 - val_logloss: 0.0175 - val_loss: 0.0206 - learning_rate: 9.4750e-04\n",
      "Epoch 4/192\n",
      "\u001b[1m160/160\u001b[0m \u001b[32m━━━━━━━━━━━━━━━━━━━━\u001b[0m\u001b[37m\u001b[0m \u001b[1m1s\u001b[0m 4ms/step - binary_crossentropy: 0.0177 - logloss: 0.0177 - loss: 0.0210 - val_binary_crossentropy: 0.0170 - val_logloss: 0.0170 - val_loss: 0.0202 - learning_rate: 0.0013\n",
      "Epoch 5/192\n",
      "\u001b[1m160/160\u001b[0m \u001b[32m━━━━━━━━━━━━━━━━━━━━\u001b[0m\u001b[37m\u001b[0m \u001b[1m1s\u001b[0m 4ms/step - binary_crossentropy: 0.0175 - logloss: 0.0174 - loss: 0.0208 - val_binary_crossentropy: 0.0168 - val_logloss: 0.0168 - val_loss: 0.0200 - learning_rate: 0.0016\n",
      "Epoch 6/192\n",
      "\u001b[1m160/160\u001b[0m \u001b[32m━━━━━━━━━━━━━━━━━━━━\u001b[0m\u001b[37m\u001b[0m \u001b[1m1s\u001b[0m 4ms/step - binary_crossentropy: 0.0173 - logloss: 0.0173 - loss: 0.0206 - val_binary_crossentropy: 0.0172 - val_logloss: 0.0172 - val_loss: 0.0205 - learning_rate: 0.0019\n",
      "Epoch 7/192\n",
      "\u001b[1m160/160\u001b[0m \u001b[32m━━━━━━━━━━━━━━━━━━━━\u001b[0m\u001b[37m\u001b[0m \u001b[1m1s\u001b[0m 4ms/step - binary_crossentropy: 0.0172 - logloss: 0.0172 - loss: 0.0206 - val_binary_crossentropy: 0.0173 - val_logloss: 0.0172 - val_loss: 0.0206 - learning_rate: 0.0022\n",
      "Epoch 8/192\n",
      "\u001b[1m160/160\u001b[0m \u001b[32m━━━━━━━━━━━━━━━━━━━━\u001b[0m\u001b[37m\u001b[0m \u001b[1m1s\u001b[0m 4ms/step - binary_crossentropy: 0.0171 - logloss: 0.0171 - loss: 0.0205 - val_binary_crossentropy: 0.0173 - val_logloss: 0.0172 - val_loss: 0.0206 - learning_rate: 0.0025\n",
      "Epoch 9/192\n",
      "\u001b[1m160/160\u001b[0m \u001b[32m━━━━━━━━━━━━━━━━━━━━\u001b[0m\u001b[37m\u001b[0m \u001b[1m1s\u001b[0m 4ms/step - binary_crossentropy: 0.0171 - logloss: 0.0171 - loss: 0.0205 - val_binary_crossentropy: 0.0170 - val_logloss: 0.0169 - val_loss: 0.0203 - learning_rate: 0.0028\n",
      "Epoch 10/192\n",
      "\u001b[1m160/160\u001b[0m \u001b[32m━━━━━━━━━━━━━━━━━━━━\u001b[0m\u001b[37m\u001b[0m \u001b[1m1s\u001b[0m 4ms/step - binary_crossentropy: 0.0169 - logloss: 0.0169 - loss: 0.0203 - val_binary_crossentropy: 0.0169 - val_logloss: 0.0168 - val_loss: 0.0201 - learning_rate: 0.0025\n",
      "Epoch 1/192\n",
      "\u001b[1m 32/160\u001b[0m \u001b[32m━━━━\u001b[0m\u001b[37m━━━━━━━━━━━━━━━━\u001b[0m \u001b[1m0s\u001b[0m 5ms/step - binary_crossentropy: 0.0169 - logloss: 0.0168 - loss: 0.0202"
     ]
    },
    {
     "name": "stderr",
     "output_type": "stream",
     "text": [
      "W0000 00:00:1716233739.663491      70 graph_launch.cc:671] Fallback to op-by-op mode because memset node breaks graph update\n"
     ]
    },
    {
     "name": "stdout",
     "output_type": "stream",
     "text": [
      "\u001b[1m160/160\u001b[0m \u001b[32m━━━━━━━━━━━━━━━━━━━━\u001b[0m\u001b[37m\u001b[0m \u001b[1m0s\u001b[0m 49ms/step - binary_crossentropy: 0.0168 - logloss: 0.0168 - loss: 0.0202"
     ]
    },
    {
     "name": "stderr",
     "output_type": "stream",
     "text": [
      "W0000 00:00:1716233747.423682      73 graph_launch.cc:671] Fallback to op-by-op mode because memset node breaks graph update\n",
      "W0000 00:00:1716233748.075662      72 graph_launch.cc:671] Fallback to op-by-op mode because memset node breaks graph update\n"
     ]
    },
    {
     "name": "stdout",
     "output_type": "stream",
     "text": [
      "\u001b[1m160/160\u001b[0m \u001b[32m━━━━━━━━━━━━━━━━━━━━\u001b[0m\u001b[37m\u001b[0m \u001b[1m18s\u001b[0m 55ms/step - binary_crossentropy: 0.0168 - logloss: 0.0168 - loss: 0.0202 - val_binary_crossentropy: 0.0165 - val_logloss: 0.0165 - val_loss: 0.0197\n",
      "Epoch 2/192\n",
      "\u001b[1m 34/160\u001b[0m \u001b[32m━━━━\u001b[0m\u001b[37m━━━━━━━━━━━━━━━━\u001b[0m \u001b[1m0s\u001b[0m 5ms/step - binary_crossentropy: 0.0168 - logloss: 0.0167 - loss: 0.0201"
     ]
    },
    {
     "name": "stderr",
     "output_type": "stream",
     "text": [
      "W0000 00:00:1716233748.444168      70 graph_launch.cc:671] Fallback to op-by-op mode because memset node breaks graph update\n"
     ]
    },
    {
     "name": "stdout",
     "output_type": "stream",
     "text": [
      "\u001b[1m160/160\u001b[0m \u001b[32m━━━━━━━━━━━━━━━━━━━━\u001b[0m\u001b[37m\u001b[0m \u001b[1m1s\u001b[0m 5ms/step - binary_crossentropy: 0.0168 - logloss: 0.0167 - loss: 0.0201 - val_binary_crossentropy: 0.0164 - val_logloss: 0.0163 - val_loss: 0.0196\n",
      "Epoch 3/192\n",
      "\u001b[1m160/160\u001b[0m \u001b[32m━━━━━━━━━━━━━━━━━━━━\u001b[0m\u001b[37m\u001b[0m \u001b[1m1s\u001b[0m 4ms/step - binary_crossentropy: 0.0168 - logloss: 0.0167 - loss: 0.0201 - val_binary_crossentropy: 0.0163 - val_logloss: 0.0163 - val_loss: 0.0195\n",
      "Epoch 4/192\n",
      "\u001b[1m160/160\u001b[0m \u001b[32m━━━━━━━━━━━━━━━━━━━━\u001b[0m\u001b[37m\u001b[0m \u001b[1m1s\u001b[0m 4ms/step - binary_crossentropy: 0.0167 - logloss: 0.0167 - loss: 0.0200 - val_binary_crossentropy: 0.0163 - val_logloss: 0.0163 - val_loss: 0.0195\n",
      "Epoch 5/192\n",
      "\u001b[1m160/160\u001b[0m \u001b[32m━━━━━━━━━━━━━━━━━━━━\u001b[0m\u001b[37m\u001b[0m \u001b[1m1s\u001b[0m 4ms/step - binary_crossentropy: 0.0167 - logloss: 0.0166 - loss: 0.0200 - val_binary_crossentropy: 0.0163 - val_logloss: 0.0163 - val_loss: 0.0195\n",
      "Epoch 6/192\n",
      "\u001b[1m160/160\u001b[0m \u001b[32m━━━━━━━━━━━━━━━━━━━━\u001b[0m\u001b[37m\u001b[0m \u001b[1m1s\u001b[0m 4ms/step - binary_crossentropy: 0.0167 - logloss: 0.0166 - loss: 0.0200 - val_binary_crossentropy: 0.0163 - val_logloss: 0.0163 - val_loss: 0.0195\n",
      "Epoch 7/192\n",
      "\u001b[1m160/160\u001b[0m \u001b[32m━━━━━━━━━━━━━━━━━━━━\u001b[0m\u001b[37m\u001b[0m \u001b[1m1s\u001b[0m 4ms/step - binary_crossentropy: 0.0167 - logloss: 0.0167 - loss: 0.0200 - val_binary_crossentropy: 0.0163 - val_logloss: 0.0162 - val_loss: 0.0195\n",
      "Epoch 8/192\n",
      "\u001b[1m160/160\u001b[0m \u001b[32m━━━━━━━━━━━━━━━━━━━━\u001b[0m\u001b[37m\u001b[0m \u001b[1m1s\u001b[0m 4ms/step - binary_crossentropy: 0.0166 - logloss: 0.0166 - loss: 0.0199 - val_binary_crossentropy: 0.0162 - val_logloss: 0.0162 - val_loss: 0.0195\n",
      "Epoch 9/192\n",
      "\u001b[1m160/160\u001b[0m \u001b[32m━━━━━━━━━━━━━━━━━━━━\u001b[0m\u001b[37m\u001b[0m \u001b[1m1s\u001b[0m 4ms/step - binary_crossentropy: 0.0166 - logloss: 0.0166 - loss: 0.0199 - val_binary_crossentropy: 0.0162 - val_logloss: 0.0162 - val_loss: 0.0195\n",
      "Epoch 10/192\n",
      "\u001b[1m160/160\u001b[0m \u001b[32m━━━━━━━━━━━━━━━━━━━━\u001b[0m\u001b[37m\u001b[0m \u001b[1m1s\u001b[0m 4ms/step - binary_crossentropy: 0.0166 - logloss: 0.0165 - loss: 0.0199 - val_binary_crossentropy: 0.0162 - val_logloss: 0.0162 - val_loss: 0.0195\n",
      "Epoch 11/192\n",
      "\u001b[1m160/160\u001b[0m \u001b[32m━━━━━━━━━━━━━━━━━━━━\u001b[0m\u001b[37m\u001b[0m \u001b[1m1s\u001b[0m 4ms/step - binary_crossentropy: 0.0165 - logloss: 0.0165 - loss: 0.0199 - val_binary_crossentropy: 0.0162 - val_logloss: 0.0162 - val_loss: 0.0195\n",
      "Epoch 12/192\n",
      "\u001b[1m160/160\u001b[0m \u001b[32m━━━━━━━━━━━━━━━━━━━━\u001b[0m\u001b[37m\u001b[0m \u001b[1m1s\u001b[0m 4ms/step - binary_crossentropy: 0.0166 - logloss: 0.0166 - loss: 0.0199 - val_binary_crossentropy: 0.0162 - val_logloss: 0.0162 - val_loss: 0.0194\n",
      "Epoch 13/192\n",
      "\u001b[1m160/160\u001b[0m \u001b[32m━━━━━━━━━━━━━━━━━━━━\u001b[0m\u001b[37m\u001b[0m \u001b[1m1s\u001b[0m 4ms/step - binary_crossentropy: 0.0165 - logloss: 0.0165 - loss: 0.0198 - val_binary_crossentropy: 0.0162 - val_logloss: 0.0162 - val_loss: 0.0194\n",
      "Epoch 14/192\n",
      "\u001b[1m160/160\u001b[0m \u001b[32m━━━━━━━━━━━━━━━━━━━━\u001b[0m\u001b[37m\u001b[0m \u001b[1m1s\u001b[0m 4ms/step - binary_crossentropy: 0.0165 - logloss: 0.0165 - loss: 0.0198 - val_binary_crossentropy: 0.0162 - val_logloss: 0.0162 - val_loss: 0.0194\n",
      "Epoch 15/192\n",
      "\u001b[1m160/160\u001b[0m \u001b[32m━━━━━━━━━━━━━━━━━━━━\u001b[0m\u001b[37m\u001b[0m \u001b[1m1s\u001b[0m 4ms/step - binary_crossentropy: 0.0166 - logloss: 0.0166 - loss: 0.0199 - val_binary_crossentropy: 0.0162 - val_logloss: 0.0162 - val_loss: 0.0194\n",
      "Epoch 16/192\n",
      "\u001b[1m160/160\u001b[0m \u001b[32m━━━━━━━━━━━━━━━━━━━━\u001b[0m\u001b[37m\u001b[0m \u001b[1m1s\u001b[0m 4ms/step - binary_crossentropy: 0.0166 - logloss: 0.0165 - loss: 0.0199 - val_binary_crossentropy: 0.0162 - val_logloss: 0.0162 - val_loss: 0.0194\n",
      "Epoch 17/192\n",
      "\u001b[1m160/160\u001b[0m \u001b[32m━━━━━━━━━━━━━━━━━━━━\u001b[0m\u001b[37m\u001b[0m \u001b[1m1s\u001b[0m 4ms/step - binary_crossentropy: 0.0165 - logloss: 0.0165 - loss: 0.0198 - val_binary_crossentropy: 0.0162 - val_logloss: 0.0162 - val_loss: 0.0194\n",
      "Epoch 18/192\n",
      "\u001b[1m160/160\u001b[0m \u001b[32m━━━━━━━━━━━━━━━━━━━━\u001b[0m\u001b[37m\u001b[0m \u001b[1m1s\u001b[0m 4ms/step - binary_crossentropy: 0.0165 - logloss: 0.0165 - loss: 0.0198 - val_binary_crossentropy: 0.0162 - val_logloss: 0.0162 - val_loss: 0.0194\n",
      "Epoch 19/192\n",
      "\u001b[1m160/160\u001b[0m \u001b[32m━━━━━━━━━━━━━━━━━━━━\u001b[0m\u001b[37m\u001b[0m \u001b[1m1s\u001b[0m 4ms/step - binary_crossentropy: 0.0165 - logloss: 0.0165 - loss: 0.0198 - val_binary_crossentropy: 0.0162 - val_logloss: 0.0162 - val_loss: 0.0194\n",
      "Epoch 20/192\n",
      "\u001b[1m160/160\u001b[0m \u001b[32m━━━━━━━━━━━━━━━━━━━━\u001b[0m\u001b[37m\u001b[0m \u001b[1m1s\u001b[0m 4ms/step - binary_crossentropy: 0.0165 - logloss: 0.0165 - loss: 0.0198 - val_binary_crossentropy: 0.0162 - val_logloss: 0.0162 - val_loss: 0.0194\n",
      "Epoch 21/192\n",
      "\u001b[1m160/160\u001b[0m \u001b[32m━━━━━━━━━━━━━━━━━━━━\u001b[0m\u001b[37m\u001b[0m \u001b[1m1s\u001b[0m 4ms/step - binary_crossentropy: 0.0165 - logloss: 0.0165 - loss: 0.0198 - val_binary_crossentropy: 0.0162 - val_logloss: 0.0162 - val_loss: 0.0194\n",
      "Epoch 22/192\n",
      "\u001b[1m160/160\u001b[0m \u001b[32m━━━━━━━━━━━━━━━━━━━━\u001b[0m\u001b[37m\u001b[0m \u001b[1m1s\u001b[0m 4ms/step - binary_crossentropy: 0.0165 - logloss: 0.0165 - loss: 0.0198 - val_binary_crossentropy: 0.0162 - val_logloss: 0.0162 - val_loss: 0.0194\n",
      "Epoch 23/192\n",
      "\u001b[1m160/160\u001b[0m \u001b[32m━━━━━━━━━━━━━━━━━━━━\u001b[0m\u001b[37m\u001b[0m \u001b[1m1s\u001b[0m 4ms/step - binary_crossentropy: 0.0165 - logloss: 0.0165 - loss: 0.0198 - val_binary_crossentropy: 0.0162 - val_logloss: 0.0162 - val_loss: 0.0194\n",
      "Epoch 24/192\n",
      "\u001b[1m160/160\u001b[0m \u001b[32m━━━━━━━━━━━━━━━━━━━━\u001b[0m\u001b[37m\u001b[0m \u001b[1m1s\u001b[0m 4ms/step - binary_crossentropy: 0.0165 - logloss: 0.0165 - loss: 0.0198 - val_binary_crossentropy: 0.0162 - val_logloss: 0.0161 - val_loss: 0.0194\n",
      "Epoch 25/192\n",
      "\u001b[1m160/160\u001b[0m \u001b[32m━━━━━━━━━━━━━━━━━━━━\u001b[0m\u001b[37m\u001b[0m \u001b[1m1s\u001b[0m 4ms/step - binary_crossentropy: 0.0165 - logloss: 0.0165 - loss: 0.0198 - val_binary_crossentropy: 0.0162 - val_logloss: 0.0161 - val_loss: 0.0194\n",
      "Epoch 26/192\n",
      "\u001b[1m160/160\u001b[0m \u001b[32m━━━━━━━━━━━━━━━━━━━━\u001b[0m\u001b[37m\u001b[0m \u001b[1m1s\u001b[0m 4ms/step - binary_crossentropy: 0.0164 - logloss: 0.0164 - loss: 0.0198 - val_binary_crossentropy: 0.0162 - val_logloss: 0.0161 - val_loss: 0.0194\n",
      "Epoch 27/192\n",
      "\u001b[1m160/160\u001b[0m \u001b[32m━━━━━━━━━━━━━━━━━━━━\u001b[0m\u001b[37m\u001b[0m \u001b[1m1s\u001b[0m 4ms/step - binary_crossentropy: 0.0165 - logloss: 0.0165 - loss: 0.0198 - val_binary_crossentropy: 0.0162 - val_logloss: 0.0161 - val_loss: 0.0194\n",
      "Epoch 28/192\n",
      "\u001b[1m160/160\u001b[0m \u001b[32m━━━━━━━━━━━━━━━━━━━━\u001b[0m\u001b[37m\u001b[0m \u001b[1m1s\u001b[0m 4ms/step - binary_crossentropy: 0.0164 - logloss: 0.0165 - loss: 0.0198 - val_binary_crossentropy: 0.0162 - val_logloss: 0.0161 - val_loss: 0.0194\n",
      "Epoch 29/192\n",
      "\u001b[1m160/160\u001b[0m \u001b[32m━━━━━━━━━━━━━━━━━━━━\u001b[0m\u001b[37m\u001b[0m \u001b[1m1s\u001b[0m 4ms/step - binary_crossentropy: 0.0165 - logloss: 0.0165 - loss: 0.0198 - val_binary_crossentropy: 0.0162 - val_logloss: 0.0161 - val_loss: 0.0194\n",
      "Epoch 30/192\n",
      "\u001b[1m160/160\u001b[0m \u001b[32m━━━━━━━━━━━━━━━━━━━━\u001b[0m\u001b[37m\u001b[0m \u001b[1m1s\u001b[0m 4ms/step - binary_crossentropy: 0.0164 - logloss: 0.0164 - loss: 0.0197 - val_binary_crossentropy: 0.0161 - val_logloss: 0.0161 - val_loss: 0.0194\n",
      "Epoch 31/192\n",
      "\u001b[1m160/160\u001b[0m \u001b[32m━━━━━━━━━━━━━━━━━━━━\u001b[0m\u001b[37m\u001b[0m \u001b[1m1s\u001b[0m 4ms/step - binary_crossentropy: 0.0164 - logloss: 0.0164 - loss: 0.0197 - val_binary_crossentropy: 0.0161 - val_logloss: 0.0161 - val_loss: 0.0193\n",
      "Epoch 32/192\n",
      "\u001b[1m160/160\u001b[0m \u001b[32m━━━━━━━━━━━━━━━━━━━━\u001b[0m\u001b[37m\u001b[0m \u001b[1m1s\u001b[0m 4ms/step - binary_crossentropy: 0.0164 - logloss: 0.0164 - loss: 0.0197 - val_binary_crossentropy: 0.0161 - val_logloss: 0.0161 - val_loss: 0.0193\n",
      "Epoch 33/192\n",
      "\u001b[1m160/160\u001b[0m \u001b[32m━━━━━━━━━━━━━━━━━━━━\u001b[0m\u001b[37m\u001b[0m \u001b[1m1s\u001b[0m 4ms/step - binary_crossentropy: 0.0164 - logloss: 0.0164 - loss: 0.0197 - val_binary_crossentropy: 0.0161 - val_logloss: 0.0161 - val_loss: 0.0193\n",
      "Epoch 34/192\n",
      "\u001b[1m160/160\u001b[0m \u001b[32m━━━━━━━━━━━━━━━━━━━━\u001b[0m\u001b[37m\u001b[0m \u001b[1m1s\u001b[0m 4ms/step - binary_crossentropy: 0.0163 - logloss: 0.0164 - loss: 0.0197 - val_binary_crossentropy: 0.0161 - val_logloss: 0.0161 - val_loss: 0.0193\n",
      "Epoch 35/192\n",
      "\u001b[1m160/160\u001b[0m \u001b[32m━━━━━━━━━━━━━━━━━━━━\u001b[0m\u001b[37m\u001b[0m \u001b[1m1s\u001b[0m 4ms/step - binary_crossentropy: 0.0164 - logloss: 0.0164 - loss: 0.0197 - val_binary_crossentropy: 0.0161 - val_logloss: 0.0161 - val_loss: 0.0193\n",
      "Epoch 36/192\n",
      "\u001b[1m160/160\u001b[0m \u001b[32m━━━━━━━━━━━━━━━━━━━━\u001b[0m\u001b[37m\u001b[0m \u001b[1m1s\u001b[0m 4ms/step - binary_crossentropy: 0.0164 - logloss: 0.0164 - loss: 0.0197 - val_binary_crossentropy: 0.0161 - val_logloss: 0.0161 - val_loss: 0.0193\n",
      "Epoch 37/192\n",
      "\u001b[1m160/160\u001b[0m \u001b[32m━━━━━━━━━━━━━━━━━━━━\u001b[0m\u001b[37m\u001b[0m \u001b[1m1s\u001b[0m 4ms/step - binary_crossentropy: 0.0164 - logloss: 0.0164 - loss: 0.0197 - val_binary_crossentropy: 0.0161 - val_logloss: 0.0161 - val_loss: 0.0193\n",
      "Epoch 38/192\n",
      "\u001b[1m160/160\u001b[0m \u001b[32m━━━━━━━━━━━━━━━━━━━━\u001b[0m\u001b[37m\u001b[0m \u001b[1m1s\u001b[0m 5ms/step - binary_crossentropy: 0.0164 - logloss: 0.0164 - loss: 0.0197 - val_binary_crossentropy: 0.0161 - val_logloss: 0.0161 - val_loss: 0.0193\n",
      "Epoch 39/192\n",
      "\u001b[1m160/160\u001b[0m \u001b[32m━━━━━━━━━━━━━━━━━━━━\u001b[0m\u001b[37m\u001b[0m \u001b[1m1s\u001b[0m 4ms/step - binary_crossentropy: 0.0164 - logloss: 0.0164 - loss: 0.0197 - val_binary_crossentropy: 0.0161 - val_logloss: 0.0161 - val_loss: 0.0193\n",
      "Epoch 40/192\n",
      "\u001b[1m160/160\u001b[0m \u001b[32m━━━━━━━━━━━━━━━━━━━━\u001b[0m\u001b[37m\u001b[0m \u001b[1m1s\u001b[0m 4ms/step - binary_crossentropy: 0.0164 - logloss: 0.0164 - loss: 0.0197 - val_binary_crossentropy: 0.0161 - val_logloss: 0.0161 - val_loss: 0.0193\n",
      "Epoch 41/192\n",
      "\u001b[1m160/160\u001b[0m \u001b[32m━━━━━━━━━━━━━━━━━━━━\u001b[0m\u001b[37m\u001b[0m \u001b[1m1s\u001b[0m 4ms/step - binary_crossentropy: 0.0164 - logloss: 0.0164 - loss: 0.0197 - val_binary_crossentropy: 0.0161 - val_logloss: 0.0161 - val_loss: 0.0193\n",
      "Epoch 42/192\n",
      "\u001b[1m160/160\u001b[0m \u001b[32m━━━━━━━━━━━━━━━━━━━━\u001b[0m\u001b[37m\u001b[0m \u001b[1m1s\u001b[0m 4ms/step - binary_crossentropy: 0.0163 - logloss: 0.0164 - loss: 0.0196 - val_binary_crossentropy: 0.0161 - val_logloss: 0.0161 - val_loss: 0.0193\n",
      "Epoch 43/192\n",
      "\u001b[1m160/160\u001b[0m \u001b[32m━━━━━━━━━━━━━━━━━━━━\u001b[0m\u001b[37m\u001b[0m \u001b[1m1s\u001b[0m 4ms/step - binary_crossentropy: 0.0164 - logloss: 0.0164 - loss: 0.0197 - val_binary_crossentropy: 0.0161 - val_logloss: 0.0161 - val_loss: 0.0193\n",
      "Epoch 44/192\n",
      "\u001b[1m160/160\u001b[0m \u001b[32m━━━━━━━━━━━━━━━━━━━━\u001b[0m\u001b[37m\u001b[0m \u001b[1m1s\u001b[0m 4ms/step - binary_crossentropy: 0.0164 - logloss: 0.0164 - loss: 0.0197 - val_binary_crossentropy: 0.0161 - val_logloss: 0.0161 - val_loss: 0.0193\n",
      "Epoch 45/192\n",
      "\u001b[1m160/160\u001b[0m \u001b[32m━━━━━━━━━━━━━━━━━━━━\u001b[0m\u001b[37m\u001b[0m \u001b[1m1s\u001b[0m 4ms/step - binary_crossentropy: 0.0163 - logloss: 0.0164 - loss: 0.0197 - val_binary_crossentropy: 0.0161 - val_logloss: 0.0161 - val_loss: 0.0193\n",
      "Epoch 46/192\n",
      "\u001b[1m160/160\u001b[0m \u001b[32m━━━━━━━━━━━━━━━━━━━━\u001b[0m\u001b[37m\u001b[0m \u001b[1m1s\u001b[0m 4ms/step - binary_crossentropy: 0.0163 - logloss: 0.0164 - loss: 0.0196 - val_binary_crossentropy: 0.0161 - val_logloss: 0.0161 - val_loss: 0.0193\n",
      "Epoch 47/192\n",
      "\u001b[1m160/160\u001b[0m \u001b[32m━━━━━━━━━━━━━━━━━━━━\u001b[0m\u001b[37m\u001b[0m \u001b[1m1s\u001b[0m 4ms/step - binary_crossentropy: 0.0164 - logloss: 0.0164 - loss: 0.0197 - val_binary_crossentropy: 0.0161 - val_logloss: 0.0161 - val_loss: 0.0193\n",
      "Epoch 48/192\n",
      "\u001b[1m160/160\u001b[0m \u001b[32m━━━━━━━━━━━━━━━━━━━━\u001b[0m\u001b[37m\u001b[0m \u001b[1m1s\u001b[0m 4ms/step - binary_crossentropy: 0.0163 - logloss: 0.0163 - loss: 0.0196 - val_binary_crossentropy: 0.0161 - val_logloss: 0.0161 - val_loss: 0.0193\n",
      "Epoch 49/192\n",
      "\u001b[1m160/160\u001b[0m \u001b[32m━━━━━━━━━━━━━━━━━━━━\u001b[0m\u001b[37m\u001b[0m \u001b[1m1s\u001b[0m 4ms/step - binary_crossentropy: 0.0164 - logloss: 0.0164 - loss: 0.0197 - val_binary_crossentropy: 0.0161 - val_logloss: 0.0161 - val_loss: 0.0193\n",
      "Epoch 50/192\n",
      "\u001b[1m160/160\u001b[0m \u001b[32m━━━━━━━━━━━━━━━━━━━━\u001b[0m\u001b[37m\u001b[0m \u001b[1m1s\u001b[0m 4ms/step - binary_crossentropy: 0.0163 - logloss: 0.0164 - loss: 0.0196 - val_binary_crossentropy: 0.0161 - val_logloss: 0.0161 - val_loss: 0.0193\n",
      "Epoch 51/192\n",
      "\u001b[1m160/160\u001b[0m \u001b[32m━━━━━━━━━━━━━━━━━━━━\u001b[0m\u001b[37m\u001b[0m \u001b[1m1s\u001b[0m 4ms/step - binary_crossentropy: 0.0163 - logloss: 0.0163 - loss: 0.0196 - val_binary_crossentropy: 0.0161 - val_logloss: 0.0161 - val_loss: 0.0193\n",
      "Epoch 52/192\n",
      "\u001b[1m160/160\u001b[0m \u001b[32m━━━━━━━━━━━━━━━━━━━━\u001b[0m\u001b[37m\u001b[0m \u001b[1m1s\u001b[0m 4ms/step - binary_crossentropy: 0.0163 - logloss: 0.0163 - loss: 0.0196 - val_binary_crossentropy: 0.0161 - val_logloss: 0.0161 - val_loss: 0.0193\n",
      "Epoch 53/192\n",
      "\u001b[1m160/160\u001b[0m \u001b[32m━━━━━━━━━━━━━━━━━━━━\u001b[0m\u001b[37m\u001b[0m \u001b[1m1s\u001b[0m 4ms/step - binary_crossentropy: 0.0163 - logloss: 0.0163 - loss: 0.0196 - val_binary_crossentropy: 0.0161 - val_logloss: 0.0161 - val_loss: 0.0193\n",
      "Epoch 54/192\n",
      "\u001b[1m160/160\u001b[0m \u001b[32m━━━━━━━━━━━━━━━━━━━━\u001b[0m\u001b[37m\u001b[0m \u001b[1m1s\u001b[0m 4ms/step - binary_crossentropy: 0.0163 - logloss: 0.0163 - loss: 0.0196 - val_binary_crossentropy: 0.0161 - val_logloss: 0.0161 - val_loss: 0.0193\n",
      "Epoch 55/192\n",
      "\u001b[1m160/160\u001b[0m \u001b[32m━━━━━━━━━━━━━━━━━━━━\u001b[0m\u001b[37m\u001b[0m \u001b[1m1s\u001b[0m 4ms/step - binary_crossentropy: 0.0163 - logloss: 0.0164 - loss: 0.0196 - val_binary_crossentropy: 0.0161 - val_logloss: 0.0160 - val_loss: 0.0193\n",
      "Epoch 56/192\n",
      "\u001b[1m160/160\u001b[0m \u001b[32m━━━━━━━━━━━━━━━━━━━━\u001b[0m\u001b[37m\u001b[0m \u001b[1m1s\u001b[0m 4ms/step - binary_crossentropy: 0.0164 - logloss: 0.0164 - loss: 0.0197 - val_binary_crossentropy: 0.0161 - val_logloss: 0.0160 - val_loss: 0.0193\n",
      "Epoch 57/192\n",
      "\u001b[1m160/160\u001b[0m \u001b[32m━━━━━━━━━━━━━━━━━━━━\u001b[0m\u001b[37m\u001b[0m \u001b[1m1s\u001b[0m 4ms/step - binary_crossentropy: 0.0163 - logloss: 0.0163 - loss: 0.0196 - val_binary_crossentropy: 0.0161 - val_logloss: 0.0160 - val_loss: 0.0193\n",
      "Epoch 58/192\n",
      "\u001b[1m160/160\u001b[0m \u001b[32m━━━━━━━━━━━━━━━━━━━━\u001b[0m\u001b[37m\u001b[0m \u001b[1m1s\u001b[0m 4ms/step - binary_crossentropy: 0.0163 - logloss: 0.0163 - loss: 0.0196 - val_binary_crossentropy: 0.0161 - val_logloss: 0.0160 - val_loss: 0.0193\n",
      "Epoch 59/192\n",
      "\u001b[1m160/160\u001b[0m \u001b[32m━━━━━━━━━━━━━━━━━━━━\u001b[0m\u001b[37m\u001b[0m \u001b[1m1s\u001b[0m 4ms/step - binary_crossentropy: 0.0163 - logloss: 0.0163 - loss: 0.0196 - val_binary_crossentropy: 0.0161 - val_logloss: 0.0160 - val_loss: 0.0193\n",
      "Epoch 60/192\n",
      "\u001b[1m160/160\u001b[0m \u001b[32m━━━━━━━━━━━━━━━━━━━━\u001b[0m\u001b[37m\u001b[0m \u001b[1m1s\u001b[0m 4ms/step - binary_crossentropy: 0.0163 - logloss: 0.0163 - loss: 0.0196 - val_binary_crossentropy: 0.0161 - val_logloss: 0.0160 - val_loss: 0.0193\n",
      "Epoch 61/192\n",
      "\u001b[1m160/160\u001b[0m \u001b[32m━━━━━━━━━━━━━━━━━━━━\u001b[0m\u001b[37m\u001b[0m \u001b[1m1s\u001b[0m 4ms/step - binary_crossentropy: 0.0163 - logloss: 0.0163 - loss: 0.0196 - val_binary_crossentropy: 0.0161 - val_logloss: 0.0160 - val_loss: 0.0192\n",
      "Epoch 62/192\n",
      "\u001b[1m160/160\u001b[0m \u001b[32m━━━━━━━━━━━━━━━━━━━━\u001b[0m\u001b[37m\u001b[0m \u001b[1m1s\u001b[0m 4ms/step - binary_crossentropy: 0.0163 - logloss: 0.0163 - loss: 0.0196 - val_binary_crossentropy: 0.0161 - val_logloss: 0.0160 - val_loss: 0.0192\n",
      "Epoch 63/192\n",
      "\u001b[1m160/160\u001b[0m \u001b[32m━━━━━━━━━━━━━━━━━━━━\u001b[0m\u001b[37m\u001b[0m \u001b[1m1s\u001b[0m 4ms/step - binary_crossentropy: 0.0162 - logloss: 0.0162 - loss: 0.0195 - val_binary_crossentropy: 0.0160 - val_logloss: 0.0160 - val_loss: 0.0192\n",
      "Epoch 64/192\n",
      "\u001b[1m160/160\u001b[0m \u001b[32m━━━━━━━━━━━━━━━━━━━━\u001b[0m\u001b[37m\u001b[0m \u001b[1m1s\u001b[0m 4ms/step - binary_crossentropy: 0.0162 - logloss: 0.0162 - loss: 0.0195 - val_binary_crossentropy: 0.0160 - val_logloss: 0.0160 - val_loss: 0.0192\n",
      "Epoch 65/192\n",
      "\u001b[1m160/160\u001b[0m \u001b[32m━━━━━━━━━━━━━━━━━━━━\u001b[0m\u001b[37m\u001b[0m \u001b[1m1s\u001b[0m 4ms/step - binary_crossentropy: 0.0162 - logloss: 0.0163 - loss: 0.0195 - val_binary_crossentropy: 0.0160 - val_logloss: 0.0160 - val_loss: 0.0192\n",
      "Epoch 66/192\n",
      "\u001b[1m160/160\u001b[0m \u001b[32m━━━━━━━━━━━━━━━━━━━━\u001b[0m\u001b[37m\u001b[0m \u001b[1m1s\u001b[0m 4ms/step - binary_crossentropy: 0.0162 - logloss: 0.0162 - loss: 0.0195 - val_binary_crossentropy: 0.0160 - val_logloss: 0.0160 - val_loss: 0.0192\n",
      "Epoch 67/192\n",
      "\u001b[1m160/160\u001b[0m \u001b[32m━━━━━━━━━━━━━━━━━━━━\u001b[0m\u001b[37m\u001b[0m \u001b[1m1s\u001b[0m 4ms/step - binary_crossentropy: 0.0163 - logloss: 0.0163 - loss: 0.0195 - val_binary_crossentropy: 0.0160 - val_logloss: 0.0160 - val_loss: 0.0192\n",
      "Epoch 68/192\n",
      "\u001b[1m160/160\u001b[0m \u001b[32m━━━━━━━━━━━━━━━━━━━━\u001b[0m\u001b[37m\u001b[0m \u001b[1m1s\u001b[0m 4ms/step - binary_crossentropy: 0.0162 - logloss: 0.0163 - loss: 0.0195 - val_binary_crossentropy: 0.0160 - val_logloss: 0.0160 - val_loss: 0.0192\n",
      "Epoch 69/192\n",
      "\u001b[1m160/160\u001b[0m \u001b[32m━━━━━━━━━━━━━━━━━━━━\u001b[0m\u001b[37m\u001b[0m \u001b[1m1s\u001b[0m 4ms/step - binary_crossentropy: 0.0162 - logloss: 0.0162 - loss: 0.0195 - val_binary_crossentropy: 0.0160 - val_logloss: 0.0160 - val_loss: 0.0192\n",
      "Epoch 70/192\n",
      "\u001b[1m160/160\u001b[0m \u001b[32m━━━━━━━━━━━━━━━━━━━━\u001b[0m\u001b[37m\u001b[0m \u001b[1m1s\u001b[0m 4ms/step - binary_crossentropy: 0.0162 - logloss: 0.0163 - loss: 0.0195 - val_binary_crossentropy: 0.0160 - val_logloss: 0.0160 - val_loss: 0.0192\n",
      "Epoch 71/192\n",
      "\u001b[1m160/160\u001b[0m \u001b[32m━━━━━━━━━━━━━━━━━━━━\u001b[0m\u001b[37m\u001b[0m \u001b[1m1s\u001b[0m 4ms/step - binary_crossentropy: 0.0163 - logloss: 0.0163 - loss: 0.0195 - val_binary_crossentropy: 0.0160 - val_logloss: 0.0160 - val_loss: 0.0192\n",
      "Epoch 72/192\n",
      "\u001b[1m160/160\u001b[0m \u001b[32m━━━━━━━━━━━━━━━━━━━━\u001b[0m\u001b[37m\u001b[0m \u001b[1m1s\u001b[0m 4ms/step - binary_crossentropy: 0.0162 - logloss: 0.0163 - loss: 0.0195 - val_binary_crossentropy: 0.0160 - val_logloss: 0.0160 - val_loss: 0.0192\n",
      "Epoch 73/192\n",
      "\u001b[1m160/160\u001b[0m \u001b[32m━━━━━━━━━━━━━━━━━━━━\u001b[0m\u001b[37m\u001b[0m \u001b[1m1s\u001b[0m 4ms/step - binary_crossentropy: 0.0162 - logloss: 0.0163 - loss: 0.0195 - val_binary_crossentropy: 0.0160 - val_logloss: 0.0160 - val_loss: 0.0192\n",
      "Epoch 74/192\n",
      "\u001b[1m160/160\u001b[0m \u001b[32m━━━━━━━━━━━━━━━━━━━━\u001b[0m\u001b[37m\u001b[0m \u001b[1m1s\u001b[0m 4ms/step - binary_crossentropy: 0.0162 - logloss: 0.0162 - loss: 0.0195 - val_binary_crossentropy: 0.0160 - val_logloss: 0.0160 - val_loss: 0.0192\n",
      "Epoch 75/192\n",
      "\u001b[1m160/160\u001b[0m \u001b[32m━━━━━━━━━━━━━━━━━━━━\u001b[0m\u001b[37m\u001b[0m \u001b[1m1s\u001b[0m 4ms/step - binary_crossentropy: 0.0162 - logloss: 0.0163 - loss: 0.0195 - val_binary_crossentropy: 0.0160 - val_logloss: 0.0160 - val_loss: 0.0192\n",
      "Epoch 76/192\n",
      "\u001b[1m160/160\u001b[0m \u001b[32m━━━━━━━━━━━━━━━━━━━━\u001b[0m\u001b[37m\u001b[0m \u001b[1m1s\u001b[0m 4ms/step - binary_crossentropy: 0.0162 - logloss: 0.0162 - loss: 0.0195 - val_binary_crossentropy: 0.0160 - val_logloss: 0.0160 - val_loss: 0.0192\n",
      "Epoch 77/192\n",
      "\u001b[1m160/160\u001b[0m \u001b[32m━━━━━━━━━━━━━━━━━━━━\u001b[0m\u001b[37m\u001b[0m \u001b[1m1s\u001b[0m 4ms/step - binary_crossentropy: 0.0162 - logloss: 0.0162 - loss: 0.0195 - val_binary_crossentropy: 0.0160 - val_logloss: 0.0160 - val_loss: 0.0192\n",
      "Epoch 78/192\n",
      "\u001b[1m160/160\u001b[0m \u001b[32m━━━━━━━━━━━━━━━━━━━━\u001b[0m\u001b[37m\u001b[0m \u001b[1m1s\u001b[0m 4ms/step - binary_crossentropy: 0.0162 - logloss: 0.0162 - loss: 0.0195 - val_binary_crossentropy: 0.0160 - val_logloss: 0.0160 - val_loss: 0.0192\n",
      "Epoch 79/192\n",
      "\u001b[1m160/160\u001b[0m \u001b[32m━━━━━━━━━━━━━━━━━━━━\u001b[0m\u001b[37m\u001b[0m \u001b[1m1s\u001b[0m 4ms/step - binary_crossentropy: 0.0163 - logloss: 0.0163 - loss: 0.0196 - val_binary_crossentropy: 0.0160 - val_logloss: 0.0160 - val_loss: 0.0192\n",
      "Epoch 80/192\n",
      "\u001b[1m160/160\u001b[0m \u001b[32m━━━━━━━━━━━━━━━━━━━━\u001b[0m\u001b[37m\u001b[0m \u001b[1m1s\u001b[0m 4ms/step - binary_crossentropy: 0.0162 - logloss: 0.0162 - loss: 0.0195 - val_binary_crossentropy: 0.0160 - val_logloss: 0.0160 - val_loss: 0.0192\n",
      "Epoch 81/192\n",
      "\u001b[1m160/160\u001b[0m \u001b[32m━━━━━━━━━━━━━━━━━━━━\u001b[0m\u001b[37m\u001b[0m \u001b[1m1s\u001b[0m 5ms/step - binary_crossentropy: 0.0162 - logloss: 0.0162 - loss: 0.0195 - val_binary_crossentropy: 0.0160 - val_logloss: 0.0160 - val_loss: 0.0192\n",
      "Epoch 82/192\n",
      "\u001b[1m160/160\u001b[0m \u001b[32m━━━━━━━━━━━━━━━━━━━━\u001b[0m\u001b[37m\u001b[0m \u001b[1m1s\u001b[0m 4ms/step - binary_crossentropy: 0.0163 - logloss: 0.0163 - loss: 0.0195 - val_binary_crossentropy: 0.0160 - val_logloss: 0.0160 - val_loss: 0.0192\n",
      "Epoch 83/192\n",
      "\u001b[1m160/160\u001b[0m \u001b[32m━━━━━━━━━━━━━━━━━━━━\u001b[0m\u001b[37m\u001b[0m \u001b[1m1s\u001b[0m 4ms/step - binary_crossentropy: 0.0162 - logloss: 0.0162 - loss: 0.0195 - val_binary_crossentropy: 0.0160 - val_logloss: 0.0160 - val_loss: 0.0192\n",
      "Epoch 84/192\n",
      "\u001b[1m160/160\u001b[0m \u001b[32m━━━━━━━━━━━━━━━━━━━━\u001b[0m\u001b[37m\u001b[0m \u001b[1m1s\u001b[0m 4ms/step - binary_crossentropy: 0.0162 - logloss: 0.0162 - loss: 0.0195 - val_binary_crossentropy: 0.0160 - val_logloss: 0.0160 - val_loss: 0.0192\n",
      "Epoch 85/192\n",
      "\u001b[1m160/160\u001b[0m \u001b[32m━━━━━━━━━━━━━━━━━━━━\u001b[0m\u001b[37m\u001b[0m \u001b[1m1s\u001b[0m 4ms/step - binary_crossentropy: 0.0163 - logloss: 0.0163 - loss: 0.0196 - val_binary_crossentropy: 0.0160 - val_logloss: 0.0160 - val_loss: 0.0192\n",
      "Epoch 86/192\n",
      "\u001b[1m160/160\u001b[0m \u001b[32m━━━━━━━━━━━━━━━━━━━━\u001b[0m\u001b[37m\u001b[0m \u001b[1m1s\u001b[0m 4ms/step - binary_crossentropy: 0.0162 - logloss: 0.0162 - loss: 0.0194 - val_binary_crossentropy: 0.0160 - val_logloss: 0.0160 - val_loss: 0.0192\n",
      "Epoch 87/192\n",
      "\u001b[1m160/160\u001b[0m \u001b[32m━━━━━━━━━━━━━━━━━━━━\u001b[0m\u001b[37m\u001b[0m \u001b[1m1s\u001b[0m 4ms/step - binary_crossentropy: 0.0162 - logloss: 0.0162 - loss: 0.0195 - val_binary_crossentropy: 0.0160 - val_logloss: 0.0160 - val_loss: 0.0192\n",
      "Epoch 88/192\n",
      "\u001b[1m160/160\u001b[0m \u001b[32m━━━━━━━━━━━━━━━━━━━━\u001b[0m\u001b[37m\u001b[0m \u001b[1m1s\u001b[0m 4ms/step - binary_crossentropy: 0.0162 - logloss: 0.0162 - loss: 0.0195 - val_binary_crossentropy: 0.0160 - val_logloss: 0.0160 - val_loss: 0.0192\n",
      "Epoch 89/192\n",
      "\u001b[1m160/160\u001b[0m \u001b[32m━━━━━━━━━━━━━━━━━━━━\u001b[0m\u001b[37m\u001b[0m \u001b[1m1s\u001b[0m 4ms/step - binary_crossentropy: 0.0163 - logloss: 0.0163 - loss: 0.0195 - val_binary_crossentropy: 0.0160 - val_logloss: 0.0160 - val_loss: 0.0192\n",
      "Epoch 90/192\n",
      "\u001b[1m160/160\u001b[0m \u001b[32m━━━━━━━━━━━━━━━━━━━━\u001b[0m\u001b[37m\u001b[0m \u001b[1m1s\u001b[0m 4ms/step - binary_crossentropy: 0.0162 - logloss: 0.0162 - loss: 0.0195 - val_binary_crossentropy: 0.0160 - val_logloss: 0.0160 - val_loss: 0.0192\n",
      "Epoch 91/192\n",
      "\u001b[1m160/160\u001b[0m \u001b[32m━━━━━━━━━━━━━━━━━━━━\u001b[0m\u001b[37m\u001b[0m \u001b[1m1s\u001b[0m 4ms/step - binary_crossentropy: 0.0162 - logloss: 0.0162 - loss: 0.0195 - val_binary_crossentropy: 0.0160 - val_logloss: 0.0160 - val_loss: 0.0192\n",
      "Epoch 92/192\n",
      "\u001b[1m160/160\u001b[0m \u001b[32m━━━━━━━━━━━━━━━━━━━━\u001b[0m\u001b[37m\u001b[0m \u001b[1m1s\u001b[0m 4ms/step - binary_crossentropy: 0.0162 - logloss: 0.0162 - loss: 0.0195 - val_binary_crossentropy: 0.0160 - val_logloss: 0.0160 - val_loss: 0.0192\n",
      "Epoch 93/192\n",
      "\u001b[1m160/160\u001b[0m \u001b[32m━━━━━━━━━━━━━━━━━━━━\u001b[0m\u001b[37m\u001b[0m \u001b[1m1s\u001b[0m 4ms/step - binary_crossentropy: 0.0161 - logloss: 0.0161 - loss: 0.0194 - val_binary_crossentropy: 0.0160 - val_logloss: 0.0160 - val_loss: 0.0192\n",
      "Epoch 94/192\n",
      "\u001b[1m160/160\u001b[0m \u001b[32m━━━━━━━━━━━━━━━━━━━━\u001b[0m\u001b[37m\u001b[0m \u001b[1m1s\u001b[0m 4ms/step - binary_crossentropy: 0.0161 - logloss: 0.0161 - loss: 0.0194 - val_binary_crossentropy: 0.0160 - val_logloss: 0.0160 - val_loss: 0.0192\n",
      "Epoch 95/192\n",
      "\u001b[1m160/160\u001b[0m \u001b[32m━━━━━━━━━━━━━━━━━━━━\u001b[0m\u001b[37m\u001b[0m \u001b[1m1s\u001b[0m 4ms/step - binary_crossentropy: 0.0162 - logloss: 0.0162 - loss: 0.0194 - val_binary_crossentropy: 0.0160 - val_logloss: 0.0160 - val_loss: 0.0192\n",
      "Epoch 96/192\n",
      "\u001b[1m160/160\u001b[0m \u001b[32m━━━━━━━━━━━━━━━━━━━━\u001b[0m\u001b[37m\u001b[0m \u001b[1m1s\u001b[0m 4ms/step - binary_crossentropy: 0.0162 - logloss: 0.0162 - loss: 0.0195 - val_binary_crossentropy: 0.0160 - val_logloss: 0.0160 - val_loss: 0.0192\n",
      "Epoch 97/192\n",
      "\u001b[1m160/160\u001b[0m \u001b[32m━━━━━━━━━━━━━━━━━━━━\u001b[0m\u001b[37m\u001b[0m \u001b[1m1s\u001b[0m 4ms/step - binary_crossentropy: 0.0162 - logloss: 0.0163 - loss: 0.0195 - val_binary_crossentropy: 0.0160 - val_logloss: 0.0160 - val_loss: 0.0192\n",
      "Epoch 98/192\n",
      "\u001b[1m160/160\u001b[0m \u001b[32m━━━━━━━━━━━━━━━━━━━━\u001b[0m\u001b[37m\u001b[0m \u001b[1m1s\u001b[0m 4ms/step - binary_crossentropy: 0.0161 - logloss: 0.0161 - loss: 0.0194 - val_binary_crossentropy: 0.0160 - val_logloss: 0.0160 - val_loss: 0.0192\n",
      "Epoch 99/192\n",
      "\u001b[1m160/160\u001b[0m \u001b[32m━━━━━━━━━━━━━━━━━━━━\u001b[0m\u001b[37m\u001b[0m \u001b[1m1s\u001b[0m 4ms/step - binary_crossentropy: 0.0162 - logloss: 0.0162 - loss: 0.0195 - val_binary_crossentropy: 0.0160 - val_logloss: 0.0160 - val_loss: 0.0192\n",
      "Epoch 100/192\n",
      "\u001b[1m160/160\u001b[0m \u001b[32m━━━━━━━━━━━━━━━━━━━━\u001b[0m\u001b[37m\u001b[0m \u001b[1m1s\u001b[0m 4ms/step - binary_crossentropy: 0.0162 - logloss: 0.0162 - loss: 0.0195 - val_binary_crossentropy: 0.0160 - val_logloss: 0.0160 - val_loss: 0.0192\n",
      "Epoch 101/192\n",
      "\u001b[1m160/160\u001b[0m \u001b[32m━━━━━━━━━━━━━━━━━━━━\u001b[0m\u001b[37m\u001b[0m \u001b[1m1s\u001b[0m 4ms/step - binary_crossentropy: 0.0161 - logloss: 0.0161 - loss: 0.0194 - val_binary_crossentropy: 0.0160 - val_logloss: 0.0160 - val_loss: 0.0192\n",
      "Epoch 102/192\n",
      "\u001b[1m160/160\u001b[0m \u001b[32m━━━━━━━━━━━━━━━━━━━━\u001b[0m\u001b[37m\u001b[0m \u001b[1m1s\u001b[0m 4ms/step - binary_crossentropy: 0.0162 - logloss: 0.0162 - loss: 0.0195 - val_binary_crossentropy: 0.0160 - val_logloss: 0.0160 - val_loss: 0.0192\n",
      "Epoch 103/192\n",
      "\u001b[1m160/160\u001b[0m \u001b[32m━━━━━━━━━━━━━━━━━━━━\u001b[0m\u001b[37m\u001b[0m \u001b[1m1s\u001b[0m 4ms/step - binary_crossentropy: 0.0161 - logloss: 0.0161 - loss: 0.0194 - val_binary_crossentropy: 0.0160 - val_logloss: 0.0159 - val_loss: 0.0192\n",
      "Epoch 104/192\n",
      "\u001b[1m160/160\u001b[0m \u001b[32m━━━━━━━━━━━━━━━━━━━━\u001b[0m\u001b[37m\u001b[0m \u001b[1m1s\u001b[0m 4ms/step - binary_crossentropy: 0.0162 - logloss: 0.0162 - loss: 0.0195 - val_binary_crossentropy: 0.0160 - val_logloss: 0.0159 - val_loss: 0.0191\n",
      "Epoch 105/192\n",
      "\u001b[1m160/160\u001b[0m \u001b[32m━━━━━━━━━━━━━━━━━━━━\u001b[0m\u001b[37m\u001b[0m \u001b[1m1s\u001b[0m 4ms/step - binary_crossentropy: 0.0162 - logloss: 0.0162 - loss: 0.0195 - val_binary_crossentropy: 0.0160 - val_logloss: 0.0159 - val_loss: 0.0191\n",
      "Epoch 106/192\n",
      "\u001b[1m160/160\u001b[0m \u001b[32m━━━━━━━━━━━━━━━━━━━━\u001b[0m\u001b[37m\u001b[0m \u001b[1m1s\u001b[0m 4ms/step - binary_crossentropy: 0.0161 - logloss: 0.0161 - loss: 0.0194 - val_binary_crossentropy: 0.0160 - val_logloss: 0.0159 - val_loss: 0.0191\n",
      "Epoch 107/192\n",
      "\u001b[1m160/160\u001b[0m \u001b[32m━━━━━━━━━━━━━━━━━━━━\u001b[0m\u001b[37m\u001b[0m \u001b[1m1s\u001b[0m 4ms/step - binary_crossentropy: 0.0162 - logloss: 0.0162 - loss: 0.0195 - val_binary_crossentropy: 0.0160 - val_logloss: 0.0159 - val_loss: 0.0191\n",
      "Epoch 108/192\n",
      "\u001b[1m160/160\u001b[0m \u001b[32m━━━━━━━━━━━━━━━━━━━━\u001b[0m\u001b[37m\u001b[0m \u001b[1m1s\u001b[0m 4ms/step - binary_crossentropy: 0.0161 - logloss: 0.0161 - loss: 0.0194 - val_binary_crossentropy: 0.0160 - val_logloss: 0.0159 - val_loss: 0.0191\n",
      "Epoch 109/192\n",
      "\u001b[1m160/160\u001b[0m \u001b[32m━━━━━━━━━━━━━━━━━━━━\u001b[0m\u001b[37m\u001b[0m \u001b[1m1s\u001b[0m 4ms/step - binary_crossentropy: 0.0162 - logloss: 0.0162 - loss: 0.0194 - val_binary_crossentropy: 0.0160 - val_logloss: 0.0159 - val_loss: 0.0191\n",
      "Epoch 110/192\n",
      "\u001b[1m160/160\u001b[0m \u001b[32m━━━━━━━━━━━━━━━━━━━━\u001b[0m\u001b[37m\u001b[0m \u001b[1m1s\u001b[0m 4ms/step - binary_crossentropy: 0.0162 - logloss: 0.0162 - loss: 0.0194 - val_binary_crossentropy: 0.0160 - val_logloss: 0.0159 - val_loss: 0.0191\n",
      "Epoch 111/192\n",
      "\u001b[1m160/160\u001b[0m \u001b[32m━━━━━━━━━━━━━━━━━━━━\u001b[0m\u001b[37m\u001b[0m \u001b[1m1s\u001b[0m 4ms/step - binary_crossentropy: 0.0161 - logloss: 0.0161 - loss: 0.0194 - val_binary_crossentropy: 0.0160 - val_logloss: 0.0159 - val_loss: 0.0191\n",
      "Epoch 112/192\n",
      "\u001b[1m160/160\u001b[0m \u001b[32m━━━━━━━━━━━━━━━━━━━━\u001b[0m\u001b[37m\u001b[0m \u001b[1m1s\u001b[0m 4ms/step - binary_crossentropy: 0.0162 - logloss: 0.0162 - loss: 0.0195 - val_binary_crossentropy: 0.0159 - val_logloss: 0.0159 - val_loss: 0.0191\n",
      "Epoch 113/192\n",
      "\u001b[1m160/160\u001b[0m \u001b[32m━━━━━━━━━━━━━━━━━━━━\u001b[0m\u001b[37m\u001b[0m \u001b[1m1s\u001b[0m 4ms/step - binary_crossentropy: 0.0161 - logloss: 0.0162 - loss: 0.0194 - val_binary_crossentropy: 0.0159 - val_logloss: 0.0159 - val_loss: 0.0191\n",
      "Epoch 114/192\n",
      "\u001b[1m160/160\u001b[0m \u001b[32m━━━━━━━━━━━━━━━━━━━━\u001b[0m\u001b[37m\u001b[0m \u001b[1m1s\u001b[0m 4ms/step - binary_crossentropy: 0.0161 - logloss: 0.0162 - loss: 0.0194 - val_binary_crossentropy: 0.0159 - val_logloss: 0.0159 - val_loss: 0.0191\n",
      "Epoch 115/192\n",
      "\u001b[1m160/160\u001b[0m \u001b[32m━━━━━━━━━━━━━━━━━━━━\u001b[0m\u001b[37m\u001b[0m \u001b[1m1s\u001b[0m 4ms/step - binary_crossentropy: 0.0161 - logloss: 0.0161 - loss: 0.0194 - val_binary_crossentropy: 0.0159 - val_logloss: 0.0159 - val_loss: 0.0191\n",
      "Epoch 116/192\n",
      "\u001b[1m160/160\u001b[0m \u001b[32m━━━━━━━━━━━━━━━━━━━━\u001b[0m\u001b[37m\u001b[0m \u001b[1m1s\u001b[0m 4ms/step - binary_crossentropy: 0.0161 - logloss: 0.0161 - loss: 0.0194 - val_binary_crossentropy: 0.0159 - val_logloss: 0.0159 - val_loss: 0.0191\n",
      "Epoch 117/192\n",
      "\u001b[1m160/160\u001b[0m \u001b[32m━━━━━━━━━━━━━━━━━━━━\u001b[0m\u001b[37m\u001b[0m \u001b[1m1s\u001b[0m 4ms/step - binary_crossentropy: 0.0161 - logloss: 0.0162 - loss: 0.0194 - val_binary_crossentropy: 0.0159 - val_logloss: 0.0159 - val_loss: 0.0191\n",
      "Epoch 118/192\n",
      "\u001b[1m160/160\u001b[0m \u001b[32m━━━━━━━━━━━━━━━━━━━━\u001b[0m\u001b[37m\u001b[0m \u001b[1m1s\u001b[0m 4ms/step - binary_crossentropy: 0.0162 - logloss: 0.0162 - loss: 0.0195 - val_binary_crossentropy: 0.0159 - val_logloss: 0.0159 - val_loss: 0.0191\n",
      "Epoch 119/192\n",
      "\u001b[1m160/160\u001b[0m \u001b[32m━━━━━━━━━━━━━━━━━━━━\u001b[0m\u001b[37m\u001b[0m \u001b[1m1s\u001b[0m 4ms/step - binary_crossentropy: 0.0161 - logloss: 0.0161 - loss: 0.0194 - val_binary_crossentropy: 0.0159 - val_logloss: 0.0159 - val_loss: 0.0191\n",
      "Epoch 120/192\n",
      "\u001b[1m160/160\u001b[0m \u001b[32m━━━━━━━━━━━━━━━━━━━━\u001b[0m\u001b[37m\u001b[0m \u001b[1m1s\u001b[0m 4ms/step - binary_crossentropy: 0.0161 - logloss: 0.0161 - loss: 0.0194 - val_binary_crossentropy: 0.0159 - val_logloss: 0.0159 - val_loss: 0.0191\n",
      "Epoch 121/192\n",
      "\u001b[1m160/160\u001b[0m \u001b[32m━━━━━━━━━━━━━━━━━━━━\u001b[0m\u001b[37m\u001b[0m \u001b[1m1s\u001b[0m 4ms/step - binary_crossentropy: 0.0161 - logloss: 0.0161 - loss: 0.0194 - val_binary_crossentropy: 0.0159 - val_logloss: 0.0159 - val_loss: 0.0191\n",
      "Epoch 122/192\n",
      "\u001b[1m160/160\u001b[0m \u001b[32m━━━━━━━━━━━━━━━━━━━━\u001b[0m\u001b[37m\u001b[0m \u001b[1m1s\u001b[0m 4ms/step - binary_crossentropy: 0.0161 - logloss: 0.0161 - loss: 0.0194 - val_binary_crossentropy: 0.0159 - val_logloss: 0.0159 - val_loss: 0.0191\n",
      "\u001b[1m106/107\u001b[0m \u001b[32m━━━━━━━━━━━━━━━━━━━\u001b[0m\u001b[37m━\u001b[0m \u001b[1m0s\u001b[0m 1ms/step"
     ]
    },
    {
     "name": "stderr",
     "output_type": "stream",
     "text": [
      "W0000 00:00:1716233832.313066      73 graph_launch.cc:671] Fallback to op-by-op mode because memset node breaks graph update\n"
     ]
    },
    {
     "name": "stdout",
     "output_type": "stream",
     "text": [
      "\u001b[1m107/107\u001b[0m \u001b[32m━━━━━━━━━━━━━━━━━━━━\u001b[0m\u001b[37m\u001b[0m \u001b[1m1s\u001b[0m 5ms/step\n",
      "\u001b[1m125/125\u001b[0m \u001b[32m━━━━━━━━━━━━━━━━━━━━\u001b[0m\u001b[37m\u001b[0m \u001b[1m0s\u001b[0m 4ms/step\n",
      "Epoch 1/192\n",
      "\u001b[1m 35/160\u001b[0m \u001b[32m━━━━\u001b[0m\u001b[37m━━━━━━━━━━━━━━━━\u001b[0m \u001b[1m0s\u001b[0m 5ms/step - binary_crossentropy: 0.0256 - logloss: 0.0255 - loss: 0.0288"
     ]
    },
    {
     "name": "stderr",
     "output_type": "stream",
     "text": [
      "W0000 00:00:1716233846.110418      70 graph_launch.cc:671] Fallback to op-by-op mode because memset node breaks graph update\n"
     ]
    },
    {
     "name": "stdout",
     "output_type": "stream",
     "text": [
      "\u001b[1m160/160\u001b[0m \u001b[32m━━━━━━━━━━━━━━━━━━━━\u001b[0m\u001b[37m\u001b[0m \u001b[1m0s\u001b[0m 48ms/step - binary_crossentropy: 0.0236 - logloss: 0.0235 - loss: 0.0268"
     ]
    },
    {
     "name": "stderr",
     "output_type": "stream",
     "text": [
      "W0000 00:00:1716233853.710353      71 graph_launch.cc:671] Fallback to op-by-op mode because memset node breaks graph update\n",
      "W0000 00:00:1716233854.363988      70 graph_launch.cc:671] Fallback to op-by-op mode because memset node breaks graph update\n"
     ]
    },
    {
     "name": "stdout",
     "output_type": "stream",
     "text": [
      "\u001b[1m160/160\u001b[0m \u001b[32m━━━━━━━━━━━━━━━━━━━━\u001b[0m\u001b[37m\u001b[0m \u001b[1m19s\u001b[0m 54ms/step - binary_crossentropy: 0.0236 - logloss: 0.0235 - loss: 0.0268 - val_binary_crossentropy: 0.0185 - val_logloss: 0.0184 - val_loss: 0.0217 - learning_rate: 3.2250e-04\n",
      "Epoch 2/192\n",
      "\u001b[1m 23/160\u001b[0m \u001b[32m━━\u001b[0m\u001b[37m━━━━━━━━━━━━━━━━━━\u001b[0m \u001b[1m0s\u001b[0m 5ms/step - binary_crossentropy: 0.0194 - logloss: 0.0194 - loss: 0.0226"
     ]
    },
    {
     "name": "stderr",
     "output_type": "stream",
     "text": [
      "W0000 00:00:1716233854.738366      70 graph_launch.cc:671] Fallback to op-by-op mode because memset node breaks graph update\n"
     ]
    },
    {
     "name": "stdout",
     "output_type": "stream",
     "text": [
      "\u001b[1m160/160\u001b[0m \u001b[32m━━━━━━━━━━━━━━━━━━━━\u001b[0m\u001b[37m\u001b[0m \u001b[1m1s\u001b[0m 5ms/step - binary_crossentropy: 0.0193 - logloss: 0.0193 - loss: 0.0225 - val_binary_crossentropy: 0.0181 - val_logloss: 0.0181 - val_loss: 0.0212 - learning_rate: 6.3500e-04\n",
      "Epoch 3/192\n",
      "\u001b[1m160/160\u001b[0m \u001b[32m━━━━━━━━━━━━━━━━━━━━\u001b[0m\u001b[37m\u001b[0m \u001b[1m1s\u001b[0m 4ms/step - binary_crossentropy: 0.0182 - logloss: 0.0182 - loss: 0.0214 - val_binary_crossentropy: 0.0175 - val_logloss: 0.0175 - val_loss: 0.0206 - learning_rate: 9.4750e-04\n",
      "Epoch 4/192\n",
      "\u001b[1m160/160\u001b[0m \u001b[32m━━━━━━━━━━━━━━━━━━━━\u001b[0m\u001b[37m\u001b[0m \u001b[1m1s\u001b[0m 4ms/step - binary_crossentropy: 0.0177 - logloss: 0.0176 - loss: 0.0209 - val_binary_crossentropy: 0.0171 - val_logloss: 0.0171 - val_loss: 0.0203 - learning_rate: 0.0013\n",
      "Epoch 5/192\n",
      "\u001b[1m160/160\u001b[0m \u001b[32m━━━━━━━━━━━━━━━━━━━━\u001b[0m\u001b[37m\u001b[0m \u001b[1m1s\u001b[0m 4ms/step - binary_crossentropy: 0.0173 - logloss: 0.0173 - loss: 0.0206 - val_binary_crossentropy: 0.0170 - val_logloss: 0.0170 - val_loss: 0.0203 - learning_rate: 0.0016\n",
      "Epoch 6/192\n",
      "\u001b[1m160/160\u001b[0m \u001b[32m━━━━━━━━━━━━━━━━━━━━\u001b[0m\u001b[37m\u001b[0m \u001b[1m1s\u001b[0m 4ms/step - binary_crossentropy: 0.0172 - logloss: 0.0172 - loss: 0.0206 - val_binary_crossentropy: 0.0170 - val_logloss: 0.0170 - val_loss: 0.0203 - learning_rate: 0.0019\n",
      "Epoch 7/192\n",
      "\u001b[1m160/160\u001b[0m \u001b[32m━━━━━━━━━━━━━━━━━━━━\u001b[0m\u001b[37m\u001b[0m \u001b[1m1s\u001b[0m 4ms/step - binary_crossentropy: 0.0172 - logloss: 0.0172 - loss: 0.0205 - val_binary_crossentropy: 0.0169 - val_logloss: 0.0169 - val_loss: 0.0202 - learning_rate: 0.0022\n",
      "Epoch 8/192\n",
      "\u001b[1m160/160\u001b[0m \u001b[32m━━━━━━━━━━━━━━━━━━━━\u001b[0m\u001b[37m\u001b[0m \u001b[1m1s\u001b[0m 4ms/step - binary_crossentropy: 0.0171 - logloss: 0.0171 - loss: 0.0205 - val_binary_crossentropy: 0.0169 - val_logloss: 0.0169 - val_loss: 0.0201 - learning_rate: 0.0025\n",
      "Epoch 9/192\n",
      "\u001b[1m160/160\u001b[0m \u001b[32m━━━━━━━━━━━━━━━━━━━━\u001b[0m\u001b[37m\u001b[0m \u001b[1m1s\u001b[0m 4ms/step - binary_crossentropy: 0.0169 - logloss: 0.0169 - loss: 0.0203 - val_binary_crossentropy: 0.0168 - val_logloss: 0.0168 - val_loss: 0.0201 - learning_rate: 0.0028\n",
      "Epoch 10/192\n",
      "\u001b[1m160/160\u001b[0m \u001b[32m━━━━━━━━━━━━━━━━━━━━\u001b[0m\u001b[37m\u001b[0m \u001b[1m1s\u001b[0m 4ms/step - binary_crossentropy: 0.0168 - logloss: 0.0168 - loss: 0.0202 - val_binary_crossentropy: 0.0169 - val_logloss: 0.0169 - val_loss: 0.0201 - learning_rate: 0.0025\n",
      "Epoch 11/192\n",
      "\u001b[1m160/160\u001b[0m \u001b[32m━━━━━━━━━━━━━━━━━━━━\u001b[0m\u001b[37m\u001b[0m \u001b[1m1s\u001b[0m 4ms/step - binary_crossentropy: 0.0167 - logloss: 0.0167 - loss: 0.0201 - val_binary_crossentropy: 0.0166 - val_logloss: 0.0166 - val_loss: 0.0199 - learning_rate: 0.0022\n",
      "Epoch 12/192\n",
      "\u001b[1m160/160\u001b[0m \u001b[32m━━━━━━━━━━━━━━━━━━━━\u001b[0m\u001b[37m\u001b[0m \u001b[1m1s\u001b[0m 4ms/step - binary_crossentropy: 0.0165 - logloss: 0.0166 - loss: 0.0199 - val_binary_crossentropy: 0.0166 - val_logloss: 0.0166 - val_loss: 0.0198 - learning_rate: 0.0019\n",
      "Epoch 13/192\n",
      "\u001b[1m160/160\u001b[0m \u001b[32m━━━━━━━━━━━━━━━━━━━━\u001b[0m\u001b[37m\u001b[0m \u001b[1m1s\u001b[0m 4ms/step - binary_crossentropy: 0.0164 - logloss: 0.0165 - loss: 0.0198 - val_binary_crossentropy: 0.0164 - val_logloss: 0.0164 - val_loss: 0.0196 - learning_rate: 0.0016\n",
      "Epoch 14/192\n",
      "\u001b[1m160/160\u001b[0m \u001b[32m━━━━━━━━━━━━━━━━━━━━\u001b[0m\u001b[37m\u001b[0m \u001b[1m1s\u001b[0m 4ms/step - binary_crossentropy: 0.0163 - logloss: 0.0163 - loss: 0.0196 - val_binary_crossentropy: 0.0163 - val_logloss: 0.0163 - val_loss: 0.0195 - learning_rate: 0.0013\n",
      "Epoch 15/192\n",
      "\u001b[1m160/160\u001b[0m \u001b[32m━━━━━━━━━━━━━━━━━━━━\u001b[0m\u001b[37m\u001b[0m \u001b[1m1s\u001b[0m 4ms/step - binary_crossentropy: 0.0162 - logloss: 0.0162 - loss: 0.0195 - val_binary_crossentropy: 0.0162 - val_logloss: 0.0162 - val_loss: 0.0194 - learning_rate: 9.4750e-04\n",
      "Epoch 16/192\n",
      "\u001b[1m160/160\u001b[0m \u001b[32m━━━━━━━━━━━━━━━━━━━━\u001b[0m\u001b[37m\u001b[0m \u001b[1m1s\u001b[0m 4ms/step - binary_crossentropy: 0.0161 - logloss: 0.0161 - loss: 0.0194 - val_binary_crossentropy: 0.0162 - val_logloss: 0.0162 - val_loss: 0.0194 - learning_rate: 6.3500e-04\n",
      "Epoch 17/192\n",
      "\u001b[1m160/160\u001b[0m \u001b[32m━━━━━━━━━━━━━━━━━━━━\u001b[0m\u001b[37m\u001b[0m \u001b[1m1s\u001b[0m 4ms/step - binary_crossentropy: 0.0161 - logloss: 0.0161 - loss: 0.0194 - val_binary_crossentropy: 0.0162 - val_logloss: 0.0162 - val_loss: 0.0193 - learning_rate: 7.4996e-04\n",
      "Epoch 18/192\n",
      "\u001b[1m160/160\u001b[0m \u001b[32m━━━━━━━━━━━━━━━━━━━━\u001b[0m\u001b[37m\u001b[0m \u001b[1m1s\u001b[0m 5ms/step - binary_crossentropy: 0.0160 - logloss: 0.0161 - loss: 0.0193 - val_binary_crossentropy: 0.0161 - val_logloss: 0.0161 - val_loss: 0.0193 - learning_rate: 8.6492e-04\n",
      "Epoch 19/192\n",
      "\u001b[1m160/160\u001b[0m \u001b[32m━━━━━━━━━━━━━━━━━━━━\u001b[0m\u001b[37m\u001b[0m \u001b[1m1s\u001b[0m 4ms/step - binary_crossentropy: 0.0160 - logloss: 0.0161 - loss: 0.0193 - val_binary_crossentropy: 0.0162 - val_logloss: 0.0162 - val_loss: 0.0193 - learning_rate: 9.7989e-04\n",
      "Epoch 20/192\n",
      "\u001b[1m160/160\u001b[0m \u001b[32m━━━━━━━━━━━━━━━━━━━━\u001b[0m\u001b[37m\u001b[0m \u001b[1m1s\u001b[0m 4ms/step - binary_crossentropy: 0.0160 - logloss: 0.0161 - loss: 0.0193 - val_binary_crossentropy: 0.0161 - val_logloss: 0.0161 - val_loss: 0.0193 - learning_rate: 0.0011\n",
      "Epoch 21/192\n",
      "\u001b[1m160/160\u001b[0m \u001b[32m━━━━━━━━━━━━━━━━━━━━\u001b[0m\u001b[37m\u001b[0m \u001b[1m1s\u001b[0m 4ms/step - binary_crossentropy: 0.0160 - logloss: 0.0160 - loss: 0.0193 - val_binary_crossentropy: 0.0160 - val_logloss: 0.0160 - val_loss: 0.0193 - learning_rate: 0.0012\n",
      "Epoch 22/192\n",
      "\u001b[1m160/160\u001b[0m \u001b[32m━━━━━━━━━━━━━━━━━━━━\u001b[0m\u001b[37m\u001b[0m \u001b[1m1s\u001b[0m 4ms/step - binary_crossentropy: 0.0160 - logloss: 0.0160 - loss: 0.0193 - val_binary_crossentropy: 0.0160 - val_logloss: 0.0160 - val_loss: 0.0192 - learning_rate: 0.0013\n",
      "Epoch 23/192\n",
      "\u001b[1m160/160\u001b[0m \u001b[32m━━━━━━━━━━━━━━━━━━━━\u001b[0m\u001b[37m\u001b[0m \u001b[1m1s\u001b[0m 4ms/step - binary_crossentropy: 0.0160 - logloss: 0.0161 - loss: 0.0194 - val_binary_crossentropy: 0.0160 - val_logloss: 0.0160 - val_loss: 0.0193 - learning_rate: 0.0014\n",
      "Epoch 24/192\n",
      "\u001b[1m160/160\u001b[0m \u001b[32m━━━━━━━━━━━━━━━━━━━━\u001b[0m\u001b[37m\u001b[0m \u001b[1m1s\u001b[0m 4ms/step - binary_crossentropy: 0.0161 - logloss: 0.0161 - loss: 0.0194 - val_binary_crossentropy: 0.0161 - val_logloss: 0.0161 - val_loss: 0.0193 - learning_rate: 0.0016\n",
      "Epoch 25/192\n",
      "\u001b[1m160/160\u001b[0m \u001b[32m━━━━━━━━━━━━━━━━━━━━\u001b[0m\u001b[37m\u001b[0m \u001b[1m1s\u001b[0m 4ms/step - binary_crossentropy: 0.0161 - logloss: 0.0162 - loss: 0.0194 - val_binary_crossentropy: 0.0162 - val_logloss: 0.0162 - val_loss: 0.0194 - learning_rate: 0.0017\n",
      "Epoch 26/192\n",
      "\u001b[1m160/160\u001b[0m \u001b[32m━━━━━━━━━━━━━━━━━━━━\u001b[0m\u001b[37m\u001b[0m \u001b[1m1s\u001b[0m 4ms/step - binary_crossentropy: 0.0161 - logloss: 0.0161 - loss: 0.0194 - val_binary_crossentropy: 0.0160 - val_logloss: 0.0160 - val_loss: 0.0192 - learning_rate: 0.0016\n",
      "Epoch 27/192\n",
      "\u001b[1m160/160\u001b[0m \u001b[32m━━━━━━━━━━━━━━━━━━━━\u001b[0m\u001b[37m\u001b[0m \u001b[1m1s\u001b[0m 4ms/step - binary_crossentropy: 0.0161 - logloss: 0.0161 - loss: 0.0194 - val_binary_crossentropy: 0.0161 - val_logloss: 0.0161 - val_loss: 0.0193 - learning_rate: 0.0014\n",
      "Epoch 28/192\n",
      "\u001b[1m160/160\u001b[0m \u001b[32m━━━━━━━━━━━━━━━━━━━━\u001b[0m\u001b[37m\u001b[0m \u001b[1m1s\u001b[0m 4ms/step - binary_crossentropy: 0.0160 - logloss: 0.0160 - loss: 0.0192 - val_binary_crossentropy: 0.0160 - val_logloss: 0.0160 - val_loss: 0.0192 - learning_rate: 0.0013\n",
      "Epoch 29/192\n",
      "\u001b[1m160/160\u001b[0m \u001b[32m━━━━━━━━━━━━━━━━━━━━\u001b[0m\u001b[37m\u001b[0m \u001b[1m1s\u001b[0m 4ms/step - binary_crossentropy: 0.0159 - logloss: 0.0159 - loss: 0.0192 - val_binary_crossentropy: 0.0161 - val_logloss: 0.0161 - val_loss: 0.0193 - learning_rate: 0.0012\n",
      "Epoch 30/192\n",
      "\u001b[1m160/160\u001b[0m \u001b[32m━━━━━━━━━━━━━━━━━━━━\u001b[0m\u001b[37m\u001b[0m \u001b[1m1s\u001b[0m 4ms/step - binary_crossentropy: 0.0159 - logloss: 0.0159 - loss: 0.0192 - val_binary_crossentropy: 0.0161 - val_logloss: 0.0161 - val_loss: 0.0193 - learning_rate: 0.0011\n",
      "Epoch 31/192\n",
      "\u001b[1m160/160\u001b[0m \u001b[32m━━━━━━━━━━━━━━━━━━━━\u001b[0m\u001b[37m\u001b[0m \u001b[1m1s\u001b[0m 4ms/step - binary_crossentropy: 0.0158 - logloss: 0.0159 - loss: 0.0191 - val_binary_crossentropy: 0.0159 - val_logloss: 0.0160 - val_loss: 0.0191 - learning_rate: 9.7989e-04\n",
      "Epoch 32/192\n",
      "\u001b[1m160/160\u001b[0m \u001b[32m━━━━━━━━━━━━━━━━━━━━\u001b[0m\u001b[37m\u001b[0m \u001b[1m1s\u001b[0m 4ms/step - binary_crossentropy: 0.0158 - logloss: 0.0158 - loss: 0.0191 - val_binary_crossentropy: 0.0160 - val_logloss: 0.0160 - val_loss: 0.0192 - learning_rate: 8.6492e-04\n",
      "Epoch 33/192\n",
      "\u001b[1m160/160\u001b[0m \u001b[32m━━━━━━━━━━━━━━━━━━━━\u001b[0m\u001b[37m\u001b[0m \u001b[1m1s\u001b[0m 4ms/step - binary_crossentropy: 0.0158 - logloss: 0.0158 - loss: 0.0191 - val_binary_crossentropy: 0.0159 - val_logloss: 0.0159 - val_loss: 0.0191 - learning_rate: 9.0722e-04\n",
      "Epoch 34/192\n",
      "\u001b[1m160/160\u001b[0m \u001b[32m━━━━━━━━━━━━━━━━━━━━\u001b[0m\u001b[37m\u001b[0m \u001b[1m1s\u001b[0m 4ms/step - binary_crossentropy: 0.0157 - logloss: 0.0158 - loss: 0.0190 - val_binary_crossentropy: 0.0159 - val_logloss: 0.0159 - val_loss: 0.0191 - learning_rate: 9.4951e-04\n",
      "Epoch 35/192\n",
      "\u001b[1m160/160\u001b[0m \u001b[32m━━━━━━━━━━━━━━━━━━━━\u001b[0m\u001b[37m\u001b[0m \u001b[1m1s\u001b[0m 4ms/step - binary_crossentropy: 0.0157 - logloss: 0.0158 - loss: 0.0190 - val_binary_crossentropy: 0.0158 - val_logloss: 0.0158 - val_loss: 0.0190 - learning_rate: 9.9180e-04\n",
      "Epoch 36/192\n",
      "\u001b[1m160/160\u001b[0m \u001b[32m━━━━━━━━━━━━━━━━━━━━\u001b[0m\u001b[37m\u001b[0m \u001b[1m1s\u001b[0m 4ms/step - binary_crossentropy: 0.0157 - logloss: 0.0158 - loss: 0.0190 - val_binary_crossentropy: 0.0159 - val_logloss: 0.0159 - val_loss: 0.0191 - learning_rate: 0.0010\n",
      "Epoch 37/192\n",
      "\u001b[1m160/160\u001b[0m \u001b[32m━━━━━━━━━━━━━━━━━━━━\u001b[0m\u001b[37m\u001b[0m \u001b[1m1s\u001b[0m 4ms/step - binary_crossentropy: 0.0157 - logloss: 0.0158 - loss: 0.0190 - val_binary_crossentropy: 0.0159 - val_logloss: 0.0159 - val_loss: 0.0191 - learning_rate: 0.0011\n",
      "Epoch 38/192\n",
      "\u001b[1m160/160\u001b[0m \u001b[32m━━━━━━━━━━━━━━━━━━━━\u001b[0m\u001b[37m\u001b[0m \u001b[1m1s\u001b[0m 4ms/step - binary_crossentropy: 0.0157 - logloss: 0.0158 - loss: 0.0191 - val_binary_crossentropy: 0.0159 - val_logloss: 0.0159 - val_loss: 0.0191 - learning_rate: 0.0011\n",
      "Epoch 39/192\n",
      "\u001b[1m160/160\u001b[0m \u001b[32m━━━━━━━━━━━━━━━━━━━━\u001b[0m\u001b[37m\u001b[0m \u001b[1m1s\u001b[0m 4ms/step - binary_crossentropy: 0.0157 - logloss: 0.0157 - loss: 0.0190 - val_binary_crossentropy: 0.0160 - val_logloss: 0.0161 - val_loss: 0.0193 - learning_rate: 0.0012\n",
      "Epoch 40/192\n",
      "\u001b[1m160/160\u001b[0m \u001b[32m━━━━━━━━━━━━━━━━━━━━\u001b[0m\u001b[37m\u001b[0m \u001b[1m1s\u001b[0m 4ms/step - binary_crossentropy: 0.0157 - logloss: 0.0158 - loss: 0.0190 - val_binary_crossentropy: 0.0158 - val_logloss: 0.0158 - val_loss: 0.0190 - learning_rate: 0.0012\n",
      "Epoch 41/192\n",
      "\u001b[1m160/160\u001b[0m \u001b[32m━━━━━━━━━━━━━━━━━━━━\u001b[0m\u001b[37m\u001b[0m \u001b[1m1s\u001b[0m 4ms/step - binary_crossentropy: 0.0157 - logloss: 0.0157 - loss: 0.0190 - val_binary_crossentropy: 0.0159 - val_logloss: 0.0159 - val_loss: 0.0191 - learning_rate: 0.0012\n",
      "Epoch 42/192\n",
      "\u001b[1m160/160\u001b[0m \u001b[32m━━━━━━━━━━━━━━━━━━━━\u001b[0m\u001b[37m\u001b[0m \u001b[1m1s\u001b[0m 4ms/step - binary_crossentropy: 0.0157 - logloss: 0.0158 - loss: 0.0190 - val_binary_crossentropy: 0.0158 - val_logloss: 0.0158 - val_loss: 0.0190 - learning_rate: 0.0012\n",
      "Epoch 43/192\n",
      "\u001b[1m160/160\u001b[0m \u001b[32m━━━━━━━━━━━━━━━━━━━━\u001b[0m\u001b[37m\u001b[0m \u001b[1m1s\u001b[0m 4ms/step - binary_crossentropy: 0.0158 - logloss: 0.0158 - loss: 0.0191 - val_binary_crossentropy: 0.0159 - val_logloss: 0.0159 - val_loss: 0.0191 - learning_rate: 0.0012\n",
      "Epoch 44/192\n",
      "\u001b[1m160/160\u001b[0m \u001b[32m━━━━━━━━━━━━━━━━━━━━\u001b[0m\u001b[37m\u001b[0m \u001b[1m1s\u001b[0m 4ms/step - binary_crossentropy: 0.0156 - logloss: 0.0157 - loss: 0.0189 - val_binary_crossentropy: 0.0159 - val_logloss: 0.0158 - val_loss: 0.0190 - learning_rate: 0.0011\n",
      "Epoch 45/192\n",
      "\u001b[1m160/160\u001b[0m \u001b[32m━━━━━━━━━━━━━━━━━━━━\u001b[0m\u001b[37m\u001b[0m \u001b[1m1s\u001b[0m 4ms/step - binary_crossentropy: 0.0156 - logloss: 0.0156 - loss: 0.0189 - val_binary_crossentropy: 0.0159 - val_logloss: 0.0159 - val_loss: 0.0191 - learning_rate: 0.0011\n",
      "Epoch 1/192\n",
      "\u001b[1m 33/160\u001b[0m \u001b[32m━━━━\u001b[0m\u001b[37m━━━━━━━━━━━━━━━━\u001b[0m \u001b[1m0s\u001b[0m 5ms/step - binary_crossentropy: 0.0154 - logloss: 0.0154 - loss: 0.0187"
     ]
    },
    {
     "name": "stderr",
     "output_type": "stream",
     "text": [
      "W0000 00:00:1716233896.932596      71 graph_launch.cc:671] Fallback to op-by-op mode because memset node breaks graph update\n"
     ]
    },
    {
     "name": "stdout",
     "output_type": "stream",
     "text": [
      "\u001b[1m160/160\u001b[0m \u001b[32m━━━━━━━━━━━━━━━━━━━━\u001b[0m\u001b[37m\u001b[0m \u001b[1m0s\u001b[0m 48ms/step - binary_crossentropy: 0.0156 - logloss: 0.0156 - loss: 0.0189"
     ]
    },
    {
     "name": "stderr",
     "output_type": "stream",
     "text": [
      "W0000 00:00:1716233904.571484      72 graph_launch.cc:671] Fallback to op-by-op mode because memset node breaks graph update\n",
      "W0000 00:00:1716233905.227042      70 graph_launch.cc:671] Fallback to op-by-op mode because memset node breaks graph update\n"
     ]
    },
    {
     "name": "stdout",
     "output_type": "stream",
     "text": [
      "\u001b[1m160/160\u001b[0m \u001b[32m━━━━━━━━━━━━━━━━━━━━\u001b[0m\u001b[37m\u001b[0m \u001b[1m18s\u001b[0m 55ms/step - binary_crossentropy: 0.0156 - logloss: 0.0156 - loss: 0.0189 - val_binary_crossentropy: 0.0159 - val_logloss: 0.0159 - val_loss: 0.0191\n",
      "Epoch 2/192\n",
      "\u001b[1m 34/160\u001b[0m \u001b[32m━━━━\u001b[0m\u001b[37m━━━━━━━━━━━━━━━━\u001b[0m \u001b[1m0s\u001b[0m 5ms/step - binary_crossentropy: 0.0155 - logloss: 0.0155 - loss: 0.0188"
     ]
    },
    {
     "name": "stderr",
     "output_type": "stream",
     "text": [
      "W0000 00:00:1716233905.608677      71 graph_launch.cc:671] Fallback to op-by-op mode because memset node breaks graph update\n"
     ]
    },
    {
     "name": "stdout",
     "output_type": "stream",
     "text": [
      "\u001b[1m160/160\u001b[0m \u001b[32m━━━━━━━━━━━━━━━━━━━━\u001b[0m\u001b[37m\u001b[0m \u001b[1m1s\u001b[0m 5ms/step - binary_crossentropy: 0.0156 - logloss: 0.0156 - loss: 0.0189 - val_binary_crossentropy: 0.0159 - val_logloss: 0.0159 - val_loss: 0.0191\n",
      "Epoch 3/192\n",
      "\u001b[1m160/160\u001b[0m \u001b[32m━━━━━━━━━━━━━━━━━━━━\u001b[0m\u001b[37m\u001b[0m \u001b[1m1s\u001b[0m 4ms/step - binary_crossentropy: 0.0155 - logloss: 0.0156 - loss: 0.0188 - val_binary_crossentropy: 0.0159 - val_logloss: 0.0158 - val_loss: 0.0190\n",
      "Epoch 4/192\n",
      "\u001b[1m160/160\u001b[0m \u001b[32m━━━━━━━━━━━━━━━━━━━━\u001b[0m\u001b[37m\u001b[0m \u001b[1m1s\u001b[0m 4ms/step - binary_crossentropy: 0.0155 - logloss: 0.0156 - loss: 0.0188 - val_binary_crossentropy: 0.0159 - val_logloss: 0.0158 - val_loss: 0.0190\n",
      "Epoch 5/192\n",
      "\u001b[1m160/160\u001b[0m \u001b[32m━━━━━━━━━━━━━━━━━━━━\u001b[0m\u001b[37m\u001b[0m \u001b[1m1s\u001b[0m 4ms/step - binary_crossentropy: 0.0155 - logloss: 0.0155 - loss: 0.0188 - val_binary_crossentropy: 0.0158 - val_logloss: 0.0158 - val_loss: 0.0190\n",
      "\u001b[1m100/107\u001b[0m \u001b[32m━━━━━━━━━━━━━━━━━━\u001b[0m\u001b[37m━━\u001b[0m \u001b[1m0s\u001b[0m 2ms/step"
     ]
    },
    {
     "name": "stderr",
     "output_type": "stream",
     "text": [
      "W0000 00:00:1716233908.857252      72 graph_launch.cc:671] Fallback to op-by-op mode because memset node breaks graph update\n"
     ]
    },
    {
     "name": "stdout",
     "output_type": "stream",
     "text": [
      "\u001b[1m107/107\u001b[0m \u001b[32m━━━━━━━━━━━━━━━━━━━━\u001b[0m\u001b[37m\u001b[0m \u001b[1m1s\u001b[0m 4ms/step\n",
      "\u001b[1m125/125\u001b[0m \u001b[32m━━━━━━━━━━━━━━━━━━━━\u001b[0m\u001b[37m\u001b[0m \u001b[1m0s\u001b[0m 3ms/step\n",
      "Epoch 1/192\n",
      "\u001b[1m 33/160\u001b[0m \u001b[32m━━━━\u001b[0m\u001b[37m━━━━━━━━━━━━━━━━\u001b[0m \u001b[1m0s\u001b[0m 5ms/step - binary_crossentropy: 0.0265 - logloss: 0.0263 - loss: 0.0296"
     ]
    },
    {
     "name": "stderr",
     "output_type": "stream",
     "text": [
      "W0000 00:00:1716233920.815770      72 graph_launch.cc:671] Fallback to op-by-op mode because memset node breaks graph update\n"
     ]
    },
    {
     "name": "stdout",
     "output_type": "stream",
     "text": [
      "\u001b[1m160/160\u001b[0m \u001b[32m━━━━━━━━━━━━━━━━━━━━\u001b[0m\u001b[37m\u001b[0m \u001b[1m0s\u001b[0m 53ms/step - binary_crossentropy: 0.0239 - logloss: 0.0238 - loss: 0.0270"
     ]
    },
    {
     "name": "stderr",
     "output_type": "stream",
     "text": [
      "W0000 00:00:1716233929.166803      73 graph_launch.cc:671] Fallback to op-by-op mode because memset node breaks graph update\n",
      "W0000 00:00:1716233929.941163      72 graph_launch.cc:671] Fallback to op-by-op mode because memset node breaks graph update\n"
     ]
    },
    {
     "name": "stdout",
     "output_type": "stream",
     "text": [
      "\u001b[1m160/160\u001b[0m \u001b[32m━━━━━━━━━━━━━━━━━━━━\u001b[0m\u001b[37m\u001b[0m \u001b[1m20s\u001b[0m 60ms/step - binary_crossentropy: 0.0239 - logloss: 0.0238 - loss: 0.0270 - val_binary_crossentropy: 0.0184 - val_logloss: 0.0183 - val_loss: 0.0216 - learning_rate: 3.2250e-04\n",
      "Epoch 2/192\n",
      "\u001b[1m 32/160\u001b[0m \u001b[32m━━━━\u001b[0m\u001b[37m━━━━━━━━━━━━━━━━\u001b[0m \u001b[1m0s\u001b[0m 5ms/step - binary_crossentropy: 0.0203 - logloss: 0.0202 - loss: 0.0235"
     ]
    },
    {
     "name": "stderr",
     "output_type": "stream",
     "text": [
      "W0000 00:00:1716233930.323259      72 graph_launch.cc:671] Fallback to op-by-op mode because memset node breaks graph update\n"
     ]
    },
    {
     "name": "stdout",
     "output_type": "stream",
     "text": [
      "\u001b[1m160/160\u001b[0m \u001b[32m━━━━━━━━━━━━━━━━━━━━\u001b[0m\u001b[37m\u001b[0m \u001b[1m1s\u001b[0m 5ms/step - binary_crossentropy: 0.0196 - logloss: 0.0196 - loss: 0.0228 - val_binary_crossentropy: 0.0179 - val_logloss: 0.0179 - val_loss: 0.0210 - learning_rate: 6.3500e-04\n",
      "Epoch 3/192\n",
      "\u001b[1m160/160\u001b[0m \u001b[32m━━━━━━━━━━━━━━━━━━━━\u001b[0m\u001b[37m\u001b[0m \u001b[1m1s\u001b[0m 4ms/step - binary_crossentropy: 0.0183 - logloss: 0.0183 - loss: 0.0215 - val_binary_crossentropy: 0.0172 - val_logloss: 0.0172 - val_loss: 0.0204 - learning_rate: 9.4750e-04\n",
      "Epoch 4/192\n",
      "\u001b[1m160/160\u001b[0m \u001b[32m━━━━━━━━━━━━━━━━━━━━\u001b[0m\u001b[37m\u001b[0m \u001b[1m1s\u001b[0m 4ms/step - binary_crossentropy: 0.0178 - logloss: 0.0178 - loss: 0.0211 - val_binary_crossentropy: 0.0168 - val_logloss: 0.0168 - val_loss: 0.0201 - learning_rate: 0.0013\n",
      "Epoch 5/192\n",
      "\u001b[1m160/160\u001b[0m \u001b[32m━━━━━━━━━━━━━━━━━━━━\u001b[0m\u001b[37m\u001b[0m \u001b[1m1s\u001b[0m 4ms/step - binary_crossentropy: 0.0176 - logloss: 0.0175 - loss: 0.0209 - val_binary_crossentropy: 0.0170 - val_logloss: 0.0170 - val_loss: 0.0203 - learning_rate: 0.0016\n",
      "Epoch 6/192\n",
      "\u001b[1m160/160\u001b[0m \u001b[32m━━━━━━━━━━━━━━━━━━━━\u001b[0m\u001b[37m\u001b[0m \u001b[1m1s\u001b[0m 4ms/step - binary_crossentropy: 0.0174 - logloss: 0.0174 - loss: 0.0207 - val_binary_crossentropy: 0.0168 - val_logloss: 0.0168 - val_loss: 0.0201 - learning_rate: 0.0019\n",
      "Epoch 7/192\n",
      "\u001b[1m160/160\u001b[0m \u001b[32m━━━━━━━━━━━━━━━━━━━━\u001b[0m\u001b[37m\u001b[0m \u001b[1m1s\u001b[0m 4ms/step - binary_crossentropy: 0.0172 - logloss: 0.0173 - loss: 0.0206 - val_binary_crossentropy: 0.0166 - val_logloss: 0.0166 - val_loss: 0.0200 - learning_rate: 0.0022\n",
      "Epoch 8/192\n",
      "\u001b[1m160/160\u001b[0m \u001b[32m━━━━━━━━━━━━━━━━━━━━\u001b[0m\u001b[37m\u001b[0m \u001b[1m1s\u001b[0m 4ms/step - binary_crossentropy: 0.0172 - logloss: 0.0172 - loss: 0.0206 - val_binary_crossentropy: 0.0167 - val_logloss: 0.0167 - val_loss: 0.0200 - learning_rate: 0.0025\n",
      "Epoch 9/192\n",
      "\u001b[1m160/160\u001b[0m \u001b[32m━━━━━━━━━━━━━━━━━━━━\u001b[0m\u001b[37m\u001b[0m \u001b[1m1s\u001b[0m 4ms/step - binary_crossentropy: 0.0172 - logloss: 0.0172 - loss: 0.0206 - val_binary_crossentropy: 0.0169 - val_logloss: 0.0169 - val_loss: 0.0203 - learning_rate: 0.0028\n",
      "Epoch 10/192\n",
      "\u001b[1m160/160\u001b[0m \u001b[32m━━━━━━━━━━━━━━━━━━━━\u001b[0m\u001b[37m\u001b[0m \u001b[1m1s\u001b[0m 4ms/step - binary_crossentropy: 0.0171 - logloss: 0.0170 - loss: 0.0204 - val_binary_crossentropy: 0.0165 - val_logloss: 0.0165 - val_loss: 0.0197 - learning_rate: 0.0025\n",
      "Epoch 11/192\n",
      "\u001b[1m160/160\u001b[0m \u001b[32m━━━━━━━━━━━━━━━━━━━━\u001b[0m\u001b[37m\u001b[0m \u001b[1m1s\u001b[0m 4ms/step - binary_crossentropy: 0.0169 - logloss: 0.0169 - loss: 0.0203 - val_binary_crossentropy: 0.0163 - val_logloss: 0.0163 - val_loss: 0.0196 - learning_rate: 0.0022\n",
      "Epoch 12/192\n",
      "\u001b[1m160/160\u001b[0m \u001b[32m━━━━━━━━━━━━━━━━━━━━\u001b[0m\u001b[37m\u001b[0m \u001b[1m1s\u001b[0m 4ms/step - binary_crossentropy: 0.0168 - logloss: 0.0168 - loss: 0.0201 - val_binary_crossentropy: 0.0163 - val_logloss: 0.0163 - val_loss: 0.0196 - learning_rate: 0.0019\n",
      "Epoch 13/192\n",
      "\u001b[1m160/160\u001b[0m \u001b[32m━━━━━━━━━━━━━━━━━━━━\u001b[0m\u001b[37m\u001b[0m \u001b[1m1s\u001b[0m 4ms/step - binary_crossentropy: 0.0166 - logloss: 0.0166 - loss: 0.0199 - val_binary_crossentropy: 0.0161 - val_logloss: 0.0161 - val_loss: 0.0193 - learning_rate: 0.0016\n",
      "Epoch 14/192\n",
      "\u001b[1m160/160\u001b[0m \u001b[32m━━━━━━━━━━━━━━━━━━━━\u001b[0m\u001b[37m\u001b[0m \u001b[1m1s\u001b[0m 4ms/step - binary_crossentropy: 0.0165 - logloss: 0.0165 - loss: 0.0198 - val_binary_crossentropy: 0.0160 - val_logloss: 0.0160 - val_loss: 0.0192 - learning_rate: 0.0013\n",
      "Epoch 15/192\n",
      "\u001b[1m160/160\u001b[0m \u001b[32m━━━━━━━━━━━━━━━━━━━━\u001b[0m\u001b[37m\u001b[0m \u001b[1m1s\u001b[0m 4ms/step - binary_crossentropy: 0.0163 - logloss: 0.0163 - loss: 0.0196 - val_binary_crossentropy: 0.0160 - val_logloss: 0.0160 - val_loss: 0.0192 - learning_rate: 9.4750e-04\n",
      "Epoch 16/192\n",
      "\u001b[1m160/160\u001b[0m \u001b[32m━━━━━━━━━━━━━━━━━━━━\u001b[0m\u001b[37m\u001b[0m \u001b[1m1s\u001b[0m 4ms/step - binary_crossentropy: 0.0163 - logloss: 0.0163 - loss: 0.0196 - val_binary_crossentropy: 0.0158 - val_logloss: 0.0158 - val_loss: 0.0190 - learning_rate: 6.3500e-04\n",
      "Epoch 17/192\n",
      "\u001b[1m160/160\u001b[0m \u001b[32m━━━━━━━━━━━━━━━━━━━━\u001b[0m\u001b[37m\u001b[0m \u001b[1m1s\u001b[0m 4ms/step - binary_crossentropy: 0.0162 - logloss: 0.0162 - loss: 0.0195 - val_binary_crossentropy: 0.0158 - val_logloss: 0.0158 - val_loss: 0.0190 - learning_rate: 7.4996e-04\n",
      "Epoch 18/192\n",
      "\u001b[1m160/160\u001b[0m \u001b[32m━━━━━━━━━━━━━━━━━━━━\u001b[0m\u001b[37m\u001b[0m \u001b[1m1s\u001b[0m 4ms/step - binary_crossentropy: 0.0162 - logloss: 0.0162 - loss: 0.0195 - val_binary_crossentropy: 0.0159 - val_logloss: 0.0159 - val_loss: 0.0191 - learning_rate: 8.6492e-04\n",
      "Epoch 19/192\n",
      "\u001b[1m160/160\u001b[0m \u001b[32m━━━━━━━━━━━━━━━━━━━━\u001b[0m\u001b[37m\u001b[0m \u001b[1m1s\u001b[0m 4ms/step - binary_crossentropy: 0.0162 - logloss: 0.0162 - loss: 0.0195 - val_binary_crossentropy: 0.0157 - val_logloss: 0.0157 - val_loss: 0.0189 - learning_rate: 9.7989e-04\n",
      "Epoch 20/192\n",
      "\u001b[1m160/160\u001b[0m \u001b[32m━━━━━━━━━━━━━━━━━━━━\u001b[0m\u001b[37m\u001b[0m \u001b[1m1s\u001b[0m 4ms/step - binary_crossentropy: 0.0161 - logloss: 0.0162 - loss: 0.0194 - val_binary_crossentropy: 0.0158 - val_logloss: 0.0158 - val_loss: 0.0190 - learning_rate: 0.0011\n",
      "Epoch 21/192\n",
      "\u001b[1m160/160\u001b[0m \u001b[32m━━━━━━━━━━━━━━━━━━━━\u001b[0m\u001b[37m\u001b[0m \u001b[1m1s\u001b[0m 4ms/step - binary_crossentropy: 0.0162 - logloss: 0.0162 - loss: 0.0195 - val_binary_crossentropy: 0.0158 - val_logloss: 0.0158 - val_loss: 0.0190 - learning_rate: 0.0012\n",
      "Epoch 22/192\n",
      "\u001b[1m160/160\u001b[0m \u001b[32m━━━━━━━━━━━━━━━━━━━━\u001b[0m\u001b[37m\u001b[0m \u001b[1m1s\u001b[0m 4ms/step - binary_crossentropy: 0.0162 - logloss: 0.0162 - loss: 0.0195 - val_binary_crossentropy: 0.0159 - val_logloss: 0.0160 - val_loss: 0.0192 - learning_rate: 0.0013\n",
      "Epoch 23/192\n",
      "\u001b[1m160/160\u001b[0m \u001b[32m━━━━━━━━━━━━━━━━━━━━\u001b[0m\u001b[37m\u001b[0m \u001b[1m1s\u001b[0m 4ms/step - binary_crossentropy: 0.0162 - logloss: 0.0163 - loss: 0.0195 - val_binary_crossentropy: 0.0158 - val_logloss: 0.0158 - val_loss: 0.0191 - learning_rate: 0.0014\n",
      "Epoch 24/192\n",
      "\u001b[1m160/160\u001b[0m \u001b[32m━━━━━━━━━━━━━━━━━━━━\u001b[0m\u001b[37m\u001b[0m \u001b[1m1s\u001b[0m 4ms/step - binary_crossentropy: 0.0161 - logloss: 0.0161 - loss: 0.0194 - val_binary_crossentropy: 0.0159 - val_logloss: 0.0159 - val_loss: 0.0192 - learning_rate: 0.0016\n",
      "Epoch 1/192\n",
      "\u001b[1m 34/160\u001b[0m \u001b[32m━━━━\u001b[0m\u001b[37m━━━━━━━━━━━━━━━━\u001b[0m \u001b[1m0s\u001b[0m 5ms/step - binary_crossentropy: 0.0166 - logloss: 0.0166 - loss: 0.0199"
     ]
    },
    {
     "name": "stderr",
     "output_type": "stream",
     "text": [
      "W0000 00:00:1716233956.267770      70 graph_launch.cc:671] Fallback to op-by-op mode because memset node breaks graph update\n"
     ]
    },
    {
     "name": "stdout",
     "output_type": "stream",
     "text": [
      "\u001b[1m160/160\u001b[0m \u001b[32m━━━━━━━━━━━━━━━━━━━━\u001b[0m\u001b[37m\u001b[0m \u001b[1m0s\u001b[0m 48ms/step - binary_crossentropy: 0.0162 - logloss: 0.0162 - loss: 0.0195"
     ]
    },
    {
     "name": "stderr",
     "output_type": "stream",
     "text": [
      "W0000 00:00:1716233963.975472      71 graph_launch.cc:671] Fallback to op-by-op mode because memset node breaks graph update\n",
      "W0000 00:00:1716233964.645411      72 graph_launch.cc:671] Fallback to op-by-op mode because memset node breaks graph update\n"
     ]
    },
    {
     "name": "stdout",
     "output_type": "stream",
     "text": [
      "\u001b[1m160/160\u001b[0m \u001b[32m━━━━━━━━━━━━━━━━━━━━\u001b[0m\u001b[37m\u001b[0m \u001b[1m18s\u001b[0m 55ms/step - binary_crossentropy: 0.0162 - logloss: 0.0162 - loss: 0.0195 - val_binary_crossentropy: 0.0158 - val_logloss: 0.0158 - val_loss: 0.0190\n",
      "Epoch 2/192\n",
      "\u001b[1m 22/160\u001b[0m \u001b[32m━━\u001b[0m\u001b[37m━━━━━━━━━━━━━━━━━━\u001b[0m \u001b[1m0s\u001b[0m 5ms/step - binary_crossentropy: 0.0166 - logloss: 0.0167 - loss: 0.0199"
     ]
    },
    {
     "name": "stderr",
     "output_type": "stream",
     "text": [
      "W0000 00:00:1716233965.039868      70 graph_launch.cc:671] Fallback to op-by-op mode because memset node breaks graph update\n"
     ]
    },
    {
     "name": "stdout",
     "output_type": "stream",
     "text": [
      "\u001b[1m160/160\u001b[0m \u001b[32m━━━━━━━━━━━━━━━━━━━━\u001b[0m\u001b[37m\u001b[0m \u001b[1m1s\u001b[0m 5ms/step - binary_crossentropy: 0.0161 - logloss: 0.0161 - loss: 0.0194 - val_binary_crossentropy: 0.0157 - val_logloss: 0.0157 - val_loss: 0.0189\n",
      "Epoch 3/192\n",
      "\u001b[1m160/160\u001b[0m \u001b[32m━━━━━━━━━━━━━━━━━━━━\u001b[0m\u001b[37m\u001b[0m \u001b[1m1s\u001b[0m 4ms/step - binary_crossentropy: 0.0161 - logloss: 0.0162 - loss: 0.0194 - val_binary_crossentropy: 0.0157 - val_logloss: 0.0157 - val_loss: 0.0189\n",
      "Epoch 4/192\n",
      "\u001b[1m160/160\u001b[0m \u001b[32m━━━━━━━━━━━━━━━━━━━━\u001b[0m\u001b[37m\u001b[0m \u001b[1m1s\u001b[0m 4ms/step - binary_crossentropy: 0.0161 - logloss: 0.0161 - loss: 0.0194 - val_binary_crossentropy: 0.0157 - val_logloss: 0.0157 - val_loss: 0.0189\n",
      "Epoch 5/192\n",
      "\u001b[1m160/160\u001b[0m \u001b[32m━━━━━━━━━━━━━━━━━━━━\u001b[0m\u001b[37m\u001b[0m \u001b[1m1s\u001b[0m 4ms/step - binary_crossentropy: 0.0161 - logloss: 0.0162 - loss: 0.0194 - val_binary_crossentropy: 0.0157 - val_logloss: 0.0157 - val_loss: 0.0189\n",
      "Epoch 6/192\n",
      "\u001b[1m160/160\u001b[0m \u001b[32m━━━━━━━━━━━━━━━━━━━━\u001b[0m\u001b[37m\u001b[0m \u001b[1m1s\u001b[0m 4ms/step - binary_crossentropy: 0.0160 - logloss: 0.0161 - loss: 0.0193 - val_binary_crossentropy: 0.0157 - val_logloss: 0.0157 - val_loss: 0.0189\n",
      "Epoch 7/192\n",
      "\u001b[1m160/160\u001b[0m \u001b[32m━━━━━━━━━━━━━━━━━━━━\u001b[0m\u001b[37m\u001b[0m \u001b[1m1s\u001b[0m 4ms/step - binary_crossentropy: 0.0161 - logloss: 0.0161 - loss: 0.0194 - val_binary_crossentropy: 0.0157 - val_logloss: 0.0157 - val_loss: 0.0189\n",
      "Epoch 8/192\n",
      "\u001b[1m160/160\u001b[0m \u001b[32m━━━━━━━━━━━━━━━━━━━━\u001b[0m\u001b[37m\u001b[0m \u001b[1m1s\u001b[0m 4ms/step - binary_crossentropy: 0.0161 - logloss: 0.0161 - loss: 0.0194 - val_binary_crossentropy: 0.0157 - val_logloss: 0.0157 - val_loss: 0.0189\n",
      "Epoch 9/192\n",
      "\u001b[1m160/160\u001b[0m \u001b[32m━━━━━━━━━━━━━━━━━━━━\u001b[0m\u001b[37m\u001b[0m \u001b[1m1s\u001b[0m 4ms/step - binary_crossentropy: 0.0160 - logloss: 0.0161 - loss: 0.0193 - val_binary_crossentropy: 0.0157 - val_logloss: 0.0157 - val_loss: 0.0189\n",
      "Epoch 10/192\n",
      "\u001b[1m160/160\u001b[0m \u001b[32m━━━━━━━━━━━━━━━━━━━━\u001b[0m\u001b[37m\u001b[0m \u001b[1m1s\u001b[0m 4ms/step - binary_crossentropy: 0.0161 - logloss: 0.0161 - loss: 0.0194 - val_binary_crossentropy: 0.0157 - val_logloss: 0.0157 - val_loss: 0.0189\n",
      "Epoch 11/192\n",
      "\u001b[1m160/160\u001b[0m \u001b[32m━━━━━━━━━━━━━━━━━━━━\u001b[0m\u001b[37m\u001b[0m \u001b[1m1s\u001b[0m 4ms/step - binary_crossentropy: 0.0160 - logloss: 0.0161 - loss: 0.0193 - val_binary_crossentropy: 0.0157 - val_logloss: 0.0157 - val_loss: 0.0189\n",
      "Epoch 12/192\n",
      "\u001b[1m160/160\u001b[0m \u001b[32m━━━━━━━━━━━━━━━━━━━━\u001b[0m\u001b[37m\u001b[0m \u001b[1m1s\u001b[0m 4ms/step - binary_crossentropy: 0.0160 - logloss: 0.0161 - loss: 0.0193 - val_binary_crossentropy: 0.0157 - val_logloss: 0.0157 - val_loss: 0.0189\n",
      "Epoch 13/192\n",
      "\u001b[1m160/160\u001b[0m \u001b[32m━━━━━━━━━━━━━━━━━━━━\u001b[0m\u001b[37m\u001b[0m \u001b[1m1s\u001b[0m 4ms/step - binary_crossentropy: 0.0161 - logloss: 0.0161 - loss: 0.0194 - val_binary_crossentropy: 0.0157 - val_logloss: 0.0157 - val_loss: 0.0189\n",
      "Epoch 14/192\n",
      "\u001b[1m160/160\u001b[0m \u001b[32m━━━━━━━━━━━━━━━━━━━━\u001b[0m\u001b[37m\u001b[0m \u001b[1m1s\u001b[0m 4ms/step - binary_crossentropy: 0.0160 - logloss: 0.0160 - loss: 0.0193 - val_binary_crossentropy: 0.0157 - val_logloss: 0.0157 - val_loss: 0.0189\n",
      "Epoch 15/192\n",
      "\u001b[1m160/160\u001b[0m \u001b[32m━━━━━━━━━━━━━━━━━━━━\u001b[0m\u001b[37m\u001b[0m \u001b[1m1s\u001b[0m 4ms/step - binary_crossentropy: 0.0160 - logloss: 0.0160 - loss: 0.0193 - val_binary_crossentropy: 0.0157 - val_logloss: 0.0157 - val_loss: 0.0189\n",
      "Epoch 16/192\n",
      "\u001b[1m160/160\u001b[0m \u001b[32m━━━━━━━━━━━━━━━━━━━━\u001b[0m\u001b[37m\u001b[0m \u001b[1m1s\u001b[0m 4ms/step - binary_crossentropy: 0.0160 - logloss: 0.0161 - loss: 0.0193 - val_binary_crossentropy: 0.0157 - val_logloss: 0.0157 - val_loss: 0.0189\n",
      "Epoch 17/192\n",
      "\u001b[1m160/160\u001b[0m \u001b[32m━━━━━━━━━━━━━━━━━━━━\u001b[0m\u001b[37m\u001b[0m \u001b[1m1s\u001b[0m 4ms/step - binary_crossentropy: 0.0160 - logloss: 0.0160 - loss: 0.0193 - val_binary_crossentropy: 0.0157 - val_logloss: 0.0157 - val_loss: 0.0189\n",
      "Epoch 18/192\n",
      "\u001b[1m160/160\u001b[0m \u001b[32m━━━━━━━━━━━━━━━━━━━━\u001b[0m\u001b[37m\u001b[0m \u001b[1m1s\u001b[0m 4ms/step - binary_crossentropy: 0.0161 - logloss: 0.0161 - loss: 0.0194 - val_binary_crossentropy: 0.0157 - val_logloss: 0.0157 - val_loss: 0.0189\n",
      "Epoch 19/192\n",
      "\u001b[1m160/160\u001b[0m \u001b[32m━━━━━━━━━━━━━━━━━━━━\u001b[0m\u001b[37m\u001b[0m \u001b[1m1s\u001b[0m 4ms/step - binary_crossentropy: 0.0160 - logloss: 0.0160 - loss: 0.0193 - val_binary_crossentropy: 0.0157 - val_logloss: 0.0157 - val_loss: 0.0189\n",
      "Epoch 20/192\n",
      "\u001b[1m160/160\u001b[0m \u001b[32m━━━━━━━━━━━━━━━━━━━━\u001b[0m\u001b[37m\u001b[0m \u001b[1m1s\u001b[0m 4ms/step - binary_crossentropy: 0.0160 - logloss: 0.0160 - loss: 0.0193 - val_binary_crossentropy: 0.0157 - val_logloss: 0.0157 - val_loss: 0.0188\n",
      "Epoch 21/192\n",
      "\u001b[1m160/160\u001b[0m \u001b[32m━━━━━━━━━━━━━━━━━━━━\u001b[0m\u001b[37m\u001b[0m \u001b[1m1s\u001b[0m 4ms/step - binary_crossentropy: 0.0160 - logloss: 0.0160 - loss: 0.0193 - val_binary_crossentropy: 0.0157 - val_logloss: 0.0157 - val_loss: 0.0188\n",
      "Epoch 22/192\n",
      "\u001b[1m160/160\u001b[0m \u001b[32m━━━━━━━━━━━━━━━━━━━━\u001b[0m\u001b[37m\u001b[0m \u001b[1m1s\u001b[0m 4ms/step - binary_crossentropy: 0.0160 - logloss: 0.0160 - loss: 0.0193 - val_binary_crossentropy: 0.0156 - val_logloss: 0.0157 - val_loss: 0.0188\n",
      "Epoch 23/192\n",
      "\u001b[1m160/160\u001b[0m \u001b[32m━━━━━━━━━━━━━━━━━━━━\u001b[0m\u001b[37m\u001b[0m \u001b[1m1s\u001b[0m 4ms/step - binary_crossentropy: 0.0160 - logloss: 0.0161 - loss: 0.0193 - val_binary_crossentropy: 0.0156 - val_logloss: 0.0157 - val_loss: 0.0188\n",
      "Epoch 24/192\n",
      "\u001b[1m160/160\u001b[0m \u001b[32m━━━━━━━━━━━━━━━━━━━━\u001b[0m\u001b[37m\u001b[0m \u001b[1m1s\u001b[0m 4ms/step - binary_crossentropy: 0.0159 - logloss: 0.0160 - loss: 0.0192 - val_binary_crossentropy: 0.0156 - val_logloss: 0.0157 - val_loss: 0.0188\n",
      "Epoch 25/192\n",
      "\u001b[1m160/160\u001b[0m \u001b[32m━━━━━━━━━━━━━━━━━━━━\u001b[0m\u001b[37m\u001b[0m \u001b[1m1s\u001b[0m 4ms/step - binary_crossentropy: 0.0159 - logloss: 0.0160 - loss: 0.0192 - val_binary_crossentropy: 0.0156 - val_logloss: 0.0157 - val_loss: 0.0188\n",
      "Epoch 26/192\n",
      "\u001b[1m160/160\u001b[0m \u001b[32m━━━━━━━━━━━━━━━━━━━━\u001b[0m\u001b[37m\u001b[0m \u001b[1m1s\u001b[0m 4ms/step - binary_crossentropy: 0.0159 - logloss: 0.0160 - loss: 0.0192 - val_binary_crossentropy: 0.0156 - val_logloss: 0.0156 - val_loss: 0.0188\n",
      "Epoch 27/192\n",
      "\u001b[1m160/160\u001b[0m \u001b[32m━━━━━━━━━━━━━━━━━━━━\u001b[0m\u001b[37m\u001b[0m \u001b[1m1s\u001b[0m 4ms/step - binary_crossentropy: 0.0160 - logloss: 0.0160 - loss: 0.0193 - val_binary_crossentropy: 0.0156 - val_logloss: 0.0156 - val_loss: 0.0188\n",
      "Epoch 28/192\n",
      "\u001b[1m160/160\u001b[0m \u001b[32m━━━━━━━━━━━━━━━━━━━━\u001b[0m\u001b[37m\u001b[0m \u001b[1m1s\u001b[0m 4ms/step - binary_crossentropy: 0.0160 - logloss: 0.0160 - loss: 0.0193 - val_binary_crossentropy: 0.0156 - val_logloss: 0.0156 - val_loss: 0.0188\n",
      "Epoch 29/192\n",
      "\u001b[1m160/160\u001b[0m \u001b[32m━━━━━━━━━━━━━━━━━━━━\u001b[0m\u001b[37m\u001b[0m \u001b[1m1s\u001b[0m 4ms/step - binary_crossentropy: 0.0160 - logloss: 0.0160 - loss: 0.0193 - val_binary_crossentropy: 0.0156 - val_logloss: 0.0156 - val_loss: 0.0188\n",
      "Epoch 30/192\n",
      "\u001b[1m160/160\u001b[0m \u001b[32m━━━━━━━━━━━━━━━━━━━━\u001b[0m\u001b[37m\u001b[0m \u001b[1m1s\u001b[0m 4ms/step - binary_crossentropy: 0.0159 - logloss: 0.0160 - loss: 0.0192 - val_binary_crossentropy: 0.0156 - val_logloss: 0.0156 - val_loss: 0.0188\n",
      "Epoch 31/192\n",
      "\u001b[1m160/160\u001b[0m \u001b[32m━━━━━━━━━━━━━━━━━━━━\u001b[0m\u001b[37m\u001b[0m \u001b[1m1s\u001b[0m 4ms/step - binary_crossentropy: 0.0160 - logloss: 0.0160 - loss: 0.0193 - val_binary_crossentropy: 0.0156 - val_logloss: 0.0156 - val_loss: 0.0188\n",
      "Epoch 32/192\n",
      "\u001b[1m160/160\u001b[0m \u001b[32m━━━━━━━━━━━━━━━━━━━━\u001b[0m\u001b[37m\u001b[0m \u001b[1m1s\u001b[0m 4ms/step - binary_crossentropy: 0.0160 - logloss: 0.0160 - loss: 0.0193 - val_binary_crossentropy: 0.0156 - val_logloss: 0.0156 - val_loss: 0.0188\n",
      "Epoch 33/192\n",
      "\u001b[1m160/160\u001b[0m \u001b[32m━━━━━━━━━━━━━━━━━━━━\u001b[0m\u001b[37m\u001b[0m \u001b[1m1s\u001b[0m 4ms/step - binary_crossentropy: 0.0159 - logloss: 0.0159 - loss: 0.0192 - val_binary_crossentropy: 0.0156 - val_logloss: 0.0156 - val_loss: 0.0188\n",
      "Epoch 34/192\n",
      "\u001b[1m160/160\u001b[0m \u001b[32m━━━━━━━━━━━━━━━━━━━━\u001b[0m\u001b[37m\u001b[0m \u001b[1m1s\u001b[0m 4ms/step - binary_crossentropy: 0.0159 - logloss: 0.0160 - loss: 0.0192 - val_binary_crossentropy: 0.0156 - val_logloss: 0.0156 - val_loss: 0.0188\n",
      "Epoch 35/192\n",
      "\u001b[1m160/160\u001b[0m \u001b[32m━━━━━━━━━━━━━━━━━━━━\u001b[0m\u001b[37m\u001b[0m \u001b[1m1s\u001b[0m 4ms/step - binary_crossentropy: 0.0160 - logloss: 0.0160 - loss: 0.0193 - val_binary_crossentropy: 0.0156 - val_logloss: 0.0156 - val_loss: 0.0188\n",
      "Epoch 36/192\n",
      "\u001b[1m160/160\u001b[0m \u001b[32m━━━━━━━━━━━━━━━━━━━━\u001b[0m\u001b[37m\u001b[0m \u001b[1m1s\u001b[0m 4ms/step - binary_crossentropy: 0.0160 - logloss: 0.0160 - loss: 0.0193 - val_binary_crossentropy: 0.0156 - val_logloss: 0.0156 - val_loss: 0.0188\n",
      "Epoch 37/192\n",
      "\u001b[1m160/160\u001b[0m \u001b[32m━━━━━━━━━━━━━━━━━━━━\u001b[0m\u001b[37m\u001b[0m \u001b[1m1s\u001b[0m 4ms/step - binary_crossentropy: 0.0159 - logloss: 0.0159 - loss: 0.0192 - val_binary_crossentropy: 0.0156 - val_logloss: 0.0156 - val_loss: 0.0188\n",
      "Epoch 38/192\n",
      "\u001b[1m160/160\u001b[0m \u001b[32m━━━━━━━━━━━━━━━━━━━━\u001b[0m\u001b[37m\u001b[0m \u001b[1m1s\u001b[0m 4ms/step - binary_crossentropy: 0.0159 - logloss: 0.0160 - loss: 0.0192 - val_binary_crossentropy: 0.0156 - val_logloss: 0.0156 - val_loss: 0.0188\n",
      "Epoch 39/192\n",
      "\u001b[1m160/160\u001b[0m \u001b[32m━━━━━━━━━━━━━━━━━━━━\u001b[0m\u001b[37m\u001b[0m \u001b[1m1s\u001b[0m 4ms/step - binary_crossentropy: 0.0159 - logloss: 0.0159 - loss: 0.0192 - val_binary_crossentropy: 0.0156 - val_logloss: 0.0156 - val_loss: 0.0188\n",
      "Epoch 40/192\n",
      "\u001b[1m160/160\u001b[0m \u001b[32m━━━━━━━━━━━━━━━━━━━━\u001b[0m\u001b[37m\u001b[0m \u001b[1m1s\u001b[0m 5ms/step - binary_crossentropy: 0.0160 - logloss: 0.0160 - loss: 0.0192 - val_binary_crossentropy: 0.0156 - val_logloss: 0.0156 - val_loss: 0.0188\n",
      "Epoch 41/192\n",
      "\u001b[1m160/160\u001b[0m \u001b[32m━━━━━━━━━━━━━━━━━━━━\u001b[0m\u001b[37m\u001b[0m \u001b[1m1s\u001b[0m 5ms/step - binary_crossentropy: 0.0158 - logloss: 0.0159 - loss: 0.0191 - val_binary_crossentropy: 0.0156 - val_logloss: 0.0156 - val_loss: 0.0188\n",
      "Epoch 42/192\n",
      "\u001b[1m160/160\u001b[0m \u001b[32m━━━━━━━━━━━━━━━━━━━━\u001b[0m\u001b[37m\u001b[0m \u001b[1m1s\u001b[0m 4ms/step - binary_crossentropy: 0.0159 - logloss: 0.0160 - loss: 0.0192 - val_binary_crossentropy: 0.0156 - val_logloss: 0.0156 - val_loss: 0.0188\n",
      "Epoch 43/192\n",
      "\u001b[1m160/160\u001b[0m \u001b[32m━━━━━━━━━━━━━━━━━━━━\u001b[0m\u001b[37m\u001b[0m \u001b[1m1s\u001b[0m 4ms/step - binary_crossentropy: 0.0159 - logloss: 0.0159 - loss: 0.0192 - val_binary_crossentropy: 0.0156 - val_logloss: 0.0156 - val_loss: 0.0188\n",
      "Epoch 44/192\n",
      "\u001b[1m160/160\u001b[0m \u001b[32m━━━━━━━━━━━━━━━━━━━━\u001b[0m\u001b[37m\u001b[0m \u001b[1m1s\u001b[0m 4ms/step - binary_crossentropy: 0.0159 - logloss: 0.0160 - loss: 0.0192 - val_binary_crossentropy: 0.0156 - val_logloss: 0.0156 - val_loss: 0.0188\n",
      "Epoch 45/192\n",
      "\u001b[1m160/160\u001b[0m \u001b[32m━━━━━━━━━━━━━━━━━━━━\u001b[0m\u001b[37m\u001b[0m \u001b[1m1s\u001b[0m 4ms/step - binary_crossentropy: 0.0160 - logloss: 0.0161 - loss: 0.0193 - val_binary_crossentropy: 0.0156 - val_logloss: 0.0156 - val_loss: 0.0188\n",
      "Epoch 46/192\n",
      "\u001b[1m160/160\u001b[0m \u001b[32m━━━━━━━━━━━━━━━━━━━━\u001b[0m\u001b[37m\u001b[0m \u001b[1m1s\u001b[0m 4ms/step - binary_crossentropy: 0.0159 - logloss: 0.0160 - loss: 0.0192 - val_binary_crossentropy: 0.0156 - val_logloss: 0.0156 - val_loss: 0.0188\n",
      "Epoch 47/192\n",
      "\u001b[1m160/160\u001b[0m \u001b[32m━━━━━━━━━━━━━━━━━━━━\u001b[0m\u001b[37m\u001b[0m \u001b[1m1s\u001b[0m 4ms/step - binary_crossentropy: 0.0159 - logloss: 0.0159 - loss: 0.0192 - val_binary_crossentropy: 0.0156 - val_logloss: 0.0156 - val_loss: 0.0188\n",
      "Epoch 48/192\n",
      "\u001b[1m160/160\u001b[0m \u001b[32m━━━━━━━━━━━━━━━━━━━━\u001b[0m\u001b[37m\u001b[0m \u001b[1m1s\u001b[0m 4ms/step - binary_crossentropy: 0.0159 - logloss: 0.0159 - loss: 0.0192 - val_binary_crossentropy: 0.0156 - val_logloss: 0.0156 - val_loss: 0.0188\n",
      "Epoch 49/192\n",
      "\u001b[1m160/160\u001b[0m \u001b[32m━━━━━━━━━━━━━━━━━━━━\u001b[0m\u001b[37m\u001b[0m \u001b[1m1s\u001b[0m 4ms/step - binary_crossentropy: 0.0158 - logloss: 0.0159 - loss: 0.0191 - val_binary_crossentropy: 0.0156 - val_logloss: 0.0156 - val_loss: 0.0188\n",
      "Epoch 50/192\n",
      "\u001b[1m160/160\u001b[0m \u001b[32m━━━━━━━━━━━━━━━━━━━━\u001b[0m\u001b[37m\u001b[0m \u001b[1m1s\u001b[0m 4ms/step - binary_crossentropy: 0.0159 - logloss: 0.0159 - loss: 0.0192 - val_binary_crossentropy: 0.0156 - val_logloss: 0.0156 - val_loss: 0.0188\n",
      "Epoch 51/192\n",
      "\u001b[1m160/160\u001b[0m \u001b[32m━━━━━━━━━━━━━━━━━━━━\u001b[0m\u001b[37m\u001b[0m \u001b[1m1s\u001b[0m 4ms/step - binary_crossentropy: 0.0158 - logloss: 0.0159 - loss: 0.0191 - val_binary_crossentropy: 0.0156 - val_logloss: 0.0156 - val_loss: 0.0188\n",
      "Epoch 52/192\n",
      "\u001b[1m160/160\u001b[0m \u001b[32m━━━━━━━━━━━━━━━━━━━━\u001b[0m\u001b[37m\u001b[0m \u001b[1m1s\u001b[0m 4ms/step - binary_crossentropy: 0.0159 - logloss: 0.0159 - loss: 0.0192 - val_binary_crossentropy: 0.0156 - val_logloss: 0.0156 - val_loss: 0.0188\n",
      "Epoch 53/192\n",
      "\u001b[1m160/160\u001b[0m \u001b[32m━━━━━━━━━━━━━━━━━━━━\u001b[0m\u001b[37m\u001b[0m \u001b[1m1s\u001b[0m 4ms/step - binary_crossentropy: 0.0158 - logloss: 0.0159 - loss: 0.0191 - val_binary_crossentropy: 0.0156 - val_logloss: 0.0156 - val_loss: 0.0188\n",
      "Epoch 54/192\n",
      "\u001b[1m160/160\u001b[0m \u001b[32m━━━━━━━━━━━━━━━━━━━━\u001b[0m\u001b[37m\u001b[0m \u001b[1m1s\u001b[0m 4ms/step - binary_crossentropy: 0.0158 - logloss: 0.0158 - loss: 0.0191 - val_binary_crossentropy: 0.0156 - val_logloss: 0.0156 - val_loss: 0.0188\n",
      "Epoch 55/192\n",
      "\u001b[1m160/160\u001b[0m \u001b[32m━━━━━━━━━━━━━━━━━━━━\u001b[0m\u001b[37m\u001b[0m \u001b[1m1s\u001b[0m 4ms/step - binary_crossentropy: 0.0158 - logloss: 0.0159 - loss: 0.0191 - val_binary_crossentropy: 0.0156 - val_logloss: 0.0156 - val_loss: 0.0188\n",
      "Epoch 56/192\n",
      "\u001b[1m160/160\u001b[0m \u001b[32m━━━━━━━━━━━━━━━━━━━━\u001b[0m\u001b[37m\u001b[0m \u001b[1m1s\u001b[0m 4ms/step - binary_crossentropy: 0.0158 - logloss: 0.0159 - loss: 0.0191 - val_binary_crossentropy: 0.0156 - val_logloss: 0.0156 - val_loss: 0.0188\n",
      "Epoch 57/192\n",
      "\u001b[1m160/160\u001b[0m \u001b[32m━━━━━━━━━━━━━━━━━━━━\u001b[0m\u001b[37m\u001b[0m \u001b[1m1s\u001b[0m 4ms/step - binary_crossentropy: 0.0158 - logloss: 0.0159 - loss: 0.0191 - val_binary_crossentropy: 0.0156 - val_logloss: 0.0156 - val_loss: 0.0188\n",
      "Epoch 58/192\n",
      "\u001b[1m160/160\u001b[0m \u001b[32m━━━━━━━━━━━━━━━━━━━━\u001b[0m\u001b[37m\u001b[0m \u001b[1m1s\u001b[0m 4ms/step - binary_crossentropy: 0.0158 - logloss: 0.0159 - loss: 0.0191 - val_binary_crossentropy: 0.0156 - val_logloss: 0.0156 - val_loss: 0.0188\n",
      "Epoch 59/192\n",
      "\u001b[1m160/160\u001b[0m \u001b[32m━━━━━━━━━━━━━━━━━━━━\u001b[0m\u001b[37m\u001b[0m \u001b[1m1s\u001b[0m 4ms/step - binary_crossentropy: 0.0159 - logloss: 0.0159 - loss: 0.0192 - val_binary_crossentropy: 0.0156 - val_logloss: 0.0156 - val_loss: 0.0188\n",
      "Epoch 60/192\n",
      "\u001b[1m160/160\u001b[0m \u001b[32m━━━━━━━━━━━━━━━━━━━━\u001b[0m\u001b[37m\u001b[0m \u001b[1m1s\u001b[0m 4ms/step - binary_crossentropy: 0.0159 - logloss: 0.0159 - loss: 0.0192 - val_binary_crossentropy: 0.0156 - val_logloss: 0.0156 - val_loss: 0.0188\n",
      "Epoch 61/192\n",
      "\u001b[1m160/160\u001b[0m \u001b[32m━━━━━━━━━━━━━━━━━━━━\u001b[0m\u001b[37m\u001b[0m \u001b[1m1s\u001b[0m 4ms/step - binary_crossentropy: 0.0159 - logloss: 0.0159 - loss: 0.0192 - val_binary_crossentropy: 0.0156 - val_logloss: 0.0156 - val_loss: 0.0188\n",
      "Epoch 62/192\n",
      "\u001b[1m160/160\u001b[0m \u001b[32m━━━━━━━━━━━━━━━━━━━━\u001b[0m\u001b[37m\u001b[0m \u001b[1m1s\u001b[0m 4ms/step - binary_crossentropy: 0.0159 - logloss: 0.0160 - loss: 0.0192 - val_binary_crossentropy: 0.0156 - val_logloss: 0.0156 - val_loss: 0.0188\n",
      "Epoch 63/192\n",
      "\u001b[1m160/160\u001b[0m \u001b[32m━━━━━━━━━━━━━━━━━━━━\u001b[0m\u001b[37m\u001b[0m \u001b[1m1s\u001b[0m 4ms/step - binary_crossentropy: 0.0158 - logloss: 0.0159 - loss: 0.0191 - val_binary_crossentropy: 0.0156 - val_logloss: 0.0156 - val_loss: 0.0188\n",
      "Epoch 64/192\n",
      "\u001b[1m160/160\u001b[0m \u001b[32m━━━━━━━━━━━━━━━━━━━━\u001b[0m\u001b[37m\u001b[0m \u001b[1m1s\u001b[0m 4ms/step - binary_crossentropy: 0.0158 - logloss: 0.0159 - loss: 0.0191 - val_binary_crossentropy: 0.0156 - val_logloss: 0.0156 - val_loss: 0.0188\n",
      "Epoch 65/192\n",
      "\u001b[1m160/160\u001b[0m \u001b[32m━━━━━━━━━━━━━━━━━━━━\u001b[0m\u001b[37m\u001b[0m \u001b[1m1s\u001b[0m 4ms/step - binary_crossentropy: 0.0159 - logloss: 0.0159 - loss: 0.0191 - val_binary_crossentropy: 0.0156 - val_logloss: 0.0156 - val_loss: 0.0188\n",
      "Epoch 66/192\n",
      "\u001b[1m160/160\u001b[0m \u001b[32m━━━━━━━━━━━━━━━━━━━━\u001b[0m\u001b[37m\u001b[0m \u001b[1m1s\u001b[0m 4ms/step - binary_crossentropy: 0.0159 - logloss: 0.0159 - loss: 0.0192 - val_binary_crossentropy: 0.0156 - val_logloss: 0.0156 - val_loss: 0.0188\n",
      "Epoch 67/192\n",
      "\u001b[1m160/160\u001b[0m \u001b[32m━━━━━━━━━━━━━━━━━━━━\u001b[0m\u001b[37m\u001b[0m \u001b[1m1s\u001b[0m 4ms/step - binary_crossentropy: 0.0158 - logloss: 0.0159 - loss: 0.0191 - val_binary_crossentropy: 0.0156 - val_logloss: 0.0156 - val_loss: 0.0188\n",
      "Epoch 68/192\n",
      "\u001b[1m160/160\u001b[0m \u001b[32m━━━━━━━━━━━━━━━━━━━━\u001b[0m\u001b[37m\u001b[0m \u001b[1m1s\u001b[0m 4ms/step - binary_crossentropy: 0.0158 - logloss: 0.0159 - loss: 0.0191 - val_binary_crossentropy: 0.0156 - val_logloss: 0.0156 - val_loss: 0.0188\n",
      "Epoch 69/192\n",
      "\u001b[1m160/160\u001b[0m \u001b[32m━━━━━━━━━━━━━━━━━━━━\u001b[0m\u001b[37m\u001b[0m \u001b[1m1s\u001b[0m 4ms/step - binary_crossentropy: 0.0159 - logloss: 0.0159 - loss: 0.0192 - val_binary_crossentropy: 0.0156 - val_logloss: 0.0156 - val_loss: 0.0188\n",
      "Epoch 70/192\n",
      "\u001b[1m160/160\u001b[0m \u001b[32m━━━━━━━━━━━━━━━━━━━━\u001b[0m\u001b[37m\u001b[0m \u001b[1m1s\u001b[0m 4ms/step - binary_crossentropy: 0.0159 - logloss: 0.0159 - loss: 0.0192 - val_binary_crossentropy: 0.0156 - val_logloss: 0.0156 - val_loss: 0.0188\n",
      "Epoch 71/192\n",
      "\u001b[1m160/160\u001b[0m \u001b[32m━━━━━━━━━━━━━━━━━━━━\u001b[0m\u001b[37m\u001b[0m \u001b[1m1s\u001b[0m 4ms/step - binary_crossentropy: 0.0159 - logloss: 0.0159 - loss: 0.0192 - val_binary_crossentropy: 0.0156 - val_logloss: 0.0156 - val_loss: 0.0188\n",
      "\u001b[1m102/107\u001b[0m \u001b[32m━━━━━━━━━━━━━━━━━━━\u001b[0m\u001b[37m━\u001b[0m \u001b[1m0s\u001b[0m 1ms/step"
     ]
    },
    {
     "name": "stderr",
     "output_type": "stream",
     "text": [
      "W0000 00:00:1716234014.463827      72 graph_launch.cc:671] Fallback to op-by-op mode because memset node breaks graph update\n"
     ]
    },
    {
     "name": "stdout",
     "output_type": "stream",
     "text": [
      "\u001b[1m107/107\u001b[0m \u001b[32m━━━━━━━━━━━━━━━━━━━━\u001b[0m\u001b[37m\u001b[0m \u001b[1m1s\u001b[0m 4ms/step\n",
      "\u001b[1m125/125\u001b[0m \u001b[32m━━━━━━━━━━━━━━━━━━━━\u001b[0m\u001b[37m\u001b[0m \u001b[1m0s\u001b[0m 3ms/step\n",
      "Epoch 1/192\n",
      "\u001b[1m 31/160\u001b[0m \u001b[32m━━━\u001b[0m\u001b[37m━━━━━━━━━━━━━━━━━\u001b[0m \u001b[1m0s\u001b[0m 5ms/step - binary_crossentropy: 0.0261 - logloss: 0.0259 - loss: 0.0292"
     ]
    },
    {
     "name": "stderr",
     "output_type": "stream",
     "text": [
      "W0000 00:00:1716234026.561221      70 graph_launch.cc:671] Fallback to op-by-op mode because memset node breaks graph update\n"
     ]
    },
    {
     "name": "stdout",
     "output_type": "stream",
     "text": [
      "\u001b[1m160/160\u001b[0m \u001b[32m━━━━━━━━━━━━━━━━━━━━\u001b[0m\u001b[37m\u001b[0m \u001b[1m0s\u001b[0m 50ms/step - binary_crossentropy: 0.0237 - logloss: 0.0236 - loss: 0.0268"
     ]
    },
    {
     "name": "stderr",
     "output_type": "stream",
     "text": [
      "W0000 00:00:1716234034.518213      71 graph_launch.cc:671] Fallback to op-by-op mode because memset node breaks graph update\n",
      "W0000 00:00:1716234035.174651      73 graph_launch.cc:671] Fallback to op-by-op mode because memset node breaks graph update\n"
     ]
    },
    {
     "name": "stdout",
     "output_type": "stream",
     "text": [
      "\u001b[1m160/160\u001b[0m \u001b[32m━━━━━━━━━━━━━━━━━━━━\u001b[0m\u001b[37m\u001b[0m \u001b[1m20s\u001b[0m 57ms/step - binary_crossentropy: 0.0237 - logloss: 0.0235 - loss: 0.0268 - val_binary_crossentropy: 0.0186 - val_logloss: 0.0184 - val_loss: 0.0218 - learning_rate: 3.2250e-04\n",
      "Epoch 2/192\n",
      "\u001b[1m 23/160\u001b[0m \u001b[32m━━\u001b[0m\u001b[37m━━━━━━━━━━━━━━━━━━\u001b[0m \u001b[1m0s\u001b[0m 5ms/step - binary_crossentropy: 0.0199 - logloss: 0.0199 - loss: 0.0231"
     ]
    },
    {
     "name": "stderr",
     "output_type": "stream",
     "text": [
      "W0000 00:00:1716234035.559373      73 graph_launch.cc:671] Fallback to op-by-op mode because memset node breaks graph update\n"
     ]
    },
    {
     "name": "stdout",
     "output_type": "stream",
     "text": [
      "\u001b[1m160/160\u001b[0m \u001b[32m━━━━━━━━━━━━━━━━━━━━\u001b[0m\u001b[37m\u001b[0m \u001b[1m1s\u001b[0m 5ms/step - binary_crossentropy: 0.0195 - logloss: 0.0195 - loss: 0.0227 - val_binary_crossentropy: 0.0181 - val_logloss: 0.0179 - val_loss: 0.0211 - learning_rate: 6.3500e-04\n",
      "Epoch 3/192\n",
      "\u001b[1m160/160\u001b[0m \u001b[32m━━━━━━━━━━━━━━━━━━━━\u001b[0m\u001b[37m\u001b[0m \u001b[1m1s\u001b[0m 4ms/step - binary_crossentropy: 0.0183 - logloss: 0.0183 - loss: 0.0215 - val_binary_crossentropy: 0.0175 - val_logloss: 0.0173 - val_loss: 0.0206 - learning_rate: 9.4750e-04\n",
      "Epoch 4/192\n",
      "\u001b[1m160/160\u001b[0m \u001b[32m━━━━━━━━━━━━━━━━━━━━\u001b[0m\u001b[37m\u001b[0m \u001b[1m1s\u001b[0m 4ms/step - binary_crossentropy: 0.0178 - logloss: 0.0178 - loss: 0.0210 - val_binary_crossentropy: 0.0173 - val_logloss: 0.0172 - val_loss: 0.0205 - learning_rate: 0.0013\n",
      "Epoch 5/192\n",
      "\u001b[1m160/160\u001b[0m \u001b[32m━━━━━━━━━━━━━━━━━━━━\u001b[0m\u001b[37m\u001b[0m \u001b[1m1s\u001b[0m 4ms/step - binary_crossentropy: 0.0175 - logloss: 0.0175 - loss: 0.0208 - val_binary_crossentropy: 0.0172 - val_logloss: 0.0170 - val_loss: 0.0205 - learning_rate: 0.0016\n",
      "Epoch 6/192\n",
      "\u001b[1m160/160\u001b[0m \u001b[32m━━━━━━━━━━━━━━━━━━━━\u001b[0m\u001b[37m\u001b[0m \u001b[1m1s\u001b[0m 4ms/step - binary_crossentropy: 0.0173 - logloss: 0.0173 - loss: 0.0206 - val_binary_crossentropy: 0.0171 - val_logloss: 0.0171 - val_loss: 0.0204 - learning_rate: 0.0019\n",
      "Epoch 7/192\n",
      "\u001b[1m160/160\u001b[0m \u001b[32m━━━━━━━━━━━━━━━━━━━━\u001b[0m\u001b[37m\u001b[0m \u001b[1m1s\u001b[0m 4ms/step - binary_crossentropy: 0.0172 - logloss: 0.0172 - loss: 0.0205 - val_binary_crossentropy: 0.0172 - val_logloss: 0.0170 - val_loss: 0.0206 - learning_rate: 0.0022\n",
      "Epoch 8/192\n",
      "\u001b[1m160/160\u001b[0m \u001b[32m━━━━━━━━━━━━━━━━━━━━\u001b[0m\u001b[37m\u001b[0m \u001b[1m1s\u001b[0m 4ms/step - binary_crossentropy: 0.0172 - logloss: 0.0172 - loss: 0.0206 - val_binary_crossentropy: 0.0172 - val_logloss: 0.0172 - val_loss: 0.0205 - learning_rate: 0.0025\n",
      "Epoch 9/192\n",
      "\u001b[1m160/160\u001b[0m \u001b[32m━━━━━━━━━━━━━━━━━━━━\u001b[0m\u001b[37m\u001b[0m \u001b[1m1s\u001b[0m 4ms/step - binary_crossentropy: 0.0172 - logloss: 0.0172 - loss: 0.0206 - val_binary_crossentropy: 0.0170 - val_logloss: 0.0169 - val_loss: 0.0206 - learning_rate: 0.0028\n",
      "Epoch 10/192\n",
      "\u001b[1m160/160\u001b[0m \u001b[32m━━━━━━━━━━━━━━━━━━━━\u001b[0m\u001b[37m\u001b[0m \u001b[1m1s\u001b[0m 4ms/step - binary_crossentropy: 0.0170 - logloss: 0.0170 - loss: 0.0203 - val_binary_crossentropy: 0.0165 - val_logloss: 0.0165 - val_loss: 0.0199 - learning_rate: 0.0025\n",
      "Epoch 11/192\n",
      "\u001b[1m160/160\u001b[0m \u001b[32m━━━━━━━━━━━━━━━━━━━━\u001b[0m\u001b[37m\u001b[0m \u001b[1m1s\u001b[0m 4ms/step - binary_crossentropy: 0.0169 - logloss: 0.0169 - loss: 0.0203 - val_binary_crossentropy: 0.0164 - val_logloss: 0.0164 - val_loss: 0.0197 - learning_rate: 0.0022\n",
      "Epoch 12/192\n",
      "\u001b[1m160/160\u001b[0m \u001b[32m━━━━━━━━━━━━━━━━━━━━\u001b[0m\u001b[37m\u001b[0m \u001b[1m1s\u001b[0m 4ms/step - binary_crossentropy: 0.0167 - logloss: 0.0168 - loss: 0.0201 - val_binary_crossentropy: 0.0165 - val_logloss: 0.0165 - val_loss: 0.0198 - learning_rate: 0.0019\n",
      "Epoch 13/192\n",
      "\u001b[1m160/160\u001b[0m \u001b[32m━━━━━━━━━━━━━━━━━━━━\u001b[0m\u001b[37m\u001b[0m \u001b[1m1s\u001b[0m 4ms/step - binary_crossentropy: 0.0165 - logloss: 0.0166 - loss: 0.0199 - val_binary_crossentropy: 0.0162 - val_logloss: 0.0162 - val_loss: 0.0195 - learning_rate: 0.0016\n",
      "Epoch 14/192\n",
      "\u001b[1m160/160\u001b[0m \u001b[32m━━━━━━━━━━━━━━━━━━━━\u001b[0m\u001b[37m\u001b[0m \u001b[1m1s\u001b[0m 4ms/step - binary_crossentropy: 0.0165 - logloss: 0.0165 - loss: 0.0198 - val_binary_crossentropy: 0.0161 - val_logloss: 0.0161 - val_loss: 0.0194 - learning_rate: 0.0013\n",
      "Epoch 15/192\n",
      "\u001b[1m160/160\u001b[0m \u001b[32m━━━━━━━━━━━━━━━━━━━━\u001b[0m\u001b[37m\u001b[0m \u001b[1m1s\u001b[0m 4ms/step - binary_crossentropy: 0.0164 - logloss: 0.0164 - loss: 0.0197 - val_binary_crossentropy: 0.0161 - val_logloss: 0.0160 - val_loss: 0.0193 - learning_rate: 9.4750e-04\n",
      "Epoch 16/192\n",
      "\u001b[1m160/160\u001b[0m \u001b[32m━━━━━━━━━━━━━━━━━━━━\u001b[0m\u001b[37m\u001b[0m \u001b[1m1s\u001b[0m 4ms/step - binary_crossentropy: 0.0163 - logloss: 0.0164 - loss: 0.0196 - val_binary_crossentropy: 0.0159 - val_logloss: 0.0159 - val_loss: 0.0191 - learning_rate: 6.3500e-04\n",
      "Epoch 17/192\n",
      "\u001b[1m160/160\u001b[0m \u001b[32m━━━━━━━━━━━━━━━━━━━━\u001b[0m\u001b[37m\u001b[0m \u001b[1m1s\u001b[0m 4ms/step - binary_crossentropy: 0.0162 - logloss: 0.0162 - loss: 0.0195 - val_binary_crossentropy: 0.0160 - val_logloss: 0.0160 - val_loss: 0.0192 - learning_rate: 7.4996e-04\n",
      "Epoch 18/192\n",
      "\u001b[1m160/160\u001b[0m \u001b[32m━━━━━━━━━━━━━━━━━━━━\u001b[0m\u001b[37m\u001b[0m \u001b[1m1s\u001b[0m 4ms/step - binary_crossentropy: 0.0162 - logloss: 0.0162 - loss: 0.0195 - val_binary_crossentropy: 0.0158 - val_logloss: 0.0158 - val_loss: 0.0190 - learning_rate: 8.6492e-04\n",
      "Epoch 19/192\n",
      "\u001b[1m160/160\u001b[0m \u001b[32m━━━━━━━━━━━━━━━━━━━━\u001b[0m\u001b[37m\u001b[0m \u001b[1m1s\u001b[0m 4ms/step - binary_crossentropy: 0.0162 - logloss: 0.0162 - loss: 0.0195 - val_binary_crossentropy: 0.0159 - val_logloss: 0.0158 - val_loss: 0.0191 - learning_rate: 9.7989e-04\n",
      "Epoch 20/192\n",
      "\u001b[1m160/160\u001b[0m \u001b[32m━━━━━━━━━━━━━━━━━━━━\u001b[0m\u001b[37m\u001b[0m \u001b[1m1s\u001b[0m 4ms/step - binary_crossentropy: 0.0162 - logloss: 0.0162 - loss: 0.0195 - val_binary_crossentropy: 0.0159 - val_logloss: 0.0158 - val_loss: 0.0191 - learning_rate: 0.0011\n",
      "Epoch 21/192\n",
      "\u001b[1m160/160\u001b[0m \u001b[32m━━━━━━━━━━━━━━━━━━━━\u001b[0m\u001b[37m\u001b[0m \u001b[1m1s\u001b[0m 4ms/step - binary_crossentropy: 0.0162 - logloss: 0.0162 - loss: 0.0195 - val_binary_crossentropy: 0.0159 - val_logloss: 0.0159 - val_loss: 0.0191 - learning_rate: 0.0012\n",
      "Epoch 22/192\n",
      "\u001b[1m160/160\u001b[0m \u001b[32m━━━━━━━━━━━━━━━━━━━━\u001b[0m\u001b[37m\u001b[0m \u001b[1m1s\u001b[0m 4ms/step - binary_crossentropy: 0.0162 - logloss: 0.0163 - loss: 0.0196 - val_binary_crossentropy: 0.0160 - val_logloss: 0.0159 - val_loss: 0.0192 - learning_rate: 0.0013\n",
      "Epoch 23/192\n",
      "\u001b[1m160/160\u001b[0m \u001b[32m━━━━━━━━━━━━━━━━━━━━\u001b[0m\u001b[37m\u001b[0m \u001b[1m1s\u001b[0m 4ms/step - binary_crossentropy: 0.0162 - logloss: 0.0163 - loss: 0.0196 - val_binary_crossentropy: 0.0160 - val_logloss: 0.0160 - val_loss: 0.0192 - learning_rate: 0.0014\n",
      "Epoch 1/192\n",
      "\u001b[1m 32/160\u001b[0m \u001b[32m━━━━\u001b[0m\u001b[37m━━━━━━━━━━━━━━━━\u001b[0m \u001b[1m0s\u001b[0m 5ms/step - binary_crossentropy: 0.0166 - logloss: 0.0166 - loss: 0.0199"
     ]
    },
    {
     "name": "stderr",
     "output_type": "stream",
     "text": [
      "W0000 00:00:1716234061.018523      72 graph_launch.cc:671] Fallback to op-by-op mode because memset node breaks graph update\n"
     ]
    },
    {
     "name": "stdout",
     "output_type": "stream",
     "text": [
      "\u001b[1m160/160\u001b[0m \u001b[32m━━━━━━━━━━━━━━━━━━━━\u001b[0m\u001b[37m\u001b[0m \u001b[1m0s\u001b[0m 50ms/step - binary_crossentropy: 0.0162 - logloss: 0.0162 - loss: 0.0195"
     ]
    },
    {
     "name": "stderr",
     "output_type": "stream",
     "text": [
      "W0000 00:00:1716234069.032279      70 graph_launch.cc:671] Fallback to op-by-op mode because memset node breaks graph update\n",
      "W0000 00:00:1716234069.700760      70 graph_launch.cc:671] Fallback to op-by-op mode because memset node breaks graph update\n"
     ]
    },
    {
     "name": "stdout",
     "output_type": "stream",
     "text": [
      "\u001b[1m160/160\u001b[0m \u001b[32m━━━━━━━━━━━━━━━━━━━━\u001b[0m\u001b[37m\u001b[0m \u001b[1m19s\u001b[0m 57ms/step - binary_crossentropy: 0.0162 - logloss: 0.0162 - loss: 0.0195 - val_binary_crossentropy: 0.0158 - val_logloss: 0.0158 - val_loss: 0.0190\n",
      "Epoch 2/192\n",
      "\u001b[1m 32/160\u001b[0m \u001b[32m━━━━\u001b[0m\u001b[37m━━━━━━━━━━━━━━━━\u001b[0m \u001b[1m0s\u001b[0m 5ms/step - binary_crossentropy: 0.0164 - logloss: 0.0165 - loss: 0.0198"
     ]
    },
    {
     "name": "stderr",
     "output_type": "stream",
     "text": [
      "W0000 00:00:1716234070.092881      72 graph_launch.cc:671] Fallback to op-by-op mode because memset node breaks graph update\n"
     ]
    },
    {
     "name": "stdout",
     "output_type": "stream",
     "text": [
      "\u001b[1m160/160\u001b[0m \u001b[32m━━━━━━━━━━━━━━━━━━━━\u001b[0m\u001b[37m\u001b[0m \u001b[1m1s\u001b[0m 5ms/step - binary_crossentropy: 0.0162 - logloss: 0.0162 - loss: 0.0195 - val_binary_crossentropy: 0.0158 - val_logloss: 0.0158 - val_loss: 0.0190\n",
      "Epoch 3/192\n",
      "\u001b[1m160/160\u001b[0m \u001b[32m━━━━━━━━━━━━━━━━━━━━\u001b[0m\u001b[37m\u001b[0m \u001b[1m1s\u001b[0m 5ms/step - binary_crossentropy: 0.0162 - logloss: 0.0162 - loss: 0.0195 - val_binary_crossentropy: 0.0158 - val_logloss: 0.0158 - val_loss: 0.0190\n",
      "Epoch 4/192\n",
      "\u001b[1m160/160\u001b[0m \u001b[32m━━━━━━━━━━━━━━━━━━━━\u001b[0m\u001b[37m\u001b[0m \u001b[1m1s\u001b[0m 4ms/step - binary_crossentropy: 0.0161 - logloss: 0.0162 - loss: 0.0195 - val_binary_crossentropy: 0.0158 - val_logloss: 0.0158 - val_loss: 0.0190\n",
      "Epoch 5/192\n",
      "\u001b[1m160/160\u001b[0m \u001b[32m━━━━━━━━━━━━━━━━━━━━\u001b[0m\u001b[37m\u001b[0m \u001b[1m1s\u001b[0m 4ms/step - binary_crossentropy: 0.0162 - logloss: 0.0162 - loss: 0.0195 - val_binary_crossentropy: 0.0158 - val_logloss: 0.0158 - val_loss: 0.0190\n",
      "Epoch 6/192\n",
      "\u001b[1m160/160\u001b[0m \u001b[32m━━━━━━━━━━━━━━━━━━━━\u001b[0m\u001b[37m\u001b[0m \u001b[1m1s\u001b[0m 4ms/step - binary_crossentropy: 0.0162 - logloss: 0.0162 - loss: 0.0195 - val_binary_crossentropy: 0.0158 - val_logloss: 0.0158 - val_loss: 0.0190\n",
      "Epoch 7/192\n",
      "\u001b[1m160/160\u001b[0m \u001b[32m━━━━━━━━━━━━━━━━━━━━\u001b[0m\u001b[37m\u001b[0m \u001b[1m1s\u001b[0m 4ms/step - binary_crossentropy: 0.0162 - logloss: 0.0162 - loss: 0.0195 - val_binary_crossentropy: 0.0158 - val_logloss: 0.0158 - val_loss: 0.0190\n",
      "Epoch 8/192\n",
      "\u001b[1m160/160\u001b[0m \u001b[32m━━━━━━━━━━━━━━━━━━━━\u001b[0m\u001b[37m\u001b[0m \u001b[1m1s\u001b[0m 4ms/step - binary_crossentropy: 0.0162 - logloss: 0.0162 - loss: 0.0195 - val_binary_crossentropy: 0.0158 - val_logloss: 0.0158 - val_loss: 0.0190\n",
      "Epoch 9/192\n",
      "\u001b[1m160/160\u001b[0m \u001b[32m━━━━━━━━━━━━━━━━━━━━\u001b[0m\u001b[37m\u001b[0m \u001b[1m1s\u001b[0m 4ms/step - binary_crossentropy: 0.0161 - logloss: 0.0162 - loss: 0.0194 - val_binary_crossentropy: 0.0158 - val_logloss: 0.0158 - val_loss: 0.0190\n",
      "Epoch 10/192\n",
      "\u001b[1m160/160\u001b[0m \u001b[32m━━━━━━━━━━━━━━━━━━━━\u001b[0m\u001b[37m\u001b[0m \u001b[1m1s\u001b[0m 4ms/step - binary_crossentropy: 0.0161 - logloss: 0.0161 - loss: 0.0194 - val_binary_crossentropy: 0.0158 - val_logloss: 0.0157 - val_loss: 0.0190\n",
      "Epoch 11/192\n",
      "\u001b[1m160/160\u001b[0m \u001b[32m━━━━━━━━━━━━━━━━━━━━\u001b[0m\u001b[37m\u001b[0m \u001b[1m1s\u001b[0m 4ms/step - binary_crossentropy: 0.0161 - logloss: 0.0161 - loss: 0.0194 - val_binary_crossentropy: 0.0158 - val_logloss: 0.0157 - val_loss: 0.0190\n",
      "Epoch 12/192\n",
      "\u001b[1m160/160\u001b[0m \u001b[32m━━━━━━━━━━━━━━━━━━━━\u001b[0m\u001b[37m\u001b[0m \u001b[1m1s\u001b[0m 4ms/step - binary_crossentropy: 0.0162 - logloss: 0.0162 - loss: 0.0195 - val_binary_crossentropy: 0.0158 - val_logloss: 0.0157 - val_loss: 0.0190\n",
      "Epoch 13/192\n",
      "\u001b[1m160/160\u001b[0m \u001b[32m━━━━━━━━━━━━━━━━━━━━\u001b[0m\u001b[37m\u001b[0m \u001b[1m1s\u001b[0m 4ms/step - binary_crossentropy: 0.0161 - logloss: 0.0161 - loss: 0.0194 - val_binary_crossentropy: 0.0158 - val_logloss: 0.0157 - val_loss: 0.0190\n",
      "Epoch 14/192\n",
      "\u001b[1m160/160\u001b[0m \u001b[32m━━━━━━━━━━━━━━━━━━━━\u001b[0m\u001b[37m\u001b[0m \u001b[1m1s\u001b[0m 4ms/step - binary_crossentropy: 0.0161 - logloss: 0.0161 - loss: 0.0194 - val_binary_crossentropy: 0.0158 - val_logloss: 0.0157 - val_loss: 0.0189\n",
      "Epoch 15/192\n",
      "\u001b[1m160/160\u001b[0m \u001b[32m━━━━━━━━━━━━━━━━━━━━\u001b[0m\u001b[37m\u001b[0m \u001b[1m1s\u001b[0m 4ms/step - binary_crossentropy: 0.0161 - logloss: 0.0161 - loss: 0.0194 - val_binary_crossentropy: 0.0158 - val_logloss: 0.0157 - val_loss: 0.0189\n",
      "Epoch 16/192\n",
      "\u001b[1m160/160\u001b[0m \u001b[32m━━━━━━━━━━━━━━━━━━━━\u001b[0m\u001b[37m\u001b[0m \u001b[1m1s\u001b[0m 4ms/step - binary_crossentropy: 0.0161 - logloss: 0.0161 - loss: 0.0194 - val_binary_crossentropy: 0.0158 - val_logloss: 0.0157 - val_loss: 0.0189\n",
      "Epoch 17/192\n",
      "\u001b[1m160/160\u001b[0m \u001b[32m━━━━━━━━━━━━━━━━━━━━\u001b[0m\u001b[37m\u001b[0m \u001b[1m1s\u001b[0m 4ms/step - binary_crossentropy: 0.0161 - logloss: 0.0162 - loss: 0.0194 - val_binary_crossentropy: 0.0158 - val_logloss: 0.0157 - val_loss: 0.0189\n",
      "Epoch 18/192\n",
      "\u001b[1m160/160\u001b[0m \u001b[32m━━━━━━━━━━━━━━━━━━━━\u001b[0m\u001b[37m\u001b[0m \u001b[1m1s\u001b[0m 4ms/step - binary_crossentropy: 0.0161 - logloss: 0.0161 - loss: 0.0194 - val_binary_crossentropy: 0.0157 - val_logloss: 0.0157 - val_loss: 0.0189\n",
      "Epoch 19/192\n",
      "\u001b[1m160/160\u001b[0m \u001b[32m━━━━━━━━━━━━━━━━━━━━\u001b[0m\u001b[37m\u001b[0m \u001b[1m1s\u001b[0m 4ms/step - binary_crossentropy: 0.0161 - logloss: 0.0161 - loss: 0.0194 - val_binary_crossentropy: 0.0157 - val_logloss: 0.0157 - val_loss: 0.0189\n",
      "Epoch 20/192\n",
      "\u001b[1m160/160\u001b[0m \u001b[32m━━━━━━━━━━━━━━━━━━━━\u001b[0m\u001b[37m\u001b[0m \u001b[1m1s\u001b[0m 4ms/step - binary_crossentropy: 0.0162 - logloss: 0.0162 - loss: 0.0195 - val_binary_crossentropy: 0.0157 - val_logloss: 0.0157 - val_loss: 0.0189\n",
      "Epoch 21/192\n",
      "\u001b[1m160/160\u001b[0m \u001b[32m━━━━━━━━━━━━━━━━━━━━\u001b[0m\u001b[37m\u001b[0m \u001b[1m1s\u001b[0m 4ms/step - binary_crossentropy: 0.0161 - logloss: 0.0161 - loss: 0.0194 - val_binary_crossentropy: 0.0157 - val_logloss: 0.0157 - val_loss: 0.0189\n",
      "Epoch 22/192\n",
      "\u001b[1m160/160\u001b[0m \u001b[32m━━━━━━━━━━━━━━━━━━━━\u001b[0m\u001b[37m\u001b[0m \u001b[1m1s\u001b[0m 4ms/step - binary_crossentropy: 0.0161 - logloss: 0.0161 - loss: 0.0194 - val_binary_crossentropy: 0.0157 - val_logloss: 0.0157 - val_loss: 0.0189\n",
      "Epoch 23/192\n",
      "\u001b[1m160/160\u001b[0m \u001b[32m━━━━━━━━━━━━━━━━━━━━\u001b[0m\u001b[37m\u001b[0m \u001b[1m1s\u001b[0m 4ms/step - binary_crossentropy: 0.0160 - logloss: 0.0161 - loss: 0.0193 - val_binary_crossentropy: 0.0157 - val_logloss: 0.0157 - val_loss: 0.0189\n",
      "Epoch 24/192\n",
      "\u001b[1m160/160\u001b[0m \u001b[32m━━━━━━━━━━━━━━━━━━━━\u001b[0m\u001b[37m\u001b[0m \u001b[1m1s\u001b[0m 5ms/step - binary_crossentropy: 0.0160 - logloss: 0.0161 - loss: 0.0194 - val_binary_crossentropy: 0.0157 - val_logloss: 0.0157 - val_loss: 0.0189\n",
      "Epoch 25/192\n",
      "\u001b[1m160/160\u001b[0m \u001b[32m━━━━━━━━━━━━━━━━━━━━\u001b[0m\u001b[37m\u001b[0m \u001b[1m1s\u001b[0m 4ms/step - binary_crossentropy: 0.0161 - logloss: 0.0161 - loss: 0.0194 - val_binary_crossentropy: 0.0157 - val_logloss: 0.0157 - val_loss: 0.0189\n",
      "Epoch 26/192\n",
      "\u001b[1m160/160\u001b[0m \u001b[32m━━━━━━━━━━━━━━━━━━━━\u001b[0m\u001b[37m\u001b[0m \u001b[1m1s\u001b[0m 4ms/step - binary_crossentropy: 0.0161 - logloss: 0.0161 - loss: 0.0194 - val_binary_crossentropy: 0.0157 - val_logloss: 0.0157 - val_loss: 0.0189\n",
      "Epoch 27/192\n",
      "\u001b[1m160/160\u001b[0m \u001b[32m━━━━━━━━━━━━━━━━━━━━\u001b[0m\u001b[37m\u001b[0m \u001b[1m1s\u001b[0m 4ms/step - binary_crossentropy: 0.0160 - logloss: 0.0160 - loss: 0.0193 - val_binary_crossentropy: 0.0157 - val_logloss: 0.0157 - val_loss: 0.0189\n",
      "Epoch 28/192\n",
      "\u001b[1m160/160\u001b[0m \u001b[32m━━━━━━━━━━━━━━━━━━━━\u001b[0m\u001b[37m\u001b[0m \u001b[1m1s\u001b[0m 4ms/step - binary_crossentropy: 0.0161 - logloss: 0.0161 - loss: 0.0194 - val_binary_crossentropy: 0.0157 - val_logloss: 0.0157 - val_loss: 0.0189\n",
      "Epoch 29/192\n",
      "\u001b[1m160/160\u001b[0m \u001b[32m━━━━━━━━━━━━━━━━━━━━\u001b[0m\u001b[37m\u001b[0m \u001b[1m1s\u001b[0m 4ms/step - binary_crossentropy: 0.0160 - logloss: 0.0161 - loss: 0.0193 - val_binary_crossentropy: 0.0157 - val_logloss: 0.0157 - val_loss: 0.0189\n",
      "Epoch 30/192\n",
      "\u001b[1m160/160\u001b[0m \u001b[32m━━━━━━━━━━━━━━━━━━━━\u001b[0m\u001b[37m\u001b[0m \u001b[1m1s\u001b[0m 4ms/step - binary_crossentropy: 0.0161 - logloss: 0.0161 - loss: 0.0194 - val_binary_crossentropy: 0.0157 - val_logloss: 0.0157 - val_loss: 0.0189\n",
      "Epoch 31/192\n",
      "\u001b[1m160/160\u001b[0m \u001b[32m━━━━━━━━━━━━━━━━━━━━\u001b[0m\u001b[37m\u001b[0m \u001b[1m1s\u001b[0m 4ms/step - binary_crossentropy: 0.0160 - logloss: 0.0160 - loss: 0.0193 - val_binary_crossentropy: 0.0157 - val_logloss: 0.0157 - val_loss: 0.0189\n",
      "Epoch 32/192\n",
      "\u001b[1m160/160\u001b[0m \u001b[32m━━━━━━━━━━━━━━━━━━━━\u001b[0m\u001b[37m\u001b[0m \u001b[1m1s\u001b[0m 4ms/step - binary_crossentropy: 0.0161 - logloss: 0.0161 - loss: 0.0194 - val_binary_crossentropy: 0.0157 - val_logloss: 0.0157 - val_loss: 0.0189\n",
      "Epoch 33/192\n",
      "\u001b[1m160/160\u001b[0m \u001b[32m━━━━━━━━━━━━━━━━━━━━\u001b[0m\u001b[37m\u001b[0m \u001b[1m1s\u001b[0m 4ms/step - binary_crossentropy: 0.0160 - logloss: 0.0160 - loss: 0.0193 - val_binary_crossentropy: 0.0157 - val_logloss: 0.0157 - val_loss: 0.0189\n",
      "Epoch 34/192\n",
      "\u001b[1m160/160\u001b[0m \u001b[32m━━━━━━━━━━━━━━━━━━━━\u001b[0m\u001b[37m\u001b[0m \u001b[1m1s\u001b[0m 4ms/step - binary_crossentropy: 0.0160 - logloss: 0.0160 - loss: 0.0193 - val_binary_crossentropy: 0.0157 - val_logloss: 0.0157 - val_loss: 0.0189\n",
      "Epoch 35/192\n",
      "\u001b[1m160/160\u001b[0m \u001b[32m━━━━━━━━━━━━━━━━━━━━\u001b[0m\u001b[37m\u001b[0m \u001b[1m1s\u001b[0m 4ms/step - binary_crossentropy: 0.0160 - logloss: 0.0160 - loss: 0.0193 - val_binary_crossentropy: 0.0157 - val_logloss: 0.0157 - val_loss: 0.0189\n",
      "Epoch 36/192\n",
      "\u001b[1m160/160\u001b[0m \u001b[32m━━━━━━━━━━━━━━━━━━━━\u001b[0m\u001b[37m\u001b[0m \u001b[1m1s\u001b[0m 4ms/step - binary_crossentropy: 0.0160 - logloss: 0.0160 - loss: 0.0193 - val_binary_crossentropy: 0.0157 - val_logloss: 0.0157 - val_loss: 0.0189\n",
      "Epoch 37/192\n",
      "\u001b[1m160/160\u001b[0m \u001b[32m━━━━━━━━━━━━━━━━━━━━\u001b[0m\u001b[37m\u001b[0m \u001b[1m1s\u001b[0m 4ms/step - binary_crossentropy: 0.0160 - logloss: 0.0160 - loss: 0.0193 - val_binary_crossentropy: 0.0157 - val_logloss: 0.0157 - val_loss: 0.0189\n",
      "Epoch 38/192\n",
      "\u001b[1m160/160\u001b[0m \u001b[32m━━━━━━━━━━━━━━━━━━━━\u001b[0m\u001b[37m\u001b[0m \u001b[1m1s\u001b[0m 4ms/step - binary_crossentropy: 0.0160 - logloss: 0.0161 - loss: 0.0193 - val_binary_crossentropy: 0.0157 - val_logloss: 0.0157 - val_loss: 0.0189\n",
      "Epoch 39/192\n",
      "\u001b[1m160/160\u001b[0m \u001b[32m━━━━━━━━━━━━━━━━━━━━\u001b[0m\u001b[37m\u001b[0m \u001b[1m1s\u001b[0m 4ms/step - binary_crossentropy: 0.0160 - logloss: 0.0160 - loss: 0.0193 - val_binary_crossentropy: 0.0157 - val_logloss: 0.0157 - val_loss: 0.0189\n",
      "Epoch 40/192\n",
      "\u001b[1m160/160\u001b[0m \u001b[32m━━━━━━━━━━━━━━━━━━━━\u001b[0m\u001b[37m\u001b[0m \u001b[1m1s\u001b[0m 4ms/step - binary_crossentropy: 0.0160 - logloss: 0.0160 - loss: 0.0193 - val_binary_crossentropy: 0.0157 - val_logloss: 0.0157 - val_loss: 0.0189\n",
      "Epoch 41/192\n",
      "\u001b[1m160/160\u001b[0m \u001b[32m━━━━━━━━━━━━━━━━━━━━\u001b[0m\u001b[37m\u001b[0m \u001b[1m1s\u001b[0m 4ms/step - binary_crossentropy: 0.0160 - logloss: 0.0160 - loss: 0.0193 - val_binary_crossentropy: 0.0157 - val_logloss: 0.0157 - val_loss: 0.0189\n",
      "Epoch 42/192\n",
      "\u001b[1m160/160\u001b[0m \u001b[32m━━━━━━━━━━━━━━━━━━━━\u001b[0m\u001b[37m\u001b[0m \u001b[1m1s\u001b[0m 4ms/step - binary_crossentropy: 0.0161 - logloss: 0.0161 - loss: 0.0194 - val_binary_crossentropy: 0.0157 - val_logloss: 0.0157 - val_loss: 0.0189\n",
      "Epoch 43/192\n",
      "\u001b[1m160/160\u001b[0m \u001b[32m━━━━━━━━━━━━━━━━━━━━\u001b[0m\u001b[37m\u001b[0m \u001b[1m1s\u001b[0m 4ms/step - binary_crossentropy: 0.0160 - logloss: 0.0160 - loss: 0.0193 - val_binary_crossentropy: 0.0157 - val_logloss: 0.0157 - val_loss: 0.0189\n",
      "Epoch 44/192\n",
      "\u001b[1m160/160\u001b[0m \u001b[32m━━━━━━━━━━━━━━━━━━━━\u001b[0m\u001b[37m\u001b[0m \u001b[1m1s\u001b[0m 4ms/step - binary_crossentropy: 0.0160 - logloss: 0.0161 - loss: 0.0193 - val_binary_crossentropy: 0.0157 - val_logloss: 0.0157 - val_loss: 0.0189\n",
      "Epoch 45/192\n",
      "\u001b[1m160/160\u001b[0m \u001b[32m━━━━━━━━━━━━━━━━━━━━\u001b[0m\u001b[37m\u001b[0m \u001b[1m1s\u001b[0m 4ms/step - binary_crossentropy: 0.0159 - logloss: 0.0160 - loss: 0.0192 - val_binary_crossentropy: 0.0157 - val_logloss: 0.0157 - val_loss: 0.0189\n",
      "Epoch 46/192\n",
      "\u001b[1m160/160\u001b[0m \u001b[32m━━━━━━━━━━━━━━━━━━━━\u001b[0m\u001b[37m\u001b[0m \u001b[1m1s\u001b[0m 4ms/step - binary_crossentropy: 0.0160 - logloss: 0.0160 - loss: 0.0193 - val_binary_crossentropy: 0.0157 - val_logloss: 0.0157 - val_loss: 0.0189\n",
      "Epoch 47/192\n",
      "\u001b[1m160/160\u001b[0m \u001b[32m━━━━━━━━━━━━━━━━━━━━\u001b[0m\u001b[37m\u001b[0m \u001b[1m1s\u001b[0m 4ms/step - binary_crossentropy: 0.0160 - logloss: 0.0160 - loss: 0.0193 - val_binary_crossentropy: 0.0157 - val_logloss: 0.0157 - val_loss: 0.0189\n",
      "Epoch 48/192\n",
      "\u001b[1m160/160\u001b[0m \u001b[32m━━━━━━━━━━━━━━━━━━━━\u001b[0m\u001b[37m\u001b[0m \u001b[1m1s\u001b[0m 4ms/step - binary_crossentropy: 0.0159 - logloss: 0.0160 - loss: 0.0192 - val_binary_crossentropy: 0.0157 - val_logloss: 0.0157 - val_loss: 0.0189\n",
      "Epoch 49/192\n",
      "\u001b[1m160/160\u001b[0m \u001b[32m━━━━━━━━━━━━━━━━━━━━\u001b[0m\u001b[37m\u001b[0m \u001b[1m1s\u001b[0m 4ms/step - binary_crossentropy: 0.0160 - logloss: 0.0160 - loss: 0.0193 - val_binary_crossentropy: 0.0157 - val_logloss: 0.0157 - val_loss: 0.0189\n",
      "Epoch 50/192\n",
      "\u001b[1m160/160\u001b[0m \u001b[32m━━━━━━━━━━━━━━━━━━━━\u001b[0m\u001b[37m\u001b[0m \u001b[1m1s\u001b[0m 4ms/step - binary_crossentropy: 0.0160 - logloss: 0.0160 - loss: 0.0193 - val_binary_crossentropy: 0.0157 - val_logloss: 0.0157 - val_loss: 0.0189\n",
      "Epoch 51/192\n",
      "\u001b[1m160/160\u001b[0m \u001b[32m━━━━━━━━━━━━━━━━━━━━\u001b[0m\u001b[37m\u001b[0m \u001b[1m1s\u001b[0m 4ms/step - binary_crossentropy: 0.0160 - logloss: 0.0161 - loss: 0.0193 - val_binary_crossentropy: 0.0157 - val_logloss: 0.0157 - val_loss: 0.0189\n",
      "Epoch 52/192\n",
      "\u001b[1m160/160\u001b[0m \u001b[32m━━━━━━━━━━━━━━━━━━━━\u001b[0m\u001b[37m\u001b[0m \u001b[1m1s\u001b[0m 4ms/step - binary_crossentropy: 0.0160 - logloss: 0.0160 - loss: 0.0193 - val_binary_crossentropy: 0.0157 - val_logloss: 0.0156 - val_loss: 0.0188\n",
      "Epoch 53/192\n",
      "\u001b[1m160/160\u001b[0m \u001b[32m━━━━━━━━━━━━━━━━━━━━\u001b[0m\u001b[37m\u001b[0m \u001b[1m1s\u001b[0m 4ms/step - binary_crossentropy: 0.0161 - logloss: 0.0161 - loss: 0.0194 - val_binary_crossentropy: 0.0157 - val_logloss: 0.0156 - val_loss: 0.0188\n",
      "Epoch 54/192\n",
      "\u001b[1m160/160\u001b[0m \u001b[32m━━━━━━━━━━━━━━━━━━━━\u001b[0m\u001b[37m\u001b[0m \u001b[1m1s\u001b[0m 4ms/step - binary_crossentropy: 0.0160 - logloss: 0.0160 - loss: 0.0193 - val_binary_crossentropy: 0.0157 - val_logloss: 0.0157 - val_loss: 0.0189\n",
      "Epoch 55/192\n",
      "\u001b[1m160/160\u001b[0m \u001b[32m━━━━━━━━━━━━━━━━━━━━\u001b[0m\u001b[37m\u001b[0m \u001b[1m1s\u001b[0m 4ms/step - binary_crossentropy: 0.0160 - logloss: 0.0160 - loss: 0.0193 - val_binary_crossentropy: 0.0157 - val_logloss: 0.0157 - val_loss: 0.0189\n",
      "Epoch 56/192\n",
      "\u001b[1m160/160\u001b[0m \u001b[32m━━━━━━━━━━━━━━━━━━━━\u001b[0m\u001b[37m\u001b[0m \u001b[1m1s\u001b[0m 4ms/step - binary_crossentropy: 0.0159 - logloss: 0.0159 - loss: 0.0192 - val_binary_crossentropy: 0.0157 - val_logloss: 0.0157 - val_loss: 0.0189\n",
      "Epoch 57/192\n",
      "\u001b[1m160/160\u001b[0m \u001b[32m━━━━━━━━━━━━━━━━━━━━\u001b[0m\u001b[37m\u001b[0m \u001b[1m1s\u001b[0m 4ms/step - binary_crossentropy: 0.0160 - logloss: 0.0160 - loss: 0.0193 - val_binary_crossentropy: 0.0157 - val_logloss: 0.0156 - val_loss: 0.0188\n",
      "\u001b[1m105/107\u001b[0m \u001b[32m━━━━━━━━━━━━━━━━━━━\u001b[0m\u001b[37m━\u001b[0m \u001b[1m0s\u001b[0m 1ms/step"
     ]
    },
    {
     "name": "stderr",
     "output_type": "stream",
     "text": [
      "W0000 00:00:1716234110.623370      70 graph_launch.cc:671] Fallback to op-by-op mode because memset node breaks graph update\n"
     ]
    },
    {
     "name": "stdout",
     "output_type": "stream",
     "text": [
      "\u001b[1m107/107\u001b[0m \u001b[32m━━━━━━━━━━━━━━━━━━━━\u001b[0m\u001b[37m\u001b[0m \u001b[1m1s\u001b[0m 4ms/step\n",
      "\u001b[1m125/125\u001b[0m \u001b[32m━━━━━━━━━━━━━━━━━━━━\u001b[0m\u001b[37m\u001b[0m \u001b[1m0s\u001b[0m 3ms/step\n",
      "Epoch 1/192\n",
      "\u001b[1m 31/160\u001b[0m \u001b[32m━━━\u001b[0m\u001b[37m━━━━━━━━━━━━━━━━━\u001b[0m \u001b[1m0s\u001b[0m 5ms/step - binary_crossentropy: 0.0267 - logloss: 0.0265 - loss: 0.0298"
     ]
    },
    {
     "name": "stderr",
     "output_type": "stream",
     "text": [
      "W0000 00:00:1716234122.231791      71 graph_launch.cc:671] Fallback to op-by-op mode because memset node breaks graph update\n"
     ]
    },
    {
     "name": "stdout",
     "output_type": "stream",
     "text": [
      "\u001b[1m160/160\u001b[0m \u001b[32m━━━━━━━━━━━━━━━━━━━━\u001b[0m\u001b[37m\u001b[0m \u001b[1m0s\u001b[0m 49ms/step - binary_crossentropy: 0.0239 - logloss: 0.0237 - loss: 0.0270"
     ]
    },
    {
     "name": "stderr",
     "output_type": "stream",
     "text": [
      "W0000 00:00:1716234130.021415      72 graph_launch.cc:671] Fallback to op-by-op mode because memset node breaks graph update\n",
      "W0000 00:00:1716234130.681838      73 graph_launch.cc:671] Fallback to op-by-op mode because memset node breaks graph update\n"
     ]
    },
    {
     "name": "stdout",
     "output_type": "stream",
     "text": [
      "\u001b[1m160/160\u001b[0m \u001b[32m━━━━━━━━━━━━━━━━━━━━\u001b[0m\u001b[37m\u001b[0m \u001b[1m19s\u001b[0m 56ms/step - binary_crossentropy: 0.0239 - logloss: 0.0237 - loss: 0.0270 - val_binary_crossentropy: 0.0181 - val_logloss: 0.0182 - val_loss: 0.0214 - learning_rate: 3.2250e-04\n",
      "Epoch 2/192\n",
      "\u001b[1m 23/160\u001b[0m \u001b[32m━━\u001b[0m\u001b[37m━━━━━━━━━━━━━━━━━━\u001b[0m \u001b[1m0s\u001b[0m 5ms/step - binary_crossentropy: 0.0205 - logloss: 0.0204 - loss: 0.0237"
     ]
    },
    {
     "name": "stderr",
     "output_type": "stream",
     "text": [
      "W0000 00:00:1716234131.068303      71 graph_launch.cc:671] Fallback to op-by-op mode because memset node breaks graph update\n"
     ]
    },
    {
     "name": "stdout",
     "output_type": "stream",
     "text": [
      "\u001b[1m160/160\u001b[0m \u001b[32m━━━━━━━━━━━━━━━━━━━━\u001b[0m\u001b[37m\u001b[0m \u001b[1m1s\u001b[0m 5ms/step - binary_crossentropy: 0.0195 - logloss: 0.0195 - loss: 0.0227 - val_binary_crossentropy: 0.0176 - val_logloss: 0.0177 - val_loss: 0.0208 - learning_rate: 6.3500e-04\n",
      "Epoch 3/192\n",
      "\u001b[1m160/160\u001b[0m \u001b[32m━━━━━━━━━━━━━━━━━━━━\u001b[0m\u001b[37m\u001b[0m \u001b[1m1s\u001b[0m 4ms/step - binary_crossentropy: 0.0183 - logloss: 0.0183 - loss: 0.0215 - val_binary_crossentropy: 0.0171 - val_logloss: 0.0172 - val_loss: 0.0202 - learning_rate: 9.4750e-04\n",
      "Epoch 4/192\n",
      "\u001b[1m160/160\u001b[0m \u001b[32m━━━━━━━━━━━━━━━━━━━━\u001b[0m\u001b[37m\u001b[0m \u001b[1m1s\u001b[0m 5ms/step - binary_crossentropy: 0.0177 - logloss: 0.0177 - loss: 0.0210 - val_binary_crossentropy: 0.0167 - val_logloss: 0.0167 - val_loss: 0.0199 - learning_rate: 0.0013\n",
      "Epoch 5/192\n",
      "\u001b[1m160/160\u001b[0m \u001b[32m━━━━━━━━━━━━━━━━━━━━\u001b[0m\u001b[37m\u001b[0m \u001b[1m1s\u001b[0m 4ms/step - binary_crossentropy: 0.0175 - logloss: 0.0175 - loss: 0.0208 - val_binary_crossentropy: 0.0166 - val_logloss: 0.0166 - val_loss: 0.0199 - learning_rate: 0.0016\n",
      "Epoch 6/192\n",
      "\u001b[1m160/160\u001b[0m \u001b[32m━━━━━━━━━━━━━━━━━━━━\u001b[0m\u001b[37m\u001b[0m \u001b[1m1s\u001b[0m 4ms/step - binary_crossentropy: 0.0173 - logloss: 0.0173 - loss: 0.0206 - val_binary_crossentropy: 0.0167 - val_logloss: 0.0167 - val_loss: 0.0200 - learning_rate: 0.0019\n",
      "Epoch 7/192\n",
      "\u001b[1m160/160\u001b[0m \u001b[32m━━━━━━━━━━━━━━━━━━━━\u001b[0m\u001b[37m\u001b[0m \u001b[1m1s\u001b[0m 4ms/step - binary_crossentropy: 0.0172 - logloss: 0.0172 - loss: 0.0205 - val_binary_crossentropy: 0.0167 - val_logloss: 0.0168 - val_loss: 0.0201 - learning_rate: 0.0022\n",
      "Epoch 8/192\n",
      "\u001b[1m160/160\u001b[0m \u001b[32m━━━━━━━━━━━━━━━━━━━━\u001b[0m\u001b[37m\u001b[0m \u001b[1m1s\u001b[0m 4ms/step - binary_crossentropy: 0.0171 - logloss: 0.0171 - loss: 0.0205 - val_binary_crossentropy: 0.0164 - val_logloss: 0.0165 - val_loss: 0.0198 - learning_rate: 0.0025\n",
      "Epoch 9/192\n",
      "\u001b[1m160/160\u001b[0m \u001b[32m━━━━━━━━━━━━━━━━━━━━\u001b[0m\u001b[37m\u001b[0m \u001b[1m1s\u001b[0m 4ms/step - binary_crossentropy: 0.0170 - logloss: 0.0170 - loss: 0.0204 - val_binary_crossentropy: 0.0167 - val_logloss: 0.0167 - val_loss: 0.0200 - learning_rate: 0.0028\n",
      "Epoch 10/192\n",
      "\u001b[1m160/160\u001b[0m \u001b[32m━━━━━━━━━━━━━━━━━━━━\u001b[0m\u001b[37m\u001b[0m \u001b[1m1s\u001b[0m 4ms/step - binary_crossentropy: 0.0170 - logloss: 0.0170 - loss: 0.0203 - val_binary_crossentropy: 0.0163 - val_logloss: 0.0163 - val_loss: 0.0196 - learning_rate: 0.0025\n",
      "Epoch 11/192\n",
      "\u001b[1m160/160\u001b[0m \u001b[32m━━━━━━━━━━━━━━━━━━━━\u001b[0m\u001b[37m\u001b[0m \u001b[1m1s\u001b[0m 4ms/step - binary_crossentropy: 0.0169 - logloss: 0.0169 - loss: 0.0202 - val_binary_crossentropy: 0.0161 - val_logloss: 0.0162 - val_loss: 0.0194 - learning_rate: 0.0022\n",
      "Epoch 12/192\n",
      "\u001b[1m160/160\u001b[0m \u001b[32m━━━━━━━━━━━━━━━━━━━━\u001b[0m\u001b[37m\u001b[0m \u001b[1m1s\u001b[0m 4ms/step - binary_crossentropy: 0.0166 - logloss: 0.0166 - loss: 0.0200 - val_binary_crossentropy: 0.0160 - val_logloss: 0.0160 - val_loss: 0.0192 - learning_rate: 0.0019\n",
      "Epoch 13/192\n",
      "\u001b[1m160/160\u001b[0m \u001b[32m━━━━━━━━━━━━━━━━━━━━\u001b[0m\u001b[37m\u001b[0m \u001b[1m1s\u001b[0m 4ms/step - binary_crossentropy: 0.0165 - logloss: 0.0165 - loss: 0.0198 - val_binary_crossentropy: 0.0161 - val_logloss: 0.0161 - val_loss: 0.0193 - learning_rate: 0.0016\n",
      "Epoch 14/192\n",
      "\u001b[1m160/160\u001b[0m \u001b[32m━━━━━━━━━━━━━━━━━━━━\u001b[0m\u001b[37m\u001b[0m \u001b[1m1s\u001b[0m 4ms/step - binary_crossentropy: 0.0164 - logloss: 0.0164 - loss: 0.0197 - val_binary_crossentropy: 0.0160 - val_logloss: 0.0160 - val_loss: 0.0192 - learning_rate: 0.0013\n",
      "Epoch 15/192\n",
      "\u001b[1m160/160\u001b[0m \u001b[32m━━━━━━━━━━━━━━━━━━━━\u001b[0m\u001b[37m\u001b[0m \u001b[1m1s\u001b[0m 4ms/step - binary_crossentropy: 0.0163 - logloss: 0.0164 - loss: 0.0196 - val_binary_crossentropy: 0.0158 - val_logloss: 0.0159 - val_loss: 0.0191 - learning_rate: 9.4750e-04\n",
      "Epoch 16/192\n",
      "\u001b[1m160/160\u001b[0m \u001b[32m━━━━━━━━━━━━━━━━━━━━\u001b[0m\u001b[37m\u001b[0m \u001b[1m1s\u001b[0m 4ms/step - binary_crossentropy: 0.0162 - logloss: 0.0162 - loss: 0.0195 - val_binary_crossentropy: 0.0158 - val_logloss: 0.0159 - val_loss: 0.0191 - learning_rate: 6.3500e-04\n",
      "Epoch 17/192\n",
      "\u001b[1m160/160\u001b[0m \u001b[32m━━━━━━━━━━━━━━━━━━━━\u001b[0m\u001b[37m\u001b[0m \u001b[1m1s\u001b[0m 4ms/step - binary_crossentropy: 0.0161 - logloss: 0.0161 - loss: 0.0194 - val_binary_crossentropy: 0.0158 - val_logloss: 0.0158 - val_loss: 0.0190 - learning_rate: 7.4996e-04\n",
      "Epoch 18/192\n",
      "\u001b[1m160/160\u001b[0m \u001b[32m━━━━━━━━━━━━━━━━━━━━\u001b[0m\u001b[37m\u001b[0m \u001b[1m1s\u001b[0m 4ms/step - binary_crossentropy: 0.0161 - logloss: 0.0161 - loss: 0.0194 - val_binary_crossentropy: 0.0157 - val_logloss: 0.0157 - val_loss: 0.0189 - learning_rate: 8.6492e-04\n",
      "Epoch 19/192\n",
      "\u001b[1m160/160\u001b[0m \u001b[32m━━━━━━━━━━━━━━━━━━━━\u001b[0m\u001b[37m\u001b[0m \u001b[1m1s\u001b[0m 4ms/step - binary_crossentropy: 0.0160 - logloss: 0.0161 - loss: 0.0193 - val_binary_crossentropy: 0.0157 - val_logloss: 0.0157 - val_loss: 0.0189 - learning_rate: 9.7989e-04\n",
      "Epoch 20/192\n",
      "\u001b[1m160/160\u001b[0m \u001b[32m━━━━━━━━━━━━━━━━━━━━\u001b[0m\u001b[37m\u001b[0m \u001b[1m1s\u001b[0m 4ms/step - binary_crossentropy: 0.0161 - logloss: 0.0162 - loss: 0.0194 - val_binary_crossentropy: 0.0157 - val_logloss: 0.0157 - val_loss: 0.0189 - learning_rate: 0.0011\n",
      "Epoch 21/192\n",
      "\u001b[1m160/160\u001b[0m \u001b[32m━━━━━━━━━━━━━━━━━━━━\u001b[0m\u001b[37m\u001b[0m \u001b[1m1s\u001b[0m 4ms/step - binary_crossentropy: 0.0161 - logloss: 0.0161 - loss: 0.0194 - val_binary_crossentropy: 0.0158 - val_logloss: 0.0159 - val_loss: 0.0190 - learning_rate: 0.0012\n",
      "Epoch 22/192\n",
      "\u001b[1m160/160\u001b[0m \u001b[32m━━━━━━━━━━━━━━━━━━━━\u001b[0m\u001b[37m\u001b[0m \u001b[1m1s\u001b[0m 4ms/step - binary_crossentropy: 0.0161 - logloss: 0.0162 - loss: 0.0194 - val_binary_crossentropy: 0.0157 - val_logloss: 0.0158 - val_loss: 0.0189 - learning_rate: 0.0013\n",
      "Epoch 23/192\n",
      "\u001b[1m160/160\u001b[0m \u001b[32m━━━━━━━━━━━━━━━━━━━━\u001b[0m\u001b[37m\u001b[0m \u001b[1m1s\u001b[0m 4ms/step - binary_crossentropy: 0.0161 - logloss: 0.0162 - loss: 0.0195 - val_binary_crossentropy: 0.0159 - val_logloss: 0.0159 - val_loss: 0.0191 - learning_rate: 0.0014\n",
      "Epoch 1/192\n",
      "\u001b[1m 33/160\u001b[0m \u001b[32m━━━━\u001b[0m\u001b[37m━━━━━━━━━━━━━━━━\u001b[0m \u001b[1m0s\u001b[0m 5ms/step - binary_crossentropy: 0.0162 - logloss: 0.0163 - loss: 0.0195"
     ]
    },
    {
     "name": "stderr",
     "output_type": "stream",
     "text": [
      "W0000 00:00:1716234157.131882      71 graph_launch.cc:671] Fallback to op-by-op mode because memset node breaks graph update\n"
     ]
    },
    {
     "name": "stdout",
     "output_type": "stream",
     "text": [
      "\u001b[1m160/160\u001b[0m \u001b[32m━━━━━━━━━━━━━━━━━━━━\u001b[0m\u001b[37m\u001b[0m \u001b[1m0s\u001b[0m 50ms/step - binary_crossentropy: 0.0160 - logloss: 0.0161 - loss: 0.0193"
     ]
    },
    {
     "name": "stderr",
     "output_type": "stream",
     "text": [
      "W0000 00:00:1716234165.078385      71 graph_launch.cc:671] Fallback to op-by-op mode because memset node breaks graph update\n",
      "W0000 00:00:1716234165.739323      70 graph_launch.cc:671] Fallback to op-by-op mode because memset node breaks graph update\n"
     ]
    },
    {
     "name": "stdout",
     "output_type": "stream",
     "text": [
      "\u001b[1m160/160\u001b[0m \u001b[32m━━━━━━━━━━━━━━━━━━━━\u001b[0m\u001b[37m\u001b[0m \u001b[1m19s\u001b[0m 57ms/step - binary_crossentropy: 0.0160 - logloss: 0.0161 - loss: 0.0193 - val_binary_crossentropy: 0.0158 - val_logloss: 0.0158 - val_loss: 0.0190\n",
      "Epoch 2/192\n",
      "\u001b[1m 34/160\u001b[0m \u001b[32m━━━━\u001b[0m\u001b[37m━━━━━━━━━━━━━━━━\u001b[0m \u001b[1m0s\u001b[0m 5ms/step - binary_crossentropy: 0.0164 - logloss: 0.0164 - loss: 0.0197"
     ]
    },
    {
     "name": "stderr",
     "output_type": "stream",
     "text": [
      "W0000 00:00:1716234166.137956      71 graph_launch.cc:671] Fallback to op-by-op mode because memset node breaks graph update\n"
     ]
    },
    {
     "name": "stdout",
     "output_type": "stream",
     "text": [
      "\u001b[1m160/160\u001b[0m \u001b[32m━━━━━━━━━━━━━━━━━━━━\u001b[0m\u001b[37m\u001b[0m \u001b[1m1s\u001b[0m 5ms/step - binary_crossentropy: 0.0161 - logloss: 0.0161 - loss: 0.0194 - val_binary_crossentropy: 0.0158 - val_logloss: 0.0158 - val_loss: 0.0190\n",
      "Epoch 3/192\n",
      "\u001b[1m160/160\u001b[0m \u001b[32m━━━━━━━━━━━━━━━━━━━━\u001b[0m\u001b[37m\u001b[0m \u001b[1m1s\u001b[0m 4ms/step - binary_crossentropy: 0.0161 - logloss: 0.0161 - loss: 0.0194 - val_binary_crossentropy: 0.0157 - val_logloss: 0.0158 - val_loss: 0.0190\n",
      "Epoch 4/192\n",
      "\u001b[1m160/160\u001b[0m \u001b[32m━━━━━━━━━━━━━━━━━━━━\u001b[0m\u001b[37m\u001b[0m \u001b[1m1s\u001b[0m 4ms/step - binary_crossentropy: 0.0159 - logloss: 0.0160 - loss: 0.0192 - val_binary_crossentropy: 0.0157 - val_logloss: 0.0158 - val_loss: 0.0189\n",
      "Epoch 5/192\n",
      "\u001b[1m160/160\u001b[0m \u001b[32m━━━━━━━━━━━━━━━━━━━━\u001b[0m\u001b[37m\u001b[0m \u001b[1m1s\u001b[0m 4ms/step - binary_crossentropy: 0.0160 - logloss: 0.0160 - loss: 0.0193 - val_binary_crossentropy: 0.0157 - val_logloss: 0.0158 - val_loss: 0.0189\n",
      "\u001b[1m105/107\u001b[0m \u001b[32m━━━━━━━━━━━━━━━━━━━\u001b[0m\u001b[37m━\u001b[0m \u001b[1m0s\u001b[0m 1ms/step"
     ]
    },
    {
     "name": "stderr",
     "output_type": "stream",
     "text": [
      "W0000 00:00:1716234169.436054      72 graph_launch.cc:671] Fallback to op-by-op mode because memset node breaks graph update\n"
     ]
    },
    {
     "name": "stdout",
     "output_type": "stream",
     "text": [
      "\u001b[1m107/107\u001b[0m \u001b[32m━━━━━━━━━━━━━━━━━━━━\u001b[0m\u001b[37m\u001b[0m \u001b[1m1s\u001b[0m 4ms/step\n",
      "\u001b[1m125/125\u001b[0m \u001b[32m━━━━━━━━━━━━━━━━━━━━\u001b[0m\u001b[37m\u001b[0m \u001b[1m0s\u001b[0m 3ms/step\n",
      "Epoch 1/192\n",
      "\u001b[1m 34/160\u001b[0m \u001b[32m━━━━\u001b[0m\u001b[37m━━━━━━━━━━━━━━━━\u001b[0m \u001b[1m0s\u001b[0m 5ms/step - binary_crossentropy: 0.0261 - logloss: 0.0259 - loss: 0.0293"
     ]
    },
    {
     "name": "stderr",
     "output_type": "stream",
     "text": [
      "W0000 00:00:1716234181.179473      70 graph_launch.cc:671] Fallback to op-by-op mode because memset node breaks graph update\n"
     ]
    },
    {
     "name": "stdout",
     "output_type": "stream",
     "text": [
      "\u001b[1m160/160\u001b[0m \u001b[32m━━━━━━━━━━━━━━━━━━━━\u001b[0m\u001b[37m\u001b[0m \u001b[1m0s\u001b[0m 48ms/step - binary_crossentropy: 0.0239 - logloss: 0.0238 - loss: 0.0271"
     ]
    },
    {
     "name": "stderr",
     "output_type": "stream",
     "text": [
      "W0000 00:00:1716234188.888026      72 graph_launch.cc:671] Fallback to op-by-op mode because memset node breaks graph update\n",
      "W0000 00:00:1716234189.554941      70 graph_launch.cc:671] Fallback to op-by-op mode because memset node breaks graph update\n"
     ]
    },
    {
     "name": "stdout",
     "output_type": "stream",
     "text": [
      "\u001b[1m160/160\u001b[0m \u001b[32m━━━━━━━━━━━━━━━━━━━━\u001b[0m\u001b[37m\u001b[0m \u001b[1m19s\u001b[0m 55ms/step - binary_crossentropy: 0.0239 - logloss: 0.0238 - loss: 0.0271 - val_binary_crossentropy: 0.0183 - val_logloss: 0.0183 - val_loss: 0.0215 - learning_rate: 3.2250e-04\n",
      "Epoch 2/192\n",
      "\u001b[1m 23/160\u001b[0m \u001b[32m━━\u001b[0m\u001b[37m━━━━━━━━━━━━━━━━━━\u001b[0m \u001b[1m0s\u001b[0m 5ms/step - binary_crossentropy: 0.0201 - logloss: 0.0200 - loss: 0.0233"
     ]
    },
    {
     "name": "stderr",
     "output_type": "stream",
     "text": [
      "W0000 00:00:1716234189.941770      73 graph_launch.cc:671] Fallback to op-by-op mode because memset node breaks graph update\n"
     ]
    },
    {
     "name": "stdout",
     "output_type": "stream",
     "text": [
      "\u001b[1m160/160\u001b[0m \u001b[32m━━━━━━━━━━━━━━━━━━━━\u001b[0m\u001b[37m\u001b[0m \u001b[1m1s\u001b[0m 5ms/step - binary_crossentropy: 0.0196 - logloss: 0.0196 - loss: 0.0228 - val_binary_crossentropy: 0.0177 - val_logloss: 0.0177 - val_loss: 0.0208 - learning_rate: 6.3500e-04\n",
      "Epoch 3/192\n",
      "\u001b[1m160/160\u001b[0m \u001b[32m━━━━━━━━━━━━━━━━━━━━\u001b[0m\u001b[37m\u001b[0m \u001b[1m1s\u001b[0m 4ms/step - binary_crossentropy: 0.0184 - logloss: 0.0183 - loss: 0.0216 - val_binary_crossentropy: 0.0173 - val_logloss: 0.0172 - val_loss: 0.0203 - learning_rate: 9.4750e-04\n",
      "Epoch 4/192\n",
      "\u001b[1m160/160\u001b[0m \u001b[32m━━━━━━━━━━━━━━━━━━━━\u001b[0m\u001b[37m\u001b[0m \u001b[1m1s\u001b[0m 4ms/step - binary_crossentropy: 0.0178 - logloss: 0.0177 - loss: 0.0210 - val_binary_crossentropy: 0.0167 - val_logloss: 0.0167 - val_loss: 0.0199 - learning_rate: 0.0013\n",
      "Epoch 5/192\n",
      "\u001b[1m160/160\u001b[0m \u001b[32m━━━━━━━━━━━━━━━━━━━━\u001b[0m\u001b[37m\u001b[0m \u001b[1m1s\u001b[0m 4ms/step - binary_crossentropy: 0.0176 - logloss: 0.0175 - loss: 0.0209 - val_binary_crossentropy: 0.0167 - val_logloss: 0.0167 - val_loss: 0.0200 - learning_rate: 0.0016\n",
      "Epoch 6/192\n",
      "\u001b[1m160/160\u001b[0m \u001b[32m━━━━━━━━━━━━━━━━━━━━\u001b[0m\u001b[37m\u001b[0m \u001b[1m1s\u001b[0m 4ms/step - binary_crossentropy: 0.0174 - logloss: 0.0173 - loss: 0.0207 - val_binary_crossentropy: 0.0168 - val_logloss: 0.0168 - val_loss: 0.0201 - learning_rate: 0.0019\n",
      "Epoch 7/192\n",
      "\u001b[1m160/160\u001b[0m \u001b[32m━━━━━━━━━━━━━━━━━━━━\u001b[0m\u001b[37m\u001b[0m \u001b[1m1s\u001b[0m 4ms/step - binary_crossentropy: 0.0173 - logloss: 0.0173 - loss: 0.0207 - val_binary_crossentropy: 0.0166 - val_logloss: 0.0166 - val_loss: 0.0200 - learning_rate: 0.0022\n",
      "Epoch 8/192\n",
      "\u001b[1m160/160\u001b[0m \u001b[32m━━━━━━━━━━━━━━━━━━━━\u001b[0m\u001b[37m\u001b[0m \u001b[1m1s\u001b[0m 4ms/step - binary_crossentropy: 0.0172 - logloss: 0.0172 - loss: 0.0206 - val_binary_crossentropy: 0.0166 - val_logloss: 0.0166 - val_loss: 0.0200 - learning_rate: 0.0025\n",
      "Epoch 9/192\n",
      "\u001b[1m160/160\u001b[0m \u001b[32m━━━━━━━━━━━━━━━━━━━━\u001b[0m\u001b[37m\u001b[0m \u001b[1m1s\u001b[0m 4ms/step - binary_crossentropy: 0.0170 - logloss: 0.0170 - loss: 0.0204 - val_binary_crossentropy: 0.0167 - val_logloss: 0.0167 - val_loss: 0.0201 - learning_rate: 0.0028\n",
      "Epoch 10/192\n",
      "\u001b[1m160/160\u001b[0m \u001b[32m━━━━━━━━━━━━━━━━━━━━\u001b[0m\u001b[37m\u001b[0m \u001b[1m1s\u001b[0m 4ms/step - binary_crossentropy: 0.0171 - logloss: 0.0171 - loss: 0.0204 - val_binary_crossentropy: 0.0165 - val_logloss: 0.0165 - val_loss: 0.0199 - learning_rate: 0.0025\n",
      "Epoch 11/192\n",
      "\u001b[1m160/160\u001b[0m \u001b[32m━━━━━━━━━━━━━━━━━━━━\u001b[0m\u001b[37m\u001b[0m \u001b[1m1s\u001b[0m 4ms/step - binary_crossentropy: 0.0168 - logloss: 0.0168 - loss: 0.0202 - val_binary_crossentropy: 0.0162 - val_logloss: 0.0162 - val_loss: 0.0195 - learning_rate: 0.0022\n",
      "Epoch 12/192\n",
      "\u001b[1m160/160\u001b[0m \u001b[32m━━━━━━━━━━━━━━━━━━━━\u001b[0m\u001b[37m\u001b[0m \u001b[1m1s\u001b[0m 4ms/step - binary_crossentropy: 0.0167 - logloss: 0.0167 - loss: 0.0200 - val_binary_crossentropy: 0.0162 - val_logloss: 0.0162 - val_loss: 0.0195 - learning_rate: 0.0019\n",
      "Epoch 13/192\n",
      "\u001b[1m160/160\u001b[0m \u001b[32m━━━━━━━━━━━━━━━━━━━━\u001b[0m\u001b[37m\u001b[0m \u001b[1m1s\u001b[0m 4ms/step - binary_crossentropy: 0.0166 - logloss: 0.0166 - loss: 0.0199 - val_binary_crossentropy: 0.0161 - val_logloss: 0.0161 - val_loss: 0.0194 - learning_rate: 0.0016\n",
      "Epoch 14/192\n",
      "\u001b[1m160/160\u001b[0m \u001b[32m━━━━━━━━━━━━━━━━━━━━\u001b[0m\u001b[37m\u001b[0m \u001b[1m1s\u001b[0m 4ms/step - binary_crossentropy: 0.0164 - logloss: 0.0165 - loss: 0.0198 - val_binary_crossentropy: 0.0161 - val_logloss: 0.0161 - val_loss: 0.0193 - learning_rate: 0.0013\n",
      "Epoch 15/192\n",
      "\u001b[1m160/160\u001b[0m \u001b[32m━━━━━━━━━━━━━━━━━━━━\u001b[0m\u001b[37m\u001b[0m \u001b[1m1s\u001b[0m 4ms/step - binary_crossentropy: 0.0163 - logloss: 0.0163 - loss: 0.0196 - val_binary_crossentropy: 0.0158 - val_logloss: 0.0158 - val_loss: 0.0191 - learning_rate: 9.4750e-04\n",
      "Epoch 16/192\n",
      "\u001b[1m160/160\u001b[0m \u001b[32m━━━━━━━━━━━━━━━━━━━━\u001b[0m\u001b[37m\u001b[0m \u001b[1m1s\u001b[0m 4ms/step - binary_crossentropy: 0.0162 - logloss: 0.0163 - loss: 0.0195 - val_binary_crossentropy: 0.0158 - val_logloss: 0.0158 - val_loss: 0.0191 - learning_rate: 6.3500e-04\n",
      "Epoch 17/192\n",
      "\u001b[1m160/160\u001b[0m \u001b[32m━━━━━━━━━━━━━━━━━━━━\u001b[0m\u001b[37m\u001b[0m \u001b[1m1s\u001b[0m 4ms/step - binary_crossentropy: 0.0162 - logloss: 0.0162 - loss: 0.0195 - val_binary_crossentropy: 0.0157 - val_logloss: 0.0157 - val_loss: 0.0190 - learning_rate: 7.4996e-04\n",
      "Epoch 18/192\n",
      "\u001b[1m160/160\u001b[0m \u001b[32m━━━━━━━━━━━━━━━━━━━━\u001b[0m\u001b[37m\u001b[0m \u001b[1m1s\u001b[0m 4ms/step - binary_crossentropy: 0.0161 - logloss: 0.0162 - loss: 0.0194 - val_binary_crossentropy: 0.0157 - val_logloss: 0.0157 - val_loss: 0.0190 - learning_rate: 8.6492e-04\n",
      "Epoch 19/192\n",
      "\u001b[1m160/160\u001b[0m \u001b[32m━━━━━━━━━━━━━━━━━━━━\u001b[0m\u001b[37m\u001b[0m \u001b[1m1s\u001b[0m 4ms/step - binary_crossentropy: 0.0161 - logloss: 0.0162 - loss: 0.0194 - val_binary_crossentropy: 0.0158 - val_logloss: 0.0158 - val_loss: 0.0190 - learning_rate: 9.7989e-04\n",
      "Epoch 20/192\n",
      "\u001b[1m160/160\u001b[0m \u001b[32m━━━━━━━━━━━━━━━━━━━━\u001b[0m\u001b[37m\u001b[0m \u001b[1m1s\u001b[0m 4ms/step - binary_crossentropy: 0.0161 - logloss: 0.0161 - loss: 0.0194 - val_binary_crossentropy: 0.0158 - val_logloss: 0.0158 - val_loss: 0.0190 - learning_rate: 0.0011\n",
      "Epoch 21/192\n",
      "\u001b[1m160/160\u001b[0m \u001b[32m━━━━━━━━━━━━━━━━━━━━\u001b[0m\u001b[37m\u001b[0m \u001b[1m1s\u001b[0m 4ms/step - binary_crossentropy: 0.0162 - logloss: 0.0162 - loss: 0.0195 - val_binary_crossentropy: 0.0158 - val_logloss: 0.0158 - val_loss: 0.0191 - learning_rate: 0.0012\n",
      "Epoch 22/192\n",
      "\u001b[1m160/160\u001b[0m \u001b[32m━━━━━━━━━━━━━━━━━━━━\u001b[0m\u001b[37m\u001b[0m \u001b[1m1s\u001b[0m 4ms/step - binary_crossentropy: 0.0162 - logloss: 0.0162 - loss: 0.0195 - val_binary_crossentropy: 0.0157 - val_logloss: 0.0157 - val_loss: 0.0190 - learning_rate: 0.0013\n",
      "Epoch 1/192\n",
      "\u001b[1m 34/160\u001b[0m \u001b[32m━━━━\u001b[0m\u001b[37m━━━━━━━━━━━━━━━━\u001b[0m \u001b[1m0s\u001b[0m 5ms/step - binary_crossentropy: 0.0160 - logloss: 0.0161 - loss: 0.0194"
     ]
    },
    {
     "name": "stderr",
     "output_type": "stream",
     "text": [
      "W0000 00:00:1716234214.784130      73 graph_launch.cc:671] Fallback to op-by-op mode because memset node breaks graph update\n"
     ]
    },
    {
     "name": "stdout",
     "output_type": "stream",
     "text": [
      "\u001b[1m160/160\u001b[0m \u001b[32m━━━━━━━━━━━━━━━━━━━━\u001b[0m\u001b[37m\u001b[0m \u001b[1m0s\u001b[0m 49ms/step - binary_crossentropy: 0.0161 - logloss: 0.0162 - loss: 0.0194"
     ]
    },
    {
     "name": "stderr",
     "output_type": "stream",
     "text": [
      "W0000 00:00:1716234222.548235      72 graph_launch.cc:671] Fallback to op-by-op mode because memset node breaks graph update\n",
      "W0000 00:00:1716234223.256446      72 graph_launch.cc:671] Fallback to op-by-op mode because memset node breaks graph update\n"
     ]
    },
    {
     "name": "stdout",
     "output_type": "stream",
     "text": [
      "\u001b[1m160/160\u001b[0m \u001b[32m━━━━━━━━━━━━━━━━━━━━\u001b[0m\u001b[37m\u001b[0m \u001b[1m19s\u001b[0m 56ms/step - binary_crossentropy: 0.0161 - logloss: 0.0162 - loss: 0.0194 - val_binary_crossentropy: 0.0157 - val_logloss: 0.0157 - val_loss: 0.0190\n",
      "Epoch 2/192\n",
      "\u001b[1m 23/160\u001b[0m \u001b[32m━━\u001b[0m\u001b[37m━━━━━━━━━━━━━━━━━━\u001b[0m \u001b[1m0s\u001b[0m 5ms/step - binary_crossentropy: 0.0159 - logloss: 0.0160 - loss: 0.0193"
     ]
    },
    {
     "name": "stderr",
     "output_type": "stream",
     "text": [
      "W0000 00:00:1716234223.690025      72 graph_launch.cc:671] Fallback to op-by-op mode because memset node breaks graph update\n"
     ]
    },
    {
     "name": "stdout",
     "output_type": "stream",
     "text": [
      "\u001b[1m160/160\u001b[0m \u001b[32m━━━━━━━━━━━━━━━━━━━━\u001b[0m\u001b[37m\u001b[0m \u001b[1m1s\u001b[0m 5ms/step - binary_crossentropy: 0.0160 - logloss: 0.0161 - loss: 0.0194 - val_binary_crossentropy: 0.0157 - val_logloss: 0.0157 - val_loss: 0.0190\n",
      "Epoch 3/192\n",
      "\u001b[1m160/160\u001b[0m \u001b[32m━━━━━━━━━━━━━━━━━━━━\u001b[0m\u001b[37m\u001b[0m \u001b[1m1s\u001b[0m 4ms/step - binary_crossentropy: 0.0160 - logloss: 0.0161 - loss: 0.0193 - val_binary_crossentropy: 0.0157 - val_logloss: 0.0157 - val_loss: 0.0189\n",
      "Epoch 4/192\n",
      "\u001b[1m160/160\u001b[0m \u001b[32m━━━━━━━━━━━━━━━━━━━━\u001b[0m\u001b[37m\u001b[0m \u001b[1m1s\u001b[0m 4ms/step - binary_crossentropy: 0.0160 - logloss: 0.0161 - loss: 0.0194 - val_binary_crossentropy: 0.0157 - val_logloss: 0.0157 - val_loss: 0.0189\n",
      "Epoch 5/192\n",
      "\u001b[1m160/160\u001b[0m \u001b[32m━━━━━━━━━━━━━━━━━━━━\u001b[0m\u001b[37m\u001b[0m \u001b[1m1s\u001b[0m 4ms/step - binary_crossentropy: 0.0161 - logloss: 0.0161 - loss: 0.0194 - val_binary_crossentropy: 0.0157 - val_logloss: 0.0157 - val_loss: 0.0189\n",
      "\u001b[1m101/107\u001b[0m \u001b[32m━━━━━━━━━━━━━━━━━━\u001b[0m\u001b[37m━━\u001b[0m \u001b[1m0s\u001b[0m 2ms/step"
     ]
    },
    {
     "name": "stderr",
     "output_type": "stream",
     "text": [
      "W0000 00:00:1716234228.236982      73 graph_launch.cc:671] Fallback to op-by-op mode because memset node breaks graph update\n"
     ]
    },
    {
     "name": "stdout",
     "output_type": "stream",
     "text": [
      "\u001b[1m107/107\u001b[0m \u001b[32m━━━━━━━━━━━━━━━━━━━━\u001b[0m\u001b[37m\u001b[0m \u001b[1m1s\u001b[0m 4ms/step\n",
      "\u001b[1m125/125\u001b[0m \u001b[32m━━━━━━━━━━━━━━━━━━━━\u001b[0m\u001b[37m\u001b[0m \u001b[1m0s\u001b[0m 3ms/step\n",
      "Epoch 1/192\n",
      "\u001b[1m 34/160\u001b[0m \u001b[32m━━━━\u001b[0m\u001b[37m━━━━━━━━━━━━━━━━\u001b[0m \u001b[1m0s\u001b[0m 5ms/step - binary_crossentropy: 0.0261 - logloss: 0.0259 - loss: 0.0292"
     ]
    },
    {
     "name": "stderr",
     "output_type": "stream",
     "text": [
      "W0000 00:00:1716234239.857940      73 graph_launch.cc:671] Fallback to op-by-op mode because memset node breaks graph update\n"
     ]
    },
    {
     "name": "stdout",
     "output_type": "stream",
     "text": [
      "\u001b[1m160/160\u001b[0m \u001b[32m━━━━━━━━━━━━━━━━━━━━\u001b[0m\u001b[37m\u001b[0m \u001b[1m0s\u001b[0m 49ms/step - binary_crossentropy: 0.0238 - logloss: 0.0237 - loss: 0.0270"
     ]
    },
    {
     "name": "stderr",
     "output_type": "stream",
     "text": [
      "W0000 00:00:1716234247.681294      70 graph_launch.cc:671] Fallback to op-by-op mode because memset node breaks graph update\n",
      "W0000 00:00:1716234248.338382      73 graph_launch.cc:671] Fallback to op-by-op mode because memset node breaks graph update\n"
     ]
    },
    {
     "name": "stdout",
     "output_type": "stream",
     "text": [
      "\u001b[1m160/160\u001b[0m \u001b[32m━━━━━━━━━━━━━━━━━━━━\u001b[0m\u001b[37m\u001b[0m \u001b[1m19s\u001b[0m 56ms/step - binary_crossentropy: 0.0238 - logloss: 0.0237 - loss: 0.0270 - val_binary_crossentropy: 0.0183 - val_logloss: 0.0183 - val_loss: 0.0216 - learning_rate: 3.2250e-04\n",
      "Epoch 2/192\n",
      "\u001b[1m 34/160\u001b[0m \u001b[32m━━━━\u001b[0m\u001b[37m━━━━━━━━━━━━━━━━\u001b[0m \u001b[1m0s\u001b[0m 5ms/step - binary_crossentropy: 0.0202 - logloss: 0.0201 - loss: 0.0234"
     ]
    },
    {
     "name": "stderr",
     "output_type": "stream",
     "text": [
      "W0000 00:00:1716234248.725268      71 graph_launch.cc:671] Fallback to op-by-op mode because memset node breaks graph update\n"
     ]
    },
    {
     "name": "stdout",
     "output_type": "stream",
     "text": [
      "\u001b[1m160/160\u001b[0m \u001b[32m━━━━━━━━━━━━━━━━━━━━\u001b[0m\u001b[37m\u001b[0m \u001b[1m1s\u001b[0m 5ms/step - binary_crossentropy: 0.0196 - logloss: 0.0195 - loss: 0.0228 - val_binary_crossentropy: 0.0176 - val_logloss: 0.0176 - val_loss: 0.0207 - learning_rate: 6.3500e-04\n",
      "Epoch 3/192\n",
      "\u001b[1m160/160\u001b[0m \u001b[32m━━━━━━━━━━━━━━━━━━━━\u001b[0m\u001b[37m\u001b[0m \u001b[1m1s\u001b[0m 4ms/step - binary_crossentropy: 0.0183 - logloss: 0.0183 - loss: 0.0215 - val_binary_crossentropy: 0.0171 - val_logloss: 0.0171 - val_loss: 0.0203 - learning_rate: 9.4750e-04\n",
      "Epoch 4/192\n",
      "\u001b[1m160/160\u001b[0m \u001b[32m━━━━━━━━━━━━━━━━━━━━\u001b[0m\u001b[37m\u001b[0m \u001b[1m1s\u001b[0m 4ms/step - binary_crossentropy: 0.0177 - logloss: 0.0177 - loss: 0.0210 - val_binary_crossentropy: 0.0171 - val_logloss: 0.0171 - val_loss: 0.0202 - learning_rate: 0.0013\n",
      "Epoch 5/192\n",
      "\u001b[1m160/160\u001b[0m \u001b[32m━━━━━━━━━━━━━━━━━━━━\u001b[0m\u001b[37m\u001b[0m \u001b[1m1s\u001b[0m 4ms/step - binary_crossentropy: 0.0174 - logloss: 0.0174 - loss: 0.0207 - val_binary_crossentropy: 0.0167 - val_logloss: 0.0167 - val_loss: 0.0200 - learning_rate: 0.0016\n",
      "Epoch 6/192\n",
      "\u001b[1m160/160\u001b[0m \u001b[32m━━━━━━━━━━━━━━━━━━━━\u001b[0m\u001b[37m\u001b[0m \u001b[1m1s\u001b[0m 4ms/step - binary_crossentropy: 0.0173 - logloss: 0.0173 - loss: 0.0207 - val_binary_crossentropy: 0.0168 - val_logloss: 0.0169 - val_loss: 0.0201 - learning_rate: 0.0019\n",
      "Epoch 7/192\n",
      "\u001b[1m160/160\u001b[0m \u001b[32m━━━━━━━━━━━━━━━━━━━━\u001b[0m\u001b[37m\u001b[0m \u001b[1m1s\u001b[0m 4ms/step - binary_crossentropy: 0.0172 - logloss: 0.0172 - loss: 0.0206 - val_binary_crossentropy: 0.0165 - val_logloss: 0.0165 - val_loss: 0.0199 - learning_rate: 0.0022\n",
      "Epoch 8/192\n",
      "\u001b[1m160/160\u001b[0m \u001b[32m━━━━━━━━━━━━━━━━━━━━\u001b[0m\u001b[37m\u001b[0m \u001b[1m1s\u001b[0m 4ms/step - binary_crossentropy: 0.0171 - logloss: 0.0171 - loss: 0.0205 - val_binary_crossentropy: 0.0166 - val_logloss: 0.0166 - val_loss: 0.0198 - learning_rate: 0.0025\n",
      "Epoch 9/192\n",
      "\u001b[1m160/160\u001b[0m \u001b[32m━━━━━━━━━━━━━━━━━━━━\u001b[0m\u001b[37m\u001b[0m \u001b[1m1s\u001b[0m 5ms/step - binary_crossentropy: 0.0171 - logloss: 0.0171 - loss: 0.0205 - val_binary_crossentropy: 0.0166 - val_logloss: 0.0167 - val_loss: 0.0199 - learning_rate: 0.0028\n",
      "Epoch 10/192\n",
      "\u001b[1m160/160\u001b[0m \u001b[32m━━━━━━━━━━━━━━━━━━━━\u001b[0m\u001b[37m\u001b[0m \u001b[1m1s\u001b[0m 4ms/step - binary_crossentropy: 0.0169 - logloss: 0.0170 - loss: 0.0203 - val_binary_crossentropy: 0.0165 - val_logloss: 0.0166 - val_loss: 0.0198 - learning_rate: 0.0025\n",
      "Epoch 11/192\n",
      "\u001b[1m160/160\u001b[0m \u001b[32m━━━━━━━━━━━━━━━━━━━━\u001b[0m\u001b[37m\u001b[0m \u001b[1m1s\u001b[0m 4ms/step - binary_crossentropy: 0.0168 - logloss: 0.0168 - loss: 0.0202 - val_binary_crossentropy: 0.0162 - val_logloss: 0.0162 - val_loss: 0.0195 - learning_rate: 0.0022\n",
      "Epoch 12/192\n",
      "\u001b[1m160/160\u001b[0m \u001b[32m━━━━━━━━━━━━━━━━━━━━\u001b[0m\u001b[37m\u001b[0m \u001b[1m1s\u001b[0m 4ms/step - binary_crossentropy: 0.0166 - logloss: 0.0167 - loss: 0.0200 - val_binary_crossentropy: 0.0160 - val_logloss: 0.0161 - val_loss: 0.0194 - learning_rate: 0.0019\n",
      "Epoch 13/192\n",
      "\u001b[1m160/160\u001b[0m \u001b[32m━━━━━━━━━━━━━━━━━━━━\u001b[0m\u001b[37m\u001b[0m \u001b[1m1s\u001b[0m 4ms/step - binary_crossentropy: 0.0165 - logloss: 0.0165 - loss: 0.0198 - val_binary_crossentropy: 0.0159 - val_logloss: 0.0160 - val_loss: 0.0192 - learning_rate: 0.0016\n",
      "Epoch 14/192\n",
      "\u001b[1m160/160\u001b[0m \u001b[32m━━━━━━━━━━━━━━━━━━━━\u001b[0m\u001b[37m\u001b[0m \u001b[1m1s\u001b[0m 4ms/step - binary_crossentropy: 0.0164 - logloss: 0.0165 - loss: 0.0197 - val_binary_crossentropy: 0.0159 - val_logloss: 0.0160 - val_loss: 0.0192 - learning_rate: 0.0013\n",
      "Epoch 15/192\n",
      "\u001b[1m160/160\u001b[0m \u001b[32m━━━━━━━━━━━━━━━━━━━━\u001b[0m\u001b[37m\u001b[0m \u001b[1m1s\u001b[0m 4ms/step - binary_crossentropy: 0.0163 - logloss: 0.0163 - loss: 0.0196 - val_binary_crossentropy: 0.0158 - val_logloss: 0.0159 - val_loss: 0.0190 - learning_rate: 9.4750e-04\n",
      "Epoch 16/192\n",
      "\u001b[1m160/160\u001b[0m \u001b[32m━━━━━━━━━━━━━━━━━━━━\u001b[0m\u001b[37m\u001b[0m \u001b[1m1s\u001b[0m 4ms/step - binary_crossentropy: 0.0161 - logloss: 0.0162 - loss: 0.0194 - val_binary_crossentropy: 0.0157 - val_logloss: 0.0157 - val_loss: 0.0189 - learning_rate: 6.3500e-04\n",
      "Epoch 17/192\n",
      "\u001b[1m160/160\u001b[0m \u001b[32m━━━━━━━━━━━━━━━━━━━━\u001b[0m\u001b[37m\u001b[0m \u001b[1m1s\u001b[0m 4ms/step - binary_crossentropy: 0.0161 - logloss: 0.0161 - loss: 0.0194 - val_binary_crossentropy: 0.0157 - val_logloss: 0.0158 - val_loss: 0.0189 - learning_rate: 7.4996e-04\n",
      "Epoch 18/192\n",
      "\u001b[1m160/160\u001b[0m \u001b[32m━━━━━━━━━━━━━━━━━━━━\u001b[0m\u001b[37m\u001b[0m \u001b[1m1s\u001b[0m 4ms/step - binary_crossentropy: 0.0162 - logloss: 0.0162 - loss: 0.0195 - val_binary_crossentropy: 0.0158 - val_logloss: 0.0158 - val_loss: 0.0190 - learning_rate: 8.6492e-04\n",
      "Epoch 19/192\n",
      "\u001b[1m160/160\u001b[0m \u001b[32m━━━━━━━━━━━━━━━━━━━━\u001b[0m\u001b[37m\u001b[0m \u001b[1m1s\u001b[0m 4ms/step - binary_crossentropy: 0.0161 - logloss: 0.0161 - loss: 0.0194 - val_binary_crossentropy: 0.0157 - val_logloss: 0.0157 - val_loss: 0.0189 - learning_rate: 9.7989e-04\n",
      "Epoch 20/192\n",
      "\u001b[1m160/160\u001b[0m \u001b[32m━━━━━━━━━━━━━━━━━━━━\u001b[0m\u001b[37m\u001b[0m \u001b[1m1s\u001b[0m 4ms/step - binary_crossentropy: 0.0160 - logloss: 0.0161 - loss: 0.0193 - val_binary_crossentropy: 0.0158 - val_logloss: 0.0158 - val_loss: 0.0190 - learning_rate: 0.0011\n",
      "Epoch 21/192\n",
      "\u001b[1m160/160\u001b[0m \u001b[32m━━━━━━━━━━━━━━━━━━━━\u001b[0m\u001b[37m\u001b[0m \u001b[1m1s\u001b[0m 4ms/step - binary_crossentropy: 0.0161 - logloss: 0.0161 - loss: 0.0194 - val_binary_crossentropy: 0.0157 - val_logloss: 0.0158 - val_loss: 0.0189 - learning_rate: 0.0012\n",
      "Epoch 22/192\n",
      "\u001b[1m160/160\u001b[0m \u001b[32m━━━━━━━━━━━━━━━━━━━━\u001b[0m\u001b[37m\u001b[0m \u001b[1m1s\u001b[0m 4ms/step - binary_crossentropy: 0.0161 - logloss: 0.0161 - loss: 0.0194 - val_binary_crossentropy: 0.0157 - val_logloss: 0.0158 - val_loss: 0.0190 - learning_rate: 0.0013\n",
      "Epoch 23/192\n",
      "\u001b[1m160/160\u001b[0m \u001b[32m━━━━━━━━━━━━━━━━━━━━\u001b[0m\u001b[37m\u001b[0m \u001b[1m1s\u001b[0m 4ms/step - binary_crossentropy: 0.0161 - logloss: 0.0161 - loss: 0.0194 - val_binary_crossentropy: 0.0158 - val_logloss: 0.0158 - val_loss: 0.0190 - learning_rate: 0.0014\n",
      "Epoch 24/192\n",
      "\u001b[1m160/160\u001b[0m \u001b[32m━━━━━━━━━━━━━━━━━━━━\u001b[0m\u001b[37m\u001b[0m \u001b[1m1s\u001b[0m 4ms/step - binary_crossentropy: 0.0161 - logloss: 0.0162 - loss: 0.0194 - val_binary_crossentropy: 0.0159 - val_logloss: 0.0159 - val_loss: 0.0191 - learning_rate: 0.0016\n",
      "Epoch 1/192\n",
      "\u001b[1m 33/160\u001b[0m \u001b[32m━━━━\u001b[0m\u001b[37m━━━━━━━━━━━━━━━━\u001b[0m \u001b[1m0s\u001b[0m 5ms/step - binary_crossentropy: 0.0164 - logloss: 0.0165 - loss: 0.0197"
     ]
    },
    {
     "name": "stderr",
     "output_type": "stream",
     "text": [
      "W0000 00:00:1716234275.177087      70 graph_launch.cc:671] Fallback to op-by-op mode because memset node breaks graph update\n"
     ]
    },
    {
     "name": "stdout",
     "output_type": "stream",
     "text": [
      "\u001b[1m160/160\u001b[0m \u001b[32m━━━━━━━━━━━━━━━━━━━━\u001b[0m\u001b[37m\u001b[0m \u001b[1m0s\u001b[0m 49ms/step - binary_crossentropy: 0.0162 - logloss: 0.0162 - loss: 0.0194"
     ]
    },
    {
     "name": "stderr",
     "output_type": "stream",
     "text": [
      "W0000 00:00:1716234283.037647      70 graph_launch.cc:671] Fallback to op-by-op mode because memset node breaks graph update\n",
      "W0000 00:00:1716234283.729252      73 graph_launch.cc:671] Fallback to op-by-op mode because memset node breaks graph update\n"
     ]
    },
    {
     "name": "stdout",
     "output_type": "stream",
     "text": [
      "\u001b[1m160/160\u001b[0m \u001b[32m━━━━━━━━━━━━━━━━━━━━\u001b[0m\u001b[37m\u001b[0m \u001b[1m19s\u001b[0m 56ms/step - binary_crossentropy: 0.0162 - logloss: 0.0162 - loss: 0.0194 - val_binary_crossentropy: 0.0158 - val_logloss: 0.0159 - val_loss: 0.0190\n",
      "Epoch 2/192\n",
      "\u001b[1m 34/160\u001b[0m \u001b[32m━━━━\u001b[0m\u001b[37m━━━━━━━━━━━━━━━━\u001b[0m \u001b[1m0s\u001b[0m 5ms/step - binary_crossentropy: 0.0162 - logloss: 0.0163 - loss: 0.0195"
     ]
    },
    {
     "name": "stderr",
     "output_type": "stream",
     "text": [
      "W0000 00:00:1716234284.113251      73 graph_launch.cc:671] Fallback to op-by-op mode because memset node breaks graph update\n"
     ]
    },
    {
     "name": "stdout",
     "output_type": "stream",
     "text": [
      "\u001b[1m160/160\u001b[0m \u001b[32m━━━━━━━━━━━━━━━━━━━━\u001b[0m\u001b[37m\u001b[0m \u001b[1m1s\u001b[0m 5ms/step - binary_crossentropy: 0.0160 - logloss: 0.0160 - loss: 0.0193 - val_binary_crossentropy: 0.0158 - val_logloss: 0.0158 - val_loss: 0.0190\n",
      "Epoch 3/192\n",
      "\u001b[1m160/160\u001b[0m \u001b[32m━━━━━━━━━━━━━━━━━━━━\u001b[0m\u001b[37m\u001b[0m \u001b[1m1s\u001b[0m 5ms/step - binary_crossentropy: 0.0160 - logloss: 0.0160 - loss: 0.0193 - val_binary_crossentropy: 0.0158 - val_logloss: 0.0158 - val_loss: 0.0190\n",
      "Epoch 4/192\n",
      "\u001b[1m160/160\u001b[0m \u001b[32m━━━━━━━━━━━━━━━━━━━━\u001b[0m\u001b[37m\u001b[0m \u001b[1m1s\u001b[0m 4ms/step - binary_crossentropy: 0.0160 - logloss: 0.0160 - loss: 0.0193 - val_binary_crossentropy: 0.0158 - val_logloss: 0.0158 - val_loss: 0.0189\n",
      "Epoch 5/192\n",
      "\u001b[1m160/160\u001b[0m \u001b[32m━━━━━━━━━━━━━━━━━━━━\u001b[0m\u001b[37m\u001b[0m \u001b[1m1s\u001b[0m 4ms/step - binary_crossentropy: 0.0161 - logloss: 0.0161 - loss: 0.0193 - val_binary_crossentropy: 0.0158 - val_logloss: 0.0158 - val_loss: 0.0189\n",
      "\u001b[1m103/107\u001b[0m \u001b[32m━━━━━━━━━━━━━━━━━━━\u001b[0m\u001b[37m━\u001b[0m \u001b[1m0s\u001b[0m 1ms/step"
     ]
    },
    {
     "name": "stderr",
     "output_type": "stream",
     "text": [
      "W0000 00:00:1716234287.526289      73 graph_launch.cc:671] Fallback to op-by-op mode because memset node breaks graph update\n"
     ]
    },
    {
     "name": "stdout",
     "output_type": "stream",
     "text": [
      "\u001b[1m107/107\u001b[0m \u001b[32m━━━━━━━━━━━━━━━━━━━━\u001b[0m\u001b[37m\u001b[0m \u001b[1m1s\u001b[0m 4ms/step\n",
      "\u001b[1m125/125\u001b[0m \u001b[32m━━━━━━━━━━━━━━━━━━━━\u001b[0m\u001b[37m\u001b[0m \u001b[1m0s\u001b[0m 2ms/step\n",
      "Epoch 1/192\n",
      "\u001b[1m 34/160\u001b[0m \u001b[32m━━━━\u001b[0m\u001b[37m━━━━━━━━━━━━━━━━\u001b[0m \u001b[1m0s\u001b[0m 5ms/step - binary_crossentropy: 0.0262 - logloss: 0.0261 - loss: 0.0294"
     ]
    },
    {
     "name": "stderr",
     "output_type": "stream",
     "text": [
      "W0000 00:00:1716234300.963170      70 graph_launch.cc:671] Fallback to op-by-op mode because memset node breaks graph update\n"
     ]
    },
    {
     "name": "stdout",
     "output_type": "stream",
     "text": [
      "\u001b[1m160/160\u001b[0m \u001b[32m━━━━━━━━━━━━━━━━━━━━\u001b[0m\u001b[37m\u001b[0m \u001b[1m0s\u001b[0m 50ms/step - binary_crossentropy: 0.0238 - logloss: 0.0237 - loss: 0.0270"
     ]
    },
    {
     "name": "stderr",
     "output_type": "stream",
     "text": [
      "W0000 00:00:1716234308.848365      72 graph_launch.cc:671] Fallback to op-by-op mode because memset node breaks graph update\n",
      "W0000 00:00:1716234309.515987      70 graph_launch.cc:671] Fallback to op-by-op mode because memset node breaks graph update\n"
     ]
    },
    {
     "name": "stdout",
     "output_type": "stream",
     "text": [
      "\u001b[1m160/160\u001b[0m \u001b[32m━━━━━━━━━━━━━━━━━━━━\u001b[0m\u001b[37m\u001b[0m \u001b[1m19s\u001b[0m 56ms/step - binary_crossentropy: 0.0238 - logloss: 0.0237 - loss: 0.0270 - val_binary_crossentropy: 0.0184 - val_logloss: 0.0184 - val_loss: 0.0216 - learning_rate: 3.2250e-04\n",
      "Epoch 2/192\n",
      "\u001b[1m 34/160\u001b[0m \u001b[32m━━━━\u001b[0m\u001b[37m━━━━━━━━━━━━━━━━\u001b[0m \u001b[1m0s\u001b[0m 5ms/step - binary_crossentropy: 0.0197 - logloss: 0.0197 - loss: 0.0229"
     ]
    },
    {
     "name": "stderr",
     "output_type": "stream",
     "text": [
      "W0000 00:00:1716234309.905137      73 graph_launch.cc:671] Fallback to op-by-op mode because memset node breaks graph update\n"
     ]
    },
    {
     "name": "stdout",
     "output_type": "stream",
     "text": [
      "\u001b[1m160/160\u001b[0m \u001b[32m━━━━━━━━━━━━━━━━━━━━\u001b[0m\u001b[37m\u001b[0m \u001b[1m1s\u001b[0m 5ms/step - binary_crossentropy: 0.0194 - logloss: 0.0194 - loss: 0.0226 - val_binary_crossentropy: 0.0178 - val_logloss: 0.0178 - val_loss: 0.0209 - learning_rate: 6.3500e-04\n",
      "Epoch 3/192\n",
      "\u001b[1m160/160\u001b[0m \u001b[32m━━━━━━━━━━━━━━━━━━━━\u001b[0m\u001b[37m\u001b[0m \u001b[1m1s\u001b[0m 4ms/step - binary_crossentropy: 0.0181 - logloss: 0.0181 - loss: 0.0214 - val_binary_crossentropy: 0.0173 - val_logloss: 0.0173 - val_loss: 0.0204 - learning_rate: 9.4750e-04\n",
      "Epoch 4/192\n",
      "\u001b[1m160/160\u001b[0m \u001b[32m━━━━━━━━━━━━━━━━━━━━\u001b[0m\u001b[37m\u001b[0m \u001b[1m1s\u001b[0m 4ms/step - binary_crossentropy: 0.0176 - logloss: 0.0176 - loss: 0.0208 - val_binary_crossentropy: 0.0172 - val_logloss: 0.0172 - val_loss: 0.0204 - learning_rate: 0.0013\n",
      "Epoch 5/192\n",
      "\u001b[1m160/160\u001b[0m \u001b[32m━━━━━━━━━━━━━━━━━━━━\u001b[0m\u001b[37m\u001b[0m \u001b[1m1s\u001b[0m 4ms/step - binary_crossentropy: 0.0174 - logloss: 0.0173 - loss: 0.0207 - val_binary_crossentropy: 0.0168 - val_logloss: 0.0169 - val_loss: 0.0201 - learning_rate: 0.0016\n",
      "Epoch 6/192\n",
      "\u001b[1m160/160\u001b[0m \u001b[32m━━━━━━━━━━━━━━━━━━━━\u001b[0m\u001b[37m\u001b[0m \u001b[1m1s\u001b[0m 4ms/step - binary_crossentropy: 0.0171 - logloss: 0.0171 - loss: 0.0205 - val_binary_crossentropy: 0.0172 - val_logloss: 0.0172 - val_loss: 0.0205 - learning_rate: 0.0019\n",
      "Epoch 7/192\n",
      "\u001b[1m160/160\u001b[0m \u001b[32m━━━━━━━━━━━━━━━━━━━━\u001b[0m\u001b[37m\u001b[0m \u001b[1m1s\u001b[0m 4ms/step - binary_crossentropy: 0.0171 - logloss: 0.0171 - loss: 0.0205 - val_binary_crossentropy: 0.0166 - val_logloss: 0.0166 - val_loss: 0.0199 - learning_rate: 0.0022\n",
      "Epoch 8/192\n",
      "\u001b[1m160/160\u001b[0m \u001b[32m━━━━━━━━━━━━━━━━━━━━\u001b[0m\u001b[37m\u001b[0m \u001b[1m1s\u001b[0m 4ms/step - binary_crossentropy: 0.0170 - logloss: 0.0170 - loss: 0.0204 - val_binary_crossentropy: 0.0173 - val_logloss: 0.0173 - val_loss: 0.0206 - learning_rate: 0.0025\n",
      "Epoch 9/192\n",
      "\u001b[1m160/160\u001b[0m \u001b[32m━━━━━━━━━━━━━━━━━━━━\u001b[0m\u001b[37m\u001b[0m \u001b[1m1s\u001b[0m 4ms/step - binary_crossentropy: 0.0169 - logloss: 0.0169 - loss: 0.0203 - val_binary_crossentropy: 0.0168 - val_logloss: 0.0169 - val_loss: 0.0203 - learning_rate: 0.0028\n",
      "Epoch 10/192\n",
      "\u001b[1m160/160\u001b[0m \u001b[32m━━━━━━━━━━━━━━━━━━━━\u001b[0m\u001b[37m\u001b[0m \u001b[1m1s\u001b[0m 4ms/step - binary_crossentropy: 0.0169 - logloss: 0.0169 - loss: 0.0203 - val_binary_crossentropy: 0.0168 - val_logloss: 0.0168 - val_loss: 0.0201 - learning_rate: 0.0025\n",
      "Epoch 11/192\n",
      "\u001b[1m160/160\u001b[0m \u001b[32m━━━━━━━━━━━━━━━━━━━━\u001b[0m\u001b[37m\u001b[0m \u001b[1m1s\u001b[0m 4ms/step - binary_crossentropy: 0.0167 - logloss: 0.0167 - loss: 0.0200 - val_binary_crossentropy: 0.0165 - val_logloss: 0.0165 - val_loss: 0.0198 - learning_rate: 0.0022\n",
      "Epoch 12/192\n",
      "\u001b[1m160/160\u001b[0m \u001b[32m━━━━━━━━━━━━━━━━━━━━\u001b[0m\u001b[37m\u001b[0m \u001b[1m1s\u001b[0m 4ms/step - binary_crossentropy: 0.0166 - logloss: 0.0166 - loss: 0.0199 - val_binary_crossentropy: 0.0164 - val_logloss: 0.0165 - val_loss: 0.0197 - learning_rate: 0.0019\n",
      "Epoch 13/192\n",
      "\u001b[1m160/160\u001b[0m \u001b[32m━━━━━━━━━━━━━━━━━━━━\u001b[0m\u001b[37m\u001b[0m \u001b[1m1s\u001b[0m 4ms/step - binary_crossentropy: 0.0164 - logloss: 0.0165 - loss: 0.0197 - val_binary_crossentropy: 0.0162 - val_logloss: 0.0162 - val_loss: 0.0195 - learning_rate: 0.0016\n",
      "Epoch 14/192\n",
      "\u001b[1m160/160\u001b[0m \u001b[32m━━━━━━━━━━━━━━━━━━━━\u001b[0m\u001b[37m\u001b[0m \u001b[1m1s\u001b[0m 4ms/step - binary_crossentropy: 0.0164 - logloss: 0.0164 - loss: 0.0197 - val_binary_crossentropy: 0.0161 - val_logloss: 0.0162 - val_loss: 0.0194 - learning_rate: 0.0013\n",
      "Epoch 15/192\n",
      "\u001b[1m160/160\u001b[0m \u001b[32m━━━━━━━━━━━━━━━━━━━━\u001b[0m\u001b[37m\u001b[0m \u001b[1m1s\u001b[0m 4ms/step - binary_crossentropy: 0.0162 - logloss: 0.0162 - loss: 0.0195 - val_binary_crossentropy: 0.0160 - val_logloss: 0.0161 - val_loss: 0.0193 - learning_rate: 9.4750e-04\n",
      "Epoch 16/192\n",
      "\u001b[1m160/160\u001b[0m \u001b[32m━━━━━━━━━━━━━━━━━━━━\u001b[0m\u001b[37m\u001b[0m \u001b[1m1s\u001b[0m 4ms/step - binary_crossentropy: 0.0161 - logloss: 0.0161 - loss: 0.0194 - val_binary_crossentropy: 0.0160 - val_logloss: 0.0160 - val_loss: 0.0192 - learning_rate: 6.3500e-04\n",
      "Epoch 17/192\n",
      "\u001b[1m160/160\u001b[0m \u001b[32m━━━━━━━━━━━━━━━━━━━━\u001b[0m\u001b[37m\u001b[0m \u001b[1m1s\u001b[0m 4ms/step - binary_crossentropy: 0.0161 - logloss: 0.0161 - loss: 0.0194 - val_binary_crossentropy: 0.0159 - val_logloss: 0.0159 - val_loss: 0.0191 - learning_rate: 7.4996e-04\n",
      "Epoch 18/192\n",
      "\u001b[1m160/160\u001b[0m \u001b[32m━━━━━━━━━━━━━━━━━━━━\u001b[0m\u001b[37m\u001b[0m \u001b[1m1s\u001b[0m 4ms/step - binary_crossentropy: 0.0160 - logloss: 0.0161 - loss: 0.0193 - val_binary_crossentropy: 0.0160 - val_logloss: 0.0160 - val_loss: 0.0192 - learning_rate: 8.6492e-04\n",
      "Epoch 19/192\n",
      "\u001b[1m160/160\u001b[0m \u001b[32m━━━━━━━━━━━━━━━━━━━━\u001b[0m\u001b[37m\u001b[0m \u001b[1m1s\u001b[0m 4ms/step - binary_crossentropy: 0.0161 - logloss: 0.0161 - loss: 0.0194 - val_binary_crossentropy: 0.0158 - val_logloss: 0.0159 - val_loss: 0.0191 - learning_rate: 9.7989e-04\n",
      "Epoch 20/192\n",
      "\u001b[1m160/160\u001b[0m \u001b[32m━━━━━━━━━━━━━━━━━━━━\u001b[0m\u001b[37m\u001b[0m \u001b[1m1s\u001b[0m 4ms/step - binary_crossentropy: 0.0160 - logloss: 0.0160 - loss: 0.0193 - val_binary_crossentropy: 0.0160 - val_logloss: 0.0160 - val_loss: 0.0192 - learning_rate: 0.0011\n",
      "Epoch 21/192\n",
      "\u001b[1m160/160\u001b[0m \u001b[32m━━━━━━━━━━━━━━━━━━━━\u001b[0m\u001b[37m\u001b[0m \u001b[1m1s\u001b[0m 4ms/step - binary_crossentropy: 0.0160 - logloss: 0.0161 - loss: 0.0193 - val_binary_crossentropy: 0.0159 - val_logloss: 0.0159 - val_loss: 0.0192 - learning_rate: 0.0012\n",
      "Epoch 22/192\n",
      "\u001b[1m160/160\u001b[0m \u001b[32m━━━━━━━━━━━━━━━━━━━━\u001b[0m\u001b[37m\u001b[0m \u001b[1m1s\u001b[0m 4ms/step - binary_crossentropy: 0.0160 - logloss: 0.0161 - loss: 0.0194 - val_binary_crossentropy: 0.0161 - val_logloss: 0.0161 - val_loss: 0.0193 - learning_rate: 0.0013\n",
      "Epoch 23/192\n",
      "\u001b[1m160/160\u001b[0m \u001b[32m━━━━━━━━━━━━━━━━━━━━\u001b[0m\u001b[37m\u001b[0m \u001b[1m1s\u001b[0m 4ms/step - binary_crossentropy: 0.0161 - logloss: 0.0161 - loss: 0.0194 - val_binary_crossentropy: 0.0160 - val_logloss: 0.0160 - val_loss: 0.0192 - learning_rate: 0.0014\n",
      "Epoch 24/192\n",
      "\u001b[1m160/160\u001b[0m \u001b[32m━━━━━━━━━━━━━━━━━━━━\u001b[0m\u001b[37m\u001b[0m \u001b[1m1s\u001b[0m 4ms/step - binary_crossentropy: 0.0161 - logloss: 0.0161 - loss: 0.0194 - val_binary_crossentropy: 0.0160 - val_logloss: 0.0160 - val_loss: 0.0192 - learning_rate: 0.0016\n",
      "Epoch 1/192\n",
      "\u001b[1m 33/160\u001b[0m \u001b[32m━━━━\u001b[0m\u001b[37m━━━━━━━━━━━━━━━━\u001b[0m \u001b[1m0s\u001b[0m 5ms/step - binary_crossentropy: 0.0161 - logloss: 0.0162 - loss: 0.0194"
     ]
    },
    {
     "name": "stderr",
     "output_type": "stream",
     "text": [
      "W0000 00:00:1716234336.722305      71 graph_launch.cc:671] Fallback to op-by-op mode because memset node breaks graph update\n"
     ]
    },
    {
     "name": "stdout",
     "output_type": "stream",
     "text": [
      "\u001b[1m160/160\u001b[0m \u001b[32m━━━━━━━━━━━━━━━━━━━━\u001b[0m\u001b[37m\u001b[0m \u001b[1m0s\u001b[0m 50ms/step - binary_crossentropy: 0.0161 - logloss: 0.0161 - loss: 0.0194"
     ]
    },
    {
     "name": "stderr",
     "output_type": "stream",
     "text": [
      "W0000 00:00:1716234344.664646      71 graph_launch.cc:671] Fallback to op-by-op mode because memset node breaks graph update\n",
      "W0000 00:00:1716234345.321221      73 graph_launch.cc:671] Fallback to op-by-op mode because memset node breaks graph update\n"
     ]
    },
    {
     "name": "stdout",
     "output_type": "stream",
     "text": [
      "\u001b[1m160/160\u001b[0m \u001b[32m━━━━━━━━━━━━━━━━━━━━\u001b[0m\u001b[37m\u001b[0m \u001b[1m19s\u001b[0m 56ms/step - binary_crossentropy: 0.0161 - logloss: 0.0161 - loss: 0.0194 - val_binary_crossentropy: 0.0159 - val_logloss: 0.0160 - val_loss: 0.0192\n",
      "Epoch 2/192\n",
      "\u001b[1m 34/160\u001b[0m \u001b[32m━━━━\u001b[0m\u001b[37m━━━━━━━━━━━━━━━━\u001b[0m \u001b[1m0s\u001b[0m 5ms/step - binary_crossentropy: 0.0160 - logloss: 0.0161 - loss: 0.0193"
     ]
    },
    {
     "name": "stderr",
     "output_type": "stream",
     "text": [
      "W0000 00:00:1716234345.695816      73 graph_launch.cc:671] Fallback to op-by-op mode because memset node breaks graph update\n"
     ]
    },
    {
     "name": "stdout",
     "output_type": "stream",
     "text": [
      "\u001b[1m160/160\u001b[0m \u001b[32m━━━━━━━━━━━━━━━━━━━━\u001b[0m\u001b[37m\u001b[0m \u001b[1m1s\u001b[0m 5ms/step - binary_crossentropy: 0.0161 - logloss: 0.0161 - loss: 0.0194 - val_binary_crossentropy: 0.0159 - val_logloss: 0.0160 - val_loss: 0.0191\n",
      "Epoch 3/192\n",
      "\u001b[1m160/160\u001b[0m \u001b[32m━━━━━━━━━━━━━━━━━━━━\u001b[0m\u001b[37m\u001b[0m \u001b[1m1s\u001b[0m 4ms/step - binary_crossentropy: 0.0160 - logloss: 0.0160 - loss: 0.0193 - val_binary_crossentropy: 0.0159 - val_logloss: 0.0159 - val_loss: 0.0191\n",
      "Epoch 4/192\n",
      "\u001b[1m160/160\u001b[0m \u001b[32m━━━━━━━━━━━━━━━━━━━━\u001b[0m\u001b[37m\u001b[0m \u001b[1m1s\u001b[0m 4ms/step - binary_crossentropy: 0.0160 - logloss: 0.0161 - loss: 0.0193 - val_binary_crossentropy: 0.0159 - val_logloss: 0.0159 - val_loss: 0.0191\n",
      "Epoch 5/192\n",
      "\u001b[1m160/160\u001b[0m \u001b[32m━━━━━━━━━━━━━━━━━━━━\u001b[0m\u001b[37m\u001b[0m \u001b[1m1s\u001b[0m 4ms/step - binary_crossentropy: 0.0160 - logloss: 0.0160 - loss: 0.0193 - val_binary_crossentropy: 0.0159 - val_logloss: 0.0159 - val_loss: 0.0191\n",
      "\u001b[1m103/107\u001b[0m \u001b[32m━━━━━━━━━━━━━━━━━━━\u001b[0m\u001b[37m━\u001b[0m \u001b[1m0s\u001b[0m 2ms/step"
     ]
    },
    {
     "name": "stderr",
     "output_type": "stream",
     "text": [
      "W0000 00:00:1716234349.120848      72 graph_launch.cc:671] Fallback to op-by-op mode because memset node breaks graph update\n"
     ]
    },
    {
     "name": "stdout",
     "output_type": "stream",
     "text": [
      "\u001b[1m107/107\u001b[0m \u001b[32m━━━━━━━━━━━━━━━━━━━━\u001b[0m\u001b[37m\u001b[0m \u001b[1m1s\u001b[0m 4ms/step\n",
      "\u001b[1m125/125\u001b[0m \u001b[32m━━━━━━━━━━━━━━━━━━━━\u001b[0m\u001b[37m\u001b[0m \u001b[1m0s\u001b[0m 3ms/step\n",
      "Epoch 1/192\n",
      "\u001b[1m 32/160\u001b[0m \u001b[32m━━━━\u001b[0m\u001b[37m━━━━━━━━━━━━━━━━\u001b[0m \u001b[1m0s\u001b[0m 5ms/step - binary_crossentropy: 0.0269 - logloss: 0.0268 - loss: 0.0300"
     ]
    },
    {
     "name": "stderr",
     "output_type": "stream",
     "text": [
      "W0000 00:00:1716234361.475779      71 graph_launch.cc:671] Fallback to op-by-op mode because memset node breaks graph update\n"
     ]
    },
    {
     "name": "stdout",
     "output_type": "stream",
     "text": [
      "\u001b[1m160/160\u001b[0m \u001b[32m━━━━━━━━━━━━━━━━━━━━\u001b[0m\u001b[37m\u001b[0m \u001b[1m0s\u001b[0m 49ms/step - binary_crossentropy: 0.0240 - logloss: 0.0239 - loss: 0.0271"
     ]
    },
    {
     "name": "stderr",
     "output_type": "stream",
     "text": [
      "W0000 00:00:1716234369.316015      73 graph_launch.cc:671] Fallback to op-by-op mode because memset node breaks graph update\n",
      "W0000 00:00:1716234369.970869      73 graph_launch.cc:671] Fallback to op-by-op mode because memset node breaks graph update\n"
     ]
    },
    {
     "name": "stdout",
     "output_type": "stream",
     "text": [
      "\u001b[1m160/160\u001b[0m \u001b[32m━━━━━━━━━━━━━━━━━━━━\u001b[0m\u001b[37m\u001b[0m \u001b[1m20s\u001b[0m 56ms/step - binary_crossentropy: 0.0240 - logloss: 0.0239 - loss: 0.0271 - val_binary_crossentropy: 0.0182 - val_logloss: 0.0182 - val_loss: 0.0215 - learning_rate: 3.2250e-04\n",
      "Epoch 2/192\n",
      "\u001b[1m 23/160\u001b[0m \u001b[32m━━\u001b[0m\u001b[37m━━━━━━━━━━━━━━━━━━\u001b[0m \u001b[1m0s\u001b[0m 5ms/step - binary_crossentropy: 0.0202 - logloss: 0.0201 - loss: 0.0234"
     ]
    },
    {
     "name": "stderr",
     "output_type": "stream",
     "text": [
      "W0000 00:00:1716234370.358485      73 graph_launch.cc:671] Fallback to op-by-op mode because memset node breaks graph update\n"
     ]
    },
    {
     "name": "stdout",
     "output_type": "stream",
     "text": [
      "\u001b[1m160/160\u001b[0m \u001b[32m━━━━━━━━━━━━━━━━━━━━\u001b[0m\u001b[37m\u001b[0m \u001b[1m1s\u001b[0m 5ms/step - binary_crossentropy: 0.0195 - logloss: 0.0194 - loss: 0.0226 - val_binary_crossentropy: 0.0177 - val_logloss: 0.0177 - val_loss: 0.0208 - learning_rate: 6.3500e-04\n",
      "Epoch 3/192\n",
      "\u001b[1m160/160\u001b[0m \u001b[32m━━━━━━━━━━━━━━━━━━━━\u001b[0m\u001b[37m\u001b[0m \u001b[1m1s\u001b[0m 4ms/step - binary_crossentropy: 0.0182 - logloss: 0.0182 - loss: 0.0215 - val_binary_crossentropy: 0.0171 - val_logloss: 0.0171 - val_loss: 0.0203 - learning_rate: 9.4750e-04\n",
      "Epoch 4/192\n",
      "\u001b[1m160/160\u001b[0m \u001b[32m━━━━━━━━━━━━━━━━━━━━\u001b[0m\u001b[37m\u001b[0m \u001b[1m1s\u001b[0m 4ms/step - binary_crossentropy: 0.0178 - logloss: 0.0177 - loss: 0.0210 - val_binary_crossentropy: 0.0169 - val_logloss: 0.0169 - val_loss: 0.0202 - learning_rate: 0.0013\n",
      "Epoch 5/192\n",
      "\u001b[1m160/160\u001b[0m \u001b[32m━━━━━━━━━━━━━━━━━━━━\u001b[0m\u001b[37m\u001b[0m \u001b[1m1s\u001b[0m 4ms/step - binary_crossentropy: 0.0175 - logloss: 0.0175 - loss: 0.0208 - val_binary_crossentropy: 0.0168 - val_logloss: 0.0168 - val_loss: 0.0201 - learning_rate: 0.0016\n",
      "Epoch 6/192\n",
      "\u001b[1m160/160\u001b[0m \u001b[32m━━━━━━━━━━━━━━━━━━━━\u001b[0m\u001b[37m\u001b[0m \u001b[1m1s\u001b[0m 4ms/step - binary_crossentropy: 0.0174 - logloss: 0.0174 - loss: 0.0207 - val_binary_crossentropy: 0.0168 - val_logloss: 0.0167 - val_loss: 0.0202 - learning_rate: 0.0019\n",
      "Epoch 7/192\n",
      "\u001b[1m160/160\u001b[0m \u001b[32m━━━━━━━━━━━━━━━━━━━━\u001b[0m\u001b[37m\u001b[0m \u001b[1m1s\u001b[0m 4ms/step - binary_crossentropy: 0.0172 - logloss: 0.0172 - loss: 0.0206 - val_binary_crossentropy: 0.0165 - val_logloss: 0.0165 - val_loss: 0.0198 - learning_rate: 0.0022\n",
      "Epoch 8/192\n",
      "\u001b[1m160/160\u001b[0m \u001b[32m━━━━━━━━━━━━━━━━━━━━\u001b[0m\u001b[37m\u001b[0m \u001b[1m1s\u001b[0m 4ms/step - binary_crossentropy: 0.0172 - logloss: 0.0171 - loss: 0.0205 - val_binary_crossentropy: 0.0170 - val_logloss: 0.0170 - val_loss: 0.0204 - learning_rate: 0.0025\n",
      "Epoch 9/192\n",
      "\u001b[1m160/160\u001b[0m \u001b[32m━━━━━━━━━━━━━━━━━━━━\u001b[0m\u001b[37m\u001b[0m \u001b[1m1s\u001b[0m 4ms/step - binary_crossentropy: 0.0171 - logloss: 0.0171 - loss: 0.0205 - val_binary_crossentropy: 0.0166 - val_logloss: 0.0166 - val_loss: 0.0202 - learning_rate: 0.0028\n",
      "Epoch 10/192\n",
      "\u001b[1m160/160\u001b[0m \u001b[32m━━━━━━━━━━━━━━━━━━━━\u001b[0m\u001b[37m\u001b[0m \u001b[1m1s\u001b[0m 4ms/step - binary_crossentropy: 0.0169 - logloss: 0.0169 - loss: 0.0203 - val_binary_crossentropy: 0.0164 - val_logloss: 0.0164 - val_loss: 0.0198 - learning_rate: 0.0025\n",
      "Epoch 11/192\n",
      "\u001b[1m160/160\u001b[0m \u001b[32m━━━━━━━━━━━━━━━━━━━━\u001b[0m\u001b[37m\u001b[0m \u001b[1m1s\u001b[0m 4ms/step - binary_crossentropy: 0.0169 - logloss: 0.0169 - loss: 0.0202 - val_binary_crossentropy: 0.0163 - val_logloss: 0.0163 - val_loss: 0.0196 - learning_rate: 0.0022\n",
      "Epoch 12/192\n",
      "\u001b[1m160/160\u001b[0m \u001b[32m━━━━━━━━━━━━━━━━━━━━\u001b[0m\u001b[37m\u001b[0m \u001b[1m1s\u001b[0m 4ms/step - binary_crossentropy: 0.0167 - logloss: 0.0167 - loss: 0.0200 - val_binary_crossentropy: 0.0161 - val_logloss: 0.0161 - val_loss: 0.0194 - learning_rate: 0.0019\n",
      "Epoch 13/192\n",
      "\u001b[1m160/160\u001b[0m \u001b[32m━━━━━━━━━━━━━━━━━━━━\u001b[0m\u001b[37m\u001b[0m \u001b[1m1s\u001b[0m 4ms/step - binary_crossentropy: 0.0166 - logloss: 0.0166 - loss: 0.0199 - val_binary_crossentropy: 0.0159 - val_logloss: 0.0160 - val_loss: 0.0192 - learning_rate: 0.0016\n",
      "Epoch 14/192\n",
      "\u001b[1m160/160\u001b[0m \u001b[32m━━━━━━━━━━━━━━━━━━━━\u001b[0m\u001b[37m\u001b[0m \u001b[1m1s\u001b[0m 4ms/step - binary_crossentropy: 0.0164 - logloss: 0.0164 - loss: 0.0197 - val_binary_crossentropy: 0.0158 - val_logloss: 0.0158 - val_loss: 0.0191 - learning_rate: 0.0013\n",
      "Epoch 15/192\n",
      "\u001b[1m160/160\u001b[0m \u001b[32m━━━━━━━━━━━━━━━━━━━━\u001b[0m\u001b[37m\u001b[0m \u001b[1m1s\u001b[0m 4ms/step - binary_crossentropy: 0.0163 - logloss: 0.0163 - loss: 0.0196 - val_binary_crossentropy: 0.0158 - val_logloss: 0.0158 - val_loss: 0.0190 - learning_rate: 9.4750e-04\n",
      "Epoch 16/192\n",
      "\u001b[1m160/160\u001b[0m \u001b[32m━━━━━━━━━━━━━━━━━━━━\u001b[0m\u001b[37m\u001b[0m \u001b[1m1s\u001b[0m 4ms/step - binary_crossentropy: 0.0163 - logloss: 0.0163 - loss: 0.0196 - val_binary_crossentropy: 0.0157 - val_logloss: 0.0158 - val_loss: 0.0189 - learning_rate: 6.3500e-04\n",
      "Epoch 17/192\n",
      "\u001b[1m160/160\u001b[0m \u001b[32m━━━━━━━━━━━━━━━━━━━━\u001b[0m\u001b[37m\u001b[0m \u001b[1m1s\u001b[0m 4ms/step - binary_crossentropy: 0.0162 - logloss: 0.0162 - loss: 0.0195 - val_binary_crossentropy: 0.0156 - val_logloss: 0.0157 - val_loss: 0.0189 - learning_rate: 7.4996e-04\n",
      "Epoch 18/192\n",
      "\u001b[1m160/160\u001b[0m \u001b[32m━━━━━━━━━━━━━━━━━━━━\u001b[0m\u001b[37m\u001b[0m \u001b[1m1s\u001b[0m 4ms/step - binary_crossentropy: 0.0161 - logloss: 0.0162 - loss: 0.0194 - val_binary_crossentropy: 0.0156 - val_logloss: 0.0157 - val_loss: 0.0189 - learning_rate: 8.6492e-04\n",
      "Epoch 19/192\n",
      "\u001b[1m160/160\u001b[0m \u001b[32m━━━━━━━━━━━━━━━━━━━━\u001b[0m\u001b[37m\u001b[0m \u001b[1m1s\u001b[0m 4ms/step - binary_crossentropy: 0.0161 - logloss: 0.0161 - loss: 0.0194 - val_binary_crossentropy: 0.0157 - val_logloss: 0.0158 - val_loss: 0.0189 - learning_rate: 9.7989e-04\n",
      "Epoch 20/192\n",
      "\u001b[1m160/160\u001b[0m \u001b[32m━━━━━━━━━━━━━━━━━━━━\u001b[0m\u001b[37m\u001b[0m \u001b[1m1s\u001b[0m 4ms/step - binary_crossentropy: 0.0161 - logloss: 0.0161 - loss: 0.0194 - val_binary_crossentropy: 0.0156 - val_logloss: 0.0156 - val_loss: 0.0188 - learning_rate: 0.0011\n",
      "Epoch 21/192\n",
      "\u001b[1m160/160\u001b[0m \u001b[32m━━━━━━━━━━━━━━━━━━━━\u001b[0m\u001b[37m\u001b[0m \u001b[1m1s\u001b[0m 4ms/step - binary_crossentropy: 0.0161 - logloss: 0.0162 - loss: 0.0195 - val_binary_crossentropy: 0.0156 - val_logloss: 0.0157 - val_loss: 0.0189 - learning_rate: 0.0012\n",
      "Epoch 22/192\n",
      "\u001b[1m160/160\u001b[0m \u001b[32m━━━━━━━━━━━━━━━━━━━━\u001b[0m\u001b[37m\u001b[0m \u001b[1m1s\u001b[0m 4ms/step - binary_crossentropy: 0.0162 - logloss: 0.0162 - loss: 0.0195 - val_binary_crossentropy: 0.0156 - val_logloss: 0.0156 - val_loss: 0.0189 - learning_rate: 0.0013\n",
      "Epoch 23/192\n",
      "\u001b[1m160/160\u001b[0m \u001b[32m━━━━━━━━━━━━━━━━━━━━\u001b[0m\u001b[37m\u001b[0m \u001b[1m1s\u001b[0m 4ms/step - binary_crossentropy: 0.0161 - logloss: 0.0162 - loss: 0.0195 - val_binary_crossentropy: 0.0158 - val_logloss: 0.0158 - val_loss: 0.0190 - learning_rate: 0.0014\n",
      "Epoch 24/192\n",
      "\u001b[1m160/160\u001b[0m \u001b[32m━━━━━━━━━━━━━━━━━━━━\u001b[0m\u001b[37m\u001b[0m \u001b[1m1s\u001b[0m 4ms/step - binary_crossentropy: 0.0163 - logloss: 0.0163 - loss: 0.0196 - val_binary_crossentropy: 0.0158 - val_logloss: 0.0158 - val_loss: 0.0191 - learning_rate: 0.0016\n",
      "Epoch 25/192\n",
      "\u001b[1m160/160\u001b[0m \u001b[32m━━━━━━━━━━━━━━━━━━━━\u001b[0m\u001b[37m\u001b[0m \u001b[1m1s\u001b[0m 4ms/step - binary_crossentropy: 0.0162 - logloss: 0.0163 - loss: 0.0195 - val_binary_crossentropy: 0.0158 - val_logloss: 0.0158 - val_loss: 0.0191 - learning_rate: 0.0017\n",
      "Epoch 1/192\n",
      "\u001b[1m 34/160\u001b[0m \u001b[32m━━━━\u001b[0m\u001b[37m━━━━━━━━━━━━━━━━\u001b[0m \u001b[1m0s\u001b[0m 5ms/step - binary_crossentropy: 0.0163 - logloss: 0.0164 - loss: 0.0196"
     ]
    },
    {
     "name": "stderr",
     "output_type": "stream",
     "text": [
      "W0000 00:00:1716234397.354156      71 graph_launch.cc:671] Fallback to op-by-op mode because memset node breaks graph update\n"
     ]
    },
    {
     "name": "stdout",
     "output_type": "stream",
     "text": [
      "\u001b[1m160/160\u001b[0m \u001b[32m━━━━━━━━━━━━━━━━━━━━\u001b[0m\u001b[37m\u001b[0m \u001b[1m0s\u001b[0m 50ms/step - binary_crossentropy: 0.0161 - logloss: 0.0161 - loss: 0.0194"
     ]
    },
    {
     "name": "stderr",
     "output_type": "stream",
     "text": [
      "W0000 00:00:1716234405.352764      73 graph_launch.cc:671] Fallback to op-by-op mode because memset node breaks graph update\n",
      "W0000 00:00:1716234406.015471      72 graph_launch.cc:671] Fallback to op-by-op mode because memset node breaks graph update\n"
     ]
    },
    {
     "name": "stdout",
     "output_type": "stream",
     "text": [
      "\u001b[1m160/160\u001b[0m \u001b[32m━━━━━━━━━━━━━━━━━━━━\u001b[0m\u001b[37m\u001b[0m \u001b[1m19s\u001b[0m 57ms/step - binary_crossentropy: 0.0161 - logloss: 0.0161 - loss: 0.0194 - val_binary_crossentropy: 0.0158 - val_logloss: 0.0158 - val_loss: 0.0190\n",
      "Epoch 2/192\n",
      "\u001b[1m 33/160\u001b[0m \u001b[32m━━━━\u001b[0m\u001b[37m━━━━━━━━━━━━━━━━\u001b[0m \u001b[1m0s\u001b[0m 5ms/step - binary_crossentropy: 0.0164 - logloss: 0.0164 - loss: 0.0197"
     ]
    },
    {
     "name": "stderr",
     "output_type": "stream",
     "text": [
      "W0000 00:00:1716234406.402462      73 graph_launch.cc:671] Fallback to op-by-op mode because memset node breaks graph update\n"
     ]
    },
    {
     "name": "stdout",
     "output_type": "stream",
     "text": [
      "\u001b[1m160/160\u001b[0m \u001b[32m━━━━━━━━━━━━━━━━━━━━\u001b[0m\u001b[37m\u001b[0m \u001b[1m1s\u001b[0m 5ms/step - binary_crossentropy: 0.0161 - logloss: 0.0162 - loss: 0.0194 - val_binary_crossentropy: 0.0157 - val_logloss: 0.0158 - val_loss: 0.0189\n",
      "Epoch 3/192\n",
      "\u001b[1m160/160\u001b[0m \u001b[32m━━━━━━━━━━━━━━━━━━━━\u001b[0m\u001b[37m\u001b[0m \u001b[1m1s\u001b[0m 5ms/step - binary_crossentropy: 0.0161 - logloss: 0.0162 - loss: 0.0194 - val_binary_crossentropy: 0.0157 - val_logloss: 0.0157 - val_loss: 0.0189\n",
      "Epoch 4/192\n",
      "\u001b[1m160/160\u001b[0m \u001b[32m━━━━━━━━━━━━━━━━━━━━\u001b[0m\u001b[37m\u001b[0m \u001b[1m1s\u001b[0m 4ms/step - binary_crossentropy: 0.0161 - logloss: 0.0161 - loss: 0.0194 - val_binary_crossentropy: 0.0157 - val_logloss: 0.0157 - val_loss: 0.0189\n",
      "Epoch 5/192\n",
      "\u001b[1m160/160\u001b[0m \u001b[32m━━━━━━━━━━━━━━━━━━━━\u001b[0m\u001b[37m\u001b[0m \u001b[1m1s\u001b[0m 5ms/step - binary_crossentropy: 0.0161 - logloss: 0.0161 - loss: 0.0194 - val_binary_crossentropy: 0.0157 - val_logloss: 0.0157 - val_loss: 0.0189\n",
      "\u001b[1m 96/107\u001b[0m \u001b[32m━━━━━━━━━━━━━━━━━\u001b[0m\u001b[37m━━━\u001b[0m \u001b[1m0s\u001b[0m 2ms/step"
     ]
    },
    {
     "name": "stderr",
     "output_type": "stream",
     "text": [
      "W0000 00:00:1716234409.970472      73 graph_launch.cc:671] Fallback to op-by-op mode because memset node breaks graph update\n"
     ]
    },
    {
     "name": "stdout",
     "output_type": "stream",
     "text": [
      "\u001b[1m107/107\u001b[0m \u001b[32m━━━━━━━━━━━━━━━━━━━━\u001b[0m\u001b[37m\u001b[0m \u001b[1m1s\u001b[0m 4ms/step\n",
      "\u001b[1m125/125\u001b[0m \u001b[32m━━━━━━━━━━━━━━━━━━━━\u001b[0m\u001b[37m\u001b[0m \u001b[1m0s\u001b[0m 3ms/step\n",
      "Epoch 1/192\n",
      "\u001b[1m 33/160\u001b[0m \u001b[32m━━━━\u001b[0m\u001b[37m━━━━━━━━━━━━━━━━\u001b[0m \u001b[1m0s\u001b[0m 5ms/step - binary_crossentropy: 0.0265 - logloss: 0.0264 - loss: 0.0297"
     ]
    },
    {
     "name": "stderr",
     "output_type": "stream",
     "text": [
      "W0000 00:00:1716234421.572938      70 graph_launch.cc:671] Fallback to op-by-op mode because memset node breaks graph update\n"
     ]
    },
    {
     "name": "stdout",
     "output_type": "stream",
     "text": [
      "\u001b[1m160/160\u001b[0m \u001b[32m━━━━━━━━━━━━━━━━━━━━\u001b[0m\u001b[37m\u001b[0m \u001b[1m0s\u001b[0m 50ms/step - binary_crossentropy: 0.0240 - logloss: 0.0239 - loss: 0.0272"
     ]
    },
    {
     "name": "stderr",
     "output_type": "stream",
     "text": [
      "W0000 00:00:1716234429.470163      72 graph_launch.cc:671] Fallback to op-by-op mode because memset node breaks graph update\n",
      "W0000 00:00:1716234430.220538      72 graph_launch.cc:671] Fallback to op-by-op mode because memset node breaks graph update\n"
     ]
    },
    {
     "name": "stdout",
     "output_type": "stream",
     "text": [
      "\u001b[1m160/160\u001b[0m \u001b[32m━━━━━━━━━━━━━━━━━━━━\u001b[0m\u001b[37m\u001b[0m \u001b[1m19s\u001b[0m 57ms/step - binary_crossentropy: 0.0240 - logloss: 0.0239 - loss: 0.0272 - val_binary_crossentropy: 0.0184 - val_logloss: 0.0184 - val_loss: 0.0216 - learning_rate: 3.2250e-04\n",
      "Epoch 2/192\n",
      "\u001b[1m 21/160\u001b[0m \u001b[32m━━\u001b[0m\u001b[37m━━━━━━━━━━━━━━━━━━\u001b[0m \u001b[1m0s\u001b[0m 5ms/step - binary_crossentropy: 0.0195 - logloss: 0.0195 - loss: 0.0227"
     ]
    },
    {
     "name": "stderr",
     "output_type": "stream",
     "text": [
      "W0000 00:00:1716234430.622158      72 graph_launch.cc:671] Fallback to op-by-op mode because memset node breaks graph update\n"
     ]
    },
    {
     "name": "stdout",
     "output_type": "stream",
     "text": [
      "\u001b[1m160/160\u001b[0m \u001b[32m━━━━━━━━━━━━━━━━━━━━\u001b[0m\u001b[37m\u001b[0m \u001b[1m1s\u001b[0m 5ms/step - binary_crossentropy: 0.0194 - logloss: 0.0194 - loss: 0.0226 - val_binary_crossentropy: 0.0180 - val_logloss: 0.0180 - val_loss: 0.0210 - learning_rate: 6.3500e-04\n",
      "Epoch 3/192\n",
      "\u001b[1m160/160\u001b[0m \u001b[32m━━━━━━━━━━━━━━━━━━━━\u001b[0m\u001b[37m\u001b[0m \u001b[1m1s\u001b[0m 4ms/step - binary_crossentropy: 0.0183 - logloss: 0.0182 - loss: 0.0215 - val_binary_crossentropy: 0.0174 - val_logloss: 0.0174 - val_loss: 0.0205 - learning_rate: 9.4750e-04\n",
      "Epoch 4/192\n",
      "\u001b[1m160/160\u001b[0m \u001b[32m━━━━━━━━━━━━━━━━━━━━\u001b[0m\u001b[37m\u001b[0m \u001b[1m1s\u001b[0m 4ms/step - binary_crossentropy: 0.0176 - logloss: 0.0176 - loss: 0.0209 - val_binary_crossentropy: 0.0171 - val_logloss: 0.0171 - val_loss: 0.0203 - learning_rate: 0.0013\n",
      "Epoch 5/192\n",
      "\u001b[1m160/160\u001b[0m \u001b[32m━━━━━━━━━━━━━━━━━━━━\u001b[0m\u001b[37m\u001b[0m \u001b[1m1s\u001b[0m 4ms/step - binary_crossentropy: 0.0173 - logloss: 0.0174 - loss: 0.0207 - val_binary_crossentropy: 0.0170 - val_logloss: 0.0170 - val_loss: 0.0202 - learning_rate: 0.0016\n",
      "Epoch 6/192\n",
      "\u001b[1m160/160\u001b[0m \u001b[32m━━━━━━━━━━━━━━━━━━━━\u001b[0m\u001b[37m\u001b[0m \u001b[1m1s\u001b[0m 4ms/step - binary_crossentropy: 0.0173 - logloss: 0.0173 - loss: 0.0206 - val_binary_crossentropy: 0.0168 - val_logloss: 0.0167 - val_loss: 0.0202 - learning_rate: 0.0019\n",
      "Epoch 7/192\n",
      "\u001b[1m160/160\u001b[0m \u001b[32m━━━━━━━━━━━━━━━━━━━━\u001b[0m\u001b[37m\u001b[0m \u001b[1m1s\u001b[0m 4ms/step - binary_crossentropy: 0.0172 - logloss: 0.0172 - loss: 0.0205 - val_binary_crossentropy: 0.0168 - val_logloss: 0.0168 - val_loss: 0.0202 - learning_rate: 0.0022\n",
      "Epoch 8/192\n",
      "\u001b[1m160/160\u001b[0m \u001b[32m━━━━━━━━━━━━━━━━━━━━\u001b[0m\u001b[37m\u001b[0m \u001b[1m1s\u001b[0m 4ms/step - binary_crossentropy: 0.0171 - logloss: 0.0171 - loss: 0.0205 - val_binary_crossentropy: 0.0168 - val_logloss: 0.0168 - val_loss: 0.0203 - learning_rate: 0.0025\n",
      "Epoch 9/192\n",
      "\u001b[1m160/160\u001b[0m \u001b[32m━━━━━━━━━━━━━━━━━━━━\u001b[0m\u001b[37m\u001b[0m \u001b[1m1s\u001b[0m 4ms/step - binary_crossentropy: 0.0170 - logloss: 0.0170 - loss: 0.0204 - val_binary_crossentropy: 0.0167 - val_logloss: 0.0167 - val_loss: 0.0200 - learning_rate: 0.0028\n",
      "Epoch 10/192\n",
      "\u001b[1m160/160\u001b[0m \u001b[32m━━━━━━━━━━━━━━━━━━━━\u001b[0m\u001b[37m\u001b[0m \u001b[1m1s\u001b[0m 4ms/step - binary_crossentropy: 0.0170 - logloss: 0.0170 - loss: 0.0204 - val_binary_crossentropy: 0.0165 - val_logloss: 0.0165 - val_loss: 0.0200 - learning_rate: 0.0025\n",
      "Epoch 11/192\n",
      "\u001b[1m160/160\u001b[0m \u001b[32m━━━━━━━━━━━━━━━━━━━━\u001b[0m\u001b[37m\u001b[0m \u001b[1m1s\u001b[0m 4ms/step - binary_crossentropy: 0.0168 - logloss: 0.0168 - loss: 0.0202 - val_binary_crossentropy: 0.0163 - val_logloss: 0.0164 - val_loss: 0.0198 - learning_rate: 0.0022\n",
      "Epoch 12/192\n",
      "\u001b[1m160/160\u001b[0m \u001b[32m━━━━━━━━━━━━━━━━━━━━\u001b[0m\u001b[37m\u001b[0m \u001b[1m1s\u001b[0m 4ms/step - binary_crossentropy: 0.0167 - logloss: 0.0167 - loss: 0.0200 - val_binary_crossentropy: 0.0163 - val_logloss: 0.0163 - val_loss: 0.0195 - learning_rate: 0.0019\n",
      "Epoch 13/192\n",
      "\u001b[1m160/160\u001b[0m \u001b[32m━━━━━━━━━━━━━━━━━━━━\u001b[0m\u001b[37m\u001b[0m \u001b[1m1s\u001b[0m 4ms/step - binary_crossentropy: 0.0165 - logloss: 0.0166 - loss: 0.0199 - val_binary_crossentropy: 0.0161 - val_logloss: 0.0161 - val_loss: 0.0194 - learning_rate: 0.0016\n",
      "Epoch 14/192\n",
      "\u001b[1m160/160\u001b[0m \u001b[32m━━━━━━━━━━━━━━━━━━━━\u001b[0m\u001b[37m\u001b[0m \u001b[1m1s\u001b[0m 4ms/step - binary_crossentropy: 0.0164 - logloss: 0.0164 - loss: 0.0197 - val_binary_crossentropy: 0.0160 - val_logloss: 0.0160 - val_loss: 0.0192 - learning_rate: 0.0013\n",
      "Epoch 15/192\n",
      "\u001b[1m160/160\u001b[0m \u001b[32m━━━━━━━━━━━━━━━━━━━━\u001b[0m\u001b[37m\u001b[0m \u001b[1m1s\u001b[0m 4ms/step - binary_crossentropy: 0.0163 - logloss: 0.0163 - loss: 0.0196 - val_binary_crossentropy: 0.0160 - val_logloss: 0.0160 - val_loss: 0.0192 - learning_rate: 9.4750e-04\n",
      "Epoch 16/192\n",
      "\u001b[1m160/160\u001b[0m \u001b[32m━━━━━━━━━━━━━━━━━━━━\u001b[0m\u001b[37m\u001b[0m \u001b[1m1s\u001b[0m 4ms/step - binary_crossentropy: 0.0162 - logloss: 0.0162 - loss: 0.0195 - val_binary_crossentropy: 0.0159 - val_logloss: 0.0159 - val_loss: 0.0191 - learning_rate: 6.3500e-04\n",
      "Epoch 17/192\n",
      "\u001b[1m160/160\u001b[0m \u001b[32m━━━━━━━━━━━━━━━━━━━━\u001b[0m\u001b[37m\u001b[0m \u001b[1m1s\u001b[0m 4ms/step - binary_crossentropy: 0.0162 - logloss: 0.0162 - loss: 0.0195 - val_binary_crossentropy: 0.0159 - val_logloss: 0.0159 - val_loss: 0.0191 - learning_rate: 7.4996e-04\n",
      "Epoch 18/192\n",
      "\u001b[1m160/160\u001b[0m \u001b[32m━━━━━━━━━━━━━━━━━━━━\u001b[0m\u001b[37m\u001b[0m \u001b[1m1s\u001b[0m 4ms/step - binary_crossentropy: 0.0162 - logloss: 0.0162 - loss: 0.0195 - val_binary_crossentropy: 0.0159 - val_logloss: 0.0159 - val_loss: 0.0191 - learning_rate: 8.6492e-04\n",
      "Epoch 19/192\n",
      "\u001b[1m160/160\u001b[0m \u001b[32m━━━━━━━━━━━━━━━━━━━━\u001b[0m\u001b[37m\u001b[0m \u001b[1m1s\u001b[0m 4ms/step - binary_crossentropy: 0.0161 - logloss: 0.0161 - loss: 0.0194 - val_binary_crossentropy: 0.0158 - val_logloss: 0.0158 - val_loss: 0.0190 - learning_rate: 9.7989e-04\n",
      "Epoch 20/192\n",
      "\u001b[1m160/160\u001b[0m \u001b[32m━━━━━━━━━━━━━━━━━━━━\u001b[0m\u001b[37m\u001b[0m \u001b[1m1s\u001b[0m 4ms/step - binary_crossentropy: 0.0161 - logloss: 0.0161 - loss: 0.0194 - val_binary_crossentropy: 0.0159 - val_logloss: 0.0159 - val_loss: 0.0191 - learning_rate: 0.0011\n",
      "Epoch 21/192\n",
      "\u001b[1m160/160\u001b[0m \u001b[32m━━━━━━━━━━━━━━━━━━━━\u001b[0m\u001b[37m\u001b[0m \u001b[1m1s\u001b[0m 4ms/step - binary_crossentropy: 0.0161 - logloss: 0.0162 - loss: 0.0195 - val_binary_crossentropy: 0.0158 - val_logloss: 0.0159 - val_loss: 0.0191 - learning_rate: 0.0012\n",
      "Epoch 22/192\n",
      "\u001b[1m160/160\u001b[0m \u001b[32m━━━━━━━━━━━━━━━━━━━━\u001b[0m\u001b[37m\u001b[0m \u001b[1m1s\u001b[0m 4ms/step - binary_crossentropy: 0.0162 - logloss: 0.0162 - loss: 0.0195 - val_binary_crossentropy: 0.0157 - val_logloss: 0.0158 - val_loss: 0.0190 - learning_rate: 0.0013\n",
      "Epoch 23/192\n",
      "\u001b[1m160/160\u001b[0m \u001b[32m━━━━━━━━━━━━━━━━━━━━\u001b[0m\u001b[37m\u001b[0m \u001b[1m1s\u001b[0m 4ms/step - binary_crossentropy: 0.0162 - logloss: 0.0162 - loss: 0.0195 - val_binary_crossentropy: 0.0158 - val_logloss: 0.0159 - val_loss: 0.0191 - learning_rate: 0.0014\n",
      "Epoch 24/192\n",
      "\u001b[1m160/160\u001b[0m \u001b[32m━━━━━━━━━━━━━━━━━━━━\u001b[0m\u001b[37m\u001b[0m \u001b[1m1s\u001b[0m 4ms/step - binary_crossentropy: 0.0161 - logloss: 0.0162 - loss: 0.0195 - val_binary_crossentropy: 0.0160 - val_logloss: 0.0160 - val_loss: 0.0192 - learning_rate: 0.0016\n",
      "Epoch 25/192\n",
      "\u001b[1m160/160\u001b[0m \u001b[32m━━━━━━━━━━━━━━━━━━━━\u001b[0m\u001b[37m\u001b[0m \u001b[1m1s\u001b[0m 4ms/step - binary_crossentropy: 0.0162 - logloss: 0.0163 - loss: 0.0195 - val_binary_crossentropy: 0.0158 - val_logloss: 0.0158 - val_loss: 0.0191 - learning_rate: 0.0017\n",
      "Epoch 26/192\n",
      "\u001b[1m160/160\u001b[0m \u001b[32m━━━━━━━━━━━━━━━━━━━━\u001b[0m\u001b[37m\u001b[0m \u001b[1m1s\u001b[0m 4ms/step - binary_crossentropy: 0.0162 - logloss: 0.0163 - loss: 0.0195 - val_binary_crossentropy: 0.0158 - val_logloss: 0.0159 - val_loss: 0.0191 - learning_rate: 0.0016\n",
      "Epoch 27/192\n",
      "\u001b[1m160/160\u001b[0m \u001b[32m━━━━━━━━━━━━━━━━━━━━\u001b[0m\u001b[37m\u001b[0m \u001b[1m1s\u001b[0m 4ms/step - binary_crossentropy: 0.0162 - logloss: 0.0162 - loss: 0.0195 - val_binary_crossentropy: 0.0158 - val_logloss: 0.0159 - val_loss: 0.0191 - learning_rate: 0.0014\n",
      "Epoch 1/192\n",
      "\u001b[1m 34/160\u001b[0m \u001b[32m━━━━\u001b[0m\u001b[37m━━━━━━━━━━━━━━━━\u001b[0m \u001b[1m0s\u001b[0m 5ms/step - binary_crossentropy: 0.0160 - logloss: 0.0161 - loss: 0.0193"
     ]
    },
    {
     "name": "stderr",
     "output_type": "stream",
     "text": [
      "W0000 00:00:1716234459.235686      71 graph_launch.cc:671] Fallback to op-by-op mode because memset node breaks graph update\n"
     ]
    },
    {
     "name": "stdout",
     "output_type": "stream",
     "text": [
      "\u001b[1m160/160\u001b[0m \u001b[32m━━━━━━━━━━━━━━━━━━━━\u001b[0m\u001b[37m\u001b[0m \u001b[1m0s\u001b[0m 50ms/step - binary_crossentropy: 0.0161 - logloss: 0.0161 - loss: 0.0194"
     ]
    },
    {
     "name": "stderr",
     "output_type": "stream",
     "text": [
      "W0000 00:00:1716234467.237552      70 graph_launch.cc:671] Fallback to op-by-op mode because memset node breaks graph update\n",
      "W0000 00:00:1716234467.906116      73 graph_launch.cc:671] Fallback to op-by-op mode because memset node breaks graph update\n"
     ]
    },
    {
     "name": "stdout",
     "output_type": "stream",
     "text": [
      "\u001b[1m160/160\u001b[0m \u001b[32m━━━━━━━━━━━━━━━━━━━━\u001b[0m\u001b[37m\u001b[0m \u001b[1m19s\u001b[0m 57ms/step - binary_crossentropy: 0.0161 - logloss: 0.0161 - loss: 0.0194 - val_binary_crossentropy: 0.0158 - val_logloss: 0.0159 - val_loss: 0.0191\n",
      "Epoch 2/192\n",
      "\u001b[1m 34/160\u001b[0m \u001b[32m━━━━\u001b[0m\u001b[37m━━━━━━━━━━━━━━━━\u001b[0m \u001b[1m0s\u001b[0m 5ms/step - binary_crossentropy: 0.0161 - logloss: 0.0161 - loss: 0.0194"
     ]
    },
    {
     "name": "stderr",
     "output_type": "stream",
     "text": [
      "W0000 00:00:1716234468.294785      72 graph_launch.cc:671] Fallback to op-by-op mode because memset node breaks graph update\n"
     ]
    },
    {
     "name": "stdout",
     "output_type": "stream",
     "text": [
      "\u001b[1m160/160\u001b[0m \u001b[32m━━━━━━━━━━━━━━━━━━━━\u001b[0m\u001b[37m\u001b[0m \u001b[1m1s\u001b[0m 5ms/step - binary_crossentropy: 0.0161 - logloss: 0.0161 - loss: 0.0194 - val_binary_crossentropy: 0.0158 - val_logloss: 0.0159 - val_loss: 0.0190\n",
      "Epoch 3/192\n",
      "\u001b[1m160/160\u001b[0m \u001b[32m━━━━━━━━━━━━━━━━━━━━\u001b[0m\u001b[37m\u001b[0m \u001b[1m1s\u001b[0m 4ms/step - binary_crossentropy: 0.0162 - logloss: 0.0162 - loss: 0.0194 - val_binary_crossentropy: 0.0158 - val_logloss: 0.0159 - val_loss: 0.0190\n",
      "Epoch 4/192\n",
      "\u001b[1m160/160\u001b[0m \u001b[32m━━━━━━━━━━━━━━━━━━━━\u001b[0m\u001b[37m\u001b[0m \u001b[1m1s\u001b[0m 4ms/step - binary_crossentropy: 0.0161 - logloss: 0.0161 - loss: 0.0194 - val_binary_crossentropy: 0.0158 - val_logloss: 0.0159 - val_loss: 0.0190\n",
      "Epoch 5/192\n",
      "\u001b[1m160/160\u001b[0m \u001b[32m━━━━━━━━━━━━━━━━━━━━\u001b[0m\u001b[37m\u001b[0m \u001b[1m1s\u001b[0m 4ms/step - binary_crossentropy: 0.0160 - logloss: 0.0160 - loss: 0.0193 - val_binary_crossentropy: 0.0158 - val_logloss: 0.0159 - val_loss: 0.0190\n",
      "\u001b[1m 93/107\u001b[0m \u001b[32m━━━━━━━━━━━━━━━━━\u001b[0m\u001b[37m━━━\u001b[0m \u001b[1m0s\u001b[0m 2ms/step"
     ]
    },
    {
     "name": "stderr",
     "output_type": "stream",
     "text": [
      "W0000 00:00:1716234472.217346      70 graph_launch.cc:671] Fallback to op-by-op mode because memset node breaks graph update\n"
     ]
    },
    {
     "name": "stdout",
     "output_type": "stream",
     "text": [
      "\u001b[1m107/107\u001b[0m \u001b[32m━━━━━━━━━━━━━━━━━━━━\u001b[0m\u001b[37m\u001b[0m \u001b[1m1s\u001b[0m 4ms/step\n",
      "\u001b[1m125/125\u001b[0m \u001b[32m━━━━━━━━━━━━━━━━━━━━\u001b[0m\u001b[37m\u001b[0m \u001b[1m0s\u001b[0m 3ms/step\n",
      "Epoch 1/192\n",
      "\u001b[1m 34/160\u001b[0m \u001b[32m━━━━\u001b[0m\u001b[37m━━━━━━━━━━━━━━━━\u001b[0m \u001b[1m0s\u001b[0m 5ms/step - binary_crossentropy: 0.0259 - logloss: 0.0258 - loss: 0.0290"
     ]
    },
    {
     "name": "stderr",
     "output_type": "stream",
     "text": [
      "W0000 00:00:1716234483.967905      71 graph_launch.cc:671] Fallback to op-by-op mode because memset node breaks graph update\n"
     ]
    },
    {
     "name": "stdout",
     "output_type": "stream",
     "text": [
      "\u001b[1m160/160\u001b[0m \u001b[32m━━━━━━━━━━━━━━━━━━━━\u001b[0m\u001b[37m\u001b[0m \u001b[1m0s\u001b[0m 49ms/step - binary_crossentropy: 0.0238 - logloss: 0.0237 - loss: 0.0270"
     ]
    },
    {
     "name": "stderr",
     "output_type": "stream",
     "text": [
      "W0000 00:00:1716234491.708176      72 graph_launch.cc:671] Fallback to op-by-op mode because memset node breaks graph update\n",
      "W0000 00:00:1716234492.420209      71 graph_launch.cc:671] Fallback to op-by-op mode because memset node breaks graph update\n"
     ]
    },
    {
     "name": "stdout",
     "output_type": "stream",
     "text": [
      "\u001b[1m160/160\u001b[0m \u001b[32m━━━━━━━━━━━━━━━━━━━━\u001b[0m\u001b[37m\u001b[0m \u001b[1m19s\u001b[0m 56ms/step - binary_crossentropy: 0.0238 - logloss: 0.0237 - loss: 0.0270 - val_binary_crossentropy: 0.0184 - val_logloss: 0.0184 - val_loss: 0.0216 - learning_rate: 3.2250e-04\n",
      "Epoch 2/192\n",
      "\u001b[1m 23/160\u001b[0m \u001b[32m━━\u001b[0m\u001b[37m━━━━━━━━━━━━━━━━━━\u001b[0m \u001b[1m0s\u001b[0m 5ms/step - binary_crossentropy: 0.0196 - logloss: 0.0195 - loss: 0.0228"
     ]
    },
    {
     "name": "stderr",
     "output_type": "stream",
     "text": [
      "W0000 00:00:1716234492.822888      70 graph_launch.cc:671] Fallback to op-by-op mode because memset node breaks graph update\n"
     ]
    },
    {
     "name": "stdout",
     "output_type": "stream",
     "text": [
      "\u001b[1m160/160\u001b[0m \u001b[32m━━━━━━━━━━━━━━━━━━━━\u001b[0m\u001b[37m\u001b[0m \u001b[1m1s\u001b[0m 5ms/step - binary_crossentropy: 0.0195 - logloss: 0.0195 - loss: 0.0227 - val_binary_crossentropy: 0.0177 - val_logloss: 0.0177 - val_loss: 0.0209 - learning_rate: 6.3500e-04\n",
      "Epoch 3/192\n",
      "\u001b[1m160/160\u001b[0m \u001b[32m━━━━━━━━━━━━━━━━━━━━\u001b[0m\u001b[37m\u001b[0m \u001b[1m1s\u001b[0m 5ms/step - binary_crossentropy: 0.0183 - logloss: 0.0183 - loss: 0.0216 - val_binary_crossentropy: 0.0170 - val_logloss: 0.0170 - val_loss: 0.0202 - learning_rate: 9.4750e-04\n",
      "Epoch 4/192\n",
      "\u001b[1m160/160\u001b[0m \u001b[32m━━━━━━━━━━━━━━━━━━━━\u001b[0m\u001b[37m\u001b[0m \u001b[1m1s\u001b[0m 4ms/step - binary_crossentropy: 0.0177 - logloss: 0.0177 - loss: 0.0210 - val_binary_crossentropy: 0.0168 - val_logloss: 0.0168 - val_loss: 0.0200 - learning_rate: 0.0013\n",
      "Epoch 5/192\n",
      "\u001b[1m160/160\u001b[0m \u001b[32m━━━━━━━━━━━━━━━━━━━━\u001b[0m\u001b[37m\u001b[0m \u001b[1m1s\u001b[0m 4ms/step - binary_crossentropy: 0.0176 - logloss: 0.0176 - loss: 0.0209 - val_binary_crossentropy: 0.0167 - val_logloss: 0.0167 - val_loss: 0.0199 - learning_rate: 0.0016\n",
      "Epoch 6/192\n",
      "\u001b[1m160/160\u001b[0m \u001b[32m━━━━━━━━━━━━━━━━━━━━\u001b[0m\u001b[37m\u001b[0m \u001b[1m1s\u001b[0m 4ms/step - binary_crossentropy: 0.0174 - logloss: 0.0174 - loss: 0.0207 - val_binary_crossentropy: 0.0167 - val_logloss: 0.0167 - val_loss: 0.0200 - learning_rate: 0.0019\n",
      "Epoch 7/192\n",
      "\u001b[1m160/160\u001b[0m \u001b[32m━━━━━━━━━━━━━━━━━━━━\u001b[0m\u001b[37m\u001b[0m \u001b[1m1s\u001b[0m 4ms/step - binary_crossentropy: 0.0173 - logloss: 0.0173 - loss: 0.0206 - val_binary_crossentropy: 0.0170 - val_logloss: 0.0170 - val_loss: 0.0203 - learning_rate: 0.0022\n",
      "Epoch 8/192\n",
      "\u001b[1m160/160\u001b[0m \u001b[32m━━━━━━━━━━━━━━━━━━━━\u001b[0m\u001b[37m\u001b[0m \u001b[1m1s\u001b[0m 4ms/step - binary_crossentropy: 0.0172 - logloss: 0.0172 - loss: 0.0206 - val_binary_crossentropy: 0.0170 - val_logloss: 0.0170 - val_loss: 0.0203 - learning_rate: 0.0025\n",
      "Epoch 9/192\n",
      "\u001b[1m160/160\u001b[0m \u001b[32m━━━━━━━━━━━━━━━━━━━━\u001b[0m\u001b[37m\u001b[0m \u001b[1m1s\u001b[0m 4ms/step - binary_crossentropy: 0.0173 - logloss: 0.0173 - loss: 0.0207 - val_binary_crossentropy: 0.0169 - val_logloss: 0.0169 - val_loss: 0.0202 - learning_rate: 0.0028\n",
      "Epoch 10/192\n",
      "\u001b[1m160/160\u001b[0m \u001b[32m━━━━━━━━━━━━━━━━━━━━\u001b[0m\u001b[37m\u001b[0m \u001b[1m1s\u001b[0m 4ms/step - binary_crossentropy: 0.0171 - logloss: 0.0171 - loss: 0.0204 - val_binary_crossentropy: 0.0166 - val_logloss: 0.0166 - val_loss: 0.0199 - learning_rate: 0.0025\n",
      "Epoch 11/192\n",
      "\u001b[1m160/160\u001b[0m \u001b[32m━━━━━━━━━━━━━━━━━━━━\u001b[0m\u001b[37m\u001b[0m \u001b[1m1s\u001b[0m 4ms/step - binary_crossentropy: 0.0169 - logloss: 0.0169 - loss: 0.0202 - val_binary_crossentropy: 0.0163 - val_logloss: 0.0163 - val_loss: 0.0196 - learning_rate: 0.0022\n",
      "Epoch 12/192\n",
      "\u001b[1m160/160\u001b[0m \u001b[32m━━━━━━━━━━━━━━━━━━━━\u001b[0m\u001b[37m\u001b[0m \u001b[1m1s\u001b[0m 4ms/step - binary_crossentropy: 0.0167 - logloss: 0.0168 - loss: 0.0201 - val_binary_crossentropy: 0.0162 - val_logloss: 0.0162 - val_loss: 0.0195 - learning_rate: 0.0019\n",
      "Epoch 13/192\n",
      "\u001b[1m160/160\u001b[0m \u001b[32m━━━━━━━━━━━━━━━━━━━━\u001b[0m\u001b[37m\u001b[0m \u001b[1m1s\u001b[0m 4ms/step - binary_crossentropy: 0.0166 - logloss: 0.0166 - loss: 0.0199 - val_binary_crossentropy: 0.0161 - val_logloss: 0.0161 - val_loss: 0.0193 - learning_rate: 0.0016\n",
      "Epoch 14/192\n",
      "\u001b[1m160/160\u001b[0m \u001b[32m━━━━━━━━━━━━━━━━━━━━\u001b[0m\u001b[37m\u001b[0m \u001b[1m1s\u001b[0m 4ms/step - binary_crossentropy: 0.0165 - logloss: 0.0166 - loss: 0.0198 - val_binary_crossentropy: 0.0160 - val_logloss: 0.0160 - val_loss: 0.0192 - learning_rate: 0.0013\n",
      "Epoch 15/192\n",
      "\u001b[1m160/160\u001b[0m \u001b[32m━━━━━━━━━━━━━━━━━━━━\u001b[0m\u001b[37m\u001b[0m \u001b[1m1s\u001b[0m 4ms/step - binary_crossentropy: 0.0164 - logloss: 0.0164 - loss: 0.0197 - val_binary_crossentropy: 0.0158 - val_logloss: 0.0158 - val_loss: 0.0190 - learning_rate: 9.4750e-04\n",
      "Epoch 16/192\n",
      "\u001b[1m160/160\u001b[0m \u001b[32m━━━━━━━━━━━━━━━━━━━━\u001b[0m\u001b[37m\u001b[0m \u001b[1m1s\u001b[0m 5ms/step - binary_crossentropy: 0.0163 - logloss: 0.0163 - loss: 0.0196 - val_binary_crossentropy: 0.0158 - val_logloss: 0.0158 - val_loss: 0.0190 - learning_rate: 6.3500e-04\n",
      "Epoch 17/192\n",
      "\u001b[1m160/160\u001b[0m \u001b[32m━━━━━━━━━━━━━━━━━━━━\u001b[0m\u001b[37m\u001b[0m \u001b[1m1s\u001b[0m 4ms/step - binary_crossentropy: 0.0161 - logloss: 0.0162 - loss: 0.0194 - val_binary_crossentropy: 0.0157 - val_logloss: 0.0157 - val_loss: 0.0189 - learning_rate: 7.4996e-04\n",
      "Epoch 18/192\n",
      "\u001b[1m160/160\u001b[0m \u001b[32m━━━━━━━━━━━━━━━━━━━━\u001b[0m\u001b[37m\u001b[0m \u001b[1m1s\u001b[0m 4ms/step - binary_crossentropy: 0.0162 - logloss: 0.0162 - loss: 0.0195 - val_binary_crossentropy: 0.0157 - val_logloss: 0.0157 - val_loss: 0.0189 - learning_rate: 8.6492e-04\n",
      "Epoch 19/192\n",
      "\u001b[1m160/160\u001b[0m \u001b[32m━━━━━━━━━━━━━━━━━━━━\u001b[0m\u001b[37m\u001b[0m \u001b[1m1s\u001b[0m 4ms/step - binary_crossentropy: 0.0162 - logloss: 0.0163 - loss: 0.0195 - val_binary_crossentropy: 0.0157 - val_logloss: 0.0157 - val_loss: 0.0189 - learning_rate: 9.7989e-04\n",
      "Epoch 20/192\n",
      "\u001b[1m160/160\u001b[0m \u001b[32m━━━━━━━━━━━━━━━━━━━━\u001b[0m\u001b[37m\u001b[0m \u001b[1m1s\u001b[0m 4ms/step - binary_crossentropy: 0.0162 - logloss: 0.0162 - loss: 0.0195 - val_binary_crossentropy: 0.0156 - val_logloss: 0.0156 - val_loss: 0.0188 - learning_rate: 0.0011\n",
      "Epoch 21/192\n",
      "\u001b[1m160/160\u001b[0m \u001b[32m━━━━━━━━━━━━━━━━━━━━\u001b[0m\u001b[37m\u001b[0m \u001b[1m1s\u001b[0m 4ms/step - binary_crossentropy: 0.0162 - logloss: 0.0162 - loss: 0.0195 - val_binary_crossentropy: 0.0157 - val_logloss: 0.0157 - val_loss: 0.0189 - learning_rate: 0.0012\n",
      "Epoch 22/192\n",
      "\u001b[1m160/160\u001b[0m \u001b[32m━━━━━━━━━━━━━━━━━━━━\u001b[0m\u001b[37m\u001b[0m \u001b[1m1s\u001b[0m 4ms/step - binary_crossentropy: 0.0162 - logloss: 0.0162 - loss: 0.0195 - val_binary_crossentropy: 0.0157 - val_logloss: 0.0157 - val_loss: 0.0189 - learning_rate: 0.0013\n",
      "Epoch 23/192\n",
      "\u001b[1m160/160\u001b[0m \u001b[32m━━━━━━━━━━━━━━━━━━━━\u001b[0m\u001b[37m\u001b[0m \u001b[1m1s\u001b[0m 4ms/step - binary_crossentropy: 0.0163 - logloss: 0.0163 - loss: 0.0196 - val_binary_crossentropy: 0.0158 - val_logloss: 0.0158 - val_loss: 0.0190 - learning_rate: 0.0014\n",
      "Epoch 24/192\n",
      "\u001b[1m160/160\u001b[0m \u001b[32m━━━━━━━━━━━━━━━━━━━━\u001b[0m\u001b[37m\u001b[0m \u001b[1m1s\u001b[0m 4ms/step - binary_crossentropy: 0.0163 - logloss: 0.0163 - loss: 0.0196 - val_binary_crossentropy: 0.0158 - val_logloss: 0.0158 - val_loss: 0.0190 - learning_rate: 0.0016\n",
      "Epoch 25/192\n",
      "\u001b[1m160/160\u001b[0m \u001b[32m━━━━━━━━━━━━━━━━━━━━\u001b[0m\u001b[37m\u001b[0m \u001b[1m1s\u001b[0m 4ms/step - binary_crossentropy: 0.0162 - logloss: 0.0163 - loss: 0.0195 - val_binary_crossentropy: 0.0158 - val_logloss: 0.0159 - val_loss: 0.0190 - learning_rate: 0.0017\n",
      "Epoch 1/192\n",
      "\u001b[1m 34/160\u001b[0m \u001b[32m━━━━\u001b[0m\u001b[37m━━━━━━━━━━━━━━━━\u001b[0m \u001b[1m0s\u001b[0m 5ms/step - binary_crossentropy: 0.0162 - logloss: 0.0163 - loss: 0.0195"
     ]
    },
    {
     "name": "stderr",
     "output_type": "stream",
     "text": [
      "W0000 00:00:1716234519.596679      73 graph_launch.cc:671] Fallback to op-by-op mode because memset node breaks graph update\n"
     ]
    },
    {
     "name": "stdout",
     "output_type": "stream",
     "text": [
      "\u001b[1m160/160\u001b[0m \u001b[32m━━━━━━━━━━━━━━━━━━━━\u001b[0m\u001b[37m\u001b[0m \u001b[1m0s\u001b[0m 50ms/step - binary_crossentropy: 0.0162 - logloss: 0.0162 - loss: 0.0195"
     ]
    },
    {
     "name": "stderr",
     "output_type": "stream",
     "text": [
      "W0000 00:00:1716234527.592530      71 graph_launch.cc:671] Fallback to op-by-op mode because memset node breaks graph update\n",
      "W0000 00:00:1716234528.259381      71 graph_launch.cc:671] Fallback to op-by-op mode because memset node breaks graph update\n"
     ]
    },
    {
     "name": "stdout",
     "output_type": "stream",
     "text": [
      "\u001b[1m160/160\u001b[0m \u001b[32m━━━━━━━━━━━━━━━━━━━━\u001b[0m\u001b[37m\u001b[0m \u001b[1m19s\u001b[0m 57ms/step - binary_crossentropy: 0.0162 - logloss: 0.0162 - loss: 0.0195 - val_binary_crossentropy: 0.0157 - val_logloss: 0.0158 - val_loss: 0.0189\n",
      "Epoch 2/192\n",
      "\u001b[1m 34/160\u001b[0m \u001b[32m━━━━\u001b[0m\u001b[37m━━━━━━━━━━━━━━━━\u001b[0m \u001b[1m0s\u001b[0m 5ms/step - binary_crossentropy: 0.0162 - logloss: 0.0163 - loss: 0.0195"
     ]
    },
    {
     "name": "stderr",
     "output_type": "stream",
     "text": [
      "W0000 00:00:1716234528.634960      70 graph_launch.cc:671] Fallback to op-by-op mode because memset node breaks graph update\n"
     ]
    },
    {
     "name": "stdout",
     "output_type": "stream",
     "text": [
      "\u001b[1m160/160\u001b[0m \u001b[32m━━━━━━━━━━━━━━━━━━━━\u001b[0m\u001b[37m\u001b[0m \u001b[1m1s\u001b[0m 5ms/step - binary_crossentropy: 0.0161 - logloss: 0.0162 - loss: 0.0194 - val_binary_crossentropy: 0.0157 - val_logloss: 0.0157 - val_loss: 0.0189\n",
      "Epoch 3/192\n",
      "\u001b[1m160/160\u001b[0m \u001b[32m━━━━━━━━━━━━━━━━━━━━\u001b[0m\u001b[37m\u001b[0m \u001b[1m1s\u001b[0m 4ms/step - binary_crossentropy: 0.0161 - logloss: 0.0161 - loss: 0.0194 - val_binary_crossentropy: 0.0157 - val_logloss: 0.0157 - val_loss: 0.0189\n",
      "Epoch 4/192\n",
      "\u001b[1m160/160\u001b[0m \u001b[32m━━━━━━━━━━━━━━━━━━━━\u001b[0m\u001b[37m\u001b[0m \u001b[1m1s\u001b[0m 4ms/step - binary_crossentropy: 0.0161 - logloss: 0.0162 - loss: 0.0194 - val_binary_crossentropy: 0.0157 - val_logloss: 0.0157 - val_loss: 0.0189\n",
      "Epoch 5/192\n",
      "\u001b[1m160/160\u001b[0m \u001b[32m━━━━━━━━━━━━━━━━━━━━\u001b[0m\u001b[37m\u001b[0m \u001b[1m1s\u001b[0m 4ms/step - binary_crossentropy: 0.0161 - logloss: 0.0161 - loss: 0.0194 - val_binary_crossentropy: 0.0157 - val_logloss: 0.0157 - val_loss: 0.0189\n",
      "\u001b[1m102/107\u001b[0m \u001b[32m━━━━━━━━━━━━━━━━━━━\u001b[0m\u001b[37m━\u001b[0m \u001b[1m0s\u001b[0m 1ms/step"
     ]
    },
    {
     "name": "stderr",
     "output_type": "stream",
     "text": [
      "W0000 00:00:1716234532.031597      72 graph_launch.cc:671] Fallback to op-by-op mode because memset node breaks graph update\n"
     ]
    },
    {
     "name": "stdout",
     "output_type": "stream",
     "text": [
      "\u001b[1m107/107\u001b[0m \u001b[32m━━━━━━━━━━━━━━━━━━━━\u001b[0m\u001b[37m\u001b[0m \u001b[1m1s\u001b[0m 4ms/step\n",
      "\u001b[1m125/125\u001b[0m \u001b[32m━━━━━━━━━━━━━━━━━━━━\u001b[0m\u001b[37m\u001b[0m \u001b[1m0s\u001b[0m 3ms/step\n",
      "Epoch 1/192\n",
      "\u001b[1m 33/160\u001b[0m \u001b[32m━━━━\u001b[0m\u001b[37m━━━━━━━━━━━━━━━━\u001b[0m \u001b[1m0s\u001b[0m 5ms/step - binary_crossentropy: 0.0262 - logloss: 0.0260 - loss: 0.0293"
     ]
    },
    {
     "name": "stderr",
     "output_type": "stream",
     "text": [
      "W0000 00:00:1716234543.733754      70 graph_launch.cc:671] Fallback to op-by-op mode because memset node breaks graph update\n"
     ]
    },
    {
     "name": "stdout",
     "output_type": "stream",
     "text": [
      "\u001b[1m160/160\u001b[0m \u001b[32m━━━━━━━━━━━━━━━━━━━━\u001b[0m\u001b[37m\u001b[0m \u001b[1m0s\u001b[0m 49ms/step - binary_crossentropy: 0.0237 - logloss: 0.0236 - loss: 0.0269"
     ]
    },
    {
     "name": "stderr",
     "output_type": "stream",
     "text": [
      "W0000 00:00:1716234551.554895      71 graph_launch.cc:671] Fallback to op-by-op mode because memset node breaks graph update\n",
      "W0000 00:00:1716234552.218857      72 graph_launch.cc:671] Fallback to op-by-op mode because memset node breaks graph update\n"
     ]
    },
    {
     "name": "stdout",
     "output_type": "stream",
     "text": [
      "\u001b[1m160/160\u001b[0m \u001b[32m━━━━━━━━━━━━━━━━━━━━\u001b[0m\u001b[37m\u001b[0m \u001b[1m19s\u001b[0m 56ms/step - binary_crossentropy: 0.0237 - logloss: 0.0236 - loss: 0.0268 - val_binary_crossentropy: 0.0183 - val_logloss: 0.0183 - val_loss: 0.0215 - learning_rate: 3.2250e-04\n",
      "Epoch 2/192\n",
      "\u001b[1m 34/160\u001b[0m \u001b[32m━━━━\u001b[0m\u001b[37m━━━━━━━━━━━━━━━━\u001b[0m \u001b[1m0s\u001b[0m 5ms/step - binary_crossentropy: 0.0203 - logloss: 0.0202 - loss: 0.0235"
     ]
    },
    {
     "name": "stderr",
     "output_type": "stream",
     "text": [
      "W0000 00:00:1716234552.604051      73 graph_launch.cc:671] Fallback to op-by-op mode because memset node breaks graph update\n"
     ]
    },
    {
     "name": "stdout",
     "output_type": "stream",
     "text": [
      "\u001b[1m160/160\u001b[0m \u001b[32m━━━━━━━━━━━━━━━━━━━━\u001b[0m\u001b[37m\u001b[0m \u001b[1m1s\u001b[0m 5ms/step - binary_crossentropy: 0.0196 - logloss: 0.0195 - loss: 0.0228 - val_binary_crossentropy: 0.0179 - val_logloss: 0.0179 - val_loss: 0.0210 - learning_rate: 6.3500e-04\n",
      "Epoch 3/192\n",
      "\u001b[1m160/160\u001b[0m \u001b[32m━━━━━━━━━━━━━━━━━━━━\u001b[0m\u001b[37m\u001b[0m \u001b[1m1s\u001b[0m 4ms/step - binary_crossentropy: 0.0182 - logloss: 0.0182 - loss: 0.0214 - val_binary_crossentropy: 0.0174 - val_logloss: 0.0174 - val_loss: 0.0206 - learning_rate: 9.4750e-04\n",
      "Epoch 4/192\n",
      "\u001b[1m160/160\u001b[0m \u001b[32m━━━━━━━━━━━━━━━━━━━━\u001b[0m\u001b[37m\u001b[0m \u001b[1m1s\u001b[0m 4ms/step - binary_crossentropy: 0.0177 - logloss: 0.0177 - loss: 0.0210 - val_binary_crossentropy: 0.0169 - val_logloss: 0.0169 - val_loss: 0.0202 - learning_rate: 0.0013\n",
      "Epoch 5/192\n",
      "\u001b[1m160/160\u001b[0m \u001b[32m━━━━━━━━━━━━━━━━━━━━\u001b[0m\u001b[37m\u001b[0m \u001b[1m1s\u001b[0m 5ms/step - binary_crossentropy: 0.0175 - logloss: 0.0175 - loss: 0.0208 - val_binary_crossentropy: 0.0170 - val_logloss: 0.0170 - val_loss: 0.0204 - learning_rate: 0.0016\n",
      "Epoch 6/192\n",
      "\u001b[1m160/160\u001b[0m \u001b[32m━━━━━━━━━━━━━━━━━━━━\u001b[0m\u001b[37m\u001b[0m \u001b[1m1s\u001b[0m 4ms/step - binary_crossentropy: 0.0173 - logloss: 0.0173 - loss: 0.0206 - val_binary_crossentropy: 0.0175 - val_logloss: 0.0174 - val_loss: 0.0209 - learning_rate: 0.0019\n",
      "Epoch 7/192\n",
      "\u001b[1m160/160\u001b[0m \u001b[32m━━━━━━━━━━━━━━━━━━━━\u001b[0m\u001b[37m\u001b[0m \u001b[1m1s\u001b[0m 4ms/step - binary_crossentropy: 0.0171 - logloss: 0.0171 - loss: 0.0205 - val_binary_crossentropy: 0.0173 - val_logloss: 0.0173 - val_loss: 0.0208 - learning_rate: 0.0022\n",
      "Epoch 8/192\n",
      "\u001b[1m160/160\u001b[0m \u001b[32m━━━━━━━━━━━━━━━━━━━━\u001b[0m\u001b[37m\u001b[0m \u001b[1m1s\u001b[0m 4ms/step - binary_crossentropy: 0.0172 - logloss: 0.0171 - loss: 0.0205 - val_binary_crossentropy: 0.0167 - val_logloss: 0.0167 - val_loss: 0.0201 - learning_rate: 0.0025\n",
      "Epoch 9/192\n",
      "\u001b[1m160/160\u001b[0m \u001b[32m━━━━━━━━━━━━━━━━━━━━\u001b[0m\u001b[37m\u001b[0m \u001b[1m1s\u001b[0m 4ms/step - binary_crossentropy: 0.0171 - logloss: 0.0171 - loss: 0.0204 - val_binary_crossentropy: 0.0173 - val_logloss: 0.0173 - val_loss: 0.0208 - learning_rate: 0.0028\n",
      "Epoch 10/192\n",
      "\u001b[1m160/160\u001b[0m \u001b[32m━━━━━━━━━━━━━━━━━━━━\u001b[0m\u001b[37m\u001b[0m \u001b[1m1s\u001b[0m 4ms/step - binary_crossentropy: 0.0169 - logloss: 0.0170 - loss: 0.0204 - val_binary_crossentropy: 0.0166 - val_logloss: 0.0166 - val_loss: 0.0199 - learning_rate: 0.0025\n",
      "Epoch 11/192\n",
      "\u001b[1m160/160\u001b[0m \u001b[32m━━━━━━━━━━━━━━━━━━━━\u001b[0m\u001b[37m\u001b[0m \u001b[1m1s\u001b[0m 4ms/step - binary_crossentropy: 0.0167 - logloss: 0.0168 - loss: 0.0201 - val_binary_crossentropy: 0.0166 - val_logloss: 0.0167 - val_loss: 0.0200 - learning_rate: 0.0022\n",
      "Epoch 12/192\n",
      "\u001b[1m160/160\u001b[0m \u001b[32m━━━━━━━━━━━━━━━━━━━━\u001b[0m\u001b[37m\u001b[0m \u001b[1m1s\u001b[0m 4ms/step - binary_crossentropy: 0.0166 - logloss: 0.0167 - loss: 0.0200 - val_binary_crossentropy: 0.0163 - val_logloss: 0.0163 - val_loss: 0.0196 - learning_rate: 0.0019\n",
      "Epoch 13/192\n",
      "\u001b[1m160/160\u001b[0m \u001b[32m━━━━━━━━━━━━━━━━━━━━\u001b[0m\u001b[37m\u001b[0m \u001b[1m1s\u001b[0m 4ms/step - binary_crossentropy: 0.0165 - logloss: 0.0166 - loss: 0.0199 - val_binary_crossentropy: 0.0161 - val_logloss: 0.0161 - val_loss: 0.0194 - learning_rate: 0.0016\n",
      "Epoch 14/192\n",
      "\u001b[1m160/160\u001b[0m \u001b[32m━━━━━━━━━━━━━━━━━━━━\u001b[0m\u001b[37m\u001b[0m \u001b[1m1s\u001b[0m 4ms/step - binary_crossentropy: 0.0165 - logloss: 0.0165 - loss: 0.0198 - val_binary_crossentropy: 0.0162 - val_logloss: 0.0162 - val_loss: 0.0195 - learning_rate: 0.0013\n",
      "Epoch 15/192\n",
      "\u001b[1m160/160\u001b[0m \u001b[32m━━━━━━━━━━━━━━━━━━━━\u001b[0m\u001b[37m\u001b[0m \u001b[1m1s\u001b[0m 4ms/step - binary_crossentropy: 0.0163 - logloss: 0.0163 - loss: 0.0196 - val_binary_crossentropy: 0.0159 - val_logloss: 0.0159 - val_loss: 0.0192 - learning_rate: 9.4750e-04\n",
      "Epoch 16/192\n",
      "\u001b[1m160/160\u001b[0m \u001b[32m━━━━━━━━━━━━━━━━━━━━\u001b[0m\u001b[37m\u001b[0m \u001b[1m1s\u001b[0m 4ms/step - binary_crossentropy: 0.0162 - logloss: 0.0162 - loss: 0.0195 - val_binary_crossentropy: 0.0159 - val_logloss: 0.0159 - val_loss: 0.0192 - learning_rate: 6.3500e-04\n",
      "Epoch 17/192\n",
      "\u001b[1m160/160\u001b[0m \u001b[32m━━━━━━━━━━━━━━━━━━━━\u001b[0m\u001b[37m\u001b[0m \u001b[1m1s\u001b[0m 4ms/step - binary_crossentropy: 0.0161 - logloss: 0.0161 - loss: 0.0194 - val_binary_crossentropy: 0.0159 - val_logloss: 0.0159 - val_loss: 0.0191 - learning_rate: 7.4996e-04\n",
      "Epoch 18/192\n",
      "\u001b[1m160/160\u001b[0m \u001b[32m━━━━━━━━━━━━━━━━━━━━\u001b[0m\u001b[37m\u001b[0m \u001b[1m1s\u001b[0m 4ms/step - binary_crossentropy: 0.0161 - logloss: 0.0161 - loss: 0.0194 - val_binary_crossentropy: 0.0158 - val_logloss: 0.0158 - val_loss: 0.0191 - learning_rate: 8.6492e-04\n",
      "Epoch 19/192\n",
      "\u001b[1m160/160\u001b[0m \u001b[32m━━━━━━━━━━━━━━━━━━━━\u001b[0m\u001b[37m\u001b[0m \u001b[1m1s\u001b[0m 4ms/step - binary_crossentropy: 0.0161 - logloss: 0.0161 - loss: 0.0194 - val_binary_crossentropy: 0.0159 - val_logloss: 0.0159 - val_loss: 0.0191 - learning_rate: 9.7989e-04\n",
      "Epoch 20/192\n",
      "\u001b[1m160/160\u001b[0m \u001b[32m━━━━━━━━━━━━━━━━━━━━\u001b[0m\u001b[37m\u001b[0m \u001b[1m1s\u001b[0m 4ms/step - binary_crossentropy: 0.0161 - logloss: 0.0161 - loss: 0.0194 - val_binary_crossentropy: 0.0159 - val_logloss: 0.0159 - val_loss: 0.0191 - learning_rate: 0.0011\n",
      "Epoch 21/192\n",
      "\u001b[1m160/160\u001b[0m \u001b[32m━━━━━━━━━━━━━━━━━━━━\u001b[0m\u001b[37m\u001b[0m \u001b[1m1s\u001b[0m 4ms/step - binary_crossentropy: 0.0161 - logloss: 0.0161 - loss: 0.0194 - val_binary_crossentropy: 0.0158 - val_logloss: 0.0158 - val_loss: 0.0191 - learning_rate: 0.0012\n",
      "Epoch 22/192\n",
      "\u001b[1m160/160\u001b[0m \u001b[32m━━━━━━━━━━━━━━━━━━━━\u001b[0m\u001b[37m\u001b[0m \u001b[1m1s\u001b[0m 4ms/step - binary_crossentropy: 0.0161 - logloss: 0.0161 - loss: 0.0194 - val_binary_crossentropy: 0.0159 - val_logloss: 0.0159 - val_loss: 0.0191 - learning_rate: 0.0013\n",
      "Epoch 23/192\n",
      "\u001b[1m160/160\u001b[0m \u001b[32m━━━━━━━━━━━━━━━━━━━━\u001b[0m\u001b[37m\u001b[0m \u001b[1m1s\u001b[0m 4ms/step - binary_crossentropy: 0.0161 - logloss: 0.0162 - loss: 0.0194 - val_binary_crossentropy: 0.0159 - val_logloss: 0.0159 - val_loss: 0.0192 - learning_rate: 0.0014\n",
      "Epoch 1/192\n",
      "\u001b[1m 33/160\u001b[0m \u001b[32m━━━━\u001b[0m\u001b[37m━━━━━━━━━━━━━━━━\u001b[0m \u001b[1m0s\u001b[0m 5ms/step - binary_crossentropy: 0.0163 - logloss: 0.0164 - loss: 0.0196"
     ]
    },
    {
     "name": "stderr",
     "output_type": "stream",
     "text": [
      "W0000 00:00:1716234579.388838      70 graph_launch.cc:671] Fallback to op-by-op mode because memset node breaks graph update\n"
     ]
    },
    {
     "name": "stdout",
     "output_type": "stream",
     "text": [
      "\u001b[1m160/160\u001b[0m \u001b[32m━━━━━━━━━━━━━━━━━━━━\u001b[0m\u001b[37m\u001b[0m \u001b[1m0s\u001b[0m 50ms/step - binary_crossentropy: 0.0161 - logloss: 0.0161 - loss: 0.0194"
     ]
    },
    {
     "name": "stderr",
     "output_type": "stream",
     "text": [
      "W0000 00:00:1716234587.399672      71 graph_launch.cc:671] Fallback to op-by-op mode because memset node breaks graph update\n",
      "W0000 00:00:1716234588.054059      72 graph_launch.cc:671] Fallback to op-by-op mode because memset node breaks graph update\n"
     ]
    },
    {
     "name": "stdout",
     "output_type": "stream",
     "text": [
      "\u001b[1m160/160\u001b[0m \u001b[32m━━━━━━━━━━━━━━━━━━━━\u001b[0m\u001b[37m\u001b[0m \u001b[1m20s\u001b[0m 57ms/step - binary_crossentropy: 0.0161 - logloss: 0.0161 - loss: 0.0194 - val_binary_crossentropy: 0.0159 - val_logloss: 0.0159 - val_loss: 0.0191\n",
      "Epoch 2/192\n",
      "\u001b[1m 34/160\u001b[0m \u001b[32m━━━━\u001b[0m\u001b[37m━━━━━━━━━━━━━━━━\u001b[0m \u001b[1m0s\u001b[0m 5ms/step - binary_crossentropy: 0.0163 - logloss: 0.0164 - loss: 0.0196"
     ]
    },
    {
     "name": "stderr",
     "output_type": "stream",
     "text": [
      "W0000 00:00:1716234588.442227      70 graph_launch.cc:671] Fallback to op-by-op mode because memset node breaks graph update\n"
     ]
    },
    {
     "name": "stdout",
     "output_type": "stream",
     "text": [
      "\u001b[1m160/160\u001b[0m \u001b[32m━━━━━━━━━━━━━━━━━━━━\u001b[0m\u001b[37m\u001b[0m \u001b[1m1s\u001b[0m 5ms/step - binary_crossentropy: 0.0160 - logloss: 0.0161 - loss: 0.0193 - val_binary_crossentropy: 0.0158 - val_logloss: 0.0158 - val_loss: 0.0190\n",
      "Epoch 3/192\n",
      "\u001b[1m160/160\u001b[0m \u001b[32m━━━━━━━━━━━━━━━━━━━━\u001b[0m\u001b[37m\u001b[0m \u001b[1m1s\u001b[0m 4ms/step - binary_crossentropy: 0.0160 - logloss: 0.0161 - loss: 0.0193 - val_binary_crossentropy: 0.0158 - val_logloss: 0.0158 - val_loss: 0.0190\n",
      "Epoch 4/192\n",
      "\u001b[1m160/160\u001b[0m \u001b[32m━━━━━━━━━━━━━━━━━━━━\u001b[0m\u001b[37m\u001b[0m \u001b[1m1s\u001b[0m 4ms/step - binary_crossentropy: 0.0160 - logloss: 0.0161 - loss: 0.0193 - val_binary_crossentropy: 0.0158 - val_logloss: 0.0158 - val_loss: 0.0190\n",
      "Epoch 5/192\n",
      "\u001b[1m160/160\u001b[0m \u001b[32m━━━━━━━━━━━━━━━━━━━━\u001b[0m\u001b[37m\u001b[0m \u001b[1m1s\u001b[0m 4ms/step - binary_crossentropy: 0.0160 - logloss: 0.0160 - loss: 0.0193 - val_binary_crossentropy: 0.0158 - val_logloss: 0.0158 - val_loss: 0.0190\n",
      "\u001b[1m 71/107\u001b[0m \u001b[32m━━━━━━━━━━━━━\u001b[0m\u001b[37m━━━━━━━\u001b[0m \u001b[1m0s\u001b[0m 1ms/step"
     ]
    },
    {
     "name": "stderr",
     "output_type": "stream",
     "text": [
      "W0000 00:00:1716234591.703558      73 graph_launch.cc:671] Fallback to op-by-op mode because memset node breaks graph update\n"
     ]
    },
    {
     "name": "stdout",
     "output_type": "stream",
     "text": [
      "\u001b[1m107/107\u001b[0m \u001b[32m━━━━━━━━━━━━━━━━━━━━\u001b[0m\u001b[37m\u001b[0m \u001b[1m1s\u001b[0m 4ms/step\n",
      "\u001b[1m125/125\u001b[0m \u001b[32m━━━━━━━━━━━━━━━━━━━━\u001b[0m\u001b[37m\u001b[0m \u001b[1m0s\u001b[0m 2ms/step\n",
      "Epoch 1/192\n",
      "\u001b[1m 33/160\u001b[0m \u001b[32m━━━━\u001b[0m\u001b[37m━━━━━━━━━━━━━━━━\u001b[0m \u001b[1m0s\u001b[0m 5ms/step - binary_crossentropy: 0.0262 - logloss: 0.0261 - loss: 0.0294"
     ]
    },
    {
     "name": "stderr",
     "output_type": "stream",
     "text": [
      "W0000 00:00:1716234603.359239      72 graph_launch.cc:671] Fallback to op-by-op mode because memset node breaks graph update\n"
     ]
    },
    {
     "name": "stdout",
     "output_type": "stream",
     "text": [
      "\u001b[1m160/160\u001b[0m \u001b[32m━━━━━━━━━━━━━━━━━━━━\u001b[0m\u001b[37m\u001b[0m \u001b[1m0s\u001b[0m 51ms/step - binary_crossentropy: 0.0238 - logloss: 0.0237 - loss: 0.0270"
     ]
    },
    {
     "name": "stderr",
     "output_type": "stream",
     "text": [
      "W0000 00:00:1716234611.398545      72 graph_launch.cc:671] Fallback to op-by-op mode because memset node breaks graph update\n",
      "W0000 00:00:1716234612.062514      70 graph_launch.cc:671] Fallback to op-by-op mode because memset node breaks graph update\n"
     ]
    },
    {
     "name": "stdout",
     "output_type": "stream",
     "text": [
      "\u001b[1m160/160\u001b[0m \u001b[32m━━━━━━━━━━━━━━━━━━━━\u001b[0m\u001b[37m\u001b[0m \u001b[1m20s\u001b[0m 57ms/step - binary_crossentropy: 0.0238 - logloss: 0.0237 - loss: 0.0270 - val_binary_crossentropy: 0.0186 - val_logloss: 0.0185 - val_loss: 0.0218 - learning_rate: 3.2250e-04\n",
      "Epoch 2/192\n",
      "\u001b[1m 21/160\u001b[0m \u001b[32m━━\u001b[0m\u001b[37m━━━━━━━━━━━━━━━━━━\u001b[0m \u001b[1m0s\u001b[0m 5ms/step - binary_crossentropy: 0.0201 - logloss: 0.0200 - loss: 0.0233"
     ]
    },
    {
     "name": "stderr",
     "output_type": "stream",
     "text": [
      "W0000 00:00:1716234612.471181      72 graph_launch.cc:671] Fallback to op-by-op mode because memset node breaks graph update\n"
     ]
    },
    {
     "name": "stdout",
     "output_type": "stream",
     "text": [
      "\u001b[1m160/160\u001b[0m \u001b[32m━━━━━━━━━━━━━━━━━━━━\u001b[0m\u001b[37m\u001b[0m \u001b[1m1s\u001b[0m 5ms/step - binary_crossentropy: 0.0195 - logloss: 0.0195 - loss: 0.0227 - val_binary_crossentropy: 0.0180 - val_logloss: 0.0179 - val_loss: 0.0210 - learning_rate: 6.3500e-04\n",
      "Epoch 3/192\n",
      "\u001b[1m160/160\u001b[0m \u001b[32m━━━━━━━━━━━━━━━━━━━━\u001b[0m\u001b[37m\u001b[0m \u001b[1m1s\u001b[0m 4ms/step - binary_crossentropy: 0.0183 - logloss: 0.0183 - loss: 0.0215 - val_binary_crossentropy: 0.0175 - val_logloss: 0.0175 - val_loss: 0.0206 - learning_rate: 9.4750e-04\n",
      "Epoch 4/192\n",
      "\u001b[1m160/160\u001b[0m \u001b[32m━━━━━━━━━━━━━━━━━━━━\u001b[0m\u001b[37m\u001b[0m \u001b[1m1s\u001b[0m 4ms/step - binary_crossentropy: 0.0177 - logloss: 0.0177 - loss: 0.0210 - val_binary_crossentropy: 0.0174 - val_logloss: 0.0174 - val_loss: 0.0207 - learning_rate: 0.0013\n",
      "Epoch 5/192\n",
      "\u001b[1m160/160\u001b[0m \u001b[32m━━━━━━━━━━━━━━━━━━━━\u001b[0m\u001b[37m\u001b[0m \u001b[1m1s\u001b[0m 4ms/step - binary_crossentropy: 0.0175 - logloss: 0.0175 - loss: 0.0208 - val_binary_crossentropy: 0.0175 - val_logloss: 0.0175 - val_loss: 0.0208 - learning_rate: 0.0016\n",
      "Epoch 6/192\n",
      "\u001b[1m160/160\u001b[0m \u001b[32m━━━━━━━━━━━━━━━━━━━━\u001b[0m\u001b[37m\u001b[0m \u001b[1m1s\u001b[0m 4ms/step - binary_crossentropy: 0.0173 - logloss: 0.0173 - loss: 0.0207 - val_binary_crossentropy: 0.0169 - val_logloss: 0.0169 - val_loss: 0.0203 - learning_rate: 0.0019\n",
      "Epoch 7/192\n",
      "\u001b[1m160/160\u001b[0m \u001b[32m━━━━━━━━━━━━━━━━━━━━\u001b[0m\u001b[37m\u001b[0m \u001b[1m1s\u001b[0m 4ms/step - binary_crossentropy: 0.0173 - logloss: 0.0173 - loss: 0.0207 - val_binary_crossentropy: 0.0171 - val_logloss: 0.0170 - val_loss: 0.0204 - learning_rate: 0.0022\n",
      "Epoch 8/192\n",
      "\u001b[1m160/160\u001b[0m \u001b[32m━━━━━━━━━━━━━━━━━━━━\u001b[0m\u001b[37m\u001b[0m \u001b[1m1s\u001b[0m 4ms/step - binary_crossentropy: 0.0172 - logloss: 0.0172 - loss: 0.0205 - val_binary_crossentropy: 0.0170 - val_logloss: 0.0170 - val_loss: 0.0204 - learning_rate: 0.0025\n",
      "Epoch 9/192\n",
      "\u001b[1m160/160\u001b[0m \u001b[32m━━━━━━━━━━━━━━━━━━━━\u001b[0m\u001b[37m\u001b[0m \u001b[1m1s\u001b[0m 5ms/step - binary_crossentropy: 0.0172 - logloss: 0.0171 - loss: 0.0205 - val_binary_crossentropy: 0.0173 - val_logloss: 0.0173 - val_loss: 0.0207 - learning_rate: 0.0028\n",
      "Epoch 10/192\n",
      "\u001b[1m160/160\u001b[0m \u001b[32m━━━━━━━━━━━━━━━━━━━━\u001b[0m\u001b[37m\u001b[0m \u001b[1m1s\u001b[0m 4ms/step - binary_crossentropy: 0.0171 - logloss: 0.0170 - loss: 0.0204 - val_binary_crossentropy: 0.0168 - val_logloss: 0.0168 - val_loss: 0.0203 - learning_rate: 0.0025\n",
      "Epoch 11/192\n",
      "\u001b[1m160/160\u001b[0m \u001b[32m━━━━━━━━━━━━━━━━━━━━\u001b[0m\u001b[37m\u001b[0m \u001b[1m1s\u001b[0m 4ms/step - binary_crossentropy: 0.0168 - logloss: 0.0168 - loss: 0.0202 - val_binary_crossentropy: 0.0166 - val_logloss: 0.0166 - val_loss: 0.0199 - learning_rate: 0.0022\n",
      "Epoch 12/192\n",
      "\u001b[1m160/160\u001b[0m \u001b[32m━━━━━━━━━━━━━━━━━━━━\u001b[0m\u001b[37m\u001b[0m \u001b[1m1s\u001b[0m 4ms/step - binary_crossentropy: 0.0167 - logloss: 0.0168 - loss: 0.0201 - val_binary_crossentropy: 0.0166 - val_logloss: 0.0167 - val_loss: 0.0199 - learning_rate: 0.0019\n",
      "Epoch 13/192\n",
      "\u001b[1m160/160\u001b[0m \u001b[32m━━━━━━━━━━━━━━━━━━━━\u001b[0m\u001b[37m\u001b[0m \u001b[1m1s\u001b[0m 4ms/step - binary_crossentropy: 0.0165 - logloss: 0.0166 - loss: 0.0199 - val_binary_crossentropy: 0.0163 - val_logloss: 0.0163 - val_loss: 0.0196 - learning_rate: 0.0016\n",
      "Epoch 14/192\n",
      "\u001b[1m160/160\u001b[0m \u001b[32m━━━━━━━━━━━━━━━━━━━━\u001b[0m\u001b[37m\u001b[0m \u001b[1m1s\u001b[0m 4ms/step - binary_crossentropy: 0.0165 - logloss: 0.0165 - loss: 0.0198 - val_binary_crossentropy: 0.0162 - val_logloss: 0.0162 - val_loss: 0.0194 - learning_rate: 0.0013\n",
      "Epoch 15/192\n",
      "\u001b[1m160/160\u001b[0m \u001b[32m━━━━━━━━━━━━━━━━━━━━\u001b[0m\u001b[37m\u001b[0m \u001b[1m1s\u001b[0m 4ms/step - binary_crossentropy: 0.0164 - logloss: 0.0164 - loss: 0.0197 - val_binary_crossentropy: 0.0162 - val_logloss: 0.0162 - val_loss: 0.0194 - learning_rate: 9.4750e-04\n",
      "Epoch 16/192\n",
      "\u001b[1m160/160\u001b[0m \u001b[32m━━━━━━━━━━━━━━━━━━━━\u001b[0m\u001b[37m\u001b[0m \u001b[1m1s\u001b[0m 4ms/step - binary_crossentropy: 0.0163 - logloss: 0.0163 - loss: 0.0196 - val_binary_crossentropy: 0.0160 - val_logloss: 0.0161 - val_loss: 0.0192 - learning_rate: 6.3500e-04\n",
      "Epoch 17/192\n",
      "\u001b[1m160/160\u001b[0m \u001b[32m━━━━━━━━━━━━━━━━━━━━\u001b[0m\u001b[37m\u001b[0m \u001b[1m1s\u001b[0m 4ms/step - binary_crossentropy: 0.0162 - logloss: 0.0163 - loss: 0.0195 - val_binary_crossentropy: 0.0160 - val_logloss: 0.0160 - val_loss: 0.0192 - learning_rate: 7.4996e-04\n",
      "Epoch 18/192\n",
      "\u001b[1m160/160\u001b[0m \u001b[32m━━━━━━━━━━━━━━━━━━━━\u001b[0m\u001b[37m\u001b[0m \u001b[1m1s\u001b[0m 4ms/step - binary_crossentropy: 0.0162 - logloss: 0.0162 - loss: 0.0195 - val_binary_crossentropy: 0.0159 - val_logloss: 0.0160 - val_loss: 0.0191 - learning_rate: 8.6492e-04\n",
      "Epoch 19/192\n",
      "\u001b[1m160/160\u001b[0m \u001b[32m━━━━━━━━━━━━━━━━━━━━\u001b[0m\u001b[37m\u001b[0m \u001b[1m1s\u001b[0m 4ms/step - binary_crossentropy: 0.0161 - logloss: 0.0162 - loss: 0.0194 - val_binary_crossentropy: 0.0160 - val_logloss: 0.0160 - val_loss: 0.0192 - learning_rate: 9.7989e-04\n",
      "Epoch 20/192\n",
      "\u001b[1m160/160\u001b[0m \u001b[32m━━━━━━━━━━━━━━━━━━━━\u001b[0m\u001b[37m\u001b[0m \u001b[1m1s\u001b[0m 4ms/step - binary_crossentropy: 0.0161 - logloss: 0.0162 - loss: 0.0194 - val_binary_crossentropy: 0.0160 - val_logloss: 0.0160 - val_loss: 0.0192 - learning_rate: 0.0011\n",
      "Epoch 21/192\n",
      "\u001b[1m160/160\u001b[0m \u001b[32m━━━━━━━━━━━━━━━━━━━━\u001b[0m\u001b[37m\u001b[0m \u001b[1m1s\u001b[0m 4ms/step - binary_crossentropy: 0.0161 - logloss: 0.0162 - loss: 0.0194 - val_binary_crossentropy: 0.0161 - val_logloss: 0.0161 - val_loss: 0.0193 - learning_rate: 0.0012\n",
      "Epoch 22/192\n",
      "\u001b[1m160/160\u001b[0m \u001b[32m━━━━━━━━━━━━━━━━━━━━\u001b[0m\u001b[37m\u001b[0m \u001b[1m1s\u001b[0m 4ms/step - binary_crossentropy: 0.0162 - logloss: 0.0162 - loss: 0.0195 - val_binary_crossentropy: 0.0161 - val_logloss: 0.0162 - val_loss: 0.0194 - learning_rate: 0.0013\n",
      "Epoch 23/192\n",
      "\u001b[1m160/160\u001b[0m \u001b[32m━━━━━━━━━━━━━━━━━━━━\u001b[0m\u001b[37m\u001b[0m \u001b[1m1s\u001b[0m 4ms/step - binary_crossentropy: 0.0161 - logloss: 0.0162 - loss: 0.0194 - val_binary_crossentropy: 0.0160 - val_logloss: 0.0160 - val_loss: 0.0192 - learning_rate: 0.0014\n",
      "Epoch 1/192\n",
      "\u001b[1m 33/160\u001b[0m \u001b[32m━━━━\u001b[0m\u001b[37m━━━━━━━━━━━━━━━━\u001b[0m \u001b[1m0s\u001b[0m 5ms/step - binary_crossentropy: 0.0164 - logloss: 0.0164 - loss: 0.0197"
     ]
    },
    {
     "name": "stderr",
     "output_type": "stream",
     "text": [
      "W0000 00:00:1716234638.591784      71 graph_launch.cc:671] Fallback to op-by-op mode because memset node breaks graph update\n"
     ]
    },
    {
     "name": "stdout",
     "output_type": "stream",
     "text": [
      "\u001b[1m160/160\u001b[0m \u001b[32m━━━━━━━━━━━━━━━━━━━━\u001b[0m\u001b[37m\u001b[0m \u001b[1m0s\u001b[0m 49ms/step - binary_crossentropy: 0.0162 - logloss: 0.0162 - loss: 0.0195"
     ]
    },
    {
     "name": "stderr",
     "output_type": "stream",
     "text": [
      "W0000 00:00:1716234646.317833      70 graph_launch.cc:671] Fallback to op-by-op mode because memset node breaks graph update\n",
      "W0000 00:00:1716234646.993421      73 graph_launch.cc:671] Fallback to op-by-op mode because memset node breaks graph update\n"
     ]
    },
    {
     "name": "stdout",
     "output_type": "stream",
     "text": [
      "\u001b[1m160/160\u001b[0m \u001b[32m━━━━━━━━━━━━━━━━━━━━\u001b[0m\u001b[37m\u001b[0m \u001b[1m19s\u001b[0m 55ms/step - binary_crossentropy: 0.0162 - logloss: 0.0162 - loss: 0.0195 - val_binary_crossentropy: 0.0160 - val_logloss: 0.0160 - val_loss: 0.0192\n",
      "Epoch 2/192\n",
      "\u001b[1m 22/160\u001b[0m \u001b[32m━━\u001b[0m\u001b[37m━━━━━━━━━━━━━━━━━━\u001b[0m \u001b[1m0s\u001b[0m 5ms/step - binary_crossentropy: 0.0164 - logloss: 0.0165 - loss: 0.0197"
     ]
    },
    {
     "name": "stderr",
     "output_type": "stream",
     "text": [
      "W0000 00:00:1716234647.386752      71 graph_launch.cc:671] Fallback to op-by-op mode because memset node breaks graph update\n"
     ]
    },
    {
     "name": "stdout",
     "output_type": "stream",
     "text": [
      "\u001b[1m160/160\u001b[0m \u001b[32m━━━━━━━━━━━━━━━━━━━━\u001b[0m\u001b[37m\u001b[0m \u001b[1m1s\u001b[0m 5ms/step - binary_crossentropy: 0.0161 - logloss: 0.0161 - loss: 0.0194 - val_binary_crossentropy: 0.0160 - val_logloss: 0.0160 - val_loss: 0.0192\n",
      "Epoch 3/192\n",
      "\u001b[1m160/160\u001b[0m \u001b[32m━━━━━━━━━━━━━━━━━━━━\u001b[0m\u001b[37m\u001b[0m \u001b[1m1s\u001b[0m 4ms/step - binary_crossentropy: 0.0162 - logloss: 0.0162 - loss: 0.0195 - val_binary_crossentropy: 0.0160 - val_logloss: 0.0160 - val_loss: 0.0192\n",
      "Epoch 4/192\n",
      "\u001b[1m160/160\u001b[0m \u001b[32m━━━━━━━━━━━━━━━━━━━━\u001b[0m\u001b[37m\u001b[0m \u001b[1m1s\u001b[0m 4ms/step - binary_crossentropy: 0.0161 - logloss: 0.0161 - loss: 0.0194 - val_binary_crossentropy: 0.0160 - val_logloss: 0.0160 - val_loss: 0.0192\n",
      "Epoch 5/192\n",
      "\u001b[1m160/160\u001b[0m \u001b[32m━━━━━━━━━━━━━━━━━━━━\u001b[0m\u001b[37m\u001b[0m \u001b[1m1s\u001b[0m 4ms/step - binary_crossentropy: 0.0161 - logloss: 0.0161 - loss: 0.0194 - val_binary_crossentropy: 0.0160 - val_logloss: 0.0160 - val_loss: 0.0192\n",
      "\u001b[1m101/107\u001b[0m \u001b[32m━━━━━━━━━━━━━━━━━━\u001b[0m\u001b[37m━━\u001b[0m \u001b[1m0s\u001b[0m 2ms/step"
     ]
    },
    {
     "name": "stderr",
     "output_type": "stream",
     "text": [
      "W0000 00:00:1716234651.296306      72 graph_launch.cc:671] Fallback to op-by-op mode because memset node breaks graph update\n"
     ]
    },
    {
     "name": "stdout",
     "output_type": "stream",
     "text": [
      "\u001b[1m107/107\u001b[0m \u001b[32m━━━━━━━━━━━━━━━━━━━━\u001b[0m\u001b[37m\u001b[0m \u001b[1m1s\u001b[0m 4ms/step\n",
      "\u001b[1m125/125\u001b[0m \u001b[32m━━━━━━━━━━━━━━━━━━━━\u001b[0m\u001b[37m\u001b[0m \u001b[1m0s\u001b[0m 2ms/step\n",
      "Epoch 1/192\n",
      "\u001b[1m 33/160\u001b[0m \u001b[32m━━━━\u001b[0m\u001b[37m━━━━━━━━━━━━━━━━\u001b[0m \u001b[1m0s\u001b[0m 5ms/step - binary_crossentropy: 0.0264 - logloss: 0.0263 - loss: 0.0296"
     ]
    },
    {
     "name": "stderr",
     "output_type": "stream",
     "text": [
      "W0000 00:00:1716234663.024497      70 graph_launch.cc:671] Fallback to op-by-op mode because memset node breaks graph update\n"
     ]
    },
    {
     "name": "stdout",
     "output_type": "stream",
     "text": [
      "\u001b[1m160/160\u001b[0m \u001b[32m━━━━━━━━━━━━━━━━━━━━\u001b[0m\u001b[37m\u001b[0m \u001b[1m0s\u001b[0m 49ms/step - binary_crossentropy: 0.0239 - logloss: 0.0238 - loss: 0.0271"
     ]
    },
    {
     "name": "stderr",
     "output_type": "stream",
     "text": [
      "W0000 00:00:1716234670.865778      72 graph_launch.cc:671] Fallback to op-by-op mode because memset node breaks graph update\n",
      "W0000 00:00:1716234671.536094      72 graph_launch.cc:671] Fallback to op-by-op mode because memset node breaks graph update\n"
     ]
    },
    {
     "name": "stdout",
     "output_type": "stream",
     "text": [
      "\u001b[1m160/160\u001b[0m \u001b[32m━━━━━━━━━━━━━━━━━━━━\u001b[0m\u001b[37m\u001b[0m \u001b[1m19s\u001b[0m 56ms/step - binary_crossentropy: 0.0239 - logloss: 0.0238 - loss: 0.0270 - val_binary_crossentropy: 0.0183 - val_logloss: 0.0182 - val_loss: 0.0216 - learning_rate: 3.2250e-04\n",
      "Epoch 2/192\n",
      "\u001b[1m 34/160\u001b[0m \u001b[32m━━━━\u001b[0m\u001b[37m━━━━━━━━━━━━━━━━\u001b[0m \u001b[1m0s\u001b[0m 5ms/step - binary_crossentropy: 0.0199 - logloss: 0.0199 - loss: 0.0231"
     ]
    },
    {
     "name": "stderr",
     "output_type": "stream",
     "text": [
      "W0000 00:00:1716234671.916833      70 graph_launch.cc:671] Fallback to op-by-op mode because memset node breaks graph update\n"
     ]
    },
    {
     "name": "stdout",
     "output_type": "stream",
     "text": [
      "\u001b[1m160/160\u001b[0m \u001b[32m━━━━━━━━━━━━━━━━━━━━\u001b[0m\u001b[37m\u001b[0m \u001b[1m1s\u001b[0m 5ms/step - binary_crossentropy: 0.0196 - logloss: 0.0195 - loss: 0.0228 - val_binary_crossentropy: 0.0178 - val_logloss: 0.0177 - val_loss: 0.0209 - learning_rate: 6.3500e-04\n",
      "Epoch 3/192\n",
      "\u001b[1m160/160\u001b[0m \u001b[32m━━━━━━━━━━━━━━━━━━━━\u001b[0m\u001b[37m\u001b[0m \u001b[1m1s\u001b[0m 5ms/step - binary_crossentropy: 0.0183 - logloss: 0.0183 - loss: 0.0215 - val_binary_crossentropy: 0.0172 - val_logloss: 0.0171 - val_loss: 0.0203 - learning_rate: 9.4750e-04\n",
      "Epoch 4/192\n",
      "\u001b[1m160/160\u001b[0m \u001b[32m━━━━━━━━━━━━━━━━━━━━\u001b[0m\u001b[37m\u001b[0m \u001b[1m1s\u001b[0m 4ms/step - binary_crossentropy: 0.0177 - logloss: 0.0177 - loss: 0.0210 - val_binary_crossentropy: 0.0170 - val_logloss: 0.0170 - val_loss: 0.0203 - learning_rate: 0.0013\n",
      "Epoch 5/192\n",
      "\u001b[1m160/160\u001b[0m \u001b[32m━━━━━━━━━━━━━━━━━━━━\u001b[0m\u001b[37m\u001b[0m \u001b[1m1s\u001b[0m 4ms/step - binary_crossentropy: 0.0174 - logloss: 0.0174 - loss: 0.0207 - val_binary_crossentropy: 0.0169 - val_logloss: 0.0169 - val_loss: 0.0203 - learning_rate: 0.0016\n",
      "Epoch 6/192\n",
      "\u001b[1m160/160\u001b[0m \u001b[32m━━━━━━━━━━━━━━━━━━━━\u001b[0m\u001b[37m\u001b[0m \u001b[1m1s\u001b[0m 4ms/step - binary_crossentropy: 0.0174 - logloss: 0.0174 - loss: 0.0207 - val_binary_crossentropy: 0.0168 - val_logloss: 0.0167 - val_loss: 0.0201 - learning_rate: 0.0019\n",
      "Epoch 7/192\n",
      "\u001b[1m160/160\u001b[0m \u001b[32m━━━━━━━━━━━━━━━━━━━━\u001b[0m\u001b[37m\u001b[0m \u001b[1m1s\u001b[0m 4ms/step - binary_crossentropy: 0.0171 - logloss: 0.0171 - loss: 0.0205 - val_binary_crossentropy: 0.0169 - val_logloss: 0.0168 - val_loss: 0.0203 - learning_rate: 0.0022\n",
      "Epoch 8/192\n",
      "\u001b[1m160/160\u001b[0m \u001b[32m━━━━━━━━━━━━━━━━━━━━\u001b[0m\u001b[37m\u001b[0m \u001b[1m1s\u001b[0m 4ms/step - binary_crossentropy: 0.0172 - logloss: 0.0172 - loss: 0.0205 - val_binary_crossentropy: 0.0168 - val_logloss: 0.0168 - val_loss: 0.0202 - learning_rate: 0.0025\n",
      "Epoch 9/192\n",
      "\u001b[1m160/160\u001b[0m \u001b[32m━━━━━━━━━━━━━━━━━━━━\u001b[0m\u001b[37m\u001b[0m \u001b[1m1s\u001b[0m 4ms/step - binary_crossentropy: 0.0171 - logloss: 0.0171 - loss: 0.0205 - val_binary_crossentropy: 0.0170 - val_logloss: 0.0170 - val_loss: 0.0203 - learning_rate: 0.0028\n",
      "Epoch 10/192\n",
      "\u001b[1m160/160\u001b[0m \u001b[32m━━━━━━━━━━━━━━━━━━━━\u001b[0m\u001b[37m\u001b[0m \u001b[1m1s\u001b[0m 5ms/step - binary_crossentropy: 0.0170 - logloss: 0.0170 - loss: 0.0204 - val_binary_crossentropy: 0.0164 - val_logloss: 0.0163 - val_loss: 0.0197 - learning_rate: 0.0025\n",
      "Epoch 11/192\n",
      "\u001b[1m160/160\u001b[0m \u001b[32m━━━━━━━━━━━━━━━━━━━━\u001b[0m\u001b[37m\u001b[0m \u001b[1m1s\u001b[0m 4ms/step - binary_crossentropy: 0.0168 - logloss: 0.0168 - loss: 0.0202 - val_binary_crossentropy: 0.0163 - val_logloss: 0.0162 - val_loss: 0.0196 - learning_rate: 0.0022\n",
      "Epoch 12/192\n",
      "\u001b[1m160/160\u001b[0m \u001b[32m━━━━━━━━━━━━━━━━━━━━\u001b[0m\u001b[37m\u001b[0m \u001b[1m1s\u001b[0m 4ms/step - binary_crossentropy: 0.0167 - logloss: 0.0167 - loss: 0.0200 - val_binary_crossentropy: 0.0162 - val_logloss: 0.0161 - val_loss: 0.0194 - learning_rate: 0.0019\n",
      "Epoch 13/192\n",
      "\u001b[1m160/160\u001b[0m \u001b[32m━━━━━━━━━━━━━━━━━━━━\u001b[0m\u001b[37m\u001b[0m \u001b[1m1s\u001b[0m 5ms/step - binary_crossentropy: 0.0165 - logloss: 0.0166 - loss: 0.0199 - val_binary_crossentropy: 0.0160 - val_logloss: 0.0160 - val_loss: 0.0193 - learning_rate: 0.0016\n",
      "Epoch 14/192\n",
      "\u001b[1m160/160\u001b[0m \u001b[32m━━━━━━━━━━━━━━━━━━━━\u001b[0m\u001b[37m\u001b[0m \u001b[1m1s\u001b[0m 4ms/step - binary_crossentropy: 0.0165 - logloss: 0.0165 - loss: 0.0198 - val_binary_crossentropy: 0.0159 - val_logloss: 0.0159 - val_loss: 0.0192 - learning_rate: 0.0013\n",
      "Epoch 15/192\n",
      "\u001b[1m160/160\u001b[0m \u001b[32m━━━━━━━━━━━━━━━━━━━━\u001b[0m\u001b[37m\u001b[0m \u001b[1m1s\u001b[0m 4ms/step - binary_crossentropy: 0.0163 - logloss: 0.0163 - loss: 0.0196 - val_binary_crossentropy: 0.0159 - val_logloss: 0.0158 - val_loss: 0.0191 - learning_rate: 9.4750e-04\n",
      "Epoch 16/192\n",
      "\u001b[1m160/160\u001b[0m \u001b[32m━━━━━━━━━━━━━━━━━━━━\u001b[0m\u001b[37m\u001b[0m \u001b[1m1s\u001b[0m 4ms/step - binary_crossentropy: 0.0163 - logloss: 0.0163 - loss: 0.0196 - val_binary_crossentropy: 0.0158 - val_logloss: 0.0158 - val_loss: 0.0190 - learning_rate: 6.3500e-04\n",
      "Epoch 17/192\n",
      "\u001b[1m160/160\u001b[0m \u001b[32m━━━━━━━━━━━━━━━━━━━━\u001b[0m\u001b[37m\u001b[0m \u001b[1m1s\u001b[0m 4ms/step - binary_crossentropy: 0.0162 - logloss: 0.0162 - loss: 0.0195 - val_binary_crossentropy: 0.0158 - val_logloss: 0.0157 - val_loss: 0.0190 - learning_rate: 7.4996e-04\n",
      "Epoch 18/192\n",
      "\u001b[1m160/160\u001b[0m \u001b[32m━━━━━━━━━━━━━━━━━━━━\u001b[0m\u001b[37m\u001b[0m \u001b[1m1s\u001b[0m 4ms/step - binary_crossentropy: 0.0161 - logloss: 0.0161 - loss: 0.0194 - val_binary_crossentropy: 0.0158 - val_logloss: 0.0157 - val_loss: 0.0190 - learning_rate: 8.6492e-04\n",
      "Epoch 19/192\n",
      "\u001b[1m160/160\u001b[0m \u001b[32m━━━━━━━━━━━━━━━━━━━━\u001b[0m\u001b[37m\u001b[0m \u001b[1m1s\u001b[0m 4ms/step - binary_crossentropy: 0.0162 - logloss: 0.0162 - loss: 0.0195 - val_binary_crossentropy: 0.0157 - val_logloss: 0.0157 - val_loss: 0.0189 - learning_rate: 9.7989e-04\n",
      "Epoch 20/192\n",
      "\u001b[1m160/160\u001b[0m \u001b[32m━━━━━━━━━━━━━━━━━━━━\u001b[0m\u001b[37m\u001b[0m \u001b[1m1s\u001b[0m 4ms/step - binary_crossentropy: 0.0162 - logloss: 0.0162 - loss: 0.0195 - val_binary_crossentropy: 0.0157 - val_logloss: 0.0157 - val_loss: 0.0190 - learning_rate: 0.0011\n",
      "Epoch 21/192\n",
      "\u001b[1m160/160\u001b[0m \u001b[32m━━━━━━━━━━━━━━━━━━━━\u001b[0m\u001b[37m\u001b[0m \u001b[1m1s\u001b[0m 4ms/step - binary_crossentropy: 0.0162 - logloss: 0.0162 - loss: 0.0195 - val_binary_crossentropy: 0.0158 - val_logloss: 0.0158 - val_loss: 0.0190 - learning_rate: 0.0012\n",
      "Epoch 22/192\n",
      "\u001b[1m160/160\u001b[0m \u001b[32m━━━━━━━━━━━━━━━━━━━━\u001b[0m\u001b[37m\u001b[0m \u001b[1m1s\u001b[0m 4ms/step - binary_crossentropy: 0.0162 - logloss: 0.0162 - loss: 0.0195 - val_binary_crossentropy: 0.0157 - val_logloss: 0.0157 - val_loss: 0.0190 - learning_rate: 0.0013\n",
      "Epoch 23/192\n",
      "\u001b[1m160/160\u001b[0m \u001b[32m━━━━━━━━━━━━━━━━━━━━\u001b[0m\u001b[37m\u001b[0m \u001b[1m1s\u001b[0m 4ms/step - binary_crossentropy: 0.0162 - logloss: 0.0163 - loss: 0.0195 - val_binary_crossentropy: 0.0159 - val_logloss: 0.0158 - val_loss: 0.0191 - learning_rate: 0.0014\n",
      "Epoch 24/192\n",
      "\u001b[1m160/160\u001b[0m \u001b[32m━━━━━━━━━━━━━━━━━━━━\u001b[0m\u001b[37m\u001b[0m \u001b[1m1s\u001b[0m 4ms/step - binary_crossentropy: 0.0162 - logloss: 0.0162 - loss: 0.0195 - val_binary_crossentropy: 0.0157 - val_logloss: 0.0157 - val_loss: 0.0189 - learning_rate: 0.0016\n",
      "Epoch 25/192\n",
      "\u001b[1m160/160\u001b[0m \u001b[32m━━━━━━━━━━━━━━━━━━━━\u001b[0m\u001b[37m\u001b[0m \u001b[1m1s\u001b[0m 4ms/step - binary_crossentropy: 0.0162 - logloss: 0.0163 - loss: 0.0195 - val_binary_crossentropy: 0.0160 - val_logloss: 0.0159 - val_loss: 0.0192 - learning_rate: 0.0017\n",
      "Epoch 26/192\n",
      "\u001b[1m160/160\u001b[0m \u001b[32m━━━━━━━━━━━━━━━━━━━━\u001b[0m\u001b[37m\u001b[0m \u001b[1m1s\u001b[0m 4ms/step - binary_crossentropy: 0.0162 - logloss: 0.0162 - loss: 0.0195 - val_binary_crossentropy: 0.0160 - val_logloss: 0.0159 - val_loss: 0.0192 - learning_rate: 0.0016\n",
      "Epoch 27/192\n",
      "\u001b[1m160/160\u001b[0m \u001b[32m━━━━━━━━━━━━━━━━━━━━\u001b[0m\u001b[37m\u001b[0m \u001b[1m1s\u001b[0m 4ms/step - binary_crossentropy: 0.0162 - logloss: 0.0162 - loss: 0.0195 - val_binary_crossentropy: 0.0157 - val_logloss: 0.0157 - val_loss: 0.0190 - learning_rate: 0.0014\n",
      "Epoch 28/192\n",
      "\u001b[1m160/160\u001b[0m \u001b[32m━━━━━━━━━━━━━━━━━━━━\u001b[0m\u001b[37m\u001b[0m \u001b[1m1s\u001b[0m 4ms/step - binary_crossentropy: 0.0162 - logloss: 0.0162 - loss: 0.0194 - val_binary_crossentropy: 0.0157 - val_logloss: 0.0157 - val_loss: 0.0189 - learning_rate: 0.0013\n",
      "Epoch 29/192\n",
      "\u001b[1m160/160\u001b[0m \u001b[32m━━━━━━━━━━━━━━━━━━━━\u001b[0m\u001b[37m\u001b[0m \u001b[1m1s\u001b[0m 4ms/step - binary_crossentropy: 0.0161 - logloss: 0.0161 - loss: 0.0194 - val_binary_crossentropy: 0.0156 - val_logloss: 0.0156 - val_loss: 0.0189 - learning_rate: 0.0012\n",
      "Epoch 30/192\n",
      "\u001b[1m160/160\u001b[0m \u001b[32m━━━━━━━━━━━━━━━━━━━━\u001b[0m\u001b[37m\u001b[0m \u001b[1m1s\u001b[0m 4ms/step - binary_crossentropy: 0.0161 - logloss: 0.0161 - loss: 0.0193 - val_binary_crossentropy: 0.0157 - val_logloss: 0.0157 - val_loss: 0.0190 - learning_rate: 0.0011\n",
      "Epoch 31/192\n",
      "\u001b[1m160/160\u001b[0m \u001b[32m━━━━━━━━━━━━━━━━━━━━\u001b[0m\u001b[37m\u001b[0m \u001b[1m1s\u001b[0m 4ms/step - binary_crossentropy: 0.0160 - logloss: 0.0160 - loss: 0.0193 - val_binary_crossentropy: 0.0157 - val_logloss: 0.0156 - val_loss: 0.0189 - learning_rate: 9.7989e-04\n",
      "Epoch 32/192\n",
      "\u001b[1m160/160\u001b[0m \u001b[32m━━━━━━━━━━━━━━━━━━━━\u001b[0m\u001b[37m\u001b[0m \u001b[1m1s\u001b[0m 4ms/step - binary_crossentropy: 0.0159 - logloss: 0.0159 - loss: 0.0192 - val_binary_crossentropy: 0.0156 - val_logloss: 0.0155 - val_loss: 0.0188 - learning_rate: 8.6492e-04\n",
      "Epoch 33/192\n",
      "\u001b[1m160/160\u001b[0m \u001b[32m━━━━━━━━━━━━━━━━━━━━\u001b[0m\u001b[37m\u001b[0m \u001b[1m1s\u001b[0m 4ms/step - binary_crossentropy: 0.0159 - logloss: 0.0159 - loss: 0.0192 - val_binary_crossentropy: 0.0155 - val_logloss: 0.0155 - val_loss: 0.0188 - learning_rate: 9.0722e-04\n",
      "Epoch 34/192\n",
      "\u001b[1m160/160\u001b[0m \u001b[32m━━━━━━━━━━━━━━━━━━━━\u001b[0m\u001b[37m\u001b[0m \u001b[1m1s\u001b[0m 4ms/step - binary_crossentropy: 0.0159 - logloss: 0.0159 - loss: 0.0192 - val_binary_crossentropy: 0.0155 - val_logloss: 0.0155 - val_loss: 0.0187 - learning_rate: 9.4951e-04\n",
      "Epoch 35/192\n",
      "\u001b[1m160/160\u001b[0m \u001b[32m━━━━━━━━━━━━━━━━━━━━\u001b[0m\u001b[37m\u001b[0m \u001b[1m1s\u001b[0m 4ms/step - binary_crossentropy: 0.0158 - logloss: 0.0159 - loss: 0.0191 - val_binary_crossentropy: 0.0157 - val_logloss: 0.0157 - val_loss: 0.0189 - learning_rate: 9.9180e-04\n",
      "Epoch 36/192\n",
      "\u001b[1m160/160\u001b[0m \u001b[32m━━━━━━━━━━━━━━━━━━━━\u001b[0m\u001b[37m\u001b[0m \u001b[1m1s\u001b[0m 4ms/step - binary_crossentropy: 0.0159 - logloss: 0.0159 - loss: 0.0192 - val_binary_crossentropy: 0.0156 - val_logloss: 0.0155 - val_loss: 0.0188 - learning_rate: 0.0010\n",
      "Epoch 37/192\n",
      "\u001b[1m160/160\u001b[0m \u001b[32m━━━━━━━━━━━━━━━━━━━━\u001b[0m\u001b[37m\u001b[0m \u001b[1m1s\u001b[0m 4ms/step - binary_crossentropy: 0.0159 - logloss: 0.0159 - loss: 0.0192 - val_binary_crossentropy: 0.0156 - val_logloss: 0.0155 - val_loss: 0.0188 - learning_rate: 0.0011\n",
      "Epoch 38/192\n",
      "\u001b[1m160/160\u001b[0m \u001b[32m━━━━━━━━━━━━━━━━━━━━\u001b[0m\u001b[37m\u001b[0m \u001b[1m1s\u001b[0m 4ms/step - binary_crossentropy: 0.0159 - logloss: 0.0159 - loss: 0.0192 - val_binary_crossentropy: 0.0155 - val_logloss: 0.0155 - val_loss: 0.0187 - learning_rate: 0.0011\n",
      "Epoch 39/192\n",
      "\u001b[1m160/160\u001b[0m \u001b[32m━━━━━━━━━━━━━━━━━━━━\u001b[0m\u001b[37m\u001b[0m \u001b[1m1s\u001b[0m 4ms/step - binary_crossentropy: 0.0158 - logloss: 0.0159 - loss: 0.0191 - val_binary_crossentropy: 0.0155 - val_logloss: 0.0155 - val_loss: 0.0188 - learning_rate: 0.0012\n",
      "Epoch 1/192\n",
      "\u001b[1m 33/160\u001b[0m \u001b[32m━━━━\u001b[0m\u001b[37m━━━━━━━━━━━━━━━━\u001b[0m \u001b[1m0s\u001b[0m 5ms/step - binary_crossentropy: 0.0158 - logloss: 0.0158 - loss: 0.0191"
     ]
    },
    {
     "name": "stderr",
     "output_type": "stream",
     "text": [
      "W0000 00:00:1716234708.936005      73 graph_launch.cc:671] Fallback to op-by-op mode because memset node breaks graph update\n"
     ]
    },
    {
     "name": "stdout",
     "output_type": "stream",
     "text": [
      "\u001b[1m160/160\u001b[0m \u001b[32m━━━━━━━━━━━━━━━━━━━━\u001b[0m\u001b[37m\u001b[0m \u001b[1m0s\u001b[0m 50ms/step - binary_crossentropy: 0.0157 - logloss: 0.0157 - loss: 0.0190"
     ]
    },
    {
     "name": "stderr",
     "output_type": "stream",
     "text": [
      "W0000 00:00:1716234716.913437      73 graph_launch.cc:671] Fallback to op-by-op mode because memset node breaks graph update\n",
      "W0000 00:00:1716234717.602159      72 graph_launch.cc:671] Fallback to op-by-op mode because memset node breaks graph update\n"
     ]
    },
    {
     "name": "stdout",
     "output_type": "stream",
     "text": [
      "\u001b[1m160/160\u001b[0m \u001b[32m━━━━━━━━━━━━━━━━━━━━\u001b[0m\u001b[37m\u001b[0m \u001b[1m19s\u001b[0m 57ms/step - binary_crossentropy: 0.0157 - logloss: 0.0157 - loss: 0.0190 - val_binary_crossentropy: 0.0155 - val_logloss: 0.0155 - val_loss: 0.0187\n",
      "Epoch 2/192\n",
      "\u001b[1m 21/160\u001b[0m \u001b[32m━━\u001b[0m\u001b[37m━━━━━━━━━━━━━━━━━━\u001b[0m \u001b[1m0s\u001b[0m 5ms/step - binary_crossentropy: 0.0159 - logloss: 0.0159 - loss: 0.0192"
     ]
    },
    {
     "name": "stderr",
     "output_type": "stream",
     "text": [
      "W0000 00:00:1716234718.001927      70 graph_launch.cc:671] Fallback to op-by-op mode because memset node breaks graph update\n"
     ]
    },
    {
     "name": "stdout",
     "output_type": "stream",
     "text": [
      "\u001b[1m160/160\u001b[0m \u001b[32m━━━━━━━━━━━━━━━━━━━━\u001b[0m\u001b[37m\u001b[0m \u001b[1m1s\u001b[0m 5ms/step - binary_crossentropy: 0.0157 - logloss: 0.0158 - loss: 0.0190 - val_binary_crossentropy: 0.0155 - val_logloss: 0.0155 - val_loss: 0.0187\n",
      "Epoch 3/192\n",
      "\u001b[1m160/160\u001b[0m \u001b[32m━━━━━━━━━━━━━━━━━━━━\u001b[0m\u001b[37m\u001b[0m \u001b[1m1s\u001b[0m 5ms/step - binary_crossentropy: 0.0157 - logloss: 0.0158 - loss: 0.0190 - val_binary_crossentropy: 0.0155 - val_logloss: 0.0155 - val_loss: 0.0187\n",
      "Epoch 4/192\n",
      "\u001b[1m160/160\u001b[0m \u001b[32m━━━━━━━━━━━━━━━━━━━━\u001b[0m\u001b[37m\u001b[0m \u001b[1m1s\u001b[0m 4ms/step - binary_crossentropy: 0.0157 - logloss: 0.0158 - loss: 0.0190 - val_binary_crossentropy: 0.0155 - val_logloss: 0.0155 - val_loss: 0.0187\n",
      "Epoch 5/192\n",
      "\u001b[1m160/160\u001b[0m \u001b[32m━━━━━━━━━━━━━━━━━━━━\u001b[0m\u001b[37m\u001b[0m \u001b[1m1s\u001b[0m 4ms/step - binary_crossentropy: 0.0158 - logloss: 0.0158 - loss: 0.0191 - val_binary_crossentropy: 0.0155 - val_logloss: 0.0155 - val_loss: 0.0187\n",
      "\u001b[1m100/107\u001b[0m \u001b[32m━━━━━━━━━━━━━━━━━━\u001b[0m\u001b[37m━━\u001b[0m \u001b[1m0s\u001b[0m 2ms/step"
     ]
    },
    {
     "name": "stderr",
     "output_type": "stream",
     "text": [
      "W0000 00:00:1716234721.531350      73 graph_launch.cc:671] Fallback to op-by-op mode because memset node breaks graph update\n"
     ]
    },
    {
     "name": "stdout",
     "output_type": "stream",
     "text": [
      "\u001b[1m107/107\u001b[0m \u001b[32m━━━━━━━━━━━━━━━━━━━━\u001b[0m\u001b[37m\u001b[0m \u001b[1m1s\u001b[0m 4ms/step\n",
      "\u001b[1m125/125\u001b[0m \u001b[32m━━━━━━━━━━━━━━━━━━━━\u001b[0m\u001b[37m\u001b[0m \u001b[1m0s\u001b[0m 3ms/step\n",
      "Epoch 1/192\n",
      "\u001b[1m 33/160\u001b[0m \u001b[32m━━━━\u001b[0m\u001b[37m━━━━━━━━━━━━━━━━\u001b[0m \u001b[1m0s\u001b[0m 5ms/step - binary_crossentropy: 0.0261 - logloss: 0.0259 - loss: 0.0292"
     ]
    },
    {
     "name": "stderr",
     "output_type": "stream",
     "text": [
      "W0000 00:00:1716234735.059952      71 graph_launch.cc:671] Fallback to op-by-op mode because memset node breaks graph update\n"
     ]
    },
    {
     "name": "stdout",
     "output_type": "stream",
     "text": [
      "\u001b[1m160/160\u001b[0m \u001b[32m━━━━━━━━━━━━━━━━━━━━\u001b[0m\u001b[37m\u001b[0m \u001b[1m0s\u001b[0m 48ms/step - binary_crossentropy: 0.0238 - logloss: 0.0237 - loss: 0.0269"
     ]
    },
    {
     "name": "stderr",
     "output_type": "stream",
     "text": [
      "W0000 00:00:1716234742.716593      73 graph_launch.cc:671] Fallback to op-by-op mode because memset node breaks graph update\n",
      "W0000 00:00:1716234743.610130      72 graph_launch.cc:671] Fallback to op-by-op mode because memset node breaks graph update\n"
     ]
    },
    {
     "name": "stdout",
     "output_type": "stream",
     "text": [
      "\u001b[1m160/160\u001b[0m \u001b[32m━━━━━━━━━━━━━━━━━━━━\u001b[0m\u001b[37m\u001b[0m \u001b[1m20s\u001b[0m 58ms/step - binary_crossentropy: 0.0238 - logloss: 0.0237 - loss: 0.0269 - val_binary_crossentropy: 0.0184 - val_logloss: 0.0184 - val_loss: 0.0216 - learning_rate: 3.2250e-04\n",
      "Epoch 2/192\n",
      "\u001b[1m 21/160\u001b[0m \u001b[32m━━\u001b[0m\u001b[37m━━━━━━━━━━━━━━━━━━\u001b[0m \u001b[1m0s\u001b[0m 5ms/step - binary_crossentropy: 0.0197 - logloss: 0.0197 - loss: 0.0229"
     ]
    },
    {
     "name": "stderr",
     "output_type": "stream",
     "text": [
      "W0000 00:00:1716234744.201776      73 graph_launch.cc:671] Fallback to op-by-op mode because memset node breaks graph update\n"
     ]
    },
    {
     "name": "stdout",
     "output_type": "stream",
     "text": [
      "\u001b[1m160/160\u001b[0m \u001b[32m━━━━━━━━━━━━━━━━━━━━\u001b[0m\u001b[37m\u001b[0m \u001b[1m1s\u001b[0m 5ms/step - binary_crossentropy: 0.0195 - logloss: 0.0194 - loss: 0.0227 - val_binary_crossentropy: 0.0177 - val_logloss: 0.0177 - val_loss: 0.0208 - learning_rate: 6.3500e-04\n",
      "Epoch 3/192\n",
      "\u001b[1m160/160\u001b[0m \u001b[32m━━━━━━━━━━━━━━━━━━━━\u001b[0m\u001b[37m\u001b[0m \u001b[1m1s\u001b[0m 4ms/step - binary_crossentropy: 0.0182 - logloss: 0.0182 - loss: 0.0215 - val_binary_crossentropy: 0.0173 - val_logloss: 0.0173 - val_loss: 0.0204 - learning_rate: 9.4750e-04\n",
      "Epoch 4/192\n",
      "\u001b[1m160/160\u001b[0m \u001b[32m━━━━━━━━━━━━━━━━━━━━\u001b[0m\u001b[37m\u001b[0m \u001b[1m1s\u001b[0m 4ms/step - binary_crossentropy: 0.0177 - logloss: 0.0176 - loss: 0.0209 - val_binary_crossentropy: 0.0170 - val_logloss: 0.0170 - val_loss: 0.0202 - learning_rate: 0.0013\n",
      "Epoch 5/192\n",
      "\u001b[1m160/160\u001b[0m \u001b[32m━━━━━━━━━━━━━━━━━━━━\u001b[0m\u001b[37m\u001b[0m \u001b[1m1s\u001b[0m 4ms/step - binary_crossentropy: 0.0175 - logloss: 0.0174 - loss: 0.0208 - val_binary_crossentropy: 0.0171 - val_logloss: 0.0171 - val_loss: 0.0203 - learning_rate: 0.0016\n",
      "Epoch 6/192\n",
      "\u001b[1m160/160\u001b[0m \u001b[32m━━━━━━━━━━━━━━━━━━━━\u001b[0m\u001b[37m\u001b[0m \u001b[1m1s\u001b[0m 4ms/step - binary_crossentropy: 0.0173 - logloss: 0.0173 - loss: 0.0207 - val_binary_crossentropy: 0.0169 - val_logloss: 0.0169 - val_loss: 0.0201 - learning_rate: 0.0019\n",
      "Epoch 7/192\n",
      "\u001b[1m160/160\u001b[0m \u001b[32m━━━━━━━━━━━━━━━━━━━━\u001b[0m\u001b[37m\u001b[0m \u001b[1m1s\u001b[0m 4ms/step - binary_crossentropy: 0.0172 - logloss: 0.0172 - loss: 0.0205 - val_binary_crossentropy: 0.0170 - val_logloss: 0.0171 - val_loss: 0.0203 - learning_rate: 0.0022\n",
      "Epoch 8/192\n",
      "\u001b[1m160/160\u001b[0m \u001b[32m━━━━━━━━━━━━━━━━━━━━\u001b[0m\u001b[37m\u001b[0m \u001b[1m1s\u001b[0m 4ms/step - binary_crossentropy: 0.0171 - logloss: 0.0171 - loss: 0.0205 - val_binary_crossentropy: 0.0170 - val_logloss: 0.0170 - val_loss: 0.0203 - learning_rate: 0.0025\n",
      "Epoch 9/192\n",
      "\u001b[1m160/160\u001b[0m \u001b[32m━━━━━━━━━━━━━━━━━━━━\u001b[0m\u001b[37m\u001b[0m \u001b[1m1s\u001b[0m 4ms/step - binary_crossentropy: 0.0171 - logloss: 0.0170 - loss: 0.0204 - val_binary_crossentropy: 0.0166 - val_logloss: 0.0166 - val_loss: 0.0198 - learning_rate: 0.0028\n",
      "Epoch 10/192\n",
      "\u001b[1m160/160\u001b[0m \u001b[32m━━━━━━━━━━━━━━━━━━━━\u001b[0m\u001b[37m\u001b[0m \u001b[1m1s\u001b[0m 4ms/step - binary_crossentropy: 0.0169 - logloss: 0.0169 - loss: 0.0202 - val_binary_crossentropy: 0.0165 - val_logloss: 0.0166 - val_loss: 0.0199 - learning_rate: 0.0025\n",
      "Epoch 11/192\n",
      "\u001b[1m160/160\u001b[0m \u001b[32m━━━━━━━━━━━━━━━━━━━━\u001b[0m\u001b[37m\u001b[0m \u001b[1m1s\u001b[0m 4ms/step - binary_crossentropy: 0.0167 - logloss: 0.0167 - loss: 0.0201 - val_binary_crossentropy: 0.0162 - val_logloss: 0.0162 - val_loss: 0.0195 - learning_rate: 0.0022\n",
      "Epoch 12/192\n",
      "\u001b[1m160/160\u001b[0m \u001b[32m━━━━━━━━━━━━━━━━━━━━\u001b[0m\u001b[37m\u001b[0m \u001b[1m1s\u001b[0m 4ms/step - binary_crossentropy: 0.0166 - logloss: 0.0166 - loss: 0.0199 - val_binary_crossentropy: 0.0162 - val_logloss: 0.0162 - val_loss: 0.0195 - learning_rate: 0.0019\n",
      "Epoch 13/192\n",
      "\u001b[1m160/160\u001b[0m \u001b[32m━━━━━━━━━━━━━━━━━━━━\u001b[0m\u001b[37m\u001b[0m \u001b[1m1s\u001b[0m 4ms/step - binary_crossentropy: 0.0164 - logloss: 0.0164 - loss: 0.0197 - val_binary_crossentropy: 0.0160 - val_logloss: 0.0160 - val_loss: 0.0193 - learning_rate: 0.0016\n",
      "Epoch 14/192\n",
      "\u001b[1m160/160\u001b[0m \u001b[32m━━━━━━━━━━━━━━━━━━━━\u001b[0m\u001b[37m\u001b[0m \u001b[1m1s\u001b[0m 4ms/step - binary_crossentropy: 0.0164 - logloss: 0.0164 - loss: 0.0197 - val_binary_crossentropy: 0.0160 - val_logloss: 0.0160 - val_loss: 0.0192 - learning_rate: 0.0013\n",
      "Epoch 15/192\n",
      "\u001b[1m160/160\u001b[0m \u001b[32m━━━━━━━━━━━━━━━━━━━━\u001b[0m\u001b[37m\u001b[0m \u001b[1m1s\u001b[0m 4ms/step - binary_crossentropy: 0.0162 - logloss: 0.0162 - loss: 0.0195 - val_binary_crossentropy: 0.0159 - val_logloss: 0.0159 - val_loss: 0.0191 - learning_rate: 9.4750e-04\n",
      "Epoch 16/192\n",
      "\u001b[1m160/160\u001b[0m \u001b[32m━━━━━━━━━━━━━━━━━━━━\u001b[0m\u001b[37m\u001b[0m \u001b[1m1s\u001b[0m 4ms/step - binary_crossentropy: 0.0161 - logloss: 0.0161 - loss: 0.0194 - val_binary_crossentropy: 0.0158 - val_logloss: 0.0158 - val_loss: 0.0190 - learning_rate: 6.3500e-04\n",
      "Epoch 17/192\n",
      "\u001b[1m160/160\u001b[0m \u001b[32m━━━━━━━━━━━━━━━━━━━━\u001b[0m\u001b[37m\u001b[0m \u001b[1m1s\u001b[0m 4ms/step - binary_crossentropy: 0.0160 - logloss: 0.0160 - loss: 0.0193 - val_binary_crossentropy: 0.0158 - val_logloss: 0.0159 - val_loss: 0.0191 - learning_rate: 7.4996e-04\n",
      "Epoch 18/192\n",
      "\u001b[1m160/160\u001b[0m \u001b[32m━━━━━━━━━━━━━━━━━━━━\u001b[0m\u001b[37m\u001b[0m \u001b[1m1s\u001b[0m 4ms/step - binary_crossentropy: 0.0161 - logloss: 0.0161 - loss: 0.0194 - val_binary_crossentropy: 0.0158 - val_logloss: 0.0158 - val_loss: 0.0190 - learning_rate: 8.6492e-04\n",
      "Epoch 19/192\n",
      "\u001b[1m160/160\u001b[0m \u001b[32m━━━━━━━━━━━━━━━━━━━━\u001b[0m\u001b[37m\u001b[0m \u001b[1m1s\u001b[0m 4ms/step - binary_crossentropy: 0.0160 - logloss: 0.0160 - loss: 0.0193 - val_binary_crossentropy: 0.0159 - val_logloss: 0.0159 - val_loss: 0.0191 - learning_rate: 9.7989e-04\n",
      "Epoch 20/192\n",
      "\u001b[1m160/160\u001b[0m \u001b[32m━━━━━━━━━━━━━━━━━━━━\u001b[0m\u001b[37m\u001b[0m \u001b[1m1s\u001b[0m 4ms/step - binary_crossentropy: 0.0160 - logloss: 0.0161 - loss: 0.0193 - val_binary_crossentropy: 0.0159 - val_logloss: 0.0159 - val_loss: 0.0190 - learning_rate: 0.0011\n",
      "Epoch 21/192\n",
      "\u001b[1m160/160\u001b[0m \u001b[32m━━━━━━━━━━━━━━━━━━━━\u001b[0m\u001b[37m\u001b[0m \u001b[1m1s\u001b[0m 4ms/step - binary_crossentropy: 0.0161 - logloss: 0.0161 - loss: 0.0194 - val_binary_crossentropy: 0.0159 - val_logloss: 0.0159 - val_loss: 0.0191 - learning_rate: 0.0012\n",
      "Epoch 1/192\n",
      "\u001b[1m 34/160\u001b[0m \u001b[32m━━━━\u001b[0m\u001b[37m━━━━━━━━━━━━━━━━\u001b[0m \u001b[1m0s\u001b[0m 5ms/step - binary_crossentropy: 0.0158 - logloss: 0.0158 - loss: 0.0191"
     ]
    },
    {
     "name": "stderr",
     "output_type": "stream",
     "text": [
      "W0000 00:00:1716234768.337667      71 graph_launch.cc:671] Fallback to op-by-op mode because memset node breaks graph update\n"
     ]
    },
    {
     "name": "stdout",
     "output_type": "stream",
     "text": [
      "\u001b[1m160/160\u001b[0m \u001b[32m━━━━━━━━━━━━━━━━━━━━\u001b[0m\u001b[37m\u001b[0m \u001b[1m0s\u001b[0m 50ms/step - binary_crossentropy: 0.0159 - logloss: 0.0159 - loss: 0.0192"
     ]
    },
    {
     "name": "stderr",
     "output_type": "stream",
     "text": [
      "W0000 00:00:1716234776.222098      72 graph_launch.cc:671] Fallback to op-by-op mode because memset node breaks graph update\n",
      "W0000 00:00:1716234776.885642      70 graph_launch.cc:671] Fallback to op-by-op mode because memset node breaks graph update\n"
     ]
    },
    {
     "name": "stdout",
     "output_type": "stream",
     "text": [
      "\u001b[1m160/160\u001b[0m \u001b[32m━━━━━━━━━━━━━━━━━━━━\u001b[0m\u001b[37m\u001b[0m \u001b[1m19s\u001b[0m 56ms/step - binary_crossentropy: 0.0159 - logloss: 0.0159 - loss: 0.0192 - val_binary_crossentropy: 0.0158 - val_logloss: 0.0159 - val_loss: 0.0190\n",
      "Epoch 2/192\n",
      "\u001b[1m 33/160\u001b[0m \u001b[32m━━━━\u001b[0m\u001b[37m━━━━━━━━━━━━━━━━\u001b[0m \u001b[1m0s\u001b[0m 5ms/step - binary_crossentropy: 0.0159 - logloss: 0.0160 - loss: 0.0192"
     ]
    },
    {
     "name": "stderr",
     "output_type": "stream",
     "text": [
      "W0000 00:00:1716234777.277868      70 graph_launch.cc:671] Fallback to op-by-op mode because memset node breaks graph update\n"
     ]
    },
    {
     "name": "stdout",
     "output_type": "stream",
     "text": [
      "\u001b[1m160/160\u001b[0m \u001b[32m━━━━━━━━━━━━━━━━━━━━\u001b[0m\u001b[37m\u001b[0m \u001b[1m1s\u001b[0m 5ms/step - binary_crossentropy: 0.0160 - logloss: 0.0160 - loss: 0.0193 - val_binary_crossentropy: 0.0158 - val_logloss: 0.0158 - val_loss: 0.0190\n",
      "Epoch 3/192\n",
      "\u001b[1m160/160\u001b[0m \u001b[32m━━━━━━━━━━━━━━━━━━━━\u001b[0m\u001b[37m\u001b[0m \u001b[1m1s\u001b[0m 4ms/step - binary_crossentropy: 0.0160 - logloss: 0.0160 - loss: 0.0193 - val_binary_crossentropy: 0.0158 - val_logloss: 0.0158 - val_loss: 0.0190\n",
      "Epoch 4/192\n",
      "\u001b[1m160/160\u001b[0m \u001b[32m━━━━━━━━━━━━━━━━━━━━\u001b[0m\u001b[37m\u001b[0m \u001b[1m1s\u001b[0m 4ms/step - binary_crossentropy: 0.0159 - logloss: 0.0160 - loss: 0.0192 - val_binary_crossentropy: 0.0158 - val_logloss: 0.0158 - val_loss: 0.0190\n",
      "Epoch 5/192\n",
      "\u001b[1m160/160\u001b[0m \u001b[32m━━━━━━━━━━━━━━━━━━━━\u001b[0m\u001b[37m\u001b[0m \u001b[1m1s\u001b[0m 4ms/step - binary_crossentropy: 0.0159 - logloss: 0.0159 - loss: 0.0192 - val_binary_crossentropy: 0.0158 - val_logloss: 0.0158 - val_loss: 0.0190\n",
      "Epoch 6/192\n",
      "\u001b[1m160/160\u001b[0m \u001b[32m━━━━━━━━━━━━━━━━━━━━\u001b[0m\u001b[37m\u001b[0m \u001b[1m1s\u001b[0m 4ms/step - binary_crossentropy: 0.0158 - logloss: 0.0159 - loss: 0.0191 - val_binary_crossentropy: 0.0158 - val_logloss: 0.0158 - val_loss: 0.0190\n",
      "Epoch 7/192\n",
      "\u001b[1m160/160\u001b[0m \u001b[32m━━━━━━━━━━━━━━━━━━━━\u001b[0m\u001b[37m\u001b[0m \u001b[1m1s\u001b[0m 4ms/step - binary_crossentropy: 0.0158 - logloss: 0.0159 - loss: 0.0191 - val_binary_crossentropy: 0.0158 - val_logloss: 0.0158 - val_loss: 0.0190\n",
      "Epoch 8/192\n",
      "\u001b[1m160/160\u001b[0m \u001b[32m━━━━━━━━━━━━━━━━━━━━\u001b[0m\u001b[37m\u001b[0m \u001b[1m1s\u001b[0m 4ms/step - binary_crossentropy: 0.0159 - logloss: 0.0160 - loss: 0.0192 - val_binary_crossentropy: 0.0158 - val_logloss: 0.0158 - val_loss: 0.0189\n",
      "Epoch 9/192\n",
      "\u001b[1m160/160\u001b[0m \u001b[32m━━━━━━━━━━━━━━━━━━━━\u001b[0m\u001b[37m\u001b[0m \u001b[1m1s\u001b[0m 4ms/step - binary_crossentropy: 0.0158 - logloss: 0.0159 - loss: 0.0191 - val_binary_crossentropy: 0.0158 - val_logloss: 0.0158 - val_loss: 0.0190\n",
      "Epoch 10/192\n",
      "\u001b[1m160/160\u001b[0m \u001b[32m━━━━━━━━━━━━━━━━━━━━\u001b[0m\u001b[37m\u001b[0m \u001b[1m1s\u001b[0m 4ms/step - binary_crossentropy: 0.0158 - logloss: 0.0159 - loss: 0.0191 - val_binary_crossentropy: 0.0158 - val_logloss: 0.0158 - val_loss: 0.0189\n",
      "Epoch 11/192\n",
      "\u001b[1m160/160\u001b[0m \u001b[32m━━━━━━━━━━━━━━━━━━━━\u001b[0m\u001b[37m\u001b[0m \u001b[1m1s\u001b[0m 4ms/step - binary_crossentropy: 0.0159 - logloss: 0.0159 - loss: 0.0192 - val_binary_crossentropy: 0.0158 - val_logloss: 0.0158 - val_loss: 0.0189\n",
      "Epoch 12/192\n",
      "\u001b[1m160/160\u001b[0m \u001b[32m━━━━━━━━━━━━━━━━━━━━\u001b[0m\u001b[37m\u001b[0m \u001b[1m1s\u001b[0m 4ms/step - binary_crossentropy: 0.0158 - logloss: 0.0158 - loss: 0.0191 - val_binary_crossentropy: 0.0158 - val_logloss: 0.0158 - val_loss: 0.0189\n",
      "Epoch 13/192\n",
      "\u001b[1m160/160\u001b[0m \u001b[32m━━━━━━━━━━━━━━━━━━━━\u001b[0m\u001b[37m\u001b[0m \u001b[1m1s\u001b[0m 4ms/step - binary_crossentropy: 0.0159 - logloss: 0.0159 - loss: 0.0192 - val_binary_crossentropy: 0.0158 - val_logloss: 0.0158 - val_loss: 0.0189\n",
      "Epoch 14/192\n",
      "\u001b[1m160/160\u001b[0m \u001b[32m━━━━━━━━━━━━━━━━━━━━\u001b[0m\u001b[37m\u001b[0m \u001b[1m1s\u001b[0m 4ms/step - binary_crossentropy: 0.0158 - logloss: 0.0159 - loss: 0.0191 - val_binary_crossentropy: 0.0158 - val_logloss: 0.0158 - val_loss: 0.0189\n",
      "Epoch 15/192\n",
      "\u001b[1m160/160\u001b[0m \u001b[32m━━━━━━━━━━━━━━━━━━━━\u001b[0m\u001b[37m\u001b[0m \u001b[1m1s\u001b[0m 4ms/step - binary_crossentropy: 0.0159 - logloss: 0.0159 - loss: 0.0192 - val_binary_crossentropy: 0.0157 - val_logloss: 0.0158 - val_loss: 0.0189\n",
      "Epoch 16/192\n",
      "\u001b[1m160/160\u001b[0m \u001b[32m━━━━━━━━━━━━━━━━━━━━\u001b[0m\u001b[37m\u001b[0m \u001b[1m1s\u001b[0m 6ms/step - binary_crossentropy: 0.0158 - logloss: 0.0158 - loss: 0.0191 - val_binary_crossentropy: 0.0157 - val_logloss: 0.0158 - val_loss: 0.0189\n",
      "Epoch 17/192\n",
      "\u001b[1m160/160\u001b[0m \u001b[32m━━━━━━━━━━━━━━━━━━━━\u001b[0m\u001b[37m\u001b[0m \u001b[1m1s\u001b[0m 4ms/step - binary_crossentropy: 0.0158 - logloss: 0.0159 - loss: 0.0191 - val_binary_crossentropy: 0.0157 - val_logloss: 0.0158 - val_loss: 0.0189\n",
      "Epoch 18/192\n",
      "\u001b[1m160/160\u001b[0m \u001b[32m━━━━━━━━━━━━━━━━━━━━\u001b[0m\u001b[37m\u001b[0m \u001b[1m1s\u001b[0m 4ms/step - binary_crossentropy: 0.0158 - logloss: 0.0158 - loss: 0.0191 - val_binary_crossentropy: 0.0157 - val_logloss: 0.0158 - val_loss: 0.0189\n",
      "Epoch 19/192\n",
      "\u001b[1m160/160\u001b[0m \u001b[32m━━━━━━━━━━━━━━━━━━━━\u001b[0m\u001b[37m\u001b[0m \u001b[1m1s\u001b[0m 4ms/step - binary_crossentropy: 0.0159 - logloss: 0.0159 - loss: 0.0192 - val_binary_crossentropy: 0.0157 - val_logloss: 0.0157 - val_loss: 0.0189\n",
      "Epoch 20/192\n",
      "\u001b[1m160/160\u001b[0m \u001b[32m━━━━━━━━━━━━━━━━━━━━\u001b[0m\u001b[37m\u001b[0m \u001b[1m1s\u001b[0m 4ms/step - binary_crossentropy: 0.0158 - logloss: 0.0158 - loss: 0.0191 - val_binary_crossentropy: 0.0157 - val_logloss: 0.0157 - val_loss: 0.0189\n",
      "Epoch 21/192\n",
      "\u001b[1m160/160\u001b[0m \u001b[32m━━━━━━━━━━━━━━━━━━━━\u001b[0m\u001b[37m\u001b[0m \u001b[1m1s\u001b[0m 4ms/step - binary_crossentropy: 0.0158 - logloss: 0.0158 - loss: 0.0191 - val_binary_crossentropy: 0.0157 - val_logloss: 0.0157 - val_loss: 0.0189\n",
      "Epoch 22/192\n",
      "\u001b[1m160/160\u001b[0m \u001b[32m━━━━━━━━━━━━━━━━━━━━\u001b[0m\u001b[37m\u001b[0m \u001b[1m1s\u001b[0m 4ms/step - binary_crossentropy: 0.0158 - logloss: 0.0159 - loss: 0.0191 - val_binary_crossentropy: 0.0157 - val_logloss: 0.0157 - val_loss: 0.0189\n",
      "Epoch 23/192\n",
      "\u001b[1m160/160\u001b[0m \u001b[32m━━━━━━━━━━━━━━━━━━━━\u001b[0m\u001b[37m\u001b[0m \u001b[1m1s\u001b[0m 4ms/step - binary_crossentropy: 0.0158 - logloss: 0.0158 - loss: 0.0191 - val_binary_crossentropy: 0.0157 - val_logloss: 0.0157 - val_loss: 0.0189\n",
      "Epoch 24/192\n",
      "\u001b[1m160/160\u001b[0m \u001b[32m━━━━━━━━━━━━━━━━━━━━\u001b[0m\u001b[37m\u001b[0m \u001b[1m1s\u001b[0m 4ms/step - binary_crossentropy: 0.0157 - logloss: 0.0158 - loss: 0.0190 - val_binary_crossentropy: 0.0157 - val_logloss: 0.0157 - val_loss: 0.0189\n",
      "Epoch 25/192\n",
      "\u001b[1m160/160\u001b[0m \u001b[32m━━━━━━━━━━━━━━━━━━━━\u001b[0m\u001b[37m\u001b[0m \u001b[1m1s\u001b[0m 4ms/step - binary_crossentropy: 0.0158 - logloss: 0.0158 - loss: 0.0191 - val_binary_crossentropy: 0.0157 - val_logloss: 0.0157 - val_loss: 0.0189\n",
      "Epoch 26/192\n",
      "\u001b[1m160/160\u001b[0m \u001b[32m━━━━━━━━━━━━━━━━━━━━\u001b[0m\u001b[37m\u001b[0m \u001b[1m1s\u001b[0m 4ms/step - binary_crossentropy: 0.0158 - logloss: 0.0158 - loss: 0.0191 - val_binary_crossentropy: 0.0157 - val_logloss: 0.0157 - val_loss: 0.0189\n",
      "Epoch 27/192\n",
      "\u001b[1m160/160\u001b[0m \u001b[32m━━━━━━━━━━━━━━━━━━━━\u001b[0m\u001b[37m\u001b[0m \u001b[1m1s\u001b[0m 4ms/step - binary_crossentropy: 0.0157 - logloss: 0.0158 - loss: 0.0190 - val_binary_crossentropy: 0.0157 - val_logloss: 0.0157 - val_loss: 0.0189\n",
      "Epoch 28/192\n",
      "\u001b[1m160/160\u001b[0m \u001b[32m━━━━━━━━━━━━━━━━━━━━\u001b[0m\u001b[37m\u001b[0m \u001b[1m1s\u001b[0m 4ms/step - binary_crossentropy: 0.0157 - logloss: 0.0158 - loss: 0.0190 - val_binary_crossentropy: 0.0157 - val_logloss: 0.0157 - val_loss: 0.0189\n",
      "Epoch 29/192\n",
      "\u001b[1m160/160\u001b[0m \u001b[32m━━━━━━━━━━━━━━━━━━━━\u001b[0m\u001b[37m\u001b[0m \u001b[1m1s\u001b[0m 4ms/step - binary_crossentropy: 0.0158 - logloss: 0.0158 - loss: 0.0190 - val_binary_crossentropy: 0.0157 - val_logloss: 0.0157 - val_loss: 0.0189\n",
      "Epoch 30/192\n",
      "\u001b[1m160/160\u001b[0m \u001b[32m━━━━━━━━━━━━━━━━━━━━\u001b[0m\u001b[37m\u001b[0m \u001b[1m1s\u001b[0m 4ms/step - binary_crossentropy: 0.0157 - logloss: 0.0158 - loss: 0.0190 - val_binary_crossentropy: 0.0157 - val_logloss: 0.0157 - val_loss: 0.0189\n",
      "Epoch 31/192\n",
      "\u001b[1m160/160\u001b[0m \u001b[32m━━━━━━━━━━━━━━━━━━━━\u001b[0m\u001b[37m\u001b[0m \u001b[1m1s\u001b[0m 4ms/step - binary_crossentropy: 0.0158 - logloss: 0.0158 - loss: 0.0191 - val_binary_crossentropy: 0.0157 - val_logloss: 0.0157 - val_loss: 0.0189\n",
      "Epoch 32/192\n",
      "\u001b[1m160/160\u001b[0m \u001b[32m━━━━━━━━━━━━━━━━━━━━\u001b[0m\u001b[37m\u001b[0m \u001b[1m1s\u001b[0m 4ms/step - binary_crossentropy: 0.0158 - logloss: 0.0158 - loss: 0.0191 - val_binary_crossentropy: 0.0157 - val_logloss: 0.0157 - val_loss: 0.0189\n",
      "Epoch 33/192\n",
      "\u001b[1m160/160\u001b[0m \u001b[32m━━━━━━━━━━━━━━━━━━━━\u001b[0m\u001b[37m\u001b[0m \u001b[1m1s\u001b[0m 4ms/step - binary_crossentropy: 0.0158 - logloss: 0.0158 - loss: 0.0191 - val_binary_crossentropy: 0.0157 - val_logloss: 0.0157 - val_loss: 0.0189\n",
      "Epoch 34/192\n",
      "\u001b[1m160/160\u001b[0m \u001b[32m━━━━━━━━━━━━━━━━━━━━\u001b[0m\u001b[37m\u001b[0m \u001b[1m1s\u001b[0m 4ms/step - binary_crossentropy: 0.0157 - logloss: 0.0158 - loss: 0.0190 - val_binary_crossentropy: 0.0157 - val_logloss: 0.0157 - val_loss: 0.0189\n",
      "Epoch 35/192\n",
      "\u001b[1m160/160\u001b[0m \u001b[32m━━━━━━━━━━━━━━━━━━━━\u001b[0m\u001b[37m\u001b[0m \u001b[1m1s\u001b[0m 4ms/step - binary_crossentropy: 0.0157 - logloss: 0.0158 - loss: 0.0190 - val_binary_crossentropy: 0.0157 - val_logloss: 0.0157 - val_loss: 0.0189\n",
      "Epoch 36/192\n",
      "\u001b[1m160/160\u001b[0m \u001b[32m━━━━━━━━━━━━━━━━━━━━\u001b[0m\u001b[37m\u001b[0m \u001b[1m1s\u001b[0m 4ms/step - binary_crossentropy: 0.0158 - logloss: 0.0158 - loss: 0.0191 - val_binary_crossentropy: 0.0157 - val_logloss: 0.0157 - val_loss: 0.0189\n",
      "Epoch 37/192\n",
      "\u001b[1m160/160\u001b[0m \u001b[32m━━━━━━━━━━━━━━━━━━━━\u001b[0m\u001b[37m\u001b[0m \u001b[1m1s\u001b[0m 4ms/step - binary_crossentropy: 0.0157 - logloss: 0.0157 - loss: 0.0190 - val_binary_crossentropy: 0.0157 - val_logloss: 0.0157 - val_loss: 0.0189\n",
      "Epoch 38/192\n",
      "\u001b[1m160/160\u001b[0m \u001b[32m━━━━━━━━━━━━━━━━━━━━\u001b[0m\u001b[37m\u001b[0m \u001b[1m1s\u001b[0m 4ms/step - binary_crossentropy: 0.0158 - logloss: 0.0158 - loss: 0.0191 - val_binary_crossentropy: 0.0157 - val_logloss: 0.0157 - val_loss: 0.0189\n",
      "Epoch 39/192\n",
      "\u001b[1m160/160\u001b[0m \u001b[32m━━━━━━━━━━━━━━━━━━━━\u001b[0m\u001b[37m\u001b[0m \u001b[1m1s\u001b[0m 4ms/step - binary_crossentropy: 0.0157 - logloss: 0.0158 - loss: 0.0190 - val_binary_crossentropy: 0.0157 - val_logloss: 0.0157 - val_loss: 0.0189\n",
      "Epoch 40/192\n",
      "\u001b[1m160/160\u001b[0m \u001b[32m━━━━━━━━━━━━━━━━━━━━\u001b[0m\u001b[37m\u001b[0m \u001b[1m1s\u001b[0m 4ms/step - binary_crossentropy: 0.0157 - logloss: 0.0158 - loss: 0.0190 - val_binary_crossentropy: 0.0157 - val_logloss: 0.0157 - val_loss: 0.0189\n",
      "Epoch 41/192\n",
      "\u001b[1m160/160\u001b[0m \u001b[32m━━━━━━━━━━━━━━━━━━━━\u001b[0m\u001b[37m\u001b[0m \u001b[1m1s\u001b[0m 5ms/step - binary_crossentropy: 0.0158 - logloss: 0.0158 - loss: 0.0190 - val_binary_crossentropy: 0.0157 - val_logloss: 0.0157 - val_loss: 0.0189\n",
      "Epoch 42/192\n",
      "\u001b[1m160/160\u001b[0m \u001b[32m━━━━━━━━━━━━━━━━━━━━\u001b[0m\u001b[37m\u001b[0m \u001b[1m1s\u001b[0m 4ms/step - binary_crossentropy: 0.0158 - logloss: 0.0158 - loss: 0.0191 - val_binary_crossentropy: 0.0157 - val_logloss: 0.0157 - val_loss: 0.0189\n",
      "Epoch 43/192\n",
      "\u001b[1m160/160\u001b[0m \u001b[32m━━━━━━━━━━━━━━━━━━━━\u001b[0m\u001b[37m\u001b[0m \u001b[1m1s\u001b[0m 4ms/step - binary_crossentropy: 0.0157 - logloss: 0.0158 - loss: 0.0190 - val_binary_crossentropy: 0.0157 - val_logloss: 0.0157 - val_loss: 0.0189\n",
      "Epoch 44/192\n",
      "\u001b[1m160/160\u001b[0m \u001b[32m━━━━━━━━━━━━━━━━━━━━\u001b[0m\u001b[37m\u001b[0m \u001b[1m1s\u001b[0m 4ms/step - binary_crossentropy: 0.0157 - logloss: 0.0158 - loss: 0.0190 - val_binary_crossentropy: 0.0157 - val_logloss: 0.0157 - val_loss: 0.0189\n",
      "Epoch 45/192\n",
      "\u001b[1m160/160\u001b[0m \u001b[32m━━━━━━━━━━━━━━━━━━━━\u001b[0m\u001b[37m\u001b[0m \u001b[1m1s\u001b[0m 4ms/step - binary_crossentropy: 0.0158 - logloss: 0.0158 - loss: 0.0191 - val_binary_crossentropy: 0.0157 - val_logloss: 0.0157 - val_loss: 0.0189\n",
      "Epoch 46/192\n",
      "\u001b[1m160/160\u001b[0m \u001b[32m━━━━━━━━━━━━━━━━━━━━\u001b[0m\u001b[37m\u001b[0m \u001b[1m1s\u001b[0m 4ms/step - binary_crossentropy: 0.0158 - logloss: 0.0158 - loss: 0.0191 - val_binary_crossentropy: 0.0157 - val_logloss: 0.0157 - val_loss: 0.0189\n",
      "Epoch 47/192\n",
      "\u001b[1m160/160\u001b[0m \u001b[32m━━━━━━━━━━━━━━━━━━━━\u001b[0m\u001b[37m\u001b[0m \u001b[1m1s\u001b[0m 4ms/step - binary_crossentropy: 0.0158 - logloss: 0.0158 - loss: 0.0191 - val_binary_crossentropy: 0.0157 - val_logloss: 0.0157 - val_loss: 0.0189\n",
      "Epoch 48/192\n",
      "\u001b[1m160/160\u001b[0m \u001b[32m━━━━━━━━━━━━━━━━━━━━\u001b[0m\u001b[37m\u001b[0m \u001b[1m1s\u001b[0m 4ms/step - binary_crossentropy: 0.0157 - logloss: 0.0158 - loss: 0.0190 - val_binary_crossentropy: 0.0157 - val_logloss: 0.0157 - val_loss: 0.0189\n",
      "Epoch 49/192\n",
      "\u001b[1m160/160\u001b[0m \u001b[32m━━━━━━━━━━━━━━━━━━━━\u001b[0m\u001b[37m\u001b[0m \u001b[1m1s\u001b[0m 4ms/step - binary_crossentropy: 0.0157 - logloss: 0.0158 - loss: 0.0190 - val_binary_crossentropy: 0.0157 - val_logloss: 0.0157 - val_loss: 0.0189\n",
      "Epoch 50/192\n",
      "\u001b[1m160/160\u001b[0m \u001b[32m━━━━━━━━━━━━━━━━━━━━\u001b[0m\u001b[37m\u001b[0m \u001b[1m1s\u001b[0m 4ms/step - binary_crossentropy: 0.0157 - logloss: 0.0158 - loss: 0.0190 - val_binary_crossentropy: 0.0157 - val_logloss: 0.0157 - val_loss: 0.0189\n",
      "Epoch 51/192\n",
      "\u001b[1m160/160\u001b[0m \u001b[32m━━━━━━━━━━━━━━━━━━━━\u001b[0m\u001b[37m\u001b[0m \u001b[1m1s\u001b[0m 4ms/step - binary_crossentropy: 0.0157 - logloss: 0.0158 - loss: 0.0190 - val_binary_crossentropy: 0.0157 - val_logloss: 0.0157 - val_loss: 0.0189\n",
      "Epoch 52/192\n",
      "\u001b[1m160/160\u001b[0m \u001b[32m━━━━━━━━━━━━━━━━━━━━\u001b[0m\u001b[37m\u001b[0m \u001b[1m1s\u001b[0m 4ms/step - binary_crossentropy: 0.0158 - logloss: 0.0158 - loss: 0.0191 - val_binary_crossentropy: 0.0157 - val_logloss: 0.0157 - val_loss: 0.0189\n",
      "Epoch 53/192\n",
      "\u001b[1m160/160\u001b[0m \u001b[32m━━━━━━━━━━━━━━━━━━━━\u001b[0m\u001b[37m\u001b[0m \u001b[1m1s\u001b[0m 4ms/step - binary_crossentropy: 0.0158 - logloss: 0.0158 - loss: 0.0190 - val_binary_crossentropy: 0.0157 - val_logloss: 0.0157 - val_loss: 0.0189\n",
      "Epoch 54/192\n",
      "\u001b[1m160/160\u001b[0m \u001b[32m━━━━━━━━━━━━━━━━━━━━\u001b[0m\u001b[37m\u001b[0m \u001b[1m1s\u001b[0m 4ms/step - binary_crossentropy: 0.0157 - logloss: 0.0157 - loss: 0.0190 - val_binary_crossentropy: 0.0157 - val_logloss: 0.0157 - val_loss: 0.0189\n",
      "Epoch 55/192\n",
      "\u001b[1m160/160\u001b[0m \u001b[32m━━━━━━━━━━━━━━━━━━━━\u001b[0m\u001b[37m\u001b[0m \u001b[1m1s\u001b[0m 5ms/step - binary_crossentropy: 0.0157 - logloss: 0.0158 - loss: 0.0190 - val_binary_crossentropy: 0.0157 - val_logloss: 0.0157 - val_loss: 0.0189\n",
      "Epoch 56/192\n",
      "\u001b[1m160/160\u001b[0m \u001b[32m━━━━━━━━━━━━━━━━━━━━\u001b[0m\u001b[37m\u001b[0m \u001b[1m1s\u001b[0m 4ms/step - binary_crossentropy: 0.0157 - logloss: 0.0158 - loss: 0.0190 - val_binary_crossentropy: 0.0157 - val_logloss: 0.0157 - val_loss: 0.0189\n",
      "Epoch 57/192\n",
      "\u001b[1m160/160\u001b[0m \u001b[32m━━━━━━━━━━━━━━━━━━━━\u001b[0m\u001b[37m\u001b[0m \u001b[1m1s\u001b[0m 4ms/step - binary_crossentropy: 0.0158 - logloss: 0.0158 - loss: 0.0191 - val_binary_crossentropy: 0.0157 - val_logloss: 0.0157 - val_loss: 0.0189\n",
      "Epoch 58/192\n",
      "\u001b[1m160/160\u001b[0m \u001b[32m━━━━━━━━━━━━━━━━━━━━\u001b[0m\u001b[37m\u001b[0m \u001b[1m1s\u001b[0m 5ms/step - binary_crossentropy: 0.0157 - logloss: 0.0158 - loss: 0.0190 - val_binary_crossentropy: 0.0157 - val_logloss: 0.0157 - val_loss: 0.0189\n",
      "Epoch 59/192\n",
      "\u001b[1m160/160\u001b[0m \u001b[32m━━━━━━━━━━━━━━━━━━━━\u001b[0m\u001b[37m\u001b[0m \u001b[1m1s\u001b[0m 5ms/step - binary_crossentropy: 0.0157 - logloss: 0.0158 - loss: 0.0190 - val_binary_crossentropy: 0.0157 - val_logloss: 0.0157 - val_loss: 0.0189\n",
      "Epoch 60/192\n",
      "\u001b[1m160/160\u001b[0m \u001b[32m━━━━━━━━━━━━━━━━━━━━\u001b[0m\u001b[37m\u001b[0m \u001b[1m1s\u001b[0m 4ms/step - binary_crossentropy: 0.0157 - logloss: 0.0158 - loss: 0.0190 - val_binary_crossentropy: 0.0157 - val_logloss: 0.0157 - val_loss: 0.0189\n",
      "Epoch 61/192\n",
      "\u001b[1m160/160\u001b[0m \u001b[32m━━━━━━━━━━━━━━━━━━━━\u001b[0m\u001b[37m\u001b[0m \u001b[1m1s\u001b[0m 4ms/step - binary_crossentropy: 0.0157 - logloss: 0.0157 - loss: 0.0190 - val_binary_crossentropy: 0.0157 - val_logloss: 0.0157 - val_loss: 0.0188\n",
      "Epoch 62/192\n",
      "\u001b[1m160/160\u001b[0m \u001b[32m━━━━━━━━━━━━━━━━━━━━\u001b[0m\u001b[37m\u001b[0m \u001b[1m1s\u001b[0m 4ms/step - binary_crossentropy: 0.0157 - logloss: 0.0157 - loss: 0.0190 - val_binary_crossentropy: 0.0157 - val_logloss: 0.0157 - val_loss: 0.0188\n",
      "Epoch 63/192\n",
      "\u001b[1m160/160\u001b[0m \u001b[32m━━━━━━━━━━━━━━━━━━━━\u001b[0m\u001b[37m\u001b[0m \u001b[1m1s\u001b[0m 4ms/step - binary_crossentropy: 0.0157 - logloss: 0.0157 - loss: 0.0190 - val_binary_crossentropy: 0.0157 - val_logloss: 0.0157 - val_loss: 0.0188\n",
      "Epoch 64/192\n",
      "\u001b[1m160/160\u001b[0m \u001b[32m━━━━━━━━━━━━━━━━━━━━\u001b[0m\u001b[37m\u001b[0m \u001b[1m1s\u001b[0m 5ms/step - binary_crossentropy: 0.0157 - logloss: 0.0157 - loss: 0.0190 - val_binary_crossentropy: 0.0157 - val_logloss: 0.0157 - val_loss: 0.0188\n",
      "Epoch 65/192\n",
      "\u001b[1m160/160\u001b[0m \u001b[32m━━━━━━━━━━━━━━━━━━━━\u001b[0m\u001b[37m\u001b[0m \u001b[1m1s\u001b[0m 4ms/step - binary_crossentropy: 0.0157 - logloss: 0.0157 - loss: 0.0190 - val_binary_crossentropy: 0.0157 - val_logloss: 0.0157 - val_loss: 0.0188\n",
      "Epoch 66/192\n",
      "\u001b[1m160/160\u001b[0m \u001b[32m━━━━━━━━━━━━━━━━━━━━\u001b[0m\u001b[37m\u001b[0m \u001b[1m1s\u001b[0m 4ms/step - binary_crossentropy: 0.0157 - logloss: 0.0157 - loss: 0.0190 - val_binary_crossentropy: 0.0157 - val_logloss: 0.0157 - val_loss: 0.0188\n",
      "Epoch 67/192\n",
      "\u001b[1m160/160\u001b[0m \u001b[32m━━━━━━━━━━━━━━━━━━━━\u001b[0m\u001b[37m\u001b[0m \u001b[1m1s\u001b[0m 4ms/step - binary_crossentropy: 0.0157 - logloss: 0.0158 - loss: 0.0190 - val_binary_crossentropy: 0.0157 - val_logloss: 0.0157 - val_loss: 0.0188\n",
      "Epoch 68/192\n",
      "\u001b[1m160/160\u001b[0m \u001b[32m━━━━━━━━━━━━━━━━━━━━\u001b[0m\u001b[37m\u001b[0m \u001b[1m1s\u001b[0m 4ms/step - binary_crossentropy: 0.0157 - logloss: 0.0158 - loss: 0.0190 - val_binary_crossentropy: 0.0157 - val_logloss: 0.0157 - val_loss: 0.0188\n",
      "Epoch 69/192\n",
      "\u001b[1m160/160\u001b[0m \u001b[32m━━━━━━━━━━━━━━━━━━━━\u001b[0m\u001b[37m\u001b[0m \u001b[1m1s\u001b[0m 4ms/step - binary_crossentropy: 0.0157 - logloss: 0.0158 - loss: 0.0190 - val_binary_crossentropy: 0.0157 - val_logloss: 0.0157 - val_loss: 0.0188\n",
      "Epoch 70/192\n",
      "\u001b[1m160/160\u001b[0m \u001b[32m━━━━━━━━━━━━━━━━━━━━\u001b[0m\u001b[37m\u001b[0m \u001b[1m1s\u001b[0m 4ms/step - binary_crossentropy: 0.0157 - logloss: 0.0157 - loss: 0.0190 - val_binary_crossentropy: 0.0157 - val_logloss: 0.0157 - val_loss: 0.0188\n",
      "Epoch 71/192\n",
      "\u001b[1m160/160\u001b[0m \u001b[32m━━━━━━━━━━━━━━━━━━━━\u001b[0m\u001b[37m\u001b[0m \u001b[1m1s\u001b[0m 4ms/step - binary_crossentropy: 0.0157 - logloss: 0.0157 - loss: 0.0190 - val_binary_crossentropy: 0.0157 - val_logloss: 0.0157 - val_loss: 0.0188\n",
      "Epoch 72/192\n",
      "\u001b[1m160/160\u001b[0m \u001b[32m━━━━━━━━━━━━━━━━━━━━\u001b[0m\u001b[37m\u001b[0m \u001b[1m1s\u001b[0m 4ms/step - binary_crossentropy: 0.0157 - logloss: 0.0158 - loss: 0.0190 - val_binary_crossentropy: 0.0157 - val_logloss: 0.0157 - val_loss: 0.0188\n",
      "Epoch 73/192\n",
      "\u001b[1m160/160\u001b[0m \u001b[32m━━━━━━━━━━━━━━━━━━━━\u001b[0m\u001b[37m\u001b[0m \u001b[1m1s\u001b[0m 4ms/step - binary_crossentropy: 0.0156 - logloss: 0.0157 - loss: 0.0189 - val_binary_crossentropy: 0.0156 - val_logloss: 0.0157 - val_loss: 0.0188\n",
      "Epoch 74/192\n",
      "\u001b[1m160/160\u001b[0m \u001b[32m━━━━━━━━━━━━━━━━━━━━\u001b[0m\u001b[37m\u001b[0m \u001b[1m1s\u001b[0m 4ms/step - binary_crossentropy: 0.0157 - logloss: 0.0157 - loss: 0.0190 - val_binary_crossentropy: 0.0156 - val_logloss: 0.0157 - val_loss: 0.0188\n",
      "Epoch 75/192\n",
      "\u001b[1m160/160\u001b[0m \u001b[32m━━━━━━━━━━━━━━━━━━━━\u001b[0m\u001b[37m\u001b[0m \u001b[1m1s\u001b[0m 4ms/step - binary_crossentropy: 0.0157 - logloss: 0.0157 - loss: 0.0190 - val_binary_crossentropy: 0.0156 - val_logloss: 0.0157 - val_loss: 0.0188\n",
      "Epoch 76/192\n",
      "\u001b[1m160/160\u001b[0m \u001b[32m━━━━━━━━━━━━━━━━━━━━\u001b[0m\u001b[37m\u001b[0m \u001b[1m1s\u001b[0m 4ms/step - binary_crossentropy: 0.0157 - logloss: 0.0157 - loss: 0.0189 - val_binary_crossentropy: 0.0156 - val_logloss: 0.0157 - val_loss: 0.0188\n",
      "Epoch 77/192\n",
      "\u001b[1m160/160\u001b[0m \u001b[32m━━━━━━━━━━━━━━━━━━━━\u001b[0m\u001b[37m\u001b[0m \u001b[1m1s\u001b[0m 4ms/step - binary_crossentropy: 0.0156 - logloss: 0.0157 - loss: 0.0189 - val_binary_crossentropy: 0.0156 - val_logloss: 0.0157 - val_loss: 0.0188\n",
      "Epoch 78/192\n",
      "\u001b[1m160/160\u001b[0m \u001b[32m━━━━━━━━━━━━━━━━━━━━\u001b[0m\u001b[37m\u001b[0m \u001b[1m1s\u001b[0m 4ms/step - binary_crossentropy: 0.0157 - logloss: 0.0157 - loss: 0.0190 - val_binary_crossentropy: 0.0156 - val_logloss: 0.0157 - val_loss: 0.0188\n",
      "Epoch 79/192\n",
      "\u001b[1m160/160\u001b[0m \u001b[32m━━━━━━━━━━━━━━━━━━━━\u001b[0m\u001b[37m\u001b[0m \u001b[1m1s\u001b[0m 4ms/step - binary_crossentropy: 0.0157 - logloss: 0.0157 - loss: 0.0190 - val_binary_crossentropy: 0.0156 - val_logloss: 0.0157 - val_loss: 0.0188\n",
      "Epoch 80/192\n",
      "\u001b[1m160/160\u001b[0m \u001b[32m━━━━━━━━━━━━━━━━━━━━\u001b[0m\u001b[37m\u001b[0m \u001b[1m1s\u001b[0m 4ms/step - binary_crossentropy: 0.0156 - logloss: 0.0157 - loss: 0.0189 - val_binary_crossentropy: 0.0156 - val_logloss: 0.0157 - val_loss: 0.0188\n",
      "Epoch 81/192\n",
      "\u001b[1m160/160\u001b[0m \u001b[32m━━━━━━━━━━━━━━━━━━━━\u001b[0m\u001b[37m\u001b[0m \u001b[1m1s\u001b[0m 4ms/step - binary_crossentropy: 0.0157 - logloss: 0.0157 - loss: 0.0190 - val_binary_crossentropy: 0.0156 - val_logloss: 0.0157 - val_loss: 0.0188\n",
      "Epoch 82/192\n",
      "\u001b[1m160/160\u001b[0m \u001b[32m━━━━━━━━━━━━━━━━━━━━\u001b[0m\u001b[37m\u001b[0m \u001b[1m1s\u001b[0m 4ms/step - binary_crossentropy: 0.0156 - logloss: 0.0157 - loss: 0.0189 - val_binary_crossentropy: 0.0156 - val_logloss: 0.0157 - val_loss: 0.0188\n",
      "Epoch 83/192\n",
      "\u001b[1m160/160\u001b[0m \u001b[32m━━━━━━━━━━━━━━━━━━━━\u001b[0m\u001b[37m\u001b[0m \u001b[1m1s\u001b[0m 5ms/step - binary_crossentropy: 0.0157 - logloss: 0.0157 - loss: 0.0190 - val_binary_crossentropy: 0.0156 - val_logloss: 0.0157 - val_loss: 0.0188\n",
      "Epoch 84/192\n",
      "\u001b[1m160/160\u001b[0m \u001b[32m━━━━━━━━━━━━━━━━━━━━\u001b[0m\u001b[37m\u001b[0m \u001b[1m1s\u001b[0m 5ms/step - binary_crossentropy: 0.0156 - logloss: 0.0157 - loss: 0.0189 - val_binary_crossentropy: 0.0156 - val_logloss: 0.0157 - val_loss: 0.0188\n",
      "Epoch 85/192\n",
      "\u001b[1m160/160\u001b[0m \u001b[32m━━━━━━━━━━━━━━━━━━━━\u001b[0m\u001b[37m\u001b[0m \u001b[1m1s\u001b[0m 4ms/step - binary_crossentropy: 0.0156 - logloss: 0.0157 - loss: 0.0189 - val_binary_crossentropy: 0.0156 - val_logloss: 0.0156 - val_loss: 0.0188\n",
      "Epoch 86/192\n",
      "\u001b[1m160/160\u001b[0m \u001b[32m━━━━━━━━━━━━━━━━━━━━\u001b[0m\u001b[37m\u001b[0m \u001b[1m1s\u001b[0m 5ms/step - binary_crossentropy: 0.0156 - logloss: 0.0157 - loss: 0.0189 - val_binary_crossentropy: 0.0156 - val_logloss: 0.0156 - val_loss: 0.0188\n",
      "Epoch 87/192\n",
      "\u001b[1m160/160\u001b[0m \u001b[32m━━━━━━━━━━━━━━━━━━━━\u001b[0m\u001b[37m\u001b[0m \u001b[1m1s\u001b[0m 4ms/step - binary_crossentropy: 0.0157 - logloss: 0.0157 - loss: 0.0190 - val_binary_crossentropy: 0.0156 - val_logloss: 0.0156 - val_loss: 0.0188\n",
      "Epoch 88/192\n",
      "\u001b[1m160/160\u001b[0m \u001b[32m━━━━━━━━━━━━━━━━━━━━\u001b[0m\u001b[37m\u001b[0m \u001b[1m1s\u001b[0m 4ms/step - binary_crossentropy: 0.0156 - logloss: 0.0156 - loss: 0.0189 - val_binary_crossentropy: 0.0156 - val_logloss: 0.0157 - val_loss: 0.0188\n",
      "Epoch 89/192\n",
      "\u001b[1m160/160\u001b[0m \u001b[32m━━━━━━━━━━━━━━━━━━━━\u001b[0m\u001b[37m\u001b[0m \u001b[1m1s\u001b[0m 4ms/step - binary_crossentropy: 0.0157 - logloss: 0.0157 - loss: 0.0190 - val_binary_crossentropy: 0.0156 - val_logloss: 0.0156 - val_loss: 0.0188\n",
      "Epoch 90/192\n",
      "\u001b[1m160/160\u001b[0m \u001b[32m━━━━━━━━━━━━━━━━━━━━\u001b[0m\u001b[37m\u001b[0m \u001b[1m1s\u001b[0m 4ms/step - binary_crossentropy: 0.0156 - logloss: 0.0156 - loss: 0.0189 - val_binary_crossentropy: 0.0156 - val_logloss: 0.0156 - val_loss: 0.0188\n",
      "Epoch 91/192\n",
      "\u001b[1m160/160\u001b[0m \u001b[32m━━━━━━━━━━━━━━━━━━━━\u001b[0m\u001b[37m\u001b[0m \u001b[1m1s\u001b[0m 4ms/step - binary_crossentropy: 0.0157 - logloss: 0.0157 - loss: 0.0190 - val_binary_crossentropy: 0.0156 - val_logloss: 0.0156 - val_loss: 0.0188\n",
      "Epoch 92/192\n",
      "\u001b[1m160/160\u001b[0m \u001b[32m━━━━━━━━━━━━━━━━━━━━\u001b[0m\u001b[37m\u001b[0m \u001b[1m1s\u001b[0m 4ms/step - binary_crossentropy: 0.0156 - logloss: 0.0157 - loss: 0.0189 - val_binary_crossentropy: 0.0156 - val_logloss: 0.0156 - val_loss: 0.0188\n",
      "Epoch 93/192\n",
      "\u001b[1m160/160\u001b[0m \u001b[32m━━━━━━━━━━━━━━━━━━━━\u001b[0m\u001b[37m\u001b[0m \u001b[1m1s\u001b[0m 4ms/step - binary_crossentropy: 0.0157 - logloss: 0.0157 - loss: 0.0190 - val_binary_crossentropy: 0.0156 - val_logloss: 0.0156 - val_loss: 0.0188\n",
      "Epoch 94/192\n",
      "\u001b[1m160/160\u001b[0m \u001b[32m━━━━━━━━━━━━━━━━━━━━\u001b[0m\u001b[37m\u001b[0m \u001b[1m1s\u001b[0m 4ms/step - binary_crossentropy: 0.0156 - logloss: 0.0157 - loss: 0.0189 - val_binary_crossentropy: 0.0156 - val_logloss: 0.0156 - val_loss: 0.0188\n",
      "Epoch 95/192\n",
      "\u001b[1m160/160\u001b[0m \u001b[32m━━━━━━━━━━━━━━━━━━━━\u001b[0m\u001b[37m\u001b[0m \u001b[1m1s\u001b[0m 4ms/step - binary_crossentropy: 0.0156 - logloss: 0.0157 - loss: 0.0189 - val_binary_crossentropy: 0.0156 - val_logloss: 0.0156 - val_loss: 0.0188\n",
      "Epoch 96/192\n",
      "\u001b[1m160/160\u001b[0m \u001b[32m━━━━━━━━━━━━━━━━━━━━\u001b[0m\u001b[37m\u001b[0m \u001b[1m1s\u001b[0m 4ms/step - binary_crossentropy: 0.0156 - logloss: 0.0157 - loss: 0.0189 - val_binary_crossentropy: 0.0156 - val_logloss: 0.0156 - val_loss: 0.0188\n",
      "\u001b[1m 95/107\u001b[0m \u001b[32m━━━━━━━━━━━━━━━━━\u001b[0m\u001b[37m━━━\u001b[0m \u001b[1m0s\u001b[0m 2ms/step"
     ]
    },
    {
     "name": "stderr",
     "output_type": "stream",
     "text": [
      "W0000 00:00:1716234848.140777      70 graph_launch.cc:671] Fallback to op-by-op mode because memset node breaks graph update\n"
     ]
    },
    {
     "name": "stdout",
     "output_type": "stream",
     "text": [
      "\u001b[1m107/107\u001b[0m \u001b[32m━━━━━━━━━━━━━━━━━━━━\u001b[0m\u001b[37m\u001b[0m \u001b[1m1s\u001b[0m 4ms/step\n",
      "\u001b[1m125/125\u001b[0m \u001b[32m━━━━━━━━━━━━━━━━━━━━\u001b[0m\u001b[37m\u001b[0m \u001b[1m0s\u001b[0m 3ms/step\n",
      "Epoch 1/192\n",
      "\u001b[1m 34/160\u001b[0m \u001b[32m━━━━\u001b[0m\u001b[37m━━━━━━━━━━━━━━━━\u001b[0m \u001b[1m0s\u001b[0m 5ms/step - binary_crossentropy: 0.0261 - logloss: 0.0260 - loss: 0.0293"
     ]
    },
    {
     "name": "stderr",
     "output_type": "stream",
     "text": [
      "W0000 00:00:1716234860.863009      70 graph_launch.cc:671] Fallback to op-by-op mode because memset node breaks graph update\n"
     ]
    },
    {
     "name": "stdout",
     "output_type": "stream",
     "text": [
      "\u001b[1m160/160\u001b[0m \u001b[32m━━━━━━━━━━━━━━━━━━━━\u001b[0m\u001b[37m\u001b[0m \u001b[1m0s\u001b[0m 49ms/step - binary_crossentropy: 0.0239 - logloss: 0.0238 - loss: 0.0270"
     ]
    },
    {
     "name": "stderr",
     "output_type": "stream",
     "text": [
      "W0000 00:00:1716234868.704496      70 graph_launch.cc:671] Fallback to op-by-op mode because memset node breaks graph update\n",
      "W0000 00:00:1716234869.413221      73 graph_launch.cc:671] Fallback to op-by-op mode because memset node breaks graph update\n"
     ]
    },
    {
     "name": "stdout",
     "output_type": "stream",
     "text": [
      "\u001b[1m160/160\u001b[0m \u001b[32m━━━━━━━━━━━━━━━━━━━━\u001b[0m\u001b[37m\u001b[0m \u001b[1m20s\u001b[0m 56ms/step - binary_crossentropy: 0.0239 - logloss: 0.0238 - loss: 0.0270 - val_binary_crossentropy: 0.0182 - val_logloss: 0.0182 - val_loss: 0.0214 - learning_rate: 3.2250e-04\n",
      "Epoch 2/192\n",
      "\u001b[1m 22/160\u001b[0m \u001b[32m━━\u001b[0m\u001b[37m━━━━━━━━━━━━━━━━━━\u001b[0m \u001b[1m0s\u001b[0m 5ms/step - binary_crossentropy: 0.0196 - logloss: 0.0195 - loss: 0.0228"
     ]
    },
    {
     "name": "stderr",
     "output_type": "stream",
     "text": [
      "W0000 00:00:1716234869.817898      73 graph_launch.cc:671] Fallback to op-by-op mode because memset node breaks graph update\n"
     ]
    },
    {
     "name": "stdout",
     "output_type": "stream",
     "text": [
      "\u001b[1m160/160\u001b[0m \u001b[32m━━━━━━━━━━━━━━━━━━━━\u001b[0m\u001b[37m\u001b[0m \u001b[1m1s\u001b[0m 5ms/step - binary_crossentropy: 0.0195 - logloss: 0.0195 - loss: 0.0227 - val_binary_crossentropy: 0.0177 - val_logloss: 0.0177 - val_loss: 0.0208 - learning_rate: 6.3500e-04\n",
      "Epoch 3/192\n",
      "\u001b[1m160/160\u001b[0m \u001b[32m━━━━━━━━━━━━━━━━━━━━\u001b[0m\u001b[37m\u001b[0m \u001b[1m1s\u001b[0m 5ms/step - binary_crossentropy: 0.0183 - logloss: 0.0183 - loss: 0.0216 - val_binary_crossentropy: 0.0171 - val_logloss: 0.0170 - val_loss: 0.0202 - learning_rate: 9.4750e-04\n",
      "Epoch 4/192\n",
      "\u001b[1m160/160\u001b[0m \u001b[32m━━━━━━━━━━━━━━━━━━━━\u001b[0m\u001b[37m\u001b[0m \u001b[1m1s\u001b[0m 5ms/step - binary_crossentropy: 0.0178 - logloss: 0.0177 - loss: 0.0210 - val_binary_crossentropy: 0.0167 - val_logloss: 0.0166 - val_loss: 0.0200 - learning_rate: 0.0013\n",
      "Epoch 5/192\n",
      "\u001b[1m160/160\u001b[0m \u001b[32m━━━━━━━━━━━━━━━━━━━━\u001b[0m\u001b[37m\u001b[0m \u001b[1m1s\u001b[0m 5ms/step - binary_crossentropy: 0.0176 - logloss: 0.0175 - loss: 0.0209 - val_binary_crossentropy: 0.0168 - val_logloss: 0.0168 - val_loss: 0.0202 - learning_rate: 0.0016\n",
      "Epoch 6/192\n",
      "\u001b[1m160/160\u001b[0m \u001b[32m━━━━━━━━━━━━━━━━━━━━\u001b[0m\u001b[37m\u001b[0m \u001b[1m1s\u001b[0m 5ms/step - binary_crossentropy: 0.0174 - logloss: 0.0174 - loss: 0.0207 - val_binary_crossentropy: 0.0168 - val_logloss: 0.0168 - val_loss: 0.0202 - learning_rate: 0.0019\n",
      "Epoch 7/192\n",
      "\u001b[1m160/160\u001b[0m \u001b[32m━━━━━━━━━━━━━━━━━━━━\u001b[0m\u001b[37m\u001b[0m \u001b[1m1s\u001b[0m 5ms/step - binary_crossentropy: 0.0172 - logloss: 0.0172 - loss: 0.0205 - val_binary_crossentropy: 0.0168 - val_logloss: 0.0167 - val_loss: 0.0201 - learning_rate: 0.0022\n",
      "Epoch 8/192\n",
      "\u001b[1m160/160\u001b[0m \u001b[32m━━━━━━━━━━━━━━━━━━━━\u001b[0m\u001b[37m\u001b[0m \u001b[1m1s\u001b[0m 5ms/step - binary_crossentropy: 0.0172 - logloss: 0.0172 - loss: 0.0206 - val_binary_crossentropy: 0.0166 - val_logloss: 0.0166 - val_loss: 0.0200 - learning_rate: 0.0025\n",
      "Epoch 9/192\n",
      "\u001b[1m160/160\u001b[0m \u001b[32m━━━━━━━━━━━━━━━━━━━━\u001b[0m\u001b[37m\u001b[0m \u001b[1m1s\u001b[0m 4ms/step - binary_crossentropy: 0.0171 - logloss: 0.0171 - loss: 0.0204 - val_binary_crossentropy: 0.0166 - val_logloss: 0.0166 - val_loss: 0.0200 - learning_rate: 0.0028\n",
      "Epoch 10/192\n",
      "\u001b[1m160/160\u001b[0m \u001b[32m━━━━━━━━━━━━━━━━━━━━\u001b[0m\u001b[37m\u001b[0m \u001b[1m1s\u001b[0m 4ms/step - binary_crossentropy: 0.0169 - logloss: 0.0169 - loss: 0.0203 - val_binary_crossentropy: 0.0168 - val_logloss: 0.0167 - val_loss: 0.0201 - learning_rate: 0.0025\n",
      "Epoch 11/192\n",
      "\u001b[1m160/160\u001b[0m \u001b[32m━━━━━━━━━━━━━━━━━━━━\u001b[0m\u001b[37m\u001b[0m \u001b[1m1s\u001b[0m 4ms/step - binary_crossentropy: 0.0167 - logloss: 0.0167 - loss: 0.0200 - val_binary_crossentropy: 0.0164 - val_logloss: 0.0164 - val_loss: 0.0198 - learning_rate: 0.0022\n",
      "Epoch 12/192\n",
      "\u001b[1m160/160\u001b[0m \u001b[32m━━━━━━━━━━━━━━━━━━━━\u001b[0m\u001b[37m\u001b[0m \u001b[1m1s\u001b[0m 4ms/step - binary_crossentropy: 0.0166 - logloss: 0.0166 - loss: 0.0199 - val_binary_crossentropy: 0.0164 - val_logloss: 0.0164 - val_loss: 0.0197 - learning_rate: 0.0019\n",
      "Epoch 13/192\n",
      "\u001b[1m160/160\u001b[0m \u001b[32m━━━━━━━━━━━━━━━━━━━━\u001b[0m\u001b[37m\u001b[0m \u001b[1m1s\u001b[0m 4ms/step - binary_crossentropy: 0.0165 - logloss: 0.0165 - loss: 0.0198 - val_binary_crossentropy: 0.0162 - val_logloss: 0.0161 - val_loss: 0.0194 - learning_rate: 0.0016\n",
      "Epoch 14/192\n",
      "\u001b[1m160/160\u001b[0m \u001b[32m━━━━━━━━━━━━━━━━━━━━\u001b[0m\u001b[37m\u001b[0m \u001b[1m1s\u001b[0m 4ms/step - binary_crossentropy: 0.0163 - logloss: 0.0164 - loss: 0.0197 - val_binary_crossentropy: 0.0161 - val_logloss: 0.0161 - val_loss: 0.0194 - learning_rate: 0.0013\n",
      "Epoch 15/192\n",
      "\u001b[1m160/160\u001b[0m \u001b[32m━━━━━━━━━━━━━━━━━━━━\u001b[0m\u001b[37m\u001b[0m \u001b[1m1s\u001b[0m 5ms/step - binary_crossentropy: 0.0163 - logloss: 0.0163 - loss: 0.0196 - val_binary_crossentropy: 0.0158 - val_logloss: 0.0158 - val_loss: 0.0191 - learning_rate: 9.4750e-04\n",
      "Epoch 16/192\n",
      "\u001b[1m160/160\u001b[0m \u001b[32m━━━━━━━━━━━━━━━━━━━━\u001b[0m\u001b[37m\u001b[0m \u001b[1m1s\u001b[0m 5ms/step - binary_crossentropy: 0.0161 - logloss: 0.0162 - loss: 0.0194 - val_binary_crossentropy: 0.0159 - val_logloss: 0.0159 - val_loss: 0.0191 - learning_rate: 6.3500e-04\n",
      "Epoch 17/192\n",
      "\u001b[1m160/160\u001b[0m \u001b[32m━━━━━━━━━━━━━━━━━━━━\u001b[0m\u001b[37m\u001b[0m \u001b[1m1s\u001b[0m 4ms/step - binary_crossentropy: 0.0160 - logloss: 0.0161 - loss: 0.0193 - val_binary_crossentropy: 0.0159 - val_logloss: 0.0158 - val_loss: 0.0191 - learning_rate: 7.4996e-04\n",
      "Epoch 18/192\n",
      "\u001b[1m160/160\u001b[0m \u001b[32m━━━━━━━━━━━━━━━━━━━━\u001b[0m\u001b[37m\u001b[0m \u001b[1m1s\u001b[0m 5ms/step - binary_crossentropy: 0.0161 - logloss: 0.0161 - loss: 0.0194 - val_binary_crossentropy: 0.0158 - val_logloss: 0.0158 - val_loss: 0.0190 - learning_rate: 8.6492e-04\n",
      "Epoch 19/192\n",
      "\u001b[1m160/160\u001b[0m \u001b[32m━━━━━━━━━━━━━━━━━━━━\u001b[0m\u001b[37m\u001b[0m \u001b[1m1s\u001b[0m 5ms/step - binary_crossentropy: 0.0160 - logloss: 0.0160 - loss: 0.0193 - val_binary_crossentropy: 0.0158 - val_logloss: 0.0158 - val_loss: 0.0191 - learning_rate: 9.7989e-04\n",
      "Epoch 20/192\n",
      "\u001b[1m160/160\u001b[0m \u001b[32m━━━━━━━━━━━━━━━━━━━━\u001b[0m\u001b[37m\u001b[0m \u001b[1m1s\u001b[0m 4ms/step - binary_crossentropy: 0.0161 - logloss: 0.0161 - loss: 0.0194 - val_binary_crossentropy: 0.0159 - val_logloss: 0.0159 - val_loss: 0.0191 - learning_rate: 0.0011\n",
      "Epoch 21/192\n",
      "\u001b[1m160/160\u001b[0m \u001b[32m━━━━━━━━━━━━━━━━━━━━\u001b[0m\u001b[37m\u001b[0m \u001b[1m1s\u001b[0m 4ms/step - binary_crossentropy: 0.0161 - logloss: 0.0161 - loss: 0.0194 - val_binary_crossentropy: 0.0158 - val_logloss: 0.0158 - val_loss: 0.0190 - learning_rate: 0.0012\n",
      "Epoch 22/192\n",
      "\u001b[1m160/160\u001b[0m \u001b[32m━━━━━━━━━━━━━━━━━━━━\u001b[0m\u001b[37m\u001b[0m \u001b[1m1s\u001b[0m 4ms/step - binary_crossentropy: 0.0161 - logloss: 0.0161 - loss: 0.0194 - val_binary_crossentropy: 0.0159 - val_logloss: 0.0159 - val_loss: 0.0191 - learning_rate: 0.0013\n",
      "Epoch 23/192\n",
      "\u001b[1m160/160\u001b[0m \u001b[32m━━━━━━━━━━━━━━━━━━━━\u001b[0m\u001b[37m\u001b[0m \u001b[1m1s\u001b[0m 4ms/step - binary_crossentropy: 0.0161 - logloss: 0.0161 - loss: 0.0194 - val_binary_crossentropy: 0.0158 - val_logloss: 0.0158 - val_loss: 0.0190 - learning_rate: 0.0014\n",
      "Epoch 24/192\n",
      "\u001b[1m160/160\u001b[0m \u001b[32m━━━━━━━━━━━━━━━━━━━━\u001b[0m\u001b[37m\u001b[0m \u001b[1m1s\u001b[0m 4ms/step - binary_crossentropy: 0.0161 - logloss: 0.0161 - loss: 0.0194 - val_binary_crossentropy: 0.0159 - val_logloss: 0.0159 - val_loss: 0.0192 - learning_rate: 0.0016\n",
      "Epoch 25/192\n",
      "\u001b[1m160/160\u001b[0m \u001b[32m━━━━━━━━━━━━━━━━━━━━\u001b[0m\u001b[37m\u001b[0m \u001b[1m1s\u001b[0m 4ms/step - binary_crossentropy: 0.0162 - logloss: 0.0162 - loss: 0.0195 - val_binary_crossentropy: 0.0160 - val_logloss: 0.0160 - val_loss: 0.0193 - learning_rate: 0.0017\n",
      "Epoch 26/192\n",
      "\u001b[1m160/160\u001b[0m \u001b[32m━━━━━━━━━━━━━━━━━━━━\u001b[0m\u001b[37m\u001b[0m \u001b[1m1s\u001b[0m 4ms/step - binary_crossentropy: 0.0161 - logloss: 0.0161 - loss: 0.0194 - val_binary_crossentropy: 0.0160 - val_logloss: 0.0159 - val_loss: 0.0192 - learning_rate: 0.0016\n",
      "Epoch 1/192\n",
      "\u001b[1m 28/160\u001b[0m \u001b[32m━━━\u001b[0m\u001b[37m━━━━━━━━━━━━━━━━━\u001b[0m \u001b[1m0s\u001b[0m 6ms/step - binary_crossentropy: 0.0160 - logloss: 0.0160 - loss: 0.0193"
     ]
    },
    {
     "name": "stderr",
     "output_type": "stream",
     "text": [
      "W0000 00:00:1716234899.819546      70 graph_launch.cc:671] Fallback to op-by-op mode because memset node breaks graph update\n"
     ]
    },
    {
     "name": "stdout",
     "output_type": "stream",
     "text": [
      "\u001b[1m160/160\u001b[0m \u001b[32m━━━━━━━━━━━━━━━━━━━━\u001b[0m\u001b[37m\u001b[0m \u001b[1m0s\u001b[0m 52ms/step - binary_crossentropy: 0.0161 - logloss: 0.0161 - loss: 0.0194"
     ]
    },
    {
     "name": "stderr",
     "output_type": "stream",
     "text": [
      "W0000 00:00:1716234908.082143      70 graph_launch.cc:671] Fallback to op-by-op mode because memset node breaks graph update\n",
      "W0000 00:00:1716234908.777812      73 graph_launch.cc:671] Fallback to op-by-op mode because memset node breaks graph update\n"
     ]
    },
    {
     "name": "stdout",
     "output_type": "stream",
     "text": [
      "\u001b[1m160/160\u001b[0m \u001b[32m━━━━━━━━━━━━━━━━━━━━\u001b[0m\u001b[37m\u001b[0m \u001b[1m20s\u001b[0m 59ms/step - binary_crossentropy: 0.0161 - logloss: 0.0161 - loss: 0.0194 - val_binary_crossentropy: 0.0159 - val_logloss: 0.0159 - val_loss: 0.0191\n",
      "Epoch 2/192\n",
      "\u001b[1m 21/160\u001b[0m \u001b[32m━━\u001b[0m\u001b[37m━━━━━━━━━━━━━━━━━━\u001b[0m \u001b[1m0s\u001b[0m 5ms/step - binary_crossentropy: 0.0157 - logloss: 0.0158 - loss: 0.0190"
     ]
    },
    {
     "name": "stderr",
     "output_type": "stream",
     "text": [
      "W0000 00:00:1716234909.185661      72 graph_launch.cc:671] Fallback to op-by-op mode because memset node breaks graph update\n"
     ]
    },
    {
     "name": "stdout",
     "output_type": "stream",
     "text": [
      "\u001b[1m160/160\u001b[0m \u001b[32m━━━━━━━━━━━━━━━━━━━━\u001b[0m\u001b[37m\u001b[0m \u001b[1m1s\u001b[0m 5ms/step - binary_crossentropy: 0.0160 - logloss: 0.0160 - loss: 0.0193 - val_binary_crossentropy: 0.0159 - val_logloss: 0.0159 - val_loss: 0.0191\n",
      "Epoch 3/192\n",
      "\u001b[1m160/160\u001b[0m \u001b[32m━━━━━━━━━━━━━━━━━━━━\u001b[0m\u001b[37m\u001b[0m \u001b[1m1s\u001b[0m 5ms/step - binary_crossentropy: 0.0160 - logloss: 0.0160 - loss: 0.0193 - val_binary_crossentropy: 0.0159 - val_logloss: 0.0158 - val_loss: 0.0191\n",
      "Epoch 4/192\n",
      "\u001b[1m160/160\u001b[0m \u001b[32m━━━━━━━━━━━━━━━━━━━━\u001b[0m\u001b[37m\u001b[0m \u001b[1m1s\u001b[0m 4ms/step - binary_crossentropy: 0.0160 - logloss: 0.0160 - loss: 0.0193 - val_binary_crossentropy: 0.0159 - val_logloss: 0.0158 - val_loss: 0.0190\n",
      "Epoch 5/192\n",
      "\u001b[1m160/160\u001b[0m \u001b[32m━━━━━━━━━━━━━━━━━━━━\u001b[0m\u001b[37m\u001b[0m \u001b[1m1s\u001b[0m 4ms/step - binary_crossentropy: 0.0160 - logloss: 0.0160 - loss: 0.0193 - val_binary_crossentropy: 0.0158 - val_logloss: 0.0158 - val_loss: 0.0190\n",
      "\u001b[1m100/107\u001b[0m \u001b[32m━━━━━━━━━━━━━━━━━━\u001b[0m\u001b[37m━━\u001b[0m \u001b[1m0s\u001b[0m 2ms/step"
     ]
    },
    {
     "name": "stderr",
     "output_type": "stream",
     "text": [
      "W0000 00:00:1716234912.692692      73 graph_launch.cc:671] Fallback to op-by-op mode because memset node breaks graph update\n"
     ]
    },
    {
     "name": "stdout",
     "output_type": "stream",
     "text": [
      "\u001b[1m107/107\u001b[0m \u001b[32m━━━━━━━━━━━━━━━━━━━━\u001b[0m\u001b[37m\u001b[0m \u001b[1m1s\u001b[0m 4ms/step\n",
      "\u001b[1m125/125\u001b[0m \u001b[32m━━━━━━━━━━━━━━━━━━━━\u001b[0m\u001b[37m\u001b[0m \u001b[1m0s\u001b[0m 3ms/step\n",
      "Epoch 1/192\n",
      "\u001b[1m 33/160\u001b[0m \u001b[32m━━━━\u001b[0m\u001b[37m━━━━━━━━━━━━━━━━\u001b[0m \u001b[1m0s\u001b[0m 5ms/step - binary_crossentropy: 0.0266 - logloss: 0.0265 - loss: 0.0298"
     ]
    },
    {
     "name": "stderr",
     "output_type": "stream",
     "text": [
      "W0000 00:00:1716234924.838781      72 graph_launch.cc:671] Fallback to op-by-op mode because memset node breaks graph update\n"
     ]
    },
    {
     "name": "stdout",
     "output_type": "stream",
     "text": [
      "\u001b[1m160/160\u001b[0m \u001b[32m━━━━━━━━━━━━━━━━━━━━\u001b[0m\u001b[37m\u001b[0m \u001b[1m0s\u001b[0m 52ms/step - binary_crossentropy: 0.0239 - logloss: 0.0238 - loss: 0.0271"
     ]
    },
    {
     "name": "stderr",
     "output_type": "stream",
     "text": [
      "W0000 00:00:1716234933.122699      70 graph_launch.cc:671] Fallback to op-by-op mode because memset node breaks graph update\n",
      "W0000 00:00:1716234933.812653      73 graph_launch.cc:671] Fallback to op-by-op mode because memset node breaks graph update\n"
     ]
    },
    {
     "name": "stdout",
     "output_type": "stream",
     "text": [
      "\u001b[1m160/160\u001b[0m \u001b[32m━━━━━━━━━━━━━━━━━━━━\u001b[0m\u001b[37m\u001b[0m \u001b[1m20s\u001b[0m 59ms/step - binary_crossentropy: 0.0239 - logloss: 0.0238 - loss: 0.0271 - val_binary_crossentropy: 0.0184 - val_logloss: 0.0184 - val_loss: 0.0217 - learning_rate: 3.2250e-04\n",
      "Epoch 2/192\n",
      "\u001b[1m 22/160\u001b[0m \u001b[32m━━\u001b[0m\u001b[37m━━━━━━━━━━━━━━━━━━\u001b[0m \u001b[1m0s\u001b[0m 5ms/step - binary_crossentropy: 0.0200 - logloss: 0.0200 - loss: 0.0232"
     ]
    },
    {
     "name": "stderr",
     "output_type": "stream",
     "text": [
      "W0000 00:00:1716234934.224857      70 graph_launch.cc:671] Fallback to op-by-op mode because memset node breaks graph update\n"
     ]
    },
    {
     "name": "stdout",
     "output_type": "stream",
     "text": [
      "\u001b[1m160/160\u001b[0m \u001b[32m━━━━━━━━━━━━━━━━━━━━\u001b[0m\u001b[37m\u001b[0m \u001b[1m1s\u001b[0m 5ms/step - binary_crossentropy: 0.0194 - logloss: 0.0194 - loss: 0.0226 - val_binary_crossentropy: 0.0179 - val_logloss: 0.0179 - val_loss: 0.0210 - learning_rate: 6.3500e-04\n",
      "Epoch 3/192\n",
      "\u001b[1m160/160\u001b[0m \u001b[32m━━━━━━━━━━━━━━━━━━━━\u001b[0m\u001b[37m\u001b[0m \u001b[1m1s\u001b[0m 4ms/step - binary_crossentropy: 0.0182 - logloss: 0.0182 - loss: 0.0214 - val_binary_crossentropy: 0.0175 - val_logloss: 0.0175 - val_loss: 0.0206 - learning_rate: 9.4750e-04\n",
      "Epoch 4/192\n",
      "\u001b[1m160/160\u001b[0m \u001b[32m━━━━━━━━━━━━━━━━━━━━\u001b[0m\u001b[37m\u001b[0m \u001b[1m1s\u001b[0m 4ms/step - binary_crossentropy: 0.0176 - logloss: 0.0176 - loss: 0.0209 - val_binary_crossentropy: 0.0172 - val_logloss: 0.0172 - val_loss: 0.0203 - learning_rate: 0.0013\n",
      "Epoch 5/192\n",
      "\u001b[1m160/160\u001b[0m \u001b[32m━━━━━━━━━━━━━━━━━━━━\u001b[0m\u001b[37m\u001b[0m \u001b[1m1s\u001b[0m 4ms/step - binary_crossentropy: 0.0175 - logloss: 0.0175 - loss: 0.0208 - val_binary_crossentropy: 0.0171 - val_logloss: 0.0170 - val_loss: 0.0205 - learning_rate: 0.0016\n",
      "Epoch 6/192\n",
      "\u001b[1m160/160\u001b[0m \u001b[32m━━━━━━━━━━━━━━━━━━━━\u001b[0m\u001b[37m\u001b[0m \u001b[1m1s\u001b[0m 4ms/step - binary_crossentropy: 0.0172 - logloss: 0.0172 - loss: 0.0206 - val_binary_crossentropy: 0.0170 - val_logloss: 0.0170 - val_loss: 0.0203 - learning_rate: 0.0019\n",
      "Epoch 7/192\n",
      "\u001b[1m160/160\u001b[0m \u001b[32m━━━━━━━━━━━━━━━━━━━━\u001b[0m\u001b[37m\u001b[0m \u001b[1m1s\u001b[0m 4ms/step - binary_crossentropy: 0.0172 - logloss: 0.0172 - loss: 0.0206 - val_binary_crossentropy: 0.0172 - val_logloss: 0.0172 - val_loss: 0.0205 - learning_rate: 0.0022\n",
      "Epoch 8/192\n",
      "\u001b[1m160/160\u001b[0m \u001b[32m━━━━━━━━━━━━━━━━━━━━\u001b[0m\u001b[37m\u001b[0m \u001b[1m1s\u001b[0m 4ms/step - binary_crossentropy: 0.0171 - logloss: 0.0171 - loss: 0.0205 - val_binary_crossentropy: 0.0169 - val_logloss: 0.0168 - val_loss: 0.0203 - learning_rate: 0.0025\n",
      "Epoch 9/192\n",
      "\u001b[1m160/160\u001b[0m \u001b[32m━━━━━━━━━━━━━━━━━━━━\u001b[0m\u001b[37m\u001b[0m \u001b[1m1s\u001b[0m 4ms/step - binary_crossentropy: 0.0170 - logloss: 0.0170 - loss: 0.0204 - val_binary_crossentropy: 0.0169 - val_logloss: 0.0169 - val_loss: 0.0203 - learning_rate: 0.0028\n",
      "Epoch 10/192\n",
      "\u001b[1m160/160\u001b[0m \u001b[32m━━━━━━━━━━━━━━━━━━━━\u001b[0m\u001b[37m\u001b[0m \u001b[1m1s\u001b[0m 4ms/step - binary_crossentropy: 0.0169 - logloss: 0.0169 - loss: 0.0203 - val_binary_crossentropy: 0.0168 - val_logloss: 0.0168 - val_loss: 0.0202 - learning_rate: 0.0025\n",
      "Epoch 11/192\n",
      "\u001b[1m160/160\u001b[0m \u001b[32m━━━━━━━━━━━━━━━━━━━━\u001b[0m\u001b[37m\u001b[0m \u001b[1m1s\u001b[0m 4ms/step - binary_crossentropy: 0.0168 - logloss: 0.0168 - loss: 0.0201 - val_binary_crossentropy: 0.0167 - val_logloss: 0.0167 - val_loss: 0.0200 - learning_rate: 0.0022\n",
      "Epoch 12/192\n",
      "\u001b[1m160/160\u001b[0m \u001b[32m━━━━━━━━━━━━━━━━━━━━\u001b[0m\u001b[37m\u001b[0m \u001b[1m1s\u001b[0m 4ms/step - binary_crossentropy: 0.0166 - logloss: 0.0167 - loss: 0.0200 - val_binary_crossentropy: 0.0164 - val_logloss: 0.0164 - val_loss: 0.0197 - learning_rate: 0.0019\n",
      "Epoch 13/192\n",
      "\u001b[1m160/160\u001b[0m \u001b[32m━━━━━━━━━━━━━━━━━━━━\u001b[0m\u001b[37m\u001b[0m \u001b[1m1s\u001b[0m 4ms/step - binary_crossentropy: 0.0165 - logloss: 0.0165 - loss: 0.0198 - val_binary_crossentropy: 0.0163 - val_logloss: 0.0163 - val_loss: 0.0195 - learning_rate: 0.0016\n",
      "Epoch 14/192\n",
      "\u001b[1m160/160\u001b[0m \u001b[32m━━━━━━━━━━━━━━━━━━━━\u001b[0m\u001b[37m\u001b[0m \u001b[1m1s\u001b[0m 4ms/step - binary_crossentropy: 0.0164 - logloss: 0.0164 - loss: 0.0197 - val_binary_crossentropy: 0.0162 - val_logloss: 0.0162 - val_loss: 0.0194 - learning_rate: 0.0013\n",
      "Epoch 15/192\n",
      "\u001b[1m160/160\u001b[0m \u001b[32m━━━━━━━━━━━━━━━━━━━━\u001b[0m\u001b[37m\u001b[0m \u001b[1m1s\u001b[0m 4ms/step - binary_crossentropy: 0.0163 - logloss: 0.0163 - loss: 0.0196 - val_binary_crossentropy: 0.0161 - val_logloss: 0.0161 - val_loss: 0.0193 - learning_rate: 9.4750e-04\n",
      "Epoch 16/192\n",
      "\u001b[1m160/160\u001b[0m \u001b[32m━━━━━━━━━━━━━━━━━━━━\u001b[0m\u001b[37m\u001b[0m \u001b[1m1s\u001b[0m 4ms/step - binary_crossentropy: 0.0162 - logloss: 0.0162 - loss: 0.0195 - val_binary_crossentropy: 0.0161 - val_logloss: 0.0161 - val_loss: 0.0193 - learning_rate: 6.3500e-04\n",
      "Epoch 17/192\n",
      "\u001b[1m160/160\u001b[0m \u001b[32m━━━━━━━━━━━━━━━━━━━━\u001b[0m\u001b[37m\u001b[0m \u001b[1m1s\u001b[0m 4ms/step - binary_crossentropy: 0.0161 - logloss: 0.0162 - loss: 0.0194 - val_binary_crossentropy: 0.0161 - val_logloss: 0.0161 - val_loss: 0.0193 - learning_rate: 7.4996e-04\n",
      "Epoch 18/192\n",
      "\u001b[1m160/160\u001b[0m \u001b[32m━━━━━━━━━━━━━━━━━━━━\u001b[0m\u001b[37m\u001b[0m \u001b[1m1s\u001b[0m 4ms/step - binary_crossentropy: 0.0161 - logloss: 0.0161 - loss: 0.0194 - val_binary_crossentropy: 0.0161 - val_logloss: 0.0161 - val_loss: 0.0193 - learning_rate: 8.6492e-04\n",
      "Epoch 19/192\n",
      "\u001b[1m160/160\u001b[0m \u001b[32m━━━━━━━━━━━━━━━━━━━━\u001b[0m\u001b[37m\u001b[0m \u001b[1m1s\u001b[0m 4ms/step - binary_crossentropy: 0.0161 - logloss: 0.0161 - loss: 0.0194 - val_binary_crossentropy: 0.0160 - val_logloss: 0.0160 - val_loss: 0.0192 - learning_rate: 9.7989e-04\n",
      "Epoch 20/192\n",
      "\u001b[1m160/160\u001b[0m \u001b[32m━━━━━━━━━━━━━━━━━━━━\u001b[0m\u001b[37m\u001b[0m \u001b[1m1s\u001b[0m 4ms/step - binary_crossentropy: 0.0161 - logloss: 0.0161 - loss: 0.0194 - val_binary_crossentropy: 0.0161 - val_logloss: 0.0161 - val_loss: 0.0193 - learning_rate: 0.0011\n",
      "Epoch 21/192\n",
      "\u001b[1m160/160\u001b[0m \u001b[32m━━━━━━━━━━━━━━━━━━━━\u001b[0m\u001b[37m\u001b[0m \u001b[1m1s\u001b[0m 4ms/step - binary_crossentropy: 0.0161 - logloss: 0.0161 - loss: 0.0194 - val_binary_crossentropy: 0.0159 - val_logloss: 0.0159 - val_loss: 0.0192 - learning_rate: 0.0012\n",
      "Epoch 22/192\n",
      "\u001b[1m160/160\u001b[0m \u001b[32m━━━━━━━━━━━━━━━━━━━━\u001b[0m\u001b[37m\u001b[0m \u001b[1m1s\u001b[0m 4ms/step - binary_crossentropy: 0.0161 - logloss: 0.0161 - loss: 0.0194 - val_binary_crossentropy: 0.0160 - val_logloss: 0.0160 - val_loss: 0.0192 - learning_rate: 0.0013\n",
      "Epoch 23/192\n",
      "\u001b[1m160/160\u001b[0m \u001b[32m━━━━━━━━━━━━━━━━━━━━\u001b[0m\u001b[37m\u001b[0m \u001b[1m1s\u001b[0m 4ms/step - binary_crossentropy: 0.0161 - logloss: 0.0161 - loss: 0.0194 - val_binary_crossentropy: 0.0161 - val_logloss: 0.0161 - val_loss: 0.0194 - learning_rate: 0.0014\n",
      "Epoch 24/192\n",
      "\u001b[1m160/160\u001b[0m \u001b[32m━━━━━━━━━━━━━━━━━━━━\u001b[0m\u001b[37m\u001b[0m \u001b[1m1s\u001b[0m 4ms/step - binary_crossentropy: 0.0161 - logloss: 0.0162 - loss: 0.0194 - val_binary_crossentropy: 0.0159 - val_logloss: 0.0159 - val_loss: 0.0192 - learning_rate: 0.0016\n",
      "Epoch 25/192\n",
      "\u001b[1m160/160\u001b[0m \u001b[32m━━━━━━━━━━━━━━━━━━━━\u001b[0m\u001b[37m\u001b[0m \u001b[1m1s\u001b[0m 4ms/step - binary_crossentropy: 0.0162 - logloss: 0.0162 - loss: 0.0194 - val_binary_crossentropy: 0.0161 - val_logloss: 0.0161 - val_loss: 0.0193 - learning_rate: 0.0017\n",
      "Epoch 26/192\n",
      "\u001b[1m160/160\u001b[0m \u001b[32m━━━━━━━━━━━━━━━━━━━━\u001b[0m\u001b[37m\u001b[0m \u001b[1m1s\u001b[0m 4ms/step - binary_crossentropy: 0.0161 - logloss: 0.0162 - loss: 0.0194 - val_binary_crossentropy: 0.0162 - val_logloss: 0.0162 - val_loss: 0.0194 - learning_rate: 0.0016\n",
      "Epoch 27/192\n",
      "\u001b[1m160/160\u001b[0m \u001b[32m━━━━━━━━━━━━━━━━━━━━\u001b[0m\u001b[37m\u001b[0m \u001b[1m1s\u001b[0m 4ms/step - binary_crossentropy: 0.0161 - logloss: 0.0161 - loss: 0.0194 - val_binary_crossentropy: 0.0161 - val_logloss: 0.0161 - val_loss: 0.0193 - learning_rate: 0.0014\n",
      "Epoch 28/192\n",
      "\u001b[1m160/160\u001b[0m \u001b[32m━━━━━━━━━━━━━━━━━━━━\u001b[0m\u001b[37m\u001b[0m \u001b[1m1s\u001b[0m 4ms/step - binary_crossentropy: 0.0161 - logloss: 0.0161 - loss: 0.0194 - val_binary_crossentropy: 0.0160 - val_logloss: 0.0160 - val_loss: 0.0192 - learning_rate: 0.0013\n",
      "Epoch 29/192\n",
      "\u001b[1m160/160\u001b[0m \u001b[32m━━━━━━━━━━━━━━━━━━━━\u001b[0m\u001b[37m\u001b[0m \u001b[1m1s\u001b[0m 4ms/step - binary_crossentropy: 0.0160 - logloss: 0.0160 - loss: 0.0193 - val_binary_crossentropy: 0.0160 - val_logloss: 0.0160 - val_loss: 0.0192 - learning_rate: 0.0012\n",
      "Epoch 1/192\n",
      "\u001b[1m 33/160\u001b[0m \u001b[32m━━━━\u001b[0m\u001b[37m━━━━━━━━━━━━━━━━\u001b[0m \u001b[1m0s\u001b[0m 5ms/step - binary_crossentropy: 0.0161 - logloss: 0.0162 - loss: 0.0194"
     ]
    },
    {
     "name": "stderr",
     "output_type": "stream",
     "text": [
      "W0000 00:00:1716234966.223468      72 graph_launch.cc:671] Fallback to op-by-op mode because memset node breaks graph update\n"
     ]
    },
    {
     "name": "stdout",
     "output_type": "stream",
     "text": [
      "\u001b[1m160/160\u001b[0m \u001b[32m━━━━━━━━━━━━━━━━━━━━\u001b[0m\u001b[37m\u001b[0m \u001b[1m0s\u001b[0m 51ms/step - binary_crossentropy: 0.0160 - logloss: 0.0160 - loss: 0.0192"
     ]
    },
    {
     "name": "stderr",
     "output_type": "stream",
     "text": [
      "W0000 00:00:1716234974.341227      72 graph_launch.cc:671] Fallback to op-by-op mode because memset node breaks graph update\n",
      "W0000 00:00:1716234975.046779      70 graph_launch.cc:671] Fallback to op-by-op mode because memset node breaks graph update\n"
     ]
    },
    {
     "name": "stdout",
     "output_type": "stream",
     "text": [
      "\u001b[1m160/160\u001b[0m \u001b[32m━━━━━━━━━━━━━━━━━━━━\u001b[0m\u001b[37m\u001b[0m \u001b[1m20s\u001b[0m 58ms/step - binary_crossentropy: 0.0160 - logloss: 0.0160 - loss: 0.0192 - val_binary_crossentropy: 0.0159 - val_logloss: 0.0159 - val_loss: 0.0191\n",
      "Epoch 2/192\n",
      "\u001b[1m 22/160\u001b[0m \u001b[32m━━\u001b[0m\u001b[37m━━━━━━━━━━━━━━━━━━\u001b[0m \u001b[1m0s\u001b[0m 5ms/step - binary_crossentropy: 0.0163 - logloss: 0.0164 - loss: 0.0196"
     ]
    },
    {
     "name": "stderr",
     "output_type": "stream",
     "text": [
      "W0000 00:00:1716234975.452736      71 graph_launch.cc:671] Fallback to op-by-op mode because memset node breaks graph update\n"
     ]
    },
    {
     "name": "stdout",
     "output_type": "stream",
     "text": [
      "\u001b[1m160/160\u001b[0m \u001b[32m━━━━━━━━━━━━━━━━━━━━\u001b[0m\u001b[37m\u001b[0m \u001b[1m1s\u001b[0m 5ms/step - binary_crossentropy: 0.0160 - logloss: 0.0160 - loss: 0.0193 - val_binary_crossentropy: 0.0159 - val_logloss: 0.0159 - val_loss: 0.0191\n",
      "Epoch 3/192\n",
      "\u001b[1m160/160\u001b[0m \u001b[32m━━━━━━━━━━━━━━━━━━━━\u001b[0m\u001b[37m\u001b[0m \u001b[1m1s\u001b[0m 4ms/step - binary_crossentropy: 0.0159 - logloss: 0.0160 - loss: 0.0192 - val_binary_crossentropy: 0.0159 - val_logloss: 0.0159 - val_loss: 0.0191\n",
      "Epoch 4/192\n",
      "\u001b[1m160/160\u001b[0m \u001b[32m━━━━━━━━━━━━━━━━━━━━\u001b[0m\u001b[37m\u001b[0m \u001b[1m1s\u001b[0m 4ms/step - binary_crossentropy: 0.0159 - logloss: 0.0159 - loss: 0.0192 - val_binary_crossentropy: 0.0159 - val_logloss: 0.0159 - val_loss: 0.0191\n",
      "Epoch 5/192\n",
      "\u001b[1m160/160\u001b[0m \u001b[32m━━━━━━━━━━━━━━━━━━━━\u001b[0m\u001b[37m\u001b[0m \u001b[1m1s\u001b[0m 4ms/step - binary_crossentropy: 0.0159 - logloss: 0.0159 - loss: 0.0192 - val_binary_crossentropy: 0.0159 - val_logloss: 0.0159 - val_loss: 0.0190\n",
      "Epoch 6/192\n",
      "\u001b[1m160/160\u001b[0m \u001b[32m━━━━━━━━━━━━━━━━━━━━\u001b[0m\u001b[37m\u001b[0m \u001b[1m1s\u001b[0m 4ms/step - binary_crossentropy: 0.0159 - logloss: 0.0159 - loss: 0.0192 - val_binary_crossentropy: 0.0159 - val_logloss: 0.0159 - val_loss: 0.0190\n",
      "Epoch 7/192\n",
      "\u001b[1m160/160\u001b[0m \u001b[32m━━━━━━━━━━━━━━━━━━━━\u001b[0m\u001b[37m\u001b[0m \u001b[1m1s\u001b[0m 4ms/step - binary_crossentropy: 0.0159 - logloss: 0.0160 - loss: 0.0192 - val_binary_crossentropy: 0.0158 - val_logloss: 0.0159 - val_loss: 0.0190\n",
      "Epoch 8/192\n",
      "\u001b[1m160/160\u001b[0m \u001b[32m━━━━━━━━━━━━━━━━━━━━\u001b[0m\u001b[37m\u001b[0m \u001b[1m1s\u001b[0m 4ms/step - binary_crossentropy: 0.0159 - logloss: 0.0159 - loss: 0.0192 - val_binary_crossentropy: 0.0158 - val_logloss: 0.0159 - val_loss: 0.0190\n",
      "Epoch 9/192\n",
      "\u001b[1m160/160\u001b[0m \u001b[32m━━━━━━━━━━━━━━━━━━━━\u001b[0m\u001b[37m\u001b[0m \u001b[1m1s\u001b[0m 4ms/step - binary_crossentropy: 0.0159 - logloss: 0.0159 - loss: 0.0192 - val_binary_crossentropy: 0.0158 - val_logloss: 0.0159 - val_loss: 0.0190\n",
      "Epoch 10/192\n",
      "\u001b[1m160/160\u001b[0m \u001b[32m━━━━━━━━━━━━━━━━━━━━\u001b[0m\u001b[37m\u001b[0m \u001b[1m1s\u001b[0m 4ms/step - binary_crossentropy: 0.0158 - logloss: 0.0159 - loss: 0.0191 - val_binary_crossentropy: 0.0158 - val_logloss: 0.0158 - val_loss: 0.0190\n",
      "Epoch 11/192\n",
      "\u001b[1m160/160\u001b[0m \u001b[32m━━━━━━━━━━━━━━━━━━━━\u001b[0m\u001b[37m\u001b[0m \u001b[1m1s\u001b[0m 4ms/step - binary_crossentropy: 0.0158 - logloss: 0.0159 - loss: 0.0191 - val_binary_crossentropy: 0.0158 - val_logloss: 0.0158 - val_loss: 0.0190\n",
      "Epoch 12/192\n",
      "\u001b[1m160/160\u001b[0m \u001b[32m━━━━━━━━━━━━━━━━━━━━\u001b[0m\u001b[37m\u001b[0m \u001b[1m1s\u001b[0m 4ms/step - binary_crossentropy: 0.0158 - logloss: 0.0159 - loss: 0.0191 - val_binary_crossentropy: 0.0158 - val_logloss: 0.0158 - val_loss: 0.0190\n",
      "Epoch 13/192\n",
      "\u001b[1m160/160\u001b[0m \u001b[32m━━━━━━━━━━━━━━━━━━━━\u001b[0m\u001b[37m\u001b[0m \u001b[1m1s\u001b[0m 4ms/step - binary_crossentropy: 0.0159 - logloss: 0.0159 - loss: 0.0192 - val_binary_crossentropy: 0.0158 - val_logloss: 0.0158 - val_loss: 0.0190\n",
      "Epoch 14/192\n",
      "\u001b[1m160/160\u001b[0m \u001b[32m━━━━━━━━━━━━━━━━━━━━\u001b[0m\u001b[37m\u001b[0m \u001b[1m1s\u001b[0m 4ms/step - binary_crossentropy: 0.0159 - logloss: 0.0159 - loss: 0.0192 - val_binary_crossentropy: 0.0158 - val_logloss: 0.0158 - val_loss: 0.0190\n",
      "Epoch 15/192\n",
      "\u001b[1m160/160\u001b[0m \u001b[32m━━━━━━━━━━━━━━━━━━━━\u001b[0m\u001b[37m\u001b[0m \u001b[1m1s\u001b[0m 4ms/step - binary_crossentropy: 0.0158 - logloss: 0.0158 - loss: 0.0191 - val_binary_crossentropy: 0.0158 - val_logloss: 0.0158 - val_loss: 0.0190\n",
      "Epoch 16/192\n",
      "\u001b[1m160/160\u001b[0m \u001b[32m━━━━━━━━━━━━━━━━━━━━\u001b[0m\u001b[37m\u001b[0m \u001b[1m1s\u001b[0m 4ms/step - binary_crossentropy: 0.0159 - logloss: 0.0159 - loss: 0.0192 - val_binary_crossentropy: 0.0158 - val_logloss: 0.0158 - val_loss: 0.0190\n",
      "Epoch 17/192\n",
      "\u001b[1m160/160\u001b[0m \u001b[32m━━━━━━━━━━━━━━━━━━━━\u001b[0m\u001b[37m\u001b[0m \u001b[1m1s\u001b[0m 4ms/step - binary_crossentropy: 0.0159 - logloss: 0.0159 - loss: 0.0192 - val_binary_crossentropy: 0.0158 - val_logloss: 0.0158 - val_loss: 0.0190\n",
      "Epoch 18/192\n",
      "\u001b[1m160/160\u001b[0m \u001b[32m━━━━━━━━━━━━━━━━━━━━\u001b[0m\u001b[37m\u001b[0m \u001b[1m1s\u001b[0m 4ms/step - binary_crossentropy: 0.0158 - logloss: 0.0158 - loss: 0.0191 - val_binary_crossentropy: 0.0158 - val_logloss: 0.0158 - val_loss: 0.0190\n",
      "Epoch 19/192\n",
      "\u001b[1m160/160\u001b[0m \u001b[32m━━━━━━━━━━━━━━━━━━━━\u001b[0m\u001b[37m\u001b[0m \u001b[1m1s\u001b[0m 4ms/step - binary_crossentropy: 0.0158 - logloss: 0.0159 - loss: 0.0191 - val_binary_crossentropy: 0.0158 - val_logloss: 0.0158 - val_loss: 0.0190\n",
      "Epoch 20/192\n",
      "\u001b[1m160/160\u001b[0m \u001b[32m━━━━━━━━━━━━━━━━━━━━\u001b[0m\u001b[37m\u001b[0m \u001b[1m1s\u001b[0m 4ms/step - binary_crossentropy: 0.0158 - logloss: 0.0159 - loss: 0.0191 - val_binary_crossentropy: 0.0158 - val_logloss: 0.0158 - val_loss: 0.0190\n",
      "Epoch 21/192\n",
      "\u001b[1m160/160\u001b[0m \u001b[32m━━━━━━━━━━━━━━━━━━━━\u001b[0m\u001b[37m\u001b[0m \u001b[1m1s\u001b[0m 4ms/step - binary_crossentropy: 0.0158 - logloss: 0.0158 - loss: 0.0191 - val_binary_crossentropy: 0.0158 - val_logloss: 0.0158 - val_loss: 0.0190\n",
      "Epoch 22/192\n",
      "\u001b[1m160/160\u001b[0m \u001b[32m━━━━━━━━━━━━━━━━━━━━\u001b[0m\u001b[37m\u001b[0m \u001b[1m1s\u001b[0m 4ms/step - binary_crossentropy: 0.0158 - logloss: 0.0158 - loss: 0.0191 - val_binary_crossentropy: 0.0158 - val_logloss: 0.0158 - val_loss: 0.0190\n",
      "Epoch 23/192\n",
      "\u001b[1m160/160\u001b[0m \u001b[32m━━━━━━━━━━━━━━━━━━━━\u001b[0m\u001b[37m\u001b[0m \u001b[1m1s\u001b[0m 4ms/step - binary_crossentropy: 0.0157 - logloss: 0.0158 - loss: 0.0190 - val_binary_crossentropy: 0.0158 - val_logloss: 0.0158 - val_loss: 0.0190\n",
      "Epoch 24/192\n",
      "\u001b[1m160/160\u001b[0m \u001b[32m━━━━━━━━━━━━━━━━━━━━\u001b[0m\u001b[37m\u001b[0m \u001b[1m1s\u001b[0m 4ms/step - binary_crossentropy: 0.0158 - logloss: 0.0158 - loss: 0.0191 - val_binary_crossentropy: 0.0158 - val_logloss: 0.0158 - val_loss: 0.0190\n",
      "Epoch 25/192\n",
      "\u001b[1m160/160\u001b[0m \u001b[32m━━━━━━━━━━━━━━━━━━━━\u001b[0m\u001b[37m\u001b[0m \u001b[1m1s\u001b[0m 4ms/step - binary_crossentropy: 0.0158 - logloss: 0.0158 - loss: 0.0191 - val_binary_crossentropy: 0.0158 - val_logloss: 0.0158 - val_loss: 0.0190\n",
      "Epoch 26/192\n",
      "\u001b[1m160/160\u001b[0m \u001b[32m━━━━━━━━━━━━━━━━━━━━\u001b[0m\u001b[37m\u001b[0m \u001b[1m1s\u001b[0m 5ms/step - binary_crossentropy: 0.0159 - logloss: 0.0159 - loss: 0.0192 - val_binary_crossentropy: 0.0158 - val_logloss: 0.0158 - val_loss: 0.0190\n",
      "Epoch 27/192\n",
      "\u001b[1m160/160\u001b[0m \u001b[32m━━━━━━━━━━━━━━━━━━━━\u001b[0m\u001b[37m\u001b[0m \u001b[1m1s\u001b[0m 5ms/step - binary_crossentropy: 0.0158 - logloss: 0.0158 - loss: 0.0191 - val_binary_crossentropy: 0.0158 - val_logloss: 0.0158 - val_loss: 0.0190\n",
      "Epoch 28/192\n",
      "\u001b[1m160/160\u001b[0m \u001b[32m━━━━━━━━━━━━━━━━━━━━\u001b[0m\u001b[37m\u001b[0m \u001b[1m1s\u001b[0m 5ms/step - binary_crossentropy: 0.0158 - logloss: 0.0158 - loss: 0.0191 - val_binary_crossentropy: 0.0158 - val_logloss: 0.0158 - val_loss: 0.0190\n",
      "Epoch 29/192\n",
      "\u001b[1m160/160\u001b[0m \u001b[32m━━━━━━━━━━━━━━━━━━━━\u001b[0m\u001b[37m\u001b[0m \u001b[1m1s\u001b[0m 4ms/step - binary_crossentropy: 0.0158 - logloss: 0.0158 - loss: 0.0191 - val_binary_crossentropy: 0.0158 - val_logloss: 0.0158 - val_loss: 0.0190\n",
      "Epoch 30/192\n",
      "\u001b[1m160/160\u001b[0m \u001b[32m━━━━━━━━━━━━━━━━━━━━\u001b[0m\u001b[37m\u001b[0m \u001b[1m1s\u001b[0m 4ms/step - binary_crossentropy: 0.0158 - logloss: 0.0159 - loss: 0.0191 - val_binary_crossentropy: 0.0158 - val_logloss: 0.0158 - val_loss: 0.0190\n",
      "Epoch 31/192\n",
      "\u001b[1m160/160\u001b[0m \u001b[32m━━━━━━━━━━━━━━━━━━━━\u001b[0m\u001b[37m\u001b[0m \u001b[1m1s\u001b[0m 4ms/step - binary_crossentropy: 0.0157 - logloss: 0.0158 - loss: 0.0190 - val_binary_crossentropy: 0.0158 - val_logloss: 0.0158 - val_loss: 0.0190\n",
      "Epoch 32/192\n",
      "\u001b[1m160/160\u001b[0m \u001b[32m━━━━━━━━━━━━━━━━━━━━\u001b[0m\u001b[37m\u001b[0m \u001b[1m1s\u001b[0m 4ms/step - binary_crossentropy: 0.0158 - logloss: 0.0158 - loss: 0.0191 - val_binary_crossentropy: 0.0158 - val_logloss: 0.0158 - val_loss: 0.0190\n",
      "Epoch 33/192\n",
      "\u001b[1m160/160\u001b[0m \u001b[32m━━━━━━━━━━━━━━━━━━━━\u001b[0m\u001b[37m\u001b[0m \u001b[1m1s\u001b[0m 4ms/step - binary_crossentropy: 0.0158 - logloss: 0.0158 - loss: 0.0191 - val_binary_crossentropy: 0.0158 - val_logloss: 0.0158 - val_loss: 0.0190\n",
      "Epoch 34/192\n",
      "\u001b[1m160/160\u001b[0m \u001b[32m━━━━━━━━━━━━━━━━━━━━\u001b[0m\u001b[37m\u001b[0m \u001b[1m1s\u001b[0m 4ms/step - binary_crossentropy: 0.0157 - logloss: 0.0158 - loss: 0.0190 - val_binary_crossentropy: 0.0158 - val_logloss: 0.0158 - val_loss: 0.0190\n",
      "Epoch 35/192\n",
      "\u001b[1m160/160\u001b[0m \u001b[32m━━━━━━━━━━━━━━━━━━━━\u001b[0m\u001b[37m\u001b[0m \u001b[1m1s\u001b[0m 4ms/step - binary_crossentropy: 0.0158 - logloss: 0.0159 - loss: 0.0191 - val_binary_crossentropy: 0.0158 - val_logloss: 0.0158 - val_loss: 0.0189\n",
      "Epoch 36/192\n",
      "\u001b[1m160/160\u001b[0m \u001b[32m━━━━━━━━━━━━━━━━━━━━\u001b[0m\u001b[37m\u001b[0m \u001b[1m1s\u001b[0m 4ms/step - binary_crossentropy: 0.0157 - logloss: 0.0157 - loss: 0.0190 - val_binary_crossentropy: 0.0158 - val_logloss: 0.0158 - val_loss: 0.0189\n",
      "Epoch 37/192\n",
      "\u001b[1m160/160\u001b[0m \u001b[32m━━━━━━━━━━━━━━━━━━━━\u001b[0m\u001b[37m\u001b[0m \u001b[1m1s\u001b[0m 4ms/step - binary_crossentropy: 0.0157 - logloss: 0.0158 - loss: 0.0190 - val_binary_crossentropy: 0.0158 - val_logloss: 0.0158 - val_loss: 0.0189\n",
      "Epoch 38/192\n",
      "\u001b[1m160/160\u001b[0m \u001b[32m━━━━━━━━━━━━━━━━━━━━\u001b[0m\u001b[37m\u001b[0m \u001b[1m1s\u001b[0m 4ms/step - binary_crossentropy: 0.0157 - logloss: 0.0158 - loss: 0.0190 - val_binary_crossentropy: 0.0158 - val_logloss: 0.0158 - val_loss: 0.0189\n",
      "Epoch 39/192\n",
      "\u001b[1m160/160\u001b[0m \u001b[32m━━━━━━━━━━━━━━━━━━━━\u001b[0m\u001b[37m\u001b[0m \u001b[1m1s\u001b[0m 5ms/step - binary_crossentropy: 0.0158 - logloss: 0.0158 - loss: 0.0190 - val_binary_crossentropy: 0.0158 - val_logloss: 0.0158 - val_loss: 0.0189\n",
      "Epoch 40/192\n",
      "\u001b[1m160/160\u001b[0m \u001b[32m━━━━━━━━━━━━━━━━━━━━\u001b[0m\u001b[37m\u001b[0m \u001b[1m1s\u001b[0m 4ms/step - binary_crossentropy: 0.0157 - logloss: 0.0157 - loss: 0.0190 - val_binary_crossentropy: 0.0158 - val_logloss: 0.0158 - val_loss: 0.0189\n",
      "Epoch 41/192\n",
      "\u001b[1m160/160\u001b[0m \u001b[32m━━━━━━━━━━━━━━━━━━━━\u001b[0m\u001b[37m\u001b[0m \u001b[1m1s\u001b[0m 4ms/step - binary_crossentropy: 0.0157 - logloss: 0.0158 - loss: 0.0190 - val_binary_crossentropy: 0.0158 - val_logloss: 0.0158 - val_loss: 0.0189\n",
      "Epoch 42/192\n",
      "\u001b[1m160/160\u001b[0m \u001b[32m━━━━━━━━━━━━━━━━━━━━\u001b[0m\u001b[37m\u001b[0m \u001b[1m1s\u001b[0m 4ms/step - binary_crossentropy: 0.0157 - logloss: 0.0157 - loss: 0.0190 - val_binary_crossentropy: 0.0158 - val_logloss: 0.0158 - val_loss: 0.0189\n",
      "Epoch 43/192\n",
      "\u001b[1m160/160\u001b[0m \u001b[32m━━━━━━━━━━━━━━━━━━━━\u001b[0m\u001b[37m\u001b[0m \u001b[1m1s\u001b[0m 5ms/step - binary_crossentropy: 0.0157 - logloss: 0.0158 - loss: 0.0190 - val_binary_crossentropy: 0.0158 - val_logloss: 0.0158 - val_loss: 0.0189\n",
      "Epoch 44/192\n",
      "\u001b[1m160/160\u001b[0m \u001b[32m━━━━━━━━━━━━━━━━━━━━\u001b[0m\u001b[37m\u001b[0m \u001b[1m1s\u001b[0m 5ms/step - binary_crossentropy: 0.0157 - logloss: 0.0157 - loss: 0.0190 - val_binary_crossentropy: 0.0158 - val_logloss: 0.0158 - val_loss: 0.0189\n",
      "Epoch 45/192\n",
      "\u001b[1m160/160\u001b[0m \u001b[32m━━━━━━━━━━━━━━━━━━━━\u001b[0m\u001b[37m\u001b[0m \u001b[1m1s\u001b[0m 5ms/step - binary_crossentropy: 0.0158 - logloss: 0.0158 - loss: 0.0191 - val_binary_crossentropy: 0.0158 - val_logloss: 0.0158 - val_loss: 0.0189\n",
      "Epoch 46/192\n",
      "\u001b[1m160/160\u001b[0m \u001b[32m━━━━━━━━━━━━━━━━━━━━\u001b[0m\u001b[37m\u001b[0m \u001b[1m1s\u001b[0m 4ms/step - binary_crossentropy: 0.0158 - logloss: 0.0158 - loss: 0.0191 - val_binary_crossentropy: 0.0158 - val_logloss: 0.0158 - val_loss: 0.0189\n",
      "Epoch 47/192\n",
      "\u001b[1m160/160\u001b[0m \u001b[32m━━━━━━━━━━━━━━━━━━━━\u001b[0m\u001b[37m\u001b[0m \u001b[1m1s\u001b[0m 4ms/step - binary_crossentropy: 0.0157 - logloss: 0.0157 - loss: 0.0190 - val_binary_crossentropy: 0.0158 - val_logloss: 0.0158 - val_loss: 0.0189\n",
      "Epoch 48/192\n",
      "\u001b[1m160/160\u001b[0m \u001b[32m━━━━━━━━━━━━━━━━━━━━\u001b[0m\u001b[37m\u001b[0m \u001b[1m1s\u001b[0m 4ms/step - binary_crossentropy: 0.0157 - logloss: 0.0157 - loss: 0.0190 - val_binary_crossentropy: 0.0158 - val_logloss: 0.0158 - val_loss: 0.0189\n",
      "Epoch 49/192\n",
      "\u001b[1m160/160\u001b[0m \u001b[32m━━━━━━━━━━━━━━━━━━━━\u001b[0m\u001b[37m\u001b[0m \u001b[1m1s\u001b[0m 4ms/step - binary_crossentropy: 0.0157 - logloss: 0.0158 - loss: 0.0190 - val_binary_crossentropy: 0.0158 - val_logloss: 0.0158 - val_loss: 0.0189\n",
      "Epoch 50/192\n",
      "\u001b[1m160/160\u001b[0m \u001b[32m━━━━━━━━━━━━━━━━━━━━\u001b[0m\u001b[37m\u001b[0m \u001b[1m1s\u001b[0m 4ms/step - binary_crossentropy: 0.0157 - logloss: 0.0157 - loss: 0.0190 - val_binary_crossentropy: 0.0157 - val_logloss: 0.0158 - val_loss: 0.0189\n",
      "Epoch 51/192\n",
      "\u001b[1m160/160\u001b[0m \u001b[32m━━━━━━━━━━━━━━━━━━━━\u001b[0m\u001b[37m\u001b[0m \u001b[1m1s\u001b[0m 4ms/step - binary_crossentropy: 0.0157 - logloss: 0.0157 - loss: 0.0190 - val_binary_crossentropy: 0.0157 - val_logloss: 0.0158 - val_loss: 0.0189\n",
      "Epoch 52/192\n",
      "\u001b[1m160/160\u001b[0m \u001b[32m━━━━━━━━━━━━━━━━━━━━\u001b[0m\u001b[37m\u001b[0m \u001b[1m1s\u001b[0m 4ms/step - binary_crossentropy: 0.0157 - logloss: 0.0157 - loss: 0.0189 - val_binary_crossentropy: 0.0157 - val_logloss: 0.0158 - val_loss: 0.0189\n",
      "Epoch 53/192\n",
      "\u001b[1m160/160\u001b[0m \u001b[32m━━━━━━━━━━━━━━━━━━━━\u001b[0m\u001b[37m\u001b[0m \u001b[1m1s\u001b[0m 5ms/step - binary_crossentropy: 0.0157 - logloss: 0.0158 - loss: 0.0190 - val_binary_crossentropy: 0.0158 - val_logloss: 0.0158 - val_loss: 0.0189\n",
      "Epoch 54/192\n",
      "\u001b[1m160/160\u001b[0m \u001b[32m━━━━━━━━━━━━━━━━━━━━\u001b[0m\u001b[37m\u001b[0m \u001b[1m1s\u001b[0m 4ms/step - binary_crossentropy: 0.0158 - logloss: 0.0158 - loss: 0.0191 - val_binary_crossentropy: 0.0157 - val_logloss: 0.0158 - val_loss: 0.0189\n",
      "Epoch 55/192\n",
      "\u001b[1m160/160\u001b[0m \u001b[32m━━━━━━━━━━━━━━━━━━━━\u001b[0m\u001b[37m\u001b[0m \u001b[1m1s\u001b[0m 4ms/step - binary_crossentropy: 0.0157 - logloss: 0.0157 - loss: 0.0190 - val_binary_crossentropy: 0.0157 - val_logloss: 0.0158 - val_loss: 0.0189\n",
      "Epoch 56/192\n",
      "\u001b[1m160/160\u001b[0m \u001b[32m━━━━━━━━━━━━━━━━━━━━\u001b[0m\u001b[37m\u001b[0m \u001b[1m1s\u001b[0m 4ms/step - binary_crossentropy: 0.0158 - logloss: 0.0159 - loss: 0.0191 - val_binary_crossentropy: 0.0157 - val_logloss: 0.0157 - val_loss: 0.0189\n",
      "Epoch 57/192\n",
      "\u001b[1m160/160\u001b[0m \u001b[32m━━━━━━━━━━━━━━━━━━━━\u001b[0m\u001b[37m\u001b[0m \u001b[1m1s\u001b[0m 4ms/step - binary_crossentropy: 0.0157 - logloss: 0.0157 - loss: 0.0190 - val_binary_crossentropy: 0.0157 - val_logloss: 0.0157 - val_loss: 0.0189\n",
      "Epoch 58/192\n",
      "\u001b[1m160/160\u001b[0m \u001b[32m━━━━━━━━━━━━━━━━━━━━\u001b[0m\u001b[37m\u001b[0m \u001b[1m1s\u001b[0m 4ms/step - binary_crossentropy: 0.0157 - logloss: 0.0157 - loss: 0.0190 - val_binary_crossentropy: 0.0157 - val_logloss: 0.0157 - val_loss: 0.0189\n",
      "Epoch 59/192\n",
      "\u001b[1m160/160\u001b[0m \u001b[32m━━━━━━━━━━━━━━━━━━━━\u001b[0m\u001b[37m\u001b[0m \u001b[1m1s\u001b[0m 4ms/step - binary_crossentropy: 0.0158 - logloss: 0.0158 - loss: 0.0190 - val_binary_crossentropy: 0.0157 - val_logloss: 0.0158 - val_loss: 0.0189\n",
      "Epoch 60/192\n",
      "\u001b[1m160/160\u001b[0m \u001b[32m━━━━━━━━━━━━━━━━━━━━\u001b[0m\u001b[37m\u001b[0m \u001b[1m1s\u001b[0m 4ms/step - binary_crossentropy: 0.0157 - logloss: 0.0158 - loss: 0.0190 - val_binary_crossentropy: 0.0157 - val_logloss: 0.0157 - val_loss: 0.0189\n",
      "Epoch 61/192\n",
      "\u001b[1m160/160\u001b[0m \u001b[32m━━━━━━━━━━━━━━━━━━━━\u001b[0m\u001b[37m\u001b[0m \u001b[1m1s\u001b[0m 4ms/step - binary_crossentropy: 0.0157 - logloss: 0.0157 - loss: 0.0190 - val_binary_crossentropy: 0.0157 - val_logloss: 0.0157 - val_loss: 0.0189\n",
      "Epoch 62/192\n",
      "\u001b[1m160/160\u001b[0m \u001b[32m━━━━━━━━━━━━━━━━━━━━\u001b[0m\u001b[37m\u001b[0m \u001b[1m1s\u001b[0m 4ms/step - binary_crossentropy: 0.0157 - logloss: 0.0157 - loss: 0.0190 - val_binary_crossentropy: 0.0157 - val_logloss: 0.0157 - val_loss: 0.0189\n",
      "Epoch 63/192\n",
      "\u001b[1m160/160\u001b[0m \u001b[32m━━━━━━━━━━━━━━━━━━━━\u001b[0m\u001b[37m\u001b[0m \u001b[1m1s\u001b[0m 4ms/step - binary_crossentropy: 0.0156 - logloss: 0.0157 - loss: 0.0189 - val_binary_crossentropy: 0.0157 - val_logloss: 0.0157 - val_loss: 0.0189\n",
      "Epoch 64/192\n",
      "\u001b[1m160/160\u001b[0m \u001b[32m━━━━━━━━━━━━━━━━━━━━\u001b[0m\u001b[37m\u001b[0m \u001b[1m1s\u001b[0m 4ms/step - binary_crossentropy: 0.0157 - logloss: 0.0158 - loss: 0.0190 - val_binary_crossentropy: 0.0157 - val_logloss: 0.0157 - val_loss: 0.0189\n",
      "Epoch 65/192\n",
      "\u001b[1m160/160\u001b[0m \u001b[32m━━━━━━━━━━━━━━━━━━━━\u001b[0m\u001b[37m\u001b[0m \u001b[1m1s\u001b[0m 4ms/step - binary_crossentropy: 0.0157 - logloss: 0.0158 - loss: 0.0190 - val_binary_crossentropy: 0.0157 - val_logloss: 0.0157 - val_loss: 0.0189\n",
      "Epoch 66/192\n",
      "\u001b[1m160/160\u001b[0m \u001b[32m━━━━━━━━━━━━━━━━━━━━\u001b[0m\u001b[37m\u001b[0m \u001b[1m1s\u001b[0m 4ms/step - binary_crossentropy: 0.0157 - logloss: 0.0157 - loss: 0.0189 - val_binary_crossentropy: 0.0157 - val_logloss: 0.0157 - val_loss: 0.0189\n",
      "Epoch 67/192\n",
      "\u001b[1m160/160\u001b[0m \u001b[32m━━━━━━━━━━━━━━━━━━━━\u001b[0m\u001b[37m\u001b[0m \u001b[1m1s\u001b[0m 4ms/step - binary_crossentropy: 0.0157 - logloss: 0.0157 - loss: 0.0189 - val_binary_crossentropy: 0.0157 - val_logloss: 0.0157 - val_loss: 0.0189\n",
      "Epoch 68/192\n",
      "\u001b[1m160/160\u001b[0m \u001b[32m━━━━━━━━━━━━━━━━━━━━\u001b[0m\u001b[37m\u001b[0m \u001b[1m1s\u001b[0m 4ms/step - binary_crossentropy: 0.0157 - logloss: 0.0158 - loss: 0.0190 - val_binary_crossentropy: 0.0157 - val_logloss: 0.0157 - val_loss: 0.0189\n",
      "Epoch 69/192\n",
      "\u001b[1m160/160\u001b[0m \u001b[32m━━━━━━━━━━━━━━━━━━━━\u001b[0m\u001b[37m\u001b[0m \u001b[1m1s\u001b[0m 5ms/step - binary_crossentropy: 0.0157 - logloss: 0.0157 - loss: 0.0190 - val_binary_crossentropy: 0.0157 - val_logloss: 0.0157 - val_loss: 0.0189\n",
      "Epoch 70/192\n",
      "\u001b[1m160/160\u001b[0m \u001b[32m━━━━━━━━━━━━━━━━━━━━\u001b[0m\u001b[37m\u001b[0m \u001b[1m1s\u001b[0m 5ms/step - binary_crossentropy: 0.0157 - logloss: 0.0157 - loss: 0.0189 - val_binary_crossentropy: 0.0157 - val_logloss: 0.0157 - val_loss: 0.0189\n",
      "Epoch 71/192\n",
      "\u001b[1m160/160\u001b[0m \u001b[32m━━━━━━━━━━━━━━━━━━━━\u001b[0m\u001b[37m\u001b[0m \u001b[1m1s\u001b[0m 5ms/step - binary_crossentropy: 0.0156 - logloss: 0.0157 - loss: 0.0189 - val_binary_crossentropy: 0.0157 - val_logloss: 0.0157 - val_loss: 0.0189\n",
      "Epoch 72/192\n",
      "\u001b[1m160/160\u001b[0m \u001b[32m━━━━━━━━━━━━━━━━━━━━\u001b[0m\u001b[37m\u001b[0m \u001b[1m1s\u001b[0m 5ms/step - binary_crossentropy: 0.0157 - logloss: 0.0157 - loss: 0.0190 - val_binary_crossentropy: 0.0157 - val_logloss: 0.0157 - val_loss: 0.0189\n",
      "Epoch 73/192\n",
      "\u001b[1m160/160\u001b[0m \u001b[32m━━━━━━━━━━━━━━━━━━━━\u001b[0m\u001b[37m\u001b[0m \u001b[1m1s\u001b[0m 5ms/step - binary_crossentropy: 0.0156 - logloss: 0.0157 - loss: 0.0189 - val_binary_crossentropy: 0.0157 - val_logloss: 0.0157 - val_loss: 0.0189\n",
      "Epoch 74/192\n",
      "\u001b[1m160/160\u001b[0m \u001b[32m━━━━━━━━━━━━━━━━━━━━\u001b[0m\u001b[37m\u001b[0m \u001b[1m1s\u001b[0m 5ms/step - binary_crossentropy: 0.0157 - logloss: 0.0157 - loss: 0.0190 - val_binary_crossentropy: 0.0157 - val_logloss: 0.0157 - val_loss: 0.0189\n",
      "Epoch 75/192\n",
      "\u001b[1m160/160\u001b[0m \u001b[32m━━━━━━━━━━━━━━━━━━━━\u001b[0m\u001b[37m\u001b[0m \u001b[1m1s\u001b[0m 4ms/step - binary_crossentropy: 0.0157 - logloss: 0.0157 - loss: 0.0190 - val_binary_crossentropy: 0.0157 - val_logloss: 0.0157 - val_loss: 0.0189\n",
      "Epoch 76/192\n",
      "\u001b[1m160/160\u001b[0m \u001b[32m━━━━━━━━━━━━━━━━━━━━\u001b[0m\u001b[37m\u001b[0m \u001b[1m1s\u001b[0m 4ms/step - binary_crossentropy: 0.0157 - logloss: 0.0157 - loss: 0.0190 - val_binary_crossentropy: 0.0157 - val_logloss: 0.0157 - val_loss: 0.0189\n",
      "Epoch 77/192\n",
      "\u001b[1m160/160\u001b[0m \u001b[32m━━━━━━━━━━━━━━━━━━━━\u001b[0m\u001b[37m\u001b[0m \u001b[1m1s\u001b[0m 4ms/step - binary_crossentropy: 0.0157 - logloss: 0.0157 - loss: 0.0190 - val_binary_crossentropy: 0.0157 - val_logloss: 0.0157 - val_loss: 0.0189\n",
      "Epoch 78/192\n",
      "\u001b[1m160/160\u001b[0m \u001b[32m━━━━━━━━━━━━━━━━━━━━\u001b[0m\u001b[37m\u001b[0m \u001b[1m1s\u001b[0m 5ms/step - binary_crossentropy: 0.0157 - logloss: 0.0157 - loss: 0.0190 - val_binary_crossentropy: 0.0157 - val_logloss: 0.0157 - val_loss: 0.0189\n",
      "Epoch 79/192\n",
      "\u001b[1m160/160\u001b[0m \u001b[32m━━━━━━━━━━━━━━━━━━━━\u001b[0m\u001b[37m\u001b[0m \u001b[1m1s\u001b[0m 5ms/step - binary_crossentropy: 0.0156 - logloss: 0.0156 - loss: 0.0189 - val_binary_crossentropy: 0.0157 - val_logloss: 0.0157 - val_loss: 0.0189\n",
      "Epoch 80/192\n",
      "\u001b[1m160/160\u001b[0m \u001b[32m━━━━━━━━━━━━━━━━━━━━\u001b[0m\u001b[37m\u001b[0m \u001b[1m1s\u001b[0m 5ms/step - binary_crossentropy: 0.0157 - logloss: 0.0157 - loss: 0.0190 - val_binary_crossentropy: 0.0157 - val_logloss: 0.0157 - val_loss: 0.0189\n",
      "Epoch 81/192\n",
      "\u001b[1m160/160\u001b[0m \u001b[32m━━━━━━━━━━━━━━━━━━━━\u001b[0m\u001b[37m\u001b[0m \u001b[1m1s\u001b[0m 5ms/step - binary_crossentropy: 0.0157 - logloss: 0.0158 - loss: 0.0190 - val_binary_crossentropy: 0.0157 - val_logloss: 0.0157 - val_loss: 0.0189\n",
      "Epoch 82/192\n",
      "\u001b[1m160/160\u001b[0m \u001b[32m━━━━━━━━━━━━━━━━━━━━\u001b[0m\u001b[37m\u001b[0m \u001b[1m1s\u001b[0m 4ms/step - binary_crossentropy: 0.0157 - logloss: 0.0157 - loss: 0.0190 - val_binary_crossentropy: 0.0157 - val_logloss: 0.0157 - val_loss: 0.0189\n",
      "Epoch 83/192\n",
      "\u001b[1m160/160\u001b[0m \u001b[32m━━━━━━━━━━━━━━━━━━━━\u001b[0m\u001b[37m\u001b[0m \u001b[1m1s\u001b[0m 4ms/step - binary_crossentropy: 0.0157 - logloss: 0.0157 - loss: 0.0190 - val_binary_crossentropy: 0.0157 - val_logloss: 0.0157 - val_loss: 0.0189\n",
      "Epoch 84/192\n",
      "\u001b[1m160/160\u001b[0m \u001b[32m━━━━━━━━━━━━━━━━━━━━\u001b[0m\u001b[37m\u001b[0m \u001b[1m1s\u001b[0m 4ms/step - binary_crossentropy: 0.0156 - logloss: 0.0157 - loss: 0.0189 - val_binary_crossentropy: 0.0157 - val_logloss: 0.0157 - val_loss: 0.0189\n",
      "Epoch 85/192\n",
      "\u001b[1m160/160\u001b[0m \u001b[32m━━━━━━━━━━━━━━━━━━━━\u001b[0m\u001b[37m\u001b[0m \u001b[1m1s\u001b[0m 5ms/step - binary_crossentropy: 0.0156 - logloss: 0.0157 - loss: 0.0189 - val_binary_crossentropy: 0.0157 - val_logloss: 0.0157 - val_loss: 0.0189\n",
      "Epoch 86/192\n",
      "\u001b[1m160/160\u001b[0m \u001b[32m━━━━━━━━━━━━━━━━━━━━\u001b[0m\u001b[37m\u001b[0m \u001b[1m1s\u001b[0m 5ms/step - binary_crossentropy: 0.0156 - logloss: 0.0157 - loss: 0.0189 - val_binary_crossentropy: 0.0157 - val_logloss: 0.0157 - val_loss: 0.0189\n",
      "Epoch 87/192\n",
      "\u001b[1m160/160\u001b[0m \u001b[32m━━━━━━━━━━━━━━━━━━━━\u001b[0m\u001b[37m\u001b[0m \u001b[1m1s\u001b[0m 5ms/step - binary_crossentropy: 0.0157 - logloss: 0.0157 - loss: 0.0190 - val_binary_crossentropy: 0.0157 - val_logloss: 0.0157 - val_loss: 0.0189\n",
      "Epoch 88/192\n",
      "\u001b[1m160/160\u001b[0m \u001b[32m━━━━━━━━━━━━━━━━━━━━\u001b[0m\u001b[37m\u001b[0m \u001b[1m1s\u001b[0m 4ms/step - binary_crossentropy: 0.0156 - logloss: 0.0157 - loss: 0.0189 - val_binary_crossentropy: 0.0157 - val_logloss: 0.0157 - val_loss: 0.0189\n",
      "Epoch 89/192\n",
      "\u001b[1m160/160\u001b[0m \u001b[32m━━━━━━━━━━━━━━━━━━━━\u001b[0m\u001b[37m\u001b[0m \u001b[1m1s\u001b[0m 4ms/step - binary_crossentropy: 0.0157 - logloss: 0.0157 - loss: 0.0190 - val_binary_crossentropy: 0.0157 - val_logloss: 0.0157 - val_loss: 0.0189\n",
      "Epoch 90/192\n",
      "\u001b[1m160/160\u001b[0m \u001b[32m━━━━━━━━━━━━━━━━━━━━\u001b[0m\u001b[37m\u001b[0m \u001b[1m1s\u001b[0m 4ms/step - binary_crossentropy: 0.0157 - logloss: 0.0157 - loss: 0.0190 - val_binary_crossentropy: 0.0157 - val_logloss: 0.0157 - val_loss: 0.0189\n",
      "Epoch 91/192\n",
      "\u001b[1m160/160\u001b[0m \u001b[32m━━━━━━━━━━━━━━━━━━━━\u001b[0m\u001b[37m\u001b[0m \u001b[1m1s\u001b[0m 4ms/step - binary_crossentropy: 0.0156 - logloss: 0.0157 - loss: 0.0189 - val_binary_crossentropy: 0.0157 - val_logloss: 0.0157 - val_loss: 0.0189\n",
      "Epoch 92/192\n",
      "\u001b[1m160/160\u001b[0m \u001b[32m━━━━━━━━━━━━━━━━━━━━\u001b[0m\u001b[37m\u001b[0m \u001b[1m1s\u001b[0m 4ms/step - binary_crossentropy: 0.0157 - logloss: 0.0157 - loss: 0.0190 - val_binary_crossentropy: 0.0157 - val_logloss: 0.0157 - val_loss: 0.0189\n",
      "Epoch 93/192\n",
      "\u001b[1m160/160\u001b[0m \u001b[32m━━━━━━━━━━━━━━━━━━━━\u001b[0m\u001b[37m\u001b[0m \u001b[1m1s\u001b[0m 4ms/step - binary_crossentropy: 0.0157 - logloss: 0.0157 - loss: 0.0190 - val_binary_crossentropy: 0.0157 - val_logloss: 0.0157 - val_loss: 0.0189\n",
      "Epoch 94/192\n",
      "\u001b[1m160/160\u001b[0m \u001b[32m━━━━━━━━━━━━━━━━━━━━\u001b[0m\u001b[37m\u001b[0m \u001b[1m1s\u001b[0m 4ms/step - binary_crossentropy: 0.0157 - logloss: 0.0157 - loss: 0.0190 - val_binary_crossentropy: 0.0157 - val_logloss: 0.0157 - val_loss: 0.0189\n",
      "Epoch 95/192\n",
      "\u001b[1m160/160\u001b[0m \u001b[32m━━━━━━━━━━━━━━━━━━━━\u001b[0m\u001b[37m\u001b[0m \u001b[1m1s\u001b[0m 4ms/step - binary_crossentropy: 0.0156 - logloss: 0.0157 - loss: 0.0189 - val_binary_crossentropy: 0.0157 - val_logloss: 0.0157 - val_loss: 0.0189\n",
      "Epoch 96/192\n",
      "\u001b[1m160/160\u001b[0m \u001b[32m━━━━━━━━━━━━━━━━━━━━\u001b[0m\u001b[37m\u001b[0m \u001b[1m1s\u001b[0m 4ms/step - binary_crossentropy: 0.0156 - logloss: 0.0157 - loss: 0.0189 - val_binary_crossentropy: 0.0157 - val_logloss: 0.0157 - val_loss: 0.0189\n",
      "Epoch 97/192\n",
      "\u001b[1m160/160\u001b[0m \u001b[32m━━━━━━━━━━━━━━━━━━━━\u001b[0m\u001b[37m\u001b[0m \u001b[1m1s\u001b[0m 4ms/step - binary_crossentropy: 0.0156 - logloss: 0.0157 - loss: 0.0189 - val_binary_crossentropy: 0.0157 - val_logloss: 0.0157 - val_loss: 0.0189\n",
      "Epoch 98/192\n",
      "\u001b[1m160/160\u001b[0m \u001b[32m━━━━━━━━━━━━━━━━━━━━\u001b[0m\u001b[37m\u001b[0m \u001b[1m1s\u001b[0m 4ms/step - binary_crossentropy: 0.0156 - logloss: 0.0157 - loss: 0.0189 - val_binary_crossentropy: 0.0157 - val_logloss: 0.0157 - val_loss: 0.0189\n",
      "Epoch 99/192\n",
      "\u001b[1m160/160\u001b[0m \u001b[32m━━━━━━━━━━━━━━━━━━━━\u001b[0m\u001b[37m\u001b[0m \u001b[1m1s\u001b[0m 4ms/step - binary_crossentropy: 0.0157 - logloss: 0.0157 - loss: 0.0190 - val_binary_crossentropy: 0.0157 - val_logloss: 0.0157 - val_loss: 0.0189\n",
      "Epoch 100/192\n",
      "\u001b[1m160/160\u001b[0m \u001b[32m━━━━━━━━━━━━━━━━━━━━\u001b[0m\u001b[37m\u001b[0m \u001b[1m1s\u001b[0m 4ms/step - binary_crossentropy: 0.0156 - logloss: 0.0157 - loss: 0.0189 - val_binary_crossentropy: 0.0157 - val_logloss: 0.0157 - val_loss: 0.0189\n",
      "Epoch 101/192\n",
      "\u001b[1m160/160\u001b[0m \u001b[32m━━━━━━━━━━━━━━━━━━━━\u001b[0m\u001b[37m\u001b[0m \u001b[1m1s\u001b[0m 4ms/step - binary_crossentropy: 0.0156 - logloss: 0.0157 - loss: 0.0189 - val_binary_crossentropy: 0.0157 - val_logloss: 0.0157 - val_loss: 0.0189\n",
      "Epoch 102/192\n",
      "\u001b[1m160/160\u001b[0m \u001b[32m━━━━━━━━━━━━━━━━━━━━\u001b[0m\u001b[37m\u001b[0m \u001b[1m1s\u001b[0m 4ms/step - binary_crossentropy: 0.0156 - logloss: 0.0157 - loss: 0.0189 - val_binary_crossentropy: 0.0157 - val_logloss: 0.0157 - val_loss: 0.0189\n",
      "Epoch 103/192\n",
      "\u001b[1m160/160\u001b[0m \u001b[32m━━━━━━━━━━━━━━━━━━━━\u001b[0m\u001b[37m\u001b[0m \u001b[1m1s\u001b[0m 4ms/step - binary_crossentropy: 0.0156 - logloss: 0.0157 - loss: 0.0189 - val_binary_crossentropy: 0.0157 - val_logloss: 0.0157 - val_loss: 0.0189\n",
      "Epoch 104/192\n",
      "\u001b[1m160/160\u001b[0m \u001b[32m━━━━━━━━━━━━━━━━━━━━\u001b[0m\u001b[37m\u001b[0m \u001b[1m1s\u001b[0m 4ms/step - binary_crossentropy: 0.0156 - logloss: 0.0157 - loss: 0.0189 - val_binary_crossentropy: 0.0157 - val_logloss: 0.0157 - val_loss: 0.0189\n",
      "Epoch 105/192\n",
      "\u001b[1m160/160\u001b[0m \u001b[32m━━━━━━━━━━━━━━━━━━━━\u001b[0m\u001b[37m\u001b[0m \u001b[1m1s\u001b[0m 4ms/step - binary_crossentropy: 0.0156 - logloss: 0.0156 - loss: 0.0189 - val_binary_crossentropy: 0.0157 - val_logloss: 0.0157 - val_loss: 0.0189\n",
      "Epoch 106/192\n",
      "\u001b[1m160/160\u001b[0m \u001b[32m━━━━━━━━━━━━━━━━━━━━\u001b[0m\u001b[37m\u001b[0m \u001b[1m1s\u001b[0m 4ms/step - binary_crossentropy: 0.0156 - logloss: 0.0157 - loss: 0.0189 - val_binary_crossentropy: 0.0157 - val_logloss: 0.0157 - val_loss: 0.0189\n",
      "Epoch 107/192\n",
      "\u001b[1m160/160\u001b[0m \u001b[32m━━━━━━━━━━━━━━━━━━━━\u001b[0m\u001b[37m\u001b[0m \u001b[1m1s\u001b[0m 4ms/step - binary_crossentropy: 0.0157 - logloss: 0.0157 - loss: 0.0190 - val_binary_crossentropy: 0.0157 - val_logloss: 0.0157 - val_loss: 0.0189\n",
      "Epoch 108/192\n",
      "\u001b[1m160/160\u001b[0m \u001b[32m━━━━━━━━━━━━━━━━━━━━\u001b[0m\u001b[37m\u001b[0m \u001b[1m1s\u001b[0m 4ms/step - binary_crossentropy: 0.0157 - logloss: 0.0157 - loss: 0.0190 - val_binary_crossentropy: 0.0157 - val_logloss: 0.0157 - val_loss: 0.0189\n",
      "Epoch 109/192\n",
      "\u001b[1m160/160\u001b[0m \u001b[32m━━━━━━━━━━━━━━━━━━━━\u001b[0m\u001b[37m\u001b[0m \u001b[1m1s\u001b[0m 4ms/step - binary_crossentropy: 0.0156 - logloss: 0.0157 - loss: 0.0189 - val_binary_crossentropy: 0.0157 - val_logloss: 0.0157 - val_loss: 0.0189\n",
      "\u001b[1m103/107\u001b[0m \u001b[32m━━━━━━━━━━━━━━━━━━━\u001b[0m\u001b[37m━\u001b[0m \u001b[1m0s\u001b[0m 1ms/step"
     ]
    },
    {
     "name": "stderr",
     "output_type": "stream",
     "text": [
      "W0000 00:00:1716235056.375793      72 graph_launch.cc:671] Fallback to op-by-op mode because memset node breaks graph update\n"
     ]
    },
    {
     "name": "stdout",
     "output_type": "stream",
     "text": [
      "\u001b[1m107/107\u001b[0m \u001b[32m━━━━━━━━━━━━━━━━━━━━\u001b[0m\u001b[37m\u001b[0m \u001b[1m1s\u001b[0m 4ms/step\n",
      "\u001b[1m125/125\u001b[0m \u001b[32m━━━━━━━━━━━━━━━━━━━━\u001b[0m\u001b[37m\u001b[0m \u001b[1m0s\u001b[0m 3ms/step\n",
      "Epoch 1/192\n",
      "\u001b[1m 34/160\u001b[0m \u001b[32m━━━━\u001b[0m\u001b[37m━━━━━━━━━━━━━━━━\u001b[0m \u001b[1m0s\u001b[0m 5ms/step - binary_crossentropy: 0.0260 - logloss: 0.0259 - loss: 0.0292"
     ]
    },
    {
     "name": "stderr",
     "output_type": "stream",
     "text": [
      "W0000 00:00:1716235068.391213      72 graph_launch.cc:671] Fallback to op-by-op mode because memset node breaks graph update\n"
     ]
    },
    {
     "name": "stdout",
     "output_type": "stream",
     "text": [
      "\u001b[1m160/160\u001b[0m \u001b[32m━━━━━━━━━━━━━━━━━━━━\u001b[0m\u001b[37m\u001b[0m \u001b[1m0s\u001b[0m 51ms/step - binary_crossentropy: 0.0238 - logloss: 0.0237 - loss: 0.0270"
     ]
    },
    {
     "name": "stderr",
     "output_type": "stream",
     "text": [
      "W0000 00:00:1716235076.437126      70 graph_launch.cc:671] Fallback to op-by-op mode because memset node breaks graph update\n",
      "W0000 00:00:1716235077.120214      72 graph_launch.cc:671] Fallback to op-by-op mode because memset node breaks graph update\n"
     ]
    },
    {
     "name": "stdout",
     "output_type": "stream",
     "text": [
      "\u001b[1m160/160\u001b[0m \u001b[32m━━━━━━━━━━━━━━━━━━━━\u001b[0m\u001b[37m\u001b[0m \u001b[1m20s\u001b[0m 57ms/step - binary_crossentropy: 0.0238 - logloss: 0.0237 - loss: 0.0269 - val_binary_crossentropy: 0.0182 - val_logloss: 0.0182 - val_loss: 0.0214 - learning_rate: 3.2250e-04\n",
      "Epoch 2/192\n",
      "\u001b[1m 21/160\u001b[0m \u001b[32m━━\u001b[0m\u001b[37m━━━━━━━━━━━━━━━━━━\u001b[0m \u001b[1m0s\u001b[0m 5ms/step - binary_crossentropy: 0.0200 - logloss: 0.0199 - loss: 0.0231"
     ]
    },
    {
     "name": "stderr",
     "output_type": "stream",
     "text": [
      "W0000 00:00:1716235077.519622      71 graph_launch.cc:671] Fallback to op-by-op mode because memset node breaks graph update\n"
     ]
    },
    {
     "name": "stdout",
     "output_type": "stream",
     "text": [
      "\u001b[1m160/160\u001b[0m \u001b[32m━━━━━━━━━━━━━━━━━━━━\u001b[0m\u001b[37m\u001b[0m \u001b[1m1s\u001b[0m 5ms/step - binary_crossentropy: 0.0195 - logloss: 0.0194 - loss: 0.0227 - val_binary_crossentropy: 0.0178 - val_logloss: 0.0178 - val_loss: 0.0208 - learning_rate: 6.3500e-04\n",
      "Epoch 3/192\n",
      "\u001b[1m160/160\u001b[0m \u001b[32m━━━━━━━━━━━━━━━━━━━━\u001b[0m\u001b[37m\u001b[0m \u001b[1m1s\u001b[0m 4ms/step - binary_crossentropy: 0.0181 - logloss: 0.0181 - loss: 0.0213 - val_binary_crossentropy: 0.0172 - val_logloss: 0.0172 - val_loss: 0.0203 - learning_rate: 9.4750e-04\n",
      "Epoch 4/192\n",
      "\u001b[1m160/160\u001b[0m \u001b[32m━━━━━━━━━━━━━━━━━━━━\u001b[0m\u001b[37m\u001b[0m \u001b[1m1s\u001b[0m 4ms/step - binary_crossentropy: 0.0176 - logloss: 0.0176 - loss: 0.0209 - val_binary_crossentropy: 0.0169 - val_logloss: 0.0169 - val_loss: 0.0201 - learning_rate: 0.0013\n",
      "Epoch 5/192\n",
      "\u001b[1m160/160\u001b[0m \u001b[32m━━━━━━━━━━━━━━━━━━━━\u001b[0m\u001b[37m\u001b[0m \u001b[1m1s\u001b[0m 4ms/step - binary_crossentropy: 0.0174 - logloss: 0.0174 - loss: 0.0207 - val_binary_crossentropy: 0.0167 - val_logloss: 0.0167 - val_loss: 0.0200 - learning_rate: 0.0016\n",
      "Epoch 6/192\n",
      "\u001b[1m160/160\u001b[0m \u001b[32m━━━━━━━━━━━━━━━━━━━━\u001b[0m\u001b[37m\u001b[0m \u001b[1m1s\u001b[0m 4ms/step - binary_crossentropy: 0.0171 - logloss: 0.0171 - loss: 0.0204 - val_binary_crossentropy: 0.0167 - val_logloss: 0.0167 - val_loss: 0.0200 - learning_rate: 0.0019\n",
      "Epoch 7/192\n",
      "\u001b[1m160/160\u001b[0m \u001b[32m━━━━━━━━━━━━━━━━━━━━\u001b[0m\u001b[37m\u001b[0m \u001b[1m1s\u001b[0m 4ms/step - binary_crossentropy: 0.0171 - logloss: 0.0171 - loss: 0.0205 - val_binary_crossentropy: 0.0167 - val_logloss: 0.0167 - val_loss: 0.0199 - learning_rate: 0.0022\n",
      "Epoch 8/192\n",
      "\u001b[1m160/160\u001b[0m \u001b[32m━━━━━━━━━━━━━━━━━━━━\u001b[0m\u001b[37m\u001b[0m \u001b[1m1s\u001b[0m 4ms/step - binary_crossentropy: 0.0170 - logloss: 0.0169 - loss: 0.0203 - val_binary_crossentropy: 0.0169 - val_logloss: 0.0169 - val_loss: 0.0201 - learning_rate: 0.0025\n",
      "Epoch 9/192\n",
      "\u001b[1m160/160\u001b[0m \u001b[32m━━━━━━━━━━━━━━━━━━━━\u001b[0m\u001b[37m\u001b[0m \u001b[1m1s\u001b[0m 4ms/step - binary_crossentropy: 0.0170 - logloss: 0.0170 - loss: 0.0204 - val_binary_crossentropy: 0.0166 - val_logloss: 0.0166 - val_loss: 0.0199 - learning_rate: 0.0028\n",
      "Epoch 10/192\n",
      "\u001b[1m160/160\u001b[0m \u001b[32m━━━━━━━━━━━━━━━━━━━━\u001b[0m\u001b[37m\u001b[0m \u001b[1m1s\u001b[0m 4ms/step - binary_crossentropy: 0.0168 - logloss: 0.0168 - loss: 0.0202 - val_binary_crossentropy: 0.0165 - val_logloss: 0.0165 - val_loss: 0.0197 - learning_rate: 0.0025\n",
      "Epoch 11/192\n",
      "\u001b[1m160/160\u001b[0m \u001b[32m━━━━━━━━━━━━━━━━━━━━\u001b[0m\u001b[37m\u001b[0m \u001b[1m1s\u001b[0m 4ms/step - binary_crossentropy: 0.0166 - logloss: 0.0166 - loss: 0.0199 - val_binary_crossentropy: 0.0163 - val_logloss: 0.0163 - val_loss: 0.0196 - learning_rate: 0.0022\n",
      "Epoch 12/192\n",
      "\u001b[1m160/160\u001b[0m \u001b[32m━━━━━━━━━━━━━━━━━━━━\u001b[0m\u001b[37m\u001b[0m \u001b[1m1s\u001b[0m 4ms/step - binary_crossentropy: 0.0166 - logloss: 0.0166 - loss: 0.0199 - val_binary_crossentropy: 0.0161 - val_logloss: 0.0161 - val_loss: 0.0194 - learning_rate: 0.0019\n",
      "Epoch 13/192\n",
      "\u001b[1m160/160\u001b[0m \u001b[32m━━━━━━━━━━━━━━━━━━━━\u001b[0m\u001b[37m\u001b[0m \u001b[1m1s\u001b[0m 4ms/step - binary_crossentropy: 0.0163 - logloss: 0.0163 - loss: 0.0196 - val_binary_crossentropy: 0.0160 - val_logloss: 0.0161 - val_loss: 0.0193 - learning_rate: 0.0016\n",
      "Epoch 14/192\n",
      "\u001b[1m160/160\u001b[0m \u001b[32m━━━━━━━━━━━━━━━━━━━━\u001b[0m\u001b[37m\u001b[0m \u001b[1m1s\u001b[0m 4ms/step - binary_crossentropy: 0.0162 - logloss: 0.0162 - loss: 0.0195 - val_binary_crossentropy: 0.0160 - val_logloss: 0.0160 - val_loss: 0.0192 - learning_rate: 0.0013\n",
      "Epoch 15/192\n",
      "\u001b[1m160/160\u001b[0m \u001b[32m━━━━━━━━━━━━━━━━━━━━\u001b[0m\u001b[37m\u001b[0m \u001b[1m1s\u001b[0m 4ms/step - binary_crossentropy: 0.0161 - logloss: 0.0161 - loss: 0.0194 - val_binary_crossentropy: 0.0159 - val_logloss: 0.0159 - val_loss: 0.0191 - learning_rate: 9.4750e-04\n",
      "Epoch 16/192\n",
      "\u001b[1m160/160\u001b[0m \u001b[32m━━━━━━━━━━━━━━━━━━━━\u001b[0m\u001b[37m\u001b[0m \u001b[1m1s\u001b[0m 5ms/step - binary_crossentropy: 0.0161 - logloss: 0.0161 - loss: 0.0194 - val_binary_crossentropy: 0.0158 - val_logloss: 0.0158 - val_loss: 0.0190 - learning_rate: 6.3500e-04\n",
      "Epoch 17/192\n",
      "\u001b[1m160/160\u001b[0m \u001b[32m━━━━━━━━━━━━━━━━━━━━\u001b[0m\u001b[37m\u001b[0m \u001b[1m1s\u001b[0m 4ms/step - binary_crossentropy: 0.0160 - logloss: 0.0160 - loss: 0.0193 - val_binary_crossentropy: 0.0158 - val_logloss: 0.0158 - val_loss: 0.0190 - learning_rate: 7.4996e-04\n",
      "Epoch 18/192\n",
      "\u001b[1m160/160\u001b[0m \u001b[32m━━━━━━━━━━━━━━━━━━━━\u001b[0m\u001b[37m\u001b[0m \u001b[1m1s\u001b[0m 4ms/step - binary_crossentropy: 0.0159 - logloss: 0.0159 - loss: 0.0192 - val_binary_crossentropy: 0.0158 - val_logloss: 0.0158 - val_loss: 0.0190 - learning_rate: 8.6492e-04\n",
      "Epoch 19/192\n",
      "\u001b[1m160/160\u001b[0m \u001b[32m━━━━━━━━━━━━━━━━━━━━\u001b[0m\u001b[37m\u001b[0m \u001b[1m1s\u001b[0m 4ms/step - binary_crossentropy: 0.0159 - logloss: 0.0160 - loss: 0.0192 - val_binary_crossentropy: 0.0158 - val_logloss: 0.0158 - val_loss: 0.0190 - learning_rate: 9.7989e-04\n",
      "Epoch 20/192\n",
      "\u001b[1m160/160\u001b[0m \u001b[32m━━━━━━━━━━━━━━━━━━━━\u001b[0m\u001b[37m\u001b[0m \u001b[1m1s\u001b[0m 4ms/step - binary_crossentropy: 0.0159 - logloss: 0.0160 - loss: 0.0192 - val_binary_crossentropy: 0.0158 - val_logloss: 0.0159 - val_loss: 0.0190 - learning_rate: 0.0011\n",
      "Epoch 21/192\n",
      "\u001b[1m160/160\u001b[0m \u001b[32m━━━━━━━━━━━━━━━━━━━━\u001b[0m\u001b[37m\u001b[0m \u001b[1m1s\u001b[0m 4ms/step - binary_crossentropy: 0.0158 - logloss: 0.0159 - loss: 0.0192 - val_binary_crossentropy: 0.0158 - val_logloss: 0.0158 - val_loss: 0.0190 - learning_rate: 0.0012\n",
      "Epoch 22/192\n",
      "\u001b[1m160/160\u001b[0m \u001b[32m━━━━━━━━━━━━━━━━━━━━\u001b[0m\u001b[37m\u001b[0m \u001b[1m1s\u001b[0m 4ms/step - binary_crossentropy: 0.0159 - logloss: 0.0160 - loss: 0.0192 - val_binary_crossentropy: 0.0158 - val_logloss: 0.0158 - val_loss: 0.0191 - learning_rate: 0.0013\n",
      "Epoch 23/192\n",
      "\u001b[1m160/160\u001b[0m \u001b[32m━━━━━━━━━━━━━━━━━━━━\u001b[0m\u001b[37m\u001b[0m \u001b[1m1s\u001b[0m 4ms/step - binary_crossentropy: 0.0159 - logloss: 0.0160 - loss: 0.0192 - val_binary_crossentropy: 0.0158 - val_logloss: 0.0158 - val_loss: 0.0190 - learning_rate: 0.0014\n",
      "Epoch 1/192\n",
      "\u001b[1m 33/160\u001b[0m \u001b[32m━━━━\u001b[0m\u001b[37m━━━━━━━━━━━━━━━━\u001b[0m \u001b[1m0s\u001b[0m 5ms/step - binary_crossentropy: 0.0158 - logloss: 0.0158 - loss: 0.0191"
     ]
    },
    {
     "name": "stderr",
     "output_type": "stream",
     "text": [
      "W0000 00:00:1716235104.088999      72 graph_launch.cc:671] Fallback to op-by-op mode because memset node breaks graph update\n"
     ]
    },
    {
     "name": "stdout",
     "output_type": "stream",
     "text": [
      "\u001b[1m160/160\u001b[0m \u001b[32m━━━━━━━━━━━━━━━━━━━━\u001b[0m\u001b[37m\u001b[0m \u001b[1m0s\u001b[0m 50ms/step - binary_crossentropy: 0.0160 - logloss: 0.0160 - loss: 0.0193"
     ]
    },
    {
     "name": "stderr",
     "output_type": "stream",
     "text": [
      "W0000 00:00:1716235112.039395      73 graph_launch.cc:671] Fallback to op-by-op mode because memset node breaks graph update\n",
      "W0000 00:00:1716235112.720214      73 graph_launch.cc:671] Fallback to op-by-op mode because memset node breaks graph update\n"
     ]
    },
    {
     "name": "stdout",
     "output_type": "stream",
     "text": [
      "\u001b[1m160/160\u001b[0m \u001b[32m━━━━━━━━━━━━━━━━━━━━\u001b[0m\u001b[37m\u001b[0m \u001b[1m19s\u001b[0m 57ms/step - binary_crossentropy: 0.0160 - logloss: 0.0160 - loss: 0.0193 - val_binary_crossentropy: 0.0158 - val_logloss: 0.0158 - val_loss: 0.0190\n",
      "Epoch 2/192\n",
      "\u001b[1m 21/160\u001b[0m \u001b[32m━━\u001b[0m\u001b[37m━━━━━━━━━━━━━━━━━━\u001b[0m \u001b[1m0s\u001b[0m 5ms/step - binary_crossentropy: 0.0159 - logloss: 0.0160 - loss: 0.0192"
     ]
    },
    {
     "name": "stderr",
     "output_type": "stream",
     "text": [
      "W0000 00:00:1716235113.107665      73 graph_launch.cc:671] Fallback to op-by-op mode because memset node breaks graph update\n"
     ]
    },
    {
     "name": "stdout",
     "output_type": "stream",
     "text": [
      "\u001b[1m160/160\u001b[0m \u001b[32m━━━━━━━━━━━━━━━━━━━━\u001b[0m\u001b[37m\u001b[0m \u001b[1m1s\u001b[0m 5ms/step - binary_crossentropy: 0.0160 - logloss: 0.0160 - loss: 0.0193 - val_binary_crossentropy: 0.0158 - val_logloss: 0.0158 - val_loss: 0.0190\n",
      "Epoch 3/192\n",
      "\u001b[1m160/160\u001b[0m \u001b[32m━━━━━━━━━━━━━━━━━━━━\u001b[0m\u001b[37m\u001b[0m \u001b[1m1s\u001b[0m 4ms/step - binary_crossentropy: 0.0159 - logloss: 0.0160 - loss: 0.0192 - val_binary_crossentropy: 0.0158 - val_logloss: 0.0158 - val_loss: 0.0190\n",
      "Epoch 4/192\n",
      "\u001b[1m160/160\u001b[0m \u001b[32m━━━━━━━━━━━━━━━━━━━━\u001b[0m\u001b[37m\u001b[0m \u001b[1m1s\u001b[0m 4ms/step - binary_crossentropy: 0.0159 - logloss: 0.0159 - loss: 0.0192 - val_binary_crossentropy: 0.0158 - val_logloss: 0.0158 - val_loss: 0.0190\n",
      "Epoch 5/192\n",
      "\u001b[1m160/160\u001b[0m \u001b[32m━━━━━━━━━━━━━━━━━━━━\u001b[0m\u001b[37m\u001b[0m \u001b[1m1s\u001b[0m 4ms/step - binary_crossentropy: 0.0160 - logloss: 0.0160 - loss: 0.0193 - val_binary_crossentropy: 0.0158 - val_logloss: 0.0158 - val_loss: 0.0190\n",
      "\u001b[1m102/107\u001b[0m \u001b[32m━━━━━━━━━━━━━━━━━━━\u001b[0m\u001b[37m━\u001b[0m \u001b[1m0s\u001b[0m 2ms/step"
     ]
    },
    {
     "name": "stderr",
     "output_type": "stream",
     "text": [
      "W0000 00:00:1716235116.554869      72 graph_launch.cc:671] Fallback to op-by-op mode because memset node breaks graph update\n"
     ]
    },
    {
     "name": "stdout",
     "output_type": "stream",
     "text": [
      "\u001b[1m107/107\u001b[0m \u001b[32m━━━━━━━━━━━━━━━━━━━━\u001b[0m\u001b[37m\u001b[0m \u001b[1m1s\u001b[0m 4ms/step\n",
      "\u001b[1m125/125\u001b[0m \u001b[32m━━━━━━━━━━━━━━━━━━━━\u001b[0m\u001b[37m\u001b[0m \u001b[1m0s\u001b[0m 3ms/step\n",
      "Epoch 1/192\n",
      "\u001b[1m 34/160\u001b[0m \u001b[32m━━━━\u001b[0m\u001b[37m━━━━━━━━━━━━━━━━\u001b[0m \u001b[1m0s\u001b[0m 5ms/step - binary_crossentropy: 0.0259 - logloss: 0.0258 - loss: 0.0291"
     ]
    },
    {
     "name": "stderr",
     "output_type": "stream",
     "text": [
      "W0000 00:00:1716235128.420847      71 graph_launch.cc:671] Fallback to op-by-op mode because memset node breaks graph update\n"
     ]
    },
    {
     "name": "stdout",
     "output_type": "stream",
     "text": [
      "\u001b[1m160/160\u001b[0m \u001b[32m━━━━━━━━━━━━━━━━━━━━\u001b[0m\u001b[37m\u001b[0m \u001b[1m0s\u001b[0m 50ms/step - binary_crossentropy: 0.0236 - logloss: 0.0235 - loss: 0.0268"
     ]
    },
    {
     "name": "stderr",
     "output_type": "stream",
     "text": [
      "W0000 00:00:1716235136.416520      71 graph_launch.cc:671] Fallback to op-by-op mode because memset node breaks graph update\n",
      "W0000 00:00:1716235137.077820      70 graph_launch.cc:671] Fallback to op-by-op mode because memset node breaks graph update\n"
     ]
    },
    {
     "name": "stdout",
     "output_type": "stream",
     "text": [
      "\u001b[1m160/160\u001b[0m \u001b[32m━━━━━━━━━━━━━━━━━━━━\u001b[0m\u001b[37m\u001b[0m \u001b[1m20s\u001b[0m 57ms/step - binary_crossentropy: 0.0236 - logloss: 0.0235 - loss: 0.0268 - val_binary_crossentropy: 0.0184 - val_logloss: 0.0184 - val_loss: 0.0216 - learning_rate: 3.2250e-04\n",
      "Epoch 2/192\n",
      "\u001b[1m 34/160\u001b[0m \u001b[32m━━━━\u001b[0m\u001b[37m━━━━━━━━━━━━━━━━\u001b[0m \u001b[1m0s\u001b[0m 5ms/step - binary_crossentropy: 0.0201 - logloss: 0.0199 - loss: 0.0232"
     ]
    },
    {
     "name": "stderr",
     "output_type": "stream",
     "text": [
      "W0000 00:00:1716235137.456662      70 graph_launch.cc:671] Fallback to op-by-op mode because memset node breaks graph update\n"
     ]
    },
    {
     "name": "stdout",
     "output_type": "stream",
     "text": [
      "\u001b[1m160/160\u001b[0m \u001b[32m━━━━━━━━━━━━━━━━━━━━\u001b[0m\u001b[37m\u001b[0m \u001b[1m1s\u001b[0m 5ms/step - binary_crossentropy: 0.0195 - logloss: 0.0194 - loss: 0.0227 - val_binary_crossentropy: 0.0178 - val_logloss: 0.0178 - val_loss: 0.0208 - learning_rate: 6.3500e-04\n",
      "Epoch 3/192\n",
      "\u001b[1m160/160\u001b[0m \u001b[32m━━━━━━━━━━━━━━━━━━━━\u001b[0m\u001b[37m\u001b[0m \u001b[1m1s\u001b[0m 4ms/step - binary_crossentropy: 0.0182 - logloss: 0.0181 - loss: 0.0214 - val_binary_crossentropy: 0.0173 - val_logloss: 0.0173 - val_loss: 0.0204 - learning_rate: 9.4750e-04\n",
      "Epoch 4/192\n",
      "\u001b[1m160/160\u001b[0m \u001b[32m━━━━━━━━━━━━━━━━━━━━\u001b[0m\u001b[37m\u001b[0m \u001b[1m1s\u001b[0m 4ms/step - binary_crossentropy: 0.0177 - logloss: 0.0176 - loss: 0.0209 - val_binary_crossentropy: 0.0169 - val_logloss: 0.0168 - val_loss: 0.0201 - learning_rate: 0.0013\n",
      "Epoch 5/192\n",
      "\u001b[1m160/160\u001b[0m \u001b[32m━━━━━━━━━━━━━━━━━━━━\u001b[0m\u001b[37m\u001b[0m \u001b[1m1s\u001b[0m 4ms/step - binary_crossentropy: 0.0174 - logloss: 0.0173 - loss: 0.0207 - val_binary_crossentropy: 0.0166 - val_logloss: 0.0165 - val_loss: 0.0199 - learning_rate: 0.0016\n",
      "Epoch 6/192\n",
      "\u001b[1m160/160\u001b[0m \u001b[32m━━━━━━━━━━━━━━━━━━━━\u001b[0m\u001b[37m\u001b[0m \u001b[1m1s\u001b[0m 4ms/step - binary_crossentropy: 0.0172 - logloss: 0.0172 - loss: 0.0205 - val_binary_crossentropy: 0.0168 - val_logloss: 0.0167 - val_loss: 0.0201 - learning_rate: 0.0019\n",
      "Epoch 7/192\n",
      "\u001b[1m160/160\u001b[0m \u001b[32m━━━━━━━━━━━━━━━━━━━━\u001b[0m\u001b[37m\u001b[0m \u001b[1m1s\u001b[0m 4ms/step - binary_crossentropy: 0.0172 - logloss: 0.0172 - loss: 0.0205 - val_binary_crossentropy: 0.0168 - val_logloss: 0.0167 - val_loss: 0.0201 - learning_rate: 0.0022\n",
      "Epoch 8/192\n",
      "\u001b[1m160/160\u001b[0m \u001b[32m━━━━━━━━━━━━━━━━━━━━\u001b[0m\u001b[37m\u001b[0m \u001b[1m1s\u001b[0m 4ms/step - binary_crossentropy: 0.0171 - logloss: 0.0171 - loss: 0.0204 - val_binary_crossentropy: 0.0170 - val_logloss: 0.0169 - val_loss: 0.0202 - learning_rate: 0.0025\n",
      "Epoch 9/192\n",
      "\u001b[1m160/160\u001b[0m \u001b[32m━━━━━━━━━━━━━━━━━━━━\u001b[0m\u001b[37m\u001b[0m \u001b[1m1s\u001b[0m 4ms/step - binary_crossentropy: 0.0170 - logloss: 0.0170 - loss: 0.0203 - val_binary_crossentropy: 0.0166 - val_logloss: 0.0166 - val_loss: 0.0200 - learning_rate: 0.0028\n",
      "Epoch 10/192\n",
      "\u001b[1m160/160\u001b[0m \u001b[32m━━━━━━━━━━━━━━━━━━━━\u001b[0m\u001b[37m\u001b[0m \u001b[1m1s\u001b[0m 4ms/step - binary_crossentropy: 0.0169 - logloss: 0.0169 - loss: 0.0203 - val_binary_crossentropy: 0.0166 - val_logloss: 0.0166 - val_loss: 0.0200 - learning_rate: 0.0025\n",
      "Epoch 1/192\n",
      "\u001b[1m 34/160\u001b[0m \u001b[32m━━━━\u001b[0m\u001b[37m━━━━━━━━━━━━━━━━\u001b[0m \u001b[1m0s\u001b[0m 5ms/step - binary_crossentropy: 0.0170 - logloss: 0.0170 - loss: 0.0204"
     ]
    },
    {
     "name": "stderr",
     "output_type": "stream",
     "text": [
      "W0000 00:00:1716235154.377933      70 graph_launch.cc:671] Fallback to op-by-op mode because memset node breaks graph update\n"
     ]
    },
    {
     "name": "stdout",
     "output_type": "stream",
     "text": [
      "\u001b[1m160/160\u001b[0m \u001b[32m━━━━━━━━━━━━━━━━━━━━\u001b[0m\u001b[37m\u001b[0m \u001b[1m0s\u001b[0m 50ms/step - binary_crossentropy: 0.0167 - logloss: 0.0168 - loss: 0.0201"
     ]
    },
    {
     "name": "stderr",
     "output_type": "stream",
     "text": [
      "W0000 00:00:1716235162.368017      71 graph_launch.cc:671] Fallback to op-by-op mode because memset node breaks graph update\n",
      "W0000 00:00:1716235163.034808      70 graph_launch.cc:671] Fallback to op-by-op mode because memset node breaks graph update\n"
     ]
    },
    {
     "name": "stdout",
     "output_type": "stream",
     "text": [
      "\u001b[1m160/160\u001b[0m \u001b[32m━━━━━━━━━━━━━━━━━━━━\u001b[0m\u001b[37m\u001b[0m \u001b[1m19s\u001b[0m 57ms/step - binary_crossentropy: 0.0167 - logloss: 0.0168 - loss: 0.0201 - val_binary_crossentropy: 0.0163 - val_logloss: 0.0163 - val_loss: 0.0196\n",
      "Epoch 2/192\n",
      "\u001b[1m 23/160\u001b[0m \u001b[32m━━\u001b[0m\u001b[37m━━━━━━━━━━━━━━━━━━\u001b[0m \u001b[1m0s\u001b[0m 5ms/step - binary_crossentropy: 0.0169 - logloss: 0.0169 - loss: 0.0203"
     ]
    },
    {
     "name": "stderr",
     "output_type": "stream",
     "text": [
      "W0000 00:00:1716235163.457018      71 graph_launch.cc:671] Fallback to op-by-op mode because memset node breaks graph update\n"
     ]
    },
    {
     "name": "stdout",
     "output_type": "stream",
     "text": [
      "\u001b[1m160/160\u001b[0m \u001b[32m━━━━━━━━━━━━━━━━━━━━\u001b[0m\u001b[37m\u001b[0m \u001b[1m1s\u001b[0m 5ms/step - binary_crossentropy: 0.0166 - logloss: 0.0167 - loss: 0.0200 - val_binary_crossentropy: 0.0162 - val_logloss: 0.0162 - val_loss: 0.0195\n",
      "Epoch 3/192\n",
      "\u001b[1m160/160\u001b[0m \u001b[32m━━━━━━━━━━━━━━━━━━━━\u001b[0m\u001b[37m\u001b[0m \u001b[1m1s\u001b[0m 5ms/step - binary_crossentropy: 0.0167 - logloss: 0.0167 - loss: 0.0201 - val_binary_crossentropy: 0.0162 - val_logloss: 0.0162 - val_loss: 0.0195\n",
      "Epoch 4/192\n",
      "\u001b[1m160/160\u001b[0m \u001b[32m━━━━━━━━━━━━━━━━━━━━\u001b[0m\u001b[37m\u001b[0m \u001b[1m1s\u001b[0m 4ms/step - binary_crossentropy: 0.0166 - logloss: 0.0166 - loss: 0.0199 - val_binary_crossentropy: 0.0162 - val_logloss: 0.0162 - val_loss: 0.0195\n",
      "Epoch 5/192\n",
      "\u001b[1m160/160\u001b[0m \u001b[32m━━━━━━━━━━━━━━━━━━━━\u001b[0m\u001b[37m\u001b[0m \u001b[1m1s\u001b[0m 4ms/step - binary_crossentropy: 0.0166 - logloss: 0.0166 - loss: 0.0200 - val_binary_crossentropy: 0.0162 - val_logloss: 0.0161 - val_loss: 0.0195\n",
      "Epoch 6/192\n",
      "\u001b[1m160/160\u001b[0m \u001b[32m━━━━━━━━━━━━━━━━━━━━\u001b[0m\u001b[37m\u001b[0m \u001b[1m1s\u001b[0m 4ms/step - binary_crossentropy: 0.0166 - logloss: 0.0166 - loss: 0.0200 - val_binary_crossentropy: 0.0162 - val_logloss: 0.0161 - val_loss: 0.0195\n",
      "Epoch 7/192\n",
      "\u001b[1m160/160\u001b[0m \u001b[32m━━━━━━━━━━━━━━━━━━━━\u001b[0m\u001b[37m\u001b[0m \u001b[1m1s\u001b[0m 4ms/step - binary_crossentropy: 0.0166 - logloss: 0.0166 - loss: 0.0200 - val_binary_crossentropy: 0.0162 - val_logloss: 0.0161 - val_loss: 0.0195\n",
      "Epoch 8/192\n",
      "\u001b[1m160/160\u001b[0m \u001b[32m━━━━━━━━━━━━━━━━━━━━\u001b[0m\u001b[37m\u001b[0m \u001b[1m1s\u001b[0m 4ms/step - binary_crossentropy: 0.0166 - logloss: 0.0166 - loss: 0.0200 - val_binary_crossentropy: 0.0162 - val_logloss: 0.0161 - val_loss: 0.0194\n",
      "Epoch 9/192\n",
      "\u001b[1m160/160\u001b[0m \u001b[32m━━━━━━━━━━━━━━━━━━━━\u001b[0m\u001b[37m\u001b[0m \u001b[1m1s\u001b[0m 4ms/step - binary_crossentropy: 0.0167 - logloss: 0.0167 - loss: 0.0200 - val_binary_crossentropy: 0.0162 - val_logloss: 0.0161 - val_loss: 0.0194\n",
      "Epoch 10/192\n",
      "\u001b[1m160/160\u001b[0m \u001b[32m━━━━━━━━━━━━━━━━━━━━\u001b[0m\u001b[37m\u001b[0m \u001b[1m1s\u001b[0m 4ms/step - binary_crossentropy: 0.0166 - logloss: 0.0166 - loss: 0.0200 - val_binary_crossentropy: 0.0162 - val_logloss: 0.0161 - val_loss: 0.0194\n",
      "Epoch 11/192\n",
      "\u001b[1m160/160\u001b[0m \u001b[32m━━━━━━━━━━━━━━━━━━━━\u001b[0m\u001b[37m\u001b[0m \u001b[1m1s\u001b[0m 4ms/step - binary_crossentropy: 0.0166 - logloss: 0.0166 - loss: 0.0200 - val_binary_crossentropy: 0.0162 - val_logloss: 0.0161 - val_loss: 0.0194\n",
      "Epoch 12/192\n",
      "\u001b[1m160/160\u001b[0m \u001b[32m━━━━━━━━━━━━━━━━━━━━\u001b[0m\u001b[37m\u001b[0m \u001b[1m1s\u001b[0m 4ms/step - binary_crossentropy: 0.0165 - logloss: 0.0166 - loss: 0.0199 - val_binary_crossentropy: 0.0161 - val_logloss: 0.0161 - val_loss: 0.0194\n",
      "Epoch 13/192\n",
      "\u001b[1m160/160\u001b[0m \u001b[32m━━━━━━━━━━━━━━━━━━━━\u001b[0m\u001b[37m\u001b[0m \u001b[1m1s\u001b[0m 4ms/step - binary_crossentropy: 0.0165 - logloss: 0.0165 - loss: 0.0199 - val_binary_crossentropy: 0.0161 - val_logloss: 0.0161 - val_loss: 0.0194\n",
      "Epoch 14/192\n",
      "\u001b[1m160/160\u001b[0m \u001b[32m━━━━━━━━━━━━━━━━━━━━\u001b[0m\u001b[37m\u001b[0m \u001b[1m1s\u001b[0m 4ms/step - binary_crossentropy: 0.0165 - logloss: 0.0166 - loss: 0.0199 - val_binary_crossentropy: 0.0161 - val_logloss: 0.0161 - val_loss: 0.0194\n",
      "Epoch 15/192\n",
      "\u001b[1m160/160\u001b[0m \u001b[32m━━━━━━━━━━━━━━━━━━━━\u001b[0m\u001b[37m\u001b[0m \u001b[1m1s\u001b[0m 4ms/step - binary_crossentropy: 0.0166 - logloss: 0.0166 - loss: 0.0199 - val_binary_crossentropy: 0.0161 - val_logloss: 0.0161 - val_loss: 0.0194\n",
      "Epoch 16/192\n",
      "\u001b[1m160/160\u001b[0m \u001b[32m━━━━━━━━━━━━━━━━━━━━\u001b[0m\u001b[37m\u001b[0m \u001b[1m1s\u001b[0m 4ms/step - binary_crossentropy: 0.0165 - logloss: 0.0165 - loss: 0.0199 - val_binary_crossentropy: 0.0161 - val_logloss: 0.0161 - val_loss: 0.0194\n",
      "Epoch 17/192\n",
      "\u001b[1m160/160\u001b[0m \u001b[32m━━━━━━━━━━━━━━━━━━━━\u001b[0m\u001b[37m\u001b[0m \u001b[1m1s\u001b[0m 4ms/step - binary_crossentropy: 0.0165 - logloss: 0.0165 - loss: 0.0199 - val_binary_crossentropy: 0.0161 - val_logloss: 0.0161 - val_loss: 0.0194\n",
      "Epoch 18/192\n",
      "\u001b[1m160/160\u001b[0m \u001b[32m━━━━━━━━━━━━━━━━━━━━\u001b[0m\u001b[37m\u001b[0m \u001b[1m1s\u001b[0m 4ms/step - binary_crossentropy: 0.0165 - logloss: 0.0165 - loss: 0.0199 - val_binary_crossentropy: 0.0161 - val_logloss: 0.0161 - val_loss: 0.0194\n",
      "Epoch 19/192\n",
      "\u001b[1m160/160\u001b[0m \u001b[32m━━━━━━━━━━━━━━━━━━━━\u001b[0m\u001b[37m\u001b[0m \u001b[1m1s\u001b[0m 4ms/step - binary_crossentropy: 0.0165 - logloss: 0.0165 - loss: 0.0199 - val_binary_crossentropy: 0.0161 - val_logloss: 0.0161 - val_loss: 0.0194\n",
      "Epoch 20/192\n",
      "\u001b[1m160/160\u001b[0m \u001b[32m━━━━━━━━━━━━━━━━━━━━\u001b[0m\u001b[37m\u001b[0m \u001b[1m1s\u001b[0m 4ms/step - binary_crossentropy: 0.0164 - logloss: 0.0164 - loss: 0.0198 - val_binary_crossentropy: 0.0161 - val_logloss: 0.0161 - val_loss: 0.0194\n",
      "Epoch 21/192\n",
      "\u001b[1m160/160\u001b[0m \u001b[32m━━━━━━━━━━━━━━━━━━━━\u001b[0m\u001b[37m\u001b[0m \u001b[1m1s\u001b[0m 4ms/step - binary_crossentropy: 0.0164 - logloss: 0.0165 - loss: 0.0198 - val_binary_crossentropy: 0.0161 - val_logloss: 0.0161 - val_loss: 0.0194\n",
      "Epoch 22/192\n",
      "\u001b[1m160/160\u001b[0m \u001b[32m━━━━━━━━━━━━━━━━━━━━\u001b[0m\u001b[37m\u001b[0m \u001b[1m1s\u001b[0m 4ms/step - binary_crossentropy: 0.0165 - logloss: 0.0165 - loss: 0.0198 - val_binary_crossentropy: 0.0161 - val_logloss: 0.0161 - val_loss: 0.0194\n",
      "Epoch 23/192\n",
      "\u001b[1m160/160\u001b[0m \u001b[32m━━━━━━━━━━━━━━━━━━━━\u001b[0m\u001b[37m\u001b[0m \u001b[1m1s\u001b[0m 4ms/step - binary_crossentropy: 0.0165 - logloss: 0.0165 - loss: 0.0198 - val_binary_crossentropy: 0.0161 - val_logloss: 0.0161 - val_loss: 0.0194\n",
      "Epoch 24/192\n",
      "\u001b[1m160/160\u001b[0m \u001b[32m━━━━━━━━━━━━━━━━━━━━\u001b[0m\u001b[37m\u001b[0m \u001b[1m1s\u001b[0m 4ms/step - binary_crossentropy: 0.0164 - logloss: 0.0165 - loss: 0.0198 - val_binary_crossentropy: 0.0161 - val_logloss: 0.0161 - val_loss: 0.0194\n",
      "Epoch 25/192\n",
      "\u001b[1m160/160\u001b[0m \u001b[32m━━━━━━━━━━━━━━━━━━━━\u001b[0m\u001b[37m\u001b[0m \u001b[1m1s\u001b[0m 4ms/step - binary_crossentropy: 0.0164 - logloss: 0.0164 - loss: 0.0198 - val_binary_crossentropy: 0.0161 - val_logloss: 0.0161 - val_loss: 0.0194\n",
      "Epoch 26/192\n",
      "\u001b[1m160/160\u001b[0m \u001b[32m━━━━━━━━━━━━━━━━━━━━\u001b[0m\u001b[37m\u001b[0m \u001b[1m1s\u001b[0m 5ms/step - binary_crossentropy: 0.0164 - logloss: 0.0164 - loss: 0.0197 - val_binary_crossentropy: 0.0161 - val_logloss: 0.0161 - val_loss: 0.0193\n",
      "Epoch 27/192\n",
      "\u001b[1m160/160\u001b[0m \u001b[32m━━━━━━━━━━━━━━━━━━━━\u001b[0m\u001b[37m\u001b[0m \u001b[1m1s\u001b[0m 4ms/step - binary_crossentropy: 0.0164 - logloss: 0.0165 - loss: 0.0198 - val_binary_crossentropy: 0.0161 - val_logloss: 0.0161 - val_loss: 0.0193\n",
      "Epoch 28/192\n",
      "\u001b[1m160/160\u001b[0m \u001b[32m━━━━━━━━━━━━━━━━━━━━\u001b[0m\u001b[37m\u001b[0m \u001b[1m1s\u001b[0m 4ms/step - binary_crossentropy: 0.0164 - logloss: 0.0164 - loss: 0.0197 - val_binary_crossentropy: 0.0161 - val_logloss: 0.0160 - val_loss: 0.0193\n",
      "Epoch 29/192\n",
      "\u001b[1m160/160\u001b[0m \u001b[32m━━━━━━━━━━━━━━━━━━━━\u001b[0m\u001b[37m\u001b[0m \u001b[1m1s\u001b[0m 4ms/step - binary_crossentropy: 0.0164 - logloss: 0.0165 - loss: 0.0198 - val_binary_crossentropy: 0.0161 - val_logloss: 0.0160 - val_loss: 0.0193\n",
      "Epoch 30/192\n",
      "\u001b[1m160/160\u001b[0m \u001b[32m━━━━━━━━━━━━━━━━━━━━\u001b[0m\u001b[37m\u001b[0m \u001b[1m1s\u001b[0m 4ms/step - binary_crossentropy: 0.0164 - logloss: 0.0164 - loss: 0.0197 - val_binary_crossentropy: 0.0161 - val_logloss: 0.0161 - val_loss: 0.0193\n",
      "Epoch 31/192\n",
      "\u001b[1m160/160\u001b[0m \u001b[32m━━━━━━━━━━━━━━━━━━━━\u001b[0m\u001b[37m\u001b[0m \u001b[1m1s\u001b[0m 4ms/step - binary_crossentropy: 0.0164 - logloss: 0.0164 - loss: 0.0197 - val_binary_crossentropy: 0.0161 - val_logloss: 0.0160 - val_loss: 0.0193\n",
      "Epoch 32/192\n",
      "\u001b[1m160/160\u001b[0m \u001b[32m━━━━━━━━━━━━━━━━━━━━\u001b[0m\u001b[37m\u001b[0m \u001b[1m1s\u001b[0m 4ms/step - binary_crossentropy: 0.0164 - logloss: 0.0164 - loss: 0.0197 - val_binary_crossentropy: 0.0161 - val_logloss: 0.0160 - val_loss: 0.0193\n",
      "Epoch 33/192\n",
      "\u001b[1m160/160\u001b[0m \u001b[32m━━━━━━━━━━━━━━━━━━━━\u001b[0m\u001b[37m\u001b[0m \u001b[1m1s\u001b[0m 4ms/step - binary_crossentropy: 0.0164 - logloss: 0.0164 - loss: 0.0197 - val_binary_crossentropy: 0.0161 - val_logloss: 0.0160 - val_loss: 0.0193\n",
      "Epoch 34/192\n",
      "\u001b[1m160/160\u001b[0m \u001b[32m━━━━━━━━━━━━━━━━━━━━\u001b[0m\u001b[37m\u001b[0m \u001b[1m1s\u001b[0m 4ms/step - binary_crossentropy: 0.0164 - logloss: 0.0164 - loss: 0.0197 - val_binary_crossentropy: 0.0160 - val_logloss: 0.0160 - val_loss: 0.0193\n",
      "Epoch 35/192\n",
      "\u001b[1m160/160\u001b[0m \u001b[32m━━━━━━━━━━━━━━━━━━━━\u001b[0m\u001b[37m\u001b[0m \u001b[1m1s\u001b[0m 4ms/step - binary_crossentropy: 0.0164 - logloss: 0.0164 - loss: 0.0197 - val_binary_crossentropy: 0.0161 - val_logloss: 0.0160 - val_loss: 0.0193\n",
      "Epoch 36/192\n",
      "\u001b[1m160/160\u001b[0m \u001b[32m━━━━━━━━━━━━━━━━━━━━\u001b[0m\u001b[37m\u001b[0m \u001b[1m1s\u001b[0m 4ms/step - binary_crossentropy: 0.0163 - logloss: 0.0164 - loss: 0.0197 - val_binary_crossentropy: 0.0161 - val_logloss: 0.0160 - val_loss: 0.0193\n",
      "Epoch 37/192\n",
      "\u001b[1m160/160\u001b[0m \u001b[32m━━━━━━━━━━━━━━━━━━━━\u001b[0m\u001b[37m\u001b[0m \u001b[1m1s\u001b[0m 4ms/step - binary_crossentropy: 0.0164 - logloss: 0.0164 - loss: 0.0197 - val_binary_crossentropy: 0.0160 - val_logloss: 0.0160 - val_loss: 0.0193\n",
      "Epoch 38/192\n",
      "\u001b[1m160/160\u001b[0m \u001b[32m━━━━━━━━━━━━━━━━━━━━\u001b[0m\u001b[37m\u001b[0m \u001b[1m1s\u001b[0m 4ms/step - binary_crossentropy: 0.0163 - logloss: 0.0164 - loss: 0.0197 - val_binary_crossentropy: 0.0160 - val_logloss: 0.0160 - val_loss: 0.0193\n",
      "Epoch 39/192\n",
      "\u001b[1m160/160\u001b[0m \u001b[32m━━━━━━━━━━━━━━━━━━━━\u001b[0m\u001b[37m\u001b[0m \u001b[1m1s\u001b[0m 4ms/step - binary_crossentropy: 0.0164 - logloss: 0.0164 - loss: 0.0197 - val_binary_crossentropy: 0.0160 - val_logloss: 0.0160 - val_loss: 0.0193\n",
      "Epoch 40/192\n",
      "\u001b[1m160/160\u001b[0m \u001b[32m━━━━━━━━━━━━━━━━━━━━\u001b[0m\u001b[37m\u001b[0m \u001b[1m1s\u001b[0m 4ms/step - binary_crossentropy: 0.0164 - logloss: 0.0164 - loss: 0.0197 - val_binary_crossentropy: 0.0160 - val_logloss: 0.0160 - val_loss: 0.0193\n",
      "Epoch 41/192\n",
      "\u001b[1m160/160\u001b[0m \u001b[32m━━━━━━━━━━━━━━━━━━━━\u001b[0m\u001b[37m\u001b[0m \u001b[1m1s\u001b[0m 4ms/step - binary_crossentropy: 0.0164 - logloss: 0.0164 - loss: 0.0197 - val_binary_crossentropy: 0.0160 - val_logloss: 0.0160 - val_loss: 0.0193\n",
      "Epoch 42/192\n",
      "\u001b[1m160/160\u001b[0m \u001b[32m━━━━━━━━━━━━━━━━━━━━\u001b[0m\u001b[37m\u001b[0m \u001b[1m1s\u001b[0m 5ms/step - binary_crossentropy: 0.0163 - logloss: 0.0164 - loss: 0.0197 - val_binary_crossentropy: 0.0160 - val_logloss: 0.0160 - val_loss: 0.0193\n",
      "Epoch 43/192\n",
      "\u001b[1m160/160\u001b[0m \u001b[32m━━━━━━━━━━━━━━━━━━━━\u001b[0m\u001b[37m\u001b[0m \u001b[1m1s\u001b[0m 4ms/step - binary_crossentropy: 0.0164 - logloss: 0.0164 - loss: 0.0197 - val_binary_crossentropy: 0.0160 - val_logloss: 0.0160 - val_loss: 0.0193\n",
      "Epoch 44/192\n",
      "\u001b[1m160/160\u001b[0m \u001b[32m━━━━━━━━━━━━━━━━━━━━\u001b[0m\u001b[37m\u001b[0m \u001b[1m1s\u001b[0m 4ms/step - binary_crossentropy: 0.0164 - logloss: 0.0164 - loss: 0.0197 - val_binary_crossentropy: 0.0160 - val_logloss: 0.0160 - val_loss: 0.0193\n",
      "Epoch 45/192\n",
      "\u001b[1m160/160\u001b[0m \u001b[32m━━━━━━━━━━━━━━━━━━━━\u001b[0m\u001b[37m\u001b[0m \u001b[1m1s\u001b[0m 4ms/step - binary_crossentropy: 0.0163 - logloss: 0.0163 - loss: 0.0196 - val_binary_crossentropy: 0.0160 - val_logloss: 0.0160 - val_loss: 0.0193\n",
      "Epoch 46/192\n",
      "\u001b[1m160/160\u001b[0m \u001b[32m━━━━━━━━━━━━━━━━━━━━\u001b[0m\u001b[37m\u001b[0m \u001b[1m1s\u001b[0m 4ms/step - binary_crossentropy: 0.0163 - logloss: 0.0164 - loss: 0.0197 - val_binary_crossentropy: 0.0160 - val_logloss: 0.0160 - val_loss: 0.0193\n",
      "Epoch 47/192\n",
      "\u001b[1m160/160\u001b[0m \u001b[32m━━━━━━━━━━━━━━━━━━━━\u001b[0m\u001b[37m\u001b[0m \u001b[1m1s\u001b[0m 4ms/step - binary_crossentropy: 0.0163 - logloss: 0.0163 - loss: 0.0196 - val_binary_crossentropy: 0.0160 - val_logloss: 0.0160 - val_loss: 0.0193\n",
      "Epoch 48/192\n",
      "\u001b[1m160/160\u001b[0m \u001b[32m━━━━━━━━━━━━━━━━━━━━\u001b[0m\u001b[37m\u001b[0m \u001b[1m1s\u001b[0m 4ms/step - binary_crossentropy: 0.0164 - logloss: 0.0164 - loss: 0.0197 - val_binary_crossentropy: 0.0160 - val_logloss: 0.0160 - val_loss: 0.0193\n",
      "Epoch 49/192\n",
      "\u001b[1m160/160\u001b[0m \u001b[32m━━━━━━━━━━━━━━━━━━━━\u001b[0m\u001b[37m\u001b[0m \u001b[1m1s\u001b[0m 4ms/step - binary_crossentropy: 0.0164 - logloss: 0.0164 - loss: 0.0197 - val_binary_crossentropy: 0.0160 - val_logloss: 0.0160 - val_loss: 0.0193\n",
      "Epoch 50/192\n",
      "\u001b[1m160/160\u001b[0m \u001b[32m━━━━━━━━━━━━━━━━━━━━\u001b[0m\u001b[37m\u001b[0m \u001b[1m1s\u001b[0m 4ms/step - binary_crossentropy: 0.0163 - logloss: 0.0164 - loss: 0.0197 - val_binary_crossentropy: 0.0160 - val_logloss: 0.0160 - val_loss: 0.0193\n",
      "Epoch 51/192\n",
      "\u001b[1m160/160\u001b[0m \u001b[32m━━━━━━━━━━━━━━━━━━━━\u001b[0m\u001b[37m\u001b[0m \u001b[1m1s\u001b[0m 4ms/step - binary_crossentropy: 0.0163 - logloss: 0.0163 - loss: 0.0196 - val_binary_crossentropy: 0.0160 - val_logloss: 0.0160 - val_loss: 0.0193\n",
      "Epoch 52/192\n",
      "\u001b[1m160/160\u001b[0m \u001b[32m━━━━━━━━━━━━━━━━━━━━\u001b[0m\u001b[37m\u001b[0m \u001b[1m1s\u001b[0m 4ms/step - binary_crossentropy: 0.0163 - logloss: 0.0163 - loss: 0.0196 - val_binary_crossentropy: 0.0160 - val_logloss: 0.0160 - val_loss: 0.0192\n",
      "Epoch 53/192\n",
      "\u001b[1m160/160\u001b[0m \u001b[32m━━━━━━━━━━━━━━━━━━━━\u001b[0m\u001b[37m\u001b[0m \u001b[1m1s\u001b[0m 4ms/step - binary_crossentropy: 0.0163 - logloss: 0.0163 - loss: 0.0196 - val_binary_crossentropy: 0.0160 - val_logloss: 0.0160 - val_loss: 0.0192\n",
      "Epoch 54/192\n",
      "\u001b[1m160/160\u001b[0m \u001b[32m━━━━━━━━━━━━━━━━━━━━\u001b[0m\u001b[37m\u001b[0m \u001b[1m1s\u001b[0m 4ms/step - binary_crossentropy: 0.0164 - logloss: 0.0164 - loss: 0.0197 - val_binary_crossentropy: 0.0160 - val_logloss: 0.0160 - val_loss: 0.0192\n",
      "Epoch 55/192\n",
      "\u001b[1m160/160\u001b[0m \u001b[32m━━━━━━━━━━━━━━━━━━━━\u001b[0m\u001b[37m\u001b[0m \u001b[1m1s\u001b[0m 4ms/step - binary_crossentropy: 0.0163 - logloss: 0.0163 - loss: 0.0196 - val_binary_crossentropy: 0.0160 - val_logloss: 0.0160 - val_loss: 0.0192\n",
      "Epoch 56/192\n",
      "\u001b[1m160/160\u001b[0m \u001b[32m━━━━━━━━━━━━━━━━━━━━\u001b[0m\u001b[37m\u001b[0m \u001b[1m1s\u001b[0m 4ms/step - binary_crossentropy: 0.0163 - logloss: 0.0163 - loss: 0.0196 - val_binary_crossentropy: 0.0160 - val_logloss: 0.0160 - val_loss: 0.0192\n",
      "Epoch 57/192\n",
      "\u001b[1m160/160\u001b[0m \u001b[32m━━━━━━━━━━━━━━━━━━━━\u001b[0m\u001b[37m\u001b[0m \u001b[1m1s\u001b[0m 4ms/step - binary_crossentropy: 0.0164 - logloss: 0.0164 - loss: 0.0197 - val_binary_crossentropy: 0.0160 - val_logloss: 0.0160 - val_loss: 0.0192\n",
      "Epoch 58/192\n",
      "\u001b[1m160/160\u001b[0m \u001b[32m━━━━━━━━━━━━━━━━━━━━\u001b[0m\u001b[37m\u001b[0m \u001b[1m1s\u001b[0m 4ms/step - binary_crossentropy: 0.0163 - logloss: 0.0163 - loss: 0.0196 - val_binary_crossentropy: 0.0160 - val_logloss: 0.0160 - val_loss: 0.0192\n",
      "Epoch 59/192\n",
      "\u001b[1m160/160\u001b[0m \u001b[32m━━━━━━━━━━━━━━━━━━━━\u001b[0m\u001b[37m\u001b[0m \u001b[1m1s\u001b[0m 4ms/step - binary_crossentropy: 0.0163 - logloss: 0.0163 - loss: 0.0196 - val_binary_crossentropy: 0.0160 - val_logloss: 0.0160 - val_loss: 0.0192\n",
      "Epoch 60/192\n",
      "\u001b[1m160/160\u001b[0m \u001b[32m━━━━━━━━━━━━━━━━━━━━\u001b[0m\u001b[37m\u001b[0m \u001b[1m1s\u001b[0m 4ms/step - binary_crossentropy: 0.0163 - logloss: 0.0163 - loss: 0.0196 - val_binary_crossentropy: 0.0160 - val_logloss: 0.0160 - val_loss: 0.0192\n",
      "Epoch 61/192\n",
      "\u001b[1m160/160\u001b[0m \u001b[32m━━━━━━━━━━━━━━━━━━━━\u001b[0m\u001b[37m\u001b[0m \u001b[1m1s\u001b[0m 4ms/step - binary_crossentropy: 0.0163 - logloss: 0.0163 - loss: 0.0196 - val_binary_crossentropy: 0.0160 - val_logloss: 0.0160 - val_loss: 0.0192\n",
      "Epoch 62/192\n",
      "\u001b[1m160/160\u001b[0m \u001b[32m━━━━━━━━━━━━━━━━━━━━\u001b[0m\u001b[37m\u001b[0m \u001b[1m1s\u001b[0m 4ms/step - binary_crossentropy: 0.0163 - logloss: 0.0163 - loss: 0.0196 - val_binary_crossentropy: 0.0160 - val_logloss: 0.0160 - val_loss: 0.0192\n",
      "Epoch 63/192\n",
      "\u001b[1m160/160\u001b[0m \u001b[32m━━━━━━━━━━━━━━━━━━━━\u001b[0m\u001b[37m\u001b[0m \u001b[1m1s\u001b[0m 4ms/step - binary_crossentropy: 0.0163 - logloss: 0.0163 - loss: 0.0196 - val_binary_crossentropy: 0.0160 - val_logloss: 0.0160 - val_loss: 0.0192\n",
      "Epoch 64/192\n",
      "\u001b[1m160/160\u001b[0m \u001b[32m━━━━━━━━━━━━━━━━━━━━\u001b[0m\u001b[37m\u001b[0m \u001b[1m1s\u001b[0m 4ms/step - binary_crossentropy: 0.0162 - logloss: 0.0163 - loss: 0.0196 - val_binary_crossentropy: 0.0160 - val_logloss: 0.0160 - val_loss: 0.0192\n",
      "Epoch 65/192\n",
      "\u001b[1m160/160\u001b[0m \u001b[32m━━━━━━━━━━━━━━━━━━━━\u001b[0m\u001b[37m\u001b[0m \u001b[1m1s\u001b[0m 4ms/step - binary_crossentropy: 0.0163 - logloss: 0.0163 - loss: 0.0196 - val_binary_crossentropy: 0.0160 - val_logloss: 0.0160 - val_loss: 0.0192\n",
      "Epoch 66/192\n",
      "\u001b[1m160/160\u001b[0m \u001b[32m━━━━━━━━━━━━━━━━━━━━\u001b[0m\u001b[37m\u001b[0m \u001b[1m1s\u001b[0m 4ms/step - binary_crossentropy: 0.0162 - logloss: 0.0163 - loss: 0.0195 - val_binary_crossentropy: 0.0160 - val_logloss: 0.0160 - val_loss: 0.0192\n",
      "Epoch 67/192\n",
      "\u001b[1m160/160\u001b[0m \u001b[32m━━━━━━━━━━━━━━━━━━━━\u001b[0m\u001b[37m\u001b[0m \u001b[1m1s\u001b[0m 4ms/step - binary_crossentropy: 0.0162 - logloss: 0.0163 - loss: 0.0196 - val_binary_crossentropy: 0.0160 - val_logloss: 0.0160 - val_loss: 0.0192\n",
      "Epoch 68/192\n",
      "\u001b[1m160/160\u001b[0m \u001b[32m━━━━━━━━━━━━━━━━━━━━\u001b[0m\u001b[37m\u001b[0m \u001b[1m1s\u001b[0m 4ms/step - binary_crossentropy: 0.0162 - logloss: 0.0163 - loss: 0.0196 - val_binary_crossentropy: 0.0160 - val_logloss: 0.0160 - val_loss: 0.0192\n",
      "Epoch 69/192\n",
      "\u001b[1m160/160\u001b[0m \u001b[32m━━━━━━━━━━━━━━━━━━━━\u001b[0m\u001b[37m\u001b[0m \u001b[1m1s\u001b[0m 5ms/step - binary_crossentropy: 0.0163 - logloss: 0.0163 - loss: 0.0196 - val_binary_crossentropy: 0.0160 - val_logloss: 0.0159 - val_loss: 0.0192\n",
      "Epoch 70/192\n",
      "\u001b[1m160/160\u001b[0m \u001b[32m━━━━━━━━━━━━━━━━━━━━\u001b[0m\u001b[37m\u001b[0m \u001b[1m1s\u001b[0m 4ms/step - binary_crossentropy: 0.0162 - logloss: 0.0162 - loss: 0.0195 - val_binary_crossentropy: 0.0160 - val_logloss: 0.0159 - val_loss: 0.0192\n",
      "Epoch 71/192\n",
      "\u001b[1m160/160\u001b[0m \u001b[32m━━━━━━━━━━━━━━━━━━━━\u001b[0m\u001b[37m\u001b[0m \u001b[1m1s\u001b[0m 4ms/step - binary_crossentropy: 0.0162 - logloss: 0.0163 - loss: 0.0196 - val_binary_crossentropy: 0.0160 - val_logloss: 0.0159 - val_loss: 0.0192\n",
      "Epoch 72/192\n",
      "\u001b[1m160/160\u001b[0m \u001b[32m━━━━━━━━━━━━━━━━━━━━\u001b[0m\u001b[37m\u001b[0m \u001b[1m1s\u001b[0m 4ms/step - binary_crossentropy: 0.0163 - logloss: 0.0163 - loss: 0.0196 - val_binary_crossentropy: 0.0160 - val_logloss: 0.0159 - val_loss: 0.0192\n",
      "Epoch 73/192\n",
      "\u001b[1m160/160\u001b[0m \u001b[32m━━━━━━━━━━━━━━━━━━━━\u001b[0m\u001b[37m\u001b[0m \u001b[1m1s\u001b[0m 4ms/step - binary_crossentropy: 0.0162 - logloss: 0.0162 - loss: 0.0195 - val_binary_crossentropy: 0.0160 - val_logloss: 0.0159 - val_loss: 0.0192\n",
      "Epoch 74/192\n",
      "\u001b[1m160/160\u001b[0m \u001b[32m━━━━━━━━━━━━━━━━━━━━\u001b[0m\u001b[37m\u001b[0m \u001b[1m1s\u001b[0m 4ms/step - binary_crossentropy: 0.0162 - logloss: 0.0162 - loss: 0.0195 - val_binary_crossentropy: 0.0160 - val_logloss: 0.0159 - val_loss: 0.0192\n",
      "Epoch 75/192\n",
      "\u001b[1m160/160\u001b[0m \u001b[32m━━━━━━━━━━━━━━━━━━━━\u001b[0m\u001b[37m\u001b[0m \u001b[1m1s\u001b[0m 4ms/step - binary_crossentropy: 0.0162 - logloss: 0.0162 - loss: 0.0195 - val_binary_crossentropy: 0.0160 - val_logloss: 0.0159 - val_loss: 0.0192\n",
      "Epoch 76/192\n",
      "\u001b[1m160/160\u001b[0m \u001b[32m━━━━━━━━━━━━━━━━━━━━\u001b[0m\u001b[37m\u001b[0m \u001b[1m1s\u001b[0m 4ms/step - binary_crossentropy: 0.0162 - logloss: 0.0162 - loss: 0.0195 - val_binary_crossentropy: 0.0160 - val_logloss: 0.0159 - val_loss: 0.0192\n",
      "Epoch 77/192\n",
      "\u001b[1m160/160\u001b[0m \u001b[32m━━━━━━━━━━━━━━━━━━━━\u001b[0m\u001b[37m\u001b[0m \u001b[1m1s\u001b[0m 4ms/step - binary_crossentropy: 0.0163 - logloss: 0.0163 - loss: 0.0196 - val_binary_crossentropy: 0.0160 - val_logloss: 0.0159 - val_loss: 0.0192\n",
      "Epoch 78/192\n",
      "\u001b[1m160/160\u001b[0m \u001b[32m━━━━━━━━━━━━━━━━━━━━\u001b[0m\u001b[37m\u001b[0m \u001b[1m1s\u001b[0m 4ms/step - binary_crossentropy: 0.0162 - logloss: 0.0162 - loss: 0.0195 - val_binary_crossentropy: 0.0160 - val_logloss: 0.0159 - val_loss: 0.0192\n",
      "Epoch 79/192\n",
      "\u001b[1m160/160\u001b[0m \u001b[32m━━━━━━━━━━━━━━━━━━━━\u001b[0m\u001b[37m\u001b[0m \u001b[1m1s\u001b[0m 4ms/step - binary_crossentropy: 0.0162 - logloss: 0.0162 - loss: 0.0195 - val_binary_crossentropy: 0.0159 - val_logloss: 0.0159 - val_loss: 0.0192\n",
      "Epoch 80/192\n",
      "\u001b[1m160/160\u001b[0m \u001b[32m━━━━━━━━━━━━━━━━━━━━\u001b[0m\u001b[37m\u001b[0m \u001b[1m1s\u001b[0m 4ms/step - binary_crossentropy: 0.0162 - logloss: 0.0162 - loss: 0.0195 - val_binary_crossentropy: 0.0159 - val_logloss: 0.0159 - val_loss: 0.0192\n",
      "Epoch 81/192\n",
      "\u001b[1m160/160\u001b[0m \u001b[32m━━━━━━━━━━━━━━━━━━━━\u001b[0m\u001b[37m\u001b[0m \u001b[1m1s\u001b[0m 4ms/step - binary_crossentropy: 0.0162 - logloss: 0.0162 - loss: 0.0195 - val_binary_crossentropy: 0.0159 - val_logloss: 0.0159 - val_loss: 0.0192\n",
      "Epoch 82/192\n",
      "\u001b[1m160/160\u001b[0m \u001b[32m━━━━━━━━━━━━━━━━━━━━\u001b[0m\u001b[37m\u001b[0m \u001b[1m1s\u001b[0m 4ms/step - binary_crossentropy: 0.0163 - logloss: 0.0163 - loss: 0.0196 - val_binary_crossentropy: 0.0159 - val_logloss: 0.0159 - val_loss: 0.0192\n",
      "Epoch 83/192\n",
      "\u001b[1m160/160\u001b[0m \u001b[32m━━━━━━━━━━━━━━━━━━━━\u001b[0m\u001b[37m\u001b[0m \u001b[1m1s\u001b[0m 4ms/step - binary_crossentropy: 0.0162 - logloss: 0.0162 - loss: 0.0195 - val_binary_crossentropy: 0.0159 - val_logloss: 0.0159 - val_loss: 0.0192\n",
      "Epoch 84/192\n",
      "\u001b[1m160/160\u001b[0m \u001b[32m━━━━━━━━━━━━━━━━━━━━\u001b[0m\u001b[37m\u001b[0m \u001b[1m1s\u001b[0m 4ms/step - binary_crossentropy: 0.0161 - logloss: 0.0162 - loss: 0.0194 - val_binary_crossentropy: 0.0159 - val_logloss: 0.0159 - val_loss: 0.0192\n",
      "Epoch 85/192\n",
      "\u001b[1m160/160\u001b[0m \u001b[32m━━━━━━━━━━━━━━━━━━━━\u001b[0m\u001b[37m\u001b[0m \u001b[1m1s\u001b[0m 4ms/step - binary_crossentropy: 0.0162 - logloss: 0.0162 - loss: 0.0195 - val_binary_crossentropy: 0.0159 - val_logloss: 0.0159 - val_loss: 0.0192\n",
      "Epoch 86/192\n",
      "\u001b[1m160/160\u001b[0m \u001b[32m━━━━━━━━━━━━━━━━━━━━\u001b[0m\u001b[37m\u001b[0m \u001b[1m1s\u001b[0m 4ms/step - binary_crossentropy: 0.0162 - logloss: 0.0163 - loss: 0.0195 - val_binary_crossentropy: 0.0159 - val_logloss: 0.0159 - val_loss: 0.0191\n",
      "Epoch 87/192\n",
      "\u001b[1m160/160\u001b[0m \u001b[32m━━━━━━━━━━━━━━━━━━━━\u001b[0m\u001b[37m\u001b[0m \u001b[1m1s\u001b[0m 4ms/step - binary_crossentropy: 0.0162 - logloss: 0.0162 - loss: 0.0195 - val_binary_crossentropy: 0.0159 - val_logloss: 0.0159 - val_loss: 0.0191\n",
      "Epoch 88/192\n",
      "\u001b[1m160/160\u001b[0m \u001b[32m━━━━━━━━━━━━━━━━━━━━\u001b[0m\u001b[37m\u001b[0m \u001b[1m1s\u001b[0m 4ms/step - binary_crossentropy: 0.0161 - logloss: 0.0162 - loss: 0.0194 - val_binary_crossentropy: 0.0159 - val_logloss: 0.0159 - val_loss: 0.0191\n",
      "Epoch 89/192\n",
      "\u001b[1m160/160\u001b[0m \u001b[32m━━━━━━━━━━━━━━━━━━━━\u001b[0m\u001b[37m\u001b[0m \u001b[1m1s\u001b[0m 4ms/step - binary_crossentropy: 0.0162 - logloss: 0.0163 - loss: 0.0195 - val_binary_crossentropy: 0.0159 - val_logloss: 0.0159 - val_loss: 0.0191\n",
      "Epoch 90/192\n",
      "\u001b[1m160/160\u001b[0m \u001b[32m━━━━━━━━━━━━━━━━━━━━\u001b[0m\u001b[37m\u001b[0m \u001b[1m1s\u001b[0m 4ms/step - binary_crossentropy: 0.0162 - logloss: 0.0162 - loss: 0.0195 - val_binary_crossentropy: 0.0159 - val_logloss: 0.0159 - val_loss: 0.0191\n",
      "Epoch 91/192\n",
      "\u001b[1m160/160\u001b[0m \u001b[32m━━━━━━━━━━━━━━━━━━━━\u001b[0m\u001b[37m\u001b[0m \u001b[1m1s\u001b[0m 4ms/step - binary_crossentropy: 0.0161 - logloss: 0.0162 - loss: 0.0194 - val_binary_crossentropy: 0.0159 - val_logloss: 0.0159 - val_loss: 0.0191\n",
      "\u001b[1m102/107\u001b[0m \u001b[32m━━━━━━━━━━━━━━━━━━━\u001b[0m\u001b[37m━\u001b[0m \u001b[1m0s\u001b[0m 2ms/step"
     ]
    },
    {
     "name": "stderr",
     "output_type": "stream",
     "text": [
      "W0000 00:00:1716235229.858425      71 graph_launch.cc:671] Fallback to op-by-op mode because memset node breaks graph update\n"
     ]
    },
    {
     "name": "stdout",
     "output_type": "stream",
     "text": [
      "\u001b[1m107/107\u001b[0m \u001b[32m━━━━━━━━━━━━━━━━━━━━\u001b[0m\u001b[37m\u001b[0m \u001b[1m1s\u001b[0m 4ms/step\n",
      "\u001b[1m125/125\u001b[0m \u001b[32m━━━━━━━━━━━━━━━━━━━━\u001b[0m\u001b[37m\u001b[0m \u001b[1m0s\u001b[0m 3ms/step\n",
      "Epoch 1/192\n",
      "\u001b[1m 32/160\u001b[0m \u001b[32m━━━━\u001b[0m\u001b[37m━━━━━━━━━━━━━━━━\u001b[0m \u001b[1m0s\u001b[0m 5ms/step - binary_crossentropy: 0.0263 - logloss: 0.0261 - loss: 0.0294"
     ]
    },
    {
     "name": "stderr",
     "output_type": "stream",
     "text": [
      "W0000 00:00:1716235241.902840      72 graph_launch.cc:671] Fallback to op-by-op mode because memset node breaks graph update\n"
     ]
    },
    {
     "name": "stdout",
     "output_type": "stream",
     "text": [
      "\u001b[1m160/160\u001b[0m \u001b[32m━━━━━━━━━━━━━━━━━━━━\u001b[0m\u001b[37m\u001b[0m \u001b[1m0s\u001b[0m 53ms/step - binary_crossentropy: 0.0239 - logloss: 0.0238 - loss: 0.0271"
     ]
    },
    {
     "name": "stderr",
     "output_type": "stream",
     "text": [
      "W0000 00:00:1716235250.320089      70 graph_launch.cc:671] Fallback to op-by-op mode because memset node breaks graph update\n",
      "W0000 00:00:1716235250.999662      71 graph_launch.cc:671] Fallback to op-by-op mode because memset node breaks graph update\n"
     ]
    },
    {
     "name": "stdout",
     "output_type": "stream",
     "text": [
      "\u001b[1m160/160\u001b[0m \u001b[32m━━━━━━━━━━━━━━━━━━━━\u001b[0m\u001b[37m\u001b[0m \u001b[1m20s\u001b[0m 60ms/step - binary_crossentropy: 0.0239 - logloss: 0.0238 - loss: 0.0271 - val_binary_crossentropy: 0.0184 - val_logloss: 0.0183 - val_loss: 0.0217 - learning_rate: 3.2250e-04\n",
      "Epoch 2/192\n",
      "\u001b[1m 23/160\u001b[0m \u001b[32m━━\u001b[0m\u001b[37m━━━━━━━━━━━━━━━━━━\u001b[0m \u001b[1m0s\u001b[0m 5ms/step - binary_crossentropy: 0.0195 - logloss: 0.0194 - loss: 0.0227"
     ]
    },
    {
     "name": "stderr",
     "output_type": "stream",
     "text": [
      "W0000 00:00:1716235251.390883      72 graph_launch.cc:671] Fallback to op-by-op mode because memset node breaks graph update\n"
     ]
    },
    {
     "name": "stdout",
     "output_type": "stream",
     "text": [
      "\u001b[1m160/160\u001b[0m \u001b[32m━━━━━━━━━━━━━━━━━━━━\u001b[0m\u001b[37m\u001b[0m \u001b[1m1s\u001b[0m 5ms/step - binary_crossentropy: 0.0196 - logloss: 0.0195 - loss: 0.0228 - val_binary_crossentropy: 0.0179 - val_logloss: 0.0178 - val_loss: 0.0210 - learning_rate: 6.3500e-04\n",
      "Epoch 3/192\n",
      "\u001b[1m160/160\u001b[0m \u001b[32m━━━━━━━━━━━━━━━━━━━━\u001b[0m\u001b[37m\u001b[0m \u001b[1m1s\u001b[0m 5ms/step - binary_crossentropy: 0.0184 - logloss: 0.0183 - loss: 0.0216 - val_binary_crossentropy: 0.0172 - val_logloss: 0.0172 - val_loss: 0.0203 - learning_rate: 9.4750e-04\n",
      "Epoch 4/192\n",
      "\u001b[1m160/160\u001b[0m \u001b[32m━━━━━━━━━━━━━━━━━━━━\u001b[0m\u001b[37m\u001b[0m \u001b[1m1s\u001b[0m 5ms/step - binary_crossentropy: 0.0178 - logloss: 0.0177 - loss: 0.0210 - val_binary_crossentropy: 0.0169 - val_logloss: 0.0168 - val_loss: 0.0201 - learning_rate: 0.0013\n",
      "Epoch 5/192\n",
      "\u001b[1m160/160\u001b[0m \u001b[32m━━━━━━━━━━━━━━━━━━━━\u001b[0m\u001b[37m\u001b[0m \u001b[1m1s\u001b[0m 4ms/step - binary_crossentropy: 0.0175 - logloss: 0.0174 - loss: 0.0208 - val_binary_crossentropy: 0.0169 - val_logloss: 0.0168 - val_loss: 0.0203 - learning_rate: 0.0016\n",
      "Epoch 6/192\n",
      "\u001b[1m160/160\u001b[0m \u001b[32m━━━━━━━━━━━━━━━━━━━━\u001b[0m\u001b[37m\u001b[0m \u001b[1m1s\u001b[0m 4ms/step - binary_crossentropy: 0.0174 - logloss: 0.0173 - loss: 0.0207 - val_binary_crossentropy: 0.0166 - val_logloss: 0.0166 - val_loss: 0.0200 - learning_rate: 0.0019\n",
      "Epoch 7/192\n",
      "\u001b[1m160/160\u001b[0m \u001b[32m━━━━━━━━━━━━━━━━━━━━\u001b[0m\u001b[37m\u001b[0m \u001b[1m1s\u001b[0m 4ms/step - binary_crossentropy: 0.0173 - logloss: 0.0172 - loss: 0.0206 - val_binary_crossentropy: 0.0166 - val_logloss: 0.0166 - val_loss: 0.0199 - learning_rate: 0.0022\n",
      "Epoch 8/192\n",
      "\u001b[1m160/160\u001b[0m \u001b[32m━━━━━━━━━━━━━━━━━━━━\u001b[0m\u001b[37m\u001b[0m \u001b[1m1s\u001b[0m 4ms/step - binary_crossentropy: 0.0173 - logloss: 0.0172 - loss: 0.0206 - val_binary_crossentropy: 0.0170 - val_logloss: 0.0170 - val_loss: 0.0204 - learning_rate: 0.0025\n",
      "Epoch 9/192\n",
      "\u001b[1m160/160\u001b[0m \u001b[32m━━━━━━━━━━━━━━━━━━━━\u001b[0m\u001b[37m\u001b[0m \u001b[1m1s\u001b[0m 4ms/step - binary_crossentropy: 0.0172 - logloss: 0.0172 - loss: 0.0206 - val_binary_crossentropy: 0.0167 - val_logloss: 0.0167 - val_loss: 0.0200 - learning_rate: 0.0028\n",
      "Epoch 10/192\n",
      "\u001b[1m160/160\u001b[0m \u001b[32m━━━━━━━━━━━━━━━━━━━━\u001b[0m\u001b[37m\u001b[0m \u001b[1m1s\u001b[0m 4ms/step - binary_crossentropy: 0.0171 - logloss: 0.0171 - loss: 0.0204 - val_binary_crossentropy: 0.0163 - val_logloss: 0.0163 - val_loss: 0.0197 - learning_rate: 0.0025\n",
      "Epoch 11/192\n",
      "\u001b[1m160/160\u001b[0m \u001b[32m━━━━━━━━━━━━━━━━━━━━\u001b[0m\u001b[37m\u001b[0m \u001b[1m1s\u001b[0m 4ms/step - binary_crossentropy: 0.0168 - logloss: 0.0168 - loss: 0.0201 - val_binary_crossentropy: 0.0164 - val_logloss: 0.0165 - val_loss: 0.0197 - learning_rate: 0.0022\n",
      "Epoch 12/192\n",
      "\u001b[1m160/160\u001b[0m \u001b[32m━━━━━━━━━━━━━━━━━━━━\u001b[0m\u001b[37m\u001b[0m \u001b[1m1s\u001b[0m 4ms/step - binary_crossentropy: 0.0166 - logloss: 0.0166 - loss: 0.0199 - val_binary_crossentropy: 0.0162 - val_logloss: 0.0162 - val_loss: 0.0195 - learning_rate: 0.0019\n",
      "Epoch 13/192\n",
      "\u001b[1m160/160\u001b[0m \u001b[32m━━━━━━━━━━━━━━━━━━━━\u001b[0m\u001b[37m\u001b[0m \u001b[1m1s\u001b[0m 4ms/step - binary_crossentropy: 0.0165 - logloss: 0.0165 - loss: 0.0198 - val_binary_crossentropy: 0.0160 - val_logloss: 0.0160 - val_loss: 0.0193 - learning_rate: 0.0016\n",
      "Epoch 14/192\n",
      "\u001b[1m160/160\u001b[0m \u001b[32m━━━━━━━━━━━━━━━━━━━━\u001b[0m\u001b[37m\u001b[0m \u001b[1m1s\u001b[0m 4ms/step - binary_crossentropy: 0.0164 - logloss: 0.0164 - loss: 0.0197 - val_binary_crossentropy: 0.0161 - val_logloss: 0.0161 - val_loss: 0.0193 - learning_rate: 0.0013\n",
      "Epoch 15/192\n",
      "\u001b[1m160/160\u001b[0m \u001b[32m━━━━━━━━━━━━━━━━━━━━\u001b[0m\u001b[37m\u001b[0m \u001b[1m1s\u001b[0m 4ms/step - binary_crossentropy: 0.0163 - logloss: 0.0163 - loss: 0.0196 - val_binary_crossentropy: 0.0160 - val_logloss: 0.0160 - val_loss: 0.0192 - learning_rate: 9.4750e-04\n",
      "Epoch 16/192\n",
      "\u001b[1m160/160\u001b[0m \u001b[32m━━━━━━━━━━━━━━━━━━━━\u001b[0m\u001b[37m\u001b[0m \u001b[1m1s\u001b[0m 4ms/step - binary_crossentropy: 0.0162 - logloss: 0.0162 - loss: 0.0194 - val_binary_crossentropy: 0.0159 - val_logloss: 0.0159 - val_loss: 0.0191 - learning_rate: 6.3500e-04\n",
      "Epoch 17/192\n",
      "\u001b[1m160/160\u001b[0m \u001b[32m━━━━━━━━━━━━━━━━━━━━\u001b[0m\u001b[37m\u001b[0m \u001b[1m1s\u001b[0m 4ms/step - binary_crossentropy: 0.0161 - logloss: 0.0161 - loss: 0.0194 - val_binary_crossentropy: 0.0158 - val_logloss: 0.0158 - val_loss: 0.0190 - learning_rate: 7.4996e-04\n",
      "Epoch 18/192\n",
      "\u001b[1m160/160\u001b[0m \u001b[32m━━━━━━━━━━━━━━━━━━━━\u001b[0m\u001b[37m\u001b[0m \u001b[1m1s\u001b[0m 4ms/step - binary_crossentropy: 0.0161 - logloss: 0.0161 - loss: 0.0194 - val_binary_crossentropy: 0.0158 - val_logloss: 0.0158 - val_loss: 0.0190 - learning_rate: 8.6492e-04\n",
      "Epoch 19/192\n",
      "\u001b[1m160/160\u001b[0m \u001b[32m━━━━━━━━━━━━━━━━━━━━\u001b[0m\u001b[37m\u001b[0m \u001b[1m1s\u001b[0m 4ms/step - binary_crossentropy: 0.0161 - logloss: 0.0161 - loss: 0.0194 - val_binary_crossentropy: 0.0158 - val_logloss: 0.0158 - val_loss: 0.0190 - learning_rate: 9.7989e-04\n",
      "Epoch 20/192\n",
      "\u001b[1m160/160\u001b[0m \u001b[32m━━━━━━━━━━━━━━━━━━━━\u001b[0m\u001b[37m\u001b[0m \u001b[1m1s\u001b[0m 4ms/step - binary_crossentropy: 0.0161 - logloss: 0.0162 - loss: 0.0194 - val_binary_crossentropy: 0.0159 - val_logloss: 0.0159 - val_loss: 0.0191 - learning_rate: 0.0011\n",
      "Epoch 21/192\n",
      "\u001b[1m160/160\u001b[0m \u001b[32m━━━━━━━━━━━━━━━━━━━━\u001b[0m\u001b[37m\u001b[0m \u001b[1m1s\u001b[0m 4ms/step - binary_crossentropy: 0.0161 - logloss: 0.0161 - loss: 0.0194 - val_binary_crossentropy: 0.0159 - val_logloss: 0.0159 - val_loss: 0.0191 - learning_rate: 0.0012\n",
      "Epoch 22/192\n",
      "\u001b[1m160/160\u001b[0m \u001b[32m━━━━━━━━━━━━━━━━━━━━\u001b[0m\u001b[37m\u001b[0m \u001b[1m1s\u001b[0m 4ms/step - binary_crossentropy: 0.0161 - logloss: 0.0161 - loss: 0.0194 - val_binary_crossentropy: 0.0159 - val_logloss: 0.0159 - val_loss: 0.0192 - learning_rate: 0.0013\n",
      "Epoch 23/192\n",
      "\u001b[1m160/160\u001b[0m \u001b[32m━━━━━━━━━━━━━━━━━━━━\u001b[0m\u001b[37m\u001b[0m \u001b[1m1s\u001b[0m 4ms/step - binary_crossentropy: 0.0161 - logloss: 0.0161 - loss: 0.0194 - val_binary_crossentropy: 0.0158 - val_logloss: 0.0158 - val_loss: 0.0191 - learning_rate: 0.0014\n",
      "Epoch 24/192\n",
      "\u001b[1m160/160\u001b[0m \u001b[32m━━━━━━━━━━━━━━━━━━━━\u001b[0m\u001b[37m\u001b[0m \u001b[1m1s\u001b[0m 4ms/step - binary_crossentropy: 0.0161 - logloss: 0.0161 - loss: 0.0194 - val_binary_crossentropy: 0.0160 - val_logloss: 0.0160 - val_loss: 0.0193 - learning_rate: 0.0016\n",
      "Epoch 1/192\n",
      "\u001b[1m 31/160\u001b[0m \u001b[32m━━━\u001b[0m\u001b[37m━━━━━━━━━━━━━━━━━\u001b[0m \u001b[1m0s\u001b[0m 5ms/step - binary_crossentropy: 0.0158 - logloss: 0.0158 - loss: 0.0191"
     ]
    },
    {
     "name": "stderr",
     "output_type": "stream",
     "text": [
      "W0000 00:00:1716235278.855184      71 graph_launch.cc:671] Fallback to op-by-op mode because memset node breaks graph update\n"
     ]
    },
    {
     "name": "stdout",
     "output_type": "stream",
     "text": [
      "\u001b[1m160/160\u001b[0m \u001b[32m━━━━━━━━━━━━━━━━━━━━\u001b[0m\u001b[37m\u001b[0m \u001b[1m0s\u001b[0m 52ms/step - binary_crossentropy: 0.0161 - logloss: 0.0161 - loss: 0.0194"
     ]
    },
    {
     "name": "stderr",
     "output_type": "stream",
     "text": [
      "W0000 00:00:1716235287.168500      70 graph_launch.cc:671] Fallback to op-by-op mode because memset node breaks graph update\n",
      "W0000 00:00:1716235287.856956      71 graph_launch.cc:671] Fallback to op-by-op mode because memset node breaks graph update\n"
     ]
    },
    {
     "name": "stdout",
     "output_type": "stream",
     "text": [
      "\u001b[1m160/160\u001b[0m \u001b[32m━━━━━━━━━━━━━━━━━━━━\u001b[0m\u001b[37m\u001b[0m \u001b[1m20s\u001b[0m 59ms/step - binary_crossentropy: 0.0161 - logloss: 0.0161 - loss: 0.0194 - val_binary_crossentropy: 0.0159 - val_logloss: 0.0159 - val_loss: 0.0190\n",
      "Epoch 2/192\n",
      "\u001b[1m 33/160\u001b[0m \u001b[32m━━━━\u001b[0m\u001b[37m━━━━━━━━━━━━━━━━\u001b[0m \u001b[1m0s\u001b[0m 5ms/step - binary_crossentropy: 0.0158 - logloss: 0.0158 - loss: 0.0191"
     ]
    },
    {
     "name": "stderr",
     "output_type": "stream",
     "text": [
      "W0000 00:00:1716235288.249535      72 graph_launch.cc:671] Fallback to op-by-op mode because memset node breaks graph update\n"
     ]
    },
    {
     "name": "stdout",
     "output_type": "stream",
     "text": [
      "\u001b[1m160/160\u001b[0m \u001b[32m━━━━━━━━━━━━━━━━━━━━\u001b[0m\u001b[37m\u001b[0m \u001b[1m1s\u001b[0m 5ms/step - binary_crossentropy: 0.0161 - logloss: 0.0161 - loss: 0.0194 - val_binary_crossentropy: 0.0158 - val_logloss: 0.0158 - val_loss: 0.0190\n",
      "Epoch 3/192\n",
      "\u001b[1m160/160\u001b[0m \u001b[32m━━━━━━━━━━━━━━━━━━━━\u001b[0m\u001b[37m\u001b[0m \u001b[1m1s\u001b[0m 5ms/step - binary_crossentropy: 0.0160 - logloss: 0.0160 - loss: 0.0193 - val_binary_crossentropy: 0.0158 - val_logloss: 0.0158 - val_loss: 0.0190\n",
      "Epoch 4/192\n",
      "\u001b[1m160/160\u001b[0m \u001b[32m━━━━━━━━━━━━━━━━━━━━\u001b[0m\u001b[37m\u001b[0m \u001b[1m1s\u001b[0m 4ms/step - binary_crossentropy: 0.0161 - logloss: 0.0161 - loss: 0.0193 - val_binary_crossentropy: 0.0158 - val_logloss: 0.0158 - val_loss: 0.0190\n",
      "Epoch 5/192\n",
      "\u001b[1m160/160\u001b[0m \u001b[32m━━━━━━━━━━━━━━━━━━━━\u001b[0m\u001b[37m\u001b[0m \u001b[1m1s\u001b[0m 4ms/step - binary_crossentropy: 0.0160 - logloss: 0.0160 - loss: 0.0193 - val_binary_crossentropy: 0.0158 - val_logloss: 0.0158 - val_loss: 0.0190\n",
      "Epoch 6/192\n",
      "\u001b[1m160/160\u001b[0m \u001b[32m━━━━━━━━━━━━━━━━━━━━\u001b[0m\u001b[37m\u001b[0m \u001b[1m1s\u001b[0m 4ms/step - binary_crossentropy: 0.0160 - logloss: 0.0161 - loss: 0.0193 - val_binary_crossentropy: 0.0158 - val_logloss: 0.0158 - val_loss: 0.0190\n",
      "Epoch 7/192\n",
      "\u001b[1m160/160\u001b[0m \u001b[32m━━━━━━━━━━━━━━━━━━━━\u001b[0m\u001b[37m\u001b[0m \u001b[1m1s\u001b[0m 4ms/step - binary_crossentropy: 0.0160 - logloss: 0.0161 - loss: 0.0193 - val_binary_crossentropy: 0.0158 - val_logloss: 0.0158 - val_loss: 0.0189\n",
      "Epoch 8/192\n",
      "\u001b[1m160/160\u001b[0m \u001b[32m━━━━━━━━━━━━━━━━━━━━\u001b[0m\u001b[37m\u001b[0m \u001b[1m1s\u001b[0m 4ms/step - binary_crossentropy: 0.0160 - logloss: 0.0160 - loss: 0.0193 - val_binary_crossentropy: 0.0158 - val_logloss: 0.0158 - val_loss: 0.0189\n",
      "Epoch 9/192\n",
      "\u001b[1m160/160\u001b[0m \u001b[32m━━━━━━━━━━━━━━━━━━━━\u001b[0m\u001b[37m\u001b[0m \u001b[1m1s\u001b[0m 4ms/step - binary_crossentropy: 0.0160 - logloss: 0.0160 - loss: 0.0193 - val_binary_crossentropy: 0.0158 - val_logloss: 0.0158 - val_loss: 0.0189\n",
      "Epoch 10/192\n",
      "\u001b[1m160/160\u001b[0m \u001b[32m━━━━━━━━━━━━━━━━━━━━\u001b[0m\u001b[37m\u001b[0m \u001b[1m1s\u001b[0m 4ms/step - binary_crossentropy: 0.0160 - logloss: 0.0160 - loss: 0.0193 - val_binary_crossentropy: 0.0157 - val_logloss: 0.0157 - val_loss: 0.0189\n",
      "Epoch 11/192\n",
      "\u001b[1m160/160\u001b[0m \u001b[32m━━━━━━━━━━━━━━━━━━━━\u001b[0m\u001b[37m\u001b[0m \u001b[1m1s\u001b[0m 4ms/step - binary_crossentropy: 0.0160 - logloss: 0.0160 - loss: 0.0193 - val_binary_crossentropy: 0.0157 - val_logloss: 0.0157 - val_loss: 0.0189\n",
      "Epoch 12/192\n",
      "\u001b[1m160/160\u001b[0m \u001b[32m━━━━━━━━━━━━━━━━━━━━\u001b[0m\u001b[37m\u001b[0m \u001b[1m1s\u001b[0m 4ms/step - binary_crossentropy: 0.0159 - logloss: 0.0160 - loss: 0.0192 - val_binary_crossentropy: 0.0157 - val_logloss: 0.0157 - val_loss: 0.0189\n",
      "Epoch 13/192\n",
      "\u001b[1m160/160\u001b[0m \u001b[32m━━━━━━━━━━━━━━━━━━━━\u001b[0m\u001b[37m\u001b[0m \u001b[1m1s\u001b[0m 4ms/step - binary_crossentropy: 0.0159 - logloss: 0.0159 - loss: 0.0192 - val_binary_crossentropy: 0.0157 - val_logloss: 0.0157 - val_loss: 0.0189\n",
      "Epoch 14/192\n",
      "\u001b[1m160/160\u001b[0m \u001b[32m━━━━━━━━━━━━━━━━━━━━\u001b[0m\u001b[37m\u001b[0m \u001b[1m1s\u001b[0m 4ms/step - binary_crossentropy: 0.0159 - logloss: 0.0160 - loss: 0.0192 - val_binary_crossentropy: 0.0157 - val_logloss: 0.0157 - val_loss: 0.0189\n",
      "Epoch 15/192\n",
      "\u001b[1m160/160\u001b[0m \u001b[32m━━━━━━━━━━━━━━━━━━━━\u001b[0m\u001b[37m\u001b[0m \u001b[1m1s\u001b[0m 4ms/step - binary_crossentropy: 0.0159 - logloss: 0.0160 - loss: 0.0192 - val_binary_crossentropy: 0.0157 - val_logloss: 0.0157 - val_loss: 0.0189\n",
      "Epoch 16/192\n",
      "\u001b[1m160/160\u001b[0m \u001b[32m━━━━━━━━━━━━━━━━━━━━\u001b[0m\u001b[37m\u001b[0m \u001b[1m1s\u001b[0m 4ms/step - binary_crossentropy: 0.0159 - logloss: 0.0159 - loss: 0.0192 - val_binary_crossentropy: 0.0157 - val_logloss: 0.0157 - val_loss: 0.0189\n",
      "Epoch 17/192\n",
      "\u001b[1m160/160\u001b[0m \u001b[32m━━━━━━━━━━━━━━━━━━━━\u001b[0m\u001b[37m\u001b[0m \u001b[1m1s\u001b[0m 4ms/step - binary_crossentropy: 0.0160 - logloss: 0.0160 - loss: 0.0193 - val_binary_crossentropy: 0.0157 - val_logloss: 0.0157 - val_loss: 0.0189\n",
      "Epoch 18/192\n",
      "\u001b[1m160/160\u001b[0m \u001b[32m━━━━━━━━━━━━━━━━━━━━\u001b[0m\u001b[37m\u001b[0m \u001b[1m1s\u001b[0m 4ms/step - binary_crossentropy: 0.0159 - logloss: 0.0160 - loss: 0.0192 - val_binary_crossentropy: 0.0157 - val_logloss: 0.0157 - val_loss: 0.0189\n",
      "Epoch 19/192\n",
      "\u001b[1m160/160\u001b[0m \u001b[32m━━━━━━━━━━━━━━━━━━━━\u001b[0m\u001b[37m\u001b[0m \u001b[1m1s\u001b[0m 4ms/step - binary_crossentropy: 0.0159 - logloss: 0.0160 - loss: 0.0192 - val_binary_crossentropy: 0.0157 - val_logloss: 0.0157 - val_loss: 0.0189\n",
      "Epoch 20/192\n",
      "\u001b[1m160/160\u001b[0m \u001b[32m━━━━━━━━━━━━━━━━━━━━\u001b[0m\u001b[37m\u001b[0m \u001b[1m1s\u001b[0m 4ms/step - binary_crossentropy: 0.0159 - logloss: 0.0159 - loss: 0.0192 - val_binary_crossentropy: 0.0157 - val_logloss: 0.0157 - val_loss: 0.0189\n",
      "Epoch 21/192\n",
      "\u001b[1m160/160\u001b[0m \u001b[32m━━━━━━━━━━━━━━━━━━━━\u001b[0m\u001b[37m\u001b[0m \u001b[1m1s\u001b[0m 4ms/step - binary_crossentropy: 0.0159 - logloss: 0.0160 - loss: 0.0192 - val_binary_crossentropy: 0.0157 - val_logloss: 0.0157 - val_loss: 0.0189\n",
      "Epoch 22/192\n",
      "\u001b[1m160/160\u001b[0m \u001b[32m━━━━━━━━━━━━━━━━━━━━\u001b[0m\u001b[37m\u001b[0m \u001b[1m1s\u001b[0m 5ms/step - binary_crossentropy: 0.0159 - logloss: 0.0159 - loss: 0.0192 - val_binary_crossentropy: 0.0157 - val_logloss: 0.0157 - val_loss: 0.0189\n",
      "Epoch 23/192\n",
      "\u001b[1m160/160\u001b[0m \u001b[32m━━━━━━━━━━━━━━━━━━━━\u001b[0m\u001b[37m\u001b[0m \u001b[1m1s\u001b[0m 4ms/step - binary_crossentropy: 0.0158 - logloss: 0.0159 - loss: 0.0191 - val_binary_crossentropy: 0.0157 - val_logloss: 0.0157 - val_loss: 0.0189\n",
      "Epoch 24/192\n",
      "\u001b[1m160/160\u001b[0m \u001b[32m━━━━━━━━━━━━━━━━━━━━\u001b[0m\u001b[37m\u001b[0m \u001b[1m1s\u001b[0m 4ms/step - binary_crossentropy: 0.0160 - logloss: 0.0160 - loss: 0.0193 - val_binary_crossentropy: 0.0157 - val_logloss: 0.0157 - val_loss: 0.0189\n",
      "Epoch 25/192\n",
      "\u001b[1m160/160\u001b[0m \u001b[32m━━━━━━━━━━━━━━━━━━━━\u001b[0m\u001b[37m\u001b[0m \u001b[1m1s\u001b[0m 4ms/step - binary_crossentropy: 0.0159 - logloss: 0.0160 - loss: 0.0192 - val_binary_crossentropy: 0.0157 - val_logloss: 0.0157 - val_loss: 0.0189\n",
      "Epoch 26/192\n",
      "\u001b[1m160/160\u001b[0m \u001b[32m━━━━━━━━━━━━━━━━━━━━\u001b[0m\u001b[37m\u001b[0m \u001b[1m1s\u001b[0m 4ms/step - binary_crossentropy: 0.0159 - logloss: 0.0159 - loss: 0.0192 - val_binary_crossentropy: 0.0157 - val_logloss: 0.0157 - val_loss: 0.0189\n",
      "Epoch 27/192\n",
      "\u001b[1m160/160\u001b[0m \u001b[32m━━━━━━━━━━━━━━━━━━━━\u001b[0m\u001b[37m\u001b[0m \u001b[1m1s\u001b[0m 4ms/step - binary_crossentropy: 0.0159 - logloss: 0.0160 - loss: 0.0192 - val_binary_crossentropy: 0.0157 - val_logloss: 0.0157 - val_loss: 0.0189\n",
      "Epoch 28/192\n",
      "\u001b[1m160/160\u001b[0m \u001b[32m━━━━━━━━━━━━━━━━━━━━\u001b[0m\u001b[37m\u001b[0m \u001b[1m1s\u001b[0m 5ms/step - binary_crossentropy: 0.0159 - logloss: 0.0159 - loss: 0.0192 - val_binary_crossentropy: 0.0157 - val_logloss: 0.0157 - val_loss: 0.0189\n",
      "Epoch 29/192\n",
      "\u001b[1m160/160\u001b[0m \u001b[32m━━━━━━━━━━━━━━━━━━━━\u001b[0m\u001b[37m\u001b[0m \u001b[1m1s\u001b[0m 4ms/step - binary_crossentropy: 0.0159 - logloss: 0.0160 - loss: 0.0192 - val_binary_crossentropy: 0.0157 - val_logloss: 0.0157 - val_loss: 0.0189\n",
      "Epoch 30/192\n",
      "\u001b[1m160/160\u001b[0m \u001b[32m━━━━━━━━━━━━━━━━━━━━\u001b[0m\u001b[37m\u001b[0m \u001b[1m1s\u001b[0m 4ms/step - binary_crossentropy: 0.0159 - logloss: 0.0160 - loss: 0.0192 - val_binary_crossentropy: 0.0157 - val_logloss: 0.0157 - val_loss: 0.0189\n",
      "Epoch 31/192\n",
      "\u001b[1m160/160\u001b[0m \u001b[32m━━━━━━━━━━━━━━━━━━━━\u001b[0m\u001b[37m\u001b[0m \u001b[1m1s\u001b[0m 4ms/step - binary_crossentropy: 0.0159 - logloss: 0.0159 - loss: 0.0192 - val_binary_crossentropy: 0.0157 - val_logloss: 0.0157 - val_loss: 0.0189\n",
      "Epoch 32/192\n",
      "\u001b[1m160/160\u001b[0m \u001b[32m━━━━━━━━━━━━━━━━━━━━\u001b[0m\u001b[37m\u001b[0m \u001b[1m1s\u001b[0m 4ms/step - binary_crossentropy: 0.0159 - logloss: 0.0160 - loss: 0.0192 - val_binary_crossentropy: 0.0157 - val_logloss: 0.0157 - val_loss: 0.0189\n",
      "Epoch 33/192\n",
      "\u001b[1m160/160\u001b[0m \u001b[32m━━━━━━━━━━━━━━━━━━━━\u001b[0m\u001b[37m\u001b[0m \u001b[1m1s\u001b[0m 5ms/step - binary_crossentropy: 0.0159 - logloss: 0.0159 - loss: 0.0191 - val_binary_crossentropy: 0.0157 - val_logloss: 0.0157 - val_loss: 0.0189\n",
      "Epoch 34/192\n",
      "\u001b[1m160/160\u001b[0m \u001b[32m━━━━━━━━━━━━━━━━━━━━\u001b[0m\u001b[37m\u001b[0m \u001b[1m1s\u001b[0m 5ms/step - binary_crossentropy: 0.0159 - logloss: 0.0160 - loss: 0.0192 - val_binary_crossentropy: 0.0157 - val_logloss: 0.0157 - val_loss: 0.0189\n",
      "Epoch 35/192\n",
      "\u001b[1m160/160\u001b[0m \u001b[32m━━━━━━━━━━━━━━━━━━━━\u001b[0m\u001b[37m\u001b[0m \u001b[1m1s\u001b[0m 5ms/step - binary_crossentropy: 0.0158 - logloss: 0.0159 - loss: 0.0191 - val_binary_crossentropy: 0.0157 - val_logloss: 0.0157 - val_loss: 0.0189\n",
      "Epoch 36/192\n",
      "\u001b[1m160/160\u001b[0m \u001b[32m━━━━━━━━━━━━━━━━━━━━\u001b[0m\u001b[37m\u001b[0m \u001b[1m1s\u001b[0m 4ms/step - binary_crossentropy: 0.0159 - logloss: 0.0159 - loss: 0.0192 - val_binary_crossentropy: 0.0157 - val_logloss: 0.0157 - val_loss: 0.0189\n",
      "Epoch 37/192\n",
      "\u001b[1m160/160\u001b[0m \u001b[32m━━━━━━━━━━━━━━━━━━━━\u001b[0m\u001b[37m\u001b[0m \u001b[1m1s\u001b[0m 4ms/step - binary_crossentropy: 0.0158 - logloss: 0.0159 - loss: 0.0191 - val_binary_crossentropy: 0.0157 - val_logloss: 0.0157 - val_loss: 0.0189\n",
      "Epoch 38/192\n",
      "\u001b[1m160/160\u001b[0m \u001b[32m━━━━━━━━━━━━━━━━━━━━\u001b[0m\u001b[37m\u001b[0m \u001b[1m1s\u001b[0m 4ms/step - binary_crossentropy: 0.0158 - logloss: 0.0158 - loss: 0.0191 - val_binary_crossentropy: 0.0157 - val_logloss: 0.0157 - val_loss: 0.0189\n",
      "Epoch 39/192\n",
      "\u001b[1m160/160\u001b[0m \u001b[32m━━━━━━━━━━━━━━━━━━━━\u001b[0m\u001b[37m\u001b[0m \u001b[1m1s\u001b[0m 4ms/step - binary_crossentropy: 0.0158 - logloss: 0.0159 - loss: 0.0191 - val_binary_crossentropy: 0.0157 - val_logloss: 0.0157 - val_loss: 0.0189\n",
      "Epoch 40/192\n",
      "\u001b[1m160/160\u001b[0m \u001b[32m━━━━━━━━━━━━━━━━━━━━\u001b[0m\u001b[37m\u001b[0m \u001b[1m1s\u001b[0m 4ms/step - binary_crossentropy: 0.0159 - logloss: 0.0159 - loss: 0.0192 - val_binary_crossentropy: 0.0157 - val_logloss: 0.0157 - val_loss: 0.0189\n",
      "Epoch 41/192\n",
      "\u001b[1m160/160\u001b[0m \u001b[32m━━━━━━━━━━━━━━━━━━━━\u001b[0m\u001b[37m\u001b[0m \u001b[1m1s\u001b[0m 4ms/step - binary_crossentropy: 0.0159 - logloss: 0.0159 - loss: 0.0192 - val_binary_crossentropy: 0.0157 - val_logloss: 0.0157 - val_loss: 0.0189\n",
      "Epoch 42/192\n",
      "\u001b[1m160/160\u001b[0m \u001b[32m━━━━━━━━━━━━━━━━━━━━\u001b[0m\u001b[37m\u001b[0m \u001b[1m1s\u001b[0m 4ms/step - binary_crossentropy: 0.0158 - logloss: 0.0159 - loss: 0.0191 - val_binary_crossentropy: 0.0157 - val_logloss: 0.0157 - val_loss: 0.0189\n",
      "Epoch 43/192\n",
      "\u001b[1m160/160\u001b[0m \u001b[32m━━━━━━━━━━━━━━━━━━━━\u001b[0m\u001b[37m\u001b[0m \u001b[1m1s\u001b[0m 4ms/step - binary_crossentropy: 0.0158 - logloss: 0.0159 - loss: 0.0191 - val_binary_crossentropy: 0.0157 - val_logloss: 0.0157 - val_loss: 0.0188\n",
      "Epoch 44/192\n",
      "\u001b[1m160/160\u001b[0m \u001b[32m━━━━━━━━━━━━━━━━━━━━\u001b[0m\u001b[37m\u001b[0m \u001b[1m1s\u001b[0m 4ms/step - binary_crossentropy: 0.0158 - logloss: 0.0158 - loss: 0.0191 - val_binary_crossentropy: 0.0157 - val_logloss: 0.0157 - val_loss: 0.0188\n",
      "Epoch 45/192\n",
      "\u001b[1m160/160\u001b[0m \u001b[32m━━━━━━━━━━━━━━━━━━━━\u001b[0m\u001b[37m\u001b[0m \u001b[1m1s\u001b[0m 4ms/step - binary_crossentropy: 0.0158 - logloss: 0.0159 - loss: 0.0191 - val_binary_crossentropy: 0.0157 - val_logloss: 0.0157 - val_loss: 0.0188\n",
      "Epoch 46/192\n",
      "\u001b[1m160/160\u001b[0m \u001b[32m━━━━━━━━━━━━━━━━━━━━\u001b[0m\u001b[37m\u001b[0m \u001b[1m1s\u001b[0m 4ms/step - binary_crossentropy: 0.0158 - logloss: 0.0158 - loss: 0.0191 - val_binary_crossentropy: 0.0157 - val_logloss: 0.0157 - val_loss: 0.0189\n",
      "Epoch 47/192\n",
      "\u001b[1m160/160\u001b[0m \u001b[32m━━━━━━━━━━━━━━━━━━━━\u001b[0m\u001b[37m\u001b[0m \u001b[1m1s\u001b[0m 4ms/step - binary_crossentropy: 0.0158 - logloss: 0.0159 - loss: 0.0191 - val_binary_crossentropy: 0.0157 - val_logloss: 0.0157 - val_loss: 0.0188\n",
      "Epoch 48/192\n",
      "\u001b[1m160/160\u001b[0m \u001b[32m━━━━━━━━━━━━━━━━━━━━\u001b[0m\u001b[37m\u001b[0m \u001b[1m1s\u001b[0m 4ms/step - binary_crossentropy: 0.0158 - logloss: 0.0158 - loss: 0.0191 - val_binary_crossentropy: 0.0157 - val_logloss: 0.0157 - val_loss: 0.0188\n",
      "Epoch 49/192\n",
      "\u001b[1m160/160\u001b[0m \u001b[32m━━━━━━━━━━━━━━━━━━━━\u001b[0m\u001b[37m\u001b[0m \u001b[1m1s\u001b[0m 4ms/step - binary_crossentropy: 0.0159 - logloss: 0.0159 - loss: 0.0192 - val_binary_crossentropy: 0.0157 - val_logloss: 0.0157 - val_loss: 0.0188\n",
      "Epoch 50/192\n",
      "\u001b[1m160/160\u001b[0m \u001b[32m━━━━━━━━━━━━━━━━━━━━\u001b[0m\u001b[37m\u001b[0m \u001b[1m1s\u001b[0m 4ms/step - binary_crossentropy: 0.0158 - logloss: 0.0158 - loss: 0.0191 - val_binary_crossentropy: 0.0157 - val_logloss: 0.0157 - val_loss: 0.0188\n",
      "Epoch 51/192\n",
      "\u001b[1m160/160\u001b[0m \u001b[32m━━━━━━━━━━━━━━━━━━━━\u001b[0m\u001b[37m\u001b[0m \u001b[1m1s\u001b[0m 4ms/step - binary_crossentropy: 0.0158 - logloss: 0.0159 - loss: 0.0191 - val_binary_crossentropy: 0.0157 - val_logloss: 0.0157 - val_loss: 0.0188\n",
      "Epoch 52/192\n",
      "\u001b[1m160/160\u001b[0m \u001b[32m━━━━━━━━━━━━━━━━━━━━\u001b[0m\u001b[37m\u001b[0m \u001b[1m1s\u001b[0m 4ms/step - binary_crossentropy: 0.0157 - logloss: 0.0158 - loss: 0.0190 - val_binary_crossentropy: 0.0156 - val_logloss: 0.0156 - val_loss: 0.0188\n",
      "Epoch 53/192\n",
      "\u001b[1m160/160\u001b[0m \u001b[32m━━━━━━━━━━━━━━━━━━━━\u001b[0m\u001b[37m\u001b[0m \u001b[1m1s\u001b[0m 4ms/step - binary_crossentropy: 0.0158 - logloss: 0.0158 - loss: 0.0191 - val_binary_crossentropy: 0.0157 - val_logloss: 0.0157 - val_loss: 0.0188\n",
      "Epoch 54/192\n",
      "\u001b[1m160/160\u001b[0m \u001b[32m━━━━━━━━━━━━━━━━━━━━\u001b[0m\u001b[37m\u001b[0m \u001b[1m1s\u001b[0m 4ms/step - binary_crossentropy: 0.0158 - logloss: 0.0159 - loss: 0.0191 - val_binary_crossentropy: 0.0157 - val_logloss: 0.0156 - val_loss: 0.0188\n",
      "Epoch 55/192\n",
      "\u001b[1m160/160\u001b[0m \u001b[32m━━━━━━━━━━━━━━━━━━━━\u001b[0m\u001b[37m\u001b[0m \u001b[1m1s\u001b[0m 4ms/step - binary_crossentropy: 0.0158 - logloss: 0.0158 - loss: 0.0191 - val_binary_crossentropy: 0.0156 - val_logloss: 0.0156 - val_loss: 0.0188\n",
      "Epoch 56/192\n",
      "\u001b[1m160/160\u001b[0m \u001b[32m━━━━━━━━━━━━━━━━━━━━\u001b[0m\u001b[37m\u001b[0m \u001b[1m1s\u001b[0m 4ms/step - binary_crossentropy: 0.0158 - logloss: 0.0159 - loss: 0.0191 - val_binary_crossentropy: 0.0156 - val_logloss: 0.0156 - val_loss: 0.0188\n",
      "Epoch 57/192\n",
      "\u001b[1m160/160\u001b[0m \u001b[32m━━━━━━━━━━━━━━━━━━━━\u001b[0m\u001b[37m\u001b[0m \u001b[1m1s\u001b[0m 4ms/step - binary_crossentropy: 0.0158 - logloss: 0.0158 - loss: 0.0191 - val_binary_crossentropy: 0.0156 - val_logloss: 0.0156 - val_loss: 0.0188\n",
      "Epoch 58/192\n",
      "\u001b[1m160/160\u001b[0m \u001b[32m━━━━━━━━━━━━━━━━━━━━\u001b[0m\u001b[37m\u001b[0m \u001b[1m1s\u001b[0m 4ms/step - binary_crossentropy: 0.0158 - logloss: 0.0158 - loss: 0.0190 - val_binary_crossentropy: 0.0156 - val_logloss: 0.0156 - val_loss: 0.0188\n",
      "Epoch 59/192\n",
      "\u001b[1m160/160\u001b[0m \u001b[32m━━━━━━━━━━━━━━━━━━━━\u001b[0m\u001b[37m\u001b[0m \u001b[1m1s\u001b[0m 4ms/step - binary_crossentropy: 0.0158 - logloss: 0.0159 - loss: 0.0191 - val_binary_crossentropy: 0.0156 - val_logloss: 0.0156 - val_loss: 0.0188\n",
      "Epoch 60/192\n",
      "\u001b[1m160/160\u001b[0m \u001b[32m━━━━━━━━━━━━━━━━━━━━\u001b[0m\u001b[37m\u001b[0m \u001b[1m1s\u001b[0m 4ms/step - binary_crossentropy: 0.0157 - logloss: 0.0158 - loss: 0.0190 - val_binary_crossentropy: 0.0156 - val_logloss: 0.0156 - val_loss: 0.0188\n",
      "Epoch 61/192\n",
      "\u001b[1m160/160\u001b[0m \u001b[32m━━━━━━━━━━━━━━━━━━━━\u001b[0m\u001b[37m\u001b[0m \u001b[1m1s\u001b[0m 4ms/step - binary_crossentropy: 0.0158 - logloss: 0.0158 - loss: 0.0191 - val_binary_crossentropy: 0.0156 - val_logloss: 0.0156 - val_loss: 0.0188\n",
      "Epoch 62/192\n",
      "\u001b[1m160/160\u001b[0m \u001b[32m━━━━━━━━━━━━━━━━━━━━\u001b[0m\u001b[37m\u001b[0m \u001b[1m1s\u001b[0m 4ms/step - binary_crossentropy: 0.0158 - logloss: 0.0158 - loss: 0.0191 - val_binary_crossentropy: 0.0156 - val_logloss: 0.0156 - val_loss: 0.0188\n",
      "Epoch 63/192\n",
      "\u001b[1m160/160\u001b[0m \u001b[32m━━━━━━━━━━━━━━━━━━━━\u001b[0m\u001b[37m\u001b[0m \u001b[1m1s\u001b[0m 4ms/step - binary_crossentropy: 0.0158 - logloss: 0.0158 - loss: 0.0191 - val_binary_crossentropy: 0.0156 - val_logloss: 0.0156 - val_loss: 0.0188\n",
      "Epoch 64/192\n",
      "\u001b[1m160/160\u001b[0m \u001b[32m━━━━━━━━━━━━━━━━━━━━\u001b[0m\u001b[37m\u001b[0m \u001b[1m1s\u001b[0m 4ms/step - binary_crossentropy: 0.0158 - logloss: 0.0158 - loss: 0.0191 - val_binary_crossentropy: 0.0156 - val_logloss: 0.0156 - val_loss: 0.0188\n",
      "Epoch 65/192\n",
      "\u001b[1m160/160\u001b[0m \u001b[32m━━━━━━━━━━━━━━━━━━━━\u001b[0m\u001b[37m\u001b[0m \u001b[1m1s\u001b[0m 4ms/step - binary_crossentropy: 0.0158 - logloss: 0.0158 - loss: 0.0191 - val_binary_crossentropy: 0.0156 - val_logloss: 0.0156 - val_loss: 0.0188\n",
      "Epoch 66/192\n",
      "\u001b[1m160/160\u001b[0m \u001b[32m━━━━━━━━━━━━━━━━━━━━\u001b[0m\u001b[37m\u001b[0m \u001b[1m1s\u001b[0m 4ms/step - binary_crossentropy: 0.0157 - logloss: 0.0158 - loss: 0.0190 - val_binary_crossentropy: 0.0156 - val_logloss: 0.0156 - val_loss: 0.0188\n",
      "Epoch 67/192\n",
      "\u001b[1m160/160\u001b[0m \u001b[32m━━━━━━━━━━━━━━━━━━━━\u001b[0m\u001b[37m\u001b[0m \u001b[1m1s\u001b[0m 4ms/step - binary_crossentropy: 0.0158 - logloss: 0.0158 - loss: 0.0191 - val_binary_crossentropy: 0.0156 - val_logloss: 0.0156 - val_loss: 0.0188\n",
      "Epoch 68/192\n",
      "\u001b[1m160/160\u001b[0m \u001b[32m━━━━━━━━━━━━━━━━━━━━\u001b[0m\u001b[37m\u001b[0m \u001b[1m1s\u001b[0m 4ms/step - binary_crossentropy: 0.0158 - logloss: 0.0158 - loss: 0.0191 - val_binary_crossentropy: 0.0156 - val_logloss: 0.0156 - val_loss: 0.0188\n",
      "Epoch 69/192\n",
      "\u001b[1m160/160\u001b[0m \u001b[32m━━━━━━━━━━━━━━━━━━━━\u001b[0m\u001b[37m\u001b[0m \u001b[1m1s\u001b[0m 4ms/step - binary_crossentropy: 0.0158 - logloss: 0.0158 - loss: 0.0191 - val_binary_crossentropy: 0.0156 - val_logloss: 0.0156 - val_loss: 0.0188\n",
      "Epoch 70/192\n",
      "\u001b[1m160/160\u001b[0m \u001b[32m━━━━━━━━━━━━━━━━━━━━\u001b[0m\u001b[37m\u001b[0m \u001b[1m1s\u001b[0m 4ms/step - binary_crossentropy: 0.0158 - logloss: 0.0158 - loss: 0.0191 - val_binary_crossentropy: 0.0156 - val_logloss: 0.0156 - val_loss: 0.0188\n",
      "Epoch 71/192\n",
      "\u001b[1m160/160\u001b[0m \u001b[32m━━━━━━━━━━━━━━━━━━━━\u001b[0m\u001b[37m\u001b[0m \u001b[1m1s\u001b[0m 5ms/step - binary_crossentropy: 0.0158 - logloss: 0.0158 - loss: 0.0191 - val_binary_crossentropy: 0.0156 - val_logloss: 0.0156 - val_loss: 0.0188\n",
      "Epoch 72/192\n",
      "\u001b[1m160/160\u001b[0m \u001b[32m━━━━━━━━━━━━━━━━━━━━\u001b[0m\u001b[37m\u001b[0m \u001b[1m1s\u001b[0m 4ms/step - binary_crossentropy: 0.0158 - logloss: 0.0158 - loss: 0.0191 - val_binary_crossentropy: 0.0156 - val_logloss: 0.0156 - val_loss: 0.0188\n",
      "Epoch 73/192\n",
      "\u001b[1m160/160\u001b[0m \u001b[32m━━━━━━━━━━━━━━━━━━━━\u001b[0m\u001b[37m\u001b[0m \u001b[1m1s\u001b[0m 4ms/step - binary_crossentropy: 0.0158 - logloss: 0.0159 - loss: 0.0191 - val_binary_crossentropy: 0.0156 - val_logloss: 0.0156 - val_loss: 0.0188\n",
      "Epoch 74/192\n",
      "\u001b[1m160/160\u001b[0m \u001b[32m━━━━━━━━━━━━━━━━━━━━\u001b[0m\u001b[37m\u001b[0m \u001b[1m1s\u001b[0m 4ms/step - binary_crossentropy: 0.0158 - logloss: 0.0158 - loss: 0.0191 - val_binary_crossentropy: 0.0156 - val_logloss: 0.0156 - val_loss: 0.0188\n",
      "Epoch 75/192\n",
      "\u001b[1m160/160\u001b[0m \u001b[32m━━━━━━━━━━━━━━━━━━━━\u001b[0m\u001b[37m\u001b[0m \u001b[1m1s\u001b[0m 4ms/step - binary_crossentropy: 0.0158 - logloss: 0.0158 - loss: 0.0191 - val_binary_crossentropy: 0.0156 - val_logloss: 0.0156 - val_loss: 0.0188\n",
      "Epoch 76/192\n",
      "\u001b[1m160/160\u001b[0m \u001b[32m━━━━━━━━━━━━━━━━━━━━\u001b[0m\u001b[37m\u001b[0m \u001b[1m1s\u001b[0m 4ms/step - binary_crossentropy: 0.0158 - logloss: 0.0158 - loss: 0.0191 - val_binary_crossentropy: 0.0156 - val_logloss: 0.0156 - val_loss: 0.0188\n",
      "Epoch 77/192\n",
      "\u001b[1m160/160\u001b[0m \u001b[32m━━━━━━━━━━━━━━━━━━━━\u001b[0m\u001b[37m\u001b[0m \u001b[1m1s\u001b[0m 5ms/step - binary_crossentropy: 0.0158 - logloss: 0.0158 - loss: 0.0191 - val_binary_crossentropy: 0.0156 - val_logloss: 0.0156 - val_loss: 0.0188\n",
      "Epoch 78/192\n",
      "\u001b[1m160/160\u001b[0m \u001b[32m━━━━━━━━━━━━━━━━━━━━\u001b[0m\u001b[37m\u001b[0m \u001b[1m1s\u001b[0m 5ms/step - binary_crossentropy: 0.0157 - logloss: 0.0158 - loss: 0.0190 - val_binary_crossentropy: 0.0156 - val_logloss: 0.0156 - val_loss: 0.0188\n",
      "Epoch 79/192\n",
      "\u001b[1m160/160\u001b[0m \u001b[32m━━━━━━━━━━━━━━━━━━━━\u001b[0m\u001b[37m\u001b[0m \u001b[1m1s\u001b[0m 5ms/step - binary_crossentropy: 0.0157 - logloss: 0.0158 - loss: 0.0190 - val_binary_crossentropy: 0.0156 - val_logloss: 0.0156 - val_loss: 0.0188\n",
      "Epoch 80/192\n",
      "\u001b[1m160/160\u001b[0m \u001b[32m━━━━━━━━━━━━━━━━━━━━\u001b[0m\u001b[37m\u001b[0m \u001b[1m1s\u001b[0m 4ms/step - binary_crossentropy: 0.0157 - logloss: 0.0158 - loss: 0.0190 - val_binary_crossentropy: 0.0156 - val_logloss: 0.0156 - val_loss: 0.0188\n",
      "Epoch 81/192\n",
      "\u001b[1m160/160\u001b[0m \u001b[32m━━━━━━━━━━━━━━━━━━━━\u001b[0m\u001b[37m\u001b[0m \u001b[1m1s\u001b[0m 4ms/step - binary_crossentropy: 0.0158 - logloss: 0.0158 - loss: 0.0191 - val_binary_crossentropy: 0.0156 - val_logloss: 0.0156 - val_loss: 0.0188\n",
      "Epoch 82/192\n",
      "\u001b[1m160/160\u001b[0m \u001b[32m━━━━━━━━━━━━━━━━━━━━\u001b[0m\u001b[37m\u001b[0m \u001b[1m1s\u001b[0m 4ms/step - binary_crossentropy: 0.0157 - logloss: 0.0157 - loss: 0.0190 - val_binary_crossentropy: 0.0156 - val_logloss: 0.0156 - val_loss: 0.0188\n",
      "Epoch 83/192\n",
      "\u001b[1m160/160\u001b[0m \u001b[32m━━━━━━━━━━━━━━━━━━━━\u001b[0m\u001b[37m\u001b[0m \u001b[1m1s\u001b[0m 4ms/step - binary_crossentropy: 0.0157 - logloss: 0.0158 - loss: 0.0190 - val_binary_crossentropy: 0.0156 - val_logloss: 0.0156 - val_loss: 0.0188\n",
      "Epoch 84/192\n",
      "\u001b[1m160/160\u001b[0m \u001b[32m━━━━━━━━━━━━━━━━━━━━\u001b[0m\u001b[37m\u001b[0m \u001b[1m1s\u001b[0m 4ms/step - binary_crossentropy: 0.0157 - logloss: 0.0158 - loss: 0.0190 - val_binary_crossentropy: 0.0156 - val_logloss: 0.0156 - val_loss: 0.0188\n",
      "Epoch 85/192\n",
      "\u001b[1m160/160\u001b[0m \u001b[32m━━━━━━━━━━━━━━━━━━━━\u001b[0m\u001b[37m\u001b[0m \u001b[1m1s\u001b[0m 4ms/step - binary_crossentropy: 0.0157 - logloss: 0.0157 - loss: 0.0190 - val_binary_crossentropy: 0.0156 - val_logloss: 0.0156 - val_loss: 0.0188\n",
      "Epoch 86/192\n",
      "\u001b[1m160/160\u001b[0m \u001b[32m━━━━━━━━━━━━━━━━━━━━\u001b[0m\u001b[37m\u001b[0m \u001b[1m1s\u001b[0m 4ms/step - binary_crossentropy: 0.0157 - logloss: 0.0158 - loss: 0.0190 - val_binary_crossentropy: 0.0156 - val_logloss: 0.0156 - val_loss: 0.0188\n",
      "Epoch 87/192\n",
      "\u001b[1m160/160\u001b[0m \u001b[32m━━━━━━━━━━━━━━━━━━━━\u001b[0m\u001b[37m\u001b[0m \u001b[1m1s\u001b[0m 4ms/step - binary_crossentropy: 0.0157 - logloss: 0.0158 - loss: 0.0190 - val_binary_crossentropy: 0.0156 - val_logloss: 0.0156 - val_loss: 0.0188\n",
      "Epoch 88/192\n",
      "\u001b[1m160/160\u001b[0m \u001b[32m━━━━━━━━━━━━━━━━━━━━\u001b[0m\u001b[37m\u001b[0m \u001b[1m1s\u001b[0m 4ms/step - binary_crossentropy: 0.0158 - logloss: 0.0158 - loss: 0.0191 - val_binary_crossentropy: 0.0156 - val_logloss: 0.0156 - val_loss: 0.0188\n",
      "Epoch 89/192\n",
      "\u001b[1m160/160\u001b[0m \u001b[32m━━━━━━━━━━━━━━━━━━━━\u001b[0m\u001b[37m\u001b[0m \u001b[1m1s\u001b[0m 4ms/step - binary_crossentropy: 0.0157 - logloss: 0.0158 - loss: 0.0190 - val_binary_crossentropy: 0.0156 - val_logloss: 0.0156 - val_loss: 0.0188\n",
      "Epoch 90/192\n",
      "\u001b[1m160/160\u001b[0m \u001b[32m━━━━━━━━━━━━━━━━━━━━\u001b[0m\u001b[37m\u001b[0m \u001b[1m1s\u001b[0m 4ms/step - binary_crossentropy: 0.0157 - logloss: 0.0158 - loss: 0.0190 - val_binary_crossentropy: 0.0156 - val_logloss: 0.0156 - val_loss: 0.0188\n",
      "\u001b[1m102/107\u001b[0m \u001b[32m━━━━━━━━━━━━━━━━━━━\u001b[0m\u001b[37m━\u001b[0m \u001b[1m0s\u001b[0m 2ms/step"
     ]
    },
    {
     "name": "stderr",
     "output_type": "stream",
     "text": [
      "W0000 00:00:1716235353.894980      72 graph_launch.cc:671] Fallback to op-by-op mode because memset node breaks graph update\n"
     ]
    },
    {
     "name": "stdout",
     "output_type": "stream",
     "text": [
      "\u001b[1m107/107\u001b[0m \u001b[32m━━━━━━━━━━━━━━━━━━━━\u001b[0m\u001b[37m\u001b[0m \u001b[1m1s\u001b[0m 4ms/step\n",
      "\u001b[1m125/125\u001b[0m \u001b[32m━━━━━━━━━━━━━━━━━━━━\u001b[0m\u001b[37m\u001b[0m \u001b[1m0s\u001b[0m 3ms/step\n",
      "Epoch 1/192\n",
      "\u001b[1m 34/160\u001b[0m \u001b[32m━━━━\u001b[0m\u001b[37m━━━━━━━━━━━━━━━━\u001b[0m \u001b[1m0s\u001b[0m 5ms/step - binary_crossentropy: 0.0259 - logloss: 0.0258 - loss: 0.0291"
     ]
    },
    {
     "name": "stderr",
     "output_type": "stream",
     "text": [
      "W0000 00:00:1716235367.020935      73 graph_launch.cc:671] Fallback to op-by-op mode because memset node breaks graph update\n"
     ]
    },
    {
     "name": "stdout",
     "output_type": "stream",
     "text": [
      "\u001b[1m160/160\u001b[0m \u001b[32m━━━━━━━━━━━━━━━━━━━━\u001b[0m\u001b[37m\u001b[0m \u001b[1m0s\u001b[0m 51ms/step - binary_crossentropy: 0.0237 - logloss: 0.0236 - loss: 0.0269"
     ]
    },
    {
     "name": "stderr",
     "output_type": "stream",
     "text": [
      "W0000 00:00:1716235375.194561      71 graph_launch.cc:671] Fallback to op-by-op mode because memset node breaks graph update\n",
      "W0000 00:00:1716235375.865823      71 graph_launch.cc:671] Fallback to op-by-op mode because memset node breaks graph update\n"
     ]
    },
    {
     "name": "stdout",
     "output_type": "stream",
     "text": [
      "\u001b[1m160/160\u001b[0m \u001b[32m━━━━━━━━━━━━━━━━━━━━\u001b[0m\u001b[37m\u001b[0m \u001b[1m21s\u001b[0m 58ms/step - binary_crossentropy: 0.0237 - logloss: 0.0236 - loss: 0.0269 - val_binary_crossentropy: 0.0185 - val_logloss: 0.0184 - val_loss: 0.0217 - learning_rate: 3.2250e-04\n",
      "Epoch 2/192\n",
      "\u001b[1m 22/160\u001b[0m \u001b[32m━━\u001b[0m\u001b[37m━━━━━━━━━━━━━━━━━━\u001b[0m \u001b[1m0s\u001b[0m 5ms/step - binary_crossentropy: 0.0196 - logloss: 0.0196 - loss: 0.0228"
     ]
    },
    {
     "name": "stderr",
     "output_type": "stream",
     "text": [
      "W0000 00:00:1716235376.266374      70 graph_launch.cc:671] Fallback to op-by-op mode because memset node breaks graph update\n"
     ]
    },
    {
     "name": "stdout",
     "output_type": "stream",
     "text": [
      "\u001b[1m160/160\u001b[0m \u001b[32m━━━━━━━━━━━━━━━━━━━━\u001b[0m\u001b[37m\u001b[0m \u001b[1m1s\u001b[0m 5ms/step - binary_crossentropy: 0.0193 - logloss: 0.0193 - loss: 0.0225 - val_binary_crossentropy: 0.0179 - val_logloss: 0.0178 - val_loss: 0.0209 - learning_rate: 6.3500e-04\n",
      "Epoch 3/192\n",
      "\u001b[1m160/160\u001b[0m \u001b[32m━━━━━━━━━━━━━━━━━━━━\u001b[0m\u001b[37m\u001b[0m \u001b[1m1s\u001b[0m 5ms/step - binary_crossentropy: 0.0181 - logloss: 0.0181 - loss: 0.0213 - val_binary_crossentropy: 0.0174 - val_logloss: 0.0172 - val_loss: 0.0205 - learning_rate: 9.4750e-04\n",
      "Epoch 4/192\n",
      "\u001b[1m160/160\u001b[0m \u001b[32m━━━━━━━━━━━━━━━━━━━━\u001b[0m\u001b[37m\u001b[0m \u001b[1m1s\u001b[0m 5ms/step - binary_crossentropy: 0.0175 - logloss: 0.0175 - loss: 0.0208 - val_binary_crossentropy: 0.0171 - val_logloss: 0.0170 - val_loss: 0.0203 - learning_rate: 0.0013\n",
      "Epoch 5/192\n",
      "\u001b[1m160/160\u001b[0m \u001b[32m━━━━━━━━━━━━━━━━━━━━\u001b[0m\u001b[37m\u001b[0m \u001b[1m1s\u001b[0m 4ms/step - binary_crossentropy: 0.0173 - logloss: 0.0173 - loss: 0.0206 - val_binary_crossentropy: 0.0168 - val_logloss: 0.0168 - val_loss: 0.0201 - learning_rate: 0.0016\n",
      "Epoch 6/192\n",
      "\u001b[1m160/160\u001b[0m \u001b[32m━━━━━━━━━━━━━━━━━━━━\u001b[0m\u001b[37m\u001b[0m \u001b[1m1s\u001b[0m 4ms/step - binary_crossentropy: 0.0172 - logloss: 0.0172 - loss: 0.0205 - val_binary_crossentropy: 0.0168 - val_logloss: 0.0168 - val_loss: 0.0201 - learning_rate: 0.0019\n",
      "Epoch 7/192\n",
      "\u001b[1m160/160\u001b[0m \u001b[32m━━━━━━━━━━━━━━━━━━━━\u001b[0m\u001b[37m\u001b[0m \u001b[1m1s\u001b[0m 4ms/step - binary_crossentropy: 0.0171 - logloss: 0.0171 - loss: 0.0204 - val_binary_crossentropy: 0.0172 - val_logloss: 0.0171 - val_loss: 0.0205 - learning_rate: 0.0022\n",
      "Epoch 8/192\n",
      "\u001b[1m160/160\u001b[0m \u001b[32m━━━━━━━━━━━━━━━━━━━━\u001b[0m\u001b[37m\u001b[0m \u001b[1m1s\u001b[0m 4ms/step - binary_crossentropy: 0.0170 - logloss: 0.0170 - loss: 0.0203 - val_binary_crossentropy: 0.0167 - val_logloss: 0.0167 - val_loss: 0.0202 - learning_rate: 0.0025\n",
      "Epoch 9/192\n",
      "\u001b[1m160/160\u001b[0m \u001b[32m━━━━━━━━━━━━━━━━━━━━\u001b[0m\u001b[37m\u001b[0m \u001b[1m1s\u001b[0m 4ms/step - binary_crossentropy: 0.0170 - logloss: 0.0170 - loss: 0.0204 - val_binary_crossentropy: 0.0170 - val_logloss: 0.0170 - val_loss: 0.0203 - learning_rate: 0.0028\n",
      "Epoch 10/192\n",
      "\u001b[1m160/160\u001b[0m \u001b[32m━━━━━━━━━━━━━━━━━━━━\u001b[0m\u001b[37m\u001b[0m \u001b[1m1s\u001b[0m 4ms/step - binary_crossentropy: 0.0168 - logloss: 0.0168 - loss: 0.0202 - val_binary_crossentropy: 0.0164 - val_logloss: 0.0164 - val_loss: 0.0198 - learning_rate: 0.0025\n",
      "Epoch 11/192\n",
      "\u001b[1m160/160\u001b[0m \u001b[32m━━━━━━━━━━━━━━━━━━━━\u001b[0m\u001b[37m\u001b[0m \u001b[1m1s\u001b[0m 4ms/step - binary_crossentropy: 0.0166 - logloss: 0.0167 - loss: 0.0200 - val_binary_crossentropy: 0.0164 - val_logloss: 0.0165 - val_loss: 0.0197 - learning_rate: 0.0022\n",
      "Epoch 12/192\n",
      "\u001b[1m160/160\u001b[0m \u001b[32m━━━━━━━━━━━━━━━━━━━━\u001b[0m\u001b[37m\u001b[0m \u001b[1m1s\u001b[0m 4ms/step - binary_crossentropy: 0.0165 - logloss: 0.0165 - loss: 0.0199 - val_binary_crossentropy: 0.0162 - val_logloss: 0.0163 - val_loss: 0.0196 - learning_rate: 0.0019\n",
      "Epoch 13/192\n",
      "\u001b[1m160/160\u001b[0m \u001b[32m━━━━━━━━━━━━━━━━━━━━\u001b[0m\u001b[37m\u001b[0m \u001b[1m1s\u001b[0m 4ms/step - binary_crossentropy: 0.0164 - logloss: 0.0164 - loss: 0.0197 - val_binary_crossentropy: 0.0162 - val_logloss: 0.0162 - val_loss: 0.0194 - learning_rate: 0.0016\n",
      "Epoch 14/192\n",
      "\u001b[1m160/160\u001b[0m \u001b[32m━━━━━━━━━━━━━━━━━━━━\u001b[0m\u001b[37m\u001b[0m \u001b[1m1s\u001b[0m 4ms/step - binary_crossentropy: 0.0163 - logloss: 0.0164 - loss: 0.0196 - val_binary_crossentropy: 0.0160 - val_logloss: 0.0160 - val_loss: 0.0192 - learning_rate: 0.0013\n",
      "Epoch 15/192\n",
      "\u001b[1m160/160\u001b[0m \u001b[32m━━━━━━━━━━━━━━━━━━━━\u001b[0m\u001b[37m\u001b[0m \u001b[1m1s\u001b[0m 4ms/step - binary_crossentropy: 0.0162 - logloss: 0.0162 - loss: 0.0195 - val_binary_crossentropy: 0.0160 - val_logloss: 0.0160 - val_loss: 0.0192 - learning_rate: 9.4750e-04\n",
      "Epoch 16/192\n",
      "\u001b[1m160/160\u001b[0m \u001b[32m━━━━━━━━━━━━━━━━━━━━\u001b[0m\u001b[37m\u001b[0m \u001b[1m1s\u001b[0m 4ms/step - binary_crossentropy: 0.0161 - logloss: 0.0161 - loss: 0.0194 - val_binary_crossentropy: 0.0159 - val_logloss: 0.0160 - val_loss: 0.0191 - learning_rate: 6.3500e-04\n",
      "Epoch 17/192\n",
      "\u001b[1m160/160\u001b[0m \u001b[32m━━━━━━━━━━━━━━━━━━━━\u001b[0m\u001b[37m\u001b[0m \u001b[1m1s\u001b[0m 4ms/step - binary_crossentropy: 0.0160 - logloss: 0.0160 - loss: 0.0193 - val_binary_crossentropy: 0.0160 - val_logloss: 0.0161 - val_loss: 0.0192 - learning_rate: 7.4996e-04\n",
      "Epoch 18/192\n",
      "\u001b[1m160/160\u001b[0m \u001b[32m━━━━━━━━━━━━━━━━━━━━\u001b[0m\u001b[37m\u001b[0m \u001b[1m1s\u001b[0m 4ms/step - binary_crossentropy: 0.0160 - logloss: 0.0160 - loss: 0.0193 - val_binary_crossentropy: 0.0159 - val_logloss: 0.0159 - val_loss: 0.0191 - learning_rate: 8.6492e-04\n",
      "Epoch 19/192\n",
      "\u001b[1m160/160\u001b[0m \u001b[32m━━━━━━━━━━━━━━━━━━━━\u001b[0m\u001b[37m\u001b[0m \u001b[1m1s\u001b[0m 4ms/step - binary_crossentropy: 0.0160 - logloss: 0.0160 - loss: 0.0193 - val_binary_crossentropy: 0.0158 - val_logloss: 0.0159 - val_loss: 0.0191 - learning_rate: 9.7989e-04\n",
      "Epoch 20/192\n",
      "\u001b[1m160/160\u001b[0m \u001b[32m━━━━━━━━━━━━━━━━━━━━\u001b[0m\u001b[37m\u001b[0m \u001b[1m1s\u001b[0m 4ms/step - binary_crossentropy: 0.0161 - logloss: 0.0161 - loss: 0.0194 - val_binary_crossentropy: 0.0160 - val_logloss: 0.0160 - val_loss: 0.0192 - learning_rate: 0.0011\n",
      "Epoch 21/192\n",
      "\u001b[1m160/160\u001b[0m \u001b[32m━━━━━━━━━━━━━━━━━━━━\u001b[0m\u001b[37m\u001b[0m \u001b[1m1s\u001b[0m 4ms/step - binary_crossentropy: 0.0160 - logloss: 0.0161 - loss: 0.0194 - val_binary_crossentropy: 0.0160 - val_logloss: 0.0160 - val_loss: 0.0193 - learning_rate: 0.0012\n",
      "Epoch 22/192\n",
      "\u001b[1m160/160\u001b[0m \u001b[32m━━━━━━━━━━━━━━━━━━━━\u001b[0m\u001b[37m\u001b[0m \u001b[1m1s\u001b[0m 4ms/step - binary_crossentropy: 0.0161 - logloss: 0.0161 - loss: 0.0194 - val_binary_crossentropy: 0.0159 - val_logloss: 0.0159 - val_loss: 0.0192 - learning_rate: 0.0013\n",
      "Epoch 23/192\n",
      "\u001b[1m160/160\u001b[0m \u001b[32m━━━━━━━━━━━━━━━━━━━━\u001b[0m\u001b[37m\u001b[0m \u001b[1m1s\u001b[0m 4ms/step - binary_crossentropy: 0.0161 - logloss: 0.0161 - loss: 0.0194 - val_binary_crossentropy: 0.0159 - val_logloss: 0.0159 - val_loss: 0.0191 - learning_rate: 0.0014\n",
      "Epoch 24/192\n",
      "\u001b[1m160/160\u001b[0m \u001b[32m━━━━━━━━━━━━━━━━━━━━\u001b[0m\u001b[37m\u001b[0m \u001b[1m1s\u001b[0m 4ms/step - binary_crossentropy: 0.0161 - logloss: 0.0161 - loss: 0.0194 - val_binary_crossentropy: 0.0160 - val_logloss: 0.0160 - val_loss: 0.0192 - learning_rate: 0.0016\n",
      "Epoch 1/192\n",
      "\u001b[1m 34/160\u001b[0m \u001b[32m━━━━\u001b[0m\u001b[37m━━━━━━━━━━━━━━━━\u001b[0m \u001b[1m0s\u001b[0m 5ms/step - binary_crossentropy: 0.0160 - logloss: 0.0160 - loss: 0.0193"
     ]
    },
    {
     "name": "stderr",
     "output_type": "stream",
     "text": [
      "W0000 00:00:1716235403.462107      70 graph_launch.cc:671] Fallback to op-by-op mode because memset node breaks graph update\n"
     ]
    },
    {
     "name": "stdout",
     "output_type": "stream",
     "text": [
      "\u001b[1m160/160\u001b[0m \u001b[32m━━━━━━━━━━━━━━━━━━━━\u001b[0m\u001b[37m\u001b[0m \u001b[1m0s\u001b[0m 50ms/step - binary_crossentropy: 0.0161 - logloss: 0.0161 - loss: 0.0194"
     ]
    },
    {
     "name": "stderr",
     "output_type": "stream",
     "text": [
      "W0000 00:00:1716235411.389267      71 graph_launch.cc:671] Fallback to op-by-op mode because memset node breaks graph update\n",
      "W0000 00:00:1716235412.053320      73 graph_launch.cc:671] Fallback to op-by-op mode because memset node breaks graph update\n"
     ]
    },
    {
     "name": "stdout",
     "output_type": "stream",
     "text": [
      "\u001b[1m160/160\u001b[0m \u001b[32m━━━━━━━━━━━━━━━━━━━━\u001b[0m\u001b[37m\u001b[0m \u001b[1m19s\u001b[0m 57ms/step - binary_crossentropy: 0.0161 - logloss: 0.0161 - loss: 0.0194 - val_binary_crossentropy: 0.0159 - val_logloss: 0.0160 - val_loss: 0.0192\n",
      "Epoch 2/192\n",
      "\u001b[1m 22/160\u001b[0m \u001b[32m━━\u001b[0m\u001b[37m━━━━━━━━━━━━━━━━━━\u001b[0m \u001b[1m0s\u001b[0m 5ms/step - binary_crossentropy: 0.0159 - logloss: 0.0159 - loss: 0.0192"
     ]
    },
    {
     "name": "stderr",
     "output_type": "stream",
     "text": [
      "W0000 00:00:1716235412.458097      70 graph_launch.cc:671] Fallback to op-by-op mode because memset node breaks graph update\n"
     ]
    },
    {
     "name": "stdout",
     "output_type": "stream",
     "text": [
      "\u001b[1m160/160\u001b[0m \u001b[32m━━━━━━━━━━━━━━━━━━━━\u001b[0m\u001b[37m\u001b[0m \u001b[1m1s\u001b[0m 6ms/step - binary_crossentropy: 0.0160 - logloss: 0.0161 - loss: 0.0193 - val_binary_crossentropy: 0.0159 - val_logloss: 0.0160 - val_loss: 0.0191\n",
      "Epoch 3/192\n",
      "\u001b[1m160/160\u001b[0m \u001b[32m━━━━━━━━━━━━━━━━━━━━\u001b[0m\u001b[37m\u001b[0m \u001b[1m1s\u001b[0m 5ms/step - binary_crossentropy: 0.0160 - logloss: 0.0161 - loss: 0.0193 - val_binary_crossentropy: 0.0159 - val_logloss: 0.0160 - val_loss: 0.0191\n",
      "Epoch 4/192\n",
      "\u001b[1m160/160\u001b[0m \u001b[32m━━━━━━━━━━━━━━━━━━━━\u001b[0m\u001b[37m\u001b[0m \u001b[1m1s\u001b[0m 4ms/step - binary_crossentropy: 0.0160 - logloss: 0.0160 - loss: 0.0193 - val_binary_crossentropy: 0.0159 - val_logloss: 0.0160 - val_loss: 0.0191\n",
      "Epoch 5/192\n",
      "\u001b[1m160/160\u001b[0m \u001b[32m━━━━━━━━━━━━━━━━━━━━\u001b[0m\u001b[37m\u001b[0m \u001b[1m1s\u001b[0m 4ms/step - binary_crossentropy: 0.0160 - logloss: 0.0160 - loss: 0.0193 - val_binary_crossentropy: 0.0159 - val_logloss: 0.0159 - val_loss: 0.0191\n",
      "\u001b[1m103/107\u001b[0m \u001b[32m━━━━━━━━━━━━━━━━━━━\u001b[0m\u001b[37m━\u001b[0m \u001b[1m0s\u001b[0m 1ms/step"
     ]
    },
    {
     "name": "stderr",
     "output_type": "stream",
     "text": [
      "W0000 00:00:1716235416.051521      72 graph_launch.cc:671] Fallback to op-by-op mode because memset node breaks graph update\n"
     ]
    },
    {
     "name": "stdout",
     "output_type": "stream",
     "text": [
      "\u001b[1m107/107\u001b[0m \u001b[32m━━━━━━━━━━━━━━━━━━━━\u001b[0m\u001b[37m\u001b[0m \u001b[1m1s\u001b[0m 4ms/step\n",
      "\u001b[1m125/125\u001b[0m \u001b[32m━━━━━━━━━━━━━━━━━━━━\u001b[0m\u001b[37m\u001b[0m \u001b[1m0s\u001b[0m 3ms/step\n"
     ]
    }
   ],
   "source": [
    "# create a Neural Network Model\n",
    "\n",
    "num_of_labels = y.shape[1]\n",
    "num_test_samples = test_features.shape[0]\n",
    "y = y.to_numpy()\n",
    "\n",
    "# predicting threshold  (p_min = 0.0005 p_max = 0.9995)\n",
    "\n",
    "def logloss(y_true, y_pred):\n",
    "    y_true = tf.cast(y_true, tf.float32)  # convert y_true to float32\n",
    "    y_pred = tf.clip_by_value(y_pred,0.0005, 0.9995)\n",
    "    return -backend.mean(y_true * backend.log(y_pred) + (1 - y_true) * backend.log(1 - y_pred))\n",
    "\n",
    "n_seeds = 3\n",
    "n_folds = 7\n",
    "hists = []\n",
    "oof = tf.constant(0.0)\n",
    "y_pred = np.zeros((num_test_samples, num_of_labels))\n",
    "bias = tf.keras.initializers.constant(np.log(y.mean(axis = 0)))\n",
    "\n",
    "# training loop\n",
    "seeds = [34, 9, 18]\n",
    "for seed in seeds:\n",
    "    fold = 0\n",
    "    stratifier = IterativeStratification(n_splits=7, order=1)\n",
    "    \n",
    "    for train_idx, test_idx in stratifier.split(x_1_train, y):\n",
    "        X_train = x_1_train[train_idx]\n",
    "        X_test = x_1_train[test_idx]\n",
    "        y_train = y[train_idx]\n",
    "        y_test = y[test_idx]\n",
    "        \n",
    "        model = Sequential([\n",
    "            layers.Dropout(0.3),\n",
    "            Dense(2048, activation = 'relu'),\n",
    "            BatchNormalization(),\n",
    "            layers.Dropout(0.5),\n",
    "            Dense(1024, activation = 'relu'),\n",
    "            BatchNormalization(),\n",
    "            layers.Dropout(0.5),\n",
    "            Dense(512),\n",
    "            BatchNormalization(),\n",
    "            layers.Dropout(0.3),\n",
    "            Dense(num_of_labels, activation = 'sigmoid', bias_initializer = bias)\n",
    "        ])\n",
    "        model.compile(optimizer = optimizers.Adam(learning_rate = 1e-5),\n",
    "                     loss = losses.BinaryCrossentropy(label_smoothing = 0.001),\n",
    "                     metrics = ['binary_crossentropy', logloss])\n",
    "        early_stopping = callbacks.EarlyStopping(monitor = 'val_logloss', patience = 5, mode = 'min')\n",
    "        def scheduler(epoch, lr):\n",
    "            if epoch % 16 < 9:\n",
    "                lr += np.exp(-int(epoch / 16)) * (0.5 * 1e-2) / 16\n",
    "            else:\n",
    "                lr -= np.exp(-int(epoch / 16)) * (0.5 * 1e-2) / 16\n",
    "            return lr\n",
    "        lr_scheduler = callbacks.LearningRateScheduler(scheduler)\n",
    "\n",
    "        history = model.fit(X_train, y_train, batch_size = 128, epochs = 192, verbose = 1,\n",
    "                           validation_data = (X_test, y_test), callbacks = [lr_scheduler, early_stopping])\n",
    "        \n",
    "        # run the model without callbacks = [lr_scheduler]\n",
    "        model.compile(optimizer = optimizers.Adam(learning_rate = 1e-5),\n",
    "                     loss = losses.BinaryCrossentropy(label_smoothing = 0.001),\n",
    "                     metrics = ['binary_crossentropy', logloss])\n",
    "        \n",
    "        \n",
    "        model.fit(X_train, y_train, batch_size = 128, epochs = 192, verbose = 1,\n",
    "                           validation_data = (X_test, y_test), callbacks = [early_stopping])\n",
    "        \n",
    "        hists.append(history)  \n",
    "        \n",
    "        model.save(f'AutoEncoded_seed_{seed}_fold_{fold}.h5')\n",
    "        \n",
    "        y_valid = model.predict(X_test)\n",
    "        oof += logloss(tf.constant(y_test, dtype = tf.float32),\n",
    "                      tf.constant(y_valid, dtype = tf.float32)) / (n_folds * n_seeds)\n",
    "        \n",
    "        y_pred += model.predict(x_1_test) / (n_folds * n_seeds)\n",
    "        \n",
    "        fold += 1"
   ]
  },
  {
   "cell_type": "code",
   "execution_count": 16,
   "id": "fcb153aa",
   "metadata": {
    "execution": {
     "iopub.execute_input": "2024-05-20T20:03:41.013417Z",
     "iopub.status.busy": "2024-05-20T20:03:41.013005Z",
     "iopub.status.idle": "2024-05-20T20:03:41.022378Z",
     "shell.execute_reply": "2024-05-20T20:03:41.021066Z"
    },
    "papermill": {
     "duration": 2.015427,
     "end_time": "2024-05-20T20:03:41.024628",
     "exception": false,
     "start_time": "2024-05-20T20:03:39.009201",
     "status": "completed"
    },
    "tags": []
   },
   "outputs": [
    {
     "name": "stdout",
     "output_type": "stream",
     "text": [
      "OOF score is  0.0157847125\n"
     ]
    }
   ],
   "source": [
    "tf.print('OOF score is ',oof)"
   ]
  },
  {
   "cell_type": "code",
   "execution_count": 17,
   "id": "da252cee",
   "metadata": {
    "execution": {
     "iopub.execute_input": "2024-05-20T20:03:45.014010Z",
     "iopub.status.busy": "2024-05-20T20:03:45.013586Z",
     "iopub.status.idle": "2024-05-20T20:03:45.632861Z",
     "shell.execute_reply": "2024-05-20T20:03:45.631836Z"
    },
    "papermill": {
     "duration": 2.598595,
     "end_time": "2024-05-20T20:03:45.635491",
     "exception": false,
     "start_time": "2024-05-20T20:03:43.036896",
     "status": "completed"
    },
    "tags": []
   },
   "outputs": [
    {
     "data": {
      "text/plain": [
       "<matplotlib.legend.Legend at 0x7ab45c319390>"
      ]
     },
     "execution_count": 17,
     "metadata": {},
     "output_type": "execute_result"
    },
    {
     "data": {
      "image/png": "[encoded data removed]",
      "text/plain": [
       "<Figure size 1200x800 with 1 Axes>"
      ]
     },
     "metadata": {},
     "output_type": "display_data"
    }
   ],
   "source": [
    "plt.figure(figsize=(12,8))\n",
    "\n",
    "hist_trains = []\n",
    "hist_lens = []\n",
    "for i in range(n_folds * n_seeds):\n",
    "    hist_train = (hists[i]).history['logloss']\n",
    "    hist_trains.append(hist_train)\n",
    "    hist_lens.append(len(hist_train))\n",
    "hist_train = []\n",
    "for i in range(min(hist_lens)):\n",
    "    hist_train.append(np.mean([hist_trains[j][i] for j in range(n_folds * n_seeds)]))\n",
    "plt.plot(hist_train)\n",
    "\n",
    "hist_vals = []\n",
    "hist_lens = []\n",
    "for i in range(n_folds * n_seeds):\n",
    "    hist_val = (hists[i]).history['val_logloss']\n",
    "    hist_vals.append(hist_val)\n",
    "    hist_lens.append(len(hist_val))\n",
    "hist_val = []\n",
    "for i in range(min(hist_lens)):\n",
    "    hist_val.append(np.mean([hist_vals[j][i] for j in range(n_folds * n_seeds)]))\n",
    "plt.plot(hist_val)\n",
    "\n",
    "plt.yscale('log')\n",
    "plt.xlabel('Epochs')\n",
    "plt.ylabel('Average Logloss')\n",
    "plt.legend(['Training','Validation'])"
   ]
  },
  {
   "cell_type": "code",
   "execution_count": 18,
   "id": "15b847a6",
   "metadata": {
    "execution": {
     "iopub.execute_input": "2024-05-20T20:03:49.586289Z",
     "iopub.status.busy": "2024-05-20T20:03:49.585875Z",
     "iopub.status.idle": "2024-05-20T20:03:51.760241Z",
     "shell.execute_reply": "2024-05-20T20:03:51.759173Z"
    },
    "papermill": {
     "duration": 4.146937,
     "end_time": "2024-05-20T20:03:51.762891",
     "exception": false,
     "start_time": "2024-05-20T20:03:47.615954",
     "status": "completed"
    },
    "tags": []
   },
   "outputs": [
    {
     "data": {
      "text/html": [
       "<div>\n",
       "<style scoped>\n",
       "    .dataframe tbody tr th:only-of-type {\n",
       "        vertical-align: middle;\n",
       "    }\n",
       "\n",
       "    .dataframe tbody tr th {\n",
       "        vertical-align: top;\n",
       "    }\n",
       "\n",
       "    .dataframe thead th {\n",
       "        text-align: right;\n",
       "    }\n",
       "</style>\n",
       "<table border=\"1\" class=\"dataframe\">\n",
       "  <thead>\n",
       "    <tr style=\"text-align: right;\">\n",
       "      <th></th>\n",
       "      <th>sig_id</th>\n",
       "      <th>5-alpha_reductase_inhibitor</th>\n",
       "      <th>11-beta-hsd1_inhibitor</th>\n",
       "      <th>acat_inhibitor</th>\n",
       "      <th>acetylcholine_receptor_agonist</th>\n",
       "      <th>acetylcholine_receptor_antagonist</th>\n",
       "      <th>acetylcholinesterase_inhibitor</th>\n",
       "      <th>adenosine_receptor_agonist</th>\n",
       "      <th>adenosine_receptor_antagonist</th>\n",
       "      <th>adenylyl_cyclase_activator</th>\n",
       "      <th>...</th>\n",
       "      <th>tropomyosin_receptor_kinase_inhibitor</th>\n",
       "      <th>trpv_agonist</th>\n",
       "      <th>trpv_antagonist</th>\n",
       "      <th>tubulin_inhibitor</th>\n",
       "      <th>tyrosine_kinase_inhibitor</th>\n",
       "      <th>ubiquitin_specific_protease_inhibitor</th>\n",
       "      <th>vegfr_inhibitor</th>\n",
       "      <th>vitamin_b</th>\n",
       "      <th>vitamin_d_receptor_agonist</th>\n",
       "      <th>wnt_inhibitor</th>\n",
       "    </tr>\n",
       "  </thead>\n",
       "  <tbody>\n",
       "    <tr>\n",
       "      <th>0</th>\n",
       "      <td>id_0004d9e33</td>\n",
       "      <td>0.001238</td>\n",
       "      <td>0.001541</td>\n",
       "      <td>0.001878</td>\n",
       "      <td>0.014549</td>\n",
       "      <td>0.024520</td>\n",
       "      <td>0.005375</td>\n",
       "      <td>0.003344</td>\n",
       "      <td>0.006008</td>\n",
       "      <td>0.000658</td>\n",
       "      <td>...</td>\n",
       "      <td>0.000940</td>\n",
       "      <td>0.001590</td>\n",
       "      <td>0.002728</td>\n",
       "      <td>0.001748</td>\n",
       "      <td>0.001910</td>\n",
       "      <td>0.001041</td>\n",
       "      <td>0.001137</td>\n",
       "      <td>0.003272</td>\n",
       "      <td>0.001819</td>\n",
       "      <td>0.001894</td>\n",
       "    </tr>\n",
       "    <tr>\n",
       "      <th>1</th>\n",
       "      <td>id_001897cda</td>\n",
       "      <td>0.000917</td>\n",
       "      <td>0.001337</td>\n",
       "      <td>0.001599</td>\n",
       "      <td>0.006242</td>\n",
       "      <td>0.012195</td>\n",
       "      <td>0.004607</td>\n",
       "      <td>0.003962</td>\n",
       "      <td>0.008063</td>\n",
       "      <td>0.003435</td>\n",
       "      <td>...</td>\n",
       "      <td>0.000638</td>\n",
       "      <td>0.001221</td>\n",
       "      <td>0.003182</td>\n",
       "      <td>0.001943</td>\n",
       "      <td>0.008021</td>\n",
       "      <td>0.000800</td>\n",
       "      <td>0.011927</td>\n",
       "      <td>0.001151</td>\n",
       "      <td>0.003892</td>\n",
       "      <td>0.002273</td>\n",
       "    </tr>\n",
       "    <tr>\n",
       "      <th>2</th>\n",
       "      <td>id_002429b5b</td>\n",
       "      <td>0.000649</td>\n",
       "      <td>0.000548</td>\n",
       "      <td>0.001692</td>\n",
       "      <td>0.009996</td>\n",
       "      <td>0.009990</td>\n",
       "      <td>0.001943</td>\n",
       "      <td>0.002346</td>\n",
       "      <td>0.002192</td>\n",
       "      <td>0.000500</td>\n",
       "      <td>...</td>\n",
       "      <td>0.000851</td>\n",
       "      <td>0.000559</td>\n",
       "      <td>0.002819</td>\n",
       "      <td>0.004129</td>\n",
       "      <td>0.001583</td>\n",
       "      <td>0.000500</td>\n",
       "      <td>0.003615</td>\n",
       "      <td>0.001614</td>\n",
       "      <td>0.001585</td>\n",
       "      <td>0.001935</td>\n",
       "    </tr>\n",
       "    <tr>\n",
       "      <th>3</th>\n",
       "      <td>id_00276f245</td>\n",
       "      <td>0.001035</td>\n",
       "      <td>0.001107</td>\n",
       "      <td>0.001703</td>\n",
       "      <td>0.013794</td>\n",
       "      <td>0.019012</td>\n",
       "      <td>0.005082</td>\n",
       "      <td>0.004057</td>\n",
       "      <td>0.005183</td>\n",
       "      <td>0.000500</td>\n",
       "      <td>...</td>\n",
       "      <td>0.000693</td>\n",
       "      <td>0.000761</td>\n",
       "      <td>0.003498</td>\n",
       "      <td>0.009656</td>\n",
       "      <td>0.003275</td>\n",
       "      <td>0.000537</td>\n",
       "      <td>0.003275</td>\n",
       "      <td>0.001863</td>\n",
       "      <td>0.001656</td>\n",
       "      <td>0.002430</td>\n",
       "    </tr>\n",
       "    <tr>\n",
       "      <th>4</th>\n",
       "      <td>id_0027f1083</td>\n",
       "      <td>0.001639</td>\n",
       "      <td>0.001495</td>\n",
       "      <td>0.001675</td>\n",
       "      <td>0.015412</td>\n",
       "      <td>0.020145</td>\n",
       "      <td>0.004203</td>\n",
       "      <td>0.004959</td>\n",
       "      <td>0.003280</td>\n",
       "      <td>0.000775</td>\n",
       "      <td>...</td>\n",
       "      <td>0.000935</td>\n",
       "      <td>0.000739</td>\n",
       "      <td>0.004477</td>\n",
       "      <td>0.004263</td>\n",
       "      <td>0.001826</td>\n",
       "      <td>0.000746</td>\n",
       "      <td>0.003994</td>\n",
       "      <td>0.001892</td>\n",
       "      <td>0.001039</td>\n",
       "      <td>0.001926</td>\n",
       "    </tr>\n",
       "  </tbody>\n",
       "</table>\n",
       "<p>5 rows × 207 columns</p>\n",
       "</div>"
      ],
      "text/plain": [
       "         sig_id  5-alpha_reductase_inhibitor  11-beta-hsd1_inhibitor  \\\n",
       "0  id_0004d9e33                     0.001238                0.001541   \n",
       "1  id_001897cda                     0.000917                0.001337   \n",
       "2  id_002429b5b                     0.000649                0.000548   \n",
       "3  id_00276f245                     0.001035                0.001107   \n",
       "4  id_0027f1083                     0.001639                0.001495   \n",
       "\n",
       "   acat_inhibitor  acetylcholine_receptor_agonist  \\\n",
       "0        0.001878                        0.014549   \n",
       "1        0.001599                        0.006242   \n",
       "2        0.001692                        0.009996   \n",
       "3        0.001703                        0.013794   \n",
       "4        0.001675                        0.015412   \n",
       "\n",
       "   acetylcholine_receptor_antagonist  acetylcholinesterase_inhibitor  \\\n",
       "0                           0.024520                        0.005375   \n",
       "1                           0.012195                        0.004607   \n",
       "2                           0.009990                        0.001943   \n",
       "3                           0.019012                        0.005082   \n",
       "4                           0.020145                        0.004203   \n",
       "\n",
       "   adenosine_receptor_agonist  adenosine_receptor_antagonist  \\\n",
       "0                    0.003344                       0.006008   \n",
       "1                    0.003962                       0.008063   \n",
       "2                    0.002346                       0.002192   \n",
       "3                    0.004057                       0.005183   \n",
       "4                    0.004959                       0.003280   \n",
       "\n",
       "   adenylyl_cyclase_activator  ...  tropomyosin_receptor_kinase_inhibitor  \\\n",
       "0                    0.000658  ...                               0.000940   \n",
       "1                    0.003435  ...                               0.000638   \n",
       "2                    0.000500  ...                               0.000851   \n",
       "3                    0.000500  ...                               0.000693   \n",
       "4                    0.000775  ...                               0.000935   \n",
       "\n",
       "   trpv_agonist  trpv_antagonist  tubulin_inhibitor  \\\n",
       "0      0.001590         0.002728           0.001748   \n",
       "1      0.001221         0.003182           0.001943   \n",
       "2      0.000559         0.002819           0.004129   \n",
       "3      0.000761         0.003498           0.009656   \n",
       "4      0.000739         0.004477           0.004263   \n",
       "\n",
       "   tyrosine_kinase_inhibitor  ubiquitin_specific_protease_inhibitor  \\\n",
       "0                   0.001910                               0.001041   \n",
       "1                   0.008021                               0.000800   \n",
       "2                   0.001583                               0.000500   \n",
       "3                   0.003275                               0.000537   \n",
       "4                   0.001826                               0.000746   \n",
       "\n",
       "   vegfr_inhibitor  vitamin_b  vitamin_d_receptor_agonist  wnt_inhibitor  \n",
       "0         0.001137   0.003272                    0.001819       0.001894  \n",
       "1         0.011927   0.001151                    0.003892       0.002273  \n",
       "2         0.003615   0.001614                    0.001585       0.001935  \n",
       "3         0.003275   0.001863                    0.001656       0.002430  \n",
       "4         0.003994   0.001892                    0.001039       0.001926  \n",
       "\n",
       "[5 rows x 207 columns]"
      ]
     },
     "execution_count": 18,
     "metadata": {},
     "output_type": "execute_result"
    }
   ],
   "source": [
    "p_min = 0.0005\n",
    "p_max = 0.9995\n",
    "\n",
    "# Generate submission file, Clip Predictions\n",
    "\n",
    "sub = pd.read_csv('/kaggle/input/lish-moa/sample_submission.csv')\n",
    "sub.iloc[:,1:] = np.clip(y_pred,p_min,p_max)\n",
    "\n",
    "# Save Submission\n",
    "sub.to_csv('submission.csv', index=False)\n",
    "sub.head()"
   ]
  },
  {
   "cell_type": "code",
   "execution_count": null,
   "id": "d1febf47",
   "metadata": {
    "papermill": {
     "duration": 1.974032,
     "end_time": "2024-05-20T20:03:55.858615",
     "exception": false,
     "start_time": "2024-05-20T20:03:53.884583",
     "status": "completed"
    },
    "tags": []
   },
   "outputs": [],
   "source": []
  }
 ],
 "metadata": {
  "kaggle": {
   "accelerator": "nvidiaTeslaT4",
   "dataSources": [
    {
     "databundleVersionId": 1651354,
     "sourceId": 19988,
     "sourceType": "competition"
    }
   ],
   "isGpuEnabled": true,
   "isInternetEnabled": false,
   "language": "python",
   "sourceType": "notebook"
  },
  "kernelspec": {
   "display_name": "Python 3",
   "language": "python",
   "name": "python3"
  },
  "language_info": {
   "codemirror_mode": {
    "name": "ipython",
    "version": 3
   },
   "file_extension": ".py",
   "mimetype": "text/x-python",
   "name": "python",
   "nbconvert_exporter": "python",
   "pygments_lexer": "ipython3",
   "version": "3.10.13"
  },
  "papermill": {
   "default_parameters": {},
   "duration": 1875.522858,
   "end_time": "2024-05-20T20:04:01.603912",
   "environment_variables": {},
   "exception": null,
   "input_path": "__notebook__.ipynb",
   "output_path": "__notebook__.ipynb",
   "parameters": {},
   "start_time": "2024-05-20T19:32:46.081054",
   "version": "2.5.0"
  }
 },
 "nbformat": 4,
 "nbformat_minor": 5
}
